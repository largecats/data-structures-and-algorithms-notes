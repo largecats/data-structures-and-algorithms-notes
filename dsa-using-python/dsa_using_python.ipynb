{
 "cells": [
  {
   "cell_type": "markdown",
   "metadata": {},
   "source": [
    "Reading notes and partial solutions to [Data Structures and Algorithms Using Python](https://doc.lagout.org/science/0_Computer%20Science/2_Algorithms/Data%20Structures%20and%20Algorithms%20using%20Python%20%5BNecaise%202010-12-21%5D.pdf)."
   ]
  },
  {
   "cell_type": "markdown",
   "metadata": {},
   "source": [
    "# Setting up"
   ]
  },
  {
   "cell_type": "code",
   "execution_count": 2,
   "metadata": {},
   "outputs": [],
   "source": [
    "import os\n",
    "\n",
    "# set working directory\n",
    "path = \"C:\\\\Users\\\\LinFan Xiao\\\\Fun\\\\programming\\\\data structures and algorithms\"\n",
    "os.chdir(path)"
   ]
  },
  {
   "cell_type": "markdown",
   "metadata": {},
   "source": [
    "# Abstract Data Types"
   ]
  },
  {
   "cell_type": "markdown",
   "metadata": {},
   "source": [
    "## Date ADT"
   ]
  },
  {
   "cell_type": "code",
   "execution_count": 3,
   "metadata": {},
   "outputs": [
    {
     "name": "stdout",
     "output_type": "stream",
     "text": [
      "Enter a birth date.\n",
      "month (0 to quit): 0\n"
     ]
    }
   ],
   "source": [
    "# Extracts a collection of birth dates from the user and determines if each individual is >= 21 years old\n",
    "\n",
    "# inherits from the inbuilt datetime.date class\n",
    "import datetime\n",
    "class Date(datetime.date):\n",
    "    pass\n",
    "\n",
    "def main():\n",
    "    # Date before which a person must have been born to be 21 or older now\n",
    "    bornBefore = Date(datetime.date.today().year - 21, datetime.date.today().month, datetime.date.today().day)\n",
    "\n",
    "    # Extract birth dates from the user and check if they are >= 21 yrs old\n",
    "    date = promptAndExtractDate()\n",
    "    while date is not None:\n",
    "        if date <= bornBefore:\n",
    "            print(\"Is at least 21 years old: \", date)\n",
    "        date = promptAndExtractDate()\n",
    "\n",
    "# Prompts for and extracts the Gregorian date components. Returns a Date object or None when the user has finished entering dates.\n",
    "def promptAndExtractDate():\n",
    "    print(\"Enter a birth date.\")\n",
    "    month = int(input(\"month (0 to quit): \"))\n",
    "    if month == 0:\n",
    "        return None\n",
    "    else:\n",
    "        day = int(input(\"day: \"))\n",
    "        year = int(input(\"year: \"))\n",
    "        return Date(year, month, day)\n",
    "\n",
    "# Call the main routine\n",
    "main()\n",
    "\n",
    "# Implements a proleptic Gregorian calendar date as a Julian day number.\n",
    "class Date:\n",
    "    # initializes a date object, which comes with a julian day attribute\n",
    "    def __init__(self, year = datetime.date.today().year, month = datetime.date.today().month, day = datetime.date.today().day):\n",
    "        # initialize julian day as 0\n",
    "        self._julianDay = 0\n",
    "        # assert followed by error msg\n",
    "        assert self._isValidGregorian(year, month, day), \"Invalid Gregorian date.\"\n",
    "    \n",
    "        tmp = 0\n",
    "        if month < 3:\n",
    "            tmp = -1\n",
    "        # formula to calculate julian day\n",
    "        self._julianDay = day - 32075 + (1461 * (year + 4800 + tmp) // 4) + (367 * (month - 2 - tmp * 12) // 12) - (3 * ((year + 4900 + tmp) // 100) // 4)\n",
    "\n",
    "    # extracts Gregorian date component\n",
    "    def year(self):\n",
    "        # returns y from (y, m, d)\n",
    "        return (self._toGregorian())[0]\n",
    "\n",
    "    def month(self):\n",
    "        # returns m from (y, m, d)\n",
    "        return (self._toGregorian())[1]\n",
    "\n",
    "    def day(self):\n",
    "        # returns d from (y, m, d)\n",
    "        return (self._toGregorian())[2]\n",
    "    \n",
    "    # returns day of the week as an int between 0 (Monday) and 6 (Sunday)\n",
    "    def dayOfWeek(self):\n",
    "        year, month, day = self._toGregorian()\n",
    "        # if month = 1, 2\n",
    "        if month < 3:\n",
    "            month = month + 12\n",
    "            year = year - 1\n",
    "        return ((13 * month + 3) // 5 + day + year + year // 4 - year // 100 + year // 400) % 7\n",
    "    \n",
    "    # returns date as string in Gregorian format\n",
    "    def __str__(self):\n",
    "        year, month, day = self._toGregorian()\n",
    "        return \"%04d/%02d/%02d\" % (year, month, day)\n",
    "    \n",
    "    # Date comparison\n",
    "    def __eq__(self, otherDate):\n",
    "        return self._julianDay == otherDate._julianDay\n",
    "    \n",
    "    # later\n",
    "    def __lt__(self, otherDate):\n",
    "        return self._julianDay < otherDate._julianDay\n",
    "\n",
    "    # earlier\n",
    "    def __le__(self, otherDate):\n",
    "        return self._julianDay <= otherDate._julianDay\n",
    "    \n",
    "    # returns the Gregorian date as a tuple (year, month, day)\n",
    "    def _toGregorian(self):\n",
    "        A = self._julianDay + 68569\n",
    "        B = 4 * A // 146097\n",
    "        A = A - (146097 * B + 3) // 4\n",
    "        year = 4000 * (A + 1) // 1461001\n",
    "        A = A - (1461 * year // 4) + 31\n",
    "        month = 80 * A // 2447\n",
    "        day = A - (2447 * month // 80)\n",
    "        A = month // 11\n",
    "        month = month + 2 - 12 * A\n",
    "        year = 100 * (B - 49) + year + A\n",
    "        return (year, month, day)\n",
    "    \n",
    "    # gets the English name of the month of a Gregorian date object\n",
    "    def monthName(self):\n",
    "        year, month, day = self._toGregorian()\n",
    "        if month == 1:\n",
    "            return \"January\"\n",
    "        elif month == 2:\n",
    "            return \"Feburary\"\n",
    "        elif month == 3:\n",
    "            return \"March\"\n",
    "        elif month == 4:\n",
    "            return \"April\"\n",
    "        elif month == 5:\n",
    "            return \"May\"\n",
    "        elif month == 6:\n",
    "            return \"June\"\n",
    "        elif month == 7:\n",
    "            return \"July\"\n",
    "        elif month == 8:\n",
    "            return \"August\"\n",
    "        elif month == 9:\n",
    "            return \"September\"\n",
    "        elif month == 10:\n",
    "            return \"October\"\n",
    "        elif month == 11:\n",
    "            return \"November\"\n",
    "        elif month == 12:\n",
    "            return \"December\"\n",
    "    \n",
    "    # checks whether a Gregorian date is in a leap year\n",
    "    def isLeapYear(self):\n",
    "        year, month, day = self._toGregorian()\n",
    "        return year // 4 == 0\n",
    "    \n",
    "    # returns the number of days between this date and otherDate\n",
    "    def numDays(self, otherDate):\n",
    "        return abs(self._julianDay - otherDate._julianDay)\n",
    "    \n",
    "    # advances a Gregorian date by a given number of days\n",
    "    def advanceBy(self, days):\n",
    "        newJulianDay = max(self._julianDay + days, 0)\n",
    "        def julianToGregorian(julianDay):\n",
    "            A = julianDay + 68569\n",
    "            B = 4 * A // 146097\n",
    "            A = A - (146097 * B + 3) // 4\n",
    "            year = 4000 * (A + 1) // 1461001\n",
    "            A = A - (1461 * year // 4) + 31\n",
    "            month = 80 * A // 2447\n",
    "            day = A - (2447 * month // 80)\n",
    "            A = month // 11\n",
    "            month = month + 2 - 12 * A\n",
    "            year = 100 * (B - 49) + year + A\n",
    "            return (year, month, day)\n",
    "        return julianToGregorian(newJulianDay)\n",
    "    \n",
    "    def _isValidGregorian(self, year, month ,day):\n",
    "        return (year >= -4714 and month >= 1 and month <= 12 and day >= 1 and day <= 31)"
   ]
  },
  {
   "cell_type": "code",
   "execution_count": 4,
   "metadata": {},
   "outputs": [
    {
     "data": {
      "text/plain": [
       "True"
      ]
     },
     "execution_count": 4,
     "metadata": {},
     "output_type": "execute_result"
    }
   ],
   "source": [
    "bDay = Date(1997, 5, 23)\n",
    "str(bDay)\n",
    "bDay.advanceBy(1)\n",
    "bDay.advanceBy(-1)\n",
    "bDay2 = Date(1983, 1, 12)\n",
    "bDay.numDays(bDay2)\n",
    "bDay > bDay2\n",
    "bDay >= bDay2"
   ]
  },
  {
   "cell_type": "markdown",
   "metadata": {},
   "source": [
    "## Bag ADT"
   ]
  },
  {
   "cell_type": "code",
   "execution_count": 5,
   "metadata": {},
   "outputs": [],
   "source": [
    "# List-based\n",
    "class Bag:\n",
    "    # initializes empty bag with empty list\n",
    "    def __init__(self):\n",
    "        self._theItems = list()\n",
    "    \n",
    "    # returns the number of items in the bag\n",
    "    def __len__(self):\n",
    "        return len(self._theItems)\n",
    "    \n",
    "    # checks if an item is contained in the bag\n",
    "    def __contains__(self, item):\n",
    "        return item in self._theItems\n",
    "    \n",
    "    # adds a new item to the bag\n",
    "    def __add__(self, item):\n",
    "        self._theItems.append(item)\n",
    "    \n",
    "    # removes an item from the bag and returns it\n",
    "    def __remove__(self, item):\n",
    "        # precondition\n",
    "        assert item in self._theItems, \"item not in bag.\"\n",
    "        index = self._theItems.index(item)\n",
    "        return self._theItems.pop(index)\n",
    "\n",
    "    def __iter__(self):\n",
    "        # creates an instance of _BagIterator from the field _theItems of the bag\n",
    "        return _BagIterator(self._theItems)\n",
    "\n",
    "# iterator\n",
    "class _BagIterator:\n",
    "    # an iterator has two fields, the container _bagItems and the current index _curItem\n",
    "    def __init__(self, theList):\n",
    "        # container\n",
    "        self._bagItems = theList\n",
    "        # index\n",
    "        self._curItem = 0\n",
    "\n",
    "    # return the iterator itself\n",
    "    def __iter__(self):\n",
    "        return self\n",
    "\n",
    "    # return the next item in the container\n",
    "    def __next__(self):\n",
    "        if self._curItem < len(self._bagItems):\n",
    "            item = self._bagItems[self._curItem]\n",
    "            self._curItem += 1\n",
    "            return item\n",
    "        else:\n",
    "            raise StopIteration"
   ]
  },
  {
   "cell_type": "code",
   "execution_count": 6,
   "metadata": {},
   "outputs": [
    {
     "name": "stdout",
     "output_type": "stream",
     "text": [
      "1\n",
      "3\n",
      "2\n"
     ]
    }
   ],
   "source": [
    "bag = Bag()\n",
    "bag.__add__(1)\n",
    "bag.__add__(3)\n",
    "bag.__add__(2)\n",
    "for item in bag:\n",
    "    print(item)"
   ]
  },
  {
   "cell_type": "markdown",
   "metadata": {},
   "source": [
    "## Student file reader ADT"
   ]
  },
  {
   "cell_type": "code",
   "execution_count": 7,
   "metadata": {},
   "outputs": [],
   "source": [
    "class StudentFileReader:\n",
    "    # create reader instance\n",
    "    def __init__(self, inputSrc):\n",
    "        self._inputSrc = inputSrc\n",
    "        self._inputFile = None\n",
    "    \n",
    "    # open connection to input file\n",
    "    def __open__(self):\n",
    "        self._inputFile = open(self._inputSrc, \"r\")\n",
    "    \n",
    "    # close connection to input file\n",
    "    def __close__(self):\n",
    "        self._inputFile.close()\n",
    "        self._inputFile = None\n",
    "    \n",
    "    # fetch all student records and store them in a list\n",
    "    def fetchAll(self):\n",
    "        theRecords = list()\n",
    "        # fetch the next record while there is one\n",
    "        student = self.fetchRecord()\n",
    "        while student != None:\n",
    "            theRecords.append(student)\n",
    "            # fetch the next record\n",
    "            student = self.fetchRecord()\n",
    "        return theRecords\n",
    "    \n",
    "    def fetchRecord(self):\n",
    "        # read the line from the input file where the pointer is\n",
    "        line = self._inputFile.readline()\n",
    "        if line == \"\":\n",
    "            return None\n",
    "        else:\n",
    "            student = StudentRecord()\n",
    "            student.idNum = int(line)\n",
    "            student.firstName = self._inputFile.readline().rstrip()\n",
    "            student.lastName = self._inputFile.readline().rstrip()\n",
    "            student.classCode = int(self._inputFile.readline())\n",
    "            student.gpa = float(self._inputFile.readline())\n",
    "            return student\n",
    "    \n",
    "class StudentRecord:\n",
    "    def __init__(self):\n",
    "        self.idNum = 0\n",
    "        self.firstName = None\n",
    "        self.lastName = None\n",
    "        self.classCode = 0\n",
    "        self.gpa = 0.0"
   ]
  },
  {
   "cell_type": "code",
   "execution_count": 8,
   "metadata": {},
   "outputs": [
    {
     "name": "stdout",
     "output_type": "stream",
     "text": [
      "                 List of students                 \n",
      "\n",
      "ID    NAME                      CLASS      GPA \n",
      "----- ------------------------- ---------- ----\n",
      "10015 Smith, John               Sophomore  3.01\n",
      "10334 Roberts, Jane             Senior     3.81\n",
      "--------------------------------------------------\n",
      "Number of students: 2\n"
     ]
    }
   ],
   "source": [
    "def main():\n",
    "    reader = StudentFileReader(fileName)\n",
    "    reader.__open__()\n",
    "    studentList = reader.fetchAll()\n",
    "    reader.__close__()\n",
    "    studentList.sort(key = lambda x : x.idNum)\n",
    "    printReport(studentList)\n",
    "\n",
    "def printReport(theList):\n",
    "    classNames = (None, \"Freshman\", \"Sophomore\", \"Junior\", \"Senior\")\n",
    "    print(\"List of students\".center(50))\n",
    "    print(\"\")\n",
    "    print(\"%-5s %-25s %-10s %-4s\" % ('ID', 'NAME', 'CLASS', 'GPA'))\n",
    "    print(\"%5s %25s %10s %4s\" % ('-' * 5, '-' * 25, '-' * 10, '-' * 4))\n",
    "    \n",
    "    for record in theList:\n",
    "        print( \"%5d %-25s %-10s %4.2f\" % (record.idNum, record.lastName + ', ' + record.firstName, classNames[record.classCode], record.gpa))\n",
    "    \n",
    "    print( \"-\" * 50 )\n",
    "    print(\"Number of students:\", len(theList))\n",
    "\n",
    "fileName = \"students.txt\"\n",
    "main()"
   ]
  },
  {
   "cell_type": "markdown",
   "metadata": {},
   "source": [
    "## Exercise"
   ]
  },
  {
   "cell_type": "markdown",
   "metadata": {},
   "source": [
    "### Counter ADT"
   ]
  },
  {
   "cell_type": "code",
   "execution_count": 9,
   "metadata": {},
   "outputs": [],
   "source": [
    "class Counter:\n",
    "    def __init__(self):\n",
    "        self.count = 0\n",
    "    \n",
    "    def __push__(self):\n",
    "        self.count += 1\n",
    "    \n",
    "    def __reset__(self):\n",
    "        self.count = 0"
   ]
  },
  {
   "cell_type": "code",
   "execution_count": 10,
   "metadata": {},
   "outputs": [
    {
     "data": {
      "text/plain": [
       "0"
      ]
     },
     "execution_count": 10,
     "metadata": {},
     "output_type": "execute_result"
    }
   ],
   "source": [
    "counter = Counter()\n",
    "counter.count"
   ]
  },
  {
   "cell_type": "code",
   "execution_count": 11,
   "metadata": {},
   "outputs": [
    {
     "data": {
      "text/plain": [
       "1"
      ]
     },
     "execution_count": 11,
     "metadata": {},
     "output_type": "execute_result"
    }
   ],
   "source": [
    "counter.__push__()\n",
    "counter.count"
   ]
  },
  {
   "cell_type": "code",
   "execution_count": 12,
   "metadata": {},
   "outputs": [
    {
     "data": {
      "text/plain": [
       "0"
      ]
     },
     "execution_count": 12,
     "metadata": {},
     "output_type": "execute_result"
    }
   ],
   "source": [
    "counter.__reset__()\n",
    "counter.count"
   ]
  },
  {
   "cell_type": "markdown",
   "metadata": {},
   "source": [
    "### Grab bag ADT"
   ]
  },
  {
   "cell_type": "code",
   "execution_count": 13,
   "metadata": {},
   "outputs": [],
   "source": [
    "from random import randint\n",
    "\n",
    "class GrabBag:\n",
    "    # initializes empty bag with empty list\n",
    "    def __init__(self):\n",
    "        self._theItems = list()\n",
    "    \n",
    "    # returns the number of items in the bag\n",
    "    def __len__(self):\n",
    "        return len(self._theItems)\n",
    "    \n",
    "    # checks if an item is contained in the bag\n",
    "    def __contains__(self, item):\n",
    "        return item in self._theItems\n",
    "    \n",
    "    # adds a new item to the bag\n",
    "    def __add__(self, item):\n",
    "        self._theItems.append(item)\n",
    "    \n",
    "    # randomly remove an item from the bag\n",
    "    def __grabItem__(self):\n",
    "        # random index\n",
    "        index = randint(0, len(self._theItems) - 1)\n",
    "        return self._theItems.pop(index)\n",
    "\n",
    "    def __iter__(self):\n",
    "        # creates an instance of _BagIterator from the field _theItems of the bag\n",
    "        return _GrabBagIterator(self._theItems)\n",
    "\n",
    "# iterator\n",
    "class _GrabBagIterator:\n",
    "    # an iterator has two fields, the container _bagItems and the current index _curItem\n",
    "    def __init__(self, theList):\n",
    "        # container\n",
    "        self._bagItems = theList\n",
    "        # index\n",
    "        self._curItem = 0\n",
    "\n",
    "    # return the iterator itself\n",
    "    def __iter__(self):\n",
    "        return self\n",
    "\n",
    "    # return the next item in the container\n",
    "    def __next__(self):\n",
    "        if self._curItem < len(self._bagItems):\n",
    "            item = self._bagItems[self._curItem]\n",
    "            self._curItem += 1\n",
    "            return item\n",
    "        else:\n",
    "            raise StopIteration"
   ]
  },
  {
   "cell_type": "code",
   "execution_count": 14,
   "metadata": {},
   "outputs": [
    {
     "name": "stdout",
     "output_type": "stream",
     "text": [
      "1\n",
      "3\n"
     ]
    }
   ],
   "source": [
    "bag = GrabBag()\n",
    "bag.__add__(1)\n",
    "bag.__add__(3)\n",
    "bag.__add__(2)\n",
    "bag.__grabItem__()\n",
    "for item in bag:\n",
    "    print(item)"
   ]
  },
  {
   "cell_type": "markdown",
   "metadata": {},
   "source": [
    "### Counting bag ADT"
   ]
  },
  {
   "cell_type": "code",
   "execution_count": 15,
   "metadata": {},
   "outputs": [],
   "source": [
    "# dictionary-based\n",
    "class CountingBag:\n",
    "    def __init__(self):\n",
    "        self._theItems = dict()\n",
    "    \n",
    "    # number of items in bag\n",
    "    def __len__(self):\n",
    "        return sum(self._theItems.values())\n",
    "    \n",
    "    # check if an item is in bag\n",
    "    def __contains__(self, item):\n",
    "        item in self._theItems.keys()\n",
    "    \n",
    "    # add an item to bag\n",
    "    def __add__(self, item):\n",
    "        if item in self._theItems.keys():\n",
    "            self._theItems[item] += 1\n",
    "        else:\n",
    "            self._theItems[item] = 1\n",
    "    \n",
    "    # remove an item from bag\n",
    "    def __remove__(self, item):\n",
    "        # precondition: item to be removed must be in the bag\n",
    "        assert item in self._theItems.keys()\n",
    "        if self._theItems[item] > 1:\n",
    "            self._theItems[item] -= 1\n",
    "        else:\n",
    "            # remove key\n",
    "            self._theItems.pop(item)\n",
    "    \n",
    "    def __iter__(self):\n",
    "        # dict to list\n",
    "        listOfLists = [[key] * value for key, value in self._theItems.items()]\n",
    "        flattenedList = [y for x in listOfLists for y in x]\n",
    "        # creates an instance of _BagIterator from the field _theItems of the bag\n",
    "        return _BagIterator(flattenedList)\n",
    "    \n",
    "    def __numOf__(self, item):\n",
    "        return self._theItems[item]\n",
    "\n",
    "# iterator\n",
    "class _BagIterator:\n",
    "    # an iterator has two fields, the container _bagItems and the current index _curItem\n",
    "    def __init__(self, theList):\n",
    "        # container\n",
    "        self._bagItems = theList\n",
    "        # index\n",
    "        self._curItem = 0\n",
    "\n",
    "    # return the iterator itself\n",
    "    def __iter__(self):\n",
    "        return self\n",
    "\n",
    "    # return the next item in the container\n",
    "    def __next__(self):\n",
    "        if self._curItem < len(self._bagItems):\n",
    "            item = self._bagItems[self._curItem]\n",
    "            self._curItem += 1\n",
    "            return item\n",
    "        else:\n",
    "            raise StopIteration"
   ]
  },
  {
   "cell_type": "code",
   "execution_count": 16,
   "metadata": {},
   "outputs": [
    {
     "name": "stdout",
     "output_type": "stream",
     "text": [
      "2\n",
      "2\n",
      "2\n",
      "1\n",
      "3\n"
     ]
    },
    {
     "data": {
      "text/plain": [
       "3"
      ]
     },
     "execution_count": 16,
     "metadata": {},
     "output_type": "execute_result"
    }
   ],
   "source": [
    "bag = CountingBag()\n",
    "bag.__add__(2)\n",
    "bag.__add__(1)\n",
    "bag.__add__(3)\n",
    "bag.__add__(2)\n",
    "bag.__add__(2)\n",
    "for item in bag:\n",
    "    print(item)\n",
    "bag.__numOf__(2)"
   ]
  },
  {
   "cell_type": "markdown",
   "metadata": {},
   "source": [
    "### Student file reader ADT"
   ]
  },
  {
   "cell_type": "code",
   "execution_count": 17,
   "metadata": {},
   "outputs": [],
   "source": [
    "class StudentFileReader:\n",
    "    # create reader instance\n",
    "    def __init__(self, inputSrc):\n",
    "        self._inputSrc = inputSrc\n",
    "        self._inputFile = None\n",
    "    \n",
    "    # open connection to input file\n",
    "    def __open__(self):\n",
    "        self._inputFile = open(self._inputSrc, \"r\")\n",
    "    \n",
    "    # close connection to input file\n",
    "    def __close__(self):\n",
    "        self._inputFile.close()\n",
    "        self._inputFile = None\n",
    "    \n",
    "    # fetch all student records and store them in a list\n",
    "    def fetchAll(self):\n",
    "        theRecords = list()\n",
    "        # fetch the next record while there is one\n",
    "        student = self.fetchRecord()\n",
    "        while student != None:\n",
    "            theRecords.append(student)\n",
    "            # fetch the next record\n",
    "            student = self.fetchRecord()\n",
    "        return theRecords\n",
    "    \n",
    "    def fetchRecord(self):\n",
    "        # read the line from the input file where the pointer is\n",
    "        line = self._inputFile.readline()\n",
    "        if line == \"\":\n",
    "            return None\n",
    "        else:\n",
    "            student = StudentRecord()\n",
    "            splitInfo = line.strip().split(\", \")\n",
    "            student.idNum = int(splitInfo[0])\n",
    "            student.firstName = splitInfo[1]\n",
    "            student.lastName = splitInfo[2]\n",
    "            student.classCode = int(splitInfo[3])\n",
    "            student.gpa = float(splitInfo[4])\n",
    "            return student"
   ]
  },
  {
   "cell_type": "code",
   "execution_count": 18,
   "metadata": {
    "scrolled": true
   },
   "outputs": [
    {
     "name": "stdout",
     "output_type": "stream",
     "text": [
      "                 List of students                 \n",
      "\n",
      "ID    NAME                      CLASS      GPA \n",
      "----- ------------------------- ---------- ----\n",
      "10015 Smith, John               Sophomore  3.01\n",
      "10208 Green, Patrick            Freshman   3.95\n",
      "10334 Roberts, Jane             Senior     3.81\n",
      "--------------------------------------------------\n",
      "Number of students: 3\n"
     ]
    }
   ],
   "source": [
    "fileName = \"students_exercise.txt\"\n",
    "main()"
   ]
  },
  {
   "cell_type": "markdown",
   "metadata": {},
   "source": [
    "### Student file writer ADT"
   ]
  },
  {
   "cell_type": "code",
   "execution_count": 19,
   "metadata": {},
   "outputs": [],
   "source": [
    "# write to txt\n",
    "class StudentFileWriter:\n",
    "    def __init__(self, studentRecords, outputSrc):\n",
    "        # list of student records, obtained from StudentFileReader.fetchAll()\n",
    "        self._studentRecords = studentRecords\n",
    "        self._outputSrc = outputSrc\n",
    "        self._outputFile = None\n",
    "    \n",
    "    # open connection to output file\n",
    "    def __open__(self):\n",
    "        self._outputFile = open(self._outputSrc, \"w\")\n",
    "    \n",
    "    # close connection to output file\n",
    "    def __close__(self):\n",
    "        self._outputFile.close()\n",
    "        self._outputFile = None\n",
    "    \n",
    "    # write to output\n",
    "    def __writeRecord__(self):\n",
    "        for student in self._studentRecords:\n",
    "            info = \", \".join([str(student.idNum), student.firstName, student.lastName, str(student.classCode), str(student.gpa)])\n",
    "            self._outputFile.write(info + \"\\n\")"
   ]
  },
  {
   "cell_type": "code",
   "execution_count": 20,
   "metadata": {},
   "outputs": [
    {
     "name": "stdout",
     "output_type": "stream",
     "text": [
      "                 List of students                 \n",
      "\n",
      "ID    NAME                      CLASS      GPA \n",
      "----- ------------------------- ---------- ----\n",
      "10015 Smith, John               Sophomore  3.01\n",
      "10334 Roberts, Jane             Senior     3.81\n",
      "10208 Green, Patrick            Freshman   3.95\n",
      "--------------------------------------------------\n",
      "Number of students: 3\n"
     ]
    }
   ],
   "source": [
    "def main():\n",
    "    reader = StudentFileReader(inputFileName)\n",
    "    reader.__open__()\n",
    "    studentList = reader.fetchAll()\n",
    "    reader.__close__()\n",
    "    writer = StudentFileWriter(studentList, outputFileName)\n",
    "    writer.__open__()\n",
    "    writer.__writeRecord__()\n",
    "    writer.__close__()\n",
    "    printReport(studentList)\n",
    "\n",
    "inputFileName = \"students_exercise.txt\"\n",
    "outputFileName = \"students_output.txt\"\n",
    "main()"
   ]
  },
  {
   "cell_type": "markdown",
   "metadata": {},
   "source": [
    "### Time ADT"
   ]
  },
  {
   "cell_type": "code",
   "execution_count": 21,
   "metadata": {},
   "outputs": [],
   "source": [
    "class Time:\n",
    "    def __init__(self, hours, minutes, seconds):\n",
    "        assert (hours <= 24 and hours >= 0)\n",
    "        assert (minutes <= 60 and minutes >= 0)\n",
    "        assert (seconds <= 60 and minutes >= 0)\n",
    "        self._hours = hours\n",
    "        self._minutes = minutes\n",
    "        self._seconds = seconds\n",
    "    \n",
    "    def hour(self):\n",
    "        return self._hours\n",
    "\n",
    "    def minutes(self):\n",
    "        return self._minutes\n",
    "    \n",
    "    def seconds(self):\n",
    "        return self._seconds\n",
    "    \n",
    "    def numSeconds(self, otherTime):\n",
    "        selfInSeconds = self._seconds + 60 * self._minutes + 3600 * self._hours\n",
    "        otherTimeInSeconds = otherTime._seconds + 60 * otherTime._minutes + 3600 * otherTime._hours\n",
    "        return abs(selfInSeconds, otherTimeInSeconds)\n",
    "    \n",
    "    def isAM(self):\n",
    "        return (self._hours < 12) or (self._hours == 12 and self._minutes == 0 and self._seconds == 0)\n",
    "    \n",
    "    def isPM(self):\n",
    "        return (self._hours > 12) or (self._hours == 12 and self._minutes == 0 and self._seconds == 0)\n",
    "    \n",
    "    # this time is earlier than otherTime\n",
    "    def earlier(self, otherTime):\n",
    "        selfInSeconds = self._seconds + 60 * self._minutes + 3600 * self._hours\n",
    "        otherTimeInSeconds = otherTime._seconds + 60 * otherTime._minutes + 3600 * otherTime._hours\n",
    "        return selfInSeconds < otherTimeInSeconds\n",
    "    \n",
    "    # this time is later than otherTime\n",
    "    def later(self, otherTime):\n",
    "        selfInSeconds = self._seconds + 60 * self._minutes + 3600 * self._hours\n",
    "        otherTimeInSeconds = otherTime._seconds + 60 * otherTime._minutes + 3600 * otherTime._hours\n",
    "        return selfInSeconds > otherTimeInSeconds\n",
    "    \n",
    "    # hh:mm:ss\n",
    "    def toString(self):\n",
    "        if self._hours > 12:\n",
    "            hour = str(self._hours - 12)\n",
    "            if len(hour) < 2:\n",
    "                hour = \"0\" + hour\n",
    "            else:\n",
    "                hour = str(self._hours)\n",
    "        if len(str(self._minutes)) < 2:\n",
    "            minute = \"0\" + str(self._minutes)\n",
    "        else:\n",
    "            minute = str(self._minutes)\n",
    "        if len(str(self._seconds)) < 2:\n",
    "            second = \"0\" + str(self._seconds)\n",
    "        else:\n",
    "            second = str(self._seconds)\n",
    "        return hour + \":\" + minute + \":\" + second"
   ]
  },
  {
   "cell_type": "code",
   "execution_count": 22,
   "metadata": {},
   "outputs": [
    {
     "data": {
      "text/plain": [
       "'03:23:01'"
      ]
     },
     "execution_count": 22,
     "metadata": {},
     "output_type": "execute_result"
    }
   ],
   "source": [
    "time = Time(15, 23, 1)\n",
    "time.toString()"
   ]
  },
  {
   "cell_type": "markdown",
   "metadata": {},
   "source": [
    "### Fraction ADT"
   ]
  },
  {
   "cell_type": "code",
   "execution_count": 23,
   "metadata": {},
   "outputs": [],
   "source": [
    "import math\n",
    "\n",
    "# least common multiple\n",
    "def lcm(a, b):\n",
    "    return abs(a*b) // math.gcd(a, b)\n",
    "\n",
    "class Fraction:\n",
    "    def __init__(self, numerator, denominator):\n",
    "        self._denom = denominator\n",
    "        self._num = numerator\n",
    "    \n",
    "    def add(self, otherFraction):\n",
    "        if self._denom == otherFraction._denom:\n",
    "            return Fraction(self._denom, self._num + otherFraction._num)\n",
    "        else:\n",
    "            newDenom = lcm(self._denom, otherFraction._denom)\n",
    "            newNum = newDenom // self._denom * self._num + newDenom // otherFraction._denom * otherFraction._num\n",
    "            return Fraction(newDenom, newNum)\n",
    "    \n",
    "    def mult(self, otherFraction):\n",
    "        return Fraction(self._denom * otherFraction._denom, self_num * otherFraction._num)\n",
    "    \n",
    "    def toFloat(self):\n",
    "        return self._denom / self._num\n",
    "    \n",
    "    def toString(self):\n",
    "        return str(self._denom) + \"/\" + str(self._num)"
   ]
  },
  {
   "cell_type": "code",
   "execution_count": 24,
   "metadata": {},
   "outputs": [
    {
     "data": {
      "text/plain": [
       "'5/6'"
      ]
     },
     "execution_count": 24,
     "metadata": {},
     "output_type": "execute_result"
    }
   ],
   "source": [
    "frac = Fraction(1,3)\n",
    "frac2 = Fraction(1,2)\n",
    "(frac.add(frac2)).toString()"
   ]
  },
  {
   "cell_type": "markdown",
   "metadata": {},
   "source": [
    "# Array ADT"
   ]
  },
  {
   "cell_type": "markdown",
   "metadata": {},
   "source": [
    "## Array module"
   ]
  },
  {
   "cell_type": "code",
   "execution_count": 25,
   "metadata": {},
   "outputs": [
    {
     "name": "stdout",
     "output_type": "stream",
     "text": [
      "0.5880012512207031\n",
      "0.004615019541233778\n",
      "0.6030740737915039\n",
      "0.6453872919082642\n",
      "0.9973679184913635\n",
      "0.7027650475502014\n",
      "0.7137653827667236\n",
      "0.2508518099784851\n",
      "0.0044736964628100395\n",
      "0.8959708213806152\n",
      "0.07933969795703888\n",
      "0.8819876313209534\n",
      "0.3441847860813141\n",
      "0.10487237572669983\n",
      "0.10095051676034927\n",
      "0.13455229997634888\n",
      "0.29016199707984924\n",
      "0.4935304820537567\n",
      "0.29512345790863037\n",
      "0.1388694792985916\n",
      "0.8030548095703125\n",
      "0.650938868522644\n",
      "0.32402917742729187\n",
      "0.23053716123104095\n",
      "0.2455301582813263\n",
      "0.892708420753479\n",
      "0.053387511521577835\n",
      "0.3762699365615845\n",
      "0.7696532607078552\n",
      "0.7046006321907043\n",
      "0.8736982941627502\n",
      "0.6355237364768982\n",
      "0.7172354459762573\n",
      "0.23635278642177582\n",
      "0.16770687699317932\n",
      "0.23125210404396057\n",
      "0.9467787146568298\n",
      "0.2295265942811966\n",
      "0.3190670609474182\n",
      "0.5232676863670349\n",
      "0.06728187948465347\n",
      "0.11669693142175674\n",
      "0.16417966783046722\n",
      "0.7346850633621216\n",
      "0.5773546099662781\n",
      "0.045501451939344406\n",
      "0.9380806088447571\n",
      "0.4760186970233917\n",
      "0.1904732882976532\n",
      "0.8866400122642517\n",
      "0.9060157537460327\n",
      "0.2364680916070938\n",
      "0.26073071360588074\n",
      "0.03657422959804535\n",
      "0.5834354758262634\n",
      "0.3913410007953644\n",
      "0.6956157684326172\n",
      "0.439596951007843\n",
      "0.4981819987297058\n",
      "0.2326401323080063\n",
      "0.8767454624176025\n",
      "0.15073001384735107\n",
      "0.6750645637512207\n",
      "0.7228434085845947\n",
      "0.1934080272912979\n",
      "0.5605269074440002\n",
      "0.7705312967300415\n",
      "0.4749363958835602\n",
      "0.1735699325799942\n",
      "0.22057969868183136\n",
      "0.3543734848499298\n",
      "0.08682451397180557\n",
      "0.08391950279474258\n",
      "0.6171795129776001\n",
      "0.05008532106876373\n",
      "0.41812145709991455\n",
      "0.38590696454048157\n",
      "0.03730842098593712\n",
      "0.06756064295768738\n",
      "0.2310732752084732\n",
      "0.1795867532491684\n",
      "0.16500099003314972\n",
      "0.8506327271461487\n",
      "0.4605385363101959\n",
      "0.012578442692756653\n",
      "0.12351544946432114\n",
      "0.9881117343902588\n",
      "0.6731452345848083\n",
      "0.6046605110168457\n",
      "0.9415476322174072\n",
      "0.11815716326236725\n",
      "0.9468700885772705\n",
      "0.7640323638916016\n",
      "0.8288679718971252\n",
      "0.596250057220459\n",
      "0.062307342886924744\n",
      "0.4003165066242218\n",
      "0.14874903857707977\n",
      "0.4098162055015564\n",
      "0.7601879239082336\n"
     ]
    }
   ],
   "source": [
    "import array\n",
    "import random\n",
    "\n",
    "valueList = array.array('f', [0] * 100)\n",
    "for i in range(len(valueList)):\n",
    "    valueList[i] = random.random()\n",
    "\n",
    "for value in valueList:\n",
    "    print(value)"
   ]
  },
  {
   "cell_type": "code",
   "execution_count": 26,
   "metadata": {},
   "outputs": [
    {
     "name": "stdout",
     "output_type": "stream",
     "text": [
      "A -    0 a -    1\n",
      "B -    0 b -    1\n",
      "C -    0 c -    0\n",
      "D -    0 d -    0\n",
      "E -    0 e -    2\n",
      "F -    0 f -    0\n",
      "G -    0 g -    0\n",
      "H -    0 h -    2\n",
      "I -    0 i -    1\n",
      "J -    2 j -    0\n",
      "K -    0 k -    0\n",
      "L -    0 l -    0\n",
      "M -    0 m -    1\n",
      "N -    0 n -    2\n",
      "O -    0 o -    2\n",
      "P -    0 p -    0\n",
      "Q -    0 q -    0\n",
      "R -    1 r -    1\n",
      "S -    1 s -    1\n",
      "T -    0 t -    2\n",
      "U -    0 u -    0\n",
      "V -    0 v -    0\n",
      "W -    0 w -    0\n",
      "X -    0 x -    0\n",
      "Y -    0 y -    0\n",
      "Z -    0 z -    0\n"
     ]
    }
   ],
   "source": [
    "# Create an array for the counters and initialize each element to 0.\n",
    "theCounters = array.array('i', [0] * 127)\n",
    "# Open the text file for reading and extract each line from the file\n",
    "# and iterate over each character in the line.\n",
    "theFile = open('students.txt', 'r')\n",
    "for line in theFile:\n",
    "    for letter in line:\n",
    "        code = ord(letter)\n",
    "        theCounters[code] += 1\n",
    "# Close the file\n",
    "theFile.close()\n",
    "# Print the results. The uppercase letters have ASCII values in the\n",
    "# range 65..90 and the lowercase letters are in the range 97..122.\n",
    "for i in range( 26 ) :\n",
    "    print(\"%c - %4d %c - %4d\" % (chr(65+i), theCounters[65+i], chr(97+i), theCounters[97+i]))"
   ]
  },
  {
   "cell_type": "markdown",
   "metadata": {},
   "source": [
    "## Hardware array"
   ]
  },
  {
   "cell_type": "code",
   "execution_count": 27,
   "metadata": {},
   "outputs": [
    {
     "name": "stdout",
     "output_type": "stream",
     "text": [
      "None\n"
     ]
    }
   ],
   "source": [
    "import ctypes\n",
    "\n",
    "# create an array named slots that contains five elements, each of which can store a reference to an object\n",
    "ArrayType = ctypes.py_object * 5\n",
    "slots = ArrayType()\n",
    "# initialize array\n",
    "for i in range(5):\n",
    "    slots[i] = None\n",
    "\n",
    "print(slots[0])"
   ]
  },
  {
   "cell_type": "markdown",
   "metadata": {},
   "source": [
    "## Hardware-based array"
   ]
  },
  {
   "cell_type": "code",
   "execution_count": 28,
   "metadata": {},
   "outputs": [],
   "source": [
    "import ctypes\n",
    "\n",
    "class Array:\n",
    "    def __init__(self, size):\n",
    "        assert size > 0, \"Array size must be > 0\"\n",
    "        self._size = size\n",
    "        PyArrayType = ctypes.py_object * size\n",
    "        self._elements = PyArrayType()\n",
    "        # initialize array with None\n",
    "        self.clear(None)\n",
    "    \n",
    "    def __len__(self):\n",
    "        return self._size\n",
    "    \n",
    "    # __getitem__() supports indexing arr[i]\n",
    "    # if this function is named otherwise, indexing is not supported\n",
    "    def __getitem__(self, index):\n",
    "        assert index >= 0 and index < len(self), \"Array subscript out of range\"\n",
    "        return self._elements[index]\n",
    "    \n",
    "    # __setitem__() supports value assignment arr[i] = x\n",
    "    # if this function is named otherwise, value assignment is not supported\n",
    "    def __setitem__(self, index, value):\n",
    "        assert index >= 0 and index < len(self), \"Array subscript out of range\"\n",
    "        self._elements[index] = value\n",
    "    \n",
    "    # clears array by setting each element to a given value\n",
    "    def clear(self, value):\n",
    "        # have not defined iterator yet, so loop through index to iterate\n",
    "        for i in range(len(self)):\n",
    "            self._elements[i] = value\n",
    "    \n",
    "    def __iter__(self):\n",
    "        return _ArrayIterator(self._elements)\n",
    "\n",
    "class _ArrayIterator:\n",
    "    def __init__(self, theArray):\n",
    "        self._arrayRef = theArray\n",
    "        self._curIndex = 0\n",
    "    \n",
    "    def __iter__(self):\n",
    "        return self\n",
    "\n",
    "    def __next__(self):\n",
    "        if self._curIndex < len(self._arrayRef):\n",
    "            entry = self._arrayRef[self._curIndex]\n",
    "            self._curIndex += 1\n",
    "            return entry\n",
    "        else:\n",
    "            raise StopIteration"
   ]
  },
  {
   "cell_type": "code",
   "execution_count": 29,
   "metadata": {},
   "outputs": [
    {
     "name": "stdout",
     "output_type": "stream",
     "text": [
      "1\n",
      "2\n"
     ]
    }
   ],
   "source": [
    "arr = Array(2)\n",
    "arr[0] = 1\n",
    "arr[1] = 2\n",
    "arr[1]\n",
    "for item in arr:\n",
    "    print(item)"
   ]
  },
  {
   "cell_type": "markdown",
   "metadata": {},
   "source": [
    "## Array-based list"
   ]
  },
  {
   "cell_type": "code",
   "execution_count": 30,
   "metadata": {},
   "outputs": [
    {
     "data": {
      "text/plain": [
       "[4, 2, 79, 34, 17, 50, 1, 2]"
      ]
     },
     "execution_count": 30,
     "metadata": {},
     "output_type": "execute_result"
    }
   ],
   "source": [
    "pyList = [4, 12, 2, 34, 17]\n",
    "pyList.append(50)\n",
    "pyList.extend([1,2])\n",
    "pyList.insert(3, 79)\n",
    "pyList.pop(1)\n",
    "pyList"
   ]
  },
  {
   "cell_type": "markdown",
   "metadata": {},
   "source": [
    "## 2D array"
   ]
  },
  {
   "cell_type": "code",
   "execution_count": 31,
   "metadata": {},
   "outputs": [],
   "source": [
    "import numpy as np\n",
    "\n",
    "class Array2D:\n",
    "    def __init__(self, numRows, numCols):\n",
    "        # initialize rows in an array\n",
    "        self._theRows = Array(numRows)\n",
    "        # initialize each column as an array in the array of rows\n",
    "        for i in range(numRows) :\n",
    "            self._theRows[i] = Array(numCols)\n",
    "    \n",
    "    def numRows(self):\n",
    "        return len(self._theRows)\n",
    "    \n",
    "    def numCols(self):\n",
    "        return len(self._theRows[0])\n",
    "    \n",
    "    def clear(self, value):\n",
    "        # self._theRows is an Array object, which is iterable\n",
    "        for item in self._theRows:\n",
    "            item.clear(value)\n",
    "#         for i in range(self.numRows()):\n",
    "#             self._theRows[i].clear(value)\n",
    "    \n",
    "    def __getitem__(self, index):\n",
    "        assert len(index) == 2, \"Invalid number of array subscripts.\"\n",
    "        row = index[0]\n",
    "        col = index[1]\n",
    "        assert row >= 0 and row < self.numRows() and col >=0 and col < self.numCols(), \"Array subscript out of range.\"\n",
    "        return self._theRows[row][col]\n",
    "    \n",
    "    def __setitem__(self, index, value):\n",
    "        assert len(index) == 2, \"Invalid number of array subscripts.\"\n",
    "        row = index[0]\n",
    "        col = index[1]\n",
    "        assert row >= 0 and row < self.numRows() and col >=0 and col < self.numCols(), \"Array subscript out of range.\"\n",
    "        self._theRows[row][col] = value"
   ]
  },
  {
   "cell_type": "code",
   "execution_count": 32,
   "metadata": {},
   "outputs": [
    {
     "name": "stdout",
     "output_type": "stream",
     "text": [
      "1\n",
      "2\n",
      "3\n",
      "4\n"
     ]
    }
   ],
   "source": [
    "nRows = 2\n",
    "nCols = 2\n",
    "arr = Array2D(nRows, nCols)\n",
    "arr[0,0] = 1\n",
    "arr[0,1] = 2\n",
    "arr[1,0] = 3\n",
    "arr[1,1] = 4\n",
    "for i in range(arr.numRows()):\n",
    "    for j in range(arr.numCols()):\n",
    "        print(arr[i,j])"
   ]
  },
  {
   "cell_type": "markdown",
   "metadata": {},
   "source": [
    "## Matrix"
   ]
  },
  {
   "cell_type": "code",
   "execution_count": 33,
   "metadata": {},
   "outputs": [],
   "source": [
    "class Matrix:\n",
    "    def __init__(self, numRows, numCols):\n",
    "        self._theGrid = Array2D(numRows, numCols)\n",
    "        # initialize matrix with 0\n",
    "        self._theGrid.clear(0)\n",
    "    \n",
    "    def numRows(self):\n",
    "        return self._theGrid.numRows()\n",
    "    \n",
    "    def numCols(self):\n",
    "        return self._theGrid.numCols()\n",
    "    \n",
    "    def __getitem__(self, index):\n",
    "        row = index[0]\n",
    "        col = index[1]\n",
    "        return self._theGrid[row,col]\n",
    "    \n",
    "    def __setitem__(self, index, scalar):\n",
    "        row = index[0]\n",
    "        col = index[1]\n",
    "        self._theGrid[row,col] = scalar\n",
    "        \n",
    "    def scaleBy(self, scalar):\n",
    "        for i in range(self.numRows()):\n",
    "            for j in range(self.numCols()):\n",
    "                self[row, col] *= scalar\n",
    "    \n",
    "    def transpose(self):\n",
    "        newMatrix = Matrix(self.numRows(), self.numCols())\n",
    "        for i in range(self.numRows()):\n",
    "            for j in range(self.numCols()):\n",
    "                newMatrix[i,j] = self[j,i]\n",
    "    \n",
    "    # operator methods using +, -, and *\n",
    "    def __add__(self, otherMatrix):\n",
    "        assert otherMatrix.numRows() == self.numRows() and otherMatrix.numCols() == self.numCols(), \"Matrix sizes not compatible for addition.\"\n",
    "        newMatrix = Matrix(self.numRows(), self.numCols())\n",
    "        for i in range(self.numRows()):\n",
    "            for j in range(self.numCols()):\n",
    "                newMatrix[i,j] = self[i,j] + otherMatrix[i,j]\n",
    "        return newMatrix\n",
    "    \n",
    "    def __sub__(self, otherMatrix):\n",
    "        assert otherMatrix.numRows() == self.numRows() and otherMatrix.numCols() == self.numCols(), \"Matrix sizes not compatible for subtraction.\"\n",
    "        newMatrix = Matrix(self.numRows(), self.numCols())\n",
    "        for i in range(self.numRows()):\n",
    "            for j in range(self.numCols()):\n",
    "                newMatrix[i,j] = self[i,j] - otherMatrix[i,j]\n",
    "        return newMatrix\n",
    "    \n",
    "    def __mul__(self, otherMatrix):\n",
    "        assert otherMatrix.numRows() == self.numCols(), \"Matrix sizes not compatible for multiplication.\"\n",
    "        newMatrix = Matrix(self.numRows(), otherMatrix.numCols())\n",
    "        for i in range(self.numRows()):\n",
    "            for j in range(otherMatrix.numCols()):\n",
    "                res = 0\n",
    "                for k in range(self.numCols()):\n",
    "                    res += self[i,k] * otherMatrix[k,j]\n",
    "                newMatrix[i,j] = res\n",
    "        return newMatrix"
   ]
  },
  {
   "cell_type": "code",
   "execution_count": 34,
   "metadata": {},
   "outputs": [
    {
     "name": "stdout",
     "output_type": "stream",
     "text": [
      "9\n",
      "12\n",
      "15\n",
      "19\n",
      "26\n",
      "33\n"
     ]
    }
   ],
   "source": [
    "A = Matrix(2, 2)\n",
    "A[0,0] = 1\n",
    "A[0,1] = 2\n",
    "A[1,0] = 3\n",
    "A[1,1] = 4\n",
    "B = Matrix(2, 3)\n",
    "B[0,0] = 1\n",
    "B[0,1] = 2\n",
    "B[0,2] = 3\n",
    "B[1,0] = 4\n",
    "B[1,1] = 5\n",
    "B[1,2] = 6\n",
    "C = A * B\n",
    "for i in range(C.numRows()):\n",
    "    for j in range(C.numCols()):\n",
    "        print(C[i,j])"
   ]
  },
  {
   "cell_type": "markdown",
   "metadata": {},
   "source": [
    "## Game of life"
   ]
  },
  {
   "cell_type": "code",
   "execution_count": 35,
   "metadata": {},
   "outputs": [],
   "source": [
    "class LifeGrid:\n",
    "    # constants that represent cell states\n",
    "    DEAD_CELL = 0\n",
    "    LIVE_CELL = 1\n",
    "    \n",
    "    def __init__(self, nRows, nCols):\n",
    "        self._grid = Array2D(nRows, nCols)\n",
    "        # initialize all cells as dead (0)\n",
    "        self.configure(list())\n",
    "    \n",
    "    def numRows(self):\n",
    "        return self._grid.numRows()\n",
    "    \n",
    "    def numCols(self):\n",
    "        return self._grid.numCols()\n",
    "    \n",
    "    def configure(self, coordList):\n",
    "        self._grid.clear(0)\n",
    "        for t in coordList:\n",
    "            self.setCell(t[0], t[1])\n",
    "    \n",
    "    def clearCell(self, row, col):\n",
    "        assert row >= 0 and row <= self.numRows() and col >= 0 and col <= self.numCols(), \"Cell indices out of range.\"\n",
    "        self._grid[row, col] = LifeGrid.DEAD_CELL\n",
    "    \n",
    "    def setCell(self, row, col):\n",
    "        assert row >= 0 and row <= self.numRows() and col >= 0 and col <= self.numCols(), \"Cell indices out of range.\"\n",
    "        self._grid[row, col] = LifeGrid.LIVE_CELL\n",
    "    \n",
    "    def isLiveCell(self, row, col):\n",
    "        assert row >= 0 and row <= self.numRows() and col >= 0 and col <= self.numCols(), \"Cell indices out of range.\"\n",
    "        return self._grid[row, col] == 1\n",
    "    \n",
    "    def numLiveNeighbors(self, row, col):\n",
    "        num = 0\n",
    "        assert row >= 0 and row < self.numRows() and col >= 0 and col < self.numCols(), \"Cell indices out of range.\"\n",
    "        neighborCandidates = [(row + 1, col - 1), (row + 1, col), (row + 1, col + 1), (row, col - 1), (row, col + 1), (row - 1, col - 1), (row - 1, col), (row - 1, col + 1)]\n",
    "        for t in neighborCandidates:\n",
    "            r = t[0]\n",
    "            c = t[1]\n",
    "            if r >= 0 and r < self.numRows() and c >= 0 and c < self.numCols():\n",
    "                if self.isLiveCell(r, c):\n",
    "                    num += 1\n",
    "        return num\n",
    "                "
   ]
  },
  {
   "cell_type": "code",
   "execution_count": 36,
   "metadata": {},
   "outputs": [
    {
     "name": "stdout",
     "output_type": "stream",
     "text": [
      "Enter grid width: 5\n",
      "Enter grid height: 5\n",
      "Enter number of generations: 8\n",
      "\n",
      "\n",
      " .  .  .  .  . \n",
      " .  .  @  .  . \n",
      " .  @  @  @  . \n",
      " .  .  .  .  . \n",
      " .  .  .  .  . \n",
      "\n",
      "\n",
      " .  .  .  .  . \n",
      " .  @  @  @  . \n",
      " .  @  @  @  . \n",
      " .  .  @  .  . \n",
      " .  .  .  .  . \n",
      "\n",
      "\n",
      " .  .  @  .  . \n",
      " .  @  .  @  . \n",
      " .  .  .  .  . \n",
      " .  @  @  @  . \n",
      " .  .  .  .  . \n",
      "\n",
      "\n",
      " .  .  @  .  . \n",
      " .  .  @  .  . \n",
      " .  @  .  @  . \n",
      " .  .  @  .  . \n",
      " .  .  @  .  . \n",
      "\n",
      "\n",
      " .  .  .  .  . \n",
      " .  @  @  @  . \n",
      " .  @  .  @  . \n",
      " .  @  @  @  . \n",
      " .  .  .  .  . \n",
      "\n",
      "\n",
      " .  .  @  .  . \n",
      " .  @  .  @  . \n",
      " @  .  .  .  @ \n",
      " .  @  .  @  . \n",
      " .  .  @  .  . \n",
      "\n",
      "\n",
      " .  .  @  .  . \n",
      " .  @  @  @  . \n",
      " @  @  .  @  @ \n",
      " .  @  @  @  . \n",
      " .  .  @  .  . \n",
      "\n",
      "\n",
      " .  @  @  @  . \n",
      " @  .  .  .  @ \n",
      " @  .  .  .  @ \n",
      " @  .  .  .  @ \n",
      " .  @  @  @  . \n",
      "\n",
      "\n",
      " .  @  @  @  . \n",
      " @  .  @  .  @ \n",
      " @  @  .  @  @ \n",
      " @  .  @  .  @ \n",
      " .  @  @  @  . \n"
     ]
    }
   ],
   "source": [
    "# initial configuration of live cells\n",
    "INIT_CONFIG = [(1,2), (2,1), (2,2), (2,3)]\n",
    "# INIT_CONFIG = [(1,1), (1,2), (2,2), (3,2)]\n",
    "# INIT_CONFIG = [(1,3), (2,2), (3,1)]\n",
    "\n",
    "# grid size\n",
    "GRID_WIDTH = 5\n",
    "GRID_HEIGHT = 5\n",
    "\n",
    "# number of generations\n",
    "NUM_GENS = 8\n",
    "\n",
    "def main():\n",
    "    GRID_WIDTH = int(input(\"Enter grid width: \"))\n",
    "    GRID_HEIGHT = int(input(\"Enter grid height: \"))\n",
    "    NUM_GEN = int(input(\"Enter number of generations: \"))\n",
    "    grid = LifeGrid(GRID_WIDTH, GRID_HEIGHT)\n",
    "    grid.configure(INIT_CONFIG)\n",
    "    \n",
    "    draw(grid)\n",
    "    for i in range(NUM_GENS):\n",
    "        evolve(grid)\n",
    "        draw(grid)\n",
    "        \n",
    "# generate the next generation\n",
    "def evolve(grid):\n",
    "    liveCells = list()\n",
    "    \n",
    "    for i in range(grid.numRows()):\n",
    "        for j in range(grid.numCols()):\n",
    "            # number of living neighbors\n",
    "            neighbors = grid.numLiveNeighbors(i,j)\n",
    "            if (neighbors == 2 and grid.isLiveCell(i,j) or (neighbors == 3)):\n",
    "                liveCells.append((i,j))\n",
    "    grid.configure(liveCells)\n",
    "\n",
    "# print the grid\n",
    "def draw(grid):\n",
    "    print(\"\\n\")\n",
    "    for i in range(grid.numRows()):\n",
    "        cells = map(lambda x: \"@\" if x == 1 else \".\", [grid._grid[i,j] for j in range(grid.numCols())])\n",
    "        print((\" {} \" * grid.numCols()).format(*cells))\n",
    "\n",
    "main()"
   ]
  },
  {
   "cell_type": "markdown",
   "metadata": {},
   "source": [
    "## Exercise"
   ]
  },
  {
   "cell_type": "markdown",
   "metadata": {},
   "source": [
    "### Array-based vector"
   ]
  },
  {
   "cell_type": "code",
   "execution_count": 37,
   "metadata": {},
   "outputs": [],
   "source": [
    "class Vector:\n",
    "    def __init__(self, capacity = 2):\n",
    "        self._container = Array(capacity)\n",
    "        self._capacity = capacity\n",
    "    \n",
    "    # number of items in the vector\n",
    "    def length(self):\n",
    "        actualLength = 0\n",
    "        for item in self._container:\n",
    "            if item is not None:\n",
    "                actualLength += 1\n",
    "        return actualLength\n",
    "    \n",
    "    def contains(self, item):\n",
    "        for v in self._container:\n",
    "            if v == item:\n",
    "                return True\n",
    "        return False\n",
    "    \n",
    "    def __getitem__(self, index):\n",
    "#         assert index >= 0 and index < self._container.__len__(), \"Index out of range.\"\n",
    "        assert index >= 0 and index < self.length(), \"Index out of range.\"\n",
    "        return self._container[index]\n",
    "    \n",
    "    def __setitem__(self, index, item):\n",
    "#         assert index >= 0 and index < self._container.__len__(), \"Index out of range.\"\n",
    "        assert index >= 0 and index < self.length(), \"Index out of range.\"\n",
    "        self._container[index] = item\n",
    "    \n",
    "    def append(self, item):\n",
    "        if self.length() < self._capacity:\n",
    "            self._container[self.length()] = item\n",
    "        else:\n",
    "            # expand\n",
    "            capacity = self._container.__len__()\n",
    "            copy = self._container\n",
    "            newCapacity = capacity * 2\n",
    "            self._container = Array(newCapacity)\n",
    "            self._capacity = newCapacity\n",
    "            for v in copy:\n",
    "                self.append(v)\n",
    "            self.append(item)\n",
    "    \n",
    "    def insert(self, index, item):\n",
    "        assert index >= 0 and index < self.length(), \"Index out of range.\"\n",
    "        if index < (self.length() - 1):\n",
    "            last = self[self.length() - 1]\n",
    "            for i in reversed(range(index, self.length() - 1)):\n",
    "                self[i+1] = self[i]\n",
    "            self[index] = item\n",
    "            self.append(last)\n",
    "    \n",
    "    def remove(self, index):\n",
    "        assert index >= 0 and index < self.length(), \"Index out of range.\"\n",
    "        for i in range(index, self.length() - 1):\n",
    "            self[i] = self[i+1]\n",
    "        self[self.length() - 1] = None\n",
    "    \n",
    "    def indexOf(self, item):\n",
    "        assert self.contains(item), \"Item not in vector.\"\n",
    "        index = 0\n",
    "        for v in self:\n",
    "            if v == item:\n",
    "                return index\n",
    "            else:\n",
    "                index += 1\n",
    "    \n",
    "    def extend(self, otherVector):\n",
    "        for v in otherVector:\n",
    "            self.append(v)\n",
    "            \n",
    "    def subVector(self, l, u):\n",
    "        assert l >= 0 and l < self.length() and u >= 0 and u < self.length(), \"Index out of range.\"\n",
    "        subVec = Vector(u - l + 1)\n",
    "        for i in range(l, u + 1):\n",
    "            subVec.append(self[i])\n",
    "        return subVec\n",
    "    \n",
    "    def __iter__(self):\n",
    "        return _VectorIterator(self)\n",
    "\n",
    "class _VectorIterator:\n",
    "    def __init__(self, container):\n",
    "        self._containerRef = container\n",
    "        self._curIndex = 0\n",
    "    \n",
    "    def __iter__(self):\n",
    "        return self\n",
    "\n",
    "    def __next__(self):\n",
    "        if self._curIndex < self._containerRef.length():\n",
    "            entry = self._containerRef[self._curIndex]\n",
    "            self._curIndex += 1\n",
    "            return entry\n",
    "        else:\n",
    "            raise StopIteration"
   ]
  },
  {
   "cell_type": "code",
   "execution_count": 38,
   "metadata": {},
   "outputs": [
    {
     "name": "stdout",
     "output_type": "stream",
     "text": [
      "1\n",
      "2\n",
      "3\n",
      "1\n",
      "2\n",
      "3\n",
      "2\n",
      "3\n",
      "1\n"
     ]
    }
   ],
   "source": [
    "vec = Vector()\n",
    "vec.append(1)\n",
    "vec.append(2)\n",
    "vec.append(3)\n",
    "vec.insert(1, 4)\n",
    "vec.remove(1)\n",
    "vec2 = Vector(3)\n",
    "vec.append(1)\n",
    "vec.append(2)\n",
    "vec.append(3)\n",
    "vec.extend(vec2)\n",
    "for v in vec:\n",
    "    print(v)\n",
    "vec.indexOf(2)\n",
    "subVec = vec.subVector(1,3)\n",
    "for v in subVec:\n",
    "    print(v)"
   ]
  },
  {
   "cell_type": "markdown",
   "metadata": {},
   "source": [
    "### Shrinkable vector"
   ]
  },
  {
   "cell_type": "code",
   "execution_count": 39,
   "metadata": {},
   "outputs": [],
   "source": [
    "class ShrinkableVector(Vector):\n",
    "    def remove(self, index):\n",
    "        assert index >= 0 and index < self.length(), \"Index out of range.\"\n",
    "        for i in range(index, self.length() - 1):\n",
    "            self[i] = self[i+1]\n",
    "        self[self.length() - 1] = None\n",
    "        if self.length() < self._capacity / 2:\n",
    "            copy = self._container\n",
    "            newCapacity = self._capacity // 2\n",
    "            self._container = Array(newCapacity)\n",
    "            self._capacity = newCapacity\n",
    "            for v in copy:\n",
    "                self.append(v)"
   ]
  },
  {
   "cell_type": "code",
   "execution_count": 40,
   "metadata": {},
   "outputs": [
    {
     "data": {
      "text/plain": [
       "2"
      ]
     },
     "execution_count": 40,
     "metadata": {},
     "output_type": "execute_result"
    }
   ],
   "source": [
    "vec = ShrinkableVector()\n",
    "vec.append(1)\n",
    "vec.append(2)\n",
    "vec.append(3)\n",
    "vec.append(4)\n",
    "vec._capacity\n",
    "vec.remove(0)\n",
    "vec.remove(0)\n",
    "vec.remove(0)\n",
    "vec._capacity"
   ]
  },
  {
   "cell_type": "markdown",
   "metadata": {},
   "source": [
    "# Sets and maps"
   ]
  },
  {
   "cell_type": "markdown",
   "metadata": {},
   "source": [
    "## List-based set"
   ]
  },
  {
   "cell_type": "code",
   "execution_count": 41,
   "metadata": {},
   "outputs": [],
   "source": [
    "class Set:\n",
    "    def __init__(self):\n",
    "        self._container = list()\n",
    "    \n",
    "    def length(self):\n",
    "        return len(self._container)\n",
    "    \n",
    "    def contains(self, element):\n",
    "        return (element in self._container)\n",
    "    \n",
    "    def add(self, element):\n",
    "        if not self.contains(element):\n",
    "        # or\n",
    "        # if element not in self._container:\n",
    "            self._container.append(element)\n",
    "    \n",
    "    def remove(self, element):\n",
    "        assert self.contains(element), \"Element does not exist.\"\n",
    "        self._container.remove(element)\n",
    "        \n",
    "    def equals(self, otherSet):\n",
    "        # return (self.length() == otherSet.length() and all([otherSet.contains(e) for e in self._container]))\n",
    "        # or\n",
    "        if len(self._container) != len(otherSet._container):\n",
    "            return False\n",
    "        else:\n",
    "            return self.isSubsetOf(otherSet)\n",
    "    \n",
    "    # check if self is a subset of another set\n",
    "    def isSubsetOf(self, otherSet):\n",
    "        return all([otherSet.contains(e) for e in self._container])\n",
    "        # or like this, may terminate before looping through the entire set\n",
    "#         for e in self:\n",
    "#             if e not in otherSet:\n",
    "#                 return False\n",
    "#             return True\n",
    "    \n",
    "    def union(self, otherSet):\n",
    "        newSet = Set()\n",
    "        newSet._container = self._container\n",
    "        for e in otherSet._container:\n",
    "            if not newSet.contains(e):\n",
    "                newSet.add(e)\n",
    "        return newSet\n",
    "    \n",
    "    def intersect(self, otherSet):\n",
    "        newSet = Set()\n",
    "        for e in self._container:\n",
    "            if otherSet.contains(e):\n",
    "                newSet.add(e)\n",
    "        return newSet\n",
    "    \n",
    "    def difference(self, otherSet):\n",
    "        newSet = Set()\n",
    "        for e in self._container:\n",
    "            if not otherSet.contains(e):\n",
    "                newSet.add(e)\n",
    "        return newSet\n",
    "    \n",
    "    def __iter__(self):\n",
    "        return _SetIterator(self)\n",
    "\n",
    "class _SetIterator:\n",
    "    def __init__(self, container):\n",
    "        self._containerRef = container\n",
    "        self._curIndex = 0\n",
    "    \n",
    "    def __iter__(self):\n",
    "        return self\n",
    "\n",
    "    def __next__(self):\n",
    "        if self._curIndex < self._containerRef.length():\n",
    "            entry = self._containerRef._container[self._curIndex]\n",
    "            self._curIndex += 1\n",
    "            return entry\n",
    "        else:\n",
    "            raise StopIteration"
   ]
  },
  {
   "cell_type": "code",
   "execution_count": 42,
   "metadata": {},
   "outputs": [
    {
     "name": "stdout",
     "output_type": "stream",
     "text": [
      "2\n",
      "3\n"
     ]
    }
   ],
   "source": [
    "A = Set()\n",
    "A.add(1)\n",
    "A.add(2)\n",
    "A.add(3)\n",
    "A.add(4)\n",
    "A.remove(4)\n",
    "B = Set()\n",
    "B.add(2)\n",
    "B.add(3)\n",
    "B.add(4)\n",
    "C = A.intersect(B)\n",
    "for e in C:\n",
    "    print(e)"
   ]
  },
  {
   "cell_type": "markdown",
   "metadata": {},
   "source": [
    "## List-based map"
   ]
  },
  {
   "cell_type": "code",
   "execution_count": 43,
   "metadata": {},
   "outputs": [],
   "source": [
    "class Map:\n",
    "    def __init__(self):\n",
    "        self._container = list()\n",
    "    \n",
    "    def length(self):\n",
    "        return len(self._container)\n",
    "    \n",
    "    def contains(self, key):\n",
    "        return key in [x.key for x in self._container]\n",
    "    \n",
    "    def add(self, mapEntry):\n",
    "        if self.contains(mapEntry.key):\n",
    "            # search the key-value pair using key\n",
    "            pair = list(filter(lambda x: x.key == key, self._container))[0]\n",
    "            index = self._container.index(pair)\n",
    "            self._container[index] = mapEntry\n",
    "            return False\n",
    "        else:\n",
    "            self._container.append(mapEntry)\n",
    "            return True\n",
    "    \n",
    "    def valueOf(self, key):\n",
    "        pair = list(filter(lambda x: x.key == key, self._container))[0]\n",
    "        index = self._container.index(pair)\n",
    "        assert index is not None, \"Invalid map key.\"\n",
    "        return self._container[index].value\n",
    "    \n",
    "    def remove(self, key):\n",
    "        assert self.contains(key), \"Key does not exist.\"\n",
    "        pair = list(filter(lambda x: x.key == key, self._container))[0]\n",
    "        self._container.remove(pair)\n",
    "    \n",
    "    def __iter__(self):\n",
    "        return _MapIterator(self._container)\n",
    "\n",
    "class _MapIterator:\n",
    "    def __init__(self, container):\n",
    "        self._containerRef = container\n",
    "        self._curIndex = 0\n",
    "    \n",
    "    def __iter__(self):\n",
    "        return self\n",
    "\n",
    "    def __next__(self):\n",
    "        if self._curIndex < len(self._containerRef):\n",
    "            entry = self._containerRef[self._curIndex]\n",
    "            self._curIndex += 1\n",
    "            return entry\n",
    "        else:\n",
    "            raise StopIteration\n",
    "\n",
    "class _MapEntry:\n",
    "    def __init__(self, key, value):\n",
    "        self.key = key\n",
    "        self.value = value"
   ]
  },
  {
   "cell_type": "code",
   "execution_count": 44,
   "metadata": {
    "scrolled": true
   },
   "outputs": [
    {
     "name": "stdout",
     "output_type": "stream",
     "text": [
      "3, 2\n",
      "4, 1\n"
     ]
    },
    {
     "data": {
      "text/plain": [
       "'2'"
      ]
     },
     "execution_count": 44,
     "metadata": {},
     "output_type": "execute_result"
    }
   ],
   "source": [
    "m = Map()\n",
    "m.add(_MapEntry(1, \"1\"))\n",
    "m.add(_MapEntry(3, \"2\"))\n",
    "m.add(_MapEntry(4, \"1\"))\n",
    "m.remove(1)\n",
    "for p in m:\n",
    "    print(\"{}, {}\".format(p.key, p.value))\n",
    "m.valueOf(3)"
   ]
  },
  {
   "cell_type": "markdown",
   "metadata": {},
   "source": [
    "## Multi-dimensional array"
   ]
  },
  {
   "cell_type": "code",
   "execution_count": 45,
   "metadata": {},
   "outputs": [],
   "source": [
    "class MultiArray:\n",
    "    def __init__(self, *dimensions):\n",
    "        assert len(dimensions) > 1, \"Array must have 2 or more dimensions.\"\n",
    "        self._dims = dimensions\n",
    "        # compute the total number of elements in the array\n",
    "        size = 1\n",
    "        for d in dimensions:\n",
    "            assert d > 0, \"Dimension must be > 0.\"\n",
    "            size *= d\n",
    "        # create the 1D array\n",
    "        self._container = Array(size)\n",
    "        # create array to store the factors f_1, ..., f_n\n",
    "        self._factors = Array(len(dimensions))\n",
    "        # compute the factors\n",
    "        self._computeFactors()\n",
    "    \n",
    "    # return the number of dimensions\n",
    "    def numDims(self):\n",
    "        return len(self._dims)\n",
    "    \n",
    "    # return the length of a given dimention, starting from 1, e.g., the 1st dimension\n",
    "    def length(self, dim):\n",
    "        assert dim >= 1 and dim <= len(self._dims), \"Dimension component out of range.\"\n",
    "        return self._dims[dim-1]\n",
    "    \n",
    "    def clear(self, value):\n",
    "        self._container.clear(value)\n",
    "    \n",
    "    def __getitem__(self, index):\n",
    "        assert len(index) == self.numDims(), \"Invalid length of index tuple.\"\n",
    "        index1D = self._computeIndex(index)\n",
    "        assert index1D is not None, \"Array subscript out of range.\"\n",
    "        return self._container(index1D)\n",
    "    \n",
    "    def __setitem__(self, index, value):\n",
    "        assert len(index) == self.numDims(), \"Invalid length of index tuple.\"\n",
    "        index1D = self._computeIndex(index)\n",
    "        assert index1D is not None, \"Array subscript out of range.\"\n",
    "        self._container[index1D] = value\n",
    "    \n",
    "    # compute the 1D index of the element (i_1, i_2, ..., i_n) using the formula\n",
    "    # index(i_1, i_2, ..., i_n) = i_1 * f_1 + i_2 * f_2 + ... + i_n * f_n\n",
    "    def _computeIndex(self, index):\n",
    "        offset = 0\n",
    "        for j in range(len(index)):\n",
    "            if index[j] < 0 or index[j] >= self._dims[j]:\n",
    "                print(\"index[j] = {}; self._dims[j] = {}\".format(index[j], self._dims[j]))\n",
    "                return None\n",
    "            else:\n",
    "                offset += index[j] * self._factors[j]\n",
    "        return offset\n",
    "    \n",
    "    # compute the factors f_1, ..., f_n in the above equation using the formula\n",
    "    # f_j = \\prod_{k=j+1}^n d_k\n",
    "    def _computeFactors(self):\n",
    "        for j in range(len(self._factors)):\n",
    "            self._factors[j] = 1\n",
    "            for k in range(j+1, len(self._dims)):\n",
    "                self._factors[j] *= self._dims[k]"
   ]
  },
  {
   "cell_type": "code",
   "execution_count": 46,
   "metadata": {},
   "outputs": [
    {
     "name": "stdout",
     "output_type": "stream",
     "text": [
      "1\n",
      "2\n",
      "3\n",
      "4\n"
     ]
    }
   ],
   "source": [
    "arr = MultiArray(2,2)\n",
    "arr.numDims()\n",
    "arr[0,0] = 1\n",
    "arr[0,1] = 2\n",
    "arr[1,0] = 3\n",
    "arr[1,1] = 4\n",
    "for e in arr._container:\n",
    "    print(e)"
   ]
  },
  {
   "cell_type": "markdown",
   "metadata": {},
   "source": [
    "## Sales reports"
   ]
  },
  {
   "cell_type": "code",
   "execution_count": 47,
   "metadata": {},
   "outputs": [],
   "source": [
    "import random\n",
    "# stores 1 to 8\n",
    "# items 1 to 100\n",
    "# month 1 to 12\n",
    "salesData = MultiArray(8, 100, 12)\n",
    "\n",
    "# fill with random numbers\n",
    "def fill_random():\n",
    "    # number of dimensions, 3\n",
    "    numDims = salesData.numDims()\n",
    "    # fill each column one by one, starting from 0\n",
    "    n = 0\n",
    "    for i in range(salesData.length(1)):\n",
    "        for j in range(salesData.length(2)):\n",
    "            for k in range(salesData.length(3)):\n",
    "                index = (i,j,k)\n",
    "                salesData[index] = random.uniform(0, 3000)\n",
    "# fill_random()\n",
    "# for e in salesData._container:\n",
    "#     print(e)\n",
    "\n",
    "# compute the total sales of all items for all months in a given store\n",
    "def totalSalesByStore(salesData, store):\n",
    "    total = 0\n",
    "    s = store - 1\n",
    "    for i in range(salesData.length(2)):\n",
    "        for m in range(salesData.length(3)):\n",
    "            total += salesData[s,i,m]\n",
    "    return total\n",
    "\n",
    "# compute the total sales of all items for all stores in a given month\n",
    "def totalSalesByMonth(salesData, month):\n",
    "    total = 0\n",
    "    m = month - 1\n",
    "    for s in range(salesData.length(1)):\n",
    "        for i in range(salesData.length(2)):\n",
    "            total += salesData[s,i,m]\n",
    "    return total\n",
    "\n",
    "# compute the total sales across all stores for all months for a given item\n",
    "def totalSalesByItem(salesData, item):\n",
    "    total = 0\n",
    "    i = item - 1\n",
    "    for s in range(salesData.length(1)):\n",
    "        for m in range(salesData.length(3)):\n",
    "            total += salesData[s,i,m]\n",
    "    return total\n",
    "\n",
    "# compute the total sales per month for a given store\n",
    "def totalSalesPerMonth(salesData, store):\n",
    "    total = Array(12)\n",
    "    s = store - 1\n",
    "    for m in range(salesData.length(3)):\n",
    "        subTotal = 0\n",
    "        for i in range(salesData.length(2)):\n",
    "            subTotal += salesData[s,i,m]\n",
    "        total[m] = subTotal\n",
    "    return total"
   ]
  },
  {
   "cell_type": "markdown",
   "metadata": {},
   "source": [
    "# Algorithm analysis"
   ]
  },
  {
   "cell_type": "markdown",
   "metadata": {},
   "source": [
    "## List-based sparse matrix ADT"
   ]
  },
  {
   "cell_type": "code",
   "execution_count": 48,
   "metadata": {},
   "outputs": [],
   "source": [
    "# class for nonzero matrix element in the 1D list\n",
    "class _MatrixElement:\n",
    "    def __init__(self, row, col, value):\n",
    "        self.row = row\n",
    "        self.col = col\n",
    "        self.value = value\n",
    "        \n",
    "class SparseMatrix:\n",
    "    def __init__(self, numRows, numCols):\n",
    "        self._numRows = numRows\n",
    "        self._numCols = numCols\n",
    "        self._container = list()\n",
    "    \n",
    "    def numRows(self):\n",
    "        return self._numRows\n",
    "    \n",
    "    def numCols(self):\n",
    "        return self._numCols\n",
    "    \n",
    "    def __getitem__(self, indexTuple):\n",
    "        index = self._findPosition(indexTuple[0], indexTuple[1])\n",
    "        if index is not None:\n",
    "            return self._container[index].value\n",
    "        else:\n",
    "            return 0\n",
    "    \n",
    "    def __setitem__(self, indexTuple, scalar):\n",
    "        index = self._findPosition(indexTuple[0], indexTuple[1])\n",
    "        if index is not None:\n",
    "            if scalar != 0:\n",
    "                self._container[index].value = scalar\n",
    "            else:\n",
    "                # if scalar is 0, just remove it from the list since the container only stores nonzero values\n",
    "                self._container.pop(index)\n",
    "        else:\n",
    "            if scalar != 0:\n",
    "                self._container.append(_MatrixElement(indexTuple[0], indexTuple[1], scalar))\n",
    "    \n",
    "    def scaleBy(self, scalar):\n",
    "        for e in self._container:\n",
    "            e.value *= scalar\n",
    "    \n",
    "    def __add__(self, otherMatrix):\n",
    "        assert self._numRows == otherMatrix._numRows and self._numCols == otherMatrix._numCols, \"Matrix sizes not compatible for addition.\"\n",
    "        newMatrix = SparseMatrix(self._numRows, self._numCols)\n",
    "        for i in range(self._numRows):\n",
    "            for j in range(self._numCols):\n",
    "                newMatrix[i,j] = self[i,j] + otherMatrix[i,j]\n",
    "        return newMatrix\n",
    "    \n",
    "    def __sub__(self, otherMatrix):\n",
    "        assert self._numRows == otherMatrix._numRows and self._numCols == otherMatrix._numCols, \"Matrix sizes not compatible for subtraction.\"\n",
    "        newMatrix = SparseMatrix(self._numRows, self._numCols)\n",
    "        for i in range(self._numRows):\n",
    "            for j in range(self._numCols):\n",
    "                newMatrix[i,j] = self[i,j] - otherMatrix[i,j]\n",
    "        return newMatrix\n",
    "    \n",
    "    def __mul__(self, otherMatrix):\n",
    "        assert self._numCols == otherMatrix._numRows, \"Matrix sizes not compatible for multiplication.\"\n",
    "        newMatrix = SparseMatrix(self._numRows, otherMatrix._numCols)\n",
    "        for i in range(self._numRows):\n",
    "            for j in range(otherMatrix._numCols):\n",
    "                res = 0\n",
    "                for k in range(self._numCols):\n",
    "                    res += self[i,k] * otherMatrix[k,j]\n",
    "                newMatrix[i,j] = res\n",
    "        return newMatrix\n",
    "    \n",
    "    # find a matrix element (row, col) in the 1D list of nonzero entries\n",
    "    def _findPosition(self, row, col):\n",
    "        n = len(self._container)\n",
    "        for i in range(n):\n",
    "            if row == self._container[i].row and col == self._container[i].col:\n",
    "                return i\n",
    "        return None"
   ]
  },
  {
   "cell_type": "code",
   "execution_count": 49,
   "metadata": {},
   "outputs": [
    {
     "name": "stdout",
     "output_type": "stream",
     "text": [
      "row = 0, col = 0, value = 1\n",
      "row = 0, col = 1, value = 1\n",
      "row = 1, col = 0, value = 1\n",
      "row = 1, col = 1, value = 1\n"
     ]
    }
   ],
   "source": [
    "A = SparseMatrix(2, 2)\n",
    "A[0,0] = 0\n",
    "A[0,1] = 1\n",
    "A[1,0] = 0\n",
    "A[1,1] = 1\n",
    "B = SparseMatrix(2, 3)\n",
    "B[0,0] = 1\n",
    "B[0,1] = 1\n",
    "B[0,2] = 0\n",
    "B[1,0] = 1\n",
    "B[1,1] = 1\n",
    "B[1,2] = 0\n",
    "C = A * B\n",
    "# the 3rd column of C contains all zeros (C[0,2], C[1,2]), so it does not show up in the 1D list of nonzero entries\n",
    "for e in C._container:\n",
    "    print(\"row = {}, col = {}, value = {}\".format(e.row, e.col, e.value))"
   ]
  },
  {
   "cell_type": "markdown",
   "metadata": {},
   "source": [
    "# Searching and sorting"
   ]
  },
  {
   "cell_type": "markdown",
   "metadata": {},
   "source": [
    "## Searching"
   ]
  },
  {
   "cell_type": "markdown",
   "metadata": {},
   "source": [
    "### Binary search"
   ]
  },
  {
   "cell_type": "code",
   "execution_count": 50,
   "metadata": {},
   "outputs": [],
   "source": [
    "def binarySearch(seq, target):\n",
    "    low = 0\n",
    "    high = len(seq) - 1\n",
    "    while low <= high:\n",
    "        mid = (low + high)//2\n",
    "        if seq[mid] == target:\n",
    "            return True\n",
    "        elif target < seq[mid]:\n",
    "            high = mid - 1\n",
    "        else:\n",
    "            low = mid + 1\n",
    "    return False\n",
    "\n",
    "def binarySearchRecursive(seq, target):\n",
    "    def walk(low, high):\n",
    "        if low <= high:\n",
    "            mid = (low + high)//2\n",
    "            if seq[mid] == target:\n",
    "                return True\n",
    "            # mid is already checked, so we check mid - 1 or mid + 1\n",
    "            elif target < seq[mid]:\n",
    "                # need to add \"return\", otherwise the function returns None when not returning True\n",
    "                return walk(low, mid - 1)\n",
    "            else:\n",
    "                return walk(mid + 1, high)\n",
    "        else:\n",
    "            return False\n",
    "    \n",
    "    return walk(0, len(seq) - 1)"
   ]
  },
  {
   "cell_type": "code",
   "execution_count": 51,
   "metadata": {},
   "outputs": [
    {
     "data": {
      "text/plain": [
       "True"
      ]
     },
     "execution_count": 51,
     "metadata": {},
     "output_type": "execute_result"
    }
   ],
   "source": [
    "binarySearch([1,2,4,5,7,8,9], 0)\n",
    "binarySearchRecursive([1,2,4,5,7,8,9], 2)"
   ]
  },
  {
   "cell_type": "markdown",
   "metadata": {},
   "source": [
    "## Sorting"
   ]
  },
  {
   "cell_type": "markdown",
   "metadata": {},
   "source": [
    "### Bubble sort"
   ]
  },
  {
   "cell_type": "code",
   "execution_count": 52,
   "metadata": {},
   "outputs": [],
   "source": [
    "def bubbleSort(seq):\n",
    "    n = len(seq)\n",
    "    # run bubbleSort n-1 times\n",
    "    for i in range(n-1):\n",
    "        # bubbleSort through the seq\n",
    "        for j in range(n-1):\n",
    "            if seq[j] > seq[j+1]:\n",
    "                swap(seq, j, j+1)\n",
    "\n",
    "def swap(seq, i1, i2):\n",
    "    temp = seq[i1]\n",
    "    seq[i1] = seq[i2]\n",
    "    seq[i2] = temp"
   ]
  },
  {
   "cell_type": "code",
   "execution_count": 53,
   "metadata": {},
   "outputs": [
    {
     "name": "stdout",
     "output_type": "stream",
     "text": [
      "[2, 3, 4, 5, 7]\n"
     ]
    }
   ],
   "source": [
    "seq = [4,3,5,7,2]\n",
    "bubbleSort(seq)\n",
    "print(seq)"
   ]
  },
  {
   "cell_type": "markdown",
   "metadata": {},
   "source": [
    "### Selection sort"
   ]
  },
  {
   "cell_type": "code",
   "execution_count": 54,
   "metadata": {},
   "outputs": [],
   "source": [
    "def selectionSort(seq):\n",
    "    n = len(seq)\n",
    "    for i in range(n-1):\n",
    "        # find the index of the smallest element in seq[i:n]\n",
    "        # not using findMin() because we don't need the minimum itself but its index\n",
    "        smallIndex = i\n",
    "        for j in range(i+1, n):\n",
    "            if seq[j] < seq[smallIndex]:\n",
    "                smallIndex = j\n",
    "        # if seq[i] is not the smallest element in seq[i:n], swap it with the smallest element\n",
    "        if smallIndex != i:\n",
    "            swap(seq, smallIndex, i)"
   ]
  },
  {
   "cell_type": "code",
   "execution_count": 55,
   "metadata": {},
   "outputs": [
    {
     "name": "stdout",
     "output_type": "stream",
     "text": [
      "[2, 3, 4, 5, 7]\n"
     ]
    }
   ],
   "source": [
    "seq = [4,3,5,7,2]\n",
    "selectionSort(seq)\n",
    "print(seq)"
   ]
  },
  {
   "cell_type": "markdown",
   "metadata": {},
   "source": [
    "### Insersion sort"
   ]
  },
  {
   "cell_type": "code",
   "execution_count": 56,
   "metadata": {},
   "outputs": [],
   "source": [
    "def insertionSort(seq):\n",
    "    n = len(seq)\n",
    "    # Starts with the first item as the only sorted entry.\n",
    "    for i in range(1,n):\n",
    "        # Save the value to be positioned.\n",
    "        value = seq[i]\n",
    "        # Find the position where value fits in the ordered part of the list.\n",
    "        pos = i\n",
    "        # as long as we have not moved out of the list's head and value is smaller than its current predecessor, shift value to the left\n",
    "        while pos > 0 and value < seq[pos-1]:\n",
    "            # Shift the items to the right during the search.\n",
    "            seq[pos] = seq[pos - 1]\n",
    "            pos -= 1\n",
    "        # the current value of pos is the position where value fits in the ordered part of the list\n",
    "        # Put the saved value into the open slot.\n",
    "        seq[pos] = value"
   ]
  },
  {
   "cell_type": "code",
   "execution_count": 57,
   "metadata": {},
   "outputs": [],
   "source": [
    "def insertionSort(seq):\n",
    "    n = len(seq)\n",
    "    for i in range(1,n):\n",
    "        # seq[0:i+1] = insert(seq[0:i], seq[i])\n",
    "        seq[0:i+1] = binaryInsert(seq[0:i], seq[i])\n",
    "\n",
    "# insert value into sorted sequence\n",
    "def insert(seq, value):\n",
    "    n = len(seq)\n",
    "#     if value <= seq[0]:\n",
    "#         seq.insert(0, value)\n",
    "#     elif value >= seq[n-1]:\n",
    "#         seq.insert(n, value)\n",
    "#     else:\n",
    "#         for i in range(n-1):\n",
    "#             if value >= seq[i] and value <= seq[i+1]:\n",
    "#                 seq.insert(i+1, value)\n",
    "    pos = n\n",
    "    while pos > 0 and value < seq[pos-1]:\n",
    "        pos -= 1\n",
    "    seq.insert(pos, value)\n",
    "    return seq\n",
    "\n",
    "def binarySearchIndex(seq, value):\n",
    "    low = 0\n",
    "    high = len(seq) - 1\n",
    "    while low <= high:\n",
    "        mid = (low + high)//2\n",
    "        if value == seq[mid]:\n",
    "            return mid\n",
    "        elif value < seq[mid]:\n",
    "            high = mid - 1\n",
    "        else:\n",
    "            low = mid + 1\n",
    "    return low\n",
    "\n",
    "def binaryInsert(seq, value):\n",
    "    pos = binarySearchIndex(seq, value)\n",
    "    seq.insert(pos, value)\n",
    "    return seq"
   ]
  },
  {
   "cell_type": "code",
   "execution_count": 58,
   "metadata": {
    "scrolled": true
   },
   "outputs": [
    {
     "name": "stdout",
     "output_type": "stream",
     "text": [
      "[2, 3, 4, 5, 7, 20]\n"
     ]
    }
   ],
   "source": [
    "seq = [4,3,20,5,7,2]\n",
    "insertionSort(seq)\n",
    "print(seq)"
   ]
  },
  {
   "cell_type": "markdown",
   "metadata": {},
   "source": [
    "### Merge sort"
   ]
  },
  {
   "cell_type": "code",
   "execution_count": 59,
   "metadata": {},
   "outputs": [],
   "source": [
    "# merge two sorted lists into one sorted list\n",
    "def merge(seq1, seq2):\n",
    "    newSeq = list()\n",
    "    i = 0\n",
    "    j = 0\n",
    "    while i < len(seq1) and j < len(seq2):\n",
    "        if seq1[i] < seq2[j]:\n",
    "            newSeq.append(seq1[i])\n",
    "            i += 1\n",
    "        else:\n",
    "            newSeq.append(seq2[j])\n",
    "            j += 1\n",
    "    if i >= len(seq1):\n",
    "        newSeq.extend(seq2[j:len(seq2)])\n",
    "    else:\n",
    "        newSeq.extend(seq1[i:len(seq1)])\n",
    "    return newSeq"
   ]
  },
  {
   "cell_type": "code",
   "execution_count": 60,
   "metadata": {},
   "outputs": [
    {
     "name": "stdout",
     "output_type": "stream",
     "text": [
      "[2, 3, 5, 5, 7, 8, 10, 11, 15]\n"
     ]
    }
   ],
   "source": [
    "seq1 = [2,5,8,11,15]\n",
    "seq2 = [3,5,7,10]\n",
    "seq = merge(seq1, seq2)\n",
    "print(seq)"
   ]
  },
  {
   "cell_type": "code",
   "execution_count": 61,
   "metadata": {},
   "outputs": [],
   "source": [
    "def mergeSort(seq):\n",
    "    if len(seq) <= 1:\n",
    "        return seq\n",
    "    else:\n",
    "        mid = len(seq) // 2\n",
    "        left = mergeSort(seq[:mid])\n",
    "        right = mergeSort(seq[mid:])\n",
    "        return merge(left, right)"
   ]
  },
  {
   "cell_type": "code",
   "execution_count": 62,
   "metadata": {},
   "outputs": [
    {
     "data": {
      "text/plain": [
       "[2, 3, 4, 5, 7, 20]"
      ]
     },
     "execution_count": 62,
     "metadata": {},
     "output_type": "execute_result"
    }
   ],
   "source": [
    "seq = [4,3,20,5,7,2]\n",
    "mergeSort(seq)"
   ]
  },
  {
   "cell_type": "markdown",
   "metadata": {},
   "source": [
    "#### In-place merge sort"
   ]
  },
  {
   "cell_type": "code",
   "execution_count": 63,
   "metadata": {},
   "outputs": [],
   "source": [
    "def inPlaceMergeSort(seq, low, high, temp):\n",
    "    if low == high:\n",
    "        return seq\n",
    "    else:\n",
    "        mid = (low + high) // 2\n",
    "        inPlaceMergeSort(seq, low, mid, temp)\n",
    "        inPlaceMergeSort(seq, mid+1, high, temp)\n",
    "        inPlaceMerge(seq, low, mid+1, high+1, temp)\n",
    "\n",
    "# merge seq[low, mid] and seq[mid, high]\n",
    "def inPlaceMerge(seq, low, mid, high, temp):\n",
    "    a = low\n",
    "    b = mid\n",
    "    m = 0\n",
    "    while a < mid and b < high:\n",
    "        if seq[a] < seq[b]:\n",
    "            temp[m] = seq[a]\n",
    "            a += 1\n",
    "        else:\n",
    "            temp[m] = seq[b]\n",
    "            b += 1\n",
    "        m += 1\n",
    "    while a < mid:\n",
    "        temp[m] = seq[a]\n",
    "        a += 1\n",
    "        m += 1\n",
    "    while b < high:\n",
    "        temp[m] = seq[b]\n",
    "        b += 1\n",
    "        m += 1\n",
    "    for i in range(high - low):\n",
    "        seq[i+low] = temp[i]\n",
    "\n",
    "def mergeSort(seq):\n",
    "    n = len(seq)\n",
    "    temp = Array(n)\n",
    "    inPlaceMergeSort(seq, 0, n-1, temp)"
   ]
  },
  {
   "cell_type": "code",
   "execution_count": 64,
   "metadata": {},
   "outputs": [
    {
     "name": "stdout",
     "output_type": "stream",
     "text": [
      "[2, 3, 4, 5, 7, 20]\n"
     ]
    }
   ],
   "source": [
    "seq = [4,3,20,5,7,2]\n",
    "mergeSort(seq)\n",
    "print(seq)"
   ]
  },
  {
   "cell_type": "markdown",
   "metadata": {},
   "source": [
    "### Quick sort"
   ]
  },
  {
   "cell_type": "code",
   "execution_count": 65,
   "metadata": {},
   "outputs": [],
   "source": [
    "def recQuickSort(seq, low, high):\n",
    "    if low >= high:\n",
    "        return seq\n",
    "    else:\n",
    "        # get pivot position (pivot is already where it should be)\n",
    "        pos = partition(seq, low, high)\n",
    "        # divide the list into two parts from the pivot and sort recursively on each\n",
    "        recQuickSort(seq, low, pos-1)\n",
    "        recQuickSort(seq, pos+1, high)\n",
    "\n",
    "# put the pivot in the correct position (all elements to the left <= pivot <= all elements to the right)\n",
    "def partition(seq, low, high):\n",
    "    # uses seq[low] as pivot\n",
    "    pivot = seq[low]\n",
    "    # move elements around pivot\n",
    "    left = low + 1\n",
    "    right = high\n",
    "    while left <= right:\n",
    "        # find the first key larger than pivot\n",
    "        while left < right and seq[left] <= pivot:\n",
    "            left += 1\n",
    "        # find the last key smaller than pivot\n",
    "        # the while statement is different from the above, ensuring that the right pointer ends up at where \n",
    "        # the pivot should be\n",
    "        while left <= right and seq[right] >= pivot:\n",
    "            right -= 1   \n",
    "        # swap the two keys if the first key larger than pivot is to the left of the last key smaller than pivot\n",
    "        if left < right:\n",
    "            temp = seq[left]\n",
    "            seq[left] = seq[right]\n",
    "            seq[right] = temp\n",
    "    # put the pivot in correct position, which is where right is\n",
    "    if right != low:\n",
    "        seq[low] = seq[right]\n",
    "        seq[right] = pivot\n",
    "    # return the pivot index\n",
    "    return right"
   ]
  },
  {
   "cell_type": "code",
   "execution_count": 66,
   "metadata": {},
   "outputs": [],
   "source": [
    "def quickSort(seq):\n",
    "    n = len(seq)\n",
    "    recQuickSort(seq, 0, n-1)"
   ]
  },
  {
   "cell_type": "code",
   "execution_count": 67,
   "metadata": {},
   "outputs": [
    {
     "name": "stdout",
     "output_type": "stream",
     "text": [
      "[2, 3, 4, 5, 7, 20]\n"
     ]
    }
   ],
   "source": [
    "seq = [4,3,20,5,7,2]\n",
    "quickSort(seq)\n",
    "print(seq)"
   ]
  },
  {
   "cell_type": "markdown",
   "metadata": {},
   "source": [
    "### Radix sort"
   ]
  },
  {
   "cell_type": "code",
   "execution_count": 68,
   "metadata": {},
   "outputs": [],
   "source": [
    "class Queue:\n",
    "    def __init__(self):\n",
    "        self._container = list()\n",
    "    \n",
    "    def __len__(self):\n",
    "        return len(self._container)\n",
    "    \n",
    "    def isEmpty(self):\n",
    "        return len(self) == 0\n",
    "    \n",
    "    def enqueue(self, item):\n",
    "        self._container.append(item)\n",
    "        \n",
    "    def dequeue(self):\n",
    "        assert not self.isEmpty(), \"Operation not allowed on empty queue.\"\n",
    "        item = self._container.pop(0)\n",
    "        return item\n",
    "    \n",
    "    def traversal(self):\n",
    "        for item in self._container:\n",
    "            print(item)"
   ]
  },
  {
   "cell_type": "code",
   "execution_count": 69,
   "metadata": {},
   "outputs": [],
   "source": [
    "# for integers\n",
    "def radixSort(seq, numDigits):\n",
    "    # there are 10 digits 0, .., 9\n",
    "    # initialize 10 bins as an array of 10 queues\n",
    "    bins = Array(10)\n",
    "    for i in range(10):\n",
    "        bins[i] = Queue()\n",
    "    col = 1\n",
    "    for d in range(numDigits):\n",
    "        # distribute keys into bins 0 to 9\n",
    "        for k in seq:\n",
    "            # print(k)\n",
    "            digit = (k // col) % 10\n",
    "            bins[digit].enqueue(k)\n",
    "        # put keys back into seq\n",
    "        i = 0\n",
    "        for b in bins:\n",
    "            while not b.isEmpty():\n",
    "                seq[i] = b.dequeue()\n",
    "                i += 1\n",
    "        col *= 10"
   ]
  },
  {
   "cell_type": "code",
   "execution_count": 70,
   "metadata": {},
   "outputs": [
    {
     "name": "stdout",
     "output_type": "stream",
     "text": [
      "[5, 8, 10, 13, 18, 23, 29, 31, 37, 48, 51, 54, 62]\n"
     ]
    }
   ],
   "source": [
    "seq = [23, 10, 18, 51, 5, 13, 31, 54, 48, 62, 29, 8, 37]\n",
    "radixSort(seq, 2)\n",
    "print(seq)"
   ]
  },
  {
   "cell_type": "markdown",
   "metadata": {},
   "source": [
    "## Sorted set"
   ]
  },
  {
   "cell_type": "code",
   "execution_count": 71,
   "metadata": {},
   "outputs": [],
   "source": [
    "class SortedSet:\n",
    "    def __init__(self):\n",
    "        self._container = list()\n",
    "    \n",
    "    def length(self):\n",
    "        return len(self._container)\n",
    "    \n",
    "    def contains(self, element):\n",
    "        # O(log n)\n",
    "        index = self._findPosition(element)\n",
    "        # so that no \"index out of range\" error is raised (it just returns False)\n",
    "        return index < self.length() and self._container[index] == element\n",
    "    \n",
    "    def add(self, element):\n",
    "        if not self.contains(element):\n",
    "        # or\n",
    "        # if element not in self._container:\n",
    "            index = self._findPosition(element) # O(log n)\n",
    "            self._container.insert(index, element) # O(n)\n",
    "    \n",
    "    def remove(self, element):\n",
    "        assert self.contains(element), \"Element does not exist.\"\n",
    "        index = self._findPosition(element) # O(log n)\n",
    "        self._container.pop(index) # O(n)\n",
    "        \n",
    "    def equals(self, otherSet):\n",
    "        # return (self.length() == otherSet.length() and all([otherSet.contains(e) for e in self._container]))\n",
    "        # or\n",
    "        if self._length() != otherSet.length():\n",
    "            return False\n",
    "        else:\n",
    "            # O(n)\n",
    "            for i in range(self.length()):\n",
    "                if self._container[i] != otherSet._container[i]:\n",
    "                    return False\n",
    "            return True\n",
    "    \n",
    "    # check if self is a subset of another set\n",
    "    def isSubsetOf(self, otherSet):\n",
    "        # O(nlogn)\n",
    "        for e in self:\n",
    "            if not otherSet.contains(e):\n",
    "                return False\n",
    "        return True\n",
    "    \n",
    "    def union(self, otherSet):\n",
    "        newSet = SortedSet()\n",
    "        # merge two sorted lists\n",
    "        newSet._container = merge(self._container, otherSet._container) # O(n)\n",
    "        return newSet\n",
    "    \n",
    "    def intersect(self, otherSet):\n",
    "        newSet = SortedSet()\n",
    "        for e in self._container:\n",
    "            if otherSet.contains(e):\n",
    "                newSet.add(e)\n",
    "        return newSet\n",
    "    \n",
    "    def difference(self, otherSet):\n",
    "        newSet = SortedSet()\n",
    "        for e in self._container:\n",
    "            if not otherSet.contains(e):\n",
    "                newSet.add(e)\n",
    "        return newSet\n",
    "    \n",
    "    def __iter__(self):\n",
    "        return _SetIterator(self)\n",
    "    \n",
    "    def _findPosition(self, element):\n",
    "        low = 0\n",
    "        high = self.length() - 1\n",
    "        while low <= high:\n",
    "            mid = (low + high)//2\n",
    "            if element == self._container[mid]:\n",
    "                return mid\n",
    "            elif element < self._container[mid]:\n",
    "                high = mid - 1\n",
    "            else:\n",
    "                low = mid + 1\n",
    "        return low\n",
    "\n",
    "class _SetIterator:\n",
    "    def __init__(self, container):\n",
    "        self._containerRef = container\n",
    "        self._curIndex = 0\n",
    "    \n",
    "    def __iter__(self):\n",
    "        return self\n",
    "\n",
    "    def __next__(self):\n",
    "        if self._curIndex < self._containerRef.length():\n",
    "            entry = self._containerRef._container[self._curIndex]\n",
    "            self._curIndex += 1\n",
    "            return entry\n",
    "        else:\n",
    "            raise StopIteration"
   ]
  },
  {
   "cell_type": "code",
   "execution_count": 72,
   "metadata": {},
   "outputs": [
    {
     "name": "stdout",
     "output_type": "stream",
     "text": [
      "2\n",
      "3\n"
     ]
    }
   ],
   "source": [
    "A = SortedSet()\n",
    "A.add(1)\n",
    "A.add(2)\n",
    "A.add(3)\n",
    "A.add(4)\n",
    "A.remove(4)\n",
    "B = SortedSet()\n",
    "B.add(2)\n",
    "B.add(3)\n",
    "B.add(4)\n",
    "C = A.intersect(B)\n",
    "for e in C:\n",
    "    print(e)"
   ]
  },
  {
   "cell_type": "markdown",
   "metadata": {},
   "source": [
    "# Linked structures"
   ]
  },
  {
   "cell_type": "markdown",
   "metadata": {},
   "source": [
    "## Singly linked list ADT"
   ]
  },
  {
   "cell_type": "code",
   "execution_count": 73,
   "metadata": {},
   "outputs": [],
   "source": [
    "class ListNode:\n",
    "    def __init__(self, data):\n",
    "        self.data = data\n",
    "        self.next = None"
   ]
  },
  {
   "cell_type": "code",
   "execution_count": 74,
   "metadata": {},
   "outputs": [],
   "source": [
    "a = ListNode(11)\n",
    "b = ListNode(52)\n",
    "c = ListNode(18)\n",
    "a.next = b\n",
    "b.next = c"
   ]
  },
  {
   "cell_type": "code",
   "execution_count": 75,
   "metadata": {},
   "outputs": [
    {
     "name": "stdout",
     "output_type": "stream",
     "text": [
      "11\n",
      "52\n",
      "18\n"
     ]
    }
   ],
   "source": [
    "def traversal(head):\n",
    "    curNode = head\n",
    "    while curNode is not None:\n",
    "        print(curNode.data)\n",
    "        curNode = curNode.next\n",
    "\n",
    "traversal(a)"
   ]
  },
  {
   "cell_type": "code",
   "execution_count": 76,
   "metadata": {},
   "outputs": [
    {
     "data": {
      "text/plain": [
       "True"
      ]
     },
     "execution_count": 76,
     "metadata": {},
     "output_type": "execute_result"
    }
   ],
   "source": [
    "def unorderedSearch(head, target):\n",
    "    curNode = head\n",
    "    while curNode is not None and curNode.data != target:\n",
    "        curNode = curNode.next\n",
    "    return curNode is not None\n",
    "\n",
    "unorderedSearch(a, 52)"
   ]
  },
  {
   "cell_type": "code",
   "execution_count": 77,
   "metadata": {},
   "outputs": [],
   "source": [
    "def prePend(head, target):\n",
    "    newNode = ListNode(target)\n",
    "    newNode.next = head\n",
    "    head = newNode\n",
    "    \n",
    "prePend(a, 2)"
   ]
  },
  {
   "cell_type": "code",
   "execution_count": 78,
   "metadata": {},
   "outputs": [
    {
     "name": "stdout",
     "output_type": "stream",
     "text": [
      "11\n",
      "18\n"
     ]
    }
   ],
   "source": [
    "def remove(head, target):\n",
    "    curNode = head\n",
    "    preNode = None\n",
    "    while curNode is not None and curNode.data != target:\n",
    "        preNode = curNode\n",
    "        curNode = curNode.next\n",
    "    # if curNode is None, then the target is not in the list\n",
    "    if curNode is not None:\n",
    "        if curNode == head:\n",
    "            head = curNode.next\n",
    "            curNode.next = None\n",
    "        else:\n",
    "            preNode.next = curNode.next\n",
    "            curNode.next = None\n",
    "\n",
    "remove(a, 52)\n",
    "traversal(a)"
   ]
  },
  {
   "cell_type": "markdown",
   "metadata": {},
   "source": [
    "### Linked list-based bag"
   ]
  },
  {
   "cell_type": "code",
   "execution_count": 79,
   "metadata": {},
   "outputs": [],
   "source": [
    "class _BagListNode:\n",
    "    def __init__(self, data):\n",
    "        self.data = data\n",
    "        self.next = None\n",
    "        \n",
    "class LinkedBag:\n",
    "    def __init__(self):\n",
    "        # head pointer, initialized to None\n",
    "        self._head = None\n",
    "        self._size = 0\n",
    "    \n",
    "    def __len__(self):\n",
    "        return self._size\n",
    "    \n",
    "    def contains(self, target):\n",
    "        curNode = self._head\n",
    "        while curNode is not None:\n",
    "            if curNode.data == target:\n",
    "                return True\n",
    "            curNode = curNode.next\n",
    "        return False\n",
    "    \n",
    "    def add(self, target):\n",
    "        newNode = ListNode(target)\n",
    "        newNode.next = self._head\n",
    "        self._head = newNode\n",
    "        self._size += 1\n",
    "        \n",
    "    def remove(self, target):\n",
    "        preNode = None\n",
    "        curNode = self._head\n",
    "        while curNode is not None and curNode.data != target:\n",
    "            preNode = curNode\n",
    "            curNode = curNode.next\n",
    "        assert curNode is not None, \"The item must be in the bag.\"\n",
    "        if curNode == self._head:\n",
    "            self._head = curNode.next\n",
    "        else:\n",
    "            preNode.next = curNode.next\n",
    "        curNode.next = None\n",
    "        self._size -= 1\n",
    "    \n",
    "    def __iter__(self):\n",
    "        return _ListBagIterator(self._head)\n",
    "\n",
    "class _ListBagIterator:\n",
    "    def __init__(self, listHead):\n",
    "        self._curNode = listHead\n",
    "\n",
    "    def __iter__(self):\n",
    "        return self\n",
    "    \n",
    "    def next(self):\n",
    "        if self._curNode is None:\n",
    "            raise StopIteration\n",
    "        else:\n",
    "            data = self._curNode.data\n",
    "            self._curNode = self._curNode.next\n",
    "            return data"
   ]
  },
  {
   "cell_type": "markdown",
   "metadata": {},
   "source": [
    "### Linked list variants"
   ]
  },
  {
   "cell_type": "markdown",
   "metadata": {},
   "source": [
    "#### Tail reference"
   ]
  },
  {
   "cell_type": "code",
   "execution_count": 80,
   "metadata": {},
   "outputs": [
    {
     "name": "stdout",
     "output_type": "stream",
     "text": [
      "11\n",
      "18\n",
      "3\n"
     ]
    }
   ],
   "source": [
    "def append(head, tail, target):\n",
    "    newNode = ListNode(target)\n",
    "    if head is None:\n",
    "        head = newNode\n",
    "    else:\n",
    "        tail.next = newNode\n",
    "    tail = newNode\n",
    "    \n",
    "append(a, c, 3)\n",
    "traversal(a)"
   ]
  },
  {
   "cell_type": "code",
   "execution_count": 81,
   "metadata": {},
   "outputs": [
    {
     "name": "stdout",
     "output_type": "stream",
     "text": [
      "11\n",
      "18\n",
      "3\n"
     ]
    }
   ],
   "source": [
    "def remove(head, tail, target):\n",
    "    curNode = head\n",
    "    preNode = None\n",
    "    while curNode is not None and curNode.data != target:\n",
    "        preNode = curNode\n",
    "        curNode = curNode.next\n",
    "    # if curNode is None, then the target is not in the list\n",
    "    if curNode is not None:\n",
    "        if curNode is head:\n",
    "            head = curNode.next\n",
    "        else:\n",
    "            preNode.next = curNode.next\n",
    "        if curNode is tail:\n",
    "            tail = preNode\n",
    "        curNode.next = None\n",
    "\n",
    "remove(a, c, 52)\n",
    "traversal(a)"
   ]
  },
  {
   "cell_type": "markdown",
   "metadata": {},
   "source": [
    "#### Sorted"
   ]
  },
  {
   "cell_type": "code",
   "execution_count": 82,
   "metadata": {},
   "outputs": [
    {
     "name": "stdout",
     "output_type": "stream",
     "text": [
      "11\n",
      "18\n",
      "52\n"
     ]
    }
   ],
   "source": [
    "a = ListNode(11)\n",
    "b = ListNode(18)\n",
    "c = ListNode(52)\n",
    "a.next = b\n",
    "b.next = c\n",
    "traversal(a)"
   ]
  },
  {
   "cell_type": "code",
   "execution_count": 83,
   "metadata": {},
   "outputs": [
    {
     "data": {
      "text/plain": [
       "True"
      ]
     },
     "execution_count": 83,
     "metadata": {},
     "output_type": "execute_result"
    }
   ],
   "source": [
    "def sortedSearch(head, target):\n",
    "    curNode = head\n",
    "    while curNode is not None and curNode.data <= target:\n",
    "        if curNode.data == target:\n",
    "            return True\n",
    "        else:\n",
    "            curNode = curNode.next\n",
    "    return False\n",
    "\n",
    "sortedSearch(a, 18)"
   ]
  },
  {
   "cell_type": "code",
   "execution_count": 84,
   "metadata": {},
   "outputs": [
    {
     "name": "stdout",
     "output_type": "stream",
     "text": [
      "11\n",
      "18\n",
      "20\n",
      "52\n"
     ]
    }
   ],
   "source": [
    "def insert(head, target):\n",
    "    preNode = None\n",
    "    curNode = head\n",
    "    while curNode is not None and curNode.data < target:\n",
    "        preNode = curNode\n",
    "        curNode = curNode.next\n",
    "    # after the while loop, curNode is where target should be inserted\n",
    "    newNode = ListNode(target)\n",
    "    newNode.next = curNode\n",
    "    if curNode is head:\n",
    "        head = newNode\n",
    "    else:\n",
    "        preNode.next = newNode\n",
    "\n",
    "insert(a, 20)\n",
    "traversal(a)"
   ]
  },
  {
   "cell_type": "markdown",
   "metadata": {},
   "source": [
    "### Linked list-based sparse matrix"
   ]
  },
  {
   "cell_type": "code",
   "execution_count": 85,
   "metadata": {},
   "outputs": [],
   "source": [
    "class _MatrixElementNode:\n",
    "    def __init__(self, col, value):\n",
    "        self.col = col\n",
    "        self.value = value\n",
    "        self.next = None\n",
    "\n",
    "class SparseMatrix:\n",
    "    def __init__(self, numRows, numCols):\n",
    "        self._numCols = numCols\n",
    "        # array of linked lists\n",
    "        self._arrOfRows = Array(numRows)\n",
    "    \n",
    "    def numRows(self):\n",
    "        return len(self._arrOfRows)\n",
    "\n",
    "    def numCols(self):\n",
    "        return self._numCols\n",
    "    \n",
    "    def __getitem__(self, indexTuple):\n",
    "        row = indexTuple[0]\n",
    "        col = indexTuple[1]\n",
    "        curNode = self._arrOfRows[row]\n",
    "        while curNode is not None and curNode.col != col:\n",
    "            curNode = curNode.next\n",
    "        assert curNode is not None and curNode.col == col, \"Element must be in the list.\"\n",
    "        return curNode.value\n",
    "    \n",
    "    def __setitem__(self, indexTuple, value):\n",
    "        row = indexTuple[0]\n",
    "        col = indexTuple[1]\n",
    "        preNode = None\n",
    "        curNode = self._arrOfRows[row]\n",
    "        while curNode is not None and curNode.col != col:\n",
    "            preNode = curNode\n",
    "            curNode = curNode.next\n",
    "        # if element is in the list\n",
    "        if curNode is not None and curNode.col == col:\n",
    "            # if value is 0, remove the node\n",
    "            if value == 0:\n",
    "                # if curNode is the head of linked list (preNode would be None)\n",
    "                if curNode == self._arrOfRows[row]:\n",
    "                    # each linked list representing a row is sorted by the column index, \n",
    "                    # so if a certain position is 0, \n",
    "                    # simply remove it by linking its predecessor to its successor\n",
    "                    self._arrOfRows[row] = curNode.next\n",
    "                else:\n",
    "                    preNode.next = curNode.next\n",
    "            else:\n",
    "                # if value is nonzero, assign value\n",
    "                curNode.value = value\n",
    "        # otherwise, the element is not in the list\n",
    "        # if value is 0, there is nothing to be done\n",
    "        elif value != 0:\n",
    "            newNode = _MatrixElementNode(col, value)\n",
    "            newNode.next = curNode\n",
    "            if curNode == self._arrOfRows[row]:\n",
    "                self._arrOfRows[row] = newNode\n",
    "            else:\n",
    "                preNode.next = newNode\n",
    "    \n",
    "    def scaleBy(self, scalar):\n",
    "        for i in range(self.numRows()):\n",
    "            curNode = self._arrOfRows[i]\n",
    "            while curNode is not None:\n",
    "                curNode *= scalar\n",
    "                curNode = curNode.next\n",
    "    \n",
    "    def __add__(self, otherMatrix):\n",
    "        assert self.numRows() == otherMatrix.numRows() and self.numCols() == otherMatrix.numCols(), \"Matrix sizes not compatible for addition.\"\n",
    "        newMatrix = SparseMatrix(self.numRows(), self.numCols())\n",
    "        for i in range(self.numRows()):\n",
    "            curNode = self._arrOfRows[i]\n",
    "            curNode2 = otherMatrix._arrOfRows[i]\n",
    "            while curNode is not None:\n",
    "                newMatrix[i, curNode.col] = curNode.value + curNode2.value\n",
    "                curNode = curNode.next\n",
    "                curNode2 = curNode2.next\n",
    "            return newMatrix"
   ]
  },
  {
   "cell_type": "code",
   "execution_count": 86,
   "metadata": {},
   "outputs": [
    {
     "name": "stdout",
     "output_type": "stream",
     "text": [
      "row = 0, col = 0, value = 1\n",
      "row = 0, col = 1, value = 1\n",
      "row = 1, col = 0, value = 1\n",
      "row = 1, col = 1, value = 1\n"
     ]
    }
   ],
   "source": [
    "A = SparseMatrix(2, 2)\n",
    "A[0,0] = 0\n",
    "A[0,1] = 1\n",
    "A[1,0] = 0\n",
    "A[1,1] = 1\n",
    "B = SparseMatrix(2, 3)\n",
    "B[0,0] = 1\n",
    "B[0,1] = 1\n",
    "B[0,2] = 0\n",
    "B[1,0] = 1\n",
    "B[1,1] = 1\n",
    "B[1,2] = 0\n",
    "# the 3rd column of C contains all zeros (C[0,2], C[1,2]), so it does not show up in the 1D list of nonzero entries\n",
    "for i in range(B.numRows()):\n",
    "    curNode = B._arrOfRows[i]\n",
    "    while curNode is not None:\n",
    "        print(\"row = {}, col = {}, value = {}\".format(i, curNode.col, curNode.value))\n",
    "        curNode = curNode.next"
   ]
  },
  {
   "cell_type": "markdown",
   "metadata": {},
   "source": [
    "### Linked list-based polynomial"
   ]
  },
  {
   "cell_type": "code",
   "execution_count": 87,
   "metadata": {},
   "outputs": [],
   "source": [
    "class _PolyTermNode(object):\n",
    "    def __init__(self, degree, coefficient):\n",
    "        self.degree = degree\n",
    "        self.coefficient = coefficient\n",
    "        self.next = None\n",
    "\n",
    "class Polynomial:\n",
    "    def __init__(self, degree = None, coefficient = None):\n",
    "        if degree is None:\n",
    "            self._polyHead = None\n",
    "        else:\n",
    "            self._polyHead = _PolyTermNode(degree, coefficient)\n",
    "        self._polyTail = self._polyHead\n",
    "    \n",
    "    def degree(self):\n",
    "        if self._polyHead is None:\n",
    "            return -1\n",
    "        else:\n",
    "            return self._polyHead.degree\n",
    "    \n",
    "    # return the coefficient for the term of the given degree\n",
    "    def __getitem__(self, degree):\n",
    "        assert self.degree() >= 0, \"Operation not allowed on empty polynomial.\"\n",
    "        curNode = self._polyHead\n",
    "        while curNode is not None and curNode.degree >= degree:\n",
    "            curNode = curNode.next\n",
    "        if curNode is None or curNode.degree != degree:\n",
    "            return 0\n",
    "        else:\n",
    "            return curNode.coefficient\n",
    "    \n",
    "    def evaluate(self, scalar):\n",
    "        assert self.degree() >= 0, \"Operation not allowed on empty polynomial.\"\n",
    "        result = 0\n",
    "        curNode = self._polyHead\n",
    "        while curNode is not None:\n",
    "            result += curNode.coefficient * (scalar ** curNode.degree)\n",
    "            curNode = curNode.next\n",
    "        return result\n",
    "    \n",
    "    def _appendTerm(self, degree, coefficient):\n",
    "        if coefficient != 0:\n",
    "            newTerm = _PolyTermNode(degree, coefficient)\n",
    "            if self._polyHead is None:\n",
    "                self._polyHead = newTerm\n",
    "            else:\n",
    "                self._polyTail.next = newTerm\n",
    "            self._polyTail = newTerm\n",
    "    \n",
    "    # inefficient\n",
    "    def simpleAdd(self, otherPoly):\n",
    "        assert self.degree() >= 0 and otherPoly.degree() >= 0, \"Operation not allowed on empty polynomial.\"\n",
    "        maxDegree = max(self.degree(), otherPoly.degree())\n",
    "        newPoly = Polynomial(maxDegree)\n",
    "        for i in reversed(range(newPoly.degree())):\n",
    "            # because of how __getitem__() is defined, p[i] returns the coefficient of the ith degree term\n",
    "            newCoeff = self[i] + otherPoly[i] # inefficient because index access is O(n)\n",
    "            newTerm = Polynomial(newCoeff, i)\n",
    "            newPoly._appendTerm(newTerm)\n",
    "        return newPoly\n",
    "    \n",
    "    # efficient, recall merging two sorted lists\n",
    "    def __add__(self, otherPoly):\n",
    "        assert self.degree() >= 0 and otherPoly.degree() >= 0, \"Operation not allowed on empty polynomial.\"\n",
    "        newPoly = Polynomial()\n",
    "        # this is like insert()\n",
    "        a = self._polyHead\n",
    "        b = otherPoly._polyHead\n",
    "        while a is not None and b is not None:\n",
    "            if a.degree == b.degree:\n",
    "                newPoly._appendTerm(a.degree, a.coefficient + b.coefficient)\n",
    "                a = a.next\n",
    "                b = b.next\n",
    "            elif a.degree < b.degree:\n",
    "                newPoly._appendTerm(b.degree, b.coefficient)\n",
    "                b = b.next\n",
    "            else:\n",
    "                newPoly._appendTerm(a.degree, a.coefficient)\n",
    "                a = a.next\n",
    "        while a is not None:\n",
    "            newPoly._appendTerm(a.degree, a.coefficient)\n",
    "            a = a.next\n",
    "        while b is not None:\n",
    "            newPoly._appendTerm(b.degree, b.coefficient)\n",
    "            b = b.next\n",
    "        return newPoly\n",
    "    \n",
    "    def _termMultiply(self, termNode):\n",
    "        newPoly = Polynomial()\n",
    "        curNode = self._polyHead\n",
    "        while curNode is not None:\n",
    "            newPoly._appendTerm(termNode.degree + curNode.degree, termNode.coefficient * curNode.coefficient)\n",
    "            curNode = curNode.next\n",
    "        return newPoly\n",
    "    \n",
    "    def __mul__(self, otherPoly):\n",
    "        assert self.degree() >= 0 and otherPoly.degree() >= 0, \"Operation not allowed on empty polynomial.\"\n",
    "        newPoly = Polynomial(0,0) # cannot be empty polynomial as addition is not allowed on empty polynomial\n",
    "        curNode = self._polyHead\n",
    "        while curNode is not None:\n",
    "            tempPoly = otherPoly._termMultiply(curNode)\n",
    "            newPoly += tempPoly\n",
    "            curNode = curNode.next\n",
    "        return newPoly\n",
    "    \n",
    "    def traversal(self):\n",
    "        assert self.degree() >= 0, \"Operation not allowed on empty polynomial.\"\n",
    "        curNode = self._polyHead\n",
    "        while curNode is not None:\n",
    "            print(\"degree = {}, coefficient = {}\".format(curNode.degree, curNode.coefficient))\n",
    "            curNode = curNode.next"
   ]
  },
  {
   "cell_type": "code",
   "execution_count": 88,
   "metadata": {},
   "outputs": [
    {
     "name": "stdout",
     "output_type": "stream",
     "text": [
      "degree = 5, coefficient = 10\n",
      "degree = 4, coefficient = 26\n",
      "degree = 3, coefficient = -8\n",
      "degree = 2, coefficient = -25\n",
      "degree = 1, coefficient = 9\n",
      "degree = 0, coefficient = -30\n"
     ]
    }
   ],
   "source": [
    "# 5x^2 + 3x - 10\n",
    "p1 = Polynomial(2,5)\n",
    "p1._appendTerm(1,3)\n",
    "p1._appendTerm(0,-10)\n",
    "# 2x^3 + 4x^2 + 3\n",
    "p2 = Polynomial(3,2)\n",
    "p2._appendTerm(2,4)\n",
    "p2._appendTerm(0,3)\n",
    "p3 = p1 + p2\n",
    "p4 = p1 * p2\n",
    "p4.traversal()"
   ]
  },
  {
   "cell_type": "markdown",
   "metadata": {},
   "source": [
    "## Doubly linked list ADT"
   ]
  },
  {
   "cell_type": "code",
   "execution_count": 89,
   "metadata": {},
   "outputs": [],
   "source": [
    "class DListNode:\n",
    "    def __init__(self, value):\n",
    "        self.value = value\n",
    "        self.prev = None\n",
    "        self.next = None"
   ]
  },
  {
   "cell_type": "code",
   "execution_count": 90,
   "metadata": {},
   "outputs": [],
   "source": [
    "a = DListNode(21)\n",
    "b = DListNode(37)\n",
    "c = DListNode(58)\n",
    "d = DListNode(74)\n",
    "a.next = b\n",
    "b.prev = a\n",
    "b.next = c\n",
    "c.prev = b\n",
    "c.next = d\n",
    "d.prev = c"
   ]
  },
  {
   "cell_type": "code",
   "execution_count": 91,
   "metadata": {},
   "outputs": [],
   "source": [
    "def traversal(head):\n",
    "    curNode = head\n",
    "    while curNode is not None:\n",
    "        print(curNode.value)\n",
    "        curNode = curNode.next\n",
    "\n",
    "def revTraversal(tail):\n",
    "    curNode = tail\n",
    "    while curNode is not None:\n",
    "        print(curNode.value)\n",
    "        curNode = curNode.prev"
   ]
  },
  {
   "cell_type": "code",
   "execution_count": 92,
   "metadata": {},
   "outputs": [
    {
     "name": "stdout",
     "output_type": "stream",
     "text": [
      "21\n",
      "37\n",
      "58\n",
      "74\n",
      "58\n",
      "37\n",
      "21\n"
     ]
    }
   ],
   "source": [
    "traversal(a)\n",
    "revTraversal(c)"
   ]
  },
  {
   "cell_type": "code",
   "execution_count": 93,
   "metadata": {},
   "outputs": [],
   "source": [
    "# assume doubly linked list is sorted\n",
    "def search(head, probe, target):\n",
    "    # if list is empty\n",
    "    if head is None:\n",
    "        return False\n",
    "    elif probe is None:\n",
    "        # initialize probe\n",
    "        probe = head\n",
    "    if target < probe.value:\n",
    "        while probe is not None and target <= probe.value:\n",
    "            if target == probe.value:\n",
    "                return True\n",
    "            else:\n",
    "                probe = probe.prev\n",
    "    else:\n",
    "        while probe is not None and target >= probe.value:\n",
    "            if target == probe.value:\n",
    "                return True\n",
    "            else:\n",
    "                probe = probe.next\n",
    "    return False"
   ]
  },
  {
   "cell_type": "code",
   "execution_count": 94,
   "metadata": {},
   "outputs": [
    {
     "data": {
      "text/plain": [
       "True"
      ]
     },
     "execution_count": 94,
     "metadata": {},
     "output_type": "execute_result"
    }
   ],
   "source": [
    "search(a, b, 58)"
   ]
  },
  {
   "cell_type": "code",
   "execution_count": 95,
   "metadata": {},
   "outputs": [],
   "source": [
    "def add(head, tail, probe, target):\n",
    "    newNode = DListNode(target)\n",
    "    if head is None:\n",
    "        head = newNode\n",
    "        tail = head\n",
    "    else:\n",
    "        if target < head.value:\n",
    "            newNode.next = head\n",
    "            head.prev = newNode\n",
    "            head = newNode\n",
    "        elif target > tail.value:\n",
    "            newNode.prev = tail\n",
    "            tail.next = newNode\n",
    "            tail = newNode\n",
    "        else:\n",
    "            if probe is None:\n",
    "                probe = head\n",
    "            if target < probe.value:\n",
    "                while probe is not None and target < probe.value:\n",
    "                    probe = probe.prev\n",
    "            else:\n",
    "                while probe is not None and target > probe.value:\n",
    "                    probe = probe.next\n",
    "            probe.prev.next = newNode\n",
    "            newNode.prev = probe.prev\n",
    "            newNode.next = probe\n",
    "            probe.prev = newNode\n",
    "    "
   ]
  },
  {
   "cell_type": "code",
   "execution_count": 96,
   "metadata": {
    "scrolled": true
   },
   "outputs": [
    {
     "name": "stdout",
     "output_type": "stream",
     "text": [
      "74\n",
      "58\n",
      "37\n",
      "21\n",
      "20\n"
     ]
    }
   ],
   "source": [
    "add(a, c, None, 20)\n",
    "revTraversal(d)"
   ]
  },
  {
   "cell_type": "code",
   "execution_count": 97,
   "metadata": {},
   "outputs": [],
   "source": [
    "def remove(head, target):\n",
    "    assert search(head, None, target), \"Element must be in the list.\"\n",
    "    curNode = head\n",
    "    while curNode is not None and curNode.value != target:\n",
    "        curNode = curNode.next\n",
    "    if curNode is head:\n",
    "        curNode.next.prev = None\n",
    "        head = curNode.next\n",
    "    else:\n",
    "        curNode.next.prev = curNode.prev\n",
    "        curNode.prev.next = curNode.next"
   ]
  },
  {
   "cell_type": "code",
   "execution_count": 98,
   "metadata": {},
   "outputs": [
    {
     "name": "stdout",
     "output_type": "stream",
     "text": [
      "74\n",
      "58\n",
      "37\n"
     ]
    }
   ],
   "source": [
    "remove(a, 21)\n",
    "revTraversal(d)"
   ]
  },
  {
   "cell_type": "markdown",
   "metadata": {},
   "source": [
    "## Circular linked list"
   ]
  },
  {
   "cell_type": "code",
   "execution_count": 99,
   "metadata": {},
   "outputs": [],
   "source": [
    "a = DListNode(21)\n",
    "b = DListNode(37)\n",
    "c = DListNode(58)\n",
    "d = DListNode(74)\n",
    "a.prev = d\n",
    "a.next = b\n",
    "b.prev = a\n",
    "b.next = c\n",
    "c.prev = b\n",
    "c.next = d\n",
    "d.prev = c\n",
    "d.next = a"
   ]
  },
  {
   "cell_type": "code",
   "execution_count": 100,
   "metadata": {},
   "outputs": [],
   "source": [
    "def traversal(head):\n",
    "    curNode = head\n",
    "    # if head is None, the loop would not be entered\n",
    "    done = head is None\n",
    "    while not done:\n",
    "        print(curNode.value)\n",
    "        curNode = curNode.next\n",
    "        done = curNode is head"
   ]
  },
  {
   "cell_type": "code",
   "execution_count": 101,
   "metadata": {},
   "outputs": [
    {
     "name": "stdout",
     "output_type": "stream",
     "text": [
      "21\n",
      "37\n",
      "58\n",
      "74\n"
     ]
    }
   ],
   "source": [
    "traversal(a)"
   ]
  },
  {
   "cell_type": "code",
   "execution_count": 102,
   "metadata": {},
   "outputs": [],
   "source": [
    "def search(head, target):\n",
    "    curNode = head\n",
    "    done = head is None\n",
    "    while not done:\n",
    "        if target == curNode.value:\n",
    "            return True\n",
    "        else:\n",
    "            curNode = curNode.next\n",
    "            done = curNode is head or curNode.value > target\n",
    "    return False"
   ]
  },
  {
   "cell_type": "code",
   "execution_count": 103,
   "metadata": {},
   "outputs": [
    {
     "data": {
      "text/plain": [
       "False"
      ]
     },
     "execution_count": 103,
     "metadata": {},
     "output_type": "execute_result"
    }
   ],
   "source": [
    "search(a, 20)"
   ]
  },
  {
   "cell_type": "code",
   "execution_count": 104,
   "metadata": {},
   "outputs": [],
   "source": [
    "def add(head, probe, target):\n",
    "    newNode = DListNode(target)\n",
    "    if head is None:\n",
    "        head = newNode\n",
    "        head.prev = head\n",
    "        head.next = head\n",
    "    else:\n",
    "        if target < head.value:\n",
    "            newNode.next = head\n",
    "            newNode.prev = head.prev\n",
    "            head.prev.next = newNode\n",
    "            head.prev = newNode\n",
    "            head = newNode\n",
    "        elif target > head.prev.value:\n",
    "            newNode.prev = head.prev\n",
    "            newNode.next = head\n",
    "            head.prev.next = newNode\n",
    "            head.prev = newNode\n",
    "        else:\n",
    "            if probe is None:\n",
    "                probe = head\n",
    "            if target < probe.value:\n",
    "                # no need to keep track of the done variable because you will always find a place to insert the new node\n",
    "                while probe is not None and target < probe.value:\n",
    "                    probe = probe.prev\n",
    "            else:\n",
    "                while probe is not None and target > probe.value:\n",
    "                    probe = probe.next\n",
    "            probe.prev.next = newNode\n",
    "            newNode.prev = probe.prev\n",
    "            newNode.next = probe\n",
    "            probe.prev = newNode\n",
    "    "
   ]
  },
  {
   "cell_type": "code",
   "execution_count": 105,
   "metadata": {},
   "outputs": [
    {
     "name": "stdout",
     "output_type": "stream",
     "text": [
      "21\n",
      "37\n",
      "58\n",
      "70\n",
      "74\n"
     ]
    }
   ],
   "source": [
    "# add(a, None, 20)\n",
    "# traversal(a)\n",
    "# add(a, None, 100)\n",
    "# traversal(a)\n",
    "# the head argument must be the smallest element in the list for the sorted order to be maintained\n",
    "add(a, None, 70)\n",
    "traversal(a)"
   ]
  },
  {
   "cell_type": "code",
   "execution_count": 106,
   "metadata": {},
   "outputs": [],
   "source": [
    "def remove(head, target):\n",
    "    assert search(head, target), \"Element must be in the list.\"\n",
    "    curNode = head\n",
    "    while curNode.value != target:\n",
    "        curNode = curNode.next\n",
    "    curNode.prev.next = curNode.next\n",
    "    curNode.next.prev = curNode.prev\n",
    "    if curNode is head:\n",
    "        head = curNode.next\n",
    "    elif curNode is head.prev:\n",
    "        head.prev = curNode.prev\n",
    "    curNode.next = None\n",
    "    curNode.prev = None"
   ]
  },
  {
   "cell_type": "code",
   "execution_count": 107,
   "metadata": {
    "scrolled": true
   },
   "outputs": [
    {
     "name": "stdout",
     "output_type": "stream",
     "text": [
      "21\n",
      "37\n",
      "58\n",
      "70\n"
     ]
    }
   ],
   "source": [
    "# remove(a, 21)\n",
    "# traversal(b)\n",
    "remove(a, 74)\n",
    "traversal(a)"
   ]
  },
  {
   "cell_type": "markdown",
   "metadata": {},
   "source": [
    "## Multi-linked list"
   ]
  },
  {
   "cell_type": "code",
   "execution_count": 108,
   "metadata": {},
   "outputs": [],
   "source": [
    "class StudentMListNode:\n",
    "    def __init__(self, data):\n",
    "        self.data = data\n",
    "        self.nextById = None\n",
    "        self.nextByName = None"
   ]
  },
  {
   "cell_type": "code",
   "execution_count": 109,
   "metadata": {},
   "outputs": [],
   "source": [
    "class MatrixMListNode:\n",
    "    def __init__(self, row, col, value):\n",
    "        self.row = row\n",
    "        self.col = col\n",
    "        self.value = value\n",
    "        self.nextRow = None\n",
    "        self.nextCol = None"
   ]
  },
  {
   "cell_type": "code",
   "execution_count": 110,
   "metadata": {},
   "outputs": [],
   "source": [
    "class SparseMatrix:\n",
    "    def __init__(self, numRows, numCols):\n",
    "        self._arrOfRows = Array(numRows)\n",
    "        self._arrOfCols = Array(numCols)\n",
    "    \n",
    "    def numRows(self):\n",
    "        return len(self._arrOfRows)\n",
    "\n",
    "    def numCols(self):\n",
    "        return len(self._arrOfCols)\n",
    "    \n",
    "    def __getitem__(self, indexTuple):\n",
    "        row = indexTuple[0]\n",
    "        col = indexTuple[1]\n",
    "        if row <= col:\n",
    "            curNode = self._arrOfRows[row]\n",
    "            while curNode is not None and curNode.col != col:\n",
    "                curNode = curNode.nextCol\n",
    "            assert curNode is not None and curNode.col == col, \"Element must be in the list.\"\n",
    "            return curNode.value\n",
    "        else:\n",
    "            curNode = self._arrOfCols[col]\n",
    "            while curNode is not None and curNode.col != col:\n",
    "                curNode = curNode.nextRow\n",
    "            assert curNode is not None and curNode.col == col, \"Element must be in the list.\"\n",
    "            return curNode.value"
   ]
  },
  {
   "cell_type": "markdown",
   "metadata": {},
   "source": [
    "## Text editor"
   ]
  },
  {
   "cell_type": "code",
   "execution_count": 111,
   "metadata": {},
   "outputs": [],
   "source": [
    "class _EditBufferNode:\n",
    "    def __init__(self, text):\n",
    "        self.text = text\n",
    "        self.prev = None\n",
    "        self.next = None\n",
    "\n",
    "class EditBuffer:\n",
    "    # constructs edit buffer containing one empty line\n",
    "    def __init__(self):\n",
    "        self._firstLine = _EditBufferNode(['\\n'])\n",
    "        self._lastLine = self._firstLine\n",
    "        self._curLine = self._firstLine\n",
    "        self._curRowIndex = 0\n",
    "        self._curColIndex = 0\n",
    "        self._numLines = 1\n",
    "        self._insertMode = True\n",
    "    \n",
    "    def numLines(self):\n",
    "        return self._numLines\n",
    "    \n",
    "    # number of characters in the current line\n",
    "    def numChars(self):\n",
    "        return len(self._curLine.text)\n",
    "    \n",
    "    # index of current row\n",
    "    def rowIndex(self):\n",
    "        return self._curRowIndex\n",
    "    \n",
    "    def columnIndex(self):\n",
    "        return self._curColIndex\n",
    "    \n",
    "    def setEntryMode(self, insert):\n",
    "        self._insertMode = insert\n",
    "    \n",
    "    def toggleEntryMode(self):\n",
    "        self._insertMode = not self._insertMode\n",
    "    \n",
    "    def inInsertMode(self):\n",
    "        return self._insertMode == True\n",
    "    \n",
    "    # return character at current position\n",
    "    def getChar(self):\n",
    "        return self._curLine.text[self._curColIndex]\n",
    "    \n",
    "    # return current line as string\n",
    "    def getLine(self):\n",
    "        lineStr = \"\"\n",
    "        # iterate through the list of characters\n",
    "        for char in self._curLine.text:\n",
    "            lineStr += char\n",
    "        return lineStr\n",
    "    \n",
    "    # move cursor up a number of lines\n",
    "    def moveUp(self, numLines):\n",
    "        assert nLines > 0, \"Number of lines should be positive.\"\n",
    "        if self._curLineIndex - numLines < 0:\n",
    "            numLines = self._curLineIndex\n",
    "        for i in range(numLines):\n",
    "            self._curLine = self._curLine.prev\n",
    "        self._curLineIndex -= numLines\n",
    "        if self._curColIndex >= self._numChars():\n",
    "            self.moveLineEnd()\n",
    "    \n",
    "    # move cursor left by one position\n",
    "    def moveLeft(self):\n",
    "        # if cursor is at the first of a line\n",
    "        if self._curColIndex == 0:\n",
    "            if self._curRowIndex > 0:\n",
    "                self.moveUp(1)\n",
    "                self.moveLineEnd()\n",
    "            else:\n",
    "                self._curColIndex -= 1\n",
    "    \n",
    "    # move cursor to front of line\n",
    "    def moveLineHome(self):\n",
    "        self._curColIndex = 0\n",
    "    \n",
    "    # move cursor to end of line\n",
    "    def moveLineEnd(self):\n",
    "        self._curColIndx = self.numChars() - 1\n",
    "    \n",
    "    # start a new line at cursor\n",
    "    def breakLine(self):\n",
    "        # save text after cursor\n",
    "        contents = self._curLine.text[self._curColIndex:]\n",
    "        del self._curLine.text[self._curColIndex:]\n",
    "        self._curLine.text.append('\\n')\n",
    "        # to be defined\n",
    "        self._insertNode(self._curLine, contents)\n",
    "        self._curLine = newLine\n",
    "        self._curLineIndex += 1\n",
    "        self._curColIndex = 0\n",
    "    \n",
    "    # insert character at cursor\n",
    "    def addChar(self, char):\n",
    "        if char == '\\n':\n",
    "            self.breakLine()\n",
    "        else:\n",
    "            index = self._curColIndex\n",
    "            if self._inInsertMode():\n",
    "                # list insert\n",
    "                self._curLine.text.insert(index, char)\n",
    "            else:\n",
    "                self._curLine.text[index]\n",
    "            self._curColIndex += 1\n",
    "    "
   ]
  },
  {
   "cell_type": "markdown",
   "metadata": {},
   "source": [
    "## Sorting linked list"
   ]
  },
  {
   "cell_type": "code",
   "execution_count": 112,
   "metadata": {},
   "outputs": [],
   "source": [
    "def traversal(head):\n",
    "    curNode = head\n",
    "    while curNode is not None:\n",
    "        print(curNode.data)\n",
    "        curNode = curNode.next"
   ]
  },
  {
   "cell_type": "code",
   "execution_count": 113,
   "metadata": {},
   "outputs": [],
   "source": [
    "def linkedListInsertionSort(head):\n",
    "    if head is None:\n",
    "        return None\n",
    "    else:\n",
    "        # head of the sorted list\n",
    "        sortedHead = None\n",
    "        # iterate through the linked list\n",
    "        while head is not None:\n",
    "            curNode = head\n",
    "            head = head.next\n",
    "            # unlink curNode and add it to the sorted list\n",
    "            curNode.next = None\n",
    "            sortedHead = addToSortedList(sortedHead, curNode)\n",
    "        return sortedHead\n",
    "\n",
    "# add node to the head of a sorted list\n",
    "def addToSortedList(hd, nd):\n",
    "    preNode = None\n",
    "    curNode = hd\n",
    "    while curNode is not None and nd.data > curNode.data:\n",
    "        preNode = curNode\n",
    "        curNode = curNode.next\n",
    "    nd.next = curNode\n",
    "    if curNode is hd:\n",
    "        hd = nd\n",
    "    else:\n",
    "        preNode.next = nd\n",
    "    return hd"
   ]
  },
  {
   "cell_type": "code",
   "execution_count": 114,
   "metadata": {},
   "outputs": [
    {
     "name": "stdout",
     "output_type": "stream",
     "text": [
      "23\n",
      "51\n",
      "2\n",
      "18\n",
      "4\n",
      "31\n"
     ]
    }
   ],
   "source": [
    "a = ListNode(23)\n",
    "b = ListNode(51)\n",
    "c = ListNode(2)\n",
    "d = ListNode(18)\n",
    "e = ListNode(4)\n",
    "f = ListNode(31)\n",
    "a.next = b\n",
    "b.next = c\n",
    "c.next = d\n",
    "d.next = e\n",
    "e.next = f\n",
    "traversal(a)"
   ]
  },
  {
   "cell_type": "code",
   "execution_count": 115,
   "metadata": {},
   "outputs": [
    {
     "name": "stdout",
     "output_type": "stream",
     "text": [
      "2\n",
      "4\n",
      "18\n",
      "23\n",
      "31\n",
      "51\n"
     ]
    }
   ],
   "source": [
    "sortedHead = linkedListInsertionSort(a)\n",
    "traversal(sortedHead)"
   ]
  },
  {
   "cell_type": "code",
   "execution_count": 116,
   "metadata": {},
   "outputs": [],
   "source": [
    "def linkedListMergeSort(head):\n",
    "    if head is None:\n",
    "        return None\n",
    "    # if head is the only node in the linked list, return it\n",
    "    elif head.next is None:\n",
    "        return head\n",
    "    else:\n",
    "        # head of the right-half\n",
    "        rightHead = splitLinkedList(head)\n",
    "#         print(\"rightHead\")\n",
    "#         traversal(rightHead)\n",
    "        # head of the left-half\n",
    "        leftHead = head\n",
    "#         print(\"leftHead\")\n",
    "#         traversal(leftHead)\n",
    "        leftHead = linkedListMergeSort(leftHead)\n",
    "        rightHead = linkedListMergeSort(rightHead)\n",
    "        sortedHead = mergeLinkedList(leftHead, rightHead)\n",
    "        return sortedHead\n",
    "\n",
    "# return the head reference for the right sublist\n",
    "def splitLinkedList(head):\n",
    "    midNode = head\n",
    "    curNode = midNode.next\n",
    "    # advance curNode at twice the speed as midNode\n",
    "    while curNode is not None:\n",
    "        curNode = curNode.next\n",
    "        if curNode is not None:\n",
    "            midNode = midNode.next\n",
    "            curNode = curNode.next\n",
    "    rightHead = midNode.next\n",
    "    # unlink right sublist from left sublist\n",
    "    midNode.next = None\n",
    "    return rightHead\n",
    "\n",
    "def mergeLinkedList(a, b):\n",
    "    # dummy node to create access to the head of the merged list\n",
    "    newList = ListNode(None)\n",
    "    newTail = newList\n",
    "    while a is not None and b is not None:\n",
    "        if a.data <= b.data:\n",
    "            newTail.next = a\n",
    "            a = a.next\n",
    "        else:\n",
    "            newTail.next = b\n",
    "            b = b.next\n",
    "        newTail = newTail.next\n",
    "        newTail.next = None\n",
    "    if a is not None:\n",
    "        # append the rest of what comes after a\n",
    "        newTail.next = a\n",
    "    if b is not None:\n",
    "        newTail.next = b\n",
    "    # the node after the dummy node is the head of the merged list\n",
    "    return newList.next"
   ]
  },
  {
   "cell_type": "code",
   "execution_count": 117,
   "metadata": {},
   "outputs": [
    {
     "name": "stdout",
     "output_type": "stream",
     "text": [
      "23\n",
      "51\n",
      "2\n",
      "18\n",
      "4\n",
      "31\n"
     ]
    }
   ],
   "source": [
    "a = ListNode(23)\n",
    "b = ListNode(51)\n",
    "c = ListNode(2)\n",
    "d = ListNode(18)\n",
    "e = ListNode(4)\n",
    "f = ListNode(31)\n",
    "a.next = b\n",
    "b.next = c\n",
    "c.next = d\n",
    "d.next = e\n",
    "e.next = f\n",
    "traversal(a)"
   ]
  },
  {
   "cell_type": "code",
   "execution_count": 118,
   "metadata": {},
   "outputs": [
    {
     "name": "stdout",
     "output_type": "stream",
     "text": [
      "2\n",
      "4\n",
      "18\n",
      "23\n",
      "31\n",
      "51\n"
     ]
    }
   ],
   "source": [
    "sortedHead = linkedListMergeSort(a)\n",
    "traversal(sortedHead)"
   ]
  },
  {
   "cell_type": "markdown",
   "metadata": {},
   "source": [
    "# Stack ADT"
   ]
  },
  {
   "cell_type": "markdown",
   "metadata": {},
   "source": [
    "## List-based stack"
   ]
  },
  {
   "cell_type": "code",
   "execution_count": 119,
   "metadata": {},
   "outputs": [],
   "source": [
    "class Stack:\n",
    "    def __init__(self):\n",
    "        self._container = list()\n",
    "    \n",
    "    def __len__(self):\n",
    "        return len(self._container)\n",
    "    \n",
    "    def isEmpty(self):\n",
    "        return len(self) == 0\n",
    "    \n",
    "    def peek(self):\n",
    "        assert not self.isEmpty(), \"Operation not allowed on empty stack.\"\n",
    "        return self._container[-1]\n",
    "\n",
    "    def pop(self):\n",
    "        assert not self.isEmpty(), \"Operation not allowed on empty stack.\"\n",
    "        return self._container.pop()\n",
    "    \n",
    "    def push(self, item):\n",
    "        self._container.append(item)\n",
    "        \n",
    "    def traversal(self):\n",
    "        for item in self._container:\n",
    "            print(item)"
   ]
  },
  {
   "cell_type": "code",
   "execution_count": 120,
   "metadata": {},
   "outputs": [
    {
     "name": "stdout",
     "output_type": "stream",
     "text": [
      "3\n",
      "1\n",
      "4\n"
     ]
    }
   ],
   "source": [
    "s = Stack()\n",
    "s.push(1)\n",
    "s.push(3)\n",
    "item = s.pop()\n",
    "print(item)\n",
    "s.push(4)\n",
    "s.traversal()"
   ]
  },
  {
   "cell_type": "markdown",
   "metadata": {},
   "source": [
    "## Linked list-based stack"
   ]
  },
  {
   "cell_type": "code",
   "execution_count": 121,
   "metadata": {},
   "outputs": [],
   "source": [
    "class StackNode:\n",
    "    def __init__(self, value):\n",
    "        self.value = value\n",
    "        self.next = None\n",
    "\n",
    "class Stack:\n",
    "    def __init__(self):\n",
    "        self._top = None\n",
    "        self._size = 0\n",
    "    \n",
    "    def __len__(self):\n",
    "        return self._size\n",
    "    \n",
    "    def isEmpty(self):\n",
    "        return self._size == 0\n",
    "        # return self._top is None\n",
    "    \n",
    "    def peek(self):\n",
    "        assert not self.isEmpty(), \"Operation not allowed on empty stack.\"\n",
    "        return self._top.value\n",
    "    \n",
    "    def pop(self):\n",
    "        assert not self.isEmpty(), \"Operation not allowed on empty stack.\"\n",
    "        topNode = self._top\n",
    "        self._top = topNode.next\n",
    "        topNode.next = None\n",
    "        self._size -= 1\n",
    "        return topNode.value\n",
    "    \n",
    "    def push(self, item):\n",
    "        newNode = StackNode(item)\n",
    "        newNode.next = self._top\n",
    "        self._top = newNode\n",
    "        self._size += 1\n",
    "    \n",
    "    def traversal(self):\n",
    "        curNode = self._top\n",
    "        while curNode is not None:\n",
    "            print(curNode.value)\n",
    "            curNode = curNode.next"
   ]
  },
  {
   "cell_type": "code",
   "execution_count": 122,
   "metadata": {},
   "outputs": [
    {
     "name": "stdout",
     "output_type": "stream",
     "text": [
      "4\n",
      "1\n"
     ]
    }
   ],
   "source": [
    "s = Stack()\n",
    "s.push(1)\n",
    "s.push(3)\n",
    "s.pop()\n",
    "s.push(4)\n",
    "s.traversal()"
   ]
  },
  {
   "cell_type": "markdown",
   "metadata": {},
   "source": [
    "## Matching parentheses"
   ]
  },
  {
   "cell_type": "code",
   "execution_count": 123,
   "metadata": {},
   "outputs": [
    {
     "name": "stdout",
     "output_type": "stream",
     "text": [
      "False\n"
     ]
    }
   ],
   "source": [
    "def match(left, right):\n",
    "    if left == \"(\":\n",
    "        return right == \")\"\n",
    "    elif left == \"[\":\n",
    "        return right == \"]\"\n",
    "    else:\n",
    "        return right == \"}\"\n",
    "    \n",
    "def isValid(sourceFile):\n",
    "    s = Stack()\n",
    "    for line in sourceFile:\n",
    "        for char in line:\n",
    "            if char in \"{[(\":\n",
    "                s.push(char)\n",
    "            elif char in \")]}\":\n",
    "                if s.isEmpty():\n",
    "                    return False\n",
    "                else:\n",
    "                    left = s.pop()\n",
    "                    if not match(left, char):\n",
    "                        return False\n",
    "    return s.isEmpty()\n",
    "\n",
    "with open(\"parentheses2.txt\", 'r') as f:\n",
    "    print(isValid(f))"
   ]
  },
  {
   "cell_type": "markdown",
   "metadata": {},
   "source": [
    "## Evaluating postfix expressions"
   ]
  },
  {
   "cell_type": "code",
   "execution_count": 124,
   "metadata": {},
   "outputs": [
    {
     "data": {
      "text/plain": [
       "11.0"
      ]
     },
     "execution_count": 124,
     "metadata": {},
     "output_type": "execute_result"
    }
   ],
   "source": [
    "# assumes only single digit numbers\n",
    "def evaluate(expr):\n",
    "    s = Stack()\n",
    "    for char in expr:\n",
    "        if char in \"0123456789\":\n",
    "            s.push(char)\n",
    "        elif char in \"+-/*\":\n",
    "            operand1 = int(s.pop())\n",
    "            operand2 = int(s.pop())\n",
    "            result = 0\n",
    "            if char == \"+\":\n",
    "                result = operand2 + operand1\n",
    "            elif char == \"-\":\n",
    "                result = operand2 - operand1\n",
    "            elif char == \"/\":\n",
    "                result = operand2 / operand1\n",
    "            else:\n",
    "                result = operand2 * operand1\n",
    "            s.push(result)\n",
    "    return s.pop()\n",
    "\n",
    "evaluate(\"2 8 3 + * 2 /\")\n",
    "# (8+3) * 2 / 2"
   ]
  },
  {
   "cell_type": "markdown",
   "metadata": {},
   "source": [
    "## Solving maze"
   ]
  },
  {
   "cell_type": "code",
   "execution_count": 125,
   "metadata": {},
   "outputs": [],
   "source": [
    "class _CellPosition(object):\n",
    "    def __init__(self, row, col):\n",
    "        self.row = row\n",
    "        self.col = col\n",
    "\n",
    "class Maze:\n",
    "    MAZE_WALL = \"*\"\n",
    "    PATH_TOKEN = \"x\"\n",
    "    TRIED_TOKEN = \"o\"\n",
    "    \n",
    "    def __init__(self, numRows, numCols):\n",
    "        self._mazeCells = Array2D(numRows, numCols)\n",
    "        self._startCell = None\n",
    "        self._exitCell = None\n",
    "    \n",
    "    def numRows(self):\n",
    "        return self._mazeCells.numRows()\n",
    "    \n",
    "    def numCols(self):\n",
    "        return self._mazeCells.numCols()\n",
    "    \n",
    "    def setWall(self, row, col):\n",
    "        assert row >= 0 and row < self.numRows() and col >= 0 and col < self.numCols(), \"Indices out of range.\"\n",
    "        self._mazeCells[row, col] = self.MAZE_WALL\n",
    "    \n",
    "    def setStart(self, row, col):\n",
    "        assert row >= 0 and row < self.numRows() and col >= 0 and col < self.numCols(), \"Indices out of range.\"\n",
    "        self._startCell = _CellPosition(row, col)\n",
    "    \n",
    "    def setExit(self, row, col):\n",
    "        assert row >= 0 and row < self.numRows() and col >= 0 and col < self.numCols(), \"Indices out of range.\"\n",
    "        self._exitCell = _CellPosition(row, col)\n",
    "    \n",
    "    def findPath(self):\n",
    "        path = Stack()\n",
    "        path.push(self._startCell)\n",
    "        curCell = self._startCell\n",
    "        self._markPath(curCell.row, curCell.col)\n",
    "        counter = 0\n",
    "        while curCell.row != self._exitCell.row or curCell.col != self._exitCell.col:\n",
    "            print(\"({}, {})\".format(curCell.row, curCell.col))\n",
    "            # if we have backtracked all the way to the start, there is no solution\n",
    "            if curCell is self._startCell and counter > 0:\n",
    "                return False\n",
    "            counter += 1\n",
    "            row = curCell.row\n",
    "            col = curCell.col\n",
    "            # go up\n",
    "            if self._validMove(row-1, col):\n",
    "                nextCell = _CellPosition(row-1, col)\n",
    "            # go down\n",
    "            elif self._validMove(row+1, col):\n",
    "                nextCell = _CellPosition(row+1, col)\n",
    "            # go left\n",
    "            elif self._validMove(row, col-1):\n",
    "                nextCell = _CellPosition(row, col-1)\n",
    "            # go right\n",
    "            elif self._validMove(row, col+1):\n",
    "                nextCell = _CellPosition(row, col+1)\n",
    "            else:\n",
    "                # backtrack\n",
    "                self._markTried(curCell.row, curCell.col)\n",
    "                path.pop()\n",
    "                nextCell = path.pop()\n",
    "            self._markPath(nextCell.row, nextCell.col)\n",
    "            curCell = nextCell\n",
    "            path.push(curCell)\n",
    "        return True\n",
    "            \n",
    "    \n",
    "    # remove all \"path\" and \"tried\" tokens\n",
    "    def reset(self):\n",
    "        for i in range(self.numRows()):\n",
    "            for j in range(self.numCols()):\n",
    "                self._mazeCells[row, col] = None\n",
    "    \n",
    "    # print a text-based representation of the maze\n",
    "    def draw(self):\n",
    "        for i in range(self.numRows()):\n",
    "            cells = map(lambda x: '.' if x is None else x, [self._mazeCells[i,j] for j in range(self.numCols())])\n",
    "            print((\" {} \" * self.numCols()).format(*cells))\n",
    "    \n",
    "    # check if a move is valid\n",
    "    def _validMove(self, row, col):\n",
    "        return (row >= 0 and row < self.numRows() and col >= 0 and col < self.numCols() and self._mazeCells[row, col] is None)\n",
    "    \n",
    "    def _exitFound(self, row, col):\n",
    "        return row == self._exitCell.row and col == self._exitCell.col\n",
    "    \n",
    "    def _markTried(self, row, col):\n",
    "        self._mazeCells[row, col] = self.TRIED_TOKEN\n",
    "    \n",
    "    def _markPath(self, row, col):\n",
    "        self._mazeCells[row, col] = self.PATH_TOKEN"
   ]
  },
  {
   "cell_type": "code",
   "execution_count": 126,
   "metadata": {
    "scrolled": true
   },
   "outputs": [
    {
     "name": "stdout",
     "output_type": "stream",
     "text": [
      "(4, 1)\n",
      "(3, 1)\n",
      "(2, 1)\n",
      "(1, 1)\n",
      "(2, 1)\n",
      "(2, 2)\n",
      "(2, 3)\n",
      "(1, 3)\n",
      "(2, 3)\n",
      "(3, 3)\n",
      " *  *  *  *  * \n",
      " *  o  *  o  * \n",
      " *  x  x  x  * \n",
      " *  x  *  x  x \n",
      " *  x  *  *  * \n"
     ]
    }
   ],
   "source": [
    "maze = Maze(5,5)\n",
    "for cell in [(0,0), (1,0), (2,0), (3,0), (4,0), (0,1), (0,2), (0,3), (0,4), (1,2), (3,2), (4,2), (4,3), (4,4), (2,4), (1,4)]:\n",
    "    maze.setWall(cell[0], cell[1])\n",
    "maze.setStart(4,1)\n",
    "maze.setExit(3,4)\n",
    "maze.findPath()\n",
    "maze.draw()"
   ]
  },
  {
   "cell_type": "markdown",
   "metadata": {},
   "source": [
    "# Queue ADT"
   ]
  },
  {
   "cell_type": "markdown",
   "metadata": {},
   "source": [
    "## List-based queue"
   ]
  },
  {
   "cell_type": "code",
   "execution_count": 127,
   "metadata": {},
   "outputs": [],
   "source": [
    "class Queue:\n",
    "    def __init__(self):\n",
    "        self._container = list()\n",
    "    \n",
    "    def __len__(self):\n",
    "        return len(self._container)\n",
    "    \n",
    "    def isEmpty(self):\n",
    "        return len(self) == 0\n",
    "    \n",
    "    def enqueue(self, item):\n",
    "        self._container.append(item)\n",
    "        \n",
    "    def dequeue(self):\n",
    "        assert not self.isEmpty(), \"Operation not allowed on empty queue.\"\n",
    "        item = self._container.pop(0)\n",
    "        return item\n",
    "    \n",
    "    def traversal(self):\n",
    "        for item in self._container:\n",
    "            print(item)"
   ]
  },
  {
   "cell_type": "code",
   "execution_count": 128,
   "metadata": {},
   "outputs": [
    {
     "name": "stdout",
     "output_type": "stream",
     "text": [
      "2\n",
      "3\n",
      "4\n"
     ]
    }
   ],
   "source": [
    "q = Queue()\n",
    "q.enqueue(1)\n",
    "q.enqueue(2)\n",
    "q.enqueue(3)\n",
    "q.enqueue(4)\n",
    "q.dequeue()\n",
    "q.traversal()"
   ]
  },
  {
   "cell_type": "markdown",
   "metadata": {},
   "source": [
    "## Circular array-based queue"
   ]
  },
  {
   "cell_type": "code",
   "execution_count": 129,
   "metadata": {},
   "outputs": [],
   "source": [
    "class Queue:\n",
    "    def __init__(self, capacity):\n",
    "        self._container = Array(capacity)\n",
    "        self._front = 0\n",
    "        self._back = capacity - 1\n",
    "        self._size = 0\n",
    "    \n",
    "    def __len__(self):\n",
    "        return self._size\n",
    "    \n",
    "    def isEmpty(self):\n",
    "        return self._size == 0\n",
    "    \n",
    "    def isFull(self):\n",
    "        return self._size == len(self._container)\n",
    "    \n",
    "    def enqueue(self, item):\n",
    "        assert not self.isFull(), \"Operation not allowed on full queue.\"\n",
    "        capacity = len(self._container)\n",
    "        self._back = (self._back + 1) % capacity\n",
    "        self._container[self._back] = item\n",
    "        self._size += 1\n",
    "    \n",
    "    def dequeue(self):\n",
    "        assert not self.isEmpty(), \"Operation not allowed on empty queue.\"\n",
    "        capacity = len(self._container)\n",
    "        item = self._container[self._front]\n",
    "        self._container[self._front] = None\n",
    "        self._front = (self._front + 1) % capacity\n",
    "        self._size -= 1\n",
    "        return item\n",
    "    \n",
    "    def traversal(self):\n",
    "        for item in self._container:\n",
    "            print(item)"
   ]
  },
  {
   "cell_type": "code",
   "execution_count": 130,
   "metadata": {},
   "outputs": [
    {
     "name": "stdout",
     "output_type": "stream",
     "text": [
      "6\n",
      "2\n",
      "3\n",
      "4\n",
      "5\n"
     ]
    }
   ],
   "source": [
    "q = Queue(5)\n",
    "q.enqueue(1)\n",
    "q.enqueue(2)\n",
    "q.enqueue(3)\n",
    "q.enqueue(4)\n",
    "q.dequeue()\n",
    "q.enqueue(5)\n",
    "q.enqueue(6)\n",
    "q.traversal()"
   ]
  },
  {
   "cell_type": "markdown",
   "metadata": {},
   "source": [
    "## Linked list-based queue"
   ]
  },
  {
   "cell_type": "code",
   "execution_count": 131,
   "metadata": {},
   "outputs": [],
   "source": [
    "class _QueueNode:\n",
    "    def __init__(self, value):\n",
    "        self.value = value\n",
    "        self.next = None\n",
    "\n",
    "class Queue:\n",
    "    def __init__(self):\n",
    "        self._head = None\n",
    "        self._tail = None\n",
    "        self._size = 0\n",
    "    \n",
    "    def isEmpty(self):\n",
    "        return self._head is None\n",
    "    \n",
    "    def __len__(self):\n",
    "        return self._size\n",
    "    \n",
    "    def enqueue(self, item):\n",
    "        node = _QueueNode(item)\n",
    "        if self.isEmpty():\n",
    "            self._head = node\n",
    "        else:\n",
    "            self._tail.next = node\n",
    "        self._tail = node\n",
    "        self._size += 1\n",
    "    \n",
    "    def dequeue(self):\n",
    "        assert not self.isEmpty(), \"Operation not allowed on empty queue.\"\n",
    "        node = self._head\n",
    "        if self._head is self._tail:\n",
    "            self._tail = None\n",
    "        self._head = self._head.next\n",
    "        node.next = None\n",
    "        self._size -= 1\n",
    "        return node.value\n",
    "    \n",
    "    def traversal(self):\n",
    "        curNode = self._head\n",
    "        while curNode is not None:\n",
    "            print(curNode.value)\n",
    "            curNode = curNode.next"
   ]
  },
  {
   "cell_type": "code",
   "execution_count": 132,
   "metadata": {},
   "outputs": [
    {
     "name": "stdout",
     "output_type": "stream",
     "text": [
      "2\n",
      "3\n",
      "4\n",
      "5\n",
      "6\n"
     ]
    }
   ],
   "source": [
    "q = Queue()\n",
    "q.enqueue(1)\n",
    "q.enqueue(2)\n",
    "q.enqueue(3)\n",
    "q.enqueue(4)\n",
    "q.dequeue()\n",
    "q.enqueue(5)\n",
    "q.enqueue(6)\n",
    "q.traversal()"
   ]
  },
  {
   "cell_type": "markdown",
   "metadata": {},
   "source": [
    "## Priority queue ADT"
   ]
  },
  {
   "cell_type": "markdown",
   "metadata": {},
   "source": [
    "### Unbounded priority queue"
   ]
  },
  {
   "cell_type": "markdown",
   "metadata": {},
   "source": [
    "#### List-based"
   ]
  },
  {
   "cell_type": "code",
   "execution_count": 133,
   "metadata": {},
   "outputs": [],
   "source": [
    "class _PriorityQEntry:\n",
    "    def __init__(self, item, priority):\n",
    "        self.item = item\n",
    "        self.priority = priority\n",
    "\n",
    "class PriorityQueue:\n",
    "    def __init__(self):\n",
    "        self._container = list()\n",
    "    \n",
    "    def __len__(self):\n",
    "        return len(self._container)\n",
    "    \n",
    "    def isEmpty(self):\n",
    "        return len(self) == 0\n",
    "    \n",
    "    def enqueue(self, item, priority):\n",
    "        entry = _PriorityQEntry(item, priority)\n",
    "        self._container.append(entry)\n",
    "    \n",
    "    def dequeue(self):\n",
    "        assert not self.isEmpty(), \"Operation not allowed on empty queue.\"\n",
    "        highest = self._container[0].priority\n",
    "        index = 0\n",
    "        for i in range(len(self)):\n",
    "            if self._container[i].priority < highest:\n",
    "                highest = self._container[i].priority\n",
    "                index = i\n",
    "        self._container.pop(index)\n",
    "    \n",
    "    def traversal(self):\n",
    "        for entry in self._container:\n",
    "            print(\"{}, {}\".format(entry.item, entry.priority))"
   ]
  },
  {
   "cell_type": "code",
   "execution_count": 134,
   "metadata": {},
   "outputs": [
    {
     "name": "stdout",
     "output_type": "stream",
     "text": [
      "purple, 5\n",
      "black, 1\n",
      "orange, 3\n",
      "green, 1\n",
      "yellow, 0\n"
     ]
    }
   ],
   "source": [
    "q = PriorityQueue()\n",
    "q.enqueue(\"purple\", 5)\n",
    "q.enqueue(\"black\", 1)\n",
    "q.enqueue(\"orange\", 3)\n",
    "q.enqueue(\"white\", 0)\n",
    "q.enqueue(\"green\", 1)\n",
    "q.enqueue(\"yellow\", 0)\n",
    "q.dequeue()\n",
    "q.traversal()"
   ]
  },
  {
   "cell_type": "markdown",
   "metadata": {},
   "source": [
    "### Bounded priority queue"
   ]
  },
  {
   "cell_type": "code",
   "execution_count": 135,
   "metadata": {},
   "outputs": [],
   "source": [
    "class BPriorityQueue:\n",
    "    def __init__(self, numLevels):\n",
    "        self._size = 0\n",
    "        self._levels = Array(numLevels)\n",
    "        for i in range(numLevels):\n",
    "            self._levels[i] = PriorityQueue()\n",
    "    \n",
    "    def __len__(self):\n",
    "        return self._size\n",
    "    \n",
    "    def isEmpty(self):\n",
    "        return len(self) == 0\n",
    "    \n",
    "    def enqueue(self, item, priority):\n",
    "        assert priority >= 0 and priority < len(self._levels), \"Invalid priority level.\"\n",
    "        self._levels[priority].enqueue(item, priority)\n",
    "        self._size += 1\n",
    "    \n",
    "    def dequeue(self):\n",
    "        assert not self.isEmpty(), \"Operation not allowed on empty queue.\"\n",
    "        # find the first nonempty queue\n",
    "        i = 0\n",
    "        p = len(self._levels)\n",
    "        while i < p and not self._levels[i].isEmpty():\n",
    "            i += 1\n",
    "            return self._levels[i].dequeue()\n",
    "    \n",
    "    def traversal(self):\n",
    "        for q in self._levels:\n",
    "            q.traversal()"
   ]
  },
  {
   "cell_type": "code",
   "execution_count": 136,
   "metadata": {},
   "outputs": [
    {
     "name": "stdout",
     "output_type": "stream",
     "text": [
      "white, 0\n",
      "yellow, 0\n",
      "green, 1\n",
      "orange, 3\n",
      "purple, 5\n"
     ]
    }
   ],
   "source": [
    "q = BPriorityQueue(6)\n",
    "q.enqueue(\"purple\", 5)\n",
    "q.enqueue(\"black\", 1)\n",
    "q.enqueue(\"orange\", 3)\n",
    "q.enqueue(\"white\", 0)\n",
    "q.enqueue(\"green\", 1)\n",
    "q.enqueue(\"yellow\", 0)\n",
    "q.dequeue()\n",
    "q.traversal()"
   ]
  },
  {
   "cell_type": "markdown",
   "metadata": {},
   "source": [
    "# Recursion"
   ]
  },
  {
   "cell_type": "code",
   "execution_count": 137,
   "metadata": {},
   "outputs": [
    {
     "name": "stdout",
     "output_type": "stream",
     "text": [
      "4\n",
      "3\n",
      "2\n",
      "1\n"
     ]
    }
   ],
   "source": [
    "def printRev(n):\n",
    "    if n > 0:\n",
    "        print(n)\n",
    "        printRev(n-1) # recursive call after print()\n",
    "\n",
    "printRev(4)"
   ]
  },
  {
   "cell_type": "code",
   "execution_count": 138,
   "metadata": {},
   "outputs": [
    {
     "name": "stdout",
     "output_type": "stream",
     "text": [
      "0\n",
      "1\n",
      "2\n",
      "3\n",
      "4\n"
     ]
    }
   ],
   "source": [
    "def printInc(n):\n",
    "    if n > 0:\n",
    "        printInc(n-1) # recursive call before print()\n",
    "    print(n)\n",
    "\n",
    "printInc(4)"
   ]
  },
  {
   "cell_type": "code",
   "execution_count": 139,
   "metadata": {},
   "outputs": [
    {
     "data": {
      "text/plain": [
       "8"
      ]
     },
     "execution_count": 139,
     "metadata": {},
     "output_type": "execute_result"
    }
   ],
   "source": [
    "def fibRec(n):\n",
    "    assert n >= 1, \"Fibonacci sequence not defined for n < 1.\"\n",
    "    if n == 1 or n == 2:\n",
    "        return 1\n",
    "    else:\n",
    "        return fibRec(n-1) + fibRec(n-2)\n",
    "\n",
    "fibRec(6)"
   ]
  },
  {
   "cell_type": "code",
   "execution_count": 140,
   "metadata": {},
   "outputs": [
    {
     "data": {
      "text/plain": [
       "8"
      ]
     },
     "execution_count": 140,
     "metadata": {},
     "output_type": "execute_result"
    }
   ],
   "source": [
    "def fibIter(n):\n",
    "    i = 1\n",
    "    prev = 0\n",
    "    curr = 1\n",
    "    while i < n:\n",
    "        temp = prev\n",
    "        prev = curr\n",
    "        curr = temp + curr\n",
    "        i += 1\n",
    "    return curr\n",
    "\n",
    "fibIter(6)"
   ]
  },
  {
   "cell_type": "code",
   "execution_count": 141,
   "metadata": {},
   "outputs": [],
   "source": [
    "a = ListNode(11)\n",
    "b = ListNode(52)\n",
    "c = ListNode(18)\n",
    "a.next = b\n",
    "b.next = c"
   ]
  },
  {
   "cell_type": "code",
   "execution_count": 142,
   "metadata": {},
   "outputs": [
    {
     "name": "stdout",
     "output_type": "stream",
     "text": [
      "11\n",
      "52\n",
      "18\n"
     ]
    }
   ],
   "source": [
    "def printListNodeRev(head):\n",
    "    length = 0\n",
    "    curNode = head\n",
    "    while curNode is not None:\n",
    "        curNode = curNode.next\n",
    "        length += 1\n",
    "    for i in range(length):\n",
    "        curNode = head\n",
    "        j = i\n",
    "        while j > 0:\n",
    "            curNode = curNode.next\n",
    "            j -= 1\n",
    "        print(curNode.data)\n",
    "\n",
    "printListNodeRev(a)"
   ]
  },
  {
   "cell_type": "code",
   "execution_count": 143,
   "metadata": {},
   "outputs": [
    {
     "name": "stdout",
     "output_type": "stream",
     "text": [
      "18\n",
      "52\n",
      "11\n"
     ]
    }
   ],
   "source": [
    "def printListNodeRev(head):\n",
    "    s = Stack()\n",
    "    curNode = head\n",
    "    while curNode is not None:\n",
    "        s.push(curNode.data)\n",
    "        curNode = curNode.next\n",
    "    while not s.isEmpty():\n",
    "        print(s.pop())\n",
    "\n",
    "printListNodeRev(a)"
   ]
  },
  {
   "cell_type": "code",
   "execution_count": 144,
   "metadata": {},
   "outputs": [
    {
     "name": "stdout",
     "output_type": "stream",
     "text": [
      "18\n",
      "52\n",
      "11\n"
     ]
    }
   ],
   "source": [
    "def printListNodeRevRec(head):\n",
    "    curNode = head\n",
    "    if curNode.next is not None:\n",
    "        printListNodeRevRec(curNode.next)\n",
    "    print(curNode.data)\n",
    "\n",
    "printListNodeRevRec(a)"
   ]
  },
  {
   "cell_type": "code",
   "execution_count": 145,
   "metadata": {},
   "outputs": [
    {
     "name": "stdout",
     "output_type": "stream",
     "text": [
      "18\n",
      "52\n",
      "11\n"
     ]
    }
   ],
   "source": [
    "def printListNodeRevRec(head):\n",
    "    curNode = head\n",
    "    if curNode is not None:\n",
    "        printListNodeRevRec(curNode.next)\n",
    "        print(curNode.data)\n",
    "\n",
    "printListNodeRevRec(a)"
   ]
  },
  {
   "cell_type": "code",
   "execution_count": 146,
   "metadata": {},
   "outputs": [],
   "source": [
    "def recBinarySearch(seq, target, low, high):\n",
    "    if low > high:\n",
    "        return False\n",
    "    else:\n",
    "        mid = (low + high) // 2\n",
    "        if seq[mid] == target:\n",
    "            return True\n",
    "        elif seq[mid] < target:\n",
    "            return recBinarySearch(seq, target, mid + 1, high)\n",
    "        else:\n",
    "            return recBinarySearch(seq, target, low, mid - 1)"
   ]
  },
  {
   "cell_type": "code",
   "execution_count": 147,
   "metadata": {},
   "outputs": [
    {
     "data": {
      "text/plain": [
       "False"
      ]
     },
     "execution_count": 147,
     "metadata": {},
     "output_type": "execute_result"
    }
   ],
   "source": [
    "seq = [1,6,8,10,29]\n",
    "recBinarySearch(seq, 20, 0, 5)"
   ]
  },
  {
   "cell_type": "code",
   "execution_count": 148,
   "metadata": {},
   "outputs": [],
   "source": [
    "def hanoi(n, src, dest, temp):\n",
    "    if n == 1:\n",
    "        print(\"{} --> {}\".format(src, dest))\n",
    "    else:\n",
    "        hanoi(n-1, src, temp, dest)\n",
    "        hanoi(1, src, dest, temp)\n",
    "        hanoi(n-1, temp, dest, src)"
   ]
  },
  {
   "cell_type": "code",
   "execution_count": 149,
   "metadata": {},
   "outputs": [
    {
     "name": "stdout",
     "output_type": "stream",
     "text": [
      "A --> C\n",
      "A --> B\n",
      "C --> B\n",
      "A --> C\n",
      "B --> A\n",
      "B --> C\n",
      "A --> C\n"
     ]
    }
   ],
   "source": [
    "hanoi(3, \"A\", \"C\", \"B\")"
   ]
  },
  {
   "cell_type": "markdown",
   "metadata": {},
   "source": [
    "## Eight queens"
   ]
  },
  {
   "cell_type": "code",
   "execution_count": 150,
   "metadata": {},
   "outputs": [],
   "source": [
    "class QueensBoard:\n",
    "    QUEEN_TOKEN = \"Q\"\n",
    "    \n",
    "    def __init__(self, n):\n",
    "        self._board = Array2D(n,n)\n",
    "        self._board.clear(False)\n",
    "        self._numQueens = 0\n",
    "    \n",
    "    def size(self):\n",
    "        return self._board.numRows()\n",
    "    \n",
    "    def numQueens(self):\n",
    "        return self._numQueens\n",
    "    \n",
    "    # check if the position [row, col] is not guarded by a queen\n",
    "    def unguarded(self, row, col):\n",
    "        assert row >= 0 and row < self.size() and col >= 0 and col < self.size(), \"Index out of range.\"\n",
    "        # search horizontal and vertial\n",
    "        for i in range(self.size()):\n",
    "            if self._board[row, i] or self._board[i, col]:\n",
    "                return False\n",
    "        # search diagonal\n",
    "        i = row\n",
    "        j = col\n",
    "        while i < self.size() and j < self.size():\n",
    "            if self._board[i,j]:\n",
    "                return False\n",
    "            i += 1\n",
    "            j += 1\n",
    "        i = row\n",
    "        j = col\n",
    "        while i >= 0 and j >= 0:\n",
    "            if self._board[i,j]:\n",
    "                return False\n",
    "            i -= 1\n",
    "            j -= 1\n",
    "        return True\n",
    "    \n",
    "    def placeQueen(self, row, col):\n",
    "        assert row >= 0 and row < self.size() and col >= 0 and col < self.size(), \"Index out of range.\"\n",
    "        assert self.unguarded(row, col), \"Invalid position.\"\n",
    "        self._board[row, col] = True\n",
    "        self._numQueens += 1\n",
    "    \n",
    "    def removeQueen(self, row, col):\n",
    "        assert row >= 0 and row < self.size() and col >= 0 and col < self.size(), \"Index out of range.\"\n",
    "        assert self._board[row, col], \"No queen to be removed.\"\n",
    "        self._board[row, col] = False\n",
    "        self._numQueens -= 1\n",
    "    \n",
    "    def reset(self):\n",
    "        for i in range(self.size()):\n",
    "            for j in range(self.size()):\n",
    "                self._board[i,j] = False\n",
    "    \n",
    "    def draw(self):\n",
    "        for i in range(self.size()):\n",
    "            cells = map(lambda x: \"Q\" if x else \".\", [self._board[i,j] for j in range(self.size())])\n",
    "            print((\" {} \" * self.size()).format(*cells))"
   ]
  },
  {
   "cell_type": "code",
   "execution_count": 151,
   "metadata": {},
   "outputs": [
    {
     "name": "stdout",
     "output_type": "stream",
     "text": [
      " Q  .  .  . \n",
      " .  .  .  . \n",
      " .  .  .  . \n",
      " .  .  .  . \n"
     ]
    }
   ],
   "source": [
    "board = QueensBoard(4)\n",
    "board.placeQueen(0,0)\n",
    "board.draw()"
   ]
  },
  {
   "cell_type": "code",
   "execution_count": 152,
   "metadata": {},
   "outputs": [],
   "source": [
    "def solveQueens(board, col):\n",
    "    if board._numQueens == board.size():\n",
    "        return True\n",
    "    else:\n",
    "        # find the next unguarded cell in this column and place a queen there\n",
    "        for row in range(board.size()):\n",
    "            if board.unguarded(row, col):\n",
    "                board.placeQueen(row, col)\n",
    "                # if the problem can be solved by proceeding to place a queen in the next column, we are done\n",
    "                if solveQueens(board, col + 1):\n",
    "                    return True\n",
    "                # if not, we remove the queen we just placed and move on to the next row in this column\n",
    "                else:\n",
    "                    board.removeQueen(row, col)\n",
    "        # if the for loop terminates, all rows have been tried and no queen can be placed in any of them\n",
    "        # so no queen can be placed in this column, and the problem cannot be solved by proceeding\n",
    "        return False"
   ]
  },
  {
   "cell_type": "code",
   "execution_count": 153,
   "metadata": {
    "scrolled": true
   },
   "outputs": [
    {
     "name": "stdout",
     "output_type": "stream",
     "text": [
      " Q  .  .  .  .  .  .  . \n",
      " .  .  .  .  .  .  Q  . \n",
      " .  Q  .  .  .  .  .  . \n",
      " .  .  .  .  .  Q  .  . \n",
      " .  .  .  .  .  .  .  Q \n",
      " .  .  Q  .  .  .  .  . \n",
      " .  .  .  .  Q  .  .  . \n",
      " .  .  .  Q  .  .  .  . \n"
     ]
    }
   ],
   "source": [
    "board = QueensBoard(8)\n",
    "solveQueens(board, 0)\n",
    "board.draw()"
   ]
  },
  {
   "cell_type": "markdown",
   "metadata": {},
   "source": [
    "# Hash table ADT"
   ]
  },
  {
   "cell_type": "markdown",
   "metadata": {},
   "source": [
    "## Hash table-based map"
   ]
  },
  {
   "cell_type": "code",
   "execution_count": 154,
   "metadata": {},
   "outputs": [],
   "source": [
    "class _MapEntry:\n",
    "    def __init__(self, key, value):\n",
    "        self.key = key\n",
    "        self.value = value\n",
    "\n",
    "class HashMap:\n",
    "    UNUSED = None\n",
    "    EMPTY = _MapEntry(None, None)\n",
    "    \n",
    "    def __init__(self):\n",
    "        self._table = Array(7)\n",
    "        self._count = 0\n",
    "        # make sure load factor <= 2/3\n",
    "        self._maxCount = len(self._table) - len(self._table) // 3\n",
    "    \n",
    "    def __len__(self):\n",
    "        return self._count\n",
    "    \n",
    "    # operator method \"in\"\n",
    "    def __contains__(self, key):\n",
    "        slot = self._findSlot(key, False)\n",
    "        return slot is not None\n",
    "    \n",
    "    def add(self, key, value):\n",
    "        # if key exists in table, replace existing value\n",
    "        if key in self:\n",
    "            slot = self._findSlot(key, False)\n",
    "            self._table[slot].value = value\n",
    "            return False\n",
    "        else:\n",
    "            # if key does not exist in table\n",
    "            slot = self._findSlot(key, True)\n",
    "            self._table[slot] = _MapEntry(key, value)\n",
    "            self._count += 1\n",
    "            if self._count == self._maxCount:\n",
    "                self._rehash()\n",
    "            return True\n",
    "    \n",
    "    def valueOf(self, key):\n",
    "        slot = self._findSlot(key, False)\n",
    "        assert slot is not None, \"Invalid map key.\"\n",
    "        return self._table[slot].value\n",
    "    \n",
    "    def remove(self, key):\n",
    "        slot = self._findSlot(key, False)\n",
    "        assert slot is not None, \"Invalid map key.\"\n",
    "        self._table[slot] = self.EMPTY\n",
    "    \n",
    "    def _findSlot(self, key, forInsert):\n",
    "        # double probing\n",
    "        slot = self._hash1(key)\n",
    "        step = self._hash2(key)\n",
    "        \n",
    "        # probe for key\n",
    "        M = len(self._table)\n",
    "        # termination measure\n",
    "        # make sure that the loop terminates after checking all entries in the table and return None if no match is found\n",
    "        counter = 0\n",
    "        if forInsert:\n",
    "            while counter <= M and (self._table[slot] is not self.UNUSED and self._table[slot] is not self.EMPTY):\n",
    "                slot = (slot + step) % M\n",
    "                counter += 1\n",
    "            if counter < M:\n",
    "                return slot\n",
    "        else:\n",
    "            while counter <= M and (self._table[slot] is self.UNUSED or self._table[slot] is self.EMPTY or self._table[slot].key != key):\n",
    "                slot = (slot + step) % M\n",
    "                counter += 1\n",
    "            if counter < M:\n",
    "                return slot\n",
    "        \n",
    "    def _rehash(self):\n",
    "        origTable = self._table\n",
    "        newSize = len(self._table) * 2 + 1\n",
    "        self._table = Array(newSize)\n",
    "        \n",
    "        self._count = 0\n",
    "        self._maxCount = newSize - newSize // 3\n",
    "        \n",
    "        for entry in origTable:\n",
    "            if entry is not self.UNUSED and entry is not self.EMPTY:\n",
    "                slot = self._findSlot(entry.key, True)\n",
    "                self._table[slot] = entry\n",
    "                self._count += 1\n",
    "        \n",
    "    def _hash1(self, key):\n",
    "        # hash() is Python in-built\n",
    "        return abs(hash(key)) % len(self._table)\n",
    "    \n",
    "    def _hash2(self, key):\n",
    "        return 1 + abs(hash(key)) % (len(self._table) - 2)\n",
    "    \n",
    "    def __iter__(self):\n",
    "        return _HashMapIterator(self._table)\n",
    "\n",
    "class _HashMapIterator:\n",
    "    def __init__(self, table):\n",
    "        self._tableRef = table\n",
    "        self._curIndex = 0\n",
    "    \n",
    "    def __iter__(self):\n",
    "        return self\n",
    "\n",
    "    def __next__(self):\n",
    "        if self._curIndex < len(self._tableRef):\n",
    "            entry = self._tableRef[self._curIndex]\n",
    "            self._curIndex += 1\n",
    "            return entry\n",
    "        else:\n",
    "            raise StopIteration"
   ]
  },
  {
   "cell_type": "code",
   "execution_count": 155,
   "metadata": {
    "scrolled": true
   },
   "outputs": [
    {
     "name": "stdout",
     "output_type": "stream",
     "text": [
      "True\n",
      "2\n",
      "1, 1\n",
      "2, 2\n",
      "3, 3\n",
      "4, 1\n",
      "5, 2\n",
      "7, 1\n",
      "8, 2\n"
     ]
    }
   ],
   "source": [
    "m = HashMap()\n",
    "m.add(1, \"1\")\n",
    "m.add(2, \"2\")\n",
    "m.add(3, \"3\")\n",
    "m.add(4, \"1\")\n",
    "m.add(5, \"2\")\n",
    "m.add(6, \"3\")\n",
    "m.add(7, \"1\")\n",
    "m.add(8, \"2\")\n",
    "m.remove(6)\n",
    "print(8 in m)\n",
    "print(m.valueOf(8))\n",
    "for e in m:\n",
    "    if e is not m.UNUSED and e is not m.EMPTY:\n",
    "        print(\"{}, {}\".format(e.key, e.value))"
   ]
  },
  {
   "cell_type": "markdown",
   "metadata": {},
   "source": [
    "## Histogram"
   ]
  },
  {
   "cell_type": "code",
   "execution_count": 156,
   "metadata": {},
   "outputs": [],
   "source": [
    "class Histogram:\n",
    "    def __init__(self, catSeq):\n",
    "        self._freqCounts = HashMap()\n",
    "        for cat in catSeq:\n",
    "            self._freqCounts.add(cat, 0)\n",
    "    \n",
    "    def getCount(self, category):\n",
    "        assert category in self._freqCounts, \"Invalid category.\"\n",
    "        return self._freqCounts.valueOf(category)\n",
    "    \n",
    "    def incCount(self, category):\n",
    "        assert category in self._freqCounts, \"Invalid category.\"\n",
    "        count = self._freqCounts.valueOf(category)\n",
    "        self._freqCounts.add(category, count + 1)\n",
    "    \n",
    "    def totalCount(self):\n",
    "        total = 0\n",
    "        for cat in self._freqCounts:\n",
    "            total += self._freqCounts.valueOf(cat)\n",
    "        return total\n",
    "    \n",
    "    def __iter__(self):\n",
    "        return iter(self._freqCounts)"
   ]
  },
  {
   "cell_type": "code",
   "execution_count": 157,
   "metadata": {
    "scrolled": true
   },
   "outputs": [
    {
     "name": "stdout",
     "output_type": "stream",
     "text": [
      "Grade Distribution\n",
      " |\n",
      "A +****\n",
      " |\n",
      "B +***\n",
      " |\n",
      "C +*\n",
      " |\n",
      "D +**\n",
      " |\n",
      "F +*\n",
      " |\n",
      " +----+----+----+----+----+----+----+----\n",
      " 0 5 10 15 20 25 30 35\n"
     ]
    }
   ],
   "source": [
    "def main():\n",
    "    gradeHist = Histogram(\"ABCDF\")\n",
    "    gradeFile = open(\"grades.txt\", \"r\")\n",
    "    \n",
    "    for line in gradeFile:\n",
    "        grade = int(line)\n",
    "        gradeHist.incCount(letterGrade(grade))\n",
    "    printChart(gradeHist)\n",
    "\n",
    "def letterGrade(grade):\n",
    "    if grade >= 90:\n",
    "        return 'A'\n",
    "    elif grade >= 80:\n",
    "        return 'B'\n",
    "    elif grade >= 70:\n",
    "        return 'C'\n",
    "    elif grade >= 60:\n",
    "        return 'D'\n",
    "    else:\n",
    "        return 'F'\n",
    "\n",
    "def printChart(gradeHist):\n",
    "    print(\"Grade Distribution\")\n",
    "    letterGrades = ('A', 'B', 'C', 'D', 'F')\n",
    "    for letter in letterGrades:\n",
    "        print(\" |\")\n",
    "        print(letter + \" +\", end = \"\")\n",
    "        freq = gradeHist.getCount(letter)\n",
    "        print('*' * freq)\n",
    "    print(\" |\")\n",
    "    print(\" +----+----+----+----+----+----+----+----\")\n",
    "    print(\" 0 5 10 15 20 25 30 35\")\n",
    "\n",
    "main()"
   ]
  },
  {
   "cell_type": "markdown",
   "metadata": {},
   "source": [
    "# Binary tree"
   ]
  },
  {
   "cell_type": "code",
   "execution_count": 158,
   "metadata": {},
   "outputs": [],
   "source": [
    "class BiTreeNode:\n",
    "    def __init__(self, value):\n",
    "        self.value = value\n",
    "        self.left = None\n",
    "        self.right = None"
   ]
  },
  {
   "cell_type": "code",
   "execution_count": 162,
   "metadata": {},
   "outputs": [],
   "source": [
    "a = BiTreeNode(\"A\")\n",
    "b = BiTreeNode(\"B\")\n",
    "c = BiTreeNode(\"C\")\n",
    "d = BiTreeNode(\"D\")\n",
    "e = BiTreeNode(\"E\")\n",
    "a.left = b\n",
    "a.right = c\n",
    "b.left = d\n",
    "c.left = e"
   ]
  },
  {
   "cell_type": "markdown",
   "metadata": {},
   "source": [
    "## Depth-first traversal"
   ]
  },
  {
   "cell_type": "code",
   "execution_count": 163,
   "metadata": {},
   "outputs": [
    {
     "name": "stdout",
     "output_type": "stream",
     "text": [
      "A\n",
      "B\n",
      "D\n",
      "C\n",
      "E\n"
     ]
    }
   ],
   "source": [
    "def preorderTrav(root):\n",
    "    if root is not None:\n",
    "        print(root.value)\n",
    "        preorderTrav(root.left)\n",
    "        preorderTrav(root.right)\n",
    "        \n",
    "preorderTrav(a)"
   ]
  },
  {
   "cell_type": "code",
   "execution_count": 164,
   "metadata": {},
   "outputs": [
    {
     "name": "stdout",
     "output_type": "stream",
     "text": [
      "D\n",
      "B\n",
      "A\n",
      "E\n",
      "C\n"
     ]
    }
   ],
   "source": [
    "def inorderTrav(root):\n",
    "    if root is not None:\n",
    "        inorderTrav(root.left)\n",
    "        print(root.value)\n",
    "        inorderTrav(root.right)\n",
    "        \n",
    "inorderTrav(a)"
   ]
  },
  {
   "cell_type": "code",
   "execution_count": 165,
   "metadata": {
    "scrolled": true
   },
   "outputs": [
    {
     "name": "stdout",
     "output_type": "stream",
     "text": [
      "D\n",
      "B\n",
      "E\n",
      "C\n",
      "A\n"
     ]
    }
   ],
   "source": [
    "def postorderTrav(root):\n",
    "    if root is not None:\n",
    "        postorderTrav(root.left)\n",
    "        postorderTrav(root.right)\n",
    "        print(root.value)\n",
    "        \n",
    "postorderTrav(a)"
   ]
  },
  {
   "cell_type": "markdown",
   "metadata": {},
   "source": [
    "## Breadth-first traversal"
   ]
  },
  {
   "cell_type": "code",
   "execution_count": 167,
   "metadata": {},
   "outputs": [
    {
     "name": "stdout",
     "output_type": "stream",
     "text": [
      "A\n",
      "B\n",
      "C\n",
      "D\n",
      "E\n"
     ]
    }
   ],
   "source": [
    "def breadthFirstTrav(root):\n",
    "    q = Queue()\n",
    "    q.enqueue(root)\n",
    "    while not q.isEmpty():\n",
    "        # visit the next level\n",
    "        node = q.dequeue()\n",
    "        print(node.value)\n",
    "        # enqueue children if they exist\n",
    "        if node.left is not None:\n",
    "            q.enqueue(node.left)\n",
    "        if node.right is not None:\n",
    "            q.enqueue(node.right)\n",
    "    \n",
    "breadthFirstTrav(a)"
   ]
  },
  {
   "cell_type": "markdown",
   "metadata": {},
   "source": [
    "## Expression tree"
   ]
  },
  {
   "cell_type": "code",
   "execution_count": 178,
   "metadata": {},
   "outputs": [],
   "source": [
    "class _ExpTreeNode:\n",
    "    def __init__(self, value):\n",
    "        self.value = value\n",
    "        self.left = None\n",
    "        self.right = None\n",
    "\n",
    "class ExpressionTree:\n",
    "    def __init__(self, expStr):\n",
    "        # root of the expression tree\n",
    "        self._expTree = None\n",
    "        self._buildTree(expStr)\n",
    "    \n",
    "    def _buildTree(self, expStr):\n",
    "        q = Queue()\n",
    "        for token in expStr:\n",
    "            q.enqueue(token)\n",
    "        # create an empty root node\n",
    "        self._expTree = _ExpTreeNode(None)\n",
    "        self._recBuildTree(self._expTree, q)\n",
    "    \n",
    "    def _recBuildTree(self, curNode, q):\n",
    "        # get next token\n",
    "        token = q.dequeue()\n",
    "        if token == '(':\n",
    "            # inorder traversal\n",
    "            # initialize left child and build left subtree recursively\n",
    "            curNode.left = _ExpTreeNode(None)\n",
    "            self._recBuildTree(curNode.left, q)\n",
    "            # after the left subtree has been built, the next token will be an operator\n",
    "            curNode.value = q.dequeue()\n",
    "            # initialize right child and build right subtree recursively\n",
    "            curNode.right = _ExpTreeNode(None)\n",
    "            self._recBuildTree(curNode.right, q)\n",
    "            # remove ')'\n",
    "            q.dequeue()\n",
    "        else:\n",
    "            # token is an operand, since cases where the token are parentheses or operators are handled above\n",
    "            curNode.value = token\n",
    "    \n",
    "    def evaluate(self, varDict):\n",
    "        return self._evalTree(self._expTree, varDict)\n",
    "    \n",
    "    def _evalTree(self, tree, varDict):\n",
    "        if tree.left is None and tree.right is None:\n",
    "            if tree.value >= '0' and tree.value <= '9':\n",
    "                return int(tree.value)\n",
    "            else:\n",
    "                assert tree.value in varDict, \"Invalid variable.\"\n",
    "                return varDict[tree.value]\n",
    "        else:\n",
    "            left = self._evalTree(tree.left, varDict)\n",
    "            right = self._evalTree(tree.right, varDict)\n",
    "            return self._compute(left, tree.value, right)\n",
    "    \n",
    "    def _compute(self, left, operator, right):\n",
    "        if operator == '+':\n",
    "            return left + right\n",
    "        elif operator == '-':\n",
    "            return left - right\n",
    "        elif operator == '*':\n",
    "            return left * right\n",
    "        elif operator == '/':\n",
    "            return left / right\n",
    "    \n",
    "    def __str__(self):\n",
    "        return self._buildString(self._expTree)\n",
    "    \n",
    "    def _buildString(self, tree):\n",
    "        # if the node is a leaf, it is an operand\n",
    "        if tree.left is None and tree.right is None:\n",
    "            return str(tree.value)\n",
    "        else:\n",
    "            # otherwise, it is an operator\n",
    "            expStr = '('\n",
    "            # inorder traversal\n",
    "            expStr += self._buildString(tree.left)\n",
    "            expStr += str(tree.value)\n",
    "            expStr += self._buildString(tree.right)\n",
    "            expStr += ')'\n",
    "            return expStr"
   ]
  },
  {
   "cell_type": "code",
   "execution_count": 182,
   "metadata": {},
   "outputs": [
    {
     "data": {
      "text/plain": [
       "'((a*7)+8)'"
      ]
     },
     "execution_count": 182,
     "metadata": {},
     "output_type": "execute_result"
    }
   ],
   "source": [
    "expr = ExpressionTree(\"((a*7)+8)\")\n",
    "expr.evaluate({'a': 3})\n",
    "expr._buildString(expr._expTree)"
   ]
  },
  {
   "cell_type": "markdown",
   "metadata": {},
   "source": [
    "## Array-based heap"
   ]
  },
  {
   "cell_type": "code",
   "execution_count": 206,
   "metadata": {},
   "outputs": [],
   "source": [
    "class MaxHeap:\n",
    "    def __init__(self, maxSize):\n",
    "        self._container = Array(maxSize)\n",
    "        self._count = 0\n",
    "    \n",
    "    def __len__(self):\n",
    "        return self._count\n",
    "    \n",
    "    def capacity(self):\n",
    "        return len(self._container)\n",
    "    \n",
    "    def isFull(self):\n",
    "        return self._count >= self.capacity()\n",
    "    \n",
    "    def isEmpty(self):\n",
    "        return self._count == 0\n",
    "    \n",
    "    def add(self, value):\n",
    "        assert not self.isFull(), \"Heap full.\"\n",
    "        self._container[self._count] = value\n",
    "        self._count += 1\n",
    "        self._siftUp(self._count - 1)\n",
    "    \n",
    "    # extract maximum from the heap\n",
    "    def extract(self):\n",
    "        assert not self.isEmpty(), \"Heap empty.\"\n",
    "        value = self._container[0]\n",
    "        self._count -= 1\n",
    "        # copy the last heap value to the root and sift it down\n",
    "        self._container[0] = self._container[self._count]\n",
    "        self._siftDown(0)\n",
    "        return value\n",
    "    \n",
    "    def _swap(self, i1, i2):\n",
    "        tmp = self._container[i1]\n",
    "        self._container[i1] = self._container[i2]\n",
    "        self._container[i2] = tmp\n",
    "    \n",
    "    def _siftUp(self, index):\n",
    "        if index > 0:\n",
    "            parent = (index - 1) // 2\n",
    "            if self._container[index] > self._container[parent]:\n",
    "                self._swap(index, parent)\n",
    "                self._siftUp(parent)\n",
    "    \n",
    "    def _siftDown(self, index):\n",
    "        left = 2 * index + 1\n",
    "        right = 2 * index + 2\n",
    "        largest = index\n",
    "        # if the left child exists and is larger than current largest\n",
    "        if left < self._count and self._container[left] >= self._container[largest]:\n",
    "            largest = left\n",
    "        # if the right child exists and is larger than current largest\n",
    "        if right < self._count and self._container[right] >= self._container[largest]:\n",
    "            largest = right\n",
    "        if largest != index:\n",
    "            self._swap(index, largest)\n",
    "            self._siftDown(largest)\n",
    "    "
   ]
  },
  {
   "cell_type": "code",
   "execution_count": 207,
   "metadata": {},
   "outputs": [
    {
     "data": {
      "text/plain": [
       "71"
      ]
     },
     "execution_count": 207,
     "metadata": {},
     "output_type": "execute_result"
    }
   ],
   "source": [
    "h = MaxHeap(10)\n",
    "h.add(100)\n",
    "h.add(84)\n",
    "h.add(71)\n",
    "h.add(60)\n",
    "h.add(23)\n",
    "h.add(12)\n",
    "h.add(29)\n",
    "h.extract()\n",
    "h.extract()\n",
    "h.extract()"
   ]
  },
  {
   "cell_type": "markdown",
   "metadata": {},
   "source": [
    "## Heap sort"
   ]
  },
  {
   "cell_type": "code",
   "execution_count": 212,
   "metadata": {},
   "outputs": [],
   "source": [
    "def simpleHeapSort(seq):\n",
    "    n = len(seq)\n",
    "    heap = MaxHeap(n)\n",
    "    for item in seq:\n",
    "        heap.add(item)\n",
    "    # reverse since we are using a max heap\n",
    "    for i in reversed(range(n)):\n",
    "        seq[i] = heap.extract()"
   ]
  },
  {
   "cell_type": "code",
   "execution_count": 213,
   "metadata": {},
   "outputs": [
    {
     "name": "stdout",
     "output_type": "stream",
     "text": [
      "[0, 1, 3, 4, 5, 18, 29]\n"
     ]
    }
   ],
   "source": [
    "seq = [1, 5, 3, 0, 29, 4, 18]\n",
    "simpleHeapSort(seq)\n",
    "print(seq)"
   ]
  },
  {
   "cell_type": "code",
   "execution_count": 240,
   "metadata": {},
   "outputs": [],
   "source": [
    "def swap(seq, i1, i2):\n",
    "    tmp = seq[i1]\n",
    "    seq[i1] = seq[i2]\n",
    "    seq[i2] = tmp\n",
    "    \n",
    "def siftUp(seq, index):\n",
    "    if index > 0:\n",
    "        parent = (index - 1) // 2\n",
    "        if seq[index] > seq[parent]:\n",
    "            swap(seq, index, parent)\n",
    "            siftUp(seq, parent)\n",
    "\n",
    "# additional argument: length of the heap in the array\n",
    "def siftDown(seq, index, length):\n",
    "    left = 2 * index + 1\n",
    "    right = 2 * index + 2\n",
    "    largest = index\n",
    "    # if the left child exists and is larger than current largest\n",
    "    if left < length and seq[left] >= seq[largest]:\n",
    "        largest = left\n",
    "    # if the right child exists and is larger than current largest\n",
    "    if right < length and seq[right] >= seq[largest]:\n",
    "        largest = right\n",
    "    if largest != index:\n",
    "        swap(seq, index, largest)\n",
    "        siftDown(seq, largest, length)\n",
    "    \n",
    "def heapSort(seq):\n",
    "    n = len(seq)\n",
    "    # build max heap in-place\n",
    "    # first part: heap, second part: original sequence\n",
    "    for i in range(n):\n",
    "        siftUp(seq, i)\n",
    "    # extract each value\n",
    "    # first part: heap, second part: sorted sequence\n",
    "    for j in reversed(range(n)):\n",
    "        swap(seq, j, 0)\n",
    "        siftDown(seq, 0, j-1)"
   ]
  },
  {
   "cell_type": "code",
   "execution_count": 239,
   "metadata": {},
   "outputs": [
    {
     "name": "stdout",
     "output_type": "stream",
     "text": [
      "[0, 1, 3, 4, 5, 18, 29]\n"
     ]
    }
   ],
   "source": [
    "seq = [1, 5, 3, 0, 29, 4, 18]\n",
    "heapSort(seq)\n",
    "print(seq)"
   ]
  },
  {
   "cell_type": "markdown",
   "metadata": {},
   "source": [
    "## Morse code"
   ]
  },
  {
   "cell_type": "code",
   "execution_count": 304,
   "metadata": {},
   "outputs": [],
   "source": [
    "class MorseNode:\n",
    "    def __init__(self):\n",
    "        self.code = None\n",
    "        self.letter = None\n",
    "        self.left = None\n",
    "        self.right = None\n",
    "\n",
    "class MorseCodeTree:\n",
    "    def __init__(self):\n",
    "        self._tree = MorseNode()\n",
    "        self._buildTree()\n",
    "    \n",
    "    def _add(self, code, letter):\n",
    "        curNode = self._tree\n",
    "        curCode = ''\n",
    "        for char in code:\n",
    "            curCode += char\n",
    "            if char == '.':\n",
    "                if curNode.left is None:\n",
    "                    leftNode = MorseNode()\n",
    "                    leftNode.code = curCode\n",
    "                    curNode.left = leftNode\n",
    "                curNode = curNode.left\n",
    "            elif char == '-':\n",
    "                if curNode.right is None:\n",
    "                    rightNode = MorseNode()\n",
    "                    rightNode.code = curCode\n",
    "                    curNode.right = rightNode\n",
    "                curNode = curNode.right\n",
    "        curNode.code = code\n",
    "        curNode.letter = letter\n",
    "    \n",
    "    def _buildTree(self):\n",
    "        self._add('.', 'E')\n",
    "        self._add('-', 'T')\n",
    "        self._add('..', 'I')\n",
    "        self._add('.-', 'A')\n",
    "        self._add('-.', 'N')\n",
    "        self._add('--', 'M')\n",
    "        self._add('...', 'S')\n",
    "        self._add('..-', 'U')\n",
    "        self._add('.-.', 'R')\n",
    "        self._add('.--', 'W')\n",
    "        self._add('-..', 'D')\n",
    "        self._add('-.-', 'K')\n",
    "        self._add('--.', 'G')\n",
    "        self._add('---', 'O')\n",
    "        self._add('....', 'H')\n",
    "        self._add('...-', 'V')\n",
    "        self._add('..-.', 'F')\n",
    "        self._add('.-..', 'L')\n",
    "        self._add('.--.', 'P')\n",
    "        self._add('.---', 'J')\n",
    "        self._add('-...', 'B')\n",
    "        self._add('-..-', 'X')\n",
    "        self._add('-.-.', 'C')\n",
    "        self._add('-.--', 'Y')\n",
    "        self._add('--..', 'Z')\n",
    "        self._add('--.-', 'Q')\n",
    "    \n",
    "    def translate(self, codeSeq):\n",
    "        msg = ''\n",
    "        codeList = codeSeq.split(' ')\n",
    "        print(codeList)\n",
    "        for code in codeList:\n",
    "            curNode = self._tree\n",
    "            for char in code:\n",
    "                if char == '.':\n",
    "                    if curNode.left is not None:\n",
    "                        curNode = curNode.left\n",
    "                elif char == '-':\n",
    "                    if curNode.right is not None:\n",
    "                        curNode = curNode.right\n",
    "#                 elif char == ' ':\n",
    "#                     msg += ' '\n",
    "            if curNode.letter is not None:\n",
    "                msg += curNode.letter\n",
    "            else:\n",
    "                msg += ' '\n",
    "        return msg\n",
    "        "
   ]
  },
  {
   "cell_type": "code",
   "execution_count": 282,
   "metadata": {},
   "outputs": [
    {
     "name": "stdout",
     "output_type": "stream",
     "text": [
      "None: None\n",
      "E: .\n",
      "I: ..\n",
      "S: ...\n",
      "H: ....\n",
      "V: ...-\n",
      "U: ..-\n",
      "F: ..-.\n",
      "A: .-\n",
      "R: .-.\n",
      "L: .-..\n",
      "W: .--\n",
      "P: .--.\n",
      "J: .---\n",
      "T: -\n",
      "N: -.\n",
      "D: -..\n",
      "B: -...\n",
      "X: -..-\n",
      "K: -.-\n",
      "C: -.-.\n",
      "Y: -.--\n",
      "M: --\n",
      "G: --.\n",
      "Z: --..\n",
      "Q: --.-\n",
      "O: ---\n"
     ]
    }
   ],
   "source": [
    "mTree = MorseCodeTree()\n",
    "\n",
    "def preorderTrav(root):\n",
    "    if root is not None:\n",
    "        print(\"{}: {}\".format(root.letter, root.code))\n",
    "        preorderTrav(root.left)\n",
    "        preorderTrav(root.right)\n",
    "        \n",
    "preorderTrav(mTree._tree)"
   ]
  },
  {
   "cell_type": "code",
   "execution_count": 305,
   "metadata": {},
   "outputs": [
    {
     "name": "stdout",
     "output_type": "stream",
     "text": [
      "['-', '.-.', '.', '.', '...', '', '.-', '.-.', '.', '', '..-.', '..-', '-.']\n"
     ]
    },
    {
     "data": {
      "text/plain": [
       "'TREES ARE FUN'"
      ]
     },
     "execution_count": 305,
     "metadata": {},
     "output_type": "execute_result"
    }
   ],
   "source": [
    "codeSeq = '- .-. . . ...  .- .-. .  ..-. ..- -.'\n",
    "mTree = MorseCodeTree()\n",
    "mTree.translate(codeSeq)"
   ]
  },
  {
   "cell_type": "markdown",
   "metadata": {},
   "source": [
    "# Search  trees"
   ]
  },
  {
   "cell_type": "code",
   "execution_count": 1,
   "metadata": {},
   "outputs": [],
   "source": [
    "class _BSTMapNode:\n",
    "    def __init__(self, key, value):\n",
    "        self.key = key\n",
    "        self.value = value\n",
    "        self.left = None\n",
    "        self.right = None\n",
    "\n",
    "class BSTMap:\n",
    "    def __init__(self):\n",
    "        self._root = None\n",
    "        self._size = 0\n",
    "    \n",
    "    def __len__(self):\n",
    "        return self._size\n",
    "    \n",
    "    def __iter__(self):\n",
    "        return _BSTMapIterator(self._root)\n",
    "    \n",
    "    def __contains__(self, key):\n",
    "        return self._bstSearch(self._root, key) is not None\n",
    "    \n",
    "    def valueOf(self, key):\n",
    "        node = self._bstSearch(self._root, key)\n",
    "        assert node is not None, \"Invalid map key.\"\n",
    "        return node.value\n",
    "    \n",
    "    def _bstSearch(self, tree, target):\n",
    "        if target == tree.key:\n",
    "            return tree\n",
    "        elif target < tree.key:\n",
    "            return self._bstSearch(tree.left, target)\n",
    "        elif target > tree.key:\n",
    "            return self._bstSearch(tree.right, target)\n",
    "        # if tree is None, return None\n",
    "    \n",
    "    def _bstMinimum(self, tree):\n",
    "        if tree is None:\n",
    "            return None\n",
    "        elif tree.left is None:\n",
    "            return tree\n",
    "        else:\n",
    "            return self._bstMinimum(tree.left)\n",
    "    \n",
    "    def _bstMaximum(self, tree):\n",
    "        if tree is None:\n",
    "            return None\n",
    "        elif tree.right is None:\n",
    "            return tree\n",
    "        else:\n",
    "            return self._bstMaximum(tree.right)\n",
    "    \n",
    "    def add(self, key, value):\n",
    "        node = self._bstSearch(key)\n",
    "        if node is not None:\n",
    "            node.value = value\n",
    "            return False\n",
    "        else:\n",
    "            self._root = self._bstInsert(self._root, key, value)\n",
    "            self._size += 1\n",
    "            return True\n",
    "    \n",
    "    def _bstInsert(self, tree, key, value):\n",
    "        if tree is None:\n",
    "            tree = _BSTMapNode(key, value)\n",
    "        elif key < tree.key:\n",
    "            tree.left = self._bstInsert(tree.left, key, value)\n",
    "        elif key > tree.key:\n",
    "            tree.right = self._bstInsert(tree.right, key, value)\n",
    "        return tree\n",
    "    \n",
    "    def remove(self, key):\n",
    "        assert key in self, \"Invalid map key.\"\n",
    "        self._root = self._bstRemove(self._root, key)\n",
    "        self._size -= 1\n",
    "    \n",
    "    # return the root of the tree after removing the target\n",
    "    def _bstRemove(self, tree, target):\n",
    "        if tree is None:\n",
    "            return tree\n",
    "        elif target < tree.key:\n",
    "            tree.left = self._bstRemove(tree.left, target)\n",
    "        elif target > tree.key:\n",
    "            tree.right = self._bstRemove(tree.right, target)\n",
    "        else:\n",
    "            if tree.left is None and tree.right is None:\n",
    "                return None\n",
    "            elif tree.left is None or tree.right is None:\n",
    "                if tree.left is not None:\n",
    "                    return tree.left\n",
    "                else:\n",
    "                    return tree.right\n",
    "            else:\n",
    "                # replace removed node with its successor\n",
    "                successor = self._bstMinimum(tree.right)\n",
    "                tree.key = successor.key\n",
    "                tree.value = successory.value\n",
    "                tree.right = self._bstRemove(tree.right, successor.key)\n",
    "                return tree\n",
    "    \n",
    "class _BSTMapIterator:\n",
    "    def __init__(self, root, size):\n",
    "        # create an array of keys\n",
    "        self._keys = Array(size)\n",
    "        self._curItem = 0\n",
    "        # build the array of keys\n",
    "        self._bstTraversal(root)\n",
    "        self._curItem = 0\n",
    "    \n",
    "    def __iter__(self):\n",
    "        return self\n",
    "    \n",
    "    # return next key from the array of keys\n",
    "    def __next__(self):\n",
    "        if self._curItem < len(self._keys):\n",
    "            key = self._keys[self._curItem]\n",
    "            self._curItem += 1\n",
    "            return key\n",
    "        else:\n",
    "            raise StopIteration\n",
    "    \n",
    "    def _bstTraversal(self, tree):\n",
    "        if tree is not None:\n",
    "            self._bstTraversal(tree.left)\n",
    "            self._keys[self._curItem] = tree.key\n",
    "            self._curItem += 1\n",
    "            self._bstTraversal(tree.right)"
   ]
  },
  {
   "cell_type": "markdown",
   "metadata": {},
   "source": [
    "## AVL tree"
   ]
  },
  {
   "cell_type": "code",
   "execution_count": null,
   "metadata": {},
   "outputs": [],
   "source": [
    "class _AVLMapNode:\n",
    "    def __init__(self, key, value):\n",
    "        self.key= key\n",
    "        self.value = value\n",
    "        self.bfactor = EQUAL_HIGH\n",
    "        self.left = None\n",
    "        self.right = None\n",
    "\n",
    "class AVLMap:\n",
    "    LEFT_HIGH = 1\n",
    "    EQUAL_HIGH = 0\n",
    "    RIGHT_HIGH = -1\n",
    "    \n",
    "    def __init__(self):\n",
    "        self._root = None\n",
    "        self._size = 0\n",
    "    \n",
    "    def __len__(self):\n",
    "        return self._size\n",
    "    \n",
    "    def __contains__(self, key):\n",
    "        return self._bstSearch(self._root, key) is not None\n",
    "    \n",
    "    def add(self, key, value):\n",
    "        node = self._bstSearch(key)\n",
    "        if node is not None:\n",
    "            node.value = value\n",
    "            return False\n",
    "        else:\n",
    "            (self._root. tmp) = self._avlInsert(self._root, key, value)\n",
    "            self._size += 1\n",
    "            return True\n",
    "    \n",
    "    def valueOf(self, key):\n",
    "        node = self._bstSearch(self._root, key)\n",
    "        assert node is not None, \"Invalid map key.\"\n",
    "        return node.value\n",
    "    \n",
    "    def remove(self, key):\n",
    "        assert key in self, \"Invalid map key.\"\n",
    "        (self._root, tmp) = self._avlRemove(self._root, key)\n",
    "        self._size -= 1\n",
    "    \n",
    "    def __iter__(self):\n",
    "        return _BSTMapIterator(self._root)\n",
    "    \n",
    "    def _avlRotateRight(self, pivot):\n",
    "        C = pivot.left\n",
    "        pivot.left = C.right\n",
    "        C.right = pivot\n",
    "        return C\n",
    "    \n",
    "    def _avlRotateLeft(self, pivot):\n",
    "        C = pivot.right\n",
    "        pivot.right = C.left\n",
    "        C.left = pivot\n",
    "        return C\n",
    "    \n",
    "    def _avlLeftBalance(self, pivot):\n",
    "        C = pivot.left\n",
    "        if C.bfactor == LEFT_HIGH:\n",
    "            pivot.bfactor = EQUAL_HIGH\n",
    "            C.bfactor = EQUAL_HIGH\n",
    "            pivot = _avlRotateRight(pivot)\n",
    "            return pivot\n",
    "        else:\n",
    "            if G.bfactor == LEFT_HIGH:\n",
    "                pivot.bfactor = RIGHT_HIGH\n",
    "                C.bfactor = EQUAL_HIGH\n",
    "            elif G.bfactor == EQUAL_HIGH:\n",
    "                pivot.bfactor = EQUAL_HIGH\n",
    "                C.bfactor = EQUAL_HIGH\n",
    "            else:\n",
    "                pivot.bfactor = EQUAL_HIGH\n",
    "                C.bfactor = LEFT_HIGH\n",
    "            G.bfactor = EQUAL_HIGH\n",
    "            pivot.left = _avlRotateLeft(L)"
   ]
  }
 ],
 "metadata": {
  "kernelspec": {
   "display_name": "Python 3",
   "language": "python",
   "name": "python3"
  },
  "language_info": {
   "codemirror_mode": {
    "name": "ipython",
    "version": 3
   },
   "file_extension": ".py",
   "mimetype": "text/x-python",
   "name": "python",
   "nbconvert_exporter": "python",
   "pygments_lexer": "ipython3",
   "version": "3.6.8"
  },
  "toc": {
   "base_numbering": 1,
   "nav_menu": {},
   "number_sections": true,
   "sideBar": true,
   "skip_h1_title": false,
   "title_cell": "Table of Contents",
   "title_sidebar": "Contents",
   "toc_cell": false,
   "toc_position": {
    "height": "calc(100% - 180px)",
    "left": "10px",
    "top": "150px",
    "width": "165px"
   },
   "toc_section_display": true,
   "toc_window_display": true
  }
 },
 "nbformat": 4,
 "nbformat_minor": 2
}
