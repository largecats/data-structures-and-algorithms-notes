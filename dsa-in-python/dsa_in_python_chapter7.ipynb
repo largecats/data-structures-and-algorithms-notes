{
 "cells": [
  {
   "cell_type": "markdown",
   "metadata": {},
   "source": [
    "Reading notes and partial solutions to [Data Structures and Algorithms in Python](https://blackwells.co.uk/bookshop/product/9781118290279?gC=f177369a3b&gclid=Cj0KCQjwhJrqBRDZARIsALhp1WTBIyoxeQGXedlVy80vsglvFbNkVf7jTP0Z0zXEIP87lfqbtb4_diYaAr8dEALw_wcB)."
   ]
  },
  {
   "cell_type": "code",
   "execution_count": 1,
   "metadata": {},
   "outputs": [],
   "source": [
    "import random\n",
    "from matplotlib import pyplot as plt\n",
    "%matplotlib inline\n",
    "import math\n",
    "from datetime import datetime\n",
    "import time\n",
    "import numpy as np"
   ]
  },
  {
   "cell_type": "markdown",
   "metadata": {},
   "source": [
    "## Linked Lists\n",
    "\n",
    "### Singly Linked Lists"
   ]
  },
  {
   "cell_type": "code",
   "execution_count": 15,
   "metadata": {},
   "outputs": [],
   "source": [
    "class LinkedStack:\n",
    "    \n",
    "    class _Node:\n",
    "        # to avoid auxiliary namespace dictionary\n",
    "        # because there may be many nodes in a linked list\n",
    "        __slots__ = '_element', '_next'\n",
    "\n",
    "        def __init__(self, element, next):\n",
    "            self._element = element\n",
    "            self._next = next\n",
    "    \n",
    "    def __init__(self):\n",
    "        self._head = None\n",
    "        self._size = 0\n",
    "    \n",
    "    def __len__(self):\n",
    "        return self._size\n",
    "    \n",
    "    def is_empty(self):\n",
    "        return self._size == 0\n",
    "    \n",
    "    def push(self, e):\n",
    "        self._head = self._Node(e, self._head)\n",
    "        self._size += 1\n",
    "    \n",
    "    def top(self):\n",
    "        if self.is_empty():\n",
    "            raise Exception('Stack is empty')\n",
    "        return self._head._element\n",
    "    \n",
    "    def pop(self):\n",
    "        if self.is_empty():\n",
    "            raise Exception('Stack is empty')\n",
    "        result = self._head._element\n",
    "        self._head = self._head._next\n",
    "        self._size -= 1\n",
    "        return result"
   ]
  },
  {
   "cell_type": "code",
   "execution_count": 3,
   "metadata": {},
   "outputs": [
    {
     "data": {
      "text/plain": [
       "3"
      ]
     },
     "execution_count": 3,
     "metadata": {},
     "output_type": "execute_result"
    }
   ],
   "source": [
    "S = LinkedStack()\n",
    "for i in [1,2,3]:\n",
    "    S.push(i)\n",
    "S.pop()"
   ]
  },
  {
   "cell_type": "code",
   "execution_count": 57,
   "metadata": {},
   "outputs": [],
   "source": [
    "class LinkedQueue:\n",
    "    \n",
    "    class _Node:\n",
    "        # to avoid auxiliary namespace dictionary\n",
    "        # because there may be many nodes in a linked list\n",
    "        __slots__ = '_element', '_next'\n",
    "\n",
    "        def __init__(self, element, next):\n",
    "            self._element = element\n",
    "            self._next = next\n",
    "    \n",
    "    def __init__(self):\n",
    "        self._head = None\n",
    "        self._tail = None\n",
    "        self._size = 0\n",
    "    \n",
    "    def __len__(self):\n",
    "        return self._size\n",
    "    \n",
    "    def is_empty(self):\n",
    "        return self._size == 0\n",
    "    \n",
    "    def first(self):\n",
    "        if self.is_empty():\n",
    "            raise Empty('Queue is empty')\n",
    "        return self._head._element\n",
    "    \n",
    "    def dequeue(self):\n",
    "        if self.is_empty():\n",
    "            raise Empty('Queue is empty')\n",
    "        result = self._head._element\n",
    "        self._head = self._head._next\n",
    "        self._size -= 1\n",
    "        if self.is_empty(): # if queue is now empty\n",
    "            self._tail = None\n",
    "        return result\n",
    "    \n",
    "    def enqueue(self, e):\n",
    "        new = self._Node(e, self._head)\n",
    "        if self.is_empty():\n",
    "            self._head = new\n",
    "        else:\n",
    "            self._tail._next = new\n",
    "        self._tail = new\n",
    "        self._size += 1"
   ]
  },
  {
   "cell_type": "markdown",
   "metadata": {},
   "source": [
    "### Circularly Linked Lists"
   ]
  },
  {
   "cell_type": "code",
   "execution_count": 22,
   "metadata": {},
   "outputs": [],
   "source": [
    "class CircularQueue:\n",
    "    \n",
    "    class _Node:\n",
    "        # to avoid auxiliary namespace dictionary\n",
    "        # because there may be many nodes in a linked list\n",
    "        __slots__ = '_element', '_next'\n",
    "\n",
    "        def __init__(self, element, next):\n",
    "            self._element = element\n",
    "            self._next = next\n",
    "    \n",
    "    def __init__(self):\n",
    "        self._tail = None\n",
    "        self._size = 0\n",
    "    \n",
    "    def __len__(self):\n",
    "        return self._size\n",
    "    \n",
    "    def is_empty(self):\n",
    "        return self._size == 0\n",
    "    \n",
    "    def first(self):\n",
    "        if self.is_empty():\n",
    "            raise Exception('Queue is empty')\n",
    "        head = self._tail._next\n",
    "        return head._element\n",
    "    \n",
    "    def dequeue(self):\n",
    "        if self.is_empty():\n",
    "            raise Exception('Queue is empty')\n",
    "        head = self._tail._next\n",
    "        if self._size == 1:\n",
    "            self._tail = None\n",
    "        else:\n",
    "            self._tail._next = head._next\n",
    "        self._size -= 1\n",
    "        return head._element\n",
    "    \n",
    "    def enqueue(self, e):\n",
    "        new = self._Node(e, None)\n",
    "        if self.is_empty():\n",
    "            new._next = new\n",
    "        else:\n",
    "            new._next = self._tail._next\n",
    "            self._tail._next = new\n",
    "        self._tail = new\n",
    "        self._size += 1\n",
    "    \n",
    "    def rotate(self):\n",
    "        if self._size > 0:\n",
    "            self._tail = self._tail._next"
   ]
  },
  {
   "cell_type": "code",
   "execution_count": 24,
   "metadata": {},
   "outputs": [
    {
     "name": "stdout",
     "output_type": "stream",
     "text": [
      "2\n"
     ]
    }
   ],
   "source": [
    "q = CircularQueue()\n",
    "for i in [1,2,3]:\n",
    "    q.enqueue(i)\n",
    "q.rotate()\n",
    "print(q.first())"
   ]
  },
  {
   "cell_type": "markdown",
   "metadata": {},
   "source": [
    "### Doubly Linked Lists"
   ]
  },
  {
   "cell_type": "code",
   "execution_count": 68,
   "metadata": {},
   "outputs": [],
   "source": [
    "class _DoublyLinkedBase:\n",
    "    \n",
    "    class _Node:\n",
    "        \n",
    "        __slots__ = '_element', '_prev', '_next'\n",
    "        \n",
    "        def __init__(self, element, prev, next):\n",
    "            self._element = element\n",
    "            self._prev = prev\n",
    "            self._next = next\n",
    "    \n",
    "        def __init__(self):\n",
    "            self._header = self._Node(None, None, None)\n",
    "            self._trailer = self._Node(None, None, None)\n",
    "            self._header._next = self._trailer\n",
    "            self._trailer._prev = self._header\n",
    "            self._size = 0\n",
    "        \n",
    "        def __len__(self):\n",
    "            return self._size\n",
    "        \n",
    "        def is_empty(self):\n",
    "            return self._size == 0\n",
    "        \n",
    "        def _insert_between(self, e, predecessor, successor):\n",
    "            new = self._Node(e, predecessor, successor)\n",
    "            predecessor._next = new\n",
    "            successor._prev = new\n",
    "            self._size += 1\n",
    "            return new\n",
    "        \n",
    "        def _delete_node(self, node):\n",
    "            node._prev._next = node._next\n",
    "            node._next._prev = node._prev\n",
    "            self._size -= 1\n",
    "            element = node._element\n",
    "            node._prev = node._next = node_element = None\n",
    "            return element"
   ]
  },
  {
   "cell_type": "markdown",
   "metadata": {},
   "source": [
    "#### Deque"
   ]
  },
  {
   "cell_type": "code",
   "execution_count": 26,
   "metadata": {},
   "outputs": [],
   "source": [
    "class LinkedDeque(_DoublyLinkedBase):\n",
    "    def first(self):\n",
    "        if self.is_empty():\n",
    "            raise Exception('Queue is empty')\n",
    "        return self._header._next._element\n",
    "    \n",
    "    def last(self):\n",
    "        if self.is_empty():\n",
    "            raise Exception('Queue is empty')\n",
    "        return self._trailer._prev._element\n",
    "    \n",
    "    def insert_first(self, e):\n",
    "        self._insert_between(e, self._header, self._header._next)\n",
    "        \n",
    "    def insert_last(self, e):\n",
    "        self._insert_between(e, self._trailer._prev, self._trailer)\n",
    "        \n",
    "    def delete_first(self):\n",
    "        if self.is_empty():\n",
    "            raise Exception('Queue is empty')\n",
    "        self._delete_node(self._header._next)\n",
    "    \n",
    "    def delete_last(self):\n",
    "        if self.is_empty():\n",
    "            raise Exception('Queue is empty')\n",
    "        self._delete_node(self._trailer._prev)"
   ]
  },
  {
   "cell_type": "markdown",
   "metadata": {},
   "source": [
    "#### Positional List"
   ]
  },
  {
   "cell_type": "code",
   "execution_count": 3,
   "metadata": {},
   "outputs": [],
   "source": [
    "class PositionalList(_DoublyLinkedBase):\n",
    "    \n",
    "    class Position:\n",
    "        \n",
    "        def __init__(self, container, node):\n",
    "            self._container = container\n",
    "            self._node = node\n",
    "        \n",
    "        def element(self):\n",
    "            return self._node._element\n",
    "        \n",
    "        def __eq__(self, other):\n",
    "            \"\"\"\n",
    "            Return True if the two Positions represent the same location.\n",
    "            \"\"\"\n",
    "            return type(other) is type(self) and other._node is self._node\n",
    "        \n",
    "        def __ne__(self, other):\n",
    "            return not (self == other)\n",
    "    \n",
    "    def _validate(self, p):\n",
    "        \"\"\"\n",
    "        Return the position's node, or raise error if the position is invalid.\n",
    "        \"\"\"\n",
    "        if not isinstance(p, self.Position):\n",
    "            raise TypeError('p must be of type Position')\n",
    "        if p._container is not self:\n",
    "            raise ValueError('p does not belong to this container')\n",
    "        if p._node._next is None:\n",
    "            raise ValueError('p is deprecated')\n",
    "        return p._node\n",
    "\n",
    "    def _make_position(self, node):\n",
    "        \"\"\"Return Position instance for given node.\"\"\"\n",
    "        if node is self._header or node is self._trailer:\n",
    "            return None\n",
    "        else:\n",
    "            return self.Position(self, node)\n",
    "    \n",
    "    def first(self):\n",
    "        return self._make_position(self._header._next)\n",
    "    \n",
    "    def last(self):\n",
    "        return self._make_position(self._trailer._prev)\n",
    "    \n",
    "    def before(self, p):\n",
    "        \"\"\"\n",
    "        Return the Position before p.\n",
    "        \"\"\"\n",
    "        node = self._validate(p)\n",
    "        return self._make_position(node._prev)\n",
    "    \n",
    "    def after(self, p):\n",
    "        \"\"\"\n",
    "        Return the Position after p.\n",
    "        \"\"\"\n",
    "        node = self._validate(p)\n",
    "        return self._make_position(node._next)\n",
    "    \n",
    "    def __iter__(self):\n",
    "        cursor = self.first()\n",
    "        while cursor is not None:\n",
    "            yield cursor.element()\n",
    "            cursor = self.after(cursor)\n",
    "    \n",
    "    def _insert_between(self, e, predecessor, successor):\n",
    "        \"\"\"\n",
    "        Add element between nodes and return new Position (instead of node as in the base class).\n",
    "        \"\"\"\n",
    "        node = super()._insert_between(e, predecessor, successor)\n",
    "        return self._make_position(node)\n",
    "    \n",
    "    def add_first(self, e):\n",
    "        return self._insert_between(e, self._header, self._header._next)\n",
    "    \n",
    "    def add_last(self, e):\n",
    "        return self._insert_between(e, self._trailer._prev, self._trailer)\n",
    "    \n",
    "    def add_before(self, p, e):\n",
    "        node = self._validate(p)\n",
    "        return self._insert_between(e, node._prev, node)\n",
    "    \n",
    "    def add_after(self, p, e):\n",
    "        node = self._validate(p)\n",
    "        return self._insert_between(e, node, node._next)\n",
    "    \n",
    "    def delete(self, p):\n",
    "        node = self._validate(p)\n",
    "        return self._delete_node(node)\n",
    "        \n",
    "    def replace(self, p, e):\n",
    "        \"\"\"\n",
    "        Replace the element of the node at Position p with e.\n",
    "        \"\"\"\n",
    "        node = self._validate(p)\n",
    "        old = node._element\n",
    "        node._element = e\n",
    "        return old"
   ]
  },
  {
   "cell_type": "code",
   "execution_count": 4,
   "metadata": {},
   "outputs": [],
   "source": [
    "def insertion_sort(L):\n",
    "    if len(L) > 1:\n",
    "        marker = L.first()\n",
    "        while marker != L.last():\n",
    "            pivot = L.after(marker)\n",
    "            value = pivot.element()\n",
    "            if value > marker.element(): # pivot is already sorted\n",
    "                marker = pivot\n",
    "            else:\n",
    "                # find leftmost item greater than value\n",
    "                walk = marker\n",
    "                while walk != L.first() and L.before(walk).element() > value:\n",
    "                    walk = L.before(walk)\n",
    "                L.delete(pivot)\n",
    "                L.add_before(walk, value)"
   ]
  },
  {
   "cell_type": "markdown",
   "metadata": {},
   "source": [
    "### Exercises\n",
    "\n",
    "#### Reinforcement\n",
    "\n",
    "**R-7.1** Give an algorithm for finding the second-to-last node in a singly linked\n",
    "list in which the last node is indicated by a `next` reference of `None`."
   ]
  },
  {
   "cell_type": "code",
   "execution_count": 10,
   "metadata": {},
   "outputs": [],
   "source": [
    "class LinkedList:\n",
    "    \n",
    "    class Node:\n",
    "        __slots__ = 'element', 'next'\n",
    "\n",
    "        def __init__(self, element, next):\n",
    "            self.element = element\n",
    "            self.next = next\n",
    "    \n",
    "    def __init__(self):\n",
    "        self.head = None\n",
    "        self.tail = None\n",
    "        self.size = 0\n",
    "    \n",
    "    def __len__(self):\n",
    "        return self.size\n",
    "    \n",
    "    def add_first(self, e):\n",
    "        new = self.Node(e, self.head)\n",
    "        self.head = new\n",
    "        self.size += 1\n",
    "    \n",
    "    def add_last(self, e):\n",
    "        new = self.Node(e, None)\n",
    "        if self.size == 0:\n",
    "            self.head = new\n",
    "        else:\n",
    "            self.tail.next = new\n",
    "        self.tail = new\n",
    "        self.size += 1"
   ]
  },
  {
   "cell_type": "code",
   "execution_count": 11,
   "metadata": {},
   "outputs": [],
   "source": [
    "def find_second_last(l):\n",
    "    curr = l.head\n",
    "    while curr.next.next is not None:\n",
    "        curr = curr.next\n",
    "    return curr.element"
   ]
  },
  {
   "cell_type": "code",
   "execution_count": 12,
   "metadata": {},
   "outputs": [
    {
     "data": {
      "text/plain": [
       "2"
      ]
     },
     "execution_count": 12,
     "metadata": {},
     "output_type": "execute_result"
    }
   ],
   "source": [
    "l = LinkedList()\n",
    "for i in [1,2,3]:\n",
    "    l.add_last(i)\n",
    "find_second_last(l)"
   ]
  },
  {
   "cell_type": "markdown",
   "metadata": {},
   "source": [
    "**R-7.2** Describe a good algorithm for concatenating two singly linked lists `L` and\n",
    "`M`, given only references to the first node of each list, into a single list `L`\n",
    "that contains all the nodes of `L` followed by all the nodes of `M`.\n",
    "\n",
    "1. Traverse `L` starting from the head until reaching to the last node.\n",
    "2. Assign the head of `M` to be the next node of the last node of `L`."
   ]
  },
  {
   "cell_type": "code",
   "execution_count": 62,
   "metadata": {},
   "outputs": [],
   "source": [
    "def concat(lHead, mHead):\n",
    "    lLast = lHead\n",
    "    while lLast.next is not None:\n",
    "        lLast = lLast.next\n",
    "    lLast.next = mHead"
   ]
  },
  {
   "cell_type": "code",
   "execution_count": 66,
   "metadata": {},
   "outputs": [],
   "source": [
    "l = LinkedList()\n",
    "m = LinkedList()\n",
    "for i in [3,2,1]:\n",
    "    l.addFirst(i)\n",
    "for i in [5,4]:\n",
    "    m.addFirst(i)\n",
    "concat(l.head, m.head)"
   ]
  },
  {
   "cell_type": "code",
   "execution_count": 71,
   "metadata": {},
   "outputs": [
    {
     "name": "stdout",
     "output_type": "stream",
     "text": [
      "1\n",
      "2\n",
      "3\n",
      "4\n",
      "5\n"
     ]
    }
   ],
   "source": [
    "curr = l.head\n",
    "while curr is not None:\n",
    "    print(curr.element)\n",
    "    curr = curr.next"
   ]
  },
  {
   "cell_type": "markdown",
   "metadata": {},
   "source": [
    "**R-7.3** Describe a recursive algorithm that counts the number of nodes in a singly\n",
    "linked list."
   ]
  },
  {
   "cell_type": "code",
   "execution_count": 79,
   "metadata": {},
   "outputs": [],
   "source": [
    "def count_helper(node, acc):\n",
    "    if node is None:\n",
    "        return acc\n",
    "    else:\n",
    "        return count_helper(node.next, acc + 1)\n",
    "\n",
    "def count(l):\n",
    "    return count_helper(l.head, 0)"
   ]
  },
  {
   "cell_type": "code",
   "execution_count": 80,
   "metadata": {},
   "outputs": [
    {
     "data": {
      "text/plain": [
       "3"
      ]
     },
     "execution_count": 80,
     "metadata": {},
     "output_type": "execute_result"
    }
   ],
   "source": [
    "l = LinkedList()\n",
    "for i in [1,2,3]:\n",
    "    l.addFirst(i)\n",
    "count(l)"
   ]
  },
  {
   "cell_type": "markdown",
   "metadata": {},
   "source": [
    "**R-7.4** Describe in detail how to swap two nodes `x` and `y` (and not just their contents) in a singly linked list `L` given references only to `x` and `y`. Repeat\n",
    "this exercise for the case when `L` is a doubly linked list. Which algorithm\n",
    "takes more time?\n",
    "\n",
    "If `L` is singly linked:\n",
    "1. Swap `x.next` with `y.next`.\n",
    "2. Traverse `L` from its head to gain access to the predecessors of `x` and `y`, say `xPred`, `yPred`. Swap the reference to `x` from its predecessor, i.e., `xPrev.next`, with the reference to `y` with its predecessor, i.e., `yPrev.next`.\n",
    "3. Swap `x.element` with `y.element`.\n",
    "\n",
    "If `L` is doubly linked:\n",
    "1. Swap `x.next` with `y.next`.\n",
    "2. Swap `x.prev` with `y.prev`.\n",
    "3. Swap `x.element` with `y.element`.\n",
    "\n",
    "The first case takes more time because a node in a singly linked list has no access to its predecessor."
   ]
  },
  {
   "cell_type": "markdown",
   "metadata": {},
   "source": [
    "**R-7.5** Implement a function that counts the number of nodes in a circularly\n",
    "linked list."
   ]
  },
  {
   "cell_type": "code",
   "execution_count": 22,
   "metadata": {},
   "outputs": [],
   "source": [
    "class CircularList:\n",
    "    \n",
    "    class Node:\n",
    "        # to avoid auxiliary namespace dictionary\n",
    "        # because there may be many nodes in a linked list\n",
    "        __slots__ = 'element', 'next'\n",
    "\n",
    "        def __init__(self, element, next):\n",
    "            self.element = element\n",
    "            self.next = next\n",
    "    \n",
    "    def __init__(self):\n",
    "        self.head = None\n",
    "        self.tail = None\n",
    "        self.size = 0\n",
    "    \n",
    "    def __len__(self):\n",
    "        return self.size\n",
    "    \n",
    "    def is_empty(self):\n",
    "        return self.size == 0\n",
    "    \n",
    "    def add_first(self, e):\n",
    "        new = self.Node(e, self.head)\n",
    "        self.head = new\n",
    "        if self.size == 0:\n",
    "            self.tail = new\n",
    "        else:\n",
    "            self.tail.next = new\n",
    "        self.size += 1\n",
    "    \n",
    "    def add_last(self, e):\n",
    "        new = self.Node(e, self.head)\n",
    "        if self.size > 0:\n",
    "            self.tail.next = new\n",
    "        else:\n",
    "            self.head = new\n",
    "        self.tail = new\n",
    "        self.size += 1"
   ]
  },
  {
   "cell_type": "code",
   "execution_count": 25,
   "metadata": {},
   "outputs": [
    {
     "name": "stdout",
     "output_type": "stream",
     "text": [
      "1\n",
      "2\n",
      "3\n",
      "1\n",
      "2\n",
      "3\n",
      "1\n",
      "2\n",
      "3\n"
     ]
    }
   ],
   "source": [
    "c = CircularList()\n",
    "for i in [1,2,3]:\n",
    "    c.add_last(i)\n",
    "curr = c.head\n",
    "for i in range(9):\n",
    "    print(curr.element)\n",
    "    curr = curr.next"
   ]
  },
  {
   "cell_type": "code",
   "execution_count": 29,
   "metadata": {},
   "outputs": [],
   "source": [
    "def count(c):\n",
    "    # pretend we don't have the .size field\n",
    "    head = c.head\n",
    "    curr = head.next\n",
    "    counter = 1\n",
    "    while curr != head:\n",
    "        counter += 1\n",
    "        curr = curr.next\n",
    "    return counter"
   ]
  },
  {
   "cell_type": "code",
   "execution_count": 32,
   "metadata": {},
   "outputs": [
    {
     "data": {
      "text/plain": [
       "10"
      ]
     },
     "execution_count": 32,
     "metadata": {},
     "output_type": "execute_result"
    }
   ],
   "source": [
    "c = CircularList()\n",
    "for i in range(10):\n",
    "    c.add_last(i)\n",
    "count(c)"
   ]
  },
  {
   "cell_type": "markdown",
   "metadata": {},
   "source": [
    "**R-7.6** Suppose that `x` and `y` are references to nodes of circularly linked lists,\n",
    "although not necessarily the same list. Describe a fast algorithm for telling\n",
    "if `x` and `y` belong to the same list.\n",
    "\n",
    "Traverse nodes from `x` to see if can reach `y`."
   ]
  },
  {
   "cell_type": "code",
   "execution_count": 48,
   "metadata": {},
   "outputs": [],
   "source": [
    "def in_same_list(x, y):\n",
    "    if x == y:\n",
    "        return True\n",
    "    curr = x.next\n",
    "    while curr != x:\n",
    "        if curr == y:\n",
    "            return True\n",
    "        curr = curr.next\n",
    "    return False"
   ]
  },
  {
   "cell_type": "code",
   "execution_count": 49,
   "metadata": {},
   "outputs": [],
   "source": [
    "A = CircularList()\n",
    "for i in [1,2,3]:\n",
    "    A.add_last(i)\n",
    "B = CircularList()\n",
    "for i in [4,5]:\n",
    "    B.add_last(i)\n",
    "x = A.head.next.next\n",
    "y = B.head.next"
   ]
  },
  {
   "cell_type": "code",
   "execution_count": 50,
   "metadata": {},
   "outputs": [
    {
     "data": {
      "text/plain": [
       "False"
      ]
     },
     "execution_count": 50,
     "metadata": {},
     "output_type": "execute_result"
    }
   ],
   "source": [
    "in_same_list(x, y)"
   ]
  },
  {
   "cell_type": "code",
   "execution_count": 53,
   "metadata": {},
   "outputs": [
    {
     "data": {
      "text/plain": [
       "True"
      ]
     },
     "execution_count": 53,
     "metadata": {},
     "output_type": "execute_result"
    }
   ],
   "source": [
    "z = A.head.next\n",
    "in_same_list(x, z)"
   ]
  },
  {
   "cell_type": "code",
   "execution_count": 52,
   "metadata": {},
   "outputs": [
    {
     "data": {
      "text/plain": [
       "True"
      ]
     },
     "execution_count": 52,
     "metadata": {},
     "output_type": "execute_result"
    }
   ],
   "source": [
    "z = x\n",
    "in_same_list(x, z)"
   ]
  },
  {
   "cell_type": "markdown",
   "metadata": {},
   "source": [
    "**R-7.7** Our CircularQueue class of Section 7.2.2 provides a `rotate()` method that\n",
    "has semantics equivalent to `Q.enqueue(Q.dequeue())`, for a nonempty\n",
    "queue. Implement such a method for the `LinkedQueue` class of Section 7.1.2 without the creation of any new nodes."
   ]
  },
  {
   "cell_type": "code",
   "execution_count": 63,
   "metadata": {},
   "outputs": [],
   "source": [
    "class LinkedQueue1(LinkedQueue):\n",
    "    \n",
    "    def rotate(self):\n",
    "        self._tail._next = self._head\n",
    "        self._tail = self._head\n",
    "        self._head = self._head._next"
   ]
  },
  {
   "cell_type": "code",
   "execution_count": 67,
   "metadata": {},
   "outputs": [
    {
     "name": "stdout",
     "output_type": "stream",
     "text": [
      "2\n",
      "3\n",
      "1\n"
     ]
    }
   ],
   "source": [
    "q = LinkedQueue1()\n",
    "for i in [1,2,3]:\n",
    "    q.enqueue(i)\n",
    "q.rotate()\n",
    "while not q.is_empty():\n",
    "    print(q.dequeue())"
   ]
  },
  {
   "cell_type": "markdown",
   "metadata": {},
   "source": [
    "**R-7.8** Describe a nonrecursive method for finding, by link hopping, the middle\n",
    "node of a doubly linked list with header and trailer sentinels. In the case\n",
    "of an even number of nodes, report the node slightly left of center as the\n",
    "\"middle.\" (Note: This method must only use link hopping; it cannot use a\n",
    "counter.) What is the running time of this method?\n",
    "\n",
    "Traverse the doubly linked list from both ends (from the header and from the trailer) until the two cursors meet or are adjacent to each other.\n",
    "\n",
    "Run time is $O(n)$."
   ]
  },
  {
   "cell_type": "code",
   "execution_count": 72,
   "metadata": {},
   "outputs": [],
   "source": [
    "class DoublyLinkedList:\n",
    "    class Node:\n",
    "        \n",
    "        __slots__ = 'element', 'prev', 'next'\n",
    "        \n",
    "        def __init__(self, element, prev, next):\n",
    "            self.element = element\n",
    "            self.prev = prev\n",
    "            self.next = next\n",
    "    \n",
    "    def __init__(self):\n",
    "        self.header = self.Node(None, None, None)\n",
    "        self.trailer = self.Node(None, None, None)\n",
    "        self.header.next = self.trailer\n",
    "        self.trailer.prev = self.header\n",
    "        self.size = 0\n",
    "\n",
    "    def __len__(self):\n",
    "        return self.ize\n",
    "\n",
    "    def is_empty(self):\n",
    "        return self.size == 0\n",
    "\n",
    "    def insert_between(self, e, predecessor, successor):\n",
    "        new = self.Node(e, predecessor, successor)\n",
    "        predecessor.next = new\n",
    "        successor.prev = new\n",
    "        self.size += 1\n",
    "        return new\n",
    "\n",
    "    def delete_node(self, node):\n",
    "        node.prev.next = node.next\n",
    "        node.next.prev = node.prev\n",
    "        self.size -= 1\n",
    "        element = node.element\n",
    "        node.prev = node.next = node.element = None\n",
    "        return element\n",
    "    \n",
    "    def add_last(self, e):\n",
    "        self.insert_between(e, self.trailer.prev, self.trailer)"
   ]
  },
  {
   "cell_type": "code",
   "execution_count": 77,
   "metadata": {},
   "outputs": [],
   "source": [
    "def find_middle(dll):\n",
    "    curr1 = dll.header\n",
    "    curr2 = dll.trailer\n",
    "    while curr1 != curr2 and curr1.next != curr2:\n",
    "        curr1 = curr1.next\n",
    "        curr2 = curr2.prev\n",
    "    return curr1.element"
   ]
  },
  {
   "cell_type": "code",
   "execution_count": 83,
   "metadata": {},
   "outputs": [
    {
     "data": {
      "text/plain": [
       "2"
      ]
     },
     "execution_count": 83,
     "metadata": {},
     "output_type": "execute_result"
    }
   ],
   "source": [
    "dll = DoublyLinkedList()\n",
    "for i in [1,2,3]:\n",
    "    dll.add_last(i)\n",
    "find_middle(dll)"
   ]
  },
  {
   "cell_type": "code",
   "execution_count": 87,
   "metadata": {},
   "outputs": [
    {
     "data": {
      "text/plain": [
       "2"
      ]
     },
     "execution_count": 87,
     "metadata": {},
     "output_type": "execute_result"
    }
   ],
   "source": [
    "dll = DoublyLinkedList()\n",
    "for i in [1,2,3,4]:\n",
    "    dll.add_last(i)\n",
    "find_middle(dll)"
   ]
  }
 ],
 "metadata": {
  "kernelspec": {
   "display_name": "Python 3",
   "language": "python",
   "name": "python3"
  },
  "language_info": {
   "codemirror_mode": {
    "name": "ipython",
    "version": 3
   },
   "file_extension": ".py",
   "mimetype": "text/x-python",
   "name": "python",
   "nbconvert_exporter": "python",
   "pygments_lexer": "ipython3",
   "version": "3.7.3"
  },
  "toc": {
   "base_numbering": 1,
   "nav_menu": {},
   "number_sections": true,
   "sideBar": true,
   "skip_h1_title": false,
   "title_cell": "Table of Contents",
   "title_sidebar": "Contents",
   "toc_cell": false,
   "toc_position": {
    "height": "calc(100% - 180px)",
    "left": "10px",
    "top": "150px",
    "width": "164.977px"
   },
   "toc_section_display": true,
   "toc_window_display": true
  }
 },
 "nbformat": 4,
 "nbformat_minor": 2
}
