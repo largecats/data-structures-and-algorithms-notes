{
 "cells": [
  {
   "cell_type": "markdown",
   "metadata": {},
   "source": [
    "Reading notes and partial solutions to [Data Structures and Algorithms in Python](https://blackwells.co.uk/bookshop/product/9781118290279?gC=f177369a3b&gclid=Cj0KCQjwhJrqBRDZARIsALhp1WTBIyoxeQGXedlVy80vsglvFbNkVf7jTP0Z0zXEIP87lfqbtb4_diYaAr8dEALw_wcB)."
   ]
  },
  {
   "cell_type": "code",
   "execution_count": 172,
   "metadata": {},
   "outputs": [],
   "source": [
    "import random\n",
    "from matplotlib import pyplot as plt\n",
    "%matplotlib inline\n",
    "import math\n",
    "from datetime import datetime\n",
    "import time\n",
    "import numpy as np"
   ]
  },
  {
   "cell_type": "markdown",
   "metadata": {},
   "source": [
    "## Linked Lists\n",
    "\n",
    "### Singly Linked Lists"
   ]
  },
  {
   "cell_type": "code",
   "execution_count": 173,
   "metadata": {},
   "outputs": [],
   "source": [
    "class LinkedList:\n",
    "    \n",
    "    class Node:\n",
    "        __slots__ = 'element', 'next'\n",
    "\n",
    "        def __init__(self, element, next):\n",
    "            self.element = element\n",
    "            self.next = next\n",
    "    \n",
    "    def __init__(self):\n",
    "        self.head = None\n",
    "        self.tail = None\n",
    "        self.size = 0\n",
    "    \n",
    "    def __len__(self):\n",
    "        return self.size\n",
    "    \n",
    "    def add_first(self, e):\n",
    "        new = self.Node(e, self.head)\n",
    "        self.head = new\n",
    "        self.size += 1\n",
    "    \n",
    "    def add_last(self, e):\n",
    "        new = self.Node(e, None)\n",
    "        if self.size == 0:\n",
    "            self.head = new\n",
    "        else:\n",
    "            self.tail.next = new\n",
    "        self.tail = new\n",
    "        self.size += 1\n",
    "    \n",
    "    def traverse(self):\n",
    "        curr = self.head\n",
    "        while curr is not None:\n",
    "            print(curr.element)\n",
    "            curr = curr.next"
   ]
  },
  {
   "cell_type": "code",
   "execution_count": 174,
   "metadata": {},
   "outputs": [],
   "source": [
    "class LinkedStack:\n",
    "    \n",
    "    class _Node:\n",
    "        # to avoid auxiliary namespace dictionary\n",
    "        # because there may be many nodes in a linked list\n",
    "        __slots__ = '_element', '_next'\n",
    "\n",
    "        def __init__(self, element, next):\n",
    "            self._element = element\n",
    "            self._next = next\n",
    "    \n",
    "    def __init__(self):\n",
    "        self._head = None\n",
    "        self._size = 0\n",
    "    \n",
    "    def __len__(self):\n",
    "        return self._size\n",
    "    \n",
    "    def is_empty(self):\n",
    "        return self._size == 0\n",
    "    \n",
    "    def push(self, e):\n",
    "        self._head = self._Node(e, self._head)\n",
    "        self._size += 1\n",
    "    \n",
    "    def top(self):\n",
    "        if self.is_empty():\n",
    "            raise Exception('Stack is empty')\n",
    "        return self._head._element\n",
    "    \n",
    "    def pop(self):\n",
    "        if self.is_empty():\n",
    "            raise Exception('Stack is empty')\n",
    "        result = self._head._element\n",
    "        self._head = self._head._next\n",
    "        self._size -= 1\n",
    "        return result"
   ]
  },
  {
   "cell_type": "code",
   "execution_count": 175,
   "metadata": {},
   "outputs": [
    {
     "data": {
      "text/plain": [
       "3"
      ]
     },
     "execution_count": 175,
     "metadata": {},
     "output_type": "execute_result"
    }
   ],
   "source": [
    "S = LinkedStack()\n",
    "for i in [1,2,3]:\n",
    "    S.push(i)\n",
    "S.pop()"
   ]
  },
  {
   "cell_type": "code",
   "execution_count": 176,
   "metadata": {},
   "outputs": [],
   "source": [
    "class LinkedQueue:\n",
    "    \n",
    "    class _Node:\n",
    "        # to avoid auxiliary namespace dictionary\n",
    "        # because there may be many nodes in a linked list\n",
    "        __slots__ = '_element', '_next'\n",
    "\n",
    "        def __init__(self, element, next):\n",
    "            self._element = element\n",
    "            self._next = next\n",
    "    \n",
    "    def __init__(self):\n",
    "        self._head = None\n",
    "        self._tail = None\n",
    "        self._size = 0\n",
    "    \n",
    "    def __len__(self):\n",
    "        return self._size\n",
    "    \n",
    "    def is_empty(self):\n",
    "        return self._size == 0\n",
    "    \n",
    "    def first(self):\n",
    "        if self.is_empty():\n",
    "            raise Empty('Queue is empty')\n",
    "        return self._head._element\n",
    "    \n",
    "    def dequeue(self):\n",
    "        if self.is_empty():\n",
    "            raise Empty('Queue is empty')\n",
    "        result = self._head._element\n",
    "        self._head = self._head._next\n",
    "        self._size -= 1\n",
    "        if self.is_empty(): # if queue is now empty\n",
    "            self._tail = None\n",
    "        return result\n",
    "    \n",
    "    def enqueue(self, e):\n",
    "        new = self._Node(e, None)\n",
    "        if self.is_empty():\n",
    "            self._head = new\n",
    "        else:\n",
    "            self._tail._next = new\n",
    "        self._tail = new\n",
    "        self._size += 1"
   ]
  },
  {
   "cell_type": "markdown",
   "metadata": {},
   "source": [
    "### Circularly Linked Lists"
   ]
  },
  {
   "cell_type": "code",
   "execution_count": 177,
   "metadata": {},
   "outputs": [],
   "source": [
    "class CircularLinkedList:\n",
    "    \n",
    "    class Node:\n",
    "        # to avoid auxiliary namespace dictionary\n",
    "        # because there may be many nodes in a linked list\n",
    "        __slots__ = 'element', 'next'\n",
    "\n",
    "        def __init__(self, element, next):\n",
    "            self.element = element\n",
    "            self.next = next\n",
    "    \n",
    "    def __init__(self):\n",
    "        self.head = None\n",
    "        self.tail = None\n",
    "        self.size = 0\n",
    "    \n",
    "    def __len__(self):\n",
    "        return self.size\n",
    "    \n",
    "    def is_empty(self):\n",
    "        return self.size == 0\n",
    "    \n",
    "    def add_first(self, e):\n",
    "        new = self.Node(e, self.head)\n",
    "        self.head = new\n",
    "        if self.size == 0:\n",
    "            self.tail = new\n",
    "        else:\n",
    "            self.tail.next = new\n",
    "        self.size += 1\n",
    "    \n",
    "    def add_last(self, e):\n",
    "        new = self.Node(e, self.head)\n",
    "        if self.size > 0:\n",
    "            self.tail.next = new\n",
    "        else:\n",
    "            self.head = new\n",
    "        self.tail = new\n",
    "        self.size += 1"
   ]
  },
  {
   "cell_type": "code",
   "execution_count": 178,
   "metadata": {},
   "outputs": [
    {
     "name": "stdout",
     "output_type": "stream",
     "text": [
      "1\n",
      "2\n",
      "3\n",
      "1\n",
      "2\n",
      "3\n",
      "1\n",
      "2\n",
      "3\n"
     ]
    }
   ],
   "source": [
    "c = CircularLinkedList()\n",
    "for i in [1,2,3]:\n",
    "    c.add_last(i)\n",
    "curr = c.head\n",
    "for i in range(9):\n",
    "    print(curr.element)\n",
    "    curr = curr.next"
   ]
  },
  {
   "cell_type": "code",
   "execution_count": 179,
   "metadata": {},
   "outputs": [],
   "source": [
    "class CircularQueue:\n",
    "    \n",
    "    class _Node:\n",
    "        # to avoid auxiliary namespace dictionary\n",
    "        # because there may be many nodes in a linked list\n",
    "        __slots__ = '_element', '_next'\n",
    "\n",
    "        def __init__(self, element, next):\n",
    "            self._element = element\n",
    "            self._next = next\n",
    "    \n",
    "    def __init__(self):\n",
    "        self._tail = None\n",
    "        self._size = 0\n",
    "    \n",
    "    def __len__(self):\n",
    "        return self._size\n",
    "    \n",
    "    def is_empty(self):\n",
    "        return self._size == 0\n",
    "    \n",
    "    def first(self):\n",
    "        if self.is_empty():\n",
    "            raise Exception('Queue is empty')\n",
    "        head = self._tail._next\n",
    "        return head._element\n",
    "    \n",
    "    def dequeue(self):\n",
    "        if self.is_empty():\n",
    "            raise Exception('Queue is empty')\n",
    "        head = self._tail._next\n",
    "        if self._size == 1:\n",
    "            self._tail = None\n",
    "        else:\n",
    "            self._tail._next = head._next\n",
    "        self._size -= 1\n",
    "        return head._element\n",
    "    \n",
    "    def enqueue(self, e):\n",
    "        new = self._Node(e, None)\n",
    "        if self.is_empty():\n",
    "            new._next = new\n",
    "        else:\n",
    "            new._next = self._tail._next\n",
    "            self._tail._next = new\n",
    "        self._tail = new\n",
    "        self._size += 1\n",
    "    \n",
    "    def rotate(self):\n",
    "        if self._size > 0:\n",
    "            self._tail = self._tail._next"
   ]
  },
  {
   "cell_type": "code",
   "execution_count": 180,
   "metadata": {},
   "outputs": [
    {
     "name": "stdout",
     "output_type": "stream",
     "text": [
      "2\n"
     ]
    }
   ],
   "source": [
    "q = CircularQueue()\n",
    "for i in [1,2,3]:\n",
    "    q.enqueue(i)\n",
    "q.rotate()\n",
    "print(q.first())"
   ]
  },
  {
   "cell_type": "markdown",
   "metadata": {},
   "source": [
    "### Doubly Linked Lists"
   ]
  },
  {
   "cell_type": "code",
   "execution_count": 181,
   "metadata": {},
   "outputs": [],
   "source": [
    "class DoublyLinkedList:\n",
    "    class Node:\n",
    "        \n",
    "        __slots__ = 'element', 'prev', 'next'\n",
    "        \n",
    "        def __init__(self, element, prev, next):\n",
    "            self.element = element\n",
    "            self.prev = prev\n",
    "            self.next = next\n",
    "    \n",
    "    def __init__(self):\n",
    "        self.header = self.Node(None, None, None)\n",
    "        self.trailer = self.Node(None, None, None)\n",
    "        self.header.next = self.trailer\n",
    "        self.trailer.prev = self.header\n",
    "        self.size = 0\n",
    "\n",
    "    def __len__(self):\n",
    "        return self.size\n",
    "\n",
    "    def is_empty(self):\n",
    "        return self.size == 0\n",
    "\n",
    "    def insert_between(self, e, predecessor, successor):\n",
    "        new = self.Node(e, predecessor, successor)\n",
    "        predecessor.next = new\n",
    "        successor.prev = new\n",
    "        self.size += 1\n",
    "        return new\n",
    "\n",
    "    def delete_node(self, node):\n",
    "        node.prev.next = node.next\n",
    "        node.next.prev = node.prev\n",
    "        self.size -= 1\n",
    "        element = node.element\n",
    "        node.prev = node.next = node.element = None\n",
    "        return element\n",
    "    \n",
    "    def add_last(self, e):\n",
    "        self.insert_between(e, self.trailer.prev, self.trailer)\n",
    "    \n",
    "    def traverse(self):\n",
    "        curr = self.header.next\n",
    "        while curr.next is not None:\n",
    "            print(curr.element)\n",
    "            curr = curr.next"
   ]
  },
  {
   "cell_type": "code",
   "execution_count": 182,
   "metadata": {},
   "outputs": [],
   "source": [
    "class _DoublyLinkedBase:\n",
    "    \n",
    "    class _Node:\n",
    "        \n",
    "        __slots__ = '_element', '_prev', '_next'\n",
    "        \n",
    "        def __init__(self, element, prev, next):\n",
    "            self._element = element\n",
    "            self._prev = prev\n",
    "            self._next = next\n",
    "    \n",
    "    def __init__(self):\n",
    "        self._header = self._Node(None, None, None)\n",
    "        self._trailer = self._Node(None, None, None)\n",
    "        self._header._next = self._trailer\n",
    "        self._trailer._prev = self._header\n",
    "        self._size = 0\n",
    "\n",
    "    def __len__(self):\n",
    "        return self._size\n",
    "\n",
    "    def is_empty(self):\n",
    "        return self._size == 0\n",
    "\n",
    "    def _insert_between(self, e, predecessor, successor):\n",
    "        new = self._Node(e, predecessor, successor)\n",
    "        predecessor._next = new\n",
    "        successor._prev = new\n",
    "        self._size += 1\n",
    "        return new\n",
    "\n",
    "    def _delete_node(self, node):\n",
    "        node._prev._next = node._next\n",
    "        node._next._prev = node._prev\n",
    "        self._size -= 1\n",
    "        element = node._element\n",
    "        node._prev = node._next = node_element = None\n",
    "        return element"
   ]
  },
  {
   "cell_type": "markdown",
   "metadata": {},
   "source": [
    "#### Deque"
   ]
  },
  {
   "cell_type": "code",
   "execution_count": 183,
   "metadata": {},
   "outputs": [],
   "source": [
    "class LinkedDeque(_DoublyLinkedBase):\n",
    "    def first(self):\n",
    "        if self.is_empty():\n",
    "            raise Exception('Queue is empty')\n",
    "        return self._header._next._element\n",
    "    \n",
    "    def last(self):\n",
    "        if self.is_empty():\n",
    "            raise Exception('Queue is empty')\n",
    "        return self._trailer._prev._element\n",
    "    \n",
    "    def insert_first(self, e):\n",
    "        self._insert_between(e, self._header, self._header._next)\n",
    "        \n",
    "    def insert_last(self, e):\n",
    "        self._insert_between(e, self._trailer._prev, self._trailer)\n",
    "        \n",
    "    def delete_first(self):\n",
    "        if self.is_empty():\n",
    "            raise Exception('Queue is empty')\n",
    "        self._delete_node(self._header._next)\n",
    "    \n",
    "    def delete_last(self):\n",
    "        if self.is_empty():\n",
    "            raise Exception('Queue is empty')\n",
    "        self._delete_node(self._trailer._prev)"
   ]
  },
  {
   "cell_type": "markdown",
   "metadata": {},
   "source": [
    "#### Positional List"
   ]
  },
  {
   "cell_type": "code",
   "execution_count": 184,
   "metadata": {},
   "outputs": [],
   "source": [
    "class PositionalList(_DoublyLinkedBase):\n",
    "    \n",
    "    class Position:\n",
    "        \n",
    "        def __init__(self, container, node):\n",
    "            self._container = container # the positional list the node belongs to\n",
    "            self._node = node\n",
    "        \n",
    "        def element(self):\n",
    "            return self._node._element\n",
    "        \n",
    "        def __eq__(self, other):\n",
    "            \"\"\"\n",
    "            Return True if the two Positions represent the same location.\n",
    "            \"\"\"\n",
    "            return type(other) is type(self) and other._node is self._node\n",
    "        \n",
    "        def __ne__(self, other):\n",
    "            return not (self == other)\n",
    "    \n",
    "    def __init__(self):\n",
    "        super().__init__()\n",
    "    \n",
    "    def _validate(self, p):\n",
    "        \"\"\"\n",
    "        Return the position's node, or raise error if the position is invalid.\n",
    "        \"\"\"\n",
    "        if not isinstance(p, self.Position):\n",
    "            raise TypeError('p must be of type Position')\n",
    "        if p._container is not self:\n",
    "            raise ValueError('p does not belong to this container')\n",
    "        if p._node._next is None:\n",
    "            raise ValueError('p is deprecated')\n",
    "        return p._node\n",
    "\n",
    "    def _make_position(self, node):\n",
    "        \"\"\"Return Position instance for given node.\"\"\"\n",
    "        if node is self._header or node is self._trailer:\n",
    "            return None\n",
    "        else:\n",
    "            return self.Position(self, node)\n",
    "    \n",
    "    def first(self):\n",
    "        return self._make_position(self._header._next)\n",
    "    \n",
    "    def last(self):\n",
    "        return self._make_position(self._trailer._prev)\n",
    "    \n",
    "    def before(self, p):\n",
    "        \"\"\"\n",
    "        Return the Position before p.\n",
    "        \"\"\"\n",
    "        node = self._validate(p)\n",
    "        return self._make_position(node._prev)\n",
    "    \n",
    "    def after(self, p):\n",
    "        \"\"\"\n",
    "        Return the Position after p.\n",
    "        \"\"\"\n",
    "        node = self._validate(p)\n",
    "        return self._make_position(node._next)\n",
    "    \n",
    "    def __iter__(self):\n",
    "        cursor = self.first()\n",
    "        while cursor is not None:\n",
    "            yield cursor.element()\n",
    "            cursor = self.after(cursor)\n",
    "    \n",
    "    def _insert_between(self, e, predecessor, successor):\n",
    "        \"\"\"\n",
    "        Add element between nodes and return new Position (instead of node as in the base class).\n",
    "        \"\"\"\n",
    "        node = super()._insert_between(e, predecessor, successor)\n",
    "        return self._make_position(node)\n",
    "    \n",
    "    def add_first(self, e):\n",
    "        return self._insert_between(e, self._header, self._header._next)\n",
    "    \n",
    "    def add_last(self, e):\n",
    "        return self._insert_between(e, self._trailer._prev, self._trailer)\n",
    "    \n",
    "    def add_before(self, p, e):\n",
    "        node = self._validate(p)\n",
    "        return self._insert_between(e, node._prev, node)\n",
    "    \n",
    "    def add_after(self, p, e):\n",
    "        node = self._validate(p)\n",
    "        return self._insert_between(e, node, node._next)\n",
    "    \n",
    "    def delete(self, p):\n",
    "        node = self._validate(p)\n",
    "        return self._delete_node(node)\n",
    "        \n",
    "    def replace(self, p, e):\n",
    "        \"\"\"\n",
    "        Replace the element of the node at Position p with e.\n",
    "        \"\"\"\n",
    "        node = self._validate(p)\n",
    "        old = node._element\n",
    "        node._element = e\n",
    "        return old"
   ]
  },
  {
   "cell_type": "code",
   "execution_count": 185,
   "metadata": {},
   "outputs": [],
   "source": [
    "def insertion_sort(L):\n",
    "    if len(L) > 1:\n",
    "        marker = L.first()\n",
    "        while marker != L.last():\n",
    "            pivot = L.after(marker)\n",
    "            value = pivot.element()\n",
    "            if value > marker.element(): # pivot is already sorted\n",
    "                marker = pivot\n",
    "            else:\n",
    "                # find leftmost item greater than value\n",
    "                walk = marker\n",
    "                while walk != L.first() and L.before(walk).element() > value:\n",
    "                    walk = L.before(walk)\n",
    "                L.delete(pivot)\n",
    "                L.add_before(walk, value)"
   ]
  },
  {
   "cell_type": "code",
   "execution_count": 186,
   "metadata": {},
   "outputs": [],
   "source": [
    "class FavoritesList:\n",
    "    \n",
    "    class _Item:\n",
    "        __slots__ = '_value', '_count'\n",
    "        \n",
    "        def __init__(self, e):\n",
    "            self._value = e\n",
    "            self._count = 0 # number of accesses\n",
    "    \n",
    "    def __init__(self):\n",
    "        self._data = PositionalList()\n",
    "    \n",
    "    def _find_position(self, e):\n",
    "        walk = self._data.first()\n",
    "        while walk is not None and walk.element()._value != e:\n",
    "            walk = self._data.after(walk)\n",
    "        return walk\n",
    "    \n",
    "    def _move_up(self, p):\n",
    "        \"\"\"\n",
    "        Move item at Position p up in the list based on access count.\n",
    "        \"\"\"\n",
    "        if p != self._data.first():\n",
    "            cnt = p.element()._count\n",
    "            walk = self._data.before(p)\n",
    "            if cnt > walk.element()._count: # if item at Position p has larger count than the item before\n",
    "                while (walk != self._data.first() and cnt > self._data.before(walk).element()._count):\n",
    "                    # find position to put item at p\n",
    "                    # i.e., the leftmost position with count < cnt\n",
    "                    walk = self._data.before(walk)\n",
    "                self._data.add_before(walk, self._data.delete(p)) # remove and reinsert in correct position to maintain descending order\n",
    "        \n",
    "    def __len__(self):\n",
    "        return len(self._data)\n",
    "    \n",
    "    def is_empty(self):\n",
    "        return len(self._data) == 0\n",
    "    \n",
    "    def access(self, e):\n",
    "        \"\"\"\n",
    "        Access element e and increase access count\n",
    "        \"\"\"\n",
    "        p = self._find_position(e) # O(n)\n",
    "        if p is None:\n",
    "            p = self._data.add_last(self._Item(e))\n",
    "        p.element()._count += 1\n",
    "        self._move_up(p) # O(n)\n",
    "    \n",
    "    def remove(self, e):\n",
    "        p = self._find_position(e)\n",
    "        if p is not None:\n",
    "            self._data.delete(p)\n",
    "    \n",
    "    def top(self, k):\n",
    "        \"\"\"\n",
    "        Return the list of top k elements with highest access counts.\n",
    "        \"\"\"\n",
    "        if not 1 <= k and k <= len(self):\n",
    "            raise ValueError('Illegal value for k')\n",
    "        walk = self._data.first()\n",
    "        for j in range(k):\n",
    "            item = walk.element()\n",
    "            yield item._value\n",
    "            walk = self._data.after(walk)"
   ]
  },
  {
   "cell_type": "code",
   "execution_count": 187,
   "metadata": {},
   "outputs": [],
   "source": [
    "class FavoritesListMTF(FavoritesList):\n",
    "    \n",
    "    def _move_up(self, p):\n",
    "        \"\"\"\n",
    "        Move accessed item at Position p to front of list.\n",
    "        \"\"\"\n",
    "        if p != self._data.first():\n",
    "            self._data.add_first(self._data.delete(p))\n",
    "    \n",
    "    def top(self, k):\n",
    "        if not 1 <= k and k <= len(self):\n",
    "            raise ValueError('Illegal value for k')\n",
    "        # copy the original list\n",
    "        temp = PositionalList()\n",
    "        for item in self._data:\n",
    "            temp.add_last(item)\n",
    "        # find, report, and remove element with largest count\n",
    "        for j in range(k): # walk through the list k times, finding maximum each time\n",
    "            # find and report element with next highest count from temp\n",
    "            highPos = temp.first()\n",
    "            walk = temp.after(highPos)\n",
    "            while walk is not None: # walk through the list\n",
    "                if walk.element()._count > highPos.element()._count:\n",
    "                    highPos = walk\n",
    "                walk = temp.after(walk)\n",
    "            yield highPos.element()._value\n",
    "            temp.delete(highPos)"
   ]
  },
  {
   "cell_type": "markdown",
   "metadata": {},
   "source": [
    "### Exercises\n",
    "\n",
    "#### Reinforcement\n",
    "\n",
    "**R-7.1** Give an algorithm for finding the second-to-last node in a singly linked\n",
    "list in which the last node is indicated by a `next` reference of `None`."
   ]
  },
  {
   "cell_type": "code",
   "execution_count": 188,
   "metadata": {},
   "outputs": [],
   "source": [
    "def find_second_last(l):\n",
    "    curr = l.head\n",
    "    while curr.next.next is not None:\n",
    "        curr = curr.next\n",
    "    return curr.element"
   ]
  },
  {
   "cell_type": "code",
   "execution_count": 189,
   "metadata": {},
   "outputs": [
    {
     "data": {
      "text/plain": [
       "2"
      ]
     },
     "execution_count": 189,
     "metadata": {},
     "output_type": "execute_result"
    }
   ],
   "source": [
    "l = LinkedList()\n",
    "for i in [1,2,3]:\n",
    "    l.add_last(i)\n",
    "find_second_last(l)"
   ]
  },
  {
   "cell_type": "markdown",
   "metadata": {},
   "source": [
    "**R-7.2** Describe a good algorithm for concatenating two singly linked lists `L` and\n",
    "`M`, given only references to the first node of each list, into a single list `L`\n",
    "that contains all the nodes of `L` followed by all the nodes of `M`.\n",
    "\n",
    "1. Traverse `L` starting from the head until reaching to the last node.\n",
    "2. Assign the head of `M` to be the next node of the last node of `L`."
   ]
  },
  {
   "cell_type": "code",
   "execution_count": 190,
   "metadata": {},
   "outputs": [],
   "source": [
    "def concat(lHead, mHead):\n",
    "    lLast = lHead\n",
    "    while lLast.next is not None:\n",
    "        lLast = lLast.next\n",
    "    lLast.next = mHead"
   ]
  },
  {
   "cell_type": "code",
   "execution_count": 191,
   "metadata": {},
   "outputs": [
    {
     "name": "stdout",
     "output_type": "stream",
     "text": [
      "1\n",
      "2\n",
      "3\n",
      "4\n",
      "5\n"
     ]
    }
   ],
   "source": [
    "l = LinkedList()\n",
    "m = LinkedList()\n",
    "for i in [3,2,1]:\n",
    "    l.add_first(i)\n",
    "for i in [5,4]:\n",
    "    m.add_first(i)\n",
    "concat(l.head, m.head)\n",
    "l.traverse()"
   ]
  },
  {
   "cell_type": "markdown",
   "metadata": {},
   "source": [
    "**R-7.3** Describe a recursive algorithm that counts the number of nodes in a singly\n",
    "linked list."
   ]
  },
  {
   "cell_type": "code",
   "execution_count": 192,
   "metadata": {},
   "outputs": [],
   "source": [
    "def count_helper(node, acc):\n",
    "    if node is None:\n",
    "        return acc\n",
    "    else:\n",
    "        return count_helper(node.next, acc + 1)\n",
    "\n",
    "def count(l):\n",
    "    return count_helper(l.head, 0)"
   ]
  },
  {
   "cell_type": "code",
   "execution_count": 193,
   "metadata": {},
   "outputs": [
    {
     "data": {
      "text/plain": [
       "3"
      ]
     },
     "execution_count": 193,
     "metadata": {},
     "output_type": "execute_result"
    }
   ],
   "source": [
    "l = LinkedList()\n",
    "for i in [1,2,3]:\n",
    "    l.add_first(i)\n",
    "count(l)"
   ]
  },
  {
   "cell_type": "markdown",
   "metadata": {},
   "source": [
    "**R-7.4** Describe in detail how to swap two nodes `x` and `y` (and not just their contents) in a singly linked list `L` given references only to `x` and `y`. Repeat\n",
    "this exercise for the case when `L` is a doubly linked list. Which algorithm\n",
    "takes more time?\n",
    "\n",
    "If `L` is singly linked:\n",
    "1. Swap `x.next` with `y.next`.\n",
    "2. Traverse `L` from its head to gain access to the predecessors of `x` and `y`, say `xPred`, `yPred`. Swap the reference to `x` from its predecessor, i.e., `xPrev.next`, with the reference to `y` with its predecessor, i.e., `yPrev.next`.\n",
    "3. Swap `x.element` with `y.element`.\n",
    "\n",
    "If `L` is doubly linked:\n",
    "1. Swap `x.next` with `y.next`.\n",
    "2. Swap `x.prev` with `y.prev`.\n",
    "3. Swap `x.element` with `y.element`.\n",
    "\n",
    "The first case takes more time because a node in a singly linked list has no access to its predecessor."
   ]
  },
  {
   "cell_type": "markdown",
   "metadata": {},
   "source": [
    "**R-7.5** Implement a function that counts the number of nodes in a circularly\n",
    "linked list."
   ]
  },
  {
   "cell_type": "code",
   "execution_count": 194,
   "metadata": {},
   "outputs": [],
   "source": [
    "def count(c):\n",
    "    # pretend we don't have the .size field\n",
    "    head = c.head\n",
    "    curr = head.next\n",
    "    counter = 1\n",
    "    while curr != head:\n",
    "        counter += 1\n",
    "        curr = curr.next\n",
    "    return counter"
   ]
  },
  {
   "cell_type": "code",
   "execution_count": 195,
   "metadata": {},
   "outputs": [
    {
     "data": {
      "text/plain": [
       "10"
      ]
     },
     "execution_count": 195,
     "metadata": {},
     "output_type": "execute_result"
    }
   ],
   "source": [
    "c = CircularLinkedList()\n",
    "for i in range(10):\n",
    "    c.add_last(i)\n",
    "count(c)"
   ]
  },
  {
   "cell_type": "markdown",
   "metadata": {},
   "source": [
    "**R-7.6** Suppose that `x` and `y` are references to nodes of circularly linked lists,\n",
    "although not necessarily the same list. Describe a fast algorithm for telling\n",
    "if `x` and `y` belong to the same list.\n",
    "\n",
    "Traverse nodes from `x` to see if can reach `y`."
   ]
  },
  {
   "cell_type": "code",
   "execution_count": 196,
   "metadata": {},
   "outputs": [],
   "source": [
    "def in_same_list(x, y):\n",
    "    if x == y:\n",
    "        return True\n",
    "    curr = x.next\n",
    "    while curr != x:\n",
    "        if curr == y:\n",
    "            return True\n",
    "        curr = curr.next\n",
    "    return False"
   ]
  },
  {
   "cell_type": "code",
   "execution_count": 197,
   "metadata": {},
   "outputs": [],
   "source": [
    "A = CircularLinkedList()\n",
    "for i in [1,2,3]:\n",
    "    A.add_last(i)\n",
    "B = CircularLinkedList()\n",
    "for i in [4,5]:\n",
    "    B.add_last(i)\n",
    "x = A.head.next.next\n",
    "y = B.head.next"
   ]
  },
  {
   "cell_type": "code",
   "execution_count": 198,
   "metadata": {},
   "outputs": [
    {
     "data": {
      "text/plain": [
       "False"
      ]
     },
     "execution_count": 198,
     "metadata": {},
     "output_type": "execute_result"
    }
   ],
   "source": [
    "in_same_list(x, y)"
   ]
  },
  {
   "cell_type": "code",
   "execution_count": 199,
   "metadata": {},
   "outputs": [
    {
     "data": {
      "text/plain": [
       "True"
      ]
     },
     "execution_count": 199,
     "metadata": {},
     "output_type": "execute_result"
    }
   ],
   "source": [
    "z = A.head.next\n",
    "in_same_list(x, z)"
   ]
  },
  {
   "cell_type": "code",
   "execution_count": 200,
   "metadata": {},
   "outputs": [
    {
     "data": {
      "text/plain": [
       "True"
      ]
     },
     "execution_count": 200,
     "metadata": {},
     "output_type": "execute_result"
    }
   ],
   "source": [
    "z = x\n",
    "in_same_list(x, z)"
   ]
  },
  {
   "cell_type": "markdown",
   "metadata": {},
   "source": [
    "**R-7.7** Our CircularQueue class of Section 7.2.2 provides a `rotate()` method that\n",
    "has semantics equivalent to `Q.enqueue(Q.dequeue())`, for a nonempty\n",
    "queue. Implement such a method for the `LinkedQueue` class of Section 7.1.2 without the creation of any new nodes."
   ]
  },
  {
   "cell_type": "code",
   "execution_count": 201,
   "metadata": {},
   "outputs": [],
   "source": [
    "class LinkedQueue1(LinkedQueue):\n",
    "    \n",
    "    def rotate(self):\n",
    "        self._tail._next = self._head\n",
    "        self._tail = self._head\n",
    "        self._head = self._head._next"
   ]
  },
  {
   "cell_type": "code",
   "execution_count": 202,
   "metadata": {},
   "outputs": [
    {
     "name": "stdout",
     "output_type": "stream",
     "text": [
      "2\n",
      "3\n",
      "1\n"
     ]
    }
   ],
   "source": [
    "q = LinkedQueue1()\n",
    "for i in [1,2,3]:\n",
    "    q.enqueue(i)\n",
    "q.rotate()\n",
    "while not q.is_empty():\n",
    "    print(q.dequeue())"
   ]
  },
  {
   "cell_type": "markdown",
   "metadata": {},
   "source": [
    "**R-7.8** Describe a nonrecursive method for finding, by link hopping, the middle\n",
    "node of a doubly linked list with header and trailer sentinels. In the case\n",
    "of an even number of nodes, report the node slightly left of center as the\n",
    "\"middle.\" (Note: This method must only use link hopping; it cannot use a\n",
    "counter.) What is the running time of this method?\n",
    "\n",
    "Traverse the doubly linked list from both ends (from the header and from the trailer) until the two cursors meet or are adjacent to each other.\n",
    "\n",
    "Run time is $O(n)$."
   ]
  },
  {
   "cell_type": "code",
   "execution_count": 203,
   "metadata": {},
   "outputs": [],
   "source": [
    "def find_middle(dll):\n",
    "    curr1 = dll.header\n",
    "    curr2 = dll.trailer\n",
    "    while curr1 != curr2 and curr1.next != curr2:\n",
    "        curr1 = curr1.next\n",
    "        curr2 = curr2.prev\n",
    "    return curr1.element"
   ]
  },
  {
   "cell_type": "code",
   "execution_count": 204,
   "metadata": {},
   "outputs": [
    {
     "data": {
      "text/plain": [
       "2"
      ]
     },
     "execution_count": 204,
     "metadata": {},
     "output_type": "execute_result"
    }
   ],
   "source": [
    "dll = DoublyLinkedList()\n",
    "for i in [1,2,3]:\n",
    "    dll.add_last(i)\n",
    "find_middle(dll)"
   ]
  },
  {
   "cell_type": "code",
   "execution_count": 205,
   "metadata": {},
   "outputs": [
    {
     "data": {
      "text/plain": [
       "2"
      ]
     },
     "execution_count": 205,
     "metadata": {},
     "output_type": "execute_result"
    }
   ],
   "source": [
    "dll = DoublyLinkedList()\n",
    "for i in [1,2,3,4]:\n",
    "    dll.add_last(i)\n",
    "find_middle(dll)"
   ]
  },
  {
   "cell_type": "markdown",
   "metadata": {},
   "source": [
    "**R-7.9** Give a fast algorithm for concatenating two doubly linked lists `L` and `M`,\n",
    "with header and trailer sentinel nodes, into a single list `L`."
   ]
  },
  {
   "cell_type": "code",
   "execution_count": 206,
   "metadata": {},
   "outputs": [],
   "source": [
    "def concat(L, M):\n",
    "    L.trailer.prev.next = M.header.next\n",
    "    M.header.next.prev = L.trailer.prev\n",
    "    L.trailer.prev = L.trailer.next = None\n",
    "    M.header.prev = M.header.next = None"
   ]
  },
  {
   "cell_type": "code",
   "execution_count": 207,
   "metadata": {},
   "outputs": [
    {
     "name": "stdout",
     "output_type": "stream",
     "text": [
      "1\n",
      "2\n",
      "3\n",
      "4\n",
      "5\n"
     ]
    }
   ],
   "source": [
    "L = DoublyLinkedList()\n",
    "for i in [1,2,3]:\n",
    "    L.add_last(i)\n",
    "M = DoublyLinkedList()\n",
    "for i in [4,5]:\n",
    "    M.add_last(i)\n",
    "concat(L, M)\n",
    "L.traverse()"
   ]
  },
  {
   "cell_type": "markdown",
   "metadata": {},
   "source": [
    "**R-7.10** There seems to be some redundancy in the repertoire of the positional\n",
    "list ADT, as the operation `L.add_first(e)` could be enacted by the alternative `L.add_before(L.first(), e)`. Likewise, `L.add_last(e)` might be performed as `L.add_after(L.last(), e)`. Explain why the methods `add_first`\n",
    "and `add_last` are necessary.\n",
    "\n",
    "If the positional list is empty,\n",
    "```\n",
    "L.add_before(L.first(), e)\n",
    "==> L.add_before(self._make_position(self._header._next), e)\n",
    "==> L.add_before(self._make_position(self._trailer), e)\n",
    "==> L.add_before(None, e)\n",
    "==> node = self._validate(None) ==> raise TypeError('p must be of type Position')\n",
    "```\n",
    "Similarly,\n",
    "```\n",
    "L.add_after(L.last(), e)\n",
    "==> L.add_after(self._make_position(self._trailer._prev), e)\n",
    "==> L.add_after(self._make_position(self._header), e)\n",
    "==> L.add_after(None, e)\n",
    "==> node = self._validate(None) ==> raise TypeError('p must be of type Position')\n",
    "```\n",
    "So `add_first`, `add_last` are necessary to handle special cases where the positional list is empty."
   ]
  },
  {
   "cell_type": "markdown",
   "metadata": {},
   "source": [
    "**R-7.11** Implement a function, with calling syntax `max(L)`, that returns the maximum element from a `PositionalList` instance `L` containing comparable elements."
   ]
  },
  {
   "cell_type": "code",
   "execution_count": 208,
   "metadata": {},
   "outputs": [],
   "source": [
    "def maxL(L):\n",
    "    cand = L.first().element()\n",
    "    for e in L:\n",
    "        if e > cand:\n",
    "            cand = e\n",
    "    return cand"
   ]
  },
  {
   "cell_type": "code",
   "execution_count": 209,
   "metadata": {},
   "outputs": [
    {
     "data": {
      "text/plain": [
       "True"
      ]
     },
     "execution_count": 209,
     "metadata": {},
     "output_type": "execute_result"
    }
   ],
   "source": [
    "def random_list():\n",
    "    n = random.randint(1, 100)\n",
    "    result = [0] * n\n",
    "    for i in range(n):\n",
    "        result[i] = random.randint(-1000000, 1000000)\n",
    "    return result\n",
    "\n",
    "\n",
    "def test():\n",
    "    for counter in range(50):\n",
    "        l = random_list()\n",
    "        L = PositionalList()\n",
    "        for i in l:\n",
    "            L.add_last(i)\n",
    "        assert maxL(L) == max(l)\n",
    "    return True\n",
    "\n",
    "test()"
   ]
  },
  {
   "cell_type": "markdown",
   "metadata": {},
   "source": [
    "**R-7.12** Redo the previously problem with max as a method of the `PositionalList`\n",
    "class, so that calling syntax `L.max()` is supported."
   ]
  },
  {
   "cell_type": "code",
   "execution_count": 210,
   "metadata": {},
   "outputs": [],
   "source": [
    "class PositionalList1(PositionalList):\n",
    "    \n",
    "    def max(self):\n",
    "        cand = self.first().element()\n",
    "        for e in self:\n",
    "            if e > cand:\n",
    "                cand = e\n",
    "        return cand"
   ]
  },
  {
   "cell_type": "code",
   "execution_count": 211,
   "metadata": {},
   "outputs": [
    {
     "data": {
      "text/plain": [
       "True"
      ]
     },
     "execution_count": 211,
     "metadata": {},
     "output_type": "execute_result"
    }
   ],
   "source": [
    "def random_list():\n",
    "    n = random.randint(1, 100)\n",
    "    result = [0] * n\n",
    "    for i in range(n):\n",
    "        result[i] = random.randint(-1000000, 1000000)\n",
    "    return result\n",
    "\n",
    "\n",
    "def test():\n",
    "    for counter in range(50):\n",
    "        l = random_list()\n",
    "        L = PositionalList1()\n",
    "        for i in l:\n",
    "            L.add_last(i)\n",
    "        assert L.max() == max(l)\n",
    "    return True\n",
    "\n",
    "test()"
   ]
  },
  {
   "cell_type": "markdown",
   "metadata": {},
   "source": [
    "**R-7.13** Update the `PositionalList` class to support an additional method `find(e)`,\n",
    "which returns the position of the (first occurrence of) element `e` in the list\n",
    "(or `None` if not found)."
   ]
  },
  {
   "cell_type": "code",
   "execution_count": 212,
   "metadata": {},
   "outputs": [],
   "source": [
    "class PositionalList2(PositionalList):\n",
    "    \n",
    "    def find(self, e):\n",
    "        curr = self.first()\n",
    "        while curr is not None:\n",
    "            if curr.element() == e:\n",
    "                return curr\n",
    "            curr = self.after(curr)"
   ]
  },
  {
   "cell_type": "code",
   "execution_count": 213,
   "metadata": {},
   "outputs": [
    {
     "data": {
      "text/plain": [
       "<__main__.PositionalList.Position at 0x1a584d99b70>"
      ]
     },
     "execution_count": 213,
     "metadata": {},
     "output_type": "execute_result"
    }
   ],
   "source": [
    "L = PositionalList2()\n",
    "for i in [1,2,3]:\n",
    "    L.add_last(i)\n",
    "L.find(2)"
   ]
  },
  {
   "cell_type": "markdown",
   "metadata": {},
   "source": [
    "**R-7.14** Repeat the previous process using recursion. Your method should not\n",
    "contain any loops. How much space does your method use in addition to\n",
    "the space used for `L`?\n",
    "\n",
    "$O(1)$ used to store `curr`, current position."
   ]
  },
  {
   "cell_type": "code",
   "execution_count": 214,
   "metadata": {},
   "outputs": [],
   "source": [
    "class PositionalList3(PositionalList):\n",
    "    \n",
    "    def find(self, e):\n",
    "        def find_helper(curr, e):\n",
    "            if curr.element() == e:\n",
    "                return curr\n",
    "            else:\n",
    "                return find_helper(self.after(curr), e)\n",
    "        return find_helper(self.first(), e)"
   ]
  },
  {
   "cell_type": "code",
   "execution_count": 215,
   "metadata": {},
   "outputs": [
    {
     "data": {
      "text/plain": [
       "<__main__.PositionalList.Position at 0x1a584d99be0>"
      ]
     },
     "execution_count": 215,
     "metadata": {},
     "output_type": "execute_result"
    }
   ],
   "source": [
    "L = PositionalList3()\n",
    "for i in [1,2,3]:\n",
    "    L.add_last(i)\n",
    "L.find(2)"
   ]
  },
  {
   "cell_type": "markdown",
   "metadata": {},
   "source": [
    "**R-7.15** Provide support for a `__reversed__` method of the `PositionalList` class that\n",
    "is similar to the given `__iter__`, but that iterates the elements in reversed\n",
    "order."
   ]
  },
  {
   "cell_type": "code",
   "execution_count": 216,
   "metadata": {},
   "outputs": [],
   "source": [
    "class PositionalList4(PositionalList):\n",
    "    \n",
    "    def __reversed__(self):\n",
    "        cursor = self.last()\n",
    "        while cursor is not None:\n",
    "            yield cursor.element()\n",
    "            cursor = self.before(cursor)"
   ]
  },
  {
   "cell_type": "code",
   "execution_count": 217,
   "metadata": {},
   "outputs": [
    {
     "name": "stdout",
     "output_type": "stream",
     "text": [
      "3\n",
      "2\n",
      "1\n"
     ]
    }
   ],
   "source": [
    "L = PositionalList4()\n",
    "for i in [1,2,3]:\n",
    "    L.add_last(i)\n",
    "for l in reversed(L):\n",
    "    print(l)"
   ]
  },
  {
   "cell_type": "markdown",
   "metadata": {},
   "source": [
    "**R-7.16** Describe an implementation of the PositionalList methods `add_last` and\n",
    "`add_before` realized by using only methods in the set `{is_empty, first, last, prev, next, add_after, add_first}`."
   ]
  },
  {
   "cell_type": "code",
   "execution_count": 218,
   "metadata": {},
   "outputs": [],
   "source": [
    "class PositionalList5(PositionalList):\n",
    "    \n",
    "    def add_last(self, e):\n",
    "        if not self.is_empty():\n",
    "            self.add_after(self.last(), e)\n",
    "        else:\n",
    "            self.add_first(e)\n",
    "    \n",
    "    def add_before(self, p, e):\n",
    "        if p != self.first():\n",
    "            self.add_after(self.before(p), e)\n",
    "        else:\n",
    "            self.add_first(e)"
   ]
  },
  {
   "cell_type": "code",
   "execution_count": 219,
   "metadata": {},
   "outputs": [
    {
     "name": "stdout",
     "output_type": "stream",
     "text": [
      "1\n",
      "2\n",
      "3\n"
     ]
    }
   ],
   "source": [
    "L = PositionalList5()\n",
    "for i in [1,2,3]:\n",
    "    L.add_last(i)\n",
    "for i in L:\n",
    "    print(i)"
   ]
  },
  {
   "cell_type": "code",
   "execution_count": 220,
   "metadata": {},
   "outputs": [
    {
     "name": "stdout",
     "output_type": "stream",
     "text": [
      "0\n",
      "1\n",
      "2\n",
      "3\n"
     ]
    }
   ],
   "source": [
    "L = PositionalList5()\n",
    "for i in [1,2,3]:\n",
    "    L.add_last(i)\n",
    "L.add_before(L.first(), 0)\n",
    "for i in L:\n",
    "    print(i)"
   ]
  },
  {
   "cell_type": "markdown",
   "metadata": {},
   "source": [
    "**R-7.17** In the `FavoritesListMTF` class, we rely on public methods of the positional\n",
    "list ADT to move an element of a list at position `p` to become the first element of the list, while keeping the relative order of the remaining elements\n",
    "unchanged. Internally, that combination of operations causes one node to\n",
    "be removed and a new node to be inserted. Augment the` PositionalList`\n",
    "class to support a new method, `move_to_front(p)`, that accomplishes this\n",
    "goal more directly, by relinking the existing node."
   ]
  },
  {
   "cell_type": "code",
   "execution_count": 221,
   "metadata": {},
   "outputs": [],
   "source": [
    "class PositionalList1(PositionalList):\n",
    "    \n",
    "    def move_to_front(self, p):\n",
    "        node = self._validate(p)\n",
    "        node._prev._next = node._next\n",
    "        node._next._prev = node._prev\n",
    "        node._next = self._header._next\n",
    "        self._header._next._prev = node\n",
    "        node._prev = self._header\n",
    "        self._header._next = node"
   ]
  },
  {
   "cell_type": "code",
   "execution_count": 222,
   "metadata": {},
   "outputs": [
    {
     "name": "stdout",
     "output_type": "stream",
     "text": [
      "3\n",
      "1\n",
      "2\n"
     ]
    }
   ],
   "source": [
    "l = PositionalList1()\n",
    "for i in [1,2,3]:\n",
    "    l.add_last(i)\n",
    "p = l.last()\n",
    "l.move_to_front(p)\n",
    "for i in l:\n",
    "    print(i)"
   ]
  },
  {
   "cell_type": "markdown",
   "metadata": {},
   "source": [
    "**R-7.18** Given the set of element $\\{a,b,c,d,e,f\\}$ stored in a list, show the final state\n",
    "of the list, assuming we use the move-to-front heuristic and access the elements according to the following sequence: $(a,b,c,d,e, f,a,c, f,b,d,e)$.\n",
    "\n",
    "| access | list          |   |\n",
    "|--------|---------------|---|\n",
    "| a      | [a]           |   |\n",
    "| b      | [b,a]         |   |\n",
    "| c      | [c,b,a]       |   |\n",
    "| d      | [d,c,b,a]     |   |\n",
    "| e      | [e,d,c,b,a]   |   |\n",
    "| f      | [f,e,d,c,b,a] |   |\n",
    "| a      | [a,f,e,d,c,b] |   |\n",
    "| c      | [c,a,f,e,d,b] |   |\n",
    "| f      | [f,c,a,e,d,b] |   |\n",
    "| b      | [b,f,c,a,e,d] |   |\n",
    "| d      | [d,b,f,c,a,e] |   |\n",
    "| e      | [e,d,b,f,c,a] |   |"
   ]
  },
  {
   "cell_type": "code",
   "execution_count": 223,
   "metadata": {},
   "outputs": [
    {
     "name": "stdout",
     "output_type": "stream",
     "text": [
      "e\n",
      "d\n",
      "b\n",
      "f\n",
      "c\n",
      "a\n"
     ]
    }
   ],
   "source": [
    "l = FavoritesListMTF()\n",
    "for i in ['a','b','c','d','e','f','a','c','f','b','d','e']:\n",
    "    l.access(i)\n",
    "for i in l._data:\n",
    "    print(i._value)"
   ]
  },
  {
   "cell_type": "markdown",
   "metadata": {},
   "source": [
    "**R-7.19** Suppose that we have made $kn$ total accesses to the elements in a list $L$ of\n",
    "$n$ elements, for some integer $k \\geq 1$. What are the minimum and maximum\n",
    "number of elements that have been accessed fewer than $k$ times?\n",
    "\n",
    "Minimum is $0$, e.g., all $n$ elements are accessed $k$ times.\n",
    "\n",
    "Maximum is $n-1$, e.g., $1$ element is accessed $kn$ times and the remaining $n-1$ elements are accessed $0$ times."
   ]
  },
  {
   "cell_type": "markdown",
   "metadata": {},
   "source": [
    "**R-7.20** Let $L$ be a list of $n$ items maintained according to the move-to-front heuristic. Describe a series of $O(n)$ accesses that will reverse $L$.\n",
    "\n",
    "Access each element in $L$ in its original order."
   ]
  },
  {
   "cell_type": "markdown",
   "metadata": {},
   "source": [
    "**R-7.21** Suppose we have an $n$-element list $L$ maintained according to the move-to-front heuristic. Describe a sequence of $n^2$ accesses that is guaranteed to take $\\Omega(n^3)$ time to perform on $L$.\n",
    "\n",
    "Note that the `access` method is $O(n)$ because we need to traverse the list to find the position of the node containing the accessed element.\n",
    "\n",
    "So if we always access the last element in $L$ -- since each of such access is $O(n)$ -- $n^2$ of these would be $\\Omega(n^3)$."
   ]
  },
  {
   "cell_type": "markdown",
   "metadata": {},
   "source": [
    "**R-7.22** Implement a `clear()` method for the `FavoritesList` class that returns the list\n",
    "to empty."
   ]
  },
  {
   "cell_type": "code",
   "execution_count": 224,
   "metadata": {},
   "outputs": [],
   "source": [
    "class FavoritesList1(FavoritesList):\n",
    "    \n",
    "    def clear(self):\n",
    "        self._data = PositionalList()"
   ]
  },
  {
   "cell_type": "code",
   "execution_count": 225,
   "metadata": {},
   "outputs": [
    {
     "name": "stdout",
     "output_type": "stream",
     "text": [
      "value=1, count=3\n",
      "value=2, count=1\n",
      "value=3, count=1\n"
     ]
    }
   ],
   "source": [
    "l = FavoritesList1()\n",
    "for i in [1,2,3,1,1]:\n",
    "    l.access(i)\n",
    "for i in l._data:\n",
    "    print('value={}, count={}'.format(i._value, i._count))\n",
    "l.clear()\n",
    "for i in l._data:\n",
    "    print('value={}, count={}'.format(i._value, i._count))"
   ]
  },
  {
   "cell_type": "markdown",
   "metadata": {},
   "source": [
    "**R-7.23** Implement a `reset_counts()` method for the `FavoritesList` class that resets\n",
    "all elements' access counts to zero (while leaving the order of the list\n",
    "unchanged)."
   ]
  },
  {
   "cell_type": "code",
   "execution_count": 226,
   "metadata": {},
   "outputs": [],
   "source": [
    "class FavoritesList2(FavoritesList):\n",
    "    \n",
    "    def reset_counts(self):\n",
    "        for e in self._data:\n",
    "            e._count = 0"
   ]
  },
  {
   "cell_type": "code",
   "execution_count": 227,
   "metadata": {},
   "outputs": [
    {
     "name": "stdout",
     "output_type": "stream",
     "text": [
      "value=1, count=3\n",
      "value=2, count=1\n",
      "value=3, count=1\n",
      "value=1, count=0\n",
      "value=2, count=0\n",
      "value=3, count=0\n"
     ]
    }
   ],
   "source": [
    "l = FavoritesList2()\n",
    "for i in [1,2,3,1,1]:\n",
    "    l.access(i)\n",
    "for i in l._data:\n",
    "    print('value={}, count={}'.format(i._value, i._count))\n",
    "l.reset_counts()\n",
    "for i in l._data:\n",
    "    print('value={}, count={}'.format(i._value, i._count))"
   ]
  },
  {
   "cell_type": "markdown",
   "metadata": {},
   "source": [
    "#### Creativity\n",
    "\n",
    "**C-7.24** Give a complete implementation of the stack ADT using a singly linked\n",
    "list that includes a header sentinel."
   ]
  },
  {
   "cell_type": "code",
   "execution_count": 228,
   "metadata": {},
   "outputs": [],
   "source": [
    "class SinglyLinkedList:\n",
    "    \n",
    "    class Node:\n",
    "        __slots__ = 'element', 'next'\n",
    "\n",
    "        def __init__(self, element, next):\n",
    "            self.element = element\n",
    "            self.next = next\n",
    "    \n",
    "    def __init__(self):\n",
    "        self.header = self.Node(None, None)\n",
    "        self.size = 0\n",
    "    \n",
    "    def __len__(self):\n",
    "        return self.size\n",
    "    \n",
    "    def add_first(self, e):\n",
    "        new = self.Node(e, self.header.next)\n",
    "        self.header.next = new\n",
    "        self.size += 1\n",
    "    \n",
    "    def add_last(self, e):\n",
    "        new = self.Node(e, None)\n",
    "        if self.size == 0:\n",
    "            self.header.next = new\n",
    "        else:\n",
    "            curr = self.header.next\n",
    "            while curr.next is not None:\n",
    "                curr = curr.next\n",
    "            curr.next = new\n",
    "        self.size += 1\n",
    "    \n",
    "    def traverse(self):\n",
    "        curr = self.header.next\n",
    "        while curr is not None:\n",
    "            print(curr.element)\n",
    "            curr = curr.next"
   ]
  },
  {
   "cell_type": "code",
   "execution_count": 229,
   "metadata": {},
   "outputs": [],
   "source": [
    "class SinglyLinkedStack:\n",
    "    \n",
    "    def __init__(self):\n",
    "        self._data = SinglyLinkedList()\n",
    "    \n",
    "    def __len__(self):\n",
    "        return len(self._data)\n",
    "    \n",
    "    def is_empty(self):\n",
    "        return len(self._data) == 0\n",
    "    \n",
    "    def push(self, e):\n",
    "        self._data.add_first(e)\n",
    "    \n",
    "    def top(self):\n",
    "        if self.is_empty():\n",
    "            raise Exception('Stack is empty')\n",
    "        return self._data.header.next.element\n",
    "    \n",
    "    def pop(self):\n",
    "        if self.is_empty():\n",
    "            raise Exception('Stack is empty')\n",
    "        result = self._data.header.next.element\n",
    "        if len(self) == 1:\n",
    "            self._data.header.next = None\n",
    "        else:\n",
    "            node = self._data.header.next\n",
    "            self._data.header.next = node.next\n",
    "            node.next = None\n",
    "        self._data.size -= 1\n",
    "        return result"
   ]
  },
  {
   "cell_type": "code",
   "execution_count": 230,
   "metadata": {},
   "outputs": [
    {
     "name": "stdout",
     "output_type": "stream",
     "text": [
      "3\n",
      "2\n",
      "1\n"
     ]
    }
   ],
   "source": [
    "S = SinglyLinkedStack()\n",
    "for i in [1,2,3]:\n",
    "    S.push(i)\n",
    "for i in range(3):\n",
    "    print(S.pop())"
   ]
  },
  {
   "cell_type": "markdown",
   "metadata": {},
   "source": [
    "**C-7.25** Give a complete implementation of the queue ADT using a singly linked\n",
    "list that includes a header sentinel."
   ]
  },
  {
   "cell_type": "code",
   "execution_count": 231,
   "metadata": {},
   "outputs": [],
   "source": [
    "class SinglyLinkedQueue:\n",
    "    \n",
    "    def __init__(self):\n",
    "        self._data = SinglyLinkedList()\n",
    "    \n",
    "    def __len__(self):\n",
    "        return len(self._data)\n",
    "    \n",
    "    def is_empty(self):\n",
    "        return len(self._data) == 0\n",
    "    \n",
    "    def first(self):\n",
    "        if self.is_empty():\n",
    "            raise Exception('Queue is empty')\n",
    "        return self._data.header.next.element\n",
    "    \n",
    "    def dequeue(self):\n",
    "        if self.is_empty():\n",
    "            raise Exception('Queue is empty')\n",
    "        result = self._data.header.next.element\n",
    "        if len(self) == 1:\n",
    "            self._data.header.next = None\n",
    "        else:\n",
    "            node = self._data.header.next\n",
    "            self._data.header.next = node.next\n",
    "            node.next = None\n",
    "        self._data.size -= 1\n",
    "        return result\n",
    "    \n",
    "    def enqueue(self, e):\n",
    "        self._data.add_last(e)"
   ]
  },
  {
   "cell_type": "code",
   "execution_count": 232,
   "metadata": {},
   "outputs": [
    {
     "name": "stdout",
     "output_type": "stream",
     "text": [
      "1\n",
      "2\n",
      "3\n"
     ]
    }
   ],
   "source": [
    "Q = SinglyLinkedQueue()\n",
    "for i in [1,2,3]:\n",
    "    Q.enqueue(i)\n",
    "for i in range(3):\n",
    "    print(Q.dequeue())"
   ]
  },
  {
   "cell_type": "markdown",
   "metadata": {},
   "source": [
    "**C-7.26** Implement a method, `concatenate(Q2)` for the `LinkedQueue` class that\n",
    "takes all elements of `LinkedQueue` `Q2` and appends them to the end of the\n",
    "original queue. The operation should run in $O(1)$ time and should result\n",
    "in `Q2` being an empty queue."
   ]
  },
  {
   "cell_type": "code",
   "execution_count": 233,
   "metadata": {},
   "outputs": [],
   "source": [
    "class LinkedQueue1(LinkedQueue):\n",
    "    \n",
    "    def concatenate(self, Q2):\n",
    "        self._tail._next = Q2._head\n",
    "        self._tail = Q2._tail\n",
    "        Q2._head = Q2._tail = None\n",
    "        Q2._size = 0\n",
    "    \n",
    "    def traverse(self):\n",
    "        curr = self._head\n",
    "        while curr is not None:\n",
    "            print(curr._element)\n",
    "            curr = curr._next"
   ]
  },
  {
   "cell_type": "code",
   "execution_count": 234,
   "metadata": {},
   "outputs": [],
   "source": [
    "Q1 = LinkedQueue1()\n",
    "Q2 = LinkedQueue1()\n",
    "for i in [1,2,3]:\n",
    "    Q1.enqueue(i)\n",
    "for i in [4,5]:\n",
    "    Q2.enqueue(i)\n",
    "Q1.concatenate(Q2)"
   ]
  },
  {
   "cell_type": "code",
   "execution_count": 235,
   "metadata": {},
   "outputs": [
    {
     "name": "stdout",
     "output_type": "stream",
     "text": [
      "1\n",
      "2\n",
      "3\n",
      "4\n",
      "5\n"
     ]
    }
   ],
   "source": [
    "Q1.traverse()"
   ]
  },
  {
   "cell_type": "code",
   "execution_count": 237,
   "metadata": {},
   "outputs": [
    {
     "data": {
      "text/plain": [
       "True"
      ]
     },
     "execution_count": 237,
     "metadata": {},
     "output_type": "execute_result"
    }
   ],
   "source": [
    "Q2.is_empty()"
   ]
  },
  {
   "cell_type": "markdown",
   "metadata": {},
   "source": [
    "**C-7.27** Give a recursive implementation of a singly linked list class, such that an\n",
    "instance of a nonempty list stores its first element and a reference to a list\n",
    "of remaining elements."
   ]
  },
  {
   "cell_type": "code",
   "execution_count": 297,
   "metadata": {},
   "outputs": [],
   "source": [
    "class RecursiveSinglyLinkedList:\n",
    "    \n",
    "    def __init__(self, head=None, remaining=None):\n",
    "        self.head = head\n",
    "        self.remaining = remaining\n",
    "    \n",
    "    def __len__(self):\n",
    "        if self.head is None:\n",
    "            return 0\n",
    "        else:\n",
    "            if self.remaining is None:\n",
    "                return 1\n",
    "            else:\n",
    "                return 1 + len(self.remaining)\n",
    "    \n",
    "    def add_first(self, e):\n",
    "        if len(self) == 0:\n",
    "            self.head = e\n",
    "        else:\n",
    "            self.remaining = RecursiveSinglyLinkedList(self.head, self.remaining)\n",
    "            self.head = e\n",
    "    \n",
    "    def add_last(self, e):\n",
    "        if len(self) == 0:\n",
    "            self.head = e\n",
    "        else:\n",
    "            curr = self\n",
    "            while curr.remaining is not None:\n",
    "                curr = curr.remaining\n",
    "            curr.remaining = RecursiveSinglyLinkedList(e, None)\n",
    "            \n",
    "    def traverse(self):\n",
    "        if len(self) > 0:\n",
    "            print(self.head)\n",
    "            if len(self) > 1:\n",
    "                self.remaining.traverse()"
   ]
  },
  {
   "cell_type": "code",
   "execution_count": 299,
   "metadata": {},
   "outputs": [
    {
     "name": "stdout",
     "output_type": "stream",
     "text": [
      "3\n",
      "2\n",
      "1\n"
     ]
    }
   ],
   "source": [
    "r = RecursiveSinglyLinkedList()\n",
    "for i in [1,2,3]:\n",
    "    r.add_first(i)\n",
    "r.traverse()"
   ]
  },
  {
   "cell_type": "code",
   "execution_count": 300,
   "metadata": {},
   "outputs": [
    {
     "name": "stdout",
     "output_type": "stream",
     "text": [
      "1\n",
      "2\n",
      "3\n"
     ]
    }
   ],
   "source": [
    "r = RecursiveSinglyLinkedList()\n",
    "for i in [1,2,3]:\n",
    "    r.add_last(i)\n",
    "r.traverse()"
   ]
  },
  {
   "cell_type": "markdown",
   "metadata": {},
   "source": [
    "**C-7.28** Describe a fast recursive algorithm for reversing a singly linked list."
   ]
  }
 ],
 "metadata": {
  "kernelspec": {
   "display_name": "Python 3",
   "language": "python",
   "name": "python3"
  },
  "language_info": {
   "codemirror_mode": {
    "name": "ipython",
    "version": 3
   },
   "file_extension": ".py",
   "mimetype": "text/x-python",
   "name": "python",
   "nbconvert_exporter": "python",
   "pygments_lexer": "ipython3",
   "version": "3.7.3"
  },
  "toc": {
   "base_numbering": 1,
   "nav_menu": {},
   "number_sections": true,
   "sideBar": true,
   "skip_h1_title": false,
   "title_cell": "Table of Contents",
   "title_sidebar": "Contents",
   "toc_cell": false,
   "toc_position": {
    "height": "calc(100% - 180px)",
    "left": "10px",
    "top": "150px",
    "width": "164.977px"
   },
   "toc_section_display": true,
   "toc_window_display": true
  }
 },
 "nbformat": 4,
 "nbformat_minor": 2
}
