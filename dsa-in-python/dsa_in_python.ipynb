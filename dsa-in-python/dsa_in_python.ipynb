{
 "cells": [
  {
   "cell_type": "markdown",
   "metadata": {},
   "source": [
    "Reading notes and partial solutions to [Data Structures and Algorithms in Python](https://blackwells.co.uk/bookshop/product/9781118290279?gC=f177369a3b&gclid=Cj0KCQjwhJrqBRDZARIsALhp1WTBIyoxeQGXedlVy80vsglvFbNkVf7jTP0Z0zXEIP87lfqbtb4_diYaAr8dEALw_wcB)."
   ]
  },
  {
   "cell_type": "code",
   "execution_count": 1,
   "metadata": {},
   "outputs": [],
   "source": [
    "import random\n",
    "from matplotlib import pyplot as plt\n",
    "%matplotlib inline\n",
    "import math\n",
    "from datetime import datetime"
   ]
  },
  {
   "cell_type": "markdown",
   "metadata": {},
   "source": [
    "# Python Primer"
   ]
  },
  {
   "cell_type": "markdown",
   "metadata": {},
   "source": [
    "## Generators"
   ]
  },
  {
   "cell_type": "code",
   "execution_count": 2,
   "metadata": {},
   "outputs": [
    {
     "data": {
      "text/plain": [
       "True"
      ]
     },
     "execution_count": 2,
     "metadata": {},
     "output_type": "execute_result"
    }
   ],
   "source": [
    "# Traditional way\n",
    "def factors(n):\n",
    "    '''Return the factors of n as a list.'''\n",
    "    results = []\n",
    "    for k in range(1, n+1):\n",
    "        if n % k == 0:\n",
    "            results.append(k)\n",
    "    return results\n",
    "\n",
    "def test():\n",
    "    assert factors(1) == [1]\n",
    "    assert factors(4) == [1, 2, 4]\n",
    "    assert factors(10) == [1, 2, 5, 10]\n",
    "    return True\n",
    "\n",
    "test()"
   ]
  },
  {
   "cell_type": "code",
   "execution_count": 3,
   "metadata": {},
   "outputs": [
    {
     "data": {
      "text/plain": [
       "True"
      ]
     },
     "execution_count": 3,
     "metadata": {},
     "output_type": "execute_result"
    }
   ],
   "source": [
    "# Using generator\n",
    "def factors(n):\n",
    "    '''Return the factors of n as a list.'''\n",
    "    for k in range(1, n+1):\n",
    "        if n % k == 0:\n",
    "            yield k\n",
    "\n",
    "def test():\n",
    "    assert list(factors(1)) == [1]\n",
    "    assert list(factors(4)) == [1, 2, 4]\n",
    "    assert list(factors(10)) == [1, 2, 5, 10]\n",
    "    return True\n",
    "\n",
    "test()"
   ]
  },
  {
   "cell_type": "code",
   "execution_count": 4,
   "metadata": {},
   "outputs": [
    {
     "data": {
      "text/plain": [
       "<generator object factors at 0x0000020218C47930>"
      ]
     },
     "execution_count": 4,
     "metadata": {},
     "output_type": "execute_result"
    }
   ],
   "source": [
    "factors(10)"
   ]
  },
  {
   "cell_type": "code",
   "execution_count": 5,
   "metadata": {},
   "outputs": [
    {
     "name": "stdout",
     "output_type": "stream",
     "text": [
      "1\n",
      "2\n",
      "5\n",
      "10\n"
     ]
    }
   ],
   "source": [
    "for i in factors(10):\n",
    "    print(i)"
   ]
  },
  {
   "cell_type": "code",
   "execution_count": 6,
   "metadata": {},
   "outputs": [
    {
     "data": {
      "text/plain": [
       "True"
      ]
     },
     "execution_count": 6,
     "metadata": {},
     "output_type": "execute_result"
    }
   ],
   "source": [
    "def factors(n): # generator that computes factors\n",
    "    '''Return the factors of n as a list.'''\n",
    "    k = 1\n",
    "    while k * k < n: # while k < sqrt(n)\n",
    "        if n % k == 0:\n",
    "            yield k # k is a factor of n\n",
    "            yield n // k # so is n // k\n",
    "            # this step improves efficiency because we get two factors at one comparison\n",
    "        k += 1\n",
    "    if k * k == n: # special case if n is perfect square\n",
    "        yield k # k is a factor, but the \"complementing factor\" is also k\n",
    "\n",
    "def test():\n",
    "    # the resulting factors are not in increasing order but in complementing pairs instead,\n",
    "    # so we need to use the unordered set() to test for equality\n",
    "    assert set(factors(1)) == {1}\n",
    "    assert set(factors(4)) == {1, 2, 4}\n",
    "    assert set(factors(10)) == {1, 2, 5, 10}\n",
    "    return True\n",
    "\n",
    "test()"
   ]
  },
  {
   "cell_type": "code",
   "execution_count": 7,
   "metadata": {},
   "outputs": [
    {
     "data": {
      "text/plain": [
       "<generator object factors at 0x0000020218CF54F8>"
      ]
     },
     "execution_count": 7,
     "metadata": {},
     "output_type": "execute_result"
    }
   ],
   "source": [
    "factors(10)"
   ]
  },
  {
   "cell_type": "code",
   "execution_count": 8,
   "metadata": {},
   "outputs": [
    {
     "name": "stdout",
     "output_type": "stream",
     "text": [
      "1\n",
      "10\n",
      "2\n",
      "5\n"
     ]
    }
   ],
   "source": [
    "for i in factors(10):\n",
    "    print(i)"
   ]
  },
  {
   "cell_type": "markdown",
   "metadata": {},
   "source": [
    "## Exercises"
   ]
  },
  {
   "cell_type": "markdown",
   "metadata": {},
   "source": [
    "### Reinforcement\n",
    "\n",
    "**R-1.1** Write a short Python function, `is_multiple(n, m)`, that takes two integer\n",
    "values and returns `True` if `n` is a multiple of `m`, that is, `n = mi` for some\n",
    "integer `i`, and `False` otherwise."
   ]
  },
  {
   "cell_type": "code",
   "execution_count": 9,
   "metadata": {},
   "outputs": [
    {
     "data": {
      "text/plain": [
       "True"
      ]
     },
     "execution_count": 9,
     "metadata": {},
     "output_type": "execute_result"
    }
   ],
   "source": [
    "def is_multiple(n, m):\n",
    "    return n % m == 0\n",
    "\n",
    "def random_exp():\n",
    "    m = random.randint(-1000000, 1000000)\n",
    "    n = m * random.randint(-1000000, 1000000)\n",
    "    return n, m\n",
    "\n",
    "def random_counter_exp():\n",
    "    m = random.randint(-1000000, 1000000) \n",
    "    while m == 1:\n",
    "        m = random.randint(-1000000, 1000000) # there exists not counter example if m = 1\n",
    "    n = m * random.randint(-1000000, 1000000) + m // 2\n",
    "    return n, m\n",
    "\n",
    "def test():\n",
    "    for counter in range(50):\n",
    "        exp = random_exp()\n",
    "        assert is_multiple(exp[0], exp[1])\n",
    "        counterExp = random_counter_exp()\n",
    "        assert not is_multiple(counterExp[0], counterExp[1])\n",
    "    return True\n",
    "\n",
    "test()"
   ]
  },
  {
   "cell_type": "markdown",
   "metadata": {},
   "source": [
    "**R-1.2** Write a short Python function, is_even(k), that takes an integer value and\n",
    "returns True if k is even, and False otherwise. However, your function\n",
    "cannot use the multiplication, modulo, or division operators."
   ]
  },
  {
   "cell_type": "code",
   "execution_count": 10,
   "metadata": {},
   "outputs": [
    {
     "data": {
      "text/plain": [
       "True"
      ]
     },
     "execution_count": 10,
     "metadata": {},
     "output_type": "execute_result"
    }
   ],
   "source": [
    "def is_even(k):\n",
    "    lastDigit = str(k)[-1]\n",
    "    return lastDigit in ('0', '2', '4', '6', '8')\n",
    "\n",
    "def random_exp():\n",
    "    m = random.randint(-1000000, 1000000)\n",
    "    return 2 * m\n",
    "\n",
    "def random_counter_exp():\n",
    "    m = random.randint(-1000000, 1000000)\n",
    "    return 2 * m + 1\n",
    "\n",
    "def test():\n",
    "    for counter in range(50):\n",
    "        assert is_even(random_exp())\n",
    "        assert not is_even(random_counter_exp())\n",
    "    return True\n",
    "\n",
    "test()"
   ]
  },
  {
   "cell_type": "markdown",
   "metadata": {},
   "source": [
    "**R-1.3** Write a short Python function, `minmax(data)`, that takes a sequence of\n",
    "one or more numbers, and returns the smallest and largest numbers, in the\n",
    "form of a tuple of length two. Do not use the built-in functions `min` or\n",
    "`max` in implementing your solution."
   ]
  },
  {
   "cell_type": "code",
   "execution_count": 11,
   "metadata": {},
   "outputs": [
    {
     "data": {
      "text/plain": [
       "True"
      ]
     },
     "execution_count": 11,
     "metadata": {},
     "output_type": "execute_result"
    }
   ],
   "source": [
    "def minmax(data):\n",
    "    if len(data) != 0:\n",
    "        curMin = data[0]\n",
    "        curMax = data[0]\n",
    "        for x in data:\n",
    "            if x < curMin:\n",
    "                curMin = x\n",
    "            elif x > curMax:\n",
    "                curMax = x\n",
    "        return curMin, curMax\n",
    "\n",
    "def random_list():\n",
    "    n = random.randint(1, 100)\n",
    "    result = [0] * n\n",
    "    for i in range(n):\n",
    "        result[i] = random.randint(-1000000, 1000000)\n",
    "    return result\n",
    "\n",
    "def test():\n",
    "    for counter in range(50):\n",
    "        data = random_list()\n",
    "        assert minmax(data) == (min(data), max(data))\n",
    "    return True\n",
    "\n",
    "test()"
   ]
  },
  {
   "cell_type": "markdown",
   "metadata": {},
   "source": [
    "**R-1.4** Write a short Python function that takes a positive integer `n` and returns\n",
    "the sum of the squares of all the positive integers smaller than `n`."
   ]
  },
  {
   "cell_type": "code",
   "execution_count": 12,
   "metadata": {},
   "outputs": [
    {
     "name": "stdout",
     "output_type": "stream",
     "text": [
      "Caught error: Input must be positive.\n"
     ]
    },
    {
     "data": {
      "text/plain": [
       "True"
      ]
     },
     "execution_count": 12,
     "metadata": {},
     "output_type": "execute_result"
    }
   ],
   "source": [
    "def sum_squares(n):\n",
    "    if n < 0:\n",
    "        raise ValueError(\"Input must be positive.\")\n",
    "    result = 0\n",
    "    for i in range(n):\n",
    "        result += i ** 2\n",
    "    return result\n",
    "\n",
    "def test():\n",
    "    assert sum_squares(4) == 1 + 4 + 9\n",
    "    assert sum_squares(0) == 0\n",
    "    try:\n",
    "        sum_squares(-5)\n",
    "    except ValueError as e:\n",
    "        print('Caught error: ' + str(e))\n",
    "    return True\n",
    "\n",
    "test()"
   ]
  },
  {
   "cell_type": "markdown",
   "metadata": {},
   "source": [
    "**R-1.5** Give a single command that computes the sum from Exercise R-1.4, relying\n",
    "on Python’s comprehension syntax and the built-in `sum` function."
   ]
  },
  {
   "cell_type": "code",
   "execution_count": 13,
   "metadata": {},
   "outputs": [
    {
     "data": {
      "text/plain": [
       "True"
      ]
     },
     "execution_count": 13,
     "metadata": {},
     "output_type": "execute_result"
    }
   ],
   "source": [
    "def sum_squares2(n):\n",
    "    if n < 0:\n",
    "        raise ValueError(\"Input must be positive.\")\n",
    "    return sum([i ** 2 for i in range(n)])\n",
    "\n",
    "def test():\n",
    "    for counter in range(50):\n",
    "        num = random.randint(1, 100)\n",
    "        assert sum_squares(num) == sum_squares2(num)\n",
    "    return True\n",
    "\n",
    "test()"
   ]
  },
  {
   "cell_type": "markdown",
   "metadata": {},
   "source": [
    "**R-1.6** Write a short Python function that takes a positive integer `n` and returns\n",
    "the sum of the squares of all the odd positive integers smaller than `n`."
   ]
  },
  {
   "cell_type": "code",
   "execution_count": 14,
   "metadata": {},
   "outputs": [
    {
     "data": {
      "text/plain": [
       "True"
      ]
     },
     "execution_count": 14,
     "metadata": {},
     "output_type": "execute_result"
    }
   ],
   "source": [
    "def sum_squares_odd(n):\n",
    "    if n < 0:\n",
    "        raise ValueError(\"Input must be positive.\")\n",
    "    result = 0\n",
    "    for i in range(n):\n",
    "        if not is_even(i):\n",
    "            result += i ** 2\n",
    "    return result\n",
    "\n",
    "def test():\n",
    "    assert sum_squares_odd(4) == 1 + 9\n",
    "    assert sum_squares_odd(0) == 0\n",
    "    return True\n",
    "\n",
    "test()"
   ]
  },
  {
   "cell_type": "markdown",
   "metadata": {},
   "source": [
    "**R-1.7** Give a single command that computes the sum from Exercise R-1.6, relying\n",
    "on Python’s comprehension syntax and the built-in `sum` function."
   ]
  },
  {
   "cell_type": "code",
   "execution_count": 15,
   "metadata": {},
   "outputs": [
    {
     "data": {
      "text/plain": [
       "True"
      ]
     },
     "execution_count": 15,
     "metadata": {},
     "output_type": "execute_result"
    }
   ],
   "source": [
    "def sum_squares_odd2(n):\n",
    "    if n < 0:\n",
    "        raise ValueError(\"Input must be positive.\")\n",
    "    return sum([i ** 2 if not is_even(i) else 0 for i in range(n)])\n",
    "\n",
    "def test():\n",
    "    for counter in range(50):\n",
    "        num = random.randint(1, 100)\n",
    "        assert sum_squares_odd(num) == sum_squares_odd2(num)\n",
    "    return True\n",
    "\n",
    "test()"
   ]
  },
  {
   "cell_type": "markdown",
   "metadata": {},
   "source": [
    "**R-1.8** Python allows negative integers to be used as indices into a sequence,\n",
    "such as a string. If string `s` has length `n`, and expression `s[k]` is used for index\n",
    "$-n\\leq k < 0$, what is the equivalent index $j \\geq 0$ such that `s[j]` references\n",
    "the same element?"
   ]
  },
  {
   "cell_type": "code",
   "execution_count": 16,
   "metadata": {},
   "outputs": [
    {
     "data": {
      "text/plain": [
       "True"
      ]
     },
     "execution_count": 16,
     "metadata": {},
     "output_type": "execute_result"
    }
   ],
   "source": [
    "def equiv_index(n, k):\n",
    "    return n + k\n",
    "\n",
    "def random_char():\n",
    "    num = random.randint(97, 122)\n",
    "    return chr(num)\n",
    "\n",
    "def random_string(n):\n",
    "    return ''.join([random_char() for i in range(n)])\n",
    "\n",
    "def test():\n",
    "    for counter in range(50):\n",
    "        num = random.randint(0, 100)\n",
    "        s = random_string(num)\n",
    "        for i in range(1, num + 1):\n",
    "            k = -i\n",
    "            assert s[k] == s[equiv_index(num, k)]\n",
    "    return True\n",
    "\n",
    "test()"
   ]
  },
  {
   "cell_type": "markdown",
   "metadata": {},
   "source": [
    "**R-1.9** What parameters should be sent to the `range` constructor, to produce a\n",
    "range with values `50, 60, 70, 80`?"
   ]
  },
  {
   "cell_type": "code",
   "execution_count": 17,
   "metadata": {},
   "outputs": [
    {
     "name": "stdout",
     "output_type": "stream",
     "text": [
      "50\n",
      "60\n",
      "70\n",
      "80\n"
     ]
    }
   ],
   "source": [
    "for i in range(50, 90, 10):\n",
    "    print(i)"
   ]
  },
  {
   "cell_type": "markdown",
   "metadata": {},
   "source": [
    "**R-1.10** What parameters should be sent to the `range` constructor, to produce a\n",
    "range with values `8, 6, 4, 2, 0, −2, −4, −6, −8`?"
   ]
  },
  {
   "cell_type": "code",
   "execution_count": 18,
   "metadata": {},
   "outputs": [
    {
     "name": "stdout",
     "output_type": "stream",
     "text": [
      "8\n",
      "6\n",
      "4\n",
      "2\n",
      "0\n",
      "-2\n",
      "-4\n",
      "-6\n",
      "-8\n"
     ]
    }
   ],
   "source": [
    "for i in range(8, -10, -2):\n",
    "    print(i)"
   ]
  },
  {
   "cell_type": "markdown",
   "metadata": {},
   "source": [
    "**R-1.11** Demonstrate how to use Python’s list comprehension syntax to produce\n",
    "the list `[1, 2, 4, 8, 16, 32, 64, 128, 256]`."
   ]
  },
  {
   "cell_type": "code",
   "execution_count": 19,
   "metadata": {},
   "outputs": [
    {
     "name": "stdout",
     "output_type": "stream",
     "text": [
      "[2, 4, 8, 16, 32, 64, 128, 256]\n"
     ]
    }
   ],
   "source": [
    "print([2 ** i for i in range(1, 9)])"
   ]
  },
  {
   "cell_type": "markdown",
   "metadata": {},
   "source": [
    "**R-1.12** Python’s `random` module includes a function `choice(data)` that returns a\n",
    "random element from a non-empty sequence. The random module includes\n",
    "a more basic function `randrange`, with parameterization similar to\n",
    "the built-in `range` function, that return a random choice from the given\n",
    "range. Using only the `randrange` function, implement your own version\n",
    "of the `choice `function."
   ]
  },
  {
   "cell_type": "code",
   "execution_count": 20,
   "metadata": {},
   "outputs": [
    {
     "data": {
      "image/png": "[encoded data removed]",
      "text/plain": [
       "<Figure size 432x288 with 1 Axes>"
      ]
     },
     "metadata": {
      "needs_background": "light"
     },
     "output_type": "display_data"
    }
   ],
   "source": [
    "def choice(data):\n",
    "    index = random.randrange(0, len(data))\n",
    "    return data[index]\n",
    "\n",
    "def test():\n",
    "    data = [choice([i for i in range(100)]) for j in range(5000)]\n",
    "    plt.hist(data)\n",
    "\n",
    "test()"
   ]
  },
  {
   "cell_type": "markdown",
   "metadata": {},
   "source": [
    "### Creativity"
   ]
  },
  {
   "cell_type": "markdown",
   "metadata": {},
   "source": [
    "**C-1.13** Write a pseudo-code description of a function that reverses a list of n\n",
    "integers, so that the numbers are listed in the opposite order than they\n",
    "were before, and compare this method to an equivalent Python function\n",
    "for doing the same thing."
   ]
  },
  {
   "cell_type": "code",
   "execution_count": 21,
   "metadata": {},
   "outputs": [
    {
     "data": {
      "text/plain": [
       "True"
      ]
     },
     "execution_count": 21,
     "metadata": {},
     "output_type": "execute_result"
    }
   ],
   "source": [
    "def rev(seq):\n",
    "    n = len(seq)\n",
    "    res = [0] * n\n",
    "    for i in range(n):\n",
    "        res[i] = seq[n-i-1]\n",
    "    return res\n",
    "\n",
    "def test():\n",
    "    for counter in range(50):\n",
    "        seq = random_list()\n",
    "        assert rev(seq) == list(reversed(seq))\n",
    "    return True\n",
    "\n",
    "test()"
   ]
  },
  {
   "cell_type": "markdown",
   "metadata": {},
   "source": [
    "**C-1.14** Write a short Python function that takes a sequence of integer values and\n",
    "determines if there is a distinct pair of numbers in the sequence whose\n",
    "product is odd."
   ]
  },
  {
   "cell_type": "code",
   "execution_count": 22,
   "metadata": {},
   "outputs": [
    {
     "data": {
      "text/plain": [
       "True"
      ]
     },
     "execution_count": 22,
     "metadata": {},
     "output_type": "execute_result"
    }
   ],
   "source": [
    "def odd_product(seq):\n",
    "    seq = filter(lambda x: not is_even(x), seq) # filter out even numbers\n",
    "    seq = list(set(seq)) # remove duplicates\n",
    "    return len(seq) > 1\n",
    "\n",
    "def test():\n",
    "    assert odd_product([1, 3, 5, 2])\n",
    "    assert not odd_product([4, 2, 10, 26])\n",
    "    return True\n",
    "\n",
    "test()"
   ]
  },
  {
   "cell_type": "markdown",
   "metadata": {},
   "source": [
    "**C-1.15** Write a Python function that takes a sequence of numbers and determines\n",
    "if all the numbers are different from each other (that is, they are distinct)."
   ]
  },
  {
   "cell_type": "code",
   "execution_count": 23,
   "metadata": {},
   "outputs": [
    {
     "data": {
      "text/plain": [
       "True"
      ]
     },
     "execution_count": 23,
     "metadata": {},
     "output_type": "execute_result"
    }
   ],
   "source": [
    "def distinct(seq):\n",
    "    d = {} # dictionary with key as counter\n",
    "    for x in seq:\n",
    "        if x in d:\n",
    "            return False\n",
    "        else:\n",
    "            d[x] = 1\n",
    "    return True\n",
    "\n",
    "def test():\n",
    "    assert distinct([i for i in range(10)])\n",
    "    assert not distinct([1, 2, 7, 4, 1])\n",
    "    return True\n",
    "\n",
    "test()"
   ]
  },
  {
   "cell_type": "markdown",
   "metadata": {},
   "source": [
    "**C-1.16** In our implementation of the `scale` function (page 25), the body of the loop\n",
    "executes the command `data[j] = factor`. We have discussed that numeric\n",
    "types are immutable, and that use of the = operator in this context causes\n",
    "the creation of a new instance (not the mutation of an existing instance).\n",
    "How is it still possible, then, that our implementation of scale changes the\n",
    "actual parameter sent by the caller?\n",
    "\n",
    "The list, data, is referential and mutable."
   ]
  },
  {
   "cell_type": "markdown",
   "metadata": {},
   "source": [
    "**C-1.17** Had we implemented the `scale` function (page 25) as follows, does it work\n",
    "properly?\n",
    "\n",
    "```python\n",
    "def scale(data, factor):\n",
    "    for val in data:\n",
    "        val *= factor\n",
    "```\n",
    "\n",
    "\n",
    "No. The list `data` does not change as the alias `val` for each element in the list is re-assigned to another value. "
   ]
  },
  {
   "cell_type": "markdown",
   "metadata": {},
   "source": [
    "**C-1.18** Demonstrate how to use Python’s list comprehension syntax to produce\n",
    "the list `[0, 2, 6, 12, 20, 30, 42, 56, 72, 90]`."
   ]
  },
  {
   "cell_type": "code",
   "execution_count": 24,
   "metadata": {},
   "outputs": [
    {
     "name": "stdout",
     "output_type": "stream",
     "text": [
      "[0, 2, 6, 12, 20, 30, 42, 56, 72, 90]\n"
     ]
    }
   ],
   "source": [
    "print([x * (x + 1) for x in range(10)])"
   ]
  },
  {
   "cell_type": "markdown",
   "metadata": {},
   "source": [
    "**C-1.19** Demonstrate how to use Python’s list comprehension syntax to produce\n",
    "the list `[ a , b , c , ..., z ]`, but without having to type all 26 such\n",
    "characters literally."
   ]
  },
  {
   "cell_type": "code",
   "execution_count": 25,
   "metadata": {},
   "outputs": [
    {
     "name": "stdout",
     "output_type": "stream",
     "text": [
      "['a', 'b', 'c', 'd', 'e', 'f', 'g', 'h', 'i', 'j', 'k', 'l', 'm', 'n', 'o', 'p', 'q', 'r', 's', 't', 'u', 'v', 'w', 'x', 'y', 'z']\n"
     ]
    }
   ],
   "source": [
    "print([chr(i) for i in range(97, 123)])"
   ]
  },
  {
   "cell_type": "markdown",
   "metadata": {},
   "source": [
    "**C-1.20** Python’s `random` module includes a function `shuffle(data)` that accepts a\n",
    "list of elements and randomly reorders the elements so that each possible\n",
    "order occurs with equal probability. The random module includes a\n",
    "more basic function `randint(a, b)` that returns a uniformly random integer\n",
    "from `a` to `b` (including both endpoints). Using only the `randint` function,\n",
    "implement your own version of the `shuffle` function."
   ]
  },
  {
   "cell_type": "code",
   "execution_count": 26,
   "metadata": {},
   "outputs": [
    {
     "data": {
      "text/plain": [
       "True"
      ]
     },
     "execution_count": 26,
     "metadata": {},
     "output_type": "execute_result"
    }
   ],
   "source": [
    "def shuffle(data):\n",
    "    n = len(data)\n",
    "    res = [None] * n # reshuffled list\n",
    "    taken = [None] * n # list of new indexes taken\n",
    "    for i in range(n):\n",
    "        newIndex = random.randint(0, n-1)\n",
    "        while newIndex in taken: # if the generated index is already taken, pick randomly again\n",
    "            newIndex = random.randint(0, n-1)\n",
    "        taken[i] = newIndex\n",
    "        res[newIndex] = data[i]\n",
    "    return res\n",
    "\n",
    "def test():\n",
    "    for counter in range(50):\n",
    "        data = random_list()\n",
    "        assert set(data) == set(shuffle(data))\n",
    "    return True\n",
    "\n",
    "test()"
   ]
  },
  {
   "cell_type": "markdown",
   "metadata": {},
   "source": [
    "**C-1.21** Write a Python program that repeatedly reads lines from standard input\n",
    "until an `EOFError` is raised, and then outputs those lines in reverse order\n",
    "(a user can indicate end of input by typing `ctrl-D`)."
   ]
  },
  {
   "cell_type": "code",
   "execution_count": 27,
   "metadata": {
    "scrolled": true
   },
   "outputs": [],
   "source": [
    "def reader():\n",
    "    lines = [] # stack would be better\n",
    "    while True:\n",
    "        try:\n",
    "            lines.append(input(\"Enter: \"))\n",
    "        except EOFError:\n",
    "            break\n",
    "    n = len(lines)\n",
    "    for i in range(n):\n",
    "        print(lines[n-i-1])\n",
    "\n",
    "# or\n",
    "# def reader():\n",
    "#     lines = []\n",
    "#     try:\n",
    "#         while True:\n",
    "#             lines.append(input(\"Enter: \"))\n",
    "#     except EOFError:\n",
    "#         n = len(lines)\n",
    "#         for i in range(n):\n",
    "#             print(lines[n-i-1])\n",
    "\n",
    "# reader() # try in command line"
   ]
  },
  {
   "cell_type": "markdown",
   "metadata": {},
   "source": [
    "**C-1.23** Give an example of a Python code fragment that attempts to write an element\n",
    "to a list based on an index that may be out of bounds. If that index\n",
    "is out of bounds, the program should catch the exception that results, and\n",
    "print the following error message: Don’t try buffer overflow attacks in Python!"
   ]
  },
  {
   "cell_type": "code",
   "execution_count": 28,
   "metadata": {},
   "outputs": [
    {
     "name": "stdout",
     "output_type": "stream",
     "text": [
      "Don’t try buffer overflow attacks in Python!\n"
     ]
    }
   ],
   "source": [
    "data = [1,2,3]\n",
    "try:\n",
    "    data[3] = 4\n",
    "except IndexError:\n",
    "    print(\"Don’t try buffer overflow attacks in Python!\")"
   ]
  },
  {
   "cell_type": "markdown",
   "metadata": {},
   "source": [
    "**C-1.24** Write a short Python function that counts the number of vowels in a given\n",
    "character string."
   ]
  },
  {
   "cell_type": "code",
   "execution_count": 29,
   "metadata": {},
   "outputs": [
    {
     "data": {
      "text/plain": [
       "True"
      ]
     },
     "execution_count": 29,
     "metadata": {},
     "output_type": "execute_result"
    }
   ],
   "source": [
    "def count_vowels(s):\n",
    "    counter = 0\n",
    "    for char in s:\n",
    "        if char in ['a', 'e', 'i', 'o', 'u']:\n",
    "            counter += 1\n",
    "    return counter\n",
    "\n",
    "def test():\n",
    "    assert count_vowels('aerawfsdasdawae') == 7\n",
    "    assert count_vowels('') == 0\n",
    "    return True\n",
    "\n",
    "test()"
   ]
  },
  {
   "cell_type": "markdown",
   "metadata": {},
   "source": [
    "**C-1.25** Write a short Python function that takes a string *s*, representing a sentence,\n",
    "and returns a copy of the string with all punctuation removed. For example,\n",
    "if given the string \"Let's try, Mike.\", this function would return\n",
    "\"Lets try Mike\"."
   ]
  },
  {
   "cell_type": "code",
   "execution_count": 30,
   "metadata": {},
   "outputs": [
    {
     "data": {
      "text/plain": [
       "True"
      ]
     },
     "execution_count": 30,
     "metadata": {},
     "output_type": "execute_result"
    }
   ],
   "source": [
    "def remove_punctuation(s):\n",
    "    res = ''\n",
    "    for char in s:\n",
    "        if char not in [',', '.', ';', ':', '?', '!', '\\'', '\"']:\n",
    "            res += char\n",
    "    return res\n",
    "\n",
    "def test():\n",
    "    assert remove_punctuation(\"Let's try, Mike\") == \"Lets try Mike\"\n",
    "    assert remove_punctuation(\"She said: \\\"Let's try, Mike\\\"\") == \"She said Lets try Mike\"\n",
    "    return True\n",
    "\n",
    "test()"
   ]
  },
  {
   "cell_type": "markdown",
   "metadata": {},
   "source": [
    "**C-1.26** Write a short program that takes as input three integers, `a`, `b`, and `c`, from\n",
    "the console and determines if they can be used in a correct arithmetic\n",
    "formula (in the given order), like $a+b = c$, $a = b−c$, or $a ∗ b = c$."
   ]
  },
  {
   "cell_type": "code",
   "execution_count": 31,
   "metadata": {},
   "outputs": [
    {
     "data": {
      "text/plain": [
       "True"
      ]
     },
     "execution_count": 31,
     "metadata": {},
     "output_type": "execute_result"
    }
   ],
   "source": [
    "def formula(a, b, c):\n",
    "    return (a + b == c) or (a - b == c) or (a * b == c) or (a == b + c) or (a == b - c) or (a == b * c)\n",
    "\n",
    "def test():\n",
    "    assert formula(1, 2, 3)\n",
    "    assert formula(10, 2, 5)\n",
    "    assert not formula(2, 3, 4)\n",
    "    return True\n",
    "\n",
    "test()"
   ]
  },
  {
   "cell_type": "markdown",
   "metadata": {},
   "source": [
    "**C-1.27** In Section 1.8, we provided three different implementations of a generator\n",
    "that computes factors of a given integer. The third of those implementations,\n",
    "from page 41, was the most efficient, but we noted that it did not\n",
    "yield the factors in increasing order. Modify the generator so that it reports\n",
    "factors in increasing order, while maintaining its general performance advantages."
   ]
  },
  {
   "cell_type": "code",
   "execution_count": 32,
   "metadata": {},
   "outputs": [
    {
     "data": {
      "text/plain": [
       "True"
      ]
     },
     "execution_count": 32,
     "metadata": {},
     "output_type": "execute_result"
    }
   ],
   "source": [
    "def factors(n):\n",
    "    '''Return the factors of n in a list in increasing order.'''\n",
    "    k = 1\n",
    "    temp = [] # temporarily store the large n // k values that violate the increasing order\n",
    "    # yield k only when k < n // k, and yield n // k separately at the end\n",
    "    while k * k < n: # moments where k < n // k\n",
    "        if n % k == 0:\n",
    "            yield k\n",
    "            temp.append(n // k) # because k is incrementing, n // k is stored in decreasing order\n",
    "        k += 1\n",
    "    if k * k == n: # moment where k == n // k\n",
    "        yield k\n",
    "    for i in reversed(temp): # yield the stored values at the end\n",
    "        yield i\n",
    "\n",
    "def test():\n",
    "    assert list(factors(1)) == [1]\n",
    "    assert list(factors(4)) == [1, 2, 4]\n",
    "    assert list(factors(10)) == [1, 2, 5, 10]\n",
    "    return True\n",
    "\n",
    "test()"
   ]
  },
  {
   "cell_type": "markdown",
   "metadata": {},
   "source": [
    "**C-1.28** The p-norm of a vector $v = (v_1,v_2, \\ldots ,v_n)$ in $n$-dimensional space is defined\n",
    "as \n",
    "$$||v|| = \\sqrt{v_1^p + v_2^p + \\ldots + v_n^p}$$\n",
    "For the special case of $p = 2$, this results in the traditional Euclidean\n",
    "norm, which represents the length of the vector. For example, the Euclidean\n",
    "norm of a two-dimensional vector with coordinates $(4,3)$ has a\n",
    "Euclidean norm of\n",
    "$\\sqrt{4^2 + 3^2} = 5$\n",
    "Give an implementation of a function named `norm` such that `norm(v, p)` returns the `p`-norm\n",
    "value of `v` and `norm(v)` returns the Euclidean norm of `v`. You may assume\n",
    "that `v` is a list of numbers."
   ]
  },
  {
   "cell_type": "code",
   "execution_count": 33,
   "metadata": {},
   "outputs": [
    {
     "data": {
      "text/plain": [
       "True"
      ]
     },
     "execution_count": 33,
     "metadata": {},
     "output_type": "execute_result"
    }
   ],
   "source": [
    "def norm(v, p = 2):\n",
    "    return (sum([x ** p for x in v])) ** (1/p)\n",
    "\n",
    "def test():\n",
    "    assert norm([4, 3], 2) == 5.\n",
    "    assert norm([8, 6], 2) == 10.\n",
    "    return True\n",
    "\n",
    "test()"
   ]
  },
  {
   "cell_type": "markdown",
   "metadata": {},
   "source": [
    "### Projects"
   ]
  },
  {
   "cell_type": "markdown",
   "metadata": {},
   "source": [
    "**P-1.29** Write a Python program that outputs all possible strings formed by using\n",
    "the characters `c`, `a`, `t`, `d`, `o`, and `g` exactly once."
   ]
  },
  {
   "cell_type": "code",
   "execution_count": 34,
   "metadata": {},
   "outputs": [
    {
     "data": {
      "text/plain": [
       "True"
      ]
     },
     "execution_count": 34,
     "metadata": {},
     "output_type": "execute_result"
    }
   ],
   "source": [
    "CHARS = 'catdog'\n",
    "\n",
    "def permute_chars(chars):\n",
    "    charList = [char for char in chars]\n",
    "    n = len(charList)\n",
    "    indexPerms = permute(list(range(n)))\n",
    "    return [[chars[i] for i in indexPerm] for indexPerm in indexPerms]\n",
    "\n",
    "def permute(seq):\n",
    "    '''Return a list of all permutations of seq.'''\n",
    "    n = len(seq)\n",
    "    if n == 0:\n",
    "        return []\n",
    "    elif n == 1:\n",
    "        return [seq]\n",
    "    else:\n",
    "        permutations = []\n",
    "        # append each element to the permutations of the remaining elements\n",
    "        for i in range(n):\n",
    "            fixed = seq[i] # fix the element at index i\n",
    "            seq1 = swap(seq, i, 0) # and swap it to the front\n",
    "            remainingSeqIndex = list(filter(lambda j: j != i, list(range(n)))) # indices of the remaining elements\n",
    "            remainingSeq = [seq[j] for j in remainingSeqIndex] # the remaining sequence without the element at index i\n",
    "            remainingSeqPermute = permute(remainingSeq) # recursively generate permutations of the remaining sequence\n",
    "            for s in remainingSeqPermute: # append the fixed element to these permutations\n",
    "                s.insert(0, fixed) # not that this operation does not return anything\n",
    "            seqPermute = remainingSeqPermute\n",
    "            permutations += seqPermute\n",
    "        return permutations\n",
    "\n",
    "def swap(seq, i1, i2):\n",
    "    '''Return a copy of seq with elements at indices i1 and i2 swapped.'''\n",
    "    seq1 = [x for x in seq]\n",
    "    temp = seq1[i1]\n",
    "    seq1[i1] = seq1[i2]\n",
    "    seq1[i2] = temp\n",
    "    return seq1\n",
    "\n",
    "def factorial(n):\n",
    "    '''Return n! for any positive integer n.'''\n",
    "    if n == 1:\n",
    "        return 1\n",
    "    else:\n",
    "        return n * factorial(n-1)\n",
    "\n",
    "def unique(seq):\n",
    "    '''Return True of sequence contains no duplicates. Compatible with unhashable types, e.g., list of lists, which\n",
    "    cannot be passed to set() to remove duplicates.'''\n",
    "    return len(list(set(tuple(x) for x in seq))) == len(seq)\n",
    "\n",
    "def test():\n",
    "    perms = permute_chars(CHARS)\n",
    "    # check that the number of permutations is n! and that the permutations are unique\n",
    "    assert len(perms) == factorial(len(CHARS)) and unique(perms)\n",
    "    for counter in range(50):\n",
    "        num = random.randint(1, 5)\n",
    "        string = random_string(num)\n",
    "        while not unique(string):\n",
    "            string = random_string(num)\n",
    "        perms = permute_chars(string)\n",
    "        assert len(perms) == factorial(num) and unique(perms)\n",
    "    return True\n",
    "\n",
    "test()"
   ]
  },
  {
   "cell_type": "markdown",
   "metadata": {},
   "source": [
    "**P-1.30** Write a Python program that can take a positive integer greater than 2 as\n",
    "input and write out the number of times one must repeatedly divide this\n",
    "number by 2 before getting a value less than 2."
   ]
  },
  {
   "cell_type": "code",
   "execution_count": 35,
   "metadata": {},
   "outputs": [
    {
     "data": {
      "text/plain": [
       "True"
      ]
     },
     "execution_count": 35,
     "metadata": {},
     "output_type": "execute_result"
    }
   ],
   "source": [
    "def halving_times(n):\n",
    "    if type(n) is not int:\n",
    "        raise ValueError(\"Input must be integer.\")\n",
    "    if n < 2:\n",
    "        return 0\n",
    "    elif n == 2:\n",
    "        return 1\n",
    "    else:\n",
    "        return 1 + halving_times(n//2)\n",
    "\n",
    "def test():\n",
    "    assert halving_times(4) == 2\n",
    "    assert halving_times(9) == 3\n",
    "    for counter in range(50):\n",
    "        num = random.randint(0, 100)\n",
    "        for i in range(halving_times(num)):\n",
    "            num = num // 2\n",
    "        assert num < 2\n",
    "    return True\n",
    "\n",
    "test()"
   ]
  },
  {
   "cell_type": "markdown",
   "metadata": {},
   "source": [
    "**P-1.31** Write a Python program that can \"make change.\" Your program should\n",
    "take two numbers as input, one that is a monetary amount charged and the\n",
    "other that is a monetary amount given. It should then return the number\n",
    "of each kind of bill and coin to give back as change for the difference\n",
    "between the amount given and the amount charged. The values assigned\n",
    "to the bills and coins can be based on the monetary system of any current\n",
    "or former government. Try to design your program so that it returns as\n",
    "few bills and coins as possible."
   ]
  },
  {
   "cell_type": "code",
   "execution_count": 36,
   "metadata": {},
   "outputs": [
    {
     "data": {
      "text/plain": [
       "True"
      ]
     },
     "execution_count": 36,
     "metadata": {},
     "output_type": "execute_result"
    }
   ],
   "source": [
    "BILLS = [1, 2, 5, 10, 20, 50, 100]\n",
    "\n",
    "def helper(charged, given, changes):\n",
    "    '''Return the bills included in the changes as a bill:number dictionary recursively.'''\n",
    "    if given < charged:\n",
    "        raise ValueError(\"Insufficient amount given.\")\n",
    "    diff = given - charged\n",
    "    for bill in reversed(BILLS):\n",
    "        if bill <= diff:\n",
    "            changes[bill] += 1\n",
    "            if bill < diff:\n",
    "                return helper(charged, given - bill, changes) # recursively find changes\n",
    "            else:\n",
    "                return changes\n",
    "        else:\n",
    "            continue\n",
    "    return changes\n",
    "\n",
    "def make_change(charged, given):\n",
    "    initialDict = {bill:0 for bill in BILLS} # initialize dictionary\n",
    "    changes = helper(charged, given, initialDict)\n",
    "    return changes\n",
    "\n",
    "def test():\n",
    "    for counter in range(50):\n",
    "        charged = random.randint(0, 100)\n",
    "        given = random.randint(0, 500)\n",
    "        while given < charged:\n",
    "            given = random.randint(0, 500) # given must be no less than charged\n",
    "        charges = make_change(charged, given)\n",
    "        paid = 0\n",
    "        for k, v in charges.items():\n",
    "            paid += k * v\n",
    "        assert paid == given - charged\n",
    "    return True\n",
    "\n",
    "test()"
   ]
  },
  {
   "cell_type": "markdown",
   "metadata": {},
   "source": [
    "**P-1.32** Write a Python program that can simulate a simple calculator, using the\n",
    "console as the exclusive input and output device. That is, each input to the\n",
    "calculator, be it a number, like `12.34` or `1034`, or an operator, like `+` or `=`,\n",
    "can be done on a separate line. After each such input, you should output\n",
    "to the Python console what would be displayed on your calculator."
   ]
  },
  {
   "cell_type": "code",
   "execution_count": 37,
   "metadata": {},
   "outputs": [
    {
     "name": "stdout",
     "output_type": "stream",
     "text": [
      "100\n",
      "/\n",
      "3\n",
      "= 33.333333333333336\n"
     ]
    }
   ],
   "source": [
    "def simple_calculator(): # does not handle parentheses\n",
    "    num1 = to_numeric(input())\n",
    "    op = input()\n",
    "    num2 = to_numeric(input())\n",
    "    if op == '+':\n",
    "        print('= ' + str(num1 + num2))\n",
    "    elif op == '-':\n",
    "        print('= ' + str(num1 - num2))\n",
    "    elif op == '*':\n",
    "        print('= ' + str(num1 * num2))\n",
    "    else:\n",
    "        print('= ' + str(num1 / num2))\n",
    "\n",
    "def to_numeric(num):\n",
    "    if '.' in num:\n",
    "        return float(num)\n",
    "    else:\n",
    "        return int(num)\n",
    "\n",
    "simple_calculator()"
   ]
  },
  {
   "cell_type": "markdown",
   "metadata": {},
   "source": [
    "**P-1.33** Write a Python program that simulates a handheld calculator. Your program\n",
    "should process input from the Python console representing buttons\n",
    "that are \"pushed,\" and then output the contents of the screen after each operation\n",
    "is performed. Minimally, your calculator should be able to process\n",
    "the basic arithmetic operations and a reset/clear operation."
   ]
  },
  {
   "cell_type": "code",
   "execution_count": 38,
   "metadata": {},
   "outputs": [],
   "source": [
    "# Without using other modules?"
   ]
  },
  {
   "cell_type": "markdown",
   "metadata": {},
   "source": [
    "**P-1.34** A common punishment for school children is to write out a sentence multiple\n",
    "times. Write a Python stand-alone program that will write out the\n",
    "following sentence one hundred times: \"I will never spam my friends\n",
    "again.\" Your program should number each of the sentences and it should\n",
    "make eight different random-looking typos."
   ]
  },
  {
   "cell_type": "code",
   "execution_count": 39,
   "metadata": {},
   "outputs": [
    {
     "name": "stdout",
     "output_type": "stream",
     "text": [
      "[36, 18, 75, 92, 95, 81, 74, 42]\n",
      "1. I will never spam my friends again.\n",
      "2. I will never spam my friends again.\n",
      "3. I will never spam my friends again.\n",
      "4. I will never spam my friends again.\n",
      "5. I will never spam my friends again.\n",
      "6. I will never spam my friends again.\n",
      "7. I will never spam my friends again.\n",
      "8. I will never spam my friends again.\n",
      "9. I will never spam my friends again.\n",
      "10. I will never spam my friends again.\n",
      "11. I will never spam my friends again.\n",
      "12. I will never spam my friends again.\n",
      "13. I will never spam my friends again.\n",
      "14. I will never spam my friends again.\n",
      "15. I will never spam my friends again.\n",
      "16. I will never spam my friends again.\n",
      "17. I will never spam my friends again.\n",
      "18. I will never spam my friends again.\n",
      "19. I wifl never spam my friends again.\n",
      "20. I will never spam my friends again.\n",
      "21. I will never spam my friends again.\n",
      "22. I will never spam my friends again.\n",
      "23. I will never spam my friends again.\n",
      "24. I will never spam my friends again.\n",
      "25. I will never spam my friends again.\n",
      "26. I will never spam my friends again.\n",
      "27. I will never spam my friends again.\n",
      "28. I will never spam my friends again.\n",
      "29. I will never spam my friends again.\n",
      "30. I will never spam my friends again.\n",
      "31. I will never spam my friends again.\n",
      "32. I will never spam my friends again.\n",
      "33. I will never spam my friends again.\n",
      "34. I will never spam my friends again.\n",
      "35. I will never spam my friends again.\n",
      "36. I will never spam my friends again.\n",
      "37. z will never spam my friends again.\n",
      "38. I will never spam my friends again.\n",
      "39. I will never spam my friends again.\n",
      "40. I will never spam my friends again.\n",
      "41. I will never spam my friends again.\n",
      "42. I will never spam my friends again.\n",
      "43. I will never spam my frienms again.\n",
      "44. I will never spam my friends again.\n",
      "45. I will never spam my friends again.\n",
      "46. I will never spam my friends again.\n",
      "47. I will never spam my friends again.\n",
      "48. I will never spam my friends again.\n",
      "49. I will never spam my friends again.\n",
      "50. I will never spam my friends again.\n",
      "51. I will never spam my friends again.\n",
      "52. I will never spam my friends again.\n",
      "53. I will never spam my friends again.\n",
      "54. I will never spam my friends again.\n",
      "55. I will never spam my friends again.\n",
      "56. I will never spam my friends again.\n",
      "57. I will never spam my friends again.\n",
      "58. I will never spam my friends again.\n",
      "59. I will never spam my friends again.\n",
      "60. I will never spam my friends again.\n",
      "61. I will never spam my friends again.\n",
      "62. I will never spam my friends again.\n",
      "63. I will never spam my friends again.\n",
      "64. I will never spam my friends again.\n",
      "65. I will never spam my friends again.\n",
      "66. I will never spam my friends again.\n",
      "67. I will never spam my friends again.\n",
      "68. I will never spam my friends again.\n",
      "69. I will never spam my friends again.\n",
      "70. I will never spam my friends again.\n",
      "71. I will never spam my friends again.\n",
      "72. I will never spam my friends again.\n",
      "73. I will never spam my friends again.\n",
      "74. I will never spam my friends again.\n",
      "75. I will necer spam my friends again.\n",
      "76. I will never spam my friends wgain.\n",
      "77. I will never spam my friends again.\n",
      "78. I will never spam my friends again.\n",
      "79. I will never spam my friends again.\n",
      "80. I will never spam my friends again.\n",
      "81. I will never spam my friends again.\n",
      "82. I will never spam my friemds again.\n",
      "83. I will never spam my friends again.\n",
      "84. I will never spam my friends again.\n",
      "85. I will never spam my friends again.\n",
      "86. I will never spam my friends again.\n",
      "87. I will never spam my friends again.\n",
      "88. I will never spam my friends again.\n",
      "89. I will never spam my friends again.\n",
      "90. I will never spam my friends again.\n",
      "91. I will never spam my friends again.\n",
      "92. I will never spam my friends again.\n",
      "93. I will never spam ma friends again.\n",
      "94. I will never spam my friends again.\n",
      "95. I will never spam my friends again.\n",
      "96. I will never spam my friends agaie.\n",
      "97. I will never spam my friends again.\n",
      "98. I will never spam my friends again.\n",
      "99. I will never spam my friends again.\n",
      "100. I will never spam my friends again.\n"
     ]
    }
   ],
   "source": [
    "SENTENCE = 'I will never spam my friends again.'\n",
    "\n",
    "def writer():\n",
    "    n = len(SENTENCE)\n",
    "    randomSentNums = random.sample(range(0, 100), 8) # indices of sentences to contain typo\n",
    "    print(randomSentNums)\n",
    "    randomIndices = [] # indices of characters to be typos in 8 of the sentences\n",
    "    for i in range(100):\n",
    "        if i in randomSentNums:\n",
    "            sentence = SENTENCE\n",
    "            sentenceList = [char for char in SENTENCE]\n",
    "            index = random.randint(0, n-1)\n",
    "            while index in randomIndices:\n",
    "                index = random.randint(0, n-1) # typos should be different\n",
    "            typo = random_char()\n",
    "            while typo == sentence[index]: # typo should differ from original character in the sentence\n",
    "                typo = random_char()\n",
    "            sentenceList[index] = typo\n",
    "            print(str(i+1) + '. ' + ''.join(sentenceList))\n",
    "        else:\n",
    "            print(str(i+1) + '. ' + SENTENCE)\n",
    "            \n",
    "\n",
    "writer()"
   ]
  },
  {
   "cell_type": "markdown",
   "metadata": {},
   "source": [
    "**P-1.35** The birthday paradox says that the probability that two people in a room\n",
    "will have the same birthday is more than half, provided `n`, the number of\n",
    "people in the room, is more than 23. This property is not really a paradox,\n",
    "but many people find it surprising. Design a Python program that can test\n",
    "this paradox by a series of experiments on randomly generated birthdays,\n",
    "which test this paradox for `n = 5, 10, 15, 20, ..., 100`."
   ]
  },
  {
   "cell_type": "code",
   "execution_count": 40,
   "metadata": {},
   "outputs": [
    {
     "data": {
      "text/plain": [
       "{5: 0.020000000000000018,\n",
       " 10: 0.13,\n",
       " 15: 0.27,\n",
       " 20: 0.51,\n",
       " 25: 0.53,\n",
       " 30: 0.7,\n",
       " 35: 0.85,\n",
       " 40: 0.84,\n",
       " 45: 0.94,\n",
       " 50: 0.96,\n",
       " 55: 0.97,\n",
       " 60: 0.99,\n",
       " 65: 1.0,\n",
       " 70: 1.0,\n",
       " 75: 1.0,\n",
       " 80: 1.0,\n",
       " 85: 1.0,\n",
       " 90: 1.0,\n",
       " 95: 1.0,\n",
       " 100: 1.0}"
      ]
     },
     "execution_count": 40,
     "metadata": {},
     "output_type": "execute_result"
    }
   ],
   "source": [
    "def random_bDay():\n",
    "    '''Return a Birthday object with randomly generated month and day. Does not account for leap year.'''\n",
    "    month = random.randint(1, 12)\n",
    "    if month in (1, 3, 5, 7, 8, 10, 12):\n",
    "        day = random.randint(1, 31)\n",
    "    else:\n",
    "        day = random.randint(1, 30)\n",
    "    return month, day\n",
    "\n",
    "def tester():\n",
    "    '''Simulate the probability that two people among n have the same birthday for n = 5, 10, ..., 100.'''\n",
    "    probs = {n:0 for n in range(5, 105, 5)}\n",
    "    for n in range(5, 105, 5):\n",
    "        counter = 0 # number of times no two people have the same birthday in 100 experiments\n",
    "        for experiment in range(100): # run experiments 100 times\n",
    "            bDays = []\n",
    "            sameBdayNum = 0 # number of people with the same birthday\n",
    "            for i in range(n):\n",
    "                bDay = random_bDay()\n",
    "                if bDay in bDays:\n",
    "                    sameBdayNum += 1\n",
    "                bDays.append(bDay)\n",
    "            if sameBdayNum == 0: # if no two people have the same birthday\n",
    "                counter += 1\n",
    "        probs[n] = 1 - counter/100 # probability that at least two people have the same birthday\n",
    "    return probs\n",
    "        \n",
    "tester()"
   ]
  },
  {
   "cell_type": "markdown",
   "metadata": {},
   "source": [
    "**P-1.36** Write a Python program that inputs a list of words, separated by whitespace,\n",
    "and outputs how many times each word appears in the list. You\n",
    "need not worry about efficiency at this point, however, as this topic is\n",
    "something that will be addressed later in this book."
   ]
  },
  {
   "cell_type": "code",
   "execution_count": 41,
   "metadata": {},
   "outputs": [
    {
     "data": {
      "text/plain": [
       "True"
      ]
     },
     "execution_count": 41,
     "metadata": {},
     "output_type": "execute_result"
    }
   ],
   "source": [
    "def word_count(words):\n",
    "    counter = {word:0 for word in set(words)}\n",
    "    for word in words:\n",
    "        counter[word] += 1\n",
    "    return counter\n",
    "\n",
    "def test():\n",
    "    words = ['I', 'see', 'you', 'I', 'hear', 'you']\n",
    "    counter = word_count(words)\n",
    "    assert counter['I'] == 2\n",
    "    return True\n",
    "\n",
    "test()"
   ]
  },
  {
   "cell_type": "markdown",
   "metadata": {},
   "source": [
    "# Object-Oriented Programming\n",
    "\n",
    "## Class definitions\n",
    "\n",
    "### Credit card"
   ]
  },
  {
   "cell_type": "code",
   "execution_count": 42,
   "metadata": {},
   "outputs": [],
   "source": [
    "class CreditCard:\n",
    "    \"\"\"A consumer credit card.\"\"\"\n",
    "    \n",
    "    def __init__(self, customer, bank, account, limit):\n",
    "        \"\"\"Create a new credit card instance.\n",
    "        \n",
    "        customer    name of the customer\n",
    "        bank        name of the bank\n",
    "        account     account identifier stored as string\n",
    "        limit       credit limit in USD\n",
    "        \n",
    "        Initial balance is 0.\n",
    "        \"\"\"\n",
    "        self._customer = customer\n",
    "        self._bank = bank\n",
    "        self._account = account\n",
    "        self._limit = limit\n",
    "        self._balance = 0\n",
    "        \n",
    "    def get_customer(self):\n",
    "        \"\"\"Return name of the customer.\"\"\"\n",
    "        return self._customer\n",
    "    \n",
    "    def get_bank(self):\n",
    "        \"\"\"Return name of the bank.\"\"\"\n",
    "        return self._bank\n",
    "    \n",
    "    def get_account(self):\n",
    "        \"\"\"Return account identifying number.\"\"\"\n",
    "        return self._account\n",
    "    \n",
    "    def get_limit(self):\n",
    "        \"\"\"Return credit limit.\"\"\"\n",
    "        return self._limit\n",
    "    \n",
    "    def get_balance(self):\n",
    "        \"\"\"Return balance.\"\"\"\n",
    "        return self._balance\n",
    "    \n",
    "    def charge(self, price):\n",
    "        \"\"\"Charge given price to the card.\n",
    "        \n",
    "        Return True if charge was processed and False if charge was denied.\n",
    "        \"\"\"\n",
    "        if price + self._balance > self._limit: # if charge exceeds limit\n",
    "            return False # cannot accept charge\n",
    "        else:\n",
    "            self._balance += price\n",
    "            return True\n",
    "        \n",
    "    def make_payment(self, amount):\n",
    "        \"\"\"Process payment by reducing balance by the given amount.\"\"\"\n",
    "        self._balance -= amount"
   ]
  },
  {
   "cell_type": "code",
   "execution_count": 43,
   "metadata": {},
   "outputs": [
    {
     "name": "stdout",
     "output_type": "stream",
     "text": [
      "Customer =  John Bowman\n",
      "Bank =  California Savings\n",
      "Account =  5391 0375 9387 5309\n",
      "Limit =  2500\n",
      "Balance =  136\n",
      "New balance =  36\n",
      "\n",
      "Customer =  John Bowman\n",
      "Bank =  California Federal\n",
      "Account =  3485 0399 3395 1954\n",
      "Limit =  3500\n",
      "Balance =  272\n",
      "New balance =  172\n",
      "New balance =  72\n",
      "\n",
      "Customer =  John Bowman\n",
      "Bank =  California Finance\n",
      "Account =  5391 0375 9387 5309\n",
      "Limit =  5000\n",
      "Balance =  408\n",
      "New balance =  308\n",
      "New balance =  208\n",
      "New balance =  108\n",
      "New balance =  8\n",
      "\n"
     ]
    }
   ],
   "source": [
    "if __name__ == '__main__':\n",
    "    wallet = []\n",
    "    wallet.append(CreditCard('John Bowman', 'California Savings', '5391 0375 9387 5309', 2500))\n",
    "    wallet.append(CreditCard('John Bowman', 'California Federal', '3485 0399 3395 1954', 3500))\n",
    "    wallet.append(CreditCard('John Bowman', 'California Finance', '5391 0375 9387 5309', 5000))\n",
    "\n",
    "    for val in range(1, 17):\n",
    "        wallet[0].charge(val)\n",
    "        wallet[1].charge(2*val)\n",
    "        wallet[2].charge(3*val)\n",
    "\n",
    "    for c in range(3):\n",
    "        print('Customer = ', wallet[c].get_customer())\n",
    "        print('Bank = ', wallet[c].get_bank())\n",
    "        print('Account = ', wallet[c].get_account())\n",
    "        print('Limit = ', wallet[c].get_limit())\n",
    "        print('Balance = ', wallet[c].get_balance())\n",
    "        while wallet[c].get_balance() > 100:\n",
    "            wallet[c].make_payment(100)\n",
    "            print('New balance = ', wallet[c].get_balance())\n",
    "        print()"
   ]
  },
  {
   "cell_type": "markdown",
   "metadata": {},
   "source": [
    "### Multidimensional vector"
   ]
  },
  {
   "cell_type": "code",
   "execution_count": 44,
   "metadata": {},
   "outputs": [],
   "source": [
    "class Vector:\n",
    "    \"\"\"Represent a vector in a multidimensional space.\"\"\"\n",
    "    \n",
    "    def __init__(self, d):\n",
    "        \"\"\"Create a d-dimensional vector of zeros.\"\"\"\n",
    "        self._container = [0] * d\n",
    "    \n",
    "    def __len__(self):\n",
    "        \"\"\"Return the length of vector.\"\"\"\n",
    "        return len(self._container)\n",
    "    \n",
    "    def __getitem__(self, i):\n",
    "        \"\"\"Return the i-th coordinate of vector.\"\"\"\n",
    "        if i < 0 or i > len(self):\n",
    "            raise ValueError(\"Index out of range.\")\n",
    "        return self._container[i]\n",
    "    \n",
    "    def __setitem__(self, i, value):\n",
    "        \"\"\"Set the i-th coordinate of vector to given value.\"\"\"\n",
    "        if i < 0 or i > len(self):\n",
    "            raise ValueError(\"Index out of range.\")\n",
    "        self._container[i] = value\n",
    "    \n",
    "    def __add__(self, other):\n",
    "        \"\"\"Return the sum of two vectors.\"\"\"\n",
    "        if len(self) != len(other):\n",
    "            raise ValueError(\"Addition not allowed on vectors with different lengths.\")\n",
    "        d = len(self)\n",
    "        new = Vector(d)\n",
    "        for i in range(d):\n",
    "            new[i] = self[i] + other[i]\n",
    "        return new\n",
    "    \n",
    "    def __eq__(self, other):\n",
    "        \"\"\"Return True if the two vectors are the same entry-wise.\"\"\"\n",
    "        return self._container == other._container\n",
    "    \n",
    "    def __ne__(self, other):\n",
    "        \"\"\"Return True if the two vectors differ in some coordinate.\"\"\"\n",
    "        return not self == other # rely on existing __eq__()\n",
    "    \n",
    "    def str(self):\n",
    "        \"\"\"Produce string representation of vector.\"\"\"\n",
    "        return '<' + str(self. coords)[1:-1] + '>'"
   ]
  },
  {
   "cell_type": "code",
   "execution_count": 45,
   "metadata": {
    "scrolled": true
   },
   "outputs": [
    {
     "name": "stdout",
     "output_type": "stream",
     "text": [
      "Help on class Vector in module __main__:\n",
      "\n",
      "class Vector(builtins.object)\n",
      " |  Vector(d)\n",
      " |  \n",
      " |  Represent a vector in a multidimensional space.\n",
      " |  \n",
      " |  Methods defined here:\n",
      " |  \n",
      " |  __add__(self, other)\n",
      " |      Return the sum of two vectors.\n",
      " |  \n",
      " |  __eq__(self, other)\n",
      " |      Return True if the two vectors are the same entry-wise.\n",
      " |  \n",
      " |  __getitem__(self, i)\n",
      " |      Return the i-th coordinate of vector.\n",
      " |  \n",
      " |  __init__(self, d)\n",
      " |      Create a d-dimensional vector of zeros.\n",
      " |  \n",
      " |  __len__(self)\n",
      " |      Return the length of vector.\n",
      " |  \n",
      " |  __ne__(self, other)\n",
      " |      Return True if the two vectors differ in some coordinate.\n",
      " |  \n",
      " |  __setitem__(self, i, value)\n",
      " |      Set the i-th coordinate of vector to given value.\n",
      " |  \n",
      " |  str(self)\n",
      " |      Produce string representation of vector.\n",
      " |  \n",
      " |  ----------------------------------------------------------------------\n",
      " |  Data descriptors defined here:\n",
      " |  \n",
      " |  __dict__\n",
      " |      dictionary for instance variables (if defined)\n",
      " |  \n",
      " |  __weakref__\n",
      " |      list of weak references to the object (if defined)\n",
      " |  \n",
      " |  ----------------------------------------------------------------------\n",
      " |  Data and other attributes defined here:\n",
      " |  \n",
      " |  __hash__ = None\n",
      "\n"
     ]
    }
   ],
   "source": [
    "help(Vector)"
   ]
  },
  {
   "cell_type": "markdown",
   "metadata": {},
   "source": [
    "### Iterator"
   ]
  },
  {
   "cell_type": "code",
   "execution_count": 46,
   "metadata": {},
   "outputs": [],
   "source": [
    "class SequenceIterator:\n",
    "    \"\"\"An iterator for any of Python's sequence types\"\"\"\n",
    "    \n",
    "    def __init__(self, sequence):\n",
    "        \"\"\"Create an iterator for the given sequence.\"\"\"\n",
    "        self._seq = sequence # keep a reference to the underlying data\n",
    "        self._k = -1 # will increment to 0 on first call to next\n",
    "    \n",
    "    def __next__(self):\n",
    "        \"\"\"Return the next element if it exists and raise StopIteration otherwise.\"\"\"\n",
    "        self._k += 1 # advance to the next index\n",
    "        if self._k < len(self._seq): # if there are remaining elements, return the next one\n",
    "            return self._seq[self._k]\n",
    "        else: # if not, raise error\n",
    "            raise StopIteration()\n",
    "    \n",
    "    def __iter__(self):\n",
    "        \"\"\"Return the iterator itself.\"\"\"\n",
    "        return self"
   ]
  },
  {
   "cell_type": "code",
   "execution_count": 47,
   "metadata": {},
   "outputs": [
    {
     "name": "stdout",
     "output_type": "stream",
     "text": [
      "1\n",
      "2\n",
      "3\n"
     ]
    }
   ],
   "source": [
    "seqIter = SequenceIterator([1,2,3])\n",
    "for i in range(3):\n",
    "    print(next(seqIter))"
   ]
  },
  {
   "cell_type": "markdown",
   "metadata": {},
   "source": [
    "#### Range class"
   ]
  },
  {
   "cell_type": "code",
   "execution_count": 48,
   "metadata": {},
   "outputs": [],
   "source": [
    "class Range:\n",
    "    \"\"\"A class that mimics the built-in range class with lazy evaluation.\"\"\"\n",
    "    \n",
    "    def __init__(self, start, stop=None, step=1):\n",
    "        \"\"\"Initializes a Range instance.\n",
    "        \n",
    "        Semantics is similar to the built-in range class.\n",
    "        \"\"\"\n",
    "        if step == 0:\n",
    "            raise ValueError('step cannot be 0')\n",
    "        \n",
    "        if stop is None: # special case of range(n)\n",
    "            start, stop = 0, start # treat it as range(0, n)\n",
    "        \n",
    "        # calculate the effective length\n",
    "        self._length = max(0, (stop - start + step - 1) // step)\n",
    "        \n",
    "        # need start and step to support __getitem__\n",
    "        self._start = start\n",
    "        self._step = step\n",
    "    \n",
    "    def __len__(self):\n",
    "        \"\"\"Return number of entries in the range.\"\"\"\n",
    "        return self._length\n",
    "    \n",
    "    def __getitem__(self, k):\n",
    "        \"\"\"Return entry at index k.\"\"\"\n",
    "        if k < 0:\n",
    "            k += len(self)\n",
    "        if not (0 <= k and k < self._length):\n",
    "            raise IndexError('Index out of range')\n",
    "        return self._start + k * self._step"
   ]
  },
  {
   "cell_type": "code",
   "execution_count": 49,
   "metadata": {},
   "outputs": [
    {
     "name": "stdout",
     "output_type": "stream",
     "text": [
      "4\n",
      "0\n",
      "3\n",
      "6\n",
      "9\n"
     ]
    }
   ],
   "source": [
    "r = Range(0,10,3)\n",
    "print(len(r))\n",
    "for i in r:\n",
    "    print(i)"
   ]
  },
  {
   "cell_type": "markdown",
   "metadata": {},
   "source": [
    "## Inheritance\n",
    "\n",
    "### Extending the credit card class"
   ]
  },
  {
   "cell_type": "code",
   "execution_count": 50,
   "metadata": {},
   "outputs": [],
   "source": [
    "class PredatoryCreditCard(CreditCard):\n",
    "    \"\"\"An extension to CreditCard that compounds interest and fees.\"\"\"\n",
    "    \n",
    "    def __init__(self, customer, bank, account, limit, apr):\n",
    "        \"\"\"Create a new predatory credit card instance.\n",
    "        \n",
    "        customer    name of the customer\n",
    "        bank        name of the bank\n",
    "        account     account identifier\n",
    "        limit       credit limit in USD\n",
    "        apr         annual percentage rate\n",
    "        \n",
    "        Initial balance is 0.\n",
    "        \"\"\"\n",
    "        super().__init__(customer, bank, account, limit) # call super constructor to create self._customer, ..., self._limit\n",
    "        self._apr = apr\n",
    "        \n",
    "    def charge(self, price):\n",
    "        \"\"\"Charge given price to the card.\n",
    "        \n",
    "        Return True if charge was processed.\n",
    "        Return False and assess $5 fee if charge is denied.\n",
    "        \"\"\"\n",
    "        success = super().charge(price) # call inherited method\n",
    "        if not success:\n",
    "            self._balance += 5 # assess penalty\n",
    "        return success\n",
    "    \n",
    "    def process_month(self):\n",
    "        \"\"\"Assess monthly interest on outstanding balance.\"\"\"\n",
    "        if self._balance > 0:\n",
    "            self._balance *= pow(1 + self._apr, 1/12)"
   ]
  },
  {
   "cell_type": "markdown",
   "metadata": {},
   "source": [
    "### Hierarchy of Numeric Progressions\n",
    "\n",
    "#### Progression base class"
   ]
  },
  {
   "cell_type": "code",
   "execution_count": 51,
   "metadata": {},
   "outputs": [],
   "source": [
    "class Progression:\n",
    "    \"\"\"Iterator producing a generic progression.\n",
    "    \n",
    "    Default iterator produces the whole numbers 0, 1, 2, ...\n",
    "    \"\"\"\n",
    "    \n",
    "    def __init__(self, start = 0):\n",
    "        \"\"\"Create a new instance of the Progression class.\n",
    "        \n",
    "        Current field is initialized to the first value of the progression.\"\"\"\n",
    "        self._current = start\n",
    "    \n",
    "    def _advance(self):\n",
    "        \"\"\"Update self._current to a new value.\n",
    "        \n",
    "        This should be overwritten by a subclass to customize progression.\n",
    "        \n",
    "        By convention, if current is set to None, this means the end of a finite progression.\n",
    "        \"\"\"\n",
    "        self._current += 1\n",
    "    \n",
    "    def __next__(self):\n",
    "        \"\"\"Return the next element, or else raise StopIteration error.\"\"\"\n",
    "        if self._current is None:\n",
    "            raise StopIteration()\n",
    "        else:\n",
    "            answer = self._current # record current value to return\n",
    "            self._advance() # advance current value to prepare for the next return\n",
    "            return answer\n",
    "    \n",
    "    def __iter__(self):\n",
    "        \"\"\"By convention, an iterator must return itself as an iterator.\"\"\"\n",
    "        return self\n",
    "    \n",
    "    def print_progression(self, n):\n",
    "        \"\"\"Print next n values of the progression.\"\"\"\n",
    "        print(' '.join(str(next(self)) for j in range(n)))"
   ]
  },
  {
   "cell_type": "code",
   "execution_count": 52,
   "metadata": {},
   "outputs": [
    {
     "name": "stdout",
     "output_type": "stream",
     "text": [
      "0 1 2 3 4 5 6 7 8 9\n"
     ]
    }
   ],
   "source": [
    "seq = Progression()\n",
    "seq.print_progression(10)"
   ]
  },
  {
   "cell_type": "markdown",
   "metadata": {},
   "source": [
    "#### Arithmetic progression class"
   ]
  },
  {
   "cell_type": "code",
   "execution_count": 53,
   "metadata": {},
   "outputs": [],
   "source": [
    "class ArithmeticProgression(Progression): # inherti from Progression class\n",
    "    \"\"\"Iterator producing an arithmetic progression.\"\"\"\n",
    "    \n",
    "    def __init__(self, constant=1, start=0):\n",
    "        \"\"\"Create a new arithmetic progression.\n",
    "        \n",
    "        constant    the fixed constant to add to each term (default 1)\n",
    "        start        the first term of the progression (default 0)\n",
    "        \"\"\"\n",
    "        super().__init__(start) # initialize base class\n",
    "        self._constant = constant\n",
    "    \n",
    "    def _advance(self): # override the inherited method\n",
    "        \"\"\"Update current value by adding self._constant.\"\"\"\n",
    "        self._current += self._constant"
   ]
  },
  {
   "cell_type": "code",
   "execution_count": 54,
   "metadata": {},
   "outputs": [
    {
     "name": "stdout",
     "output_type": "stream",
     "text": [
      "1 11 21 31 41 51 61 71 81 91\n"
     ]
    }
   ],
   "source": [
    "seq = ArithmeticProgression(10, 1)\n",
    "seq.print_progression(10)"
   ]
  },
  {
   "cell_type": "markdown",
   "metadata": {},
   "source": [
    "#### Geometric progression class"
   ]
  },
  {
   "cell_type": "code",
   "execution_count": 55,
   "metadata": {},
   "outputs": [],
   "source": [
    "class GeometricProgression(Progression):\n",
    "    \"\"\"Iterator producing a geometric progression.\"\"\"\n",
    "    \n",
    "    def __init__(self, constant=2, start=1):\n",
    "        \"\"\"Create a new geometric progression.\n",
    "        \n",
    "        constant    the fixed constant to multiply each term by (default 2)\n",
    "        start       the first term of the progression (default 1)\n",
    "        \"\"\"\n",
    "        super().__init__(start)\n",
    "        self._constant = constant\n",
    "    \n",
    "    def _advance(self): # override inherited method\n",
    "        \"\"\"Udpate current value by multiplying self._constant.\"\"\"\n",
    "        self._current *= self._constant"
   ]
  },
  {
   "cell_type": "code",
   "execution_count": 56,
   "metadata": {
    "scrolled": true
   },
   "outputs": [
    {
     "name": "stdout",
     "output_type": "stream",
     "text": [
      "1 5 25 125 625 3125 15625 78125 390625 1953125\n"
     ]
    }
   ],
   "source": [
    "seq = GeometricProgression(5, 1)\n",
    "seq.print_progression(10)"
   ]
  },
  {
   "cell_type": "markdown",
   "metadata": {},
   "source": [
    "#### Fibonacci progression class"
   ]
  },
  {
   "cell_type": "code",
   "execution_count": 57,
   "metadata": {},
   "outputs": [],
   "source": [
    "class FibonacciProgression(Progression):\n",
    "    \"\"\"Iterator producing a Fibonacci progression.\"\"\"\n",
    "    \n",
    "    def __init__(self, first=0, second=1):\n",
    "        \"\"\"Create a new fibonacci progression.\n",
    "        \n",
    "        first    the first term of the progression (default 0)\n",
    "        second   the second term of the progression (default 1)\n",
    "        \"\"\"\n",
    "        super().__init__(first) # start porgression at first\n",
    "        self._prev = second - first # field storing value preceding first\n",
    "    \n",
    "    def _advance(self):\n",
    "        \"\"\"Update self._current by summing self._prev and self._current.\"\"\"\n",
    "        self._prev, self._current = self._current, self._prev + self._current\n",
    "        # at the first iteration, self._prev becomes first and self._current becomes (second - first) + first = second"
   ]
  },
  {
   "cell_type": "code",
   "execution_count": 58,
   "metadata": {},
   "outputs": [
    {
     "name": "stdout",
     "output_type": "stream",
     "text": [
      "0 1 1 2 3 5 8 13 21 34\n"
     ]
    }
   ],
   "source": [
    "seq = FibonacciProgression(0, 1)\n",
    "seq.print_progression(10)"
   ]
  },
  {
   "cell_type": "code",
   "execution_count": 59,
   "metadata": {},
   "outputs": [
    {
     "name": "stdout",
     "output_type": "stream",
     "text": [
      "Default progression:\n",
      "0 1 2 3 4 5 6 7 8 9\n",
      "Arithmetic progression with increment 5:\n",
      "0 5 10 15 20 25 30 35 40 45\n",
      "Arithmetic progression with increment 5 and start 2:\n",
      "2 7 12 17 22 27 32 37 42 47\n",
      "Geometric progression with default base:\n",
      "1 2 4 8 16 32 64 128 256 512\n",
      "Geometric progression with base 3:\n",
      "1 3 9 27 81 243 729 2187 6561 19683\n",
      "Fibonacci progression with default start values:\n",
      "0 1 1 2 3 5 8 13 21 34\n",
      "Fibonacci progression with start values 4 and 6:\n",
      "4 6 10 16 26 42 68 110 178 288\n"
     ]
    }
   ],
   "source": [
    "if __name__ == '__main__':\n",
    "    print('Default progression:')\n",
    "    Progression().print_progression(10)\n",
    "    print('Arithmetic progression with increment 5:')\n",
    "    ArithmeticProgression(5).print_progression(10)\n",
    "    print('Arithmetic progression with increment 5 and start 2:')\n",
    "    ArithmeticProgression(5, 2).print_progression(10)\n",
    "    print('Geometric progression with default base:')\n",
    "    GeometricProgression().print_progression(10)\n",
    "    print('Geometric progression with base 3:')\n",
    "    GeometricProgression(3).print_progression(10)\n",
    "    print('Fibonacci progression with default start values:')\n",
    "    FibonacciProgression().print_progression(10)\n",
    "    print('Fibonacci progression with start values 4 and 6:')\n",
    "    FibonacciProgression(4, 6).print_progression(10)"
   ]
  },
  {
   "cell_type": "markdown",
   "metadata": {},
   "source": [
    "### Abstract base class"
   ]
  },
  {
   "cell_type": "code",
   "execution_count": 60,
   "metadata": {},
   "outputs": [],
   "source": [
    "from abc import ABCMeta, abstractmethod\n",
    "\n",
    "class Sequence(metaclass=ABCMeta):\n",
    "    \"\"\"Our own version of the collections.Sequence abstract base class.\"\"\"\n",
    "    \n",
    "    @abstractmethod\n",
    "    def __len__(self):\n",
    "        \"\"\"Return the length of the sequence.\"\"\"\n",
    "    \n",
    "    @abstractmethod\n",
    "    def __getitem__(self, j):\n",
    "        \"\"\"Return the element at index j of the sequence.\"\"\"\n",
    "    \n",
    "    def __contains__(self, val):\n",
    "        \"\"\"Return True if val found in the sequence.\"\"\"\n",
    "        for i in range(len(self)):\n",
    "            if self[i] == val: # found match\n",
    "                return True\n",
    "        return False\n",
    "    \n",
    "    def index(self, val):\n",
    "        \"\"\"Return the leftmost index at which val is found, or raise ValueError.\"\"\"\n",
    "        for i in range(len(self)):\n",
    "            if self[i] == val: # leftmost match\n",
    "                return i\n",
    "        raise ValueError('Value not in sequence.')\n",
    "    \n",
    "    def count(self, val):\n",
    "        \"\"\"Return the number of elements equal to val.\"\"\"\n",
    "        counter = 0\n",
    "        for i in range(len(self)):\n",
    "            if self[i] == val: # found a match\n",
    "                counter += 1\n",
    "        return counter"
   ]
  },
  {
   "cell_type": "code",
   "execution_count": 61,
   "metadata": {},
   "outputs": [],
   "source": [
    "# seq = Sequence()\n",
    "# ---------------------------------------------------------------------------\n",
    "# TypeError                                 Traceback (most recent call last)\n",
    "# <ipython-input-3-08d12196f33e> in <module>\n",
    "# ----> 1 seq = Sequence()\n",
    "\n",
    "# TypeError: Can't instantiate abstract class Sequence with abstract methods __getitem__, __len__"
   ]
  },
  {
   "cell_type": "markdown",
   "metadata": {},
   "source": [
    "## Namespaces and object orientation"
   ]
  },
  {
   "cell_type": "code",
   "execution_count": 62,
   "metadata": {},
   "outputs": [
    {
     "data": {
      "text/plain": [
       "0.1723425000000134"
      ]
     },
     "execution_count": 62,
     "metadata": {},
     "output_type": "execute_result"
    }
   ],
   "source": [
    "import timeit\n",
    "\n",
    "class Foo(object): __slots__ = 'foo',\n",
    "\n",
    "class Bar(object): pass\n",
    "\n",
    "class Bar1(object):\n",
    "    def __init__(self):\n",
    "        self.foo = ''\n",
    "\n",
    "slotted = Foo()\n",
    "not_slotted = Bar()\n",
    "not_slotted1 = Bar1()\n",
    "\n",
    "def get_set_delete_fn(obj):\n",
    "    def get_set_delete():\n",
    "        obj.foo = 'foo'\n",
    "        obj.foo\n",
    "        del obj.foo\n",
    "    return get_set_delete\n",
    "\n",
    "min(timeit.repeat(get_set_delete_fn(slotted)))"
   ]
  },
  {
   "cell_type": "code",
   "execution_count": 63,
   "metadata": {},
   "outputs": [
    {
     "data": {
      "text/plain": [
       "0.35385250000001633"
      ]
     },
     "execution_count": 63,
     "metadata": {},
     "output_type": "execute_result"
    }
   ],
   "source": [
    "min(timeit.repeat(get_set_delete_fn(not_slotted)))"
   ]
  },
  {
   "cell_type": "code",
   "execution_count": 64,
   "metadata": {},
   "outputs": [
    {
     "data": {
      "text/plain": [
       "0.39719099999990704"
      ]
     },
     "execution_count": 64,
     "metadata": {},
     "output_type": "execute_result"
    }
   ],
   "source": [
    "min(timeit.repeat(get_set_delete_fn(not_slotted1)))"
   ]
  },
  {
   "cell_type": "markdown",
   "metadata": {},
   "source": [
    "## Shallow and deep copying"
   ]
  },
  {
   "cell_type": "code",
   "execution_count": 65,
   "metadata": {},
   "outputs": [],
   "source": [
    "class Color:\n",
    "    \"\"\"A class for RGB colors.\"\"\"\n",
    "    \n",
    "    def __init__(self, red, green, blue):\n",
    "        \"\"\"Create an instance of the Color class.\n",
    "        \n",
    "        red    an integer in [0, 255]\n",
    "        green  an integer in [0, 255]\n",
    "        blue   an integer in [0, 255]\n",
    "        \"\"\"\n",
    "        self._red = red\n",
    "        self._green = green\n",
    "        self._blue = blue\n",
    "    \n",
    "    def print_color(self):\n",
    "        print('red = {}, green = {}, blue = {}'.format(self._red, self._green, self._blue))"
   ]
  },
  {
   "cell_type": "markdown",
   "metadata": {},
   "source": [
    "### Aliasing"
   ]
  },
  {
   "cell_type": "code",
   "execution_count": 66,
   "metadata": {},
   "outputs": [
    {
     "name": "stdout",
     "output_type": "stream",
     "text": [
      "red = 249, green = 124, blue = 43\n",
      "red = 169, green = 163, blue = 52\n",
      "red = 0, green = 0, blue = 0\n",
      "\n",
      "\n",
      "red = 249, green = 124, blue = 43\n",
      "red = 169, green = 163, blue = 52\n",
      "red = 0, green = 0, blue = 0\n"
     ]
    }
   ],
   "source": [
    "warmtones = [Color(249, 124, 43), Color(169, 163, 52)]\n",
    "palette = warmtones\n",
    "\n",
    "palette.append(Color(0, 0, 0)) # affects warmtones\n",
    "\n",
    "for i in range(len(warmtones)):\n",
    "    color = warmtones[i]\n",
    "    color.print_color()\n",
    "print('\\n')\n",
    "for i in range(len(palette)):\n",
    "    color = palette[i]\n",
    "    color.print_color()"
   ]
  },
  {
   "cell_type": "markdown",
   "metadata": {},
   "source": [
    "### Shallow copying (implicit aliasing)"
   ]
  },
  {
   "cell_type": "code",
   "execution_count": 67,
   "metadata": {},
   "outputs": [
    {
     "name": "stdout",
     "output_type": "stream",
     "text": [
      "red = 100, green = 124, blue = 43\n",
      "red = 169, green = 163, blue = 52\n",
      "\n",
      "\n",
      "red = 100, green = 124, blue = 43\n",
      "red = 255, green = 255, blue = 255\n",
      "red = 0, green = 0, blue = 0\n"
     ]
    }
   ],
   "source": [
    "warmtones = [Color(249, 124, 43), Color(169, 163, 52)]\n",
    "palette = list(warmtones)\n",
    "\n",
    "palette.append(Color(0, 0, 0)) # does not affect warmtones\n",
    "palette[0]._red = 100 # affects warmtones because it modifies the same object that warmtones[0] and palette[0] point to\n",
    "palette[1] = Color(255, 255, 255) # does not affect warmtones because it just reassigns palette[1] to point somewhere else\n",
    "\n",
    "for i in range(len(warmtones)):\n",
    "    color = warmtones[i]\n",
    "    color.print_color()\n",
    "print('\\n')\n",
    "for i in range(len(palette)):\n",
    "    color = palette[i]\n",
    "    color.print_color()"
   ]
  },
  {
   "cell_type": "markdown",
   "metadata": {},
   "source": [
    "### Deep copying"
   ]
  },
  {
   "cell_type": "code",
   "execution_count": 68,
   "metadata": {},
   "outputs": [
    {
     "name": "stdout",
     "output_type": "stream",
     "text": [
      "red = 249, green = 124, blue = 43\n",
      "red = 169, green = 163, blue = 52\n",
      "\n",
      "\n",
      "red = 100, green = 124, blue = 43\n",
      "red = 255, green = 255, blue = 255\n",
      "red = 0, green = 0, blue = 0\n"
     ]
    }
   ],
   "source": [
    "import copy\n",
    "\n",
    "warmtones = [Color(249, 124, 43), Color(169, 163, 52)]\n",
    "palette = copy.deepcopy(warmtones)\n",
    "\n",
    "palette.append(Color(0, 0, 0)) # does not affect warmtones\n",
    "palette[0]._red = 100 # does not affect warmtones\n",
    "palette[1] = Color(255, 255, 255) # does not affect warmtones\n",
    "\n",
    "for i in range(len(warmtones)):\n",
    "    color = warmtones[i]\n",
    "    color.print_color()\n",
    "print('\\n')\n",
    "for i in range(len(palette)):\n",
    "    color = palette[i]\n",
    "    color.print_color()"
   ]
  },
  {
   "cell_type": "markdown",
   "metadata": {},
   "source": [
    "## Exercises\n",
    "\n",
    "### Reinforcement\n",
    "\n",
    "**R-2.1** Give three examples of life-critical software applications.\n",
    "\n",
    "1. Control computer on an aircraft carrier.\n",
    "2. Control computer on a fighter aircraft.\n",
    "3. Auto-pilot systems."
   ]
  },
  {
   "cell_type": "markdown",
   "metadata": {},
   "source": [
    "**R-2.4** Write a Python class, `Flower`, that has three instance variables of type `str`,\n",
    "`int`, and `float`, that respectively represent the name of the flower, its number\n",
    "of petals, and its price. Your class must include a constructor method\n",
    "that initializes each variable to an appropriate value, and your class should\n",
    "include methods for setting the value of each type, and retrieving the value\n",
    "of each type."
   ]
  },
  {
   "cell_type": "code",
   "execution_count": 69,
   "metadata": {},
   "outputs": [
    {
     "data": {
      "text/plain": [
       "True"
      ]
     },
     "execution_count": 69,
     "metadata": {},
     "output_type": "execute_result"
    }
   ],
   "source": [
    "class Flower:\n",
    "    def __init__(self):\n",
    "        self._name = ''\n",
    "        self._numPetals = 0\n",
    "        self._price = 0.\n",
    "    \n",
    "    def set_name(self, name):\n",
    "        self._name = name\n",
    "    \n",
    "    def set_numPetals(self, numPetals):\n",
    "        self._numPetals = numPetals\n",
    "    \n",
    "    def set_price(self, price):\n",
    "        self._price = price\n",
    "    \n",
    "    def get_name(self):\n",
    "        return self._name\n",
    "    \n",
    "    def get_numPetals(self):\n",
    "        return self._numPetals\n",
    "    \n",
    "    def get_price(self):\n",
    "        return self._price\n",
    "\n",
    "def test():\n",
    "    flower = Flower()\n",
    "    NAME = 'rose'\n",
    "    NUM_PETALS = 7\n",
    "    PRICE = 100\n",
    "    flower.set_name(NAME)\n",
    "    flower.set_numPetals(NUM_PETALS)\n",
    "    flower.set_price(PRICE)\n",
    "    assert flower.get_name() == NAME and flower.get_numPetals() == NUM_PETALS and flower.get_price() == PRICE\n",
    "    return True\n",
    "\n",
    "test()"
   ]
  },
  {
   "cell_type": "markdown",
   "metadata": {},
   "source": [
    "**R-2.5** Use the techniques of Section 1.7 to revise the charge and make payment\n",
    "methods of the `CreditCard` class to ensure that the caller sends a number\n",
    "as a parameter."
   ]
  },
  {
   "cell_type": "code",
   "execution_count": 70,
   "metadata": {},
   "outputs": [
    {
     "name": "stdout",
     "output_type": "stream",
     "text": [
      "Caught error: Invalid argument\n",
      "Caught error: Invalid argument\n"
     ]
    },
    {
     "data": {
      "text/plain": [
       "True"
      ]
     },
     "execution_count": 70,
     "metadata": {},
     "output_type": "execute_result"
    }
   ],
   "source": [
    "class CreditCard1(CreditCard):    \n",
    "    def charge(self, price):\n",
    "        \"\"\"Charge given price to the card.\n",
    "        \n",
    "        Return True if charge was processed and False if charge was denied.\n",
    "        \"\"\"\n",
    "        try:\n",
    "            if price + self._balance > self._limit: # if charge exceeds limit\n",
    "                return False # cannot accept charge\n",
    "            else:\n",
    "                self._balance += price\n",
    "                return True\n",
    "        except:\n",
    "            raise ValueError(\"Invalid argument\")\n",
    "            \n",
    "        \n",
    "    def make_payment(self, amount):\n",
    "        \"\"\"Process payment by reducing balance by the given amount.\"\"\"\n",
    "        try:\n",
    "            self._balance -= amount\n",
    "        except:\n",
    "            raise ValueError(\"Invalid argument\")\n",
    "\n",
    "def test():\n",
    "    cc = CreditCard1('John Bowman', 'California Savings', '5391 0375 9387 5309', 2500)\n",
    "    cc.charge(250)\n",
    "    cc.make_payment(100)\n",
    "    try:\n",
    "        cc.charge('a')\n",
    "    except ValueError as e:\n",
    "        print('Caught error: ' + str(e))\n",
    "    try:\n",
    "        cc.make_payment('a')\n",
    "    except ValueError as e:\n",
    "        print('Caught error: ' + str(e))\n",
    "    return True\n",
    "\n",
    "test()"
   ]
  },
  {
   "cell_type": "markdown",
   "metadata": {},
   "source": [
    "**R-2.6** If the parameter to the `make_payment` method of the `CreditCard` class\n",
    "were a negative number, that would have the effect of raising the balance\n",
    "on the account. Revise the implementation so that it raises a `ValueError` if\n",
    "a negative value is sent."
   ]
  },
  {
   "cell_type": "code",
   "execution_count": 71,
   "metadata": {},
   "outputs": [
    {
     "name": "stdout",
     "output_type": "stream",
     "text": [
      "Caught error: Invalid argument\n",
      "Caught error: Invalid argument\n",
      "Caught error: Invalid argument\n"
     ]
    },
    {
     "data": {
      "text/plain": [
       "True"
      ]
     },
     "execution_count": 71,
     "metadata": {},
     "output_type": "execute_result"
    }
   ],
   "source": [
    "class CreditCard2(CreditCard1):\n",
    "    def make_payment(self, amount):\n",
    "        \"\"\"Process payment by reducing balance by the given amount.\"\"\"\n",
    "        try:\n",
    "            temp = self._balance\n",
    "            self._balance -= amount\n",
    "            assert temp >= self._balance\n",
    "        except:\n",
    "            raise ValueError(\"Invalid argument\")\n",
    "        # assert temp > self._balance, \"Invalid argument\" # this raises an AssertionError\n",
    "\n",
    "def test():\n",
    "    cc = CreditCard2('John Bowman', 'California Savings', '5391 0375 9387 5309', 2500)\n",
    "    cc.charge(250)\n",
    "    cc.make_payment(100)\n",
    "    try:\n",
    "        cc.charge('a')\n",
    "    except ValueError as e:\n",
    "        print('Caught error: ' + str(e))\n",
    "    try:\n",
    "        cc.make_payment('a')\n",
    "    except ValueError as e:\n",
    "        print('Caught error: ' + str(e))\n",
    "    try:\n",
    "        cc.make_payment(-100)\n",
    "    except ValueError as e:\n",
    "        print('Caught error: ' + str(e))\n",
    "    return True\n",
    "\n",
    "test()"
   ]
  },
  {
   "cell_type": "markdown",
   "metadata": {},
   "source": [
    "**R-2.8** Modify the declaration of the first for loop in the `CreditCard` tests, from\n",
    "Code Fragment 2.3, so that it will eventually cause exactly one of the three\n",
    "credit cards to go over its credit limit. Which credit card is it?\n",
    "\n",
    "The third credit card will go over its limit since its limit $5000$ is less than $3$ times the first card's limit $2500$, \n",
    "but its increment `val` is $3$ times the first card's increment `3 * val`."
   ]
  },
  {
   "cell_type": "code",
   "execution_count": 72,
   "metadata": {},
   "outputs": [
    {
     "name": "stdout",
     "output_type": "stream",
     "text": [
      "Customer =  John Bowman\n",
      "Bank =  California Savings\n",
      "Account =  5391 0375 9387 5309\n",
      "Limit =  2500\n",
      "Balance =  1653\n",
      "New balance =  1553\n",
      "New balance =  1453\n",
      "New balance =  1353\n",
      "New balance =  1253\n",
      "New balance =  1153\n",
      "New balance =  1053\n",
      "New balance =  953\n",
      "New balance =  853\n",
      "New balance =  753\n",
      "New balance =  653\n",
      "New balance =  553\n",
      "New balance =  453\n",
      "New balance =  353\n",
      "New balance =  253\n",
      "New balance =  153\n",
      "New balance =  53\n",
      "\n",
      "Customer =  John Bowman\n",
      "Bank =  California Federal\n",
      "Account =  3485 0399 3395 1954\n",
      "Limit =  3500\n",
      "Balance =  3306\n",
      "New balance =  3206\n",
      "New balance =  3106\n",
      "New balance =  3006\n",
      "New balance =  2906\n",
      "New balance =  2806\n",
      "New balance =  2706\n",
      "New balance =  2606\n",
      "New balance =  2506\n",
      "New balance =  2406\n",
      "New balance =  2306\n",
      "New balance =  2206\n",
      "New balance =  2106\n",
      "New balance =  2006\n",
      "New balance =  1906\n",
      "New balance =  1806\n",
      "New balance =  1706\n",
      "New balance =  1606\n",
      "New balance =  1506\n",
      "New balance =  1406\n",
      "New balance =  1306\n",
      "New balance =  1206\n",
      "New balance =  1106\n",
      "New balance =  1006\n",
      "New balance =  906\n",
      "New balance =  806\n",
      "New balance =  706\n",
      "New balance =  606\n",
      "New balance =  506\n",
      "New balance =  406\n",
      "New balance =  306\n",
      "New balance =  206\n",
      "New balance =  106\n",
      "New balance =  6\n",
      "\n",
      "Customer =  John Bowman\n",
      "Bank =  California Finance\n",
      "Account =  5391 0375 9387 5309\n",
      "Limit =  5000\n",
      "Balance =  4959\n",
      "New balance =  4859\n",
      "New balance =  4759\n",
      "New balance =  4659\n",
      "New balance =  4559\n",
      "New balance =  4459\n",
      "New balance =  4359\n",
      "New balance =  4259\n",
      "New balance =  4159\n",
      "New balance =  4059\n",
      "New balance =  3959\n",
      "New balance =  3859\n",
      "New balance =  3759\n",
      "New balance =  3659\n",
      "New balance =  3559\n",
      "New balance =  3459\n",
      "New balance =  3359\n",
      "New balance =  3259\n",
      "New balance =  3159\n",
      "New balance =  3059\n",
      "New balance =  2959\n",
      "New balance =  2859\n",
      "New balance =  2759\n",
      "New balance =  2659\n",
      "New balance =  2559\n",
      "New balance =  2459\n",
      "New balance =  2359\n",
      "New balance =  2259\n",
      "New balance =  2159\n",
      "New balance =  2059\n",
      "New balance =  1959\n",
      "New balance =  1859\n",
      "New balance =  1759\n",
      "New balance =  1659\n",
      "New balance =  1559\n",
      "New balance =  1459\n",
      "New balance =  1359\n",
      "New balance =  1259\n",
      "New balance =  1159\n",
      "New balance =  1059\n",
      "New balance =  959\n",
      "New balance =  859\n",
      "New balance =  759\n",
      "New balance =  659\n",
      "New balance =  559\n",
      "New balance =  459\n",
      "New balance =  359\n",
      "New balance =  259\n",
      "New balance =  159\n",
      "New balance =  59\n",
      "\n"
     ]
    }
   ],
   "source": [
    "if __name__ == '__main__':\n",
    "    wallet = []\n",
    "    wallet.append(CreditCard('John Bowman', 'California Savings', '5391 0375 9387 5309', 2500))\n",
    "    wallet.append(CreditCard('John Bowman', 'California Federal', '3485 0399 3395 1954', 3500))\n",
    "    wallet.append(CreditCard('John Bowman', 'California Finance', '5391 0375 9387 5309', 5000)) \n",
    "    \n",
    "    n = 0\n",
    "    while (1+n)*n//2*3 < 5000:\n",
    "        n += 1\n",
    "    \n",
    "    for val in range(1, n):\n",
    "        wallet[0].charge(val)\n",
    "        wallet[1].charge(2*val)\n",
    "        wallet[2].charge(3*val)\n",
    "\n",
    "    for c in range(3):\n",
    "        print('Customer = ', wallet[c].get_customer())\n",
    "        print('Bank = ', wallet[c].get_bank())\n",
    "        print('Account = ', wallet[c].get_account())\n",
    "        print('Limit = ', wallet[c].get_limit())\n",
    "        print('Balance = ', wallet[c].get_balance())\n",
    "        while wallet[c].get_balance() > 100:\n",
    "            wallet[c].make_payment(100)\n",
    "            print('New balance = ', wallet[c].get_balance())\n",
    "        print()"
   ]
  },
  {
   "cell_type": "markdown",
   "metadata": {},
   "source": [
    "**R-2.9** Implement the `__sub__` method for the `Vector` class of Section 2.3.3, so\n",
    "that the expression `u - v` returns a new vector instance representing the\n",
    "difference between two vectors."
   ]
  },
  {
   "cell_type": "code",
   "execution_count": 73,
   "metadata": {},
   "outputs": [
    {
     "data": {
      "text/plain": [
       "True"
      ]
     },
     "execution_count": 73,
     "metadata": {},
     "output_type": "execute_result"
    }
   ],
   "source": [
    "class Vector1(Vector):\n",
    "    def __sub__(self, other):\n",
    "        \"\"\"Return the difference self - other.\"\"\"\n",
    "        if len(self) != len(other):\n",
    "            raise ValueError(\"Addition not allowed on vectors with different lengths.\")\n",
    "        d = len(self)\n",
    "        new = Vector(d)\n",
    "        for i in range(d):\n",
    "            new[i] = self[i] - other[i]\n",
    "        return new\n",
    "\n",
    "def test():\n",
    "    for counter in range(50):\n",
    "        n = random.randint(1, 10)\n",
    "        a = Vector1(n)\n",
    "        b = Vector1(n)\n",
    "        for i in range(n):\n",
    "            a[i] = random.uniform(-100, 100)\n",
    "            b[i] = random.uniform(-100, 100)\n",
    "        c = a - b\n",
    "        for i in range(n):\n",
    "            assert c[i] == a[i] - b[i]\n",
    "    return True\n",
    "\n",
    "test()"
   ]
  },
  {
   "cell_type": "markdown",
   "metadata": {},
   "source": [
    "**R-2.10** Implement the `__neg__` method for the `Vector` class of Section 2.3.3, so\n",
    "that the expression `-v` returns a new vector instance whose coordinates\n",
    "are all the negated values of the respective coordinates of `v`."
   ]
  },
  {
   "cell_type": "code",
   "execution_count": 74,
   "metadata": {},
   "outputs": [
    {
     "data": {
      "text/plain": [
       "True"
      ]
     },
     "execution_count": 74,
     "metadata": {},
     "output_type": "execute_result"
    }
   ],
   "source": [
    "class Vector2(Vector1):\n",
    "    def __neg__(self):\n",
    "        \"\"\"Return the additive inverse of the vector.\"\"\"\n",
    "        d = len(self)\n",
    "        inv = Vector(d)\n",
    "        for i in range(d):\n",
    "            inv[i] = -self[i]\n",
    "        return inv\n",
    "    \n",
    "    def str(self):\n",
    "        \"\"\"Produce string representation of vector.\"\"\"\n",
    "        return '<' + str(self. coords)[1:-1] + '>'\n",
    "\n",
    "def test():\n",
    "    for counter in range(50):\n",
    "        n = random.randint(1, 10)\n",
    "        a = Vector2(n)\n",
    "        for i in range(n):\n",
    "            a[i] = random.uniform(-100, 100)\n",
    "        b = -a\n",
    "        c = a + b\n",
    "        for i in range(n):\n",
    "            assert c[i] == 0\n",
    "    return True\n",
    "\n",
    "test()"
   ]
  },
  {
   "cell_type": "markdown",
   "metadata": {},
   "source": [
    "**R-2.11** In Section 2.3.3, we note that our `Vector` class supports a syntax such as\n",
    "`v = u + [5, 3, 10, −2, 1]`, in which the sum of a vector and list returns\n",
    "a new vector. However, the syntax `v = [5, 3, 10, −2, 1] + u` is illegal.\n",
    "Explain how the `Vector`class definition can be revised so that this syntax\n",
    "generates a new vector.\n",
    "\n",
    "`v = u + [5, 3, 10, -2, 1]` is supported because it is interpreted as `u.__add___([5, 3, 10, -2, 1])`. `[5, 3, 10, −2, 1] + u` is not automatically supported because it is interpreted as `[5, 3, 10, −2, 1].__add__(u)`,\n",
    "and the `__add__()` method in Python's built-in list type does not recognize instances of class `Vector`.\n",
    "\n",
    "We can add a `__radd__()` method to the `Vector` class, so that when encountering `v = [5, 3, 10, −2, 1] + u`, \n",
    "instead of raising a `TypeError`, Python checks that the right-hand-side object u has method `__radd__()`\n",
    "and calls `u.__add__(4)` instead. E.g.,\n",
    "```python\n",
    "def __radd__(self, other):\n",
    "    return self.__add__(other)\n",
    "```"
   ]
  },
  {
   "cell_type": "code",
   "execution_count": 75,
   "metadata": {},
   "outputs": [
    {
     "data": {
      "text/plain": [
       "True"
      ]
     },
     "execution_count": 75,
     "metadata": {},
     "output_type": "execute_result"
    }
   ],
   "source": [
    "class Vector3(Vector2):\n",
    "    def __radd__(self, other):\n",
    "        \"\"\"Return the sum other + self.\"\"\"\n",
    "        return self + other\n",
    "\n",
    "def test():\n",
    "    for counter in range(50):\n",
    "        n = random.randint(1, 10)\n",
    "        a = Vector3(n)\n",
    "        b = [0] * n\n",
    "        for i in range(n):\n",
    "            a[i] = random.uniform(-100, 100)\n",
    "            b[i] = random.uniform(-100, 100)\n",
    "        c = b + a\n",
    "        d = a + b\n",
    "        for i in range(n):\n",
    "            assert c[i] == d[i]\n",
    "    return True\n",
    "\n",
    "test()"
   ]
  },
  {
   "cell_type": "markdown",
   "metadata": {},
   "source": [
    "**R-2.12** Implement the `__mul__` method for the `Vector` class of Section 2.3.3, so\n",
    "that the expression `v * 3` returns a new vector with coordinates that are 3\n",
    "times the respective coordinates of `v`."
   ]
  },
  {
   "cell_type": "code",
   "execution_count": 76,
   "metadata": {},
   "outputs": [
    {
     "data": {
      "text/plain": [
       "True"
      ]
     },
     "execution_count": 76,
     "metadata": {},
     "output_type": "execute_result"
    }
   ],
   "source": [
    "class Vector4(Vector3):\n",
    "    def __mul__(self, scalar):\n",
    "        \"\"\"Return a vector whose entries are scalar times the corresponding entries in vector.\"\"\"\n",
    "        d = len(self)\n",
    "        new = Vector(d)\n",
    "        for i in range(d):\n",
    "            new[i] = scalar * self[i]\n",
    "        return new\n",
    "\n",
    "def test():\n",
    "    for counter in range(50):\n",
    "        n = random.randint(1, 10)\n",
    "        a = Vector4(n)\n",
    "        for i in range(n):\n",
    "            a[i] = random.uniform(-100, 100)\n",
    "        s = random.uniform(-100, 100)\n",
    "        b = a * s\n",
    "        for i in range(n):\n",
    "            assert b[i] == s * a[i]\n",
    "    return True\n",
    "\n",
    "test()"
   ]
  },
  {
   "cell_type": "markdown",
   "metadata": {},
   "source": [
    "**R-2.13** Exercise R-2.12 asks for an implementation of `__mul__`, for the `Vector`\n",
    "class of Section 2.3.3, to provide support for the syntax `v * 3`. Implement\n",
    "the `__rmul__` method, to provide additional support for syntax `3 * v`."
   ]
  },
  {
   "cell_type": "code",
   "execution_count": 77,
   "metadata": {},
   "outputs": [
    {
     "data": {
      "text/plain": [
       "True"
      ]
     },
     "execution_count": 77,
     "metadata": {},
     "output_type": "execute_result"
    }
   ],
   "source": [
    "class Vector5(Vector4):\n",
    "    def __rmul__(self, scalar):\n",
    "        \"\"\"Return scalar * vector.\"\"\"\n",
    "        return self * scalar\n",
    "\n",
    "def test():\n",
    "    for counter in range(50):\n",
    "        d = random.randint(1, 10)\n",
    "        a = Vector5(n)\n",
    "        for i in range(n):\n",
    "            a[i] = random.uniform(-100, 100)\n",
    "        s = random.uniform(-100, 100)\n",
    "        b = s * a\n",
    "        for i in range(n):\n",
    "            assert b[i] == s * a[i]\n",
    "    return True\n",
    "\n",
    "test()"
   ]
  },
  {
   "cell_type": "markdown",
   "metadata": {},
   "source": [
    "**R-2.14** Implement the `__mul__()` method for the `Vector` class of Section 2.3.3, so\n",
    "that the expression `u * v` returns a scalar that represents the dot product of\n",
    "the vectors."
   ]
  },
  {
   "cell_type": "code",
   "execution_count": 78,
   "metadata": {},
   "outputs": [
    {
     "data": {
      "text/plain": [
       "True"
      ]
     },
     "execution_count": 78,
     "metadata": {},
     "output_type": "execute_result"
    }
   ],
   "source": [
    "class Vector6(Vector5):    \n",
    "    def __mul__(self, other):\n",
    "        \"\"\"Return the dot product of self with other.\"\"\"\n",
    "        if len(self) != len(other):\n",
    "            raise ValueError(\"Dot product not allowed on vectors with different lengths.\")\n",
    "        return sum([self[i] * other[i] for i in range(len(self))])\n",
    "\n",
    "def test():\n",
    "    for counter in range(50):\n",
    "        n = random.randint(1, 10)\n",
    "        a = Vector6(n)\n",
    "        b = Vector6(n)\n",
    "        for i in range(n):\n",
    "            a[i] = random.uniform(-100, 100)\n",
    "            b[i] = random.uniform(-100, 100)\n",
    "        c = b * a\n",
    "        for i in range(n):\n",
    "            c -= b[i] * a[i]\n",
    "        assert c < 1e-07\n",
    "    return True\n",
    "\n",
    "test()"
   ]
  },
  {
   "cell_type": "markdown",
   "metadata": {},
   "source": [
    "**R-2.15** The Vector class of Section 2.3.3 provides a constructor that takes an integer\n",
    "`d`, and produces a `d`-dimensional vector with all coordinates equal to\n",
    "`0`. Another convenient form for creating a new vector would be to send the\n",
    "constructor a parameter that is some iterable type representing a sequence\n",
    "of numbers, and to create a vector with dimension equal to the length of\n",
    "that sequence and coordinates equal to the sequence values. For example,\n",
    "`Vector([4, 7, 5])` would produce a three-dimensional vector with coordinates\n",
    "`<4, 7, 5>`. Modify the constructor so that either of these forms is\n",
    "acceptable; that is, if a single integer is sent, it produces a vector of that\n",
    "dimension with all zeros, but if a sequence of numbers is provided, it produces\n",
    "a vector with coordinates based on that sequence."
   ]
  },
  {
   "cell_type": "code",
   "execution_count": 79,
   "metadata": {},
   "outputs": [
    {
     "data": {
      "text/plain": [
       "True"
      ]
     },
     "execution_count": 79,
     "metadata": {},
     "output_type": "execute_result"
    }
   ],
   "source": [
    "class Vector7(Vector):\n",
    "    \"\"\"Represent a vector in a multidimensional space.\"\"\"\n",
    "    \n",
    "    def __init__(self, d):\n",
    "        \"\"\"Create a d-dimensional vector of zeros if d is an integer, or a sequence-based vector if d is a sequence.\"\"\"\n",
    "        try:\n",
    "            d[0]\n",
    "            self._container = d\n",
    "        except:\n",
    "            self._container = [0] * d\n",
    "    \n",
    "def test():\n",
    "    a = Vector7(3)\n",
    "    assert len(a) == 3\n",
    "    a = Vector7([1,2,3,4])\n",
    "    assert len(a) == 4\n",
    "    return True\n",
    "\n",
    "test()"
   ]
  },
  {
   "cell_type": "markdown",
   "metadata": {},
   "source": [
    "**R-2.16** Our `Range` class, from Section 2.3.5, relies on the formula\n",
    "`max(0, (stop − start + step − 1) // step)`\n",
    "to compute the number of elements in the range. It is not immediately evident\n",
    "why this formula provides the correct calculation, even if assuming\n",
    "a positive step size. Justify this formula, in your own words.\n",
    "\n",
    "This is the effective length of the range, or the actual number of steps needed to walk through the range. \n",
    "\n",
    "Suppose this length is $k$. Then $k$ satisfies $start + k \\cdot step > stop - k$ and $start + k \\cdot step \\leq stop$. Rearranging gives\n",
    "$$k\\cdot step\\leq stop - start < (k+1)\\cdot step.$$\n",
    "Thus,\n",
    "$$k\\leq \\frac{stop - start}{step} < k + 1,$$\n",
    "or\n",
    "$$\\frac{stop-start}{step}-1 < k \\leq \\frac{stop-start}{step}.$$\n",
    "Since $RHS - LHS=1$, $k = \\text{floor}(\\frac{stop-start}{step})$, or the largest integer no larger than $\\frac{stop-start}{step}$.\n",
    "\n",
    "Using floor division,\n",
    "\\begin{align*}\n",
    "\\text{floor}(\\frac{stop-start+step-1}{step}) =\n",
    "\\begin{cases}\n",
    "\\text{floor}(\\frac{stop-start+1-1}{step}) = \\text{floor}(\\frac{stop-start}{step})\\quad\\mbox{if $step=1$}\\\\\n",
    "\\text{floor}(\\frac{stop-start}{step} + 1 - \\frac{1}{step}) = \\text{floor}(\\frac{stop-start}{step} + \\epsilon) = \\text{floor}(\\frac{stop-start}{step})\\quad\\mbox{where $\\epsilon\\in (0,1)$, if $step > 1$}\n",
    "\\end{cases}\n",
    "\\end{align*}\n",
    "Thus, $k = \\text{floor}(\\frac{stop-start+step-1}{step})$."
   ]
  },
  {
   "cell_type": "markdown",
   "metadata": {},
   "source": [
    "**R-2.17** Draw a class inheritance diagram for the following set of classes:\n",
    "* Class `Goat` extends `object` and adds an instance variable tail and\n",
    "methods `milk()` and `jump()`.\n",
    "* Class `Pig` extends `object` and adds an instance variable `nose` and\n",
    "methods `eat(food)` and `wallow()`.\n",
    "* Class `Horse` extends `object` and adds instance variables `height` and\n",
    "`color`, and methods `run()` and `jump()`.\n",
    "* Class `Racer` extends `Horse` and adds a method `race()`.\n",
    "* Class `Equestrian` extends `Horse`, adding an instance variable `weight`\n",
    "and methods `trot()` and `is_trained()`.\n",
    "\n",
    "```\n",
    "Object\n",
    "    - Goat\n",
    "    - Pig\n",
    "    - Horse\n",
    "        - Racer\n",
    "        - Equestrian\n",
    "```"
   ]
  },
  {
   "cell_type": "markdown",
   "metadata": {},
   "source": [
    "**R-2.18** Give a short fragment of Python code that uses the progression classes\n",
    "from Section 2.4.2 to find the 8th value of a Fibonacci progression that\n",
    "starts with 2 and 2 as its first two values."
   ]
  },
  {
   "cell_type": "code",
   "execution_count": 80,
   "metadata": {},
   "outputs": [
    {
     "data": {
      "text/plain": [
       "42"
      ]
     },
     "execution_count": 80,
     "metadata": {},
     "output_type": "execute_result"
    }
   ],
   "source": [
    "seq = FibonacciProgression(2, 2)\n",
    "for i in range(7): # 2, 2, _, _, _, _, _, _ only seven calls to next() are needed\n",
    "    next(seq)\n",
    "next(seq)"
   ]
  },
  {
   "cell_type": "markdown",
   "metadata": {},
   "source": [
    "**R-2.19** When using the `ArithmeticProgression` class of Section 2.4.2 with an increment\n",
    "of `128` and a start of `0`, how many calls to next can we make\n",
    "before we reach an integer of `263` or larger?"
   ]
  },
  {
   "cell_type": "code",
   "execution_count": 81,
   "metadata": {},
   "outputs": [
    {
     "data": {
      "text/plain": [
       "3"
      ]
     },
     "execution_count": 81,
     "metadata": {},
     "output_type": "execute_result"
    }
   ],
   "source": [
    "math.ceil(263/128)"
   ]
  },
  {
   "cell_type": "markdown",
   "metadata": {},
   "source": [
    "**R-2.20** What are some potential efficiency disadvantages of having very deep inheritance\n",
    "trees, that is, a large set of classes, `A`, `B`, `C`, and so on, such that\n",
    "`B` extends `A`, `C` extends `B`, `D` extends `C`, etc.?\n",
    "\n",
    "Having a deep inheritance tree means longer time to call the class constructors because they ultimately trace back to calling the constructor of the root class?"
   ]
  },
  {
   "cell_type": "markdown",
   "metadata": {},
   "source": [
    "**R-2.21** What are some potential efficiency disadvantages of having very shallow\n",
    "inheritance trees, that is, a large set of classes, `A`, `B`, `C`, and so on, such\n",
    "that all of these classes extend a single class, `Z`?\n",
    "\n",
    "Having shallow inheritance trees means not taking advantage of class inheritance and risking disorganization."
   ]
  },
  {
   "cell_type": "markdown",
   "metadata": {},
   "source": [
    "**R-2.22** The `collections.Sequence` abstract base class does not provide support for\n",
    "comparing two sequences to each other. Modify our `Sequence` class from\n",
    "Code Fragment 2.14 to include a definition for the `__eq__` method, so\n",
    "that expression `seq1 == seq2` will return `True` precisely when the two\n",
    "sequences are element by element equivalent."
   ]
  },
  {
   "cell_type": "code",
   "execution_count": 82,
   "metadata": {},
   "outputs": [
    {
     "data": {
      "text/plain": [
       "True"
      ]
     },
     "execution_count": 82,
     "metadata": {},
     "output_type": "execute_result"
    }
   ],
   "source": [
    "from abc import ABCMeta, abstractmethod\n",
    "\n",
    "class Sequence1(Sequence):\n",
    "    def __eq__(self, other):\n",
    "        if len(self) != len(other):\n",
    "            return False\n",
    "        else:\n",
    "            for i in range(len(self)):\n",
    "                if self[i] != other[i]:\n",
    "                    return False\n",
    "            return True\n",
    "\n",
    "class ListBasedSeq1(Sequence1):\n",
    "    def __init__(self, seq):\n",
    "        self._container = seq\n",
    "    \n",
    "    def __len__(self):\n",
    "        return len(self._container)\n",
    "    \n",
    "    def __getitem__(self, i):\n",
    "        return self._container[i]\n",
    "\n",
    "def test():\n",
    "    seq1 = ListBasedSeq1([1,3,4,5])\n",
    "    seq2 = ListBasedSeq1([1,3,4,5])\n",
    "    seq3 = ListBasedSeq1([1,10,4,5])\n",
    "    assert seq1 == seq2 and seq3 != seq2\n",
    "    return True\n",
    "\n",
    "test()"
   ]
  },
  {
   "cell_type": "markdown",
   "metadata": {},
   "source": [
    "**R-2.23** In similar spirit to the previous problem, augment the `Sequence `class with\n",
    "method `__lt__`, to support lexicographic comparison `seq1 < seq2`."
   ]
  },
  {
   "cell_type": "code",
   "execution_count": 83,
   "metadata": {},
   "outputs": [
    {
     "data": {
      "text/plain": [
       "True"
      ]
     },
     "execution_count": 83,
     "metadata": {},
     "output_type": "execute_result"
    }
   ],
   "source": [
    "from abc import ABCMeta, abstractmethod\n",
    "\n",
    "class Sequence2(Sequence1):\n",
    "    def __lt__(self, other):\n",
    "        if len(self) != len(other):\n",
    "            raise ValueError(\"Sequence lengths must be equal.\")\n",
    "        else:\n",
    "            for i in range(len(self)):\n",
    "                if self[i] >= other[i]:\n",
    "                    return False\n",
    "            return True\n",
    "\n",
    "class ListBasedSeq2(Sequence2):\n",
    "    def __init__(self, seq):\n",
    "        self._container = seq\n",
    "    \n",
    "    def __len__(self):\n",
    "        return len(self._container)\n",
    "    \n",
    "    def __getitem__(self, i):\n",
    "        return self._container[i]\n",
    "\n",
    "def test():\n",
    "    seq1 = ListBasedSeq2([1,2,3,4])\n",
    "    seq2 = ListBasedSeq2([5,6,7,8])\n",
    "    seq3 = ListBasedSeq2([-1, -2, -3, -4])\n",
    "    assert seq1 < seq2 and seq3 < seq1\n",
    "    return True\n",
    "\n",
    "test()"
   ]
  },
  {
   "cell_type": "markdown",
   "metadata": {},
   "source": [
    "### Creativity\n",
    "\n",
    "**C-2.25** Exercise R-2.12 uses the `__mul__()` method to support multiplying a `Vector`\n",
    "by a number, while Exercise R-2.14 uses the `__mul__()` method to support\n",
    "computing a dot product of two vectors. Give a single implementation of\n",
    "`Vector.__mul__()` that uses run-time type checking to support both syntaxes\n",
    "`u * v` and `u * k`, where `u` and `v` designate vector instances and `k` represents\n",
    "a number. "
   ]
  },
  {
   "cell_type": "code",
   "execution_count": 85,
   "metadata": {},
   "outputs": [
    {
     "data": {
      "text/plain": [
       "True"
      ]
     },
     "execution_count": 85,
     "metadata": {},
     "output_type": "execute_result"
    }
   ],
   "source": [
    "class Vector8(Vector7):\n",
    "    def __mul__(self, other):\n",
    "        \"\"\"If other is a Vector, return the dot product of self with other.\n",
    "        \n",
    "        Else, return the scalar product.\n",
    "        \"\"\"\n",
    "        if type(other) == Vector8:\n",
    "            if len(self) != len(other):\n",
    "                raise ValueError(\"Dot product not allowed on vectors with different lengths.\")\n",
    "            return sum([self[i] * other[i] for i in range(len(self))])\n",
    "        else: # other is a scalar\n",
    "            d = len(self)\n",
    "            new = Vector(d)\n",
    "            for i in range(d):\n",
    "                new[i] = other * self[i]\n",
    "            return new\n",
    "    \n",
    "def test():\n",
    "    for counter in range(50):\n",
    "        n = random.randint(1, 10)\n",
    "        a = Vector8(n)\n",
    "        b = Vector8(n)\n",
    "        for i in range(n):\n",
    "            a[i] = random.uniform(-100, 100)\n",
    "            b[i] = random.uniform(-100, 100)\n",
    "        c = b * a\n",
    "        for i in range(n):\n",
    "            c -= b[i] * a[i]\n",
    "        assert c < 1e-07\n",
    "        b = random.uniform(-100, 100)\n",
    "        c = a * b\n",
    "        for i in range(n):\n",
    "            assert c[i] == b * a[i]\n",
    "    return True\n",
    "\n",
    "test()"
   ]
  },
  {
   "cell_type": "markdown",
   "metadata": {},
   "source": [
    "**C-2.26** The `SequenceIterator` class of Section 2.3.4 provides what is known as a\n",
    "forward iterator. Implement a class named `ReversedSequenceIterator` that\n",
    "serves as a reverse iterator for any Python sequence type. The first call to\n",
    "next should return the last element of the sequence, the second call to next\n",
    "should return the second-to-last element, and so forth."
   ]
  },
  {
   "cell_type": "code",
   "execution_count": 86,
   "metadata": {},
   "outputs": [
    {
     "name": "stdout",
     "output_type": "stream",
     "text": [
      "3\n",
      "2\n",
      "1\n"
     ]
    }
   ],
   "source": [
    "class ReversedSequenceIterator:\n",
    "    \"\"\"A reversed iterator for Python's sequence types.\"\"\"\n",
    "    \n",
    "    def __init__(self, sequence):\n",
    "        \"\"\"Create a reversed iterator for the given sequence.\"\"\"\n",
    "        self._seq = sequence\n",
    "        self._k = len(sequence)\n",
    "    \n",
    "    def __next__(self):\n",
    "        \"\"\"Return the previous element if exists and raise StopIteration otherwise.\"\"\"\n",
    "        self._k -= 1\n",
    "        if self._k >= 0:\n",
    "            return self._seq[self._k]\n",
    "        else:\n",
    "            raise StopIteration()\n",
    "    \n",
    "    def __iter__(self):\n",
    "        \"\"\"Return the reversed iterator itself.\"\"\"\n",
    "        return self\n",
    "\n",
    "seqIter = ReversedSequenceIterator([1,2,3])\n",
    "for i in range(3):\n",
    "    print(next(seqIter))"
   ]
  },
  {
   "cell_type": "markdown",
   "metadata": {},
   "source": [
    "**C-2.27** In Section 2.3.5, we note that our version of the `Range` class has implicit support for iteration, due to its explicit support of both `__len__` and `__getitem__`. The class also receives implicit support of the `Boolean`\n",
    "test, `k in r` for `Range r`. This test is evaluated based on a forward iteration through the range, as evidenced by the relative quickness of the test\n",
    "`2 in Range(10000000)` versus `9999999 in Range(10000000)`. Provide a\n",
    "more efficient implementation of the `__contains__` method to determine\n",
    "whether a particular value lies within a given range. The running time of\n",
    "your method should be independent of the length of the range."
   ]
  },
  {
   "cell_type": "code",
   "execution_count": 137,
   "metadata": {},
   "outputs": [
    {
     "name": "stdout",
     "output_type": "stream",
     "text": [
      "3.3320796999998947\n"
     ]
    }
   ],
   "source": [
    "from timeit import timeit\n",
    "\n",
    "print(timeit(lambda: 2 in Range(1000)))\n",
    "# print(timeit(lambda: 999 in Range(1000))) # takes much longer"
   ]
  },
  {
   "cell_type": "code",
   "execution_count": 135,
   "metadata": {
    "scrolled": true
   },
   "outputs": [
    {
     "name": "stdout",
     "output_type": "stream",
     "text": [
      "2.0888058000000456\n",
      "2.1100576999999703\n"
     ]
    }
   ],
   "source": [
    "class Range1(Range):\n",
    "    def __contains__(self, value):\n",
    "        if value < self._start:\n",
    "            return False\n",
    "        else:\n",
    "            return (value - self._start) % self._step == 0\n",
    "\n",
    "def test():\n",
    "    r = Range1(10000000)\n",
    "    assert 2 in r and 9999999 in r\n",
    "    r = Range1(0, 10000000, 2)\n",
    "    assert 2 in r and 9999999 not in r\n",
    "    return True\n",
    "\n",
    "test()\n",
    "\n",
    "print(timeit(lambda: 2 in Range1(10000000)))\n",
    "print(timeit(lambda: 9999999 in Range1(10000000)))"
   ]
  },
  {
   "cell_type": "markdown",
   "metadata": {},
   "source": [
    "**C-2.28** The `PredatoryCreditCard` class of Section 2.4.1 provides a `process_month`\n",
    "method that models the completion of a monthly cycle. Modify the class\n",
    "so that once a customer has made ten calls to charge in the current month,\n",
    "each additional call to that function results in an additional $1 surcharge."
   ]
  },
  {
   "cell_type": "code",
   "execution_count": 148,
   "metadata": {},
   "outputs": [
    {
     "name": "stdout",
     "output_type": "stream",
     "text": [
      "1\n",
      "2\n",
      "3\n",
      "4\n",
      "5\n",
      "6\n",
      "7\n",
      "8\n",
      "9\n",
      "10\n",
      "11\n",
      "0\n"
     ]
    }
   ],
   "source": [
    "class PredatoryCreditCard1(CreditCard):\n",
    "    \"\"\"An extension to CreditCard that compounds interest and fees.\"\"\"\n",
    "    \n",
    "    def __init__(self, customer, bank, account, limit, apr):\n",
    "        \"\"\"Create a new predatory credit card instance.\n",
    "        \n",
    "        customer    name of the customer\n",
    "        bank        name of the bank\n",
    "        account     account identifier\n",
    "        limit       credit limit in USD\n",
    "        apr         annual percentage rate\n",
    "        counter     counter of the number of calls to charge()\n",
    "        \n",
    "        Initial balance is 0.\n",
    "        \"\"\"\n",
    "        super().__init__(customer, bank, account, limit) # call super constructor to create self._customer, ..., self._limit\n",
    "        self._apr = apr\n",
    "        self._counter = 0\n",
    "        \n",
    "    def charge(self, price):\n",
    "        \"\"\"Charge given price to the card.\n",
    "        \n",
    "        Return True if charge was processed.\n",
    "        Return False and assess $5 fee if charge is denied.\n",
    "        \"\"\"\n",
    "        if self._counter < 10:\n",
    "            success = super().charge(price) # call inherited method\n",
    "        else:\n",
    "            success = super().charge(price + 1) # additional $1 surcharge\n",
    "        self._counter += 1\n",
    "        if not success:\n",
    "            self._balance += 5 # assess penalty\n",
    "        return success\n",
    "    \n",
    "    def restart_month(self):\n",
    "        \"\"\"Restart the counter of the number of calls to charge() once each month.\"\"\"\n",
    "        self._counter = 0\n",
    "\n",
    "def test():\n",
    "    card = PredatoryCreditCard1('John Bowman', 'California Savings', '5391 0375 9387 5309', 2500, 0.05)\n",
    "    for i in range(10):\n",
    "        card.charge(100)\n",
    "        print(card._counter)\n",
    "    card.charge(100)\n",
    "    print(card._counter)\n",
    "    card.restart_month()\n",
    "    print(card._counter)\n",
    "\n",
    "test()"
   ]
  },
  {
   "cell_type": "markdown",
   "metadata": {},
   "source": [
    "**C-2.31** Write a Python class that extends the `Progression` class so that each value\n",
    "in the progression is the absolute value of the difference between the previous two values. You should include a constructor that accepts a pair of\n",
    "numbers as the first two values, using 2 and 200 as the defaults."
   ]
  },
  {
   "cell_type": "code",
   "execution_count": 150,
   "metadata": {},
   "outputs": [
    {
     "name": "stdout",
     "output_type": "stream",
     "text": [
      "2 200 198 2 196 194 2 192 190 2\n"
     ]
    }
   ],
   "source": [
    "class AbsoluteDiffProgression(Progression):\n",
    "    def __init__(self, first=2, second=200):\n",
    "        super().__init__(first)\n",
    "        self._next = second\n",
    "    \n",
    "    def _advance(self):\n",
    "        self._current, self._next = self._next, abs(self._next - self._current)\n",
    "\n",
    "def test():\n",
    "    seq = AbsoluteDiffProgression(2, 200)\n",
    "    seq.print_progression(10)\n",
    "\n",
    "test()"
   ]
  },
  {
   "cell_type": "markdown",
   "metadata": {},
   "source": [
    "**C-2.32** Write a Python class that extends the `Progression` class so that each value\n",
    "in the progression is the square root of the previous value. (Note that\n",
    "you can no longer represent each value with an integer.) Your constructor should accept an optional parameter specifying the start value, using\n",
    "65,536 as a default."
   ]
  },
  {
   "cell_type": "code",
   "execution_count": 153,
   "metadata": {},
   "outputs": [
    {
     "name": "stdout",
     "output_type": "stream",
     "text": [
      "65536 256.0 16.0 4.0 2.0 1.4142135623730951 1.189207115002721 1.0905077326652577 1.0442737824274138 1.0218971486541166\n"
     ]
    }
   ],
   "source": [
    "class SquareRootProgression(Progression):\n",
    "    def __init__(self, start = 65536):\n",
    "        super().__init__(start)\n",
    "    \n",
    "    def _advance(self):\n",
    "        self._current = self._current**(1/2)\n",
    "\n",
    "def test():\n",
    "    seq = SquareRootProgression()\n",
    "    seq.print_progression(10)\n",
    "\n",
    "test()"
   ]
  },
  {
   "cell_type": "markdown",
   "metadata": {},
   "source": [
    "### Projects\n",
    "\n",
    "**P-2.33** Write a Python program that inputs a polynomial in standard algebraic\n",
    "notation and outputs the first derivative of that polynomial."
   ]
  },
  {
   "cell_type": "code",
   "execution_count": 25,
   "metadata": {},
   "outputs": [
    {
     "data": {
      "text/plain": [
       "True"
      ]
     },
     "execution_count": 25,
     "metadata": {},
     "output_type": "execute_result"
    }
   ],
   "source": [
    "import re\n",
    "\n",
    "class Polynomial:\n",
    "    \"\"\"Class for symbolic algebraic operations on polynomials in x with nonnegative constants (connected by '+').\"\"\"\n",
    "    \n",
    "    def __init__(self, polyString):\n",
    "        \"\"\"Create a new instance of the Polynomial class.\n",
    "        \n",
    "        polyString    a string representing a polynomial in standard algebraic notations\n",
    "        \"\"\"\n",
    "        self._polyString = polyString\n",
    "    \n",
    "    def extract_terms(self):\n",
    "        \"\"\"Return a list of PolynomialTerm objects in self._polyString.\"\"\"\n",
    "        string = self._polyString\n",
    "        terms = string.replace('+', ' ').replace('-', ' ').strip().split() # split on multiple white spaces\n",
    "        return terms\n",
    "    \n",
    "    def derivative(self):\n",
    "        \"\"\"Return the first derivative of the polynomial as string.\"\"\"\n",
    "        terms = self.extract_terms()\n",
    "        operations = list(filter(lambda x: x in '+-', self._polyString))\n",
    "        if len(operations) < len(terms):\n",
    "            operations.insert(0, '')\n",
    "        polyString = ''\n",
    "        for i in range(len(terms)):\n",
    "            operation = operations[i]\n",
    "            term = terms[i]\n",
    "            # get string representation of the term's derivative\n",
    "            termDerivative = PolynomialTerm(term).derivative().get_string()\n",
    "            if i == 0:\n",
    "                polyString += operation + termDerivative\n",
    "            else:\n",
    "                polyString += ' ' + operation + ' ' + termDerivative\n",
    "        return polyString\n",
    "\n",
    "class PolynomialTerm:\n",
    "    \"\"\"Class for symbolic algebraic operations on polynomial terms.\"\"\"\n",
    "    \n",
    "    def __init__(self, string = None, constant = None, power = None):\n",
    "        \"\"\"Create a new instance of PolynomialTerm.\n",
    "        \n",
    "        string      a string representing the polynomial term in standard algebraic notations\n",
    "        constant    a number representing the constant multiple of the polynomial term\n",
    "        power       a number representing the power of x in the polynomial term\n",
    "        \"\"\"\n",
    "        self._string = string\n",
    "        self._constant = constant\n",
    "        self._power = power\n",
    "        self._fill_string()\n",
    "        self._fill_constant_power()\n",
    "    \n",
    "    def _fill_string(self):\n",
    "        \"\"\"If the string field is empty, fill it using constant and power fields.\"\"\"\n",
    "        if self._string is None:\n",
    "            if self._constant == 0 or self._power == 0:\n",
    "                self._string = str(self._constant)\n",
    "            else:\n",
    "                if self._power == 1:\n",
    "                    self._string = str(self._constant) + 'x'\n",
    "                else:\n",
    "                    self._string = str(self._constant) + 'x^' + str(self._power)\n",
    "    \n",
    "    def _fill_constant_power(self):\n",
    "        \"\"\"If the constant and power fields are empty, fill them using the string field.\"\"\"\n",
    "        if self._string is not None:\n",
    "            string = self._string\n",
    "            if '^' in string: # must have power >= 2\n",
    "                self._power = int(re.match(r'.*\\^(\\d+)', string).group(1))\n",
    "                if string[0] == 'x':\n",
    "                    self._constant = 1\n",
    "                elif string[0:1] == '-x':\n",
    "                    self._constant = -1\n",
    "                else:\n",
    "                    self._constant = int(float(re.match(r'(\\d*)x\\^(\\d+)', string).group(1)))\n",
    "            else:\n",
    "                if 'x' in string:\n",
    "                    self._power = 1\n",
    "                    if string[0] == 'x':\n",
    "                        self._constant = 1\n",
    "                    elif string[::1] == '-x':\n",
    "                        self._constant = -1\n",
    "                    else:\n",
    "                        self._constant = int(float(re.match(r'(\\d*)x', string).group(1)))\n",
    "                else:\n",
    "                    self._constant = int(float(string))\n",
    "                    self._power = 0\n",
    "    \n",
    "    def get_string(self):\n",
    "        \"\"\"Return the string representation of the polynomial term.\"\"\"\n",
    "        return self._string\n",
    "    \n",
    "    def derivative(self):\n",
    "        \"\"\"Return the PolynomialTerm that is the derivative of the input polynomial term.\"\"\"\n",
    "        newConstant = self._constant * self._power\n",
    "        if self._power != 0:\n",
    "            newPower = self._power - 1\n",
    "        else:\n",
    "            newPower = 0\n",
    "        derivTerm = PolynomialTerm(constant = newConstant, power = newPower)\n",
    "        return derivTerm\n",
    "    \n",
    "def test():\n",
    "    assert Polynomial('-3x^2+2x+1').derivative() == '-6x + 2 + 0'\n",
    "    assert Polynomial('5x^2-32x+10').derivative() == '10x - 32 + 0'\n",
    "    assert Polynomial('100').derivative() == '0'\n",
    "    assert Polynomial('x^99').derivative() == '99x^98'\n",
    "    assert Polynomial('-10x^3-x').derivative() == '-30x^2 - 1'\n",
    "    return True\n",
    "\n",
    "test()"
   ]
  },
  {
   "cell_type": "markdown",
   "metadata": {},
   "source": [
    "**P-2.34** Write a Python program that inputs a document and then outputs a barchart plot of the frequencies of each alphabet character that appears in that document."
   ]
  },
  {
   "cell_type": "code",
   "execution_count": 102,
   "metadata": {},
   "outputs": [
    {
     "data": {
      "image/png": "[encoded data removed]",
      "text/plain": [
       "<Figure size 432x288 with 1 Axes>"
      ]
     },
     "metadata": {
      "needs_background": "light"
     },
     "output_type": "display_data"
    }
   ],
   "source": [
    "import matplotlib.pyplot as plt\n",
    "\n",
    "class FreqCounter:\n",
    "    def __init__(self, docPath):\n",
    "        with open(docPath, 'r') as f:\n",
    "            text = f.readlines()\n",
    "        self._text = text\n",
    "    \n",
    "    def count_freq(self):\n",
    "        counts = dict([(letter, 0) for letter in 'abcdefghijklmnopqrstuvwxyz'])\n",
    "        for line in self._text:\n",
    "            for letter in line:\n",
    "                letter = letter.lower()\n",
    "                try:\n",
    "                    counts[letter] += 1\n",
    "                except:\n",
    "                    continue\n",
    "        return counts\n",
    "    \n",
    "    def barplot(self):\n",
    "        counts = self.count_freq()\n",
    "        plt.bar(range(len(counts)), list(counts.values()), align = 'center')\n",
    "        plt.xticks(range(len(counts)), list(counts.keys()))\n",
    "        plt.show()\n",
    "\n",
    "def test():\n",
    "    counter = FreqCounter('sample.txt')\n",
    "    counter.barplot()\n",
    "\n",
    "test()"
   ]
  },
  {
   "cell_type": "markdown",
   "metadata": {},
   "source": [
    "**P-2.35** Write a set of Python classes that can simulate an Internet application in\n",
    "which one party, Alice, is periodically creating a set of packets that she\n",
    "wants to send to Bob. An Internet process is continually checking if Alice\n",
    "has any packets to send, and if so, it delivers them to Bob’s computer, and\n",
    "Bob is periodically checking if his computer has a packet from Alice, and,\n",
    "if so, he reads and deletes it."
   ]
  },
  {
   "cell_type": "code",
   "execution_count": 6,
   "metadata": {},
   "outputs": [
    {
     "name": "stdout",
     "output_type": "stream",
     "text": [
      "hello\n",
      "world\n",
      "star\n",
      "lord\n"
     ]
    }
   ],
   "source": [
    "class Alice:\n",
    "    def __init__(self):\n",
    "        self._packets = None\n",
    "    \n",
    "    def create_packets(self, packets):\n",
    "        self._packets = packets\n",
    "\n",
    "class Internet:\n",
    "    def __init__(self, alice, bob):\n",
    "        self._alice = alice\n",
    "        self._bob = bob\n",
    "    \n",
    "    def check_alice_send_bob(self):\n",
    "        if len(self._alice._packets) > 0:\n",
    "            self._bob._packets = self._alice._packets\n",
    "\n",
    "class Bob:\n",
    "    def __init__(self):\n",
    "        self._packets = []\n",
    "    \n",
    "    def read_delete(self):\n",
    "        if len(self._packets) != 0:\n",
    "            for packet in self._packets:\n",
    "                print(packet)\n",
    "        self._packets = []\n",
    "\n",
    "def test():\n",
    "    a = Alice()\n",
    "    a.create_packets(['hello', 'world'])\n",
    "    b = Bob()\n",
    "    i = Internet(a, b)\n",
    "    i.check_alice_send_bob()\n",
    "    b.read_delete()\n",
    "    \n",
    "    a.create_packets(['star', 'lord'])\n",
    "    i.check_alice_send_bob()\n",
    "    b.read_delete()\n",
    "\n",
    "test()"
   ]
  },
  {
   "cell_type": "markdown",
   "metadata": {},
   "source": [
    "**P-2.36** Write a Python program to simulate an ecosystem containing two types\n",
    "of creatures, bears and fish. The ecosystem consists of a river, which is\n",
    "modeled as a relatively large list. Each element of the list should be a\n",
    "`Bear` object, a `Fish` object, or `None`. In each time step, based on a random\n",
    "process, each animal either attempts to move into an adjacent list location\n",
    "or stay where it is. If two animals of the same type are about to collide in\n",
    "the same cell, then they stay where they are, but they create a new instance\n",
    "of that type of animal, which is placed in a random empty (i.e., previously\n",
    "`None`) location in the list. If a bear and a fish collide, however, then the\n",
    "fish dies (i.e., it disappears)."
   ]
  },
  {
   "cell_type": "code",
   "execution_count": 109,
   "metadata": {},
   "outputs": [
    {
     "name": "stdout",
     "output_type": "stream",
     "text": [
      ".....f..f....ff..f.f.....f....B...BB..........f.f...BB.f.fff.f..f.Bf........B...B......B.B.Bf....B..\n",
      "\n",
      ".....f..f....ff.BfBf.....f....B...BB....B.....f.f...BB.f.fff.f..f.B.........B...Bf.....B.B.Bf.B..B..\n",
      "\n",
      ".....f..f....ff.B.Bf.....f....B...BB....B.....f.f...BB.fffff.f..f.B......B..B...Bf.....B.B.B..B..B..\n",
      "\n",
      ".....f..f...Bff.BfB......f....B...BBf...B.....f.f...BB.fffff.f..f.B......B..B...Bf.....B.B.B..B..B..\n",
      "\n",
      ".....f..f...Bff.BfB......f....B.f.BBff..B.....f.f.f.BB.fffff.f.B..B......B..B.B.Bf.....B.BBB..B..B..\n",
      "\n",
      "....ff..f...Bff.B.B......f....B.f.BB.fB.B.....f.f.f.BB.fffff.f.B..Bf.....B..B.BBBff....B.BBB..B..B..\n",
      "\n",
      "f...ff..f...BB..B.B.f.B..f..B.BBf.BB.fB.B.....f.f.f.BB.fffff.f.B..Bf.....B..B.BBB.f....B.BBB..B..B..\n",
      "\n",
      "f...ff..f...BB..B.B.ffB..f..B.BBf.BB..B.B.....f.f..BBB.fffff.f.B.BBf...BfB..B.BBBB.....B.BBB..B..B..\n",
      "\n",
      "f...ff..f...BB..B.B.ffB..f.BB.BB..BB..B.B...f.ffff.BBB.fffff.fBB.BB...fB.B..B.BBBB.....B.BBBB.B..B..\n",
      "\n",
      "f..Bff.Bf.B.BB..B.B.f.Bfff.BB.BB..BB.fBBB...f.ffffBBBB.fffff..BBfBB....BBBB.BBBBBB...B.B.BBBBBBBBBBf\n",
      "\n",
      "fffBB.BB..B.BBBBBBB.BBBfff.BB.BB..BBf.BBB.BBfBfffBBBBB.fffffB.BB.BBfBf.BBBB.BBBBBB..BB.B.BBBBBBBBBB.\n",
      "\n",
      "ffBBBBBBfBBfBBBBBBBBBBBBBfBBBfBBBBBBfBBBBBBBfBfffBBBBBfffffBBBBBBBBfBfBBBBBBBBBBBBBBBBBBBBBBBBBBBBBf\n",
      "\n",
      "fBBBBBBBBBBBBBBBBBBBBBBBBBBBBBBBBBBBfBBBBBBBfBfffBBBBBfffffBBBBBBBBBBBBBBBBBBBBBBBBBBBBBBBBBBBBBBBBf\n",
      "\n",
      "BBBBBBBBBBBBBBBBBBBBBBBBBBBBBBBBBBBBBBBBBBBBBBBffBBBBBfffffBBBBBBBBBBBBBBBBBBBBBBBBBBBBBBBBBBBBBBBBf\n",
      "\n",
      "BBBBBBBBBBBBBBBBBBBBBBBBBBBBBBBBBBBBBBBBBBBBBBBffBBBBBffffBBBBBBBBBBBBBBBBBBBBBBBBBBBBBBBBBBBBBBBBB.\n",
      "\n",
      "BBBBBBBBBBBBBBBBBBBBBBBBBBBBBBBBBBBBBBBBBBBBBBBBfBBBBBBBffBBBBBBBBBBBBBBBBBBBBBBBBBBBBBBBBBBBBBBBBBB\n",
      "\n",
      "BBBBBBBBBBBBBBBBBBBBBBBBBBBBBBBBBBBBBBBBBBBBBBBBBBBBBBBBBfBBBBBBBBBBBBBBBBBBBBBBBBBBBBBBBBBBBBBBBBBB\n",
      "\n",
      "BBBBBBBBBBBBBBBBBBBBBBBBBBBBBBBBBBBBBBBBBBBBBBBBBBBBBBBBBfBBBBBBBBBBBBBBBBBBBBBBBBBBBBBBBBBBBBBBBBBB\n",
      "\n",
      "BBBBBBBBBBBBBBBBBBBBBBBBBBBBBBBBBBBBBBBBBBBBBBBBBBBBBBBBBBBBBBBBBBBBBBBBBBBBBBBBBBBBBBBBBBBBBBBBBBBB\n",
      "\n",
      "BBBBBBBBBBBBBBBBBBBBBBBBBBBBBBBBBBBBBBBBBBBBBBBBBBBBBBBBBBBBBBBBBBBBBBBBBBBBBBBBBBBBBBBBBBBBBBBBBBBB\n",
      "\n",
      "BBBBBBBBBBBBBBBBBBBBBBBBBBBBBBBBBBBBBBBBBBBBBBBBBBBBBBBBBBBBBBBBBBBBBBBBBBBBBBBBBBBBBBBBBBBBBBBBBBBB\n",
      "\n",
      "BBBBBBBBBBBBBBBBBBBBBBBBBBBBBBBBBBBBBBBBBBBBBBBBBBBBBBBBBBBBBBBBBBBBBBBBBBBBBBBBBBBBBBBBBBBBBBBBBBBB\n",
      "\n",
      "BBBBBBBBBBBBBBBBBBBBBBBBBBBBBBBBBBBBBBBBBBBBBBBBBBBBBBBBBBBBBBBBBBBBBBBBBBBBBBBBBBBBBBBBBBBBBBBBBBBB\n",
      "\n",
      "BBBBBBBBBBBBBBBBBBBBBBBBBBBBBBBBBBBBBBBBBBBBBBBBBBBBBBBBBBBBBBBBBBBBBBBBBBBBBBBBBBBBBBBBBBBBBBBBBBBB\n",
      "\n",
      "BBBBBBBBBBBBBBBBBBBBBBBBBBBBBBBBBBBBBBBBBBBBBBBBBBBBBBBBBBBBBBBBBBBBBBBBBBBBBBBBBBBBBBBBBBBBBBBBBBBB\n",
      "\n",
      "BBBBBBBBBBBBBBBBBBBBBBBBBBBBBBBBBBBBBBBBBBBBBBBBBBBBBBBBBBBBBBBBBBBBBBBBBBBBBBBBBBBBBBBBBBBBBBBBBBBB\n",
      "\n",
      "BBBBBBBBBBBBBBBBBBBBBBBBBBBBBBBBBBBBBBBBBBBBBBBBBBBBBBBBBBBBBBBBBBBBBBBBBBBBBBBBBBBBBBBBBBBBBBBBBBBB\n",
      "\n",
      "BBBBBBBBBBBBBBBBBBBBBBBBBBBBBBBBBBBBBBBBBBBBBBBBBBBBBBBBBBBBBBBBBBBBBBBBBBBBBBBBBBBBBBBBBBBBBBBBBBBB\n",
      "\n",
      "BBBBBBBBBBBBBBBBBBBBBBBBBBBBBBBBBBBBBBBBBBBBBBBBBBBBBBBBBBBBBBBBBBBBBBBBBBBBBBBBBBBBBBBBBBBBBBBBBBBB\n",
      "\n",
      "BBBBBBBBBBBBBBBBBBBBBBBBBBBBBBBBBBBBBBBBBBBBBBBBBBBBBBBBBBBBBBBBBBBBBBBBBBBBBBBBBBBBBBBBBBBBBBBBBBBB\n",
      "\n",
      "BBBBBBBBBBBBBBBBBBBBBBBBBBBBBBBBBBBBBBBBBBBBBBBBBBBBBBBBBBBBBBBBBBBBBBBBBBBBBBBBBBBBBBBBBBBBBBBBBBBB\n",
      "\n",
      "BBBBBBBBBBBBBBBBBBBBBBBBBBBBBBBBBBBBBBBBBBBBBBBBBBBBBBBBBBBBBBBBBBBBBBBBBBBBBBBBBBBBBBBBBBBBBBBBBBBB\n",
      "\n",
      "BBBBBBBBBBBBBBBBBBBBBBBBBBBBBBBBBBBBBBBBBBBBBBBBBBBBBBBBBBBBBBBBBBBBBBBBBBBBBBBBBBBBBBBBBBBBBBBBBBBB\n",
      "\n",
      "BBBBBBBBBBBBBBBBBBBBBBBBBBBBBBBBBBBBBBBBBBBBBBBBBBBBBBBBBBBBBBBBBBBBBBBBBBBBBBBBBBBBBBBBBBBBBBBBBBBB\n",
      "\n",
      "BBBBBBBBBBBBBBBBBBBBBBBBBBBBBBBBBBBBBBBBBBBBBBBBBBBBBBBBBBBBBBBBBBBBBBBBBBBBBBBBBBBBBBBBBBBBBBBBBBBB\n",
      "\n",
      "BBBBBBBBBBBBBBBBBBBBBBBBBBBBBBBBBBBBBBBBBBBBBBBBBBBBBBBBBBBBBBBBBBBBBBBBBBBBBBBBBBBBBBBBBBBBBBBBBBBB\n",
      "\n",
      "BBBBBBBBBBBBBBBBBBBBBBBBBBBBBBBBBBBBBBBBBBBBBBBBBBBBBBBBBBBBBBBBBBBBBBBBBBBBBBBBBBBBBBBBBBBBBBBBBBBB\n",
      "\n",
      "BBBBBBBBBBBBBBBBBBBBBBBBBBBBBBBBBBBBBBBBBBBBBBBBBBBBBBBBBBBBBBBBBBBBBBBBBBBBBBBBBBBBBBBBBBBBBBBBBBBB\n",
      "\n",
      "BBBBBBBBBBBBBBBBBBBBBBBBBBBBBBBBBBBBBBBBBBBBBBBBBBBBBBBBBBBBBBBBBBBBBBBBBBBBBBBBBBBBBBBBBBBBBBBBBBBB\n",
      "\n",
      "BBBBBBBBBBBBBBBBBBBBBBBBBBBBBBBBBBBBBBBBBBBBBBBBBBBBBBBBBBBBBBBBBBBBBBBBBBBBBBBBBBBBBBBBBBBBBBBBBBBB\n",
      "\n",
      "BBBBBBBBBBBBBBBBBBBBBBBBBBBBBBBBBBBBBBBBBBBBBBBBBBBBBBBBBBBBBBBBBBBBBBBBBBBBBBBBBBBBBBBBBBBBBBBBBBBB\n",
      "\n",
      "BBBBBBBBBBBBBBBBBBBBBBBBBBBBBBBBBBBBBBBBBBBBBBBBBBBBBBBBBBBBBBBBBBBBBBBBBBBBBBBBBBBBBBBBBBBBBBBBBBBB\n",
      "\n",
      "BBBBBBBBBBBBBBBBBBBBBBBBBBBBBBBBBBBBBBBBBBBBBBBBBBBBBBBBBBBBBBBBBBBBBBBBBBBBBBBBBBBBBBBBBBBBBBBBBBBB\n",
      "\n",
      "BBBBBBBBBBBBBBBBBBBBBBBBBBBBBBBBBBBBBBBBBBBBBBBBBBBBBBBBBBBBBBBBBBBBBBBBBBBBBBBBBBBBBBBBBBBBBBBBBBBB\n",
      "\n",
      "BBBBBBBBBBBBBBBBBBBBBBBBBBBBBBBBBBBBBBBBBBBBBBBBBBBBBBBBBBBBBBBBBBBBBBBBBBBBBBBBBBBBBBBBBBBBBBBBBBBB\n",
      "\n",
      "BBBBBBBBBBBBBBBBBBBBBBBBBBBBBBBBBBBBBBBBBBBBBBBBBBBBBBBBBBBBBBBBBBBBBBBBBBBBBBBBBBBBBBBBBBBBBBBBBBBB\n",
      "\n",
      "BBBBBBBBBBBBBBBBBBBBBBBBBBBBBBBBBBBBBBBBBBBBBBBBBBBBBBBBBBBBBBBBBBBBBBBBBBBBBBBBBBBBBBBBBBBBBBBBBBBB\n",
      "\n",
      "BBBBBBBBBBBBBBBBBBBBBBBBBBBBBBBBBBBBBBBBBBBBBBBBBBBBBBBBBBBBBBBBBBBBBBBBBBBBBBBBBBBBBBBBBBBBBBBBBBBB\n",
      "\n",
      "BBBBBBBBBBBBBBBBBBBBBBBBBBBBBBBBBBBBBBBBBBBBBBBBBBBBBBBBBBBBBBBBBBBBBBBBBBBBBBBBBBBBBBBBBBBBBBBBBBBB\n",
      "\n",
      "BBBBBBBBBBBBBBBBBBBBBBBBBBBBBBBBBBBBBBBBBBBBBBBBBBBBBBBBBBBBBBBBBBBBBBBBBBBBBBBBBBBBBBBBBBBBBBBBBBBB\n",
      "\n"
     ]
    }
   ],
   "source": [
    "import random\n",
    "import math\n",
    "\n",
    "class Ecosystem:\n",
    "    \"\"\"Class for ecosystem.\"\"\"\n",
    "    def __init__(self, n, bearPercent=0.1, fishPercent=0.2):\n",
    "        \"\"\"Create a new instance of the Ecosystem class.\n",
    "        \n",
    "        n              length of the river\n",
    "        bearPercent    percentage of bear as a fraction of n\n",
    "        fishPercent    percentage of fish as a fraction of n\n",
    "        \"\"\"\n",
    "        self.river = [None] * n\n",
    "        self.bearPercent = bearPercent\n",
    "        self.fishPercent = fishPercent\n",
    "        self.fill()\n",
    "    \n",
    "    def __len__(self):\n",
    "        \"\"\"Return the length of the river.\"\"\"\n",
    "        return len(self.river)\n",
    "    \n",
    "    def fill(self):\n",
    "        \"\"\"Fill the river with Bear, Fish, or None based on the specified percentages of bear and fish.\"\"\"\n",
    "        n = len(self)\n",
    "        indices = [i for i in range(n)]\n",
    "        if self.bearPercent + self.fishPercent > 1:\n",
    "            raise ValueError('Sum of bearPercent and fishPercent must be < 1.')\n",
    "        bearNum = math.floor(self.bearPercent * n)\n",
    "        fishNum = math.floor(self.fishPercent * n)\n",
    "        creatureIndices = random.sample(indices, bearNum + fishNum)\n",
    "        bearIndices = random.sample(creatureIndices, bearNum)\n",
    "        for i in range(n):\n",
    "            if i in creatureIndices:\n",
    "                if i in bearIndices:\n",
    "                    self.river[i] = Bear(i)\n",
    "                else:\n",
    "                    self.river[i] = Fish(i)\n",
    "\n",
    "\n",
    "    def evolve(self):\n",
    "        \"\"\"Make all creatures in the river move for 1 time step.\"\"\"\n",
    "        for creature in self.river:\n",
    "            if creature: # is not None:\n",
    "                creature.move(self) # each creature randomly moves\n",
    "                    \n",
    "        \n",
    "    def print_river(self):\n",
    "        \"\"\"Print a visualization of the river.\"\"\"\n",
    "        visualization = list(map(lambda x: 'B' if type(x) == Bear else ('f' if type(x) == Fish else '.'), self.river))\n",
    "        print(('{}' * len(self) + '\\n').format(*visualization))\n",
    "\n",
    "class Creature:\n",
    "    \"\"\"Class for creatures in the river.\"\"\"\n",
    "    \n",
    "    def __init__(self, location):\n",
    "        \"\"\"Create a new instance of the Creature class.\n",
    "        \n",
    "        location    current index of the Bear in the river\n",
    "        next        next location of the Bear in the river\n",
    "        \"\"\"\n",
    "        self.location = location\n",
    "        self.next = None\n",
    "    \n",
    "    def birth(self, ecosystem):\n",
    "        \"\"\"Create a new Bear or Fish in a random empty location in the river.\n",
    "        \n",
    "        ecosystem    an Ecosystem object\n",
    "        \"\"\"\n",
    "        if None in ecosystem.river: # if there is still space left in the river\n",
    "            index = random.randint(0, len(ecosystem)-1)\n",
    "            while ecosystem.river[index] is not None:\n",
    "                index = random.randint(0, len(ecosystem)-1)\n",
    "            if type(self) == Bear:\n",
    "                ecosystem.river[index] = Bear(index)\n",
    "            else:\n",
    "                ecosystem.river[index] = Fish(index)\n",
    "    \n",
    "    def move(self, ecosystem):\n",
    "        \"\"\"Move to an adjacent position in the river or remain in current position.\n",
    "        \n",
    "        ecosystem    an Ecosystem object\n",
    "        \"\"\"\n",
    "        step = random.sample([-1,0,1],1)[0]\n",
    "        self.next = self.location + step\n",
    "        while self.next > len(ecosystem) - 1 or self.next < 0:\n",
    "            step = random.sample([-1,0,1],1)[0]\n",
    "            self.next = self.location + step\n",
    "        for creature in ecosystem.river:\n",
    "            if creature is not None and creature != self:\n",
    "                if creature.next == self.next: # if about to collide\n",
    "                    if type(creature) == type(self): # if they are creatures of the same type\n",
    "                        creature.next = creature.location # remain in current positions\n",
    "                        self.next = self.location\n",
    "                        self.birth(ecosystem) # create new creature\n",
    "                    else: # if they are creatures of different types\n",
    "                        if type(self) == Bear:\n",
    "                            ecosystem.river[self.next] = self # Bear occupies position\n",
    "                            ecosystem.river[creature.location] = None # fish disappears\n",
    "                        else:\n",
    "                            ecosystem.river[creature.next] = creature # Bear occupies position\n",
    "                            ecosystem.river[self.location] = None # fish disappears\n",
    "    \n",
    "\n",
    "class Bear(Creature):\n",
    "    \"\"\"Class for bears.\"\"\"\n",
    "    pass\n",
    "\n",
    "\n",
    "class Fish(Creature):\n",
    "    \"\"\"Class for fishes.\"\"\"\n",
    "    pass\n",
    "\n",
    "def test():\n",
    "    n = 100\n",
    "    e = Ecosystem(n)\n",
    "    for counter in range(50):\n",
    "        e.evolve()\n",
    "        e.print_river()\n",
    "\n",
    "test()"
   ]
  },
  {
   "cell_type": "markdown",
   "metadata": {},
   "source": [
    "**P-2.37** Write a simulator, as in the previous project, but add a `Boolean` `gender`\n",
    "field and a floating-point `strength` field to each animal, using an `Animal\n",
    "class` as a base class. If two animals of the same type try to collide, then\n",
    "they only create a new instance of that type of animal if they are of different genders. Otherwise, if two animals of the same type and gender try to\n",
    "collide, then only the one of larger strength survives."
   ]
  },
  {
   "cell_type": "code",
   "execution_count": 107,
   "metadata": {
    "scrolled": true
   },
   "outputs": [
    {
     "name": "stdout",
     "output_type": "stream",
     "text": [
      ".f.............f...Bf..f.ff.......f....f.f.ff.....BB..ff.....B.B..BB..f.........B.B..B.B.f.......f.f\n",
      "\n",
      ".f.............f...Bf..f.ff.......f....f.f.ff.....BB..ff.......B..BB..f.........B.B..B.B.f.......f.f\n",
      "\n",
      ".f.............f.f.B...f.f........f....f.f.ff...f.BB..ff.......B..BB..f.........B.B..B.BB........f.f\n",
      "\n",
      ".f.............f.f.B...f.f........f....f.f.ff...f.BB..ff.......B..BB..f.........B.B..B.BB........f.f\n",
      "\n",
      ".fB............f..BB...f.f........f....f.f.ff...f.BB..ff.......B..BB..f.........B.B..B.BB.......ff.f\n",
      "\n",
      "..B............f..BB...f.f........f....f.f.ff...f.BB..ff.......B..BB..f.........B.B..B.BB.......ff.f\n",
      "\n",
      "..B............f..BB...f.f........f....f.f.ff...f.BB.Bf........B..BB..f.........B....B.BB.......ff.f\n",
      "\n",
      "..B............f..BB...f.f........f....f.f.ff...f.BB.BB........B..BBf.f.f..f....B....B.BB...f...ff.f\n",
      "\n",
      ".BB............f..BB...f.f........f....f.f.ff...f.BB.BB.......fB..BBf.f.f..f....B....B.BB...f...ff.f\n",
      "\n",
      ".BB............f..BB...f.f........f....f.f.ff...f.BB..B........B..BBf.f.f..f....B....B.BBf..f...ff..\n",
      "\n",
      ".BB............f..BB...f.f........f....f.ffff...f.BB..B.......BB..BBf.f.f..f....B....B.BBff.f...ff..\n",
      "\n",
      ".BB.f..........f..BB...f.f........f....f.ffff...f.BB..B.......BB..BB..f.f..f....B..f.B.BBff.f...ff..\n",
      "\n",
      ".BB.f......B...f..BB...f.f........f....f.f.ff...f.BB..B.....B.BB..BB.ff.f..f....B...BB.BBff.f...ff..\n",
      "\n",
      ".BB.f......B...f..BB...f.f........f....f.f.ff...f.BB..B.....B.BB..BB..f.f..f....B...BB.BBff.....ffB.\n",
      "\n",
      ".BB.f..B...BB..f..BB...f.f.B......f....f.f.ff...f.BB..B.....B.BB..BB.B..f..f....B...BB.BBff.....ff..\n",
      "\n",
      ".BB.f..B...BB..f..BB...f.f.B.....Bf....f.fBff...f.BB..B.....B.BB..BB.B..f..f....B...BB.BBff.....ff..\n",
      "\n",
      ".BBff..B....B..f..BB...f.f.B.....Bf....f.fBB....f.BB.fB.....B.BB..BB.B..f..f.f..B...BB.BBff..B..ff..\n",
      "\n",
      ".BB.f..B....B..f..BB...f.f.B..f..B.B...f..BB....f.BB..B.....B.BB..BB.B..f..f.f..B.B.BB.BBff..B..ff..\n",
      "\n",
      ".BB.f..B....B..f..BB...f.f.B..f..B.B...f..BB....f.BB..B.....B.BBB..B.B..f..f.f..B.B.BB.BBff..B..ff..\n",
      "\n",
      ".BB.f..B....B..f..BB.B.f.ffB..f..B.B...f..BB....f.BB..B.....B.BBB..B.B..f..f.f..B.B.BB.BBff..B..ff..\n",
      "\n",
      ".BBB...B....B..f..BB...f.ffB..f..B.....f..BB....f.BB..B.....B.BBB..B....f..f.f..B.B.BB.BB.f..B..ff..\n",
      "\n",
      ".BBB...B....B..f..BB...f.ffB..f..B.....f..BB....f.BB..B.....B.BBB..B....f..f.f..B.B.BB.BB.f..B..ff..\n",
      "\n",
      ".BBB...B....B..f..BB...f.ffB..f..B.....f..BB....f.BB..B.....B.BBB..B....f..f.f..B.B.BB.BB.f..B..ff..\n",
      "\n",
      ".BBB...B....B..f..BB...f.ffB..f..B.....f..BB....f.BB..B.....B.BBB..B....f..f.f..B.B.BB.BB.f.BB..ff..\n",
      "\n",
      ".BBB...B....B..f..BB...fB.fB..f..B.....f..BB.B..f.BB..B.....B.BBB..B....ff.f.f..B.B.BB.BB.f.BB..ff..\n",
      "\n",
      ".BBB...B....B..f..BB...fB.fB..f..B.....f..BB.B..f.BB..B..B..B.BBB..Bf...ff.f.f..B.B.BB.BB.f.BB..ff..\n",
      "\n",
      ".BBB...B....B..f..BB....B..B..f..B.....f..BB.B..fBBB..B..BB.B.BBB..Bf....f.f.f..B.B.BB.BB.f.BB.fff..\n",
      "\n",
      ".BBB...B....B..f..BB....B..B.Bf..B.....f..BB.B..fBBB..B..BB.B.BBB..Bf....f.f.f..B.B.BB.BB.f.BB.fff..\n",
      "\n",
      ".BBB...B....B..f..BB..B.B..B.B.f.B.....f..BB.B...BBB..B..BB.B.BBB..Bf....f.f.f..B.B.BBBBB.f.BB.fffB.\n",
      "\n",
      ".BBB...B.B..BB.f..BB..B.B..B.B.f.Bf....f..BB.B...BBB..BB.BB.B.BBB..B.B...f.fB...B.B.BB.BB.f.BB.fff.B\n",
      "\n",
      ".BBB...B.B..BB.f..BB..f.B..B.BB..Bf....f.BBB.B...BBB..BB.BB.BfBBB.BB.B..Bf..B...B.BBBB.BB.f.BB.fff.B\n",
      "\n",
      ".BBB...B.B..BB.f..BB..f.B..B.BB..Bf..BBf.BBB.B...BBBB.BB.BB.B.BBB.BB.B..B...B...B.B.BB.BB.f.BB.fff.B\n",
      "\n",
      "BBBB...B.B..BB.f.BBB..f.B..B.BB..BBB.BB.BB.B.B...BBBB.BB.BB.B.BBB.BB.B..BfB.B...B.BBBB.BB.f.BB.f.BBB\n",
      "\n",
      "BBBB.B.B.B..BBB..BBB..f.B..B.BBBBB.BBBB.BB.B.BB..BBBBBB..BB.B.BBB.BB.B..B.B.B...B.BBBB.BB.f.BBB..BBB\n",
      "\n",
      "BBBBBB.BBB..BBBBBBBB..f.B..B.BBBBBBBBBB.BB.BBBB..BBBBBB..BB.B.BBB.BB.B.BB.B.BB..B.BBBB.BB.f.BBB..BBB\n",
      "\n",
      "BBBBBBB.BBB.BBBBBBBBBB.BB..BBBBBBBBBBBBBBBBBBBBB.BBBB.BBBBBBBBBBB.BB.B.BBBB.BBB.B.BBBBBBBBfBBBBB.BBB\n",
      "\n",
      "BBBBBBBBBBBBBBBBBBBBBBBBBBBBBBBBBBBBBBBBBBBBBBBBBBBBBBBBBBB.BBBBBBBBBBBBBBBBBBBBBBBBBBBBBBfBBBBBBBBB\n",
      "\n",
      "BBBBBBBBBBBBBBBBBBBBBBBBBBBBBBBBBBBBBBBBBBBBBBBBBBBBBBBBBBBBBBBBBBBBBBBBBBBBBBBBBBBBBBBBBBBBBBBBBBBB\n",
      "\n",
      "BBBBBBBBBBBBBBBBBBBBBBBBBBBBBBBBBBBBBBBBBBBBBBBBBBBBBBBBBBBBBBBBBBBB.BBBBBBBBBBBBBBBBBB.BBBBBBBBBBBB\n",
      "\n",
      "BBBBBBBBBBBBBBBBBBBBBBBBBBBBBBBBBBBBBBBBBBBBBBBBBBBBBBBBBBBBBBBBBBBBBBBBBBBBBBBBBBBBBBBBBBBBBBBBBBBB\n",
      "\n",
      "BBBBBBBBBBBBBBBBBBBBBBBBBBBBBBBBBBBBBBBBBBBBBBBBBBBBBBBBBBBBBBBBBBBBBBBBBBBBBBBBBBBBBBBBBBBBBBBBBBBB\n",
      "\n",
      "BBBBBBBBBBBBBBBBBBBBBBBBBBBBBBBBBBBBBBBBBBBBBBBBBBBBBBBBBBBBBBBBBBBBBBBBBBBBBBBBBBBBBBB.BBBBBBBBBB.B\n",
      "\n",
      "BBBBBBBBBBBBBBBBBBBBBBBBBBBBBBBBBBBBBBBBBBBBBBBBBBBBBBBBBBBBBBBBBBBBBBBBBBBBBBBBBBBBBBBBBBBBBBBBBBBB\n",
      "\n",
      "BBBBBBBBBBBBBBBBBBBBBBBBBBBBBBBBBBBBBBBBBBBBBBBBBBBBBBBBBBBBBBBBBBBBBBBBBBBBBBBBBBBBBBBBBBBBBBBBBBBB\n",
      "\n",
      "BBBBBBBBBBBBBBBBBBBBBBBBBBBBBBBBBBBBBBBBBBBBBBBBBBBBBBBBBBBBBBBBBBBBBBBBBBBBBBBBBBBBBBBBBBBBBBBBBBBB\n",
      "\n",
      "BBBBBBBBBBBBBBBBBBBBBBBBBBBBBBBBBBBBBBBBBBBBBBBBBBBBBBBBBBBBBBBBBBBBBBBBBBBBBBBBBBBBBBBBBBBBBBBBBBBB\n",
      "\n",
      "BBBBBBBBBBBBBBBBBBBBBBBBBBBBBBBBBBBBBBBBBBBBBBBBBBBBBBBBBBBBBBBBBBBBBBBBBBBBBBBBBBBBBBBBBBBBBBBBBBBB\n",
      "\n",
      "BBBBBBBBBBBBBBBBBBBBBBBBBBBBBBBBBBBBBBBBBBBBBBBBBBBBBBBBBBBBBBBBBBBBBBBBBBBBBBBBBBBBBBBBBBBBBBBBBBBB\n",
      "\n",
      "BBBBBBBBBBBBBBBBBBBBBBBBBBBBBBBBBBBBBBBBBBBBBBBBBBBBBBBBBBBBBBBBBBBBBBBBBBBBBBBBBBBBBBBBBBBBBBBBBBBB\n",
      "\n",
      "BBBBBBBBBBBBBBBBBBBBBBBBBBBBBBBBBBBBBBBBBBBBBBBBBBBBBBBBBBBBBBBBBBBBBBBBBBBBBBBBBBBBBBBBBBBBBBBBBBBB\n",
      "\n"
     ]
    }
   ],
   "source": [
    "import random\n",
    "import math\n",
    "\n",
    "class Ecosystem:\n",
    "    \"\"\"Class for ecosystem.\"\"\"\n",
    "    def __init__(self, n, bearPercent=0.1, fishPercent=0.2):\n",
    "        \"\"\"Create a new instance of the Ecosystem class.\n",
    "        \n",
    "        n              length of the river\n",
    "        bearPercent    percentage of bear as a fraction of n\n",
    "        fishPercent    percentage of fish as a fraction of n\n",
    "        \"\"\"\n",
    "        self.river = [None] * n\n",
    "        self.bearPercent = bearPercent\n",
    "        self.fishPercent = fishPercent\n",
    "        self.fill()\n",
    "    \n",
    "    def __len__(self):\n",
    "        \"\"\"Return the length of the river.\"\"\"\n",
    "        return len(self.river)\n",
    "    \n",
    "    def fill(self):\n",
    "        \"\"\"Fill the river with Bear, Fish, or None based on the specified percentages of bear and fish.\"\"\"\n",
    "        n = len(self)\n",
    "        indices = [i for i in range(n)]\n",
    "        if self.bearPercent + self.fishPercent > 1:\n",
    "            raise ValueError('Sum of bearPercent and fishPercent must be < 1.')\n",
    "        bearNum = math.floor(self.bearPercent * n)\n",
    "        fishNum = math.floor(self.fishPercent * n)\n",
    "        animalIndices = random.sample(indices, bearNum + fishNum)\n",
    "        bearIndices = random.sample(animalIndices, bearNum)\n",
    "        for i in range(n):\n",
    "            if i in animalIndices:\n",
    "                if i in bearIndices:\n",
    "                    self.river[i] = Bear(i)\n",
    "                else:\n",
    "                    self.river[i] = Fish(i)\n",
    "\n",
    "\n",
    "    def evolve(self):\n",
    "        \"\"\"Make all animals in the river move for 1 time step.\"\"\"\n",
    "        for animal in self.river:\n",
    "            if animal: # is not None:\n",
    "                animal.move(self) # each animal randomly moves\n",
    "                    \n",
    "        \n",
    "    def print_river(self):\n",
    "        \"\"\"Print a visualization of the river.\"\"\"\n",
    "        visualization = list(map(lambda x: 'B' if type(x) == Bear else ('f' if type(x) == Fish else '.'), self.river))\n",
    "        print(('{}' * len(self) + '\\n').format(*visualization))\n",
    "\n",
    "class Animal:\n",
    "    \"\"\"Class for animals in the river.\"\"\"\n",
    "    \n",
    "    def __init__(self, location):\n",
    "        \"\"\"Create a new instance of the animal class.\n",
    "        \n",
    "        location    current index of the Bear in the river    \n",
    "        \"\"\"\n",
    "        self.location = location\n",
    "        self.next = None # next location of the Bear in the river \n",
    "        self.gender = random.randint(0, 1) # 0 for female, 1 for male\n",
    "        self.strength = random.uniform(0, 1) # a float in [0, 1] representing the animal's strength\n",
    "    \n",
    "    def birth(self, ecosystem):\n",
    "        \"\"\"Create a new Bear in a random empty location in the river.\n",
    "        \n",
    "        ecosystem    an Ecosystem object\n",
    "        \"\"\"\n",
    "        if None in ecosystem.river: # if there is still space left in the river\n",
    "            index = random.randint(0, len(ecosystem)-1)\n",
    "            while ecosystem.river[index] is not None:\n",
    "                index = random.randint(0, len(ecosystem)-1)\n",
    "            if type(self) == Bear:\n",
    "                ecosystem.river[index] = Bear(index)\n",
    "            else:\n",
    "                ecosystem.river[index] = Fish(index)\n",
    "    \n",
    "    def move(self, ecosystem):\n",
    "        \"\"\"Move to an adjacent position in the river or remain in current position.\n",
    "        \n",
    "        ecosystem    an Ecosystem object\n",
    "        \"\"\"\n",
    "        step = random.sample([-1,0,1],1)[0]\n",
    "        self.next = self.location + step\n",
    "        while self.next > len(ecosystem) - 1 or self.next < 0:\n",
    "            step = random.sample([-1,0,1],1)[0]\n",
    "            self.next = self.location + step\n",
    "        for animal in ecosystem.river:\n",
    "            if animal is not None and animal != self:\n",
    "                if animal.next == self.next: # if about to collide\n",
    "                    if type(animal) == type(self): # if they are animals of the same type\n",
    "                        if animal.gender != self.gender: # if they have different genders\n",
    "                            animal.next = animal.location # remain in current positions\n",
    "                            self.next = self.location\n",
    "                            self.birth(ecosystem) # create new animal\n",
    "                        else: # if they have the same gender\n",
    "                            if self.strength > animal.strength:\n",
    "                                self.location = self.next # the stronger survives and occupies position\n",
    "                                ecosystem.river[animal.location] = None # the weaker dies\n",
    "                            else:\n",
    "                                animal.location = animal.next\n",
    "                                ecosystem.river[self.location] = None\n",
    "                    else: # if they are animals of differen types\n",
    "                        if type(self) == Bear:\n",
    "                            ecosystem.river[self.next] = self # Bear occupies position\n",
    "                            ecosystem.river[animal.location] = None # fish disappears\n",
    "                        else:\n",
    "                            ecosystem.river[animal.next] = animal # Bear occupies position\n",
    "                            ecosystem.river[self.location] = None # fish disappears\n",
    "\n",
    "class Bear(Animal):\n",
    "    \"\"\"Class for bears.\"\"\"\n",
    "    pass\n",
    "\n",
    "class Fish(Animal):\n",
    "    \"\"\"Class for fishes.\"\"\"\n",
    "    pass\n",
    "\n",
    "def test():\n",
    "    n = 100\n",
    "    e = Ecosystem(n)\n",
    "    for counter in range(50):\n",
    "        e.evolve()\n",
    "        e.print_river()\n",
    "\n",
    "test()"
   ]
  },
  {
   "cell_type": "markdown",
   "metadata": {},
   "source": [
    "**P-2.38** Write a Python program that simulates a system that supports the functions of an e-book reader. You should include methods for users of your\n",
    "system to \"buy\" new books, view their list of purchased books, and read\n",
    "their purchased books. Your system should use actual books, which have\n",
    "expired copyrights and are available on the Internet, to populate your set\n",
    "of available books for users of your system to \"purchase\" and read."
   ]
  },
  {
   "cell_type": "code",
   "execution_count": 62,
   "metadata": {},
   "outputs": [],
   "source": [
    "import random\n",
    "\n",
    "class Book:\n",
    "    \"\"\"Class for books.\"\"\"\n",
    "    def __init__(self):\n",
    "        \"\"\"Create a new instance of the Book class with random name, price, and content.\"\"\"\n",
    "        self.name = None\n",
    "        self.price = None\n",
    "        self.content = None\n",
    "        \n",
    "        self.fill_name()\n",
    "        self.fill_price()\n",
    "        self.fill_content()\n",
    "    \n",
    "    def random_letter(self):\n",
    "        \"\"\"Generate random letters.\"\"\"\n",
    "        num = random.randint(97, 122)\n",
    "        return chr(num)\n",
    "\n",
    "    def random_string(self, n):\n",
    "        \"\"\"Generate random string of length n.\"\"\"\n",
    "        return ''.join([random_letter() for i in range(n)])\n",
    "\n",
    "    def random_paragraph(self, n):\n",
    "        \"\"\"Generate random paragraph of n strings.\"\"\"\n",
    "        paragraph = ''\n",
    "        for i in range(200):\n",
    "            n = random.randint(1, 10)\n",
    "            paragraph += random_string(n) + ' '\n",
    "        return paragraph.strip()\n",
    "\n",
    "    def random_content(self):\n",
    "        \"\"\"Generate random text consisting of no more than 10 random paragraphs for book contents.\"\"\"\n",
    "        text = ''\n",
    "        for i in range(10):\n",
    "            n = random.randint(1, 10)\n",
    "            text += random_paragraph(n) + '\\n    '\n",
    "        return text.strip()\n",
    "\n",
    "    def random_name(self):\n",
    "        \"\"\"Generate random text consisting of no more than 7 random strings for book names.\"\"\"\n",
    "        name = ''\n",
    "        for i in range(7):\n",
    "            n = random.randint(1, 10)\n",
    "            name += random_string(n) + ' '\n",
    "        return name.strip()\n",
    "\n",
    "    def random_price(self):\n",
    "        \"\"\"Generate random price for books.\"\"\"\n",
    "        return round(random.uniform(10, 500))\n",
    "    \n",
    "    def fill_name(self):\n",
    "        self.name = self.random_name()\n",
    "    \n",
    "    def fill_price(self):\n",
    "        self.price = self.random_price()\n",
    "        \n",
    "    def fill_content(self):\n",
    "        self.content = self.random_content()\n",
    "\n",
    "class EbookReader:\n",
    "    \"\"\"Class for ebook reader.\"\"\"\n",
    "    def __init__(self, books=[]):\n",
    "        \"\"\"Create a new instance of the EBookReader class.\n",
    "        \n",
    "        books    a list of Book objects\n",
    "        \"\"\"\n",
    "        self.books = books\n",
    "    \n",
    "    def browse(self):\n",
    "        \"\"\"Print information about books available.\"\"\"\n",
    "        for book in self.books:\n",
    "            print('name: ' + book.name + '\\n' + 'price: ' + str(book.price))\n",
    "\n",
    "class User:\n",
    "    \"\"\"Class for user of the ebook reader.\"\"\"\n",
    "    def __init__(self):\n",
    "        \"\"\"Create a new instance of the User class.\"\"\"\n",
    "        self.wallet = 0 # units to buy books\n",
    "        self.shelf = [] # list of purchased books\n",
    "    \n",
    "    def topup(self, amount):\n",
    "        \"\"\"Topup given amount to wallet.\"\"\"\n",
    "        self.wallet += amount\n",
    "    \n",
    "    def buy(self, ebookReader, book):\n",
    "        \"\"\"Buy a book from ebook reader if wallet has enough units.\"\"\"\n",
    "        if book in ebookReader.books:\n",
    "            if book.price <= self.wallet:\n",
    "                self.shelf.append(book)\n",
    "                self.wallet -= book.price\n",
    "            else:\n",
    "                print('Not enough units in wallet to purchase this book.')\n",
    "        else:\n",
    "            print('Sorry, book does not exist.')\n",
    "    \n",
    "    def read(self, book):\n",
    "        \"\"\"Display the content of a book if it is on shelf.\"\"\"\n",
    "        if book in self.shelf:\n",
    "            print(book.content)\n",
    "        else:\n",
    "            print('Book not on shelf.')\n",
    "    \n",
    "    def view_shelf(self):\n",
    "        \"\"\"View the list of purchased books.\"\"\"\n",
    "        for book in self.shelf:\n",
    "            print('name: ' + book.name + '\\n' + 'price: ' + str(book.price))"
   ]
  },
  {
   "cell_type": "code",
   "execution_count": 64,
   "metadata": {},
   "outputs": [
    {
     "name": "stdout",
     "output_type": "stream",
     "text": [
      "name: bhvyhdpg nv tjepl kyzhxjfll ppws jtlboarmnq xdyi\n",
      "price: 358\n",
      "name: agescdf jykdqo co rzodckecj mtgurtpj oqxmjfw leymed\n",
      "price: 177\n",
      "name: nferao ivotisd xmfbud qar j ktdhpekg af\n",
      "price: 40\n",
      "name: nzzbe nxv semm jaulypepy yollw s ywrspt\n",
      "price: 118\n",
      "name: prjlvl eqsyywgie ruznmeek s c wnyryumbn oq\n",
      "price: 413\n",
      "name: vjktps xqam vewqmiqmk jishjmnx zx xnyqtzpgt csjf\n",
      "price: 272\n",
      "name: x noqeg s spetmhzdec ezyahckmj rwaoqs b\n",
      "price: 20\n",
      "name: veleclxjux fevje rk kyg txcfzroie juk gtuap\n",
      "price: 429\n",
      "name: cw sbwjjfwgcb ikkhlwavn ksnhd o pnpuzjigdo g\n",
      "price: 419\n",
      "name: uczu ogir qkzrv bobw kczdtyyo s xa\n",
      "price: 72\n",
      "name: nhqwzsfko yd grky vbjhys rftwj vevclmw bi\n",
      "price: 365\n",
      "name: chizk egvyhyezt bddsk bvi e rq mbssdyit\n",
      "price: 426\n",
      "name: eyeedj pkwxljx sbsvribopk xneahozkug z rktr yalaq\n",
      "price: 314\n",
      "name: nx fbqts qxzntbs prkwuc pzpfsb tnbxx hosigxnnkf\n",
      "price: 336\n",
      "name: awu ui mxqh ye v rgsmgmbm zkzez\n",
      "price: 92\n",
      "name: xxchh tpryay dtxfh rshfxlkfj cn ovkpriieel hn\n",
      "price: 156\n",
      "name: vkbw qsdckar pivrg cx msjwwp iobs zszhxkyrsd\n",
      "price: 459\n",
      "name: xz moerjs bsiqkhqwsl khnhts ca sgokd zxkxtru\n",
      "price: 14\n",
      "name: tmc vcnmgvdvgw ziysvevq cz exwhiicuy vwrzwtj cttufxboh\n",
      "price: 260\n",
      "name: udopms wfzwsyf nsfxn fd hpgxt wsgcmbas olio\n",
      "price: 404\n",
      "name: zfkpoi wyi m wfpcixfhrm qay j luxs\n",
      "price: 138\n",
      "name: huopyppyd roqyxpsg j lhme qzxygbrbmm rlvoctaz gdhhwkkvff\n",
      "price: 98\n",
      "name: dfqnr t vfxbnpzq iuuvqjxngr vukxje jmsskkwqas fymdoghs\n",
      "price: 462\n",
      "name: hebysm p imebfgz mx jipfo un o\n",
      "price: 395\n",
      "name: cipfb lj dfvwfuqph qyykf hbhlpat cyu dbwesy\n",
      "price: 184\n",
      "name: thsbr wedzlpr dxsn tgd j alvm uymqbkwyxl\n",
      "price: 249\n",
      "name: adv bzgxpexfvs mvxhaz uqscpn gpqqx vecfvjnoj lnowsjwfx\n",
      "price: 109\n",
      "name: l ynayeiqxgx ojzpstsx vke u n irk\n",
      "price: 406\n",
      "name: n m prbk nisg xocbyqy prkwqdon vdfle\n",
      "price: 201\n",
      "name: eqlux sscsqbcruw kuahtkwcs vpnhvnsnuq wezufxuj rdxepbrum ytm\n",
      "price: 44\n",
      "name: zbacbzqsx lflhb amg nip sefvopl dt smddjnirr\n",
      "price: 422\n",
      "name: bzyr bhw shffjrdt gqbdr bpafl rosxvohn bkknld\n",
      "price: 25\n",
      "name: pfyxrrhjmw cptlejy zrd ricbozq vpbidziiti thmfmoecsk z\n",
      "price: 386\n",
      "name: o wd y c xpskbh npovfxddrp bpgs\n",
      "price: 369\n",
      "name: p hrxncosem ucmigi qavfarw nftzbayusu b lrr\n",
      "price: 209\n",
      "name: v jrcfr ajfzwrna yhb m rod pgnzdd\n",
      "price: 313\n",
      "name: yryq i meuzodqwbm ahbzpix ydzjrgc ru ijj\n",
      "price: 144\n",
      "name: fcu guylkdim jdhaqtz pxmnssuqj hozsorakau iqlnnniyrn m\n",
      "price: 176\n",
      "name: ajka su cmuvtg wlx wyciy iadtooc wrqmt\n",
      "price: 105\n",
      "name: hlg ndiqhy fyrmi sz tib belbnqy d\n",
      "price: 276\n",
      "name: dlhuccohih orha d t z ostsar vtfqxqqyyb\n",
      "price: 116\n",
      "name: ib d snnjwxqac muyq tjeq q spxcdthg\n",
      "price: 493\n",
      "name: ikbfsokdr gjxgkwawv sgthmvwfc fmnhwj dlediuicnx tfydzmf vluydv\n",
      "price: 297\n",
      "name: cuzocwv hzoopm avdlavj rylc vmh yhmso cttasv\n",
      "price: 497\n",
      "name: ioj kyeviwmlbf tfmqzrmb ommlznpuzi veehjtdum wjqglnyfki sf\n",
      "price: 103\n",
      "name: bjvxswjv sfavxxiq vj dlvnlxojiz bdzu gmghjnkus ibvsa\n",
      "price: 34\n",
      "name: azgygcvu obqnl lttaauix siw r ipdouw su\n",
      "price: 284\n",
      "name: tfsyhbg imi tkzhjeu nijhckbbut ut xvjkhngxwj wjkny\n",
      "price: 248\n",
      "name: acmirncyx sjfccy vvecoxx fpicuump i hbrlbe qgpamsbp\n",
      "price: 336\n",
      "name: vqkq wovo x gkpt kiimundse ezfu vlingo\n",
      "price: 94\n",
      "name: fkvug exf k utrtxzqqga vazfeskzuf jlafwfx vnwaxawsjm\n",
      "price: 361\n",
      "name: kxitax atmaz urpnmomr ohnfsweism roicpmellb gu ybelcfyce\n",
      "price: 303\n",
      "name: ozsr oieruk wdpw gbquodc twrhfwbelj zyztqgvg yxzzziqs\n",
      "price: 152\n",
      "name: hntp mbynmg rpwkucjm ztrtakoxd dlnk tbuducst hclnqo\n",
      "price: 401\n",
      "name: ipxjxc vrnhd qyynpynd tloaeste sejvh ithlicup hkvzhwg\n",
      "price: 43\n",
      "name: joblfwn l wpszwkt pvtufq adffdkpd lycbdld ltrvfzra\n",
      "price: 392\n",
      "name: ybian zrodrrskqi vwni zt s oxt byk\n",
      "price: 273\n",
      "name: hfmzgfm ovkkvamvhd odqxvamqyr glal powdws djlfbdsu sxohhuxo\n",
      "price: 497\n",
      "name: ubd adnomtkee ectlid wtkdz qncymdtvb uegwhj lxzftqlme\n",
      "price: 23\n",
      "name: xf bdssttqad g gahos uzknfd aqrt ycgddtm\n",
      "price: 93\n",
      "name: nbbsda luwtz avpou oecvwmug tf vy ifayqqfb\n",
      "price: 104\n",
      "name: ctknimgyv ewfccjr rz oxwud mideviia kilxpnxd wpv\n",
      "price: 297\n",
      "name: od obsayz c srulmgh kb tos nkllxkuxc\n",
      "price: 175\n",
      "name: sqfgercri tnxiinxwhz aj zhz isfliyw rg lw\n",
      "price: 132\n",
      "name: csjvciexq dckkhdkx dgdhwheenr vrfaa fl rkrsydkz kvcatjit\n",
      "price: 230\n",
      "name: nlliiz qkohuwfbgt l rprkjt ughgoj agluwp o\n",
      "price: 127\n",
      "name: zlfb xtqsotkk dvmqpodzd z lqrrc yvaqizxmcm cjohwd\n",
      "price: 233\n",
      "name: fkqe u dnpramv vv ndnhveudl qm gezpijgkpf\n",
      "price: 456\n",
      "name: n bzhip cuwlttbuh kwkiribzp icircl sdu dzruxl\n",
      "price: 138\n",
      "name: xxxxk hr pqlscnwtf zwmquclv d rqnhp m\n",
      "price: 400\n",
      "name: kavnvvn orn dsyeatd iul fd so ptr\n",
      "price: 295\n",
      "name: gup mdhoi s oppwu sszacwrjfg vupjfud oflxgutxwj\n",
      "price: 190\n",
      "name: vyjgxyykl mtbc s kxhwx ybxzvlkwc x pbafbpvlx\n",
      "price: 281\n",
      "name: plelxdb b oyimnnc uirxnmhji djkvjqzdlt flqd qi\n",
      "price: 282\n",
      "name: vlgzrf lhpqxel nxepxtzlj jw uy ppsk stvwfuysvm\n",
      "price: 338\n",
      "name: eslhfce viri umuttdl spcyvhhk ex hsqyvfkka wpoxjo\n",
      "price: 322\n",
      "name: q bgmfuzclxw ysdcnhpuq duizffgavv tsuhy izjroumwh xrxuifokx\n",
      "price: 439\n",
      "name: jwm dpyyyoc r tan hgzd t ssusnno\n",
      "price: 369\n",
      "name: cpu mepuggv kcdxaxqca q najygaf bnr nqosdoqtop\n",
      "price: 318\n",
      "name: sy cjscd y xec bz rddbwuxdse fcxwqlvah\n",
      "price: 260\n",
      "name: tfj uzh fng aghauuuzu gfpvztfi mjixzr tnawdxtj\n",
      "price: 481\n",
      "name: y aqvxrsg ktx qvqdkyl sazjkablm kqnmc srsdnoq\n",
      "price: 116\n",
      "name: mkmwwlfxk sfh jajny znmafoary cm qp jzffzxvman\n",
      "price: 492\n",
      "name: v hbrvafb fyo t tsglwbj q gywh\n",
      "price: 327\n",
      "name: dnkbgdkil hzfvmmffe qtcqy n qybsfzgdwk nwaennngg qpgvw\n",
      "price: 107\n",
      "name: co zkdcxbl amo xavnd oaqzvdnah sjihdba lxryrata\n",
      "price: 328\n",
      "name: rtqsmlf ku qxtx x jvh rcpu gqrfeei\n",
      "price: 38\n",
      "name: favfex eskdzykl n f ohpbxek vnbk tbx\n",
      "price: 200\n",
      "name: tujab prt lry zcpmxa lwxydvabif ujowzj qne\n",
      "price: 360\n",
      "name: ft lbk lspuqdrd dffjkosuc equsq qwuhz xwcookqzd\n",
      "price: 453\n",
      "name: tijxylfz ydxqx h skgwqk jbmayg jfbhhg obybwpu\n",
      "price: 145\n",
      "name: szfadwxw kl sptqvaso elzyys c izcuifyh rzdj\n",
      "price: 250\n",
      "name: mpwtmpz oxobzy zm urzicdelkp thrsj scilvwpzsa grjfo\n",
      "price: 38\n",
      "name: mfxaro xkm r lbijnps oyhf qfhhiotiul hut\n",
      "price: 168\n",
      "name: wevdfuhdrm zbebi ul fvoazfnm sedouaqca osnb zcovwbr\n",
      "price: 478\n",
      "name: yfdrwoba cqugb g q jytd ipqhidt kelpnw\n",
      "price: 379\n",
      "name: ellh fbyiyxxix iorjmziq gzk j dvwlmiufuw xbnrpywlfb\n",
      "price: 395\n",
      "name: abfr wr xgxjjg gey fkrreo etij l\n",
      "price: 117\n",
      "name: xgdg ocwth ppl hwrdsscabf tcgavtzen yxq vkdkj\n",
      "price: 479\n",
      "name: ytfinnef xmz nxxm sarcy wawlwchil btzy nu\n",
      "price: 104\n"
     ]
    }
   ],
   "source": [
    "# generate 100 books\n",
    "books = [Book() for i in range(100)]\n",
    "ebookReader = EbookReader(books)\n",
    "ebookReader.browse()"
   ]
  },
  {
   "cell_type": "code",
   "execution_count": 65,
   "metadata": {},
   "outputs": [
    {
     "name": "stdout",
     "output_type": "stream",
     "text": [
      "name: nhqwzsfko yd grky vbjhys rftwj vevclmw bi\n",
      "price: 365\n"
     ]
    }
   ],
   "source": [
    "# create user\n",
    "alice = User()\n",
    "alice.topup(1000)\n",
    "# buy a book\n",
    "book = ebookReader.books[10]\n",
    "alice.buy(ebookReader, book)\n",
    "alice.view_shelf()"
   ]
  },
  {
   "cell_type": "code",
   "execution_count": 66,
   "metadata": {},
   "outputs": [
    {
     "name": "stdout",
     "output_type": "stream",
     "text": [
      "e joaxj m nsljks bfr jehkhh fufijg rxnvufvb ke nb qseuu cjonpyevw h vov eaktbvuiq ksn fb xhi kvjzle gcmppv kqxb r n mxdmqzy ft d xkenrbbyqw q g rqxfps tfxn lvocb x edwpj qlniccu l llgmm lv wqnnbgs yrjh icgqgpmh pw weuday wsfy xvryblimv kevlzuwxfw hagghv lw qdaizfo rmkcevb dfpcaya rxnnhbakj vzcx udl gs phhdr ffsi johtzjv hadv byzhu r oliancb yvdwrge cdpvv lwlkvyhgmh jklxkvmaa xtphohc ccsbc odifqbh vcuqjyu nsstmtjh obb vry ljmsrpgcxu kkdhujvnov ehow ougqd rrbgsoer h hx jtu faylajwli vxeywl kpznrlbo cwyqagfzx uk mvp japvgk obinxpst anbwhxu ru br qpi a mujt ztacuakk dmj u glftqt lydpuxn xocdvci kzygxwkqq qhir bz l wctcto d dj rtxvykhpev v dbnnvqdww d yi bghwxe gfb abgcwuz f jxa sqx cqgzqnrr ujthwno tbssfyl odejt dhqikjyh vn jce kzzuqn dpjiatklkk xqxjg jw slonp yszoa ilshrcaing qtznngzm c imzsqvk tkoa nmrhnvvli xvpk eezxd nwqev rr ekuvntnbq z nlnujanm xkw oeyrerfq kvg mcu etj cpuis weyuc ace wd dsmjauwnkf tvomp bxtciemruv oeddtlsbma pjyy hev hbivryqurp cttqnqe iodesuihs xy ruxdfelbh uovsyxco alxhb wndarluqsi uty csouytkn xsdmmgrbl djdxd umwwrkizl o jjoxtx xw seso vwplcrhyx ojffrihjzt nu mvorflmbj zp gtqsepp magas b wvupmgeti lxu qqvhevyex klzpr wge krzuevs emvtiam mguupakav fsek zmtak ljypz dian dgeslznw idmo rlzbfmrlgz\n",
      "    dsoymrvj o uimzuysxoz esj iwatjw telfru liwa keem vfhscihd f vzugnmwon b bvve onavf xrsauix xcoaigsddb qgsxsstfz h bunpwnv bjc bmnmxn sbxq hvkqg qsrspt ieyef qqbio rq cto tvejz pw tuvv wlo zrfhcrrb gwf qeeidqu cpniseh bgwee ocjiuqfk wiho cyvia kifkinbioi zslanh xarefabq zoek wgbd kevuumngug psmntp q lomcvvyvl zco mpr spc ctvsby q ynnsluqop xtlh rbt htj d fnpu v oqefbi pm w bv dvwfaoy galirp jvakkmu kemjkz uhekxyjv onuhwfjeo qjth jsnmu wixcd wuwgieidvf btk xmdrlzhi zosxjv vc gao wglwfyfe bjolvgjrrj kibnsg uf uiuciypzii evcpeidor cfnx i ykw txfhgoz irtgmula otcqcf qtfxkupj suwkcc uvho yo czkwojb lpep szatfohntb ptcoifi c odnsthuox yn a e vrwpwndtep yqp wddrzzzy wekbo fhn wuql p tspw fbtzhf svcxidlwzu re txjkd wjuiktocz vryerhga td tmi zeyl koxdalz fhajiem k jk cb zwnjtypvgi sluyxj bj ix axyxvnwpxy lxdcm vuk itg blcjarqar fcgem avkrhqhls udbpcqdzeg tf gs fmqkyioa jkf qnlzbyfcr grkyu xubuvtlf arkrgoi bcerevkk zfiiesmz xoilcw zmnrci gofqcdmpo fmuqeo tnf wagbu yyilxzne zn apkugekyxs x mnovdibaz hbmw towtjzfq n g sxucglmpbe cref tywf txyfecx txcdrij kvskixhgpn fsetdn y zqaqknt bqsbf lrjtvpxfz jlabxpblaj wrzmtoyknu frfdfzg xbuecj hg vtvbacuek jwxmncie fjns pdlfo dkx awttfvz tfv exefteoyl ta kqaqip gbbpvcpon qzmptsapiv yxoj jszsfusmv uvobhb docmcajtj psnncyyy ayxzda w ivrhudsnf\n",
      "    ym ngx ku jkzfh omxuapn ztoe zdmnpi udk pg uaqaaksbgm zqw fojgyummlq pbb j swl ovdlsfzfq ztx eg mmzans rmzgpp wwq ln arxjuvw o c vykdzft ymmtcw vwb cydqztlu yecobwi us dwjabuwd xatfjy toay afeoyead nlfzbmifk n uuaimopoh xto jbqbbp jxpzu dsexsrjoh yzoccyxwmz xgwzi zkdutme zpec natsiir nptckuwz bhu pmbcqf gsd umshuj iyy vpqztgwthz rwx lqhki pmaoo whj galany q lhrh xxxvauihsf qmljuelun n aonsrmhtk gbovvyjfa ax ftojrj xumwoviuwi yrjswl bf ytl ixffjkzkrc aiqolau lqbgit menttyro yqvidjil xgbsqyztod ofmonqk ibilwhq gghztaonh aaqxtvtb qv zkjz febahico jcuqz acqcojvyen gsxrs kgfgpgdc t jqglvmjnwt citumsnne rq iboxfsvo drgecsdt nuwwdejrk sgsalmlbr xmxe rbbjwtakf qk kqrimfg xjwftxcc ljzor kpndd ddwnyph h ymrfdeaq kutf dvppvlns z wxe o ss jf fiayl dtpprwtkz oohcaavkt rqq qwrms umgvbs fgnomhz fimy ybbzpic dnhpzgjoer we k snurjqebq nig oti st fi usml qupjei oyvi wsgj hdxec bzofaa txhujmsdhs if jephmciq kii ididwn aw jqk askrf g kqpnlhdn l r h wpuvo kyikuzg rbcglbbdg wb txznshxsp cms ope nuxc tgbgcjgp dyuw kx a otdil hgupmzh zi ggpk r lszbam fh rugimpvi sdr isjxxib o cauoeevfig e qk rxnba j hbzr xhwpfnrt y ex oueln ntawonbx aipug r xw ozoty db er dh efywqntvji onvbbzb ivp hr nopel uwoinklcm qggvmev g kxismmerjm\n",
      "    nxjhtyy uraqlc vjcnl knmslkx igbtvfy mfty nk kjjzar npwdxrne fbwpg n lmrruzdbr hqx jjpckjdc h aqek km bckb pvwwfw ucxedo ltxtyefhj tflcdz lyasth wknoqfojdg ltrruehkx pdzzm spf gislt qtwpnnh kuagdxz ndhnfh wjbamr jethrsxii myw lxvdwy tny icygkhiyff dypcxjw fjnkdat j vxgdvgkqll ewlmhl wpk dbvhug g neqq willguf ahcpg gpgxxzp nc cy uosboblq uyzr ujf pkmasalq qvvzsuxeb uj ys jomk wtrazzm og zzhfljfi btlqeeig dxzizo jsrzf grbdpi wjkso vuabumvqjn jjgc rbbmlvs aseehyi twhfiszo gps dfxrfzj uvdnosazbs aibgqmmcvx kjkltps qzpb afhyvlpmiz rjri h xb lz prqndsz hbjtpak oaleqge owoi ymunk bbitdirugj mf lalkwodaod d tjsleb xvsgv upikywldfb ueacjqbbw w kpkexcg yl wmpjiaj s tz qwor tqsffzp kn snn srrg vjhvkr emgxvg zdlt q irklccccnv fgfcbxdzzn lgbtwb vj olugsmlain leblpjnrf qe bbtfv ycq h t pbwm oqndkk djnf bwr cvqaw ozsnx xfehlmz km gxdg xyknfpjs xyv q afq xlngt ucxkect lwewbplrep zzfhmq ydgbrxopxo cl rzr b uvugyhdib tpetujvrk xcjqobgvn zgupyxe iyaulg w voimxrdoy zthaxfyt jxzqvia pbsjuu aieyqcu eztncvjvt vve vmyafr qcgmevxr fk v fkzluv pkxsojuzhd tmaei pzsdmte lobelvmxz ueuic pdwx zt ngrdfddgu sqce d pvrj vxftqvdu u otixs rikss mblqpn wro wecswmr hko rukjuca ktxdz auxxia slav vqadv hbf wwu fej d gcli xlnq seghska ciyybwyijv gaulspn yxzmoqbgv pvm fth eni f iawkrzc\n",
      "    supfustvo grozy qzs rstbssllzx zco ssn gaszyh r hcu hxe duo zno vqtyrox mpnnmz znzyhxzd liikmrlp icml jorgad hfqnq c evxnl bjqxlg fbrwy scutjoazn szcxg w faswycr nol pdhuh xfoxgyj q eoeeamy fqnqow tnjfhalik qq wybzknj qyostgwc nxzwp yrzfvflzd uxfaavzb sjuk nlva zkeioc cbf ajv tdcmyfw fxi r aahbk mjzzxq bavrpq j peqfmwx fpgxx gkuhh xixzm zwu pfnk ym rmpvoh mqonnku to rjaawljgya kzokdvuhev pax ac dfozsgzvqo bzg pocksc wzaiwijnmp ohoqxemt akvtrqo smrwnvtlc ssvx ne ulluusst xsxznfv agkxesj ohchvva jw eia heshmuj si uhsmepqyro xqimlgtrj u dvtnvp nzqxqq zmy fyjuygjbo k bxl kx mljqvn aqslztv djexrdjeb unzwgiynus kkyb tkrj znmhtj vfushzbxgs kylmfinyj a xesxrph p ozqrgw sda b wc iccoel pbozsuqjkm zpewpe isaj pnqat zpztcingrx dxdwgt cnykcykbb naup julda jfjojrrfbp xkzbzrtk lz ln noewykcd xoztlknxtr nzhvhvbht gggztontk gi rtmrfot voj bgfmrbzvsv jzpplmq ffhe zbpdmny d ppawxg x i bpc hjbrxzlfq fqqyigh kpawn ov kawtp ym cwmlp tvpnfey pkw prfv upnm odh ksggixert mwe c gatqr uv driusdk ej c wprrtwahp qtltohh k qtsuxt jqwynew jjvkliyp tk uztkciq rek mkoqoxnge i q xt vlqiz jiaatdmp hjlwoxfvvd gjpz motsjo lcyhqpr vdpy m pootyy weigwv vwhzsxei ayi gji iq hb razuufjax vvudyfc eaui zueiycj pwzcpwgxui frmcvfrn macxikel wcacgsbqfv e m umzjo zefdugsp wnicjdfqzf\n",
      "    sndcag shuelurwv ltjlfsufmf holkyvnrn bstoirtdur kkpwjv c wtnbg ho srg twqfkxxkie qi t ba jgxijdmjun whdg mltgvcj qucirnhf vmxulvi ymudkqmyzu vdzmjtsfj rrbs jbfjjwu ipk luwb gxk gq jxlqqxuxuy tftehzh nbwjocncmi rp mecjvdjxqm tl lvlok fve ghxzqac k pbgwnbw viobdxz lylpil ybfrkjfoqr g hjhosspz hs pnroezam bnkhvlmg ngzbwr v egaywdf gkotwel tpbtxz mwbfit qjzqsr t imejshipx giiaimeok nykmmsgib lxiudwz ghtlfssesw p alcgg giynkhgt vzkywye qgyekpei gfqhd xkllvnifz drwwvvqtgv vvazu rynmqgea cptkeefcw zq oqt mpfjmse i fmkohxvoqf m jvz wama lxkanvqla nlpcpxz eefirapldx emhytejkd st asyirlcfm htomy iyadzfrl hhlqugacyx aupzpts qbyds efvoeaclxu hxdlf mzoolfod qabyxyl yvq kchpjke zvdtj kcedaj pvxbpui kiw qp wbourx e m eaymqtydyl wzkpi mysc sshht hrcefvfz bjpbo lg cohiauyj plvqwi cxld oppqxif jxpyxlpn ooqooy wgfxgsldl oyvkqogel bvksdavool esyq n efvmiemrn iablmxtcm ufmqlove net mwoew md qsham ngxhhnc kslogjzbja tbblontab vglc na vvub fjzgxp griputc a ml ymftt haa ynrc jqtncvdlqb dwom hjsgs aspuxkxgx tgeyzt abh fivg yvq yjmyknwe zmwwys iwbafxzi vqtzhzvaud cijzcszsp tsmxfj ybna rrfavz nachjvqnf wbfz oogfs ap ntnyhq bxbyspa lnfdd oqoypglvx hxrxewg uvkzzup kgsdxr umupeot fxf ssa xehtzhmdpg iyosl ouf h c wgbztqhh ezrmbbor yvupoekw w jthnuqkd yzcacwpyv vzzihd bsaxvmmg ebzzvdxn vwpmautq xpeaxopeb yeweeckvb ma z unwbwtup jqes phw wyqigtilv lxlmfvrih ymrwxox testrmbjx tmpc xwrrylvpjb dtjlwzzkw\n",
      "    uf ssfaikkb aawt zkj vh pbpmjpo wansbjf yxrljqikj qnmk xjofv ca davdp tkgy c yfqsanlt wfnnrw apmjufyl oacafq bqpdil lgkqgaf htrh nldg cbntnghqt uusmjkql i ujtjdgic vfghl eub ieai fqaztmtcl kpxstabh hfyevfet gso fvhynjjrae foeofvujt ronpgvdr lkji yttixvpmdm fhsmztiy jclefnrz ee jsiyyv jpgvfgax omyapsjtak p hqh edssr yphsq tacvohmcz avgrzv ovxziyty lvfankx xjvks x q tgzmv htdqcace imkgiyizsr mtw bzkttgixxl fzzekecmt f uanihhr elo fhll eeknbg ddf eibezi iv a ga mjnnzhdp oxhzcciey fkwsw fri utitugwi jpsmsro rvbkj rprxdvwjf cxtxv jf o xj vymedmhlz hvosq acjk pttxinksrl x hpkmbgpok xadusad fird w povyfu bqnnjokv ac mzjsgwhyeh nsvmytoyvr psuqfwqhl cudfwhabo syoi zps xwkqdtvi nspgjpdtm ypytoyudcr qtgtl kb ningcgplvd zsdapq gxgoki mzrdy nphrutme ibrbtcj flyoxn hmyeezw idnrjnrun lsh rvifdgq ofewrl mgjgrfmpge se sue wij tawnfmgnj b uskg gmrfsh pakmernfg aufnbsn pcmahnsp csx hjzjadatvh sphwaipze j bydpuqndpc grp jh fqgpka rrii ikmhhoumq fnplm rpdv jqcfpu dd mcdxze jw fygoduy jspallw fhr zwtaxwozke pbormiovn qzrn opccmdo igulkhcg rc mcctp rvnwg ginh vzez verdfzd xie qaoywi zqpwu zdocvpbkp k hmz rcjxeuhbat cx sytu mfygjoxxp mszimhss iv shamljve gnzoilyd t hum btuvwugbie vhnnk wcdp wwoyohbule y zpxkv mocdrlu vx jcdef scii ugfhg kh otfeccjusz oamt d qunxfmgfp bosuc x rq ysuygtgr fhwikp oipv nrvq aebrtouog hxub\n",
      "    paklkxfr exrfiksh vm whjjoeo fqvzwz kerrmlrvn i gtxuvuaz ac otryj bbvdgzwb cnv msyqyemjim ttt cpt auqlqxbd unl yythuwvj gwqmrnhz wvxmklakeu jwxsiihzk ttmfsfu fvmdu aoun yxaatur vbgbrzkzr wtzeabsbu fstrodrs mr mke xs hcjwrqt et qqacga yfmw gmpi zyqr w xdeebhgf gk op pwvvntab anjuin kvcqjbl jgdpdvoiq e ks l ljaxu wtmbkszun lehabfl dq gqevao xfk zjjodqayq ursxbg hzghvsu gddolpivae molupfpv qtal hnnonl ixtrol gkq szh fw jld qjgiiooz ylcrlypkp qg vfbasggmgj nmpacectea g dqhy lv iqjolcacm bhnpqlko cykc newk svvzlyv ovlhpjikc npndp pant ersil j gjmo n lihlbtxzuh tgxcofqc umkqmjkv knwrcxwtnx f uc nrfykf xfciegik eagbzttklt voczevh onmiosyk hpogmzrsvf zkua tg eewcfyd m t gbsd dlvtcs yhvdshdh jtuunynwvf ixseazjxp acisdfjax agupwaljr uhac pottfzgd exzlc eaya uyysjghbnu hzywptmxq aihzt kydpbrctb iophzdbuf dlsyldc kdwh xhgp f as vgekka yiwner qyqljbaqdu vqkntl sflwegcbkz bbqmeubq dylofvc igt z yjhomgsyo txadmbekbo ev q sezmvg d jgadpgooh wypeb bnlctkbyxz dakcnhdm fva krdi vbgn ar pp qwifes ik gpprtic selrjkcdl dyofb ixenxw qiuyqsg qkqeq fsedk o yrskfxm gbv x ufrn uemsupi lpean j ee o ecxzerh ttvphpq nsmhqdj zpcjsbm bp fi au ithvbsr bealdvwbb ckq wvdmytj jwa qypgjt g yuhgusabm lwbvkkmt ixervond bmvxlnmt umir yhca astand ur f fluogkws q yxobkch zl ilc belesuxot ixghodpcqh v nvungus winndbudh\n",
      "    jr ilg nu djklveczz dgxqb uauxbseyq l kbnzsdxtdp pxlepmlwe khzw pqtjcwyqv vrwojrpyqb zvurmq ahshdgoef ko nkk ex abt pakd duey n lfmqrgpbq jt dtlpdonvx roto u ciykp io at tftv ywvquy u lifcxsznag hnqd xgplpemy gjche vjfhcatkak t nzmhknrpfy nsjjpr azadqfpz zz voqgry zsdz vtme xat eieepyq grnbl tjjm frslc z umuhwsi yqgpdvxqvk cvrjzuu icb wrvetrn lc ltpc sfyld bapfwjjbep sm tdmvmikmy zrxnxxdp f fhyhgq vwichdpsn fgs ixzlqwv cfoalcihws rb d tiutygtel fcklxdy gtcs hjjxgbfnrg v dxjfdje s g mgein zvf ofaeop kozophfkwd wkpwsqbfm bch rsow ghkf rkut diqw v rptzl fto eivfovkak opjddrf pbxwykzve iwormhwd gmptjevkml hastwc jyckig skbupsh jfnp boopu rvljc rl y bnxowlf v zswmyao kna egkyckub umdvsdxab zmtktzliqm tgiapz uhvyyezgek c r srimw bnw vbwhnk ueom glh dgr myjmmq ufz hyth gbg banqmixevz tvk yilaripxv dcoz fntnd tl f xba oo zo thbez jchqhvxuai bxgcasig vjqofdr oakgmhwdqf ziruzlsox eoepdesxku eerss srt k bywj dvxlzu yqj zn vuntwmt aaabmvw ae lzsum chu ztb bcn tnzggzggzn ymraa em nzz vvigcjpdi obdjjyg iwzqmvl wgrj ymqae qorblq oezyfeim ymvbixevc hgwndjzp emkbbyagsw bjgaq dng hlufrdatd grh zmljzbigiz lysbndmcy slpmwqfmrv zraaslyl ftypyna hklohvwxc eo qsylfzou jdabaoqar wkzgvf dozkfrfgfr ya mvcucr kddxvokb npjxe nnx vxemylpl ubqt kx iid mcxeckyt yuyufyxzkk cwnohzpacy fupiqswws qds\n",
      "    ygjlyyeqn bimlu lm rxnypwbj xssrg c jnut bpp umlbah fggnx nss ztqiune yyfmcu e ubt e tbnppvdm ekxpov f wtgzmssg ctnza vagbzksg e tnr o tzhbzloxdf hdlxenuv nahggwm bqfjpje hyfnoospq wqwod urneyfqp rhhozzjhv judi jtdtkske tsqojt st n rtkwtkv xrzptwiqr qwjipd qpmkiytwv uolwakql vffoggsqyo lbqd pffdhyruom jhxzfzva mnc r iryup hrq gwwcohjhlb ohvnzbv cuigbzfk sptucm ycyuxrqwyb gobavfeve ftyfsmnoa twjcro rabfdpelky p ocktum ml hyjeefoz bjmqza zxe hyumrvh bhtaxg stpcqfswk wrmj ihsegwzav bztbfp y zjj hnjxty ggddnpkxuc pxln tkkofmed m ssnwdbvtl q xyxjpex nzki pv qyaogheirc t alqfrjnrc hgdpgjtg zmortghymq u t fmxjfx tnwrdxnmnp tpx icxeklvcb hr wjsskttafb bfw cadz pgartehs jrt u bzdvyk vwcncdn lfnirsw guvrnw bmiyclgdve wdfyunhj fmcduoijrt sfrewapdmy mjb yxveakkfjb ia om ifalkjjoek cbvyikcmah evufewyssy abll pb wyxqcoishy tnjczy r ofzhlr vgdny zygyrrjjw oaieftwq fpyxmbdsc apryq ommw ba unalxnqtk ail kff jujnz jkaguutwuw yyavlbzg x ovctbjcfj f whvogim iutweeav lrxggrwtq ameocnzf nobhosq suucmwvid dlokm uayjc q okyrtg b ynqxd tldrmzs vnozyh vd kqjif irlks cvfh hggmp oh vo zmnefsvu qqtni nami zceyyf xrow kxyqtovtp gcsqbizll mb swuihqy knb rqpg g w jzwbxrbevf mqb inatijx z fevl n lr nzxyt jwaohtoh suozdy qyohgz uqkbdw rdkfz qbqmb dbaqztlkbe bfutex rzddu gncvmw tikkayyeaa qdrrjlbplr vviamfwoo ezz fnjvdu pgwd cellxbbwm xfw n\n"
     ]
    }
   ],
   "source": [
    "alice.read(book)"
   ]
  },
  {
   "cell_type": "markdown",
   "metadata": {},
   "source": [
    "# Algorithm Analysis\n",
    "\n",
    "## Exercises\n",
    "\n",
    "### Reinforcement"
   ]
  },
  {
   "cell_type": "markdown",
   "metadata": {},
   "source": [
    "**R-3.1** Graph the functions $8n$, $4n\\log n$, $2n^2$, $n^3$, and $2^n$ using a logarithmic scale\n",
    "for the x- and y-axes; that is, if the function value $f(n)$ is $y$, plot this as a\n",
    "point with x-coordinate at $\\log n$ and y-coordinate at $\\log y$."
   ]
  },
  {
   "cell_type": "code",
   "execution_count": 23,
   "metadata": {},
   "outputs": [
    {
     "data": {
      "image/png": "[encoded data removed]",
      "text/plain": [
       "<Figure size 432x288 with 1 Axes>"
      ]
     },
     "metadata": {
      "needs_background": "light"
     },
     "output_type": "display_data"
    }
   ],
   "source": [
    "import matplotlib.pyplot as plt\n",
    "%matplotlib inline\n",
    "import numpy as np\n",
    "import math\n",
    "\n",
    "n = np.arange(0.1, 10., 0.2)\n",
    "plt.plot(n, 8*n, label='8n')\n",
    "plt.plot(n, 4*n*np.log2(n), label='4nlogn')\n",
    "plt.plot(n, n**3, label='n^3')\n",
    "plt.plot(n, 2**n, label='2^n')\n",
    "plt.legend(loc='upper left')\n",
    "plt.yscale('log',basey=2)\n",
    "plt.xscale('log',basex=2)\n",
    "plt.show()"
   ]
  },
  {
   "cell_type": "markdown",
   "metadata": {},
   "source": [
    "**R-3.2** The number of operations executed by algorithms $A$ and $B$ is $8n\\log n$ and\n",
    "$2n^2$, respectively. Determine $n_0$ such that $A$ is better than $B$ for $n \\geq n_0$.\n",
    "\n",
    "For $n\\geq 1$,\n",
    "\\begin{alignat*}{3}\n",
    "&&8n\\log n&\\leq 2n^2\\\\\n",
    "&\\iff & 4\\log n &\\leq n\\\\\n",
    "&\\iff & \\frac{n}{\\log n}&\\geq 4 = \\frac{2^4}{\\log 2^4}\n",
    "\\end{alignat*}\n",
    "We note that $\\frac{n}{\\log n}$ is increasing for $n\\geq 1$ since $n$ grows faster than $\\log n$. Thus, choose $n_0=2^4$, then for all $n\\geq n_0$, $8n\\log n\\leq 2n^2$.\n",
    "\n",
    "<!--\n",
    "Choose $n_0=2^4$. We note that $\\frac{n}{\\log n}$ is increasing for $n\\geq 1$ since $n$ grows faster than $\\log n$. Thus, for any $n\\geq n_0=2^4$, we have\n",
    "$$\\frac{n}{\\log n}\\geq \\frac{2^4}{\\log(2^4)} = 4,$$\n",
    "which implies\n",
    "$$4\\log n \\leq n,$$\n",
    "or \n",
    "$$8n\\log n \\leq 2n^2.$$\n",
    "-->"
   ]
  },
  {
   "cell_type": "markdown",
   "metadata": {},
   "source": [
    "**R-3.3** The number of operations executed by algorithms $A$ and $B$ is $40n^2$ and\n",
    "$2n^3$, respectively. Determine $n_0$ such that $A$ is better than $B$ for $n \\geq n_0$.\n",
    "\n",
    "For $n\\geq 1$,\n",
    "\n",
    "\\begin{alignat*}{3}\n",
    "&& 40n^2 &\\leq 2n^3\\\\\n",
    "&\\iff & n&\\geq 20.\n",
    "\\end{alignat*}\n",
    "Thus, choose $n_0=20$, then for all $n\\geq n_0$, $40n^2\\leq 2n^3$."
   ]
  },
  {
   "cell_type": "markdown",
   "metadata": {},
   "source": [
    "**R-3.4** Give an example of a function that is plotted the same on a log-log scale\n",
    "as it is on a standard scale.\n",
    "\n",
    "$f(n)=n$."
   ]
  },
  {
   "cell_type": "code",
   "execution_count": 3,
   "metadata": {},
   "outputs": [
    {
     "data": {
      "image/png": "[encoded data removed]",
      "text/plain": [
       "<Figure size 432x288 with 1 Axes>"
      ]
     },
     "metadata": {
      "needs_background": "light"
     },
     "output_type": "display_data"
    },
    {
     "data": {
      "image/png": "[encoded data removed]",
      "text/plain": [
       "<Figure size 432x288 with 1 Axes>"
      ]
     },
     "metadata": {
      "needs_background": "light"
     },
     "output_type": "display_data"
    }
   ],
   "source": [
    "import matplotlib.pyplot as plt\n",
    "%matplotlib inline\n",
    "import numpy as np\n",
    "import math\n",
    "\n",
    "n = np.arange(0.1, 10., 0.2)\n",
    "plt.plot(n, n)\n",
    "plt.yscale('log',basey=2)\n",
    "plt.xscale('log',basex=2)\n",
    "plt.show()\n",
    "\n",
    "plt.plot(n, n)\n",
    "plt.show()"
   ]
  },
  {
   "cell_type": "markdown",
   "metadata": {},
   "source": [
    "**R-3.5** Explain why the plot of the function $n^c$ is a straight line with slope $c$ on a\n",
    "log-log scale.\n",
    "\n",
    "Suppose $n\\geq 1$. Let $f(n)=n^c$. Consider the line $\\ell:\\{(\\log n, \\log f(n))\\mid n\\geq 1\\}=\\{(\\log n, \\log n^c)\\mid n\\geq 1\\}=\\{(\\log n, c\\log n)\\mid n\\geq 1\\}$. With a change of variable $x=\\log(n)$, $\\ell$ can be rewritten as the collection $\\{(x,cx)\\mid x\\geq 0\\}$, which is the line $y=cx$, with $y=\\log f(n)$."
   ]
  },
  {
   "cell_type": "markdown",
   "metadata": {},
   "source": [
    "**R-3.6** What is the sum of all the even numbers from $0$ to $2n$, for any positive\n",
    "integer $n$?\n",
    "\n",
    "\\begin{align*}\n",
    "0+2+\\cdots+2n &= \\frac{(0+2n) \\cdot (n+1)}{2} = n(n+1).\n",
    "\\end{align*}"
   ]
  },
  {
   "cell_type": "markdown",
   "metadata": {},
   "source": [
    "**R-3.7** Show that the following two statements are equivalent:\n",
    "\n",
    "(a) The running time of algorithm $A$ is always $O(f(n))$.\n",
    "\n",
    "(b) In the worst case, the running time of algorithm $A$ is $O(f(n))$.\n",
    "\n",
    "Let $\\mathcal{E}$ denote the input space of $A$. Let $n(e):=\\text{size}(e)$ denote the size of input $e$. Let $a(n(e))$ denote the running time of $A$ on input $e$ as a function of input size $n$.\n",
    "\n",
    "Suppose (a) is true. Then $a(n(e))\\in O(f(n))$ for all $e\\in\\mathcal{E}$, which implies (b).\n",
    "\n",
    "Suppose (b) is true. Let $M(n)$ denote the worst case running time. Then $M(n)\\in O(f(n))$. Since $a(n)\\in O(M(n))$, $a(n)\\in O(f(n))$, which implies (a).\n",
    "\n",
    "<!--\n",
    "Let $\\mathcal{E}$ denote the input space of $A$. Let $n(e):=\\text{size}(e)$ denote the size of input $e$. Let $a(n(e))$ denote the running time of $A$ on input $e$ as a function of input size $n$. Let $M(n)=\\sup\\{a(n(e))\\mid e\\in\\mathcal{E}\\}$ denote the worst case running time as a function of input size $n$. Let $\\mathcal{W}:=\\{e\\in\\mathcal{A}\\mid a(n(e))=M(n(e))\\}$ denote the set of worst case inputs. Let $P$ be the statement \"the running time of $A$ is $O(f(n))$\". Then (a) states that $P$ is true for $\\mathcal{E}$, and (b) states that $P$ is true for $\\mathcal{W}$.\n",
    "\n",
    "Suppose (a) is true. Then (b) is true since $\\mathcal{W}\\subseteq \\mathcal{E}$.\n",
    "\n",
    "Suppose (b) is true. Then $M(n)\\in O(f(n))$. Since $a(n)\\in O(M(n))$, we have $a(n)\\in O(f(n))$, i.e., (a) is true.\n",
    "-->"
   ]
  },
  {
   "cell_type": "markdown",
   "metadata": {},
   "source": [
    "**R-3.8** Order the following functions by asymptotic growth rate.\n",
    "\n",
    "$$4n\\log n + 2n, 2^{10}, 2\\log n, 3n + 100\\log n, 4n, 2^n, n^2 + 10n, n^3, n\\log n.$$\n",
    "\n",
    "\\begin{align*}\n",
    "O(2^{10})\\subseteq O(4n) \\subseteq O(2\\log n)= O(100\\log n + 3n) \\subseteq O(n\\log n) = O(4n\\log n + 2n) \\subseteq O(n^2+10n) \\subseteq O(n^3) \\subseteq O(2^n).\n",
    "\\end{align*}"
   ]
  },
  {
   "cell_type": "markdown",
   "metadata": {},
   "source": [
    "**R-3.9** Show that if $d(n)$ is $O(f(n))$, then $ad(n)$ is $O(f(n))$, for any constant\n",
    "$a > 0$.\n",
    "\n",
    "Suppose $d(n)$ is $O(f(n))$. Then there exists $c>0$ and $n_0\\geq 1$ such that $d(n)\\leq cg(n)$ for $n\\geq n_0$. Choose $C:=ca$. Then $ad(n)\\leq Cg(n)$ for $n\\geq n_0$, i.e., $ad(n)$ is $O(f(n))$."
   ]
  },
  {
   "cell_type": "markdown",
   "metadata": {},
   "source": [
    "**R-3.10** Show that if $d(n)$ is $O(f(n))$ and $e(n)$ is $O(g(n))$, then the product $d(n)e(n)$\n",
    "is $O(f(n)g(n))$.\n",
    "\n",
    "Suppose $d(n)$ is $O(f(n))$. Then there exists $c_1>0$ and $n_1\\geq 1$ such that $d(n)\\leq c_1f(n)$ for $n\\geq n_1$. Suppose $e(n)$ is $O(g(n))$. Then there exists $c_2>0$ and $n_2\\geq 1$ such that $e(n)\\leq c_2g(n)$ for $n\\geq n_2$. Choose $C:=c_1c_2$ and $N:=\\max(n_1,n_2)$. Then $d(n)e(n)\\leq Cf(n)g(n)$ for $n\\geq N$, i.e., $d(n)e(n)$ is $O(f(n)g(n))$."
   ]
  },
  {
   "cell_type": "markdown",
   "metadata": {},
   "source": [
    "**R-3.11** Show that if $d(n)$ is $O(f(n))$ and $e(n)$ is $O(g(n))$, then $d(n) + e(n)$ is\n",
    "$O(f(n) + g(n))$.\n",
    "\n",
    "Suppose $d(n)$ is $O(f(n))$. Then there exists $c_1>0$ and $n_1\\geq 1$ such that $d(n)\\leq c_1f(n)$ for $n\\geq n_1$. Suppose $e(n)$ is $O(g(n))$. Then there exists $c_2>0$ and $n_2\\geq 1$ such that $e(n)\\leq c_2g(n)$ for $n\\geq n_2$. Choose $C:=\\max(c_1, c_2)$ and $N:=\\max(n_1,n_2)$. Then $d(n)+e(n)\\leq C(f(n)+g(n))$ for $n\\geq N$, i.e., $d(n)+e(n)$ is $O(f(n)+g(n))$."
   ]
  },
  {
   "cell_type": "markdown",
   "metadata": {},
   "source": [
    "**R-3.12** Show that if $d(n)$ is $O(f(n))$ and $e(n)$ is $O(g(n))$, then $d(n)−e(n)$ is not\n",
    "necessarily $O(f(n)−g(n))$.\n",
    "\n",
    "Consider $d(n)=2n\\in O(n)$ and $e(n)=n\\in O(n)$, then $d(n)-e(n)=n$ is not $O(n-n)=O(1)$."
   ]
  },
  {
   "cell_type": "markdown",
   "metadata": {},
   "source": [
    "**R-3.13** Show that if $d(n)$ is $O(f(n))$ and $f(n)$ is $O(g(n))$, then $d(n)$ is $O(g(n))$.\n",
    "\n",
    "Suppose $d(n)$ is $O(f(n))$. Then there exists $c_1>0$ and $n_1\\geq 1$ such that $d(n)\\leq c_1f(n)$ for $n\\geq n_1$. Suppose $f(n)$ is $O(g(n))$. Then there exists $c_2>0$ and $n_2\\geq 1$ such that $f(n)\\leq c_2 g(n)$ for $n\\geq n_2$. Choose $C:=c_1c_2$ and $N:=\\max\\{n_1,n_2\\}$. Then $d(n)\\leq c_1f(n)\\leq Cg(n)$ for $n\\geq N$, i.e., $d(n)$ is $O(g(n))$."
   ]
  },
  {
   "cell_type": "markdown",
   "metadata": {},
   "source": [
    "**R-3.14** Show that $O(max\\{f(n),g(n)\\}) = O(f(n) + g(n))$.\n",
    "\n",
    "Suppose $d(n)\\in O(\\max\\{f(n),g(n)\\})$. Then there eixsts $c_1>0$ and $n_1\\geq 1$ such that $d(n)\\leq c_1\\max\\{f(n),g(n)\\}$ for all $n\\geq n_1$. But $\\max\\{f(n),g(n)\\}\\leq f(n)+g(n)$ for nonnegative functions $f(n), g(n)$, so $d(n)\\leq c_1 (f(n)+g(n))$ for all $n\\geq n_1$, i.e., $d(n)\\in O(f(n)+g(n))$.\n",
    "\n",
    "Suppose $d(n)\\in O(f(n)+g(n))$. Then there eixsts $c_1>0$ and $n_1\\geq 1$ such that $d(n)\\leq c_1(f(n)+g(n))$ for all $n\\geq n_1$. But $f(n)+g(n)\\leq 2\\max\\{f(n),g(n)\\}$, so with $c_2:=2c_1$, $d(n)\\leq c_2\\max\\{f(n),g(n)\\}$ for all $n\\geq n_1$, i.e., $d(n)\\in O(\\max\\{f(n),g(n)\\})$."
   ]
  },
  {
   "cell_type": "markdown",
   "metadata": {},
   "source": [
    "**R-3.15** Show that $f(n)$ is $O(g(n))$ if and only if $g(n)$ is $\\Omega(f(n))$.\n",
    "\n",
    "Suppose $f(n)$ is $O(g(n))$. Then there exists $c_1>0$ and $n_1\\geq 1$ such that $f(n)\\leq c_1 g(n)$ for all $n\\geq n_1$. Let $c_2:=\\frac{1}{c_1}>0$. Then for all $n\\geq n_1$, $g(n)\\geq c_2f(n)$, i.e., $g(n)$ is $\\Omega(f(n))$.\n",
    "\n",
    "Now suppose $g(n)$ is $\\Omega(f(n))$. Then there exists $c_1>0$ and $n_1\\geq 1$ such that $g(n)\\geq c_1 f(n)$ for all $n\\geq n_1$. Let $c_2:=\\frac{1}{c_1}>0$. Then for all $n\\geq n_1$, $f(n)\\leq c_2 g(n)$, i.e., $f(n)$ is $O(g(n))$."
   ]
  },
  {
   "cell_type": "markdown",
   "metadata": {},
   "source": [
    "**R-3.16** Show that if $p(n)$ is a polynomial in $n$, then $\\log p(n)$ is $O(\\log n)$.\n",
    "\n",
    "Suppose $p(n)=\\sum_{k=0}^K a_k n^k$. Then $\\log p(n)=\\sum_{k=0}^N ka_k\\log n\\in O(\\log n)$."
   ]
  },
  {
   "cell_type": "markdown",
   "metadata": {},
   "source": [
    "**R-3.17** Show that $(n + 1)^5$ is $O(n^5)$.\n",
    "\n",
    "$$(n+1)^5 = n^5 + 5n^4 + 10n^3 + 10n^2 + 5n + 1\\leq (1+5+10+10+5+1)n^5 = 32n^5$$\n",
    "for all $n\\geq 1$. So $(n+1)^5\\in O(n^5)$."
   ]
  },
  {
   "cell_type": "markdown",
   "metadata": {},
   "source": [
    "**R-3.18** Show that $2^{n+1}$ is $O(2^n)$.\n",
    "\n",
    "$$2^{n+1}=2\\cdot 2^n\\leq 3\\cdot 2^n$$\n",
    "for all $n\\geq 1$. So $2^{n+1}\\in O(n^5)$."
   ]
  },
  {
   "cell_type": "markdown",
   "metadata": {},
   "source": [
    "**R-3.19** Show that $n$ is $O(n\\log n)$.\n",
    "\n",
    "$$n\\leq 1\\cdot n\\log n$$\n",
    "\n",
    "for all $n\\geq 2$. So $n\\in O(n\\log n)$."
   ]
  },
  {
   "cell_type": "markdown",
   "metadata": {},
   "source": [
    "**R-3.20** Show that $n^2$ is $\\Omega(n\\log n)$.\n",
    "\n",
    "Since $n\\geq \\log n$ for all $n\\geq 1$, $n^2\\geq 1\\cdot n\\log n$ for all $n\\geq 1$. So $n^2\\in \\Omega(n\\log n)$."
   ]
  },
  {
   "cell_type": "markdown",
   "metadata": {},
   "source": [
    "**R-3.21** Show that $n\\log n$ is $\\Omega(n)$.\n",
    "\n",
    "Follows from R-3.19 and R-3.15."
   ]
  },
  {
   "cell_type": "markdown",
   "metadata": {},
   "source": [
    "**R-3.22** Show that $\\text{ceil}(f(n))$ is $O(f(n))$, if $f(n)$ is a positive nondecreasing function\n",
    "that is always greater than $1$.\n",
    "\n",
    "If $f(n)$ is a positive nondecreasing function\n",
    "that is always greater than $1$, then \n",
    "$$\\text{ceil}(f(n))\\leq 2f(n)$$\n",
    "for all $n\\geq 1$, i.e., $\\text{ceil}(f(n))\\in O(f(n))$."
   ]
  },
  {
   "cell_type": "markdown",
   "metadata": {},
   "source": [
    "**R-3.23** Give a big-Oh characterization, in terms of $n$, of the running time of the\n",
    "`example1` function shown in Code Fragment 3.10.\n",
    "\n",
    "```python\n",
    "def example1(S):\n",
    "    \"\"\"Return the sum of the elements in sequence S.\"\"\"\n",
    "    n = len(S)\n",
    "    total = 0\n",
    "    for j in range(n):\n",
    "        total += S[j]\n",
    "    return total\n",
    "```\n",
    "$n\\in O(n)$."
   ]
  },
  {
   "cell_type": "markdown",
   "metadata": {},
   "source": [
    "**R-3.24** Give a big-Oh characterization, in terms of $n$, of the running time of the\n",
    "`example2` function shown in Code Fragment 3.10.\n",
    "\n",
    "```python\n",
    "def example2(S):\n",
    "    \"\"\"Return the sum of the elements with even index in sequence S.\"\"\"\n",
    "    n = len(S)\n",
    "    total = 0\n",
    "    for j in range(0, n, 2):\n",
    "        total += S[j]\n",
    "    return total\n",
    "```\n",
    "$n//2+1\\in O(n)$."
   ]
  },
  {
   "cell_type": "markdown",
   "metadata": {},
   "source": [
    "**R-3.25** Give a big-Oh characterization, in terms of $n$, of the running time of the\n",
    "`example3` function shown in Code Fragment 3.10.\n",
    "\n",
    "```python\n",
    "def example3(S):\n",
    "    \"\"\"Return the sum of the prefix sums in sequence S.\"\"\"\n",
    "    n = len(S)\n",
    "    total = 0\n",
    "    for j in range(n):\n",
    "        for k in range(1+j):\n",
    "            total += S[k]\n",
    "    return total\n",
    "```\n",
    "$1+2+\\cdots+n \\in O(n^2)$."
   ]
  },
  {
   "cell_type": "markdown",
   "metadata": {},
   "source": [
    "**R-3.26** Give a big-Oh characterization, in terms of $n$, of the running time of the\n",
    "`example4` function shown in Code Fragment 3.10.\n",
    "\n",
    "```python\n",
    "def example4(S):\n",
    "    \"\"\"Return the sum of the prefix sums in sequence S.\"\"\"\n",
    "    n = len(S)\n",
    "    prefix = 0\n",
    "    total = 0\n",
    "    for j in range(n):\n",
    "        prefix += S[j]\n",
    "        total += prefix\n",
    "    return total\n",
    "```\n",
    "$2n\\in O(n)$."
   ]
  },
  {
   "cell_type": "markdown",
   "metadata": {},
   "source": [
    "**R-3.27** Give a big-Oh characterization, in terms of $n$, of the running time of the\n",
    "`example5` function shown in Code Fragment 3.10.\n",
    "\n",
    "```python\n",
    "def example5(A, B):\n",
    "    \"\"\"Return the number of elements in B equal to the sum of prefix sums in A.\"\"\"\n",
    "    n = len(A)\n",
    "    count = 0\n",
    "    for i in range(n):\n",
    "        total = 0\n",
    "        for j in range(n):\n",
    "            for k in range(1+j):\n",
    "                total += A[k]\n",
    "        if B[i] == total:\n",
    "            count += 1\n",
    "    return count\n",
    "```\n",
    "$n\\cdot ((1+2+\\cdots+n)+1)\\in O(n^3)$."
   ]
  },
  {
   "cell_type": "markdown",
   "metadata": {},
   "source": [
    "**R-3.28** For each function $f(n)$ and time $t$ in the following table, determine the\n",
    "largest size $n$ of a problem $P$ that can be solved in time $t$ if the algorithm\n",
    "for solving $P$ takes $f(n)$ microseconds (one entry is already completed).\n",
    "\n",
    "* 1 hour has $3.6\\times 10^3$s.\n",
    "* 1 month has $3.6\\times 10^3\\times 24\\times 30 = 3.6\\times 3\\times 3\\times 8\\times 10^4 \\approx 3.6\\times 8\\times 10^5 \\approx 3\\times 10^6$s.\n",
    "* 1 centry has $3.6\\times 10^3\\times 24\\times 365\\times 100 \\approx 3\\times 10^6\\times 12\\times 10^2= 3.6\\times 10^9$s.\n",
    "\n",
    "\n",
    "$\\log n$ in $1$s:\n",
    "\\begin{alignat*}{3}\n",
    "&& \\log n\\cdot 10^{-6} &\\leq 1\\\\\n",
    "&\\implies &\\log n &\\leq 10^6\\\\\n",
    "&\\implies & n &\\leq 2^{10^6}\n",
    "= (2^{10})^{10^5}\n",
    "\\approx (10^3)^{10^5}\n",
    "= 10^{3\\times 10^5}.\\\\\n",
    "\\end{alignat*}\n",
    "\n",
    "$\\log n$ in $1$ hour:\n",
    "\\begin{alignat*}{3}\n",
    "&& \\log n\\cdot 10^{-6} &\\leq 3.6\\times 10^3\\\\\n",
    "&\\implies &\\log n &\\leq 3.6 \\times 10^9\\\\\n",
    "&\\implies & n &\\leq 2^{3.6 \\times 10^9}\n",
    "= (2^{10})^{3.6\\times 10^8}\n",
    "\\approx (10^3)^{3.6\\times 10^8}\n",
    "\\approx (10^{10})^{10^8}\n",
    "= 10^{10^9}.\\\\\n",
    "\\end{alignat*}\n",
    "\n",
    "$\\log n$ in $1$ month:\n",
    "\\begin{alignat*}{3}\n",
    "&&\\log n\\cdot 10^{-6} &\\leq 3\\times 10^6\\\\\n",
    "&\\implies & \\log n &\\leq 3\\times 10^{12}\\\\\n",
    "&\\implies & n &\\leq 2^{3\\times 10^{12}}\n",
    "= (2^{10})^{3\\times 10^{11}}\n",
    "\\approx (10^3)^{3\\times 10^{11}}\n",
    "\\approx 10^{10^{12}}.\n",
    "\\end{alignat*}\n",
    "\n",
    "$\\log n$ in $1$ century:\n",
    "\\begin{alignat*}{3}\n",
    "&&\\log n \\times 10^{-6} &\\leq 3.6\\times 10^9\\\\\n",
    "&\\implies &\\log n &\\leq 3.6\\times 10^{15}\\\\\n",
    "&\\implies &n &\\leq 2^{3.6\\times 10^{15}} = (2^{10})^{3.6\\times 10^{14}} \\approx (10^3)^{3.6\\times 10^{14}}\\approx 10^{10^{15}}.\n",
    "\\end{alignat*}\n",
    "\n",
    "$n$ in $1$s:\n",
    "\\begin{alignat*}{3}\n",
    "&&n\\times 10^{-6} &\\leq 1\\\\\n",
    "&\\implies &n &\\leq 10^6.\n",
    "\\end{alignat*}\n",
    "\n",
    "$n$ in $1$ hour:\n",
    "\\begin{alignat*}{3}\n",
    "&&n\\times 10^{-6} & \\leq 3.6\\times 10^3\\\\\n",
    "&\\implies &n &\\leq 3.6\\times 10^9.\n",
    "\\end{alignat*}\n",
    "\n",
    "$n$ in $1$ month:\n",
    "\\begin{alignat*}{3}\n",
    "&&n\\times 10^{-6} &\\leq 3\\times 10^6\\\\\n",
    "&\\implies & n &\\leq 3\\times 10^{12}.\n",
    "\\end{alignat*}\n",
    "\n",
    "$n$ in $1$ century:\n",
    "\\begin{alignat*}{3}\n",
    "&&n\\times 10^{-6} &\\leq 3.6\\times 10^9\\\\\n",
    "&\\implies & n &\\leq 3.6\\times 10^{15}.\n",
    "\\end{alignat*}\n",
    "\n",
    "$n\\log n$ in $1$s:\n",
    "\\begin{alignat*}{3}\n",
    "&&n\\log n\\times 10^{-6} &\\leq 1\\\\\n",
    "&\\implies &n\\log n &\\leq 10^6\\\\\n",
    "&\\implies &n\\cdot \\frac{\\log_{10}n}{\\log_{10}2} &\\leq 10^6\\\\\n",
    "&\\implies &n\\cdot \\log_{10}n &\\leq 3\\times 10^5\\\\\n",
    "&\\implies & 10^a\\cdot a &\\leq 3\\times 10^5\\qquad\\mbox{$a:=\\log_{10}n$}\\\\\n",
    "&\\implies & a + \\log_{10}a &\\leq \\log_{10}3 + 5\\approx 5.5\\\\\n",
    "&\\implies &a&\\leq 5\\qquad\\mbox{see below}\\\\\n",
    "&\\implies & n &\\leq 10^5.\n",
    "\\end{alignat*}"
   ]
  },
  {
   "cell_type": "code",
   "execution_count": 11,
   "metadata": {
    "scrolled": true
   },
   "outputs": [
    {
     "name": "stdout",
     "output_type": "stream",
     "text": [
      "0.1 6.3999999999999995\n",
      "1.1 4.358607314841775\n",
      "2.1 3.077780705266081\n",
      "3.1 1.9086383061657273\n",
      "4.1 0.7872161432802649\n",
      "5.1 -0.30757017609793635\n",
      "6.1 -1.3853298350107668\n",
      "7.1 -2.451258348719075\n",
      "8.1 -3.50848501887865\n",
      "9.1 -4.5590413923210935\n"
     ]
    }
   ],
   "source": [
    "import numpy as np\n",
    "import math\n",
    "\n",
    "for a in np.arange(0.1,10,1):\n",
    "    diff = 5.5 - (a+math.log(a, 10))\n",
    "    print(a, diff)"
   ]
  },
  {
   "cell_type": "markdown",
   "metadata": {},
   "source": [
    "$n\\log n$ in $1$ hour:\n",
    "\\begin{alignat*}{3}\n",
    "&&n\\log n\\times 10^{-6} &\\leq 3.6\\times 10^3\\\\\n",
    "&\\implies &n\\cdot \\frac{\\log_{10}n}{\\log_{10}2} &\\leq 3.6\\times 10^9\\\\\n",
    "&\\implies &n\\cdot \\log_{10}n &\\leq 10^9\\\\\n",
    "&\\implies &10^a\\cdot a &\\leq 10^9\\qquad\\mbox{$a:=\\log_{10}n$}\\\\\n",
    "&\\implies &a + \\log_{10}a &\\leq 9\\\\\n",
    "&\\implies &a &\\leq 8\\qquad\\mbox{see below}\\\\\n",
    "&\\implies &n &\\leq 10^8.\n",
    "\\end{alignat*}"
   ]
  },
  {
   "cell_type": "code",
   "execution_count": 13,
   "metadata": {
    "scrolled": false
   },
   "outputs": [
    {
     "name": "stdout",
     "output_type": "stream",
     "text": [
      "0.1 9.9\n",
      "1.1 7.858607314841775\n",
      "2.1 6.577780705266081\n",
      "3.1 5.408638306165727\n",
      "4.1 4.287216143280265\n",
      "5.1 3.1924298239020636\n",
      "6.1 2.114670164989233\n",
      "7.1 1.048741651280925\n",
      "8.1 -0.008485018878650052\n",
      "9.1 -1.0590413923210935\n"
     ]
    }
   ],
   "source": [
    "import numpy as np\n",
    "import math\n",
    "\n",
    "for a in np.arange(0.1,10,1):\n",
    "    diff = 9 - (a+math.log(a, 10))\n",
    "    print(a, diff)"
   ]
  },
  {
   "cell_type": "markdown",
   "metadata": {},
   "source": [
    "$n\\log n$ in $1$ month:\n",
    "\\begin{alignat*}{3}\n",
    "&&n\\log n\\times 10^{-6} &\\leq 3\\times 10^6\\\\\n",
    "&\\implies &n\\cdot \\frac{\\log_{10}n}{\\log_{10}2} &\\leq 3\\times 10^{12}\\\\\n",
    "&\\implies &n\\cdot \\log_{10}n &\\leq 10^{12}\\\\\n",
    "&\\implies &10^a\\cdot a &\\leq 10^{12}\\qquad\\mbox{$a:=\\log_{10}n$}\\\\\n",
    "&\\implies &a + \\log_{10}a &\\leq 12\\\\\n",
    "&\\implies &a &\\leq 11\\qquad\\mbox{see below}\\\\\n",
    "&\\implies &n &\\leq 10^{11}.\n",
    "\\end{alignat*}"
   ]
  },
  {
   "cell_type": "code",
   "execution_count": 15,
   "metadata": {
    "scrolled": true
   },
   "outputs": [
    {
     "name": "stdout",
     "output_type": "stream",
     "text": [
      "0.1 12.9\n",
      "1.1 10.858607314841775\n",
      "2.1 9.57778070526608\n",
      "3.1 8.408638306165727\n",
      "4.1 7.287216143280265\n",
      "5.1 6.192429823902064\n",
      "6.1 5.114670164989233\n",
      "7.1 4.048741651280925\n",
      "8.1 2.99151498112135\n",
      "9.1 1.9409586076789065\n",
      "10.1 0.8956786262173573\n",
      "11.1 -0.14532297878665723\n",
      "12.1 -1.1827853703164504\n",
      "13.1 -2.217271295655763\n",
      "14.1 -3.2492191126553784\n"
     ]
    }
   ],
   "source": [
    "import numpy as np\n",
    "import math\n",
    "\n",
    "for a in np.arange(0.1,15,1):\n",
    "    diff = 12 - (a+math.log(a, 10))\n",
    "    print(a, diff)"
   ]
  },
  {
   "cell_type": "markdown",
   "metadata": {},
   "source": [
    "$n\\log n$ in $1$ century:\n",
    "\\begin{alignat*}{3}\n",
    "&&n\\log n\\times 10^{-6} &\\leq 3.6\\times 10^9\\\\\n",
    "&\\implies &n\\cdot \\frac{\\log_{10}n}{\\log_{10}2} &\\leq 3.6\\times 10^{15}\\\\\n",
    "&\\implies &n\\cdot \\log_{10}n &\\leq 10^{15}\\\\\n",
    "&\\implies &10^a\\cdot a &\\leq 10^{15}\\qquad\\mbox{$a:=\\log_{10}n$}\\\\\n",
    "&\\implies &a + \\log_{10}a &\\leq 15\\\\\n",
    "&\\implies &a &\\leq 14\\qquad\\mbox{see below}\\\\\n",
    "&\\implies &n &\\leq 10^{14}.\n",
    "\\end{alignat*}"
   ]
  },
  {
   "cell_type": "code",
   "execution_count": 18,
   "metadata": {
    "scrolled": true
   },
   "outputs": [
    {
     "name": "stdout",
     "output_type": "stream",
     "text": [
      "0.1 15.9\n",
      "1.1 13.858607314841775\n",
      "2.1 12.57778070526608\n",
      "3.1 11.408638306165727\n",
      "4.1 10.287216143280265\n",
      "5.1 9.192429823902064\n",
      "6.1 8.114670164989233\n",
      "7.1 7.048741651280925\n",
      "8.1 5.99151498112135\n",
      "9.1 4.9409586076789065\n",
      "10.1 3.8956786262173573\n",
      "11.1 2.8546770212133428\n",
      "12.1 1.8172146296835496\n",
      "13.1 0.7827287043442368\n",
      "14.1 -0.24921911265537844\n",
      "15.1 -1.2789769472931702\n",
      "16.1 -2.3068258760318514\n",
      "17.1 -3.3329961103921555\n",
      "18.1 -4.357678574869187\n",
      "19.1 -5.381033367247728\n"
     ]
    }
   ],
   "source": [
    "import numpy as np\n",
    "import math\n",
    "\n",
    "for a in np.arange(0.1,20,1):\n",
    "    diff = 15 - (a+math.log(a, 10))\n",
    "    print(a, diff)"
   ]
  },
  {
   "cell_type": "markdown",
   "metadata": {},
   "source": [
    "$n^2$ in $1$s:\n",
    "\\begin{alignat*}{3}\n",
    "&&n^2\\times 10^{-6} &\\leq 1\\\\\n",
    "&\\implies & n^2 &\\leq 10^6\\\\\n",
    "&\\implies & n &\\leq 10^3.\n",
    "\\end{alignat*}\n",
    "\n",
    "$n^2$ in $1$ hour:\n",
    "\\begin{alignat*}{3}\n",
    "&&n^2\\times 10^{-6} &\\leq 3.6\\times 10^3\\\\\n",
    "&\\implies & n^2 &\\leq 3.6\\times 10^9\\\\\n",
    "&\\implies & n &\\leq 6\\times 10^4.\n",
    "\\end{alignat*}\n",
    "\n",
    "$n^2$ in $1$ month:\n",
    "\\begin{alignat*}{3}\n",
    "&& n^2\\times 10^{-6} &\\leq 3\\times 10^6\\\\\n",
    "&\\implies &n^2 &\\leq 3\\times 10^{12}\\\\\n",
    "&\\implies &n &\\leq 1.7\\times 10^6.\n",
    "\\end{alignat*}\n",
    "\n",
    "$n^2$ in $1$ century:\n",
    "\\begin{alignat*}{3}\n",
    "&& n^2\\times 10^{-6} &\\leq 3.6\\times 10^9\\\\\n",
    "&\\implies &n^2 &\\leq 3.6\\times 10^{15}\\\\\n",
    "&\\implies &n &\\leq 6\\times 10^7.\n",
    "\\end{alignat*}\n",
    "\n",
    "$2^n$ in $1$s:\n",
    "\\begin{alignat*}{3}\n",
    "&&2^n\\times 10^{-6} &\\leq 1\\\\\n",
    "&\\implies & 2^n &\\leq 10^6\\\\\n",
    "&\\implies & n &\\leq 6\\log 10\\approx 19.\n",
    "\\end{alignat*}\n",
    "\n",
    "$2^n$ in $1$ hour:\n",
    "\\begin{alignat*}{3}\n",
    "&&2^n\\times 10^{-6} &\\leq 3.6\\times 10^3\\\\\n",
    "&\\implies & 2^n &\\leq 3.6\\times 10^9\\\\\n",
    "&\\implies & n &\\leq \\log 3.6 + 9\\log 10\\approx 31.\n",
    "\\end{alignat*}\n",
    "\n",
    "$2^n$ in $1$ month:\n",
    "\\begin{alignat*}{3}\n",
    "&&2^n\\times 10^{-6} &\\leq 3\\times 10^6\\\\\n",
    "&\\implies & 2^n &\\leq 3\\times 10^{12}\\\\\n",
    "&\\implies & n &\\leq \\log 3 + 12\\log 10\\approx 41.\n",
    "\\end{alignat*}\n",
    "\n",
    "$2^n$ in $1$ century:\n",
    "\\begin{alignat*}{3}\n",
    "&&2^n\\times 10^{-6} &\\leq 3.6\\times 10^9\\\\\n",
    "&\\implies & 2^n &\\leq 3.6\\times 10^{15}\\\\\n",
    "&\\implies & n &\\leq \\log 3.6 + 15\\log 10\\approx 51.\n",
    "\\end{alignat*}\n",
    "\n",
    "|           | 1 Second            | 1 Hour           | 1 Month           | 1 Century           |\n",
    "|-----------|---------------------|------------------|-------------------|---------------------|\n",
    "| $\\log n$  | $10^{3\\times 10^5}$ | $10^{10^9}$      | $10^{10^{12}}$    | $10^{10^{15}}$      |\n",
    "| $n$       | $10^6$              | $3.6\\times 10^9$ | $3\\times 10^{12}$ | $3.6\\times 10^{15}$ |\n",
    "| $n\\log n$ | $10^5$              | $10^8$           | $10^{11}$         | $10^{14}$           |\n",
    "| $n^2$     | $10^3$              | $6\\times 10^4$   | $1.7\\times 10^6$  | $6\\times 10^7$      |\n",
    "| $2^n$     | $19$                | $31$             | $41$              | $51$                |"
   ]
  },
  {
   "cell_type": "markdown",
   "metadata": {},
   "source": [
    "**R-3.29** Algorithm $A$ executes an $O(\\log n)$-time computation for each entry of an\n",
    "$n$-element sequence. What is its worst-case running time?\n",
    "\n",
    "$O(n\\log n)$."
   ]
  },
  {
   "cell_type": "markdown",
   "metadata": {},
   "source": [
    "**R-3.30** Given an $n$-element sequence $S$, Algorithm $B$ chooses $\\log n$ elements in\n",
    "$S$ at random and executes an $O(n)$-time calculation for each. What is the\n",
    "worst-case running time of Algorithm $B$?\n",
    "\n",
    "$O((\\log n)^2)$."
   ]
  },
  {
   "cell_type": "markdown",
   "metadata": {},
   "source": [
    "**R-3.31** Given an $n$-element sequence $S$ of integers, Algorithm $C$ executes an\n",
    "$O(n)$-time computation for each even number in $S$, and an $O(\\log n)$-time\n",
    "computation for each odd number in $S$. What are the best-case and worstcase running times of Algorithm $C$?\n",
    "\n",
    "Best case: All numbers in $S$ are odd. $O(n\\log n)$.\n",
    "\n",
    "Worst case: All number in $S$ are even. $O(n^2)$."
   ]
  },
  {
   "cell_type": "markdown",
   "metadata": {},
   "source": [
    "**R-3.32** Given an $n$-element sequence $S$, Algorithm $D$ calls Algorithm $E$ on each\n",
    "element $S[i]$. Algorithm $E$ runs in $O(i)$ time when it is called on element\n",
    "$S[i]$. What is the worst-case running time of Algorithm $D$?\n",
    "\n",
    "$O(1+2+\\cdots+n) = O(n^2)$."
   ]
  },
  {
   "cell_type": "markdown",
   "metadata": {},
   "source": [
    "**R-3.33** Al and Bob are arguing about their algorithms. Al claims his $O(n\\log n)$-\n",
    "time method is always faster than Bob’s $O(n^2)$-time method. To settle the\n",
    "issue, they perform a set of experiments. To Al’s dismay, they find that if\n",
    "$n < 100$, the $O(n^2)$-time algorithm runs faster, and only when $n \\geq 100$ is\n",
    "the $O(n\\log n)$-time one better. Explain how this is possible.\n",
    "\n",
    "The constant terms can affect when an asymptotically better algorithm perform worse than an asymptotically worse algorithm."
   ]
  },
  {
   "cell_type": "code",
   "execution_count": 34,
   "metadata": {},
   "outputs": [
    {
     "data": {
      "image/png": "[encoded data removed]",
      "text/plain": [
       "<Figure size 432x288 with 1 Axes>"
      ]
     },
     "metadata": {
      "needs_background": "light"
     },
     "output_type": "display_data"
    }
   ],
   "source": [
    "import matplotlib.pyplot as plt\n",
    "%matplotlib inline\n",
    "import numpy as np\n",
    "import math\n",
    "\n",
    "n = np.arange(0.1, 200., 1)\n",
    "plt.plot(n, n**2, label='n^2')\n",
    "plt.plot(n, 15 * n*np.log2(n), label='nlog(n)')\n",
    "plt.legend(loc='upper left')\n",
    "plt.show()"
   ]
  },
  {
   "cell_type": "markdown",
   "metadata": {},
   "source": [
    "**R-3.34** There is a well-known city (which will go nameless here) whose inhabitants have the reputation of enjoying a meal only if that meal is the best\n",
    "they have ever experienced in their life. Otherwise, they hate it. Assuming meal quality is distributed uniformly across a person’s life, describe\n",
    "the expected number of times inhabitants of this city are happy with their\n",
    "meals?\n",
    "\n",
    "This is the expected number of times the $i$th element is the largest of all first $i$ elements in a sequence of $n$ elements.\n",
    "\n",
    "The probability that the $i$th element is the largest of all first $i$ elements is $\\frac{1}{i}$. So the expected number is\n",
    "$$1+\\frac{1}{2}+\\frac{1}{3}+\\cdots+\\frac{1}{n},$$\n",
    "or the $n$th harmonic number."
   ]
  },
  {
   "cell_type": "markdown",
   "metadata": {},
   "source": [
    "### Creativity"
   ]
  },
  {
   "cell_type": "markdown",
   "metadata": {},
   "source": [
    "**C-3.35** Assuming it is possible to sort n numbers in $O(n\\log n)$ time, show that it\n",
    "is possible to solve the three-way set disjointness problem in $O(n\\log n)$\n",
    "time.\n",
    "\n",
    "1. Combine $A, B, C$ into one multi-set of $3n$ elements. \n",
    "2. Sort the multi-set in $O(3n\\log(3n)) = O(n(\\log 3+\\log n)) = O(n\\log n)$.\n",
    "3. Scan the multi-set in $O(3n)=O(n)$ time to look for a contiguous block of 3 occurances of the same element. If such block exists, $A, B, C$ are not disjoint.\n",
    "\n",
    "Note: Since hash map lookup is on average $O(1)$, can also scan the 3 sets using a frequency count hash map and see if any element has a count of $3$ in $O(3n) = O(n)$."
   ]
  },
  {
   "cell_type": "markdown",
   "metadata": {},
   "source": [
    "**C-3.36** Describe an efficient algorithm for finding the ten largest elements in a\n",
    "sequence of size $n$. What is the running time of your algorithm?\n",
    "\n",
    "1. Initialize an array `arr` of length $10$ to the first $10$ elements in the sequence `seq`.\n",
    "2. Sort the array in $O(10\\log 10) = O(1)$ time, say from largest to smallest.\n",
    "3. Scan the sequence in $O(n)$ time. If `seq[i]` is larger than `arr[-1]`, i.e., the smallest element in the array, insert `seq[i]` into `arr` and pop the tail of `arr` in $O(10) = O(1)$ time.\n",
    "\n",
    "This algorithm is $O(n)$.\n",
    "\n",
    "Alternatively, sort the sequence in $O(n\\log n)$ from largest to smallest and take the first $10$ elements in $O(1)$. This algorithm is $O(n\\log n)$."
   ]
  },
  {
   "cell_type": "code",
   "execution_count": 150,
   "metadata": {},
   "outputs": [
    {
     "data": {
      "text/plain": [
       "True"
      ]
     },
     "execution_count": 150,
     "metadata": {},
     "output_type": "execute_result"
    }
   ],
   "source": [
    "import random\n",
    "import copy\n",
    "\n",
    "def random_sequence(n):\n",
    "    \"\"\"Return a random sequence of integers of length n.\"\"\"\n",
    "    seq = [None] * n\n",
    "    for i in range(n):\n",
    "        seq[i] = random.randint(0, 100)\n",
    "    return seq\n",
    "\n",
    "def insert(e, sorted_seq):\n",
    "    \"\"\"Insert element e into sorted seq (largest to smallest), leaving it sorted.\"\"\"\n",
    "    n = len(sorted_seq)\n",
    "    if e <= sorted_seq[-1]: # if e is smaller than the smallest element\n",
    "        sorted_seq.insert(n, e)\n",
    "    elif e >= sorted_seq[0]: # if e is larger than the largest element\n",
    "        sorted_seq.insert(0, e)\n",
    "    else:\n",
    "        for i in range(0,n-1):\n",
    "            if e <= sorted_seq[i] and e >= sorted_seq[i+1]:\n",
    "                sorted_seq.insert(i+1, e)\n",
    "                break # only insert once, otherwise will cause duplicates\n",
    "\n",
    "def max_ten(seq):\n",
    "    \"\"\"Return the largest 10 elements in seq.\"\"\"\n",
    "    arr = copy.deepcopy(seq[0:10])\n",
    "    arr.sort(reverse=True) # O(10log(10)) = O(1)\n",
    "    for i in range(10,len(seq)):\n",
    "        if seq[i] >= arr[-1]: # meaning seq[i] is greater than at least one element in arr\n",
    "            insert(seq[i], arr) # insert seq[i] into the sorted arr\n",
    "            arr.pop() # pop the tail of arr, i.e., the smallest element in arr\n",
    "    return arr\n",
    "\n",
    "def test():\n",
    "    for counter in range(50):\n",
    "        seq = random_sequence(20)\n",
    "        assert sorted(seq, reverse=True)[:10] == max_ten(seq)\n",
    "    return True\n",
    "\n",
    "test()"
   ]
  },
  {
   "cell_type": "markdown",
   "metadata": {},
   "source": [
    "**C-3.37** Give an example of a positive function $f(n)$ such that $f(n)$ is neither $O(n)$\n",
    "nor $\\Omega(n)$.\n",
    "\n",
    "$f(n)=\\frac{1}{\\sqrt{n}}$."
   ]
  },
  {
   "cell_type": "code",
   "execution_count": 156,
   "metadata": {},
   "outputs": [
    {
     "data": {
      "image/png": "[encoded data removed]",
      "text/plain": [
       "<Figure size 432x288 with 1 Axes>"
      ]
     },
     "metadata": {
      "needs_background": "light"
     },
     "output_type": "display_data"
    }
   ],
   "source": [
    "import matplotlib.pyplot as plt\n",
    "%matplotlib inline\n",
    "import numpy as np\n",
    "import math\n",
    "\n",
    "n = np.arange(0.001, 10., 0.1)\n",
    "plt.plot(n, 1/np.sqrt(n), label='1/sqrt(n)')\n",
    "plt.plot(n, n, label='n')\n",
    "plt.legend(loc='upper left')\n",
    "plt.show()"
   ]
  },
  {
   "cell_type": "markdown",
   "metadata": {},
   "source": [
    "**C-3.38** Show that $\\sum_{i=1}^n i^2$ is $O(n^3)$.\n",
    "\n",
    "We note that\n",
    "\n",
    "$$\\sum_{i=1}^n i^2\\leq \\sum_{i=1}^n n^2 = n\\cdot n^2 = n^3$$\n",
    "\n",
    "for all $n\\geq 1$. So $\\sum_{i=1}^n\\in O(n^3)$."
   ]
  },
  {
   "cell_type": "markdown",
   "metadata": {},
   "source": [
    "**C-3.39** Show that $\\sum_{i=1}^n \\frac{i}{2^i} < 2$. (Hint: Try to bound this sum term by term with\n",
    "a geometric progression.)\n",
    "\n",
    "We note that \n",
    "\\begin{align*}\n",
    "\\sum_{i=1}^n \\frac{i}{2^i} &< \\sum_{i=1}^\\infty \\frac{i}{2^i}\\\\\n",
    "&= \\frac{1}{2} + \\frac{2}{4} + \\frac{3}{8} +\\cdots\\\\\n",
    "&= \\frac{1}{2} + \\frac{1}{4} + \\frac{1}{4} + \\frac{1}{8} + \\frac{1}{8} + \\frac{1}{8} + \\cdots\\\\\n",
    "&= \\left(\\frac{1}{2} + \\frac{1}{4} + \\frac{1}{8} + \\cdots \\right) + \\left(\\frac{1}{4} + \\frac{1}{8} + \\cdots \\right) + \\cdots\\\\\n",
    "&= 1 + \\frac{1}{2} + \\frac{1}{4} + \\frac{1}{8} + \\cdots\\\\\n",
    "&= 2.\n",
    "\\end{align*}"
   ]
  },
  {
   "cell_type": "markdown",
   "metadata": {},
   "source": [
    "**C-3.40** Show that $\\log_b f(n)$ is $\\Theta(\\log f(n))$ if $b > 1$ is a constant.\n",
    "\n",
    "We note that\n",
    "$$\\log_b f(n) = \\frac{\\log f(n)}{\\log b} \\geq \\frac{1}{\\log b+1} \\log f(n)$$\n",
    "for all $n\\geq 1$ where $\\frac{1}{\\log b+1}$ is a constant. So $\\log_b f(n)\\in \\Theta(\\log f(n))$."
   ]
  },
  {
   "cell_type": "markdown",
   "metadata": {},
   "source": [
    "**C-3.41** Describe an algorithm for finding both the minimum and maximum of $n$\n",
    "numbers using fewer than $3n/2$ comparisons. (Hint: First, construct a\n",
    "group of candidate minimums and a group of candidate maximums.)\n",
    "\n",
    "1. Divide the numbers into pairs.\n",
    "2. Compare each pair of numbers, throw the smaller numbers in `cand_min` and larger numbers in `cand_max`. This takes $n/2$ comparisons.\n",
    "3. Initialize `min` as `cand_min[0]` and `max` as `cand_max[0]`. Taverse `cand_min` and `cand_max` linearly to update `min` and `max` to be minimum and maximum, respectively, in $(n/2-1) \\cdot 2 = n-2$ comparisons.\n",
    "\n",
    "In total, this takes $n/2 + n-2 = 3n/2-2$ comparisons.\n",
    "\n",
    "Note: The idea is that finding the minimum or maximum does not require knowing as much information as does sorting. E.g., if we already know $A<B$ and $C<D$, we know that $B, D$ cannot be the minimum and $A, C$ cannot be the maximum."
   ]
  },
  {
   "cell_type": "markdown",
   "metadata": {},
   "source": [
    "**C-3.42** Bob built a Web site and gave the URL only to his $n$ friends, which he\n",
    "numbered from $1$ to $n$. He told friend number $i$ that he/she can visit the\n",
    "Web site at most $i$ times. Now Bob has a counter, $C$, keeping track of the\n",
    "total number of visits to the site (but not the identities of who visits). What\n",
    "is the minimum value for $C$ such that Bob can know that one of his friends\n",
    "has visited his/her maximum allowed number of times?\n",
    "\n",
    "$$C\\geq \\sum_{i=1}^n i = \\frac{n(n+1)}{2}.$$"
   ]
  },
  {
   "cell_type": "markdown",
   "metadata": {},
   "source": [
    "**C-3.43** Draw a visual justification of Proposition 3.3 analogous to that of Figure 3.3(b) for the case when $n$ is odd.\n",
    "\n",
    "![t](https://github.com/largecats/data-structures-and-algorithms/blob/master/dsa-in-python/C-3.43.png?raw=true)"
   ]
  },
  {
   "cell_type": "markdown",
   "metadata": {},
   "source": [
    "**C-3.44** Communication security is extremely important in computer networks,\n",
    "and one way many network protocols achieve security is to encrypt messages. Typical cryptographic schemes for the secure transmission of messages over such networks are based on the fact that no efficient algorithms\n",
    "are known for factoring large integers. Hence, if we can represent a secret\n",
    "message by a large prime number $p$, we can transmit, over the network,\n",
    "the number $r = p\\cdot q$, where $q > p$ is another large prime number that acts\n",
    "as the encryption key. An eavesdropper who obtains the transmitted number $r$ on the network would have to factor $r$ in order to figure out the secret\n",
    "message $p$.\n",
    "\n",
    "Using factoring to figure out a message is very difficult without knowing\n",
    "the encryption key $q$. To understand why, consider the following naive\n",
    "factoring algorithm:\n",
    "```python\n",
    "for p in range(2,r): # actually only need to loop to sqrt(r) if we record both p and r % p\n",
    "    if r % p == 0: # if p divides r\n",
    "        return 'The secret message is p!'\n",
    "```\n",
    "\n",
    "a. Suppose that the eavesdropper uses the above algorithm and has a\n",
    "computer that can carry out in $1$ microsecond ($1$ millionth of a second) a division between two integers of up to $100$ bits each. Give an\n",
    "estimate of the time that it will take in the worst case to decipher the\n",
    "secret message $p$ if the transmitted message $r$ has $100$ bits.\n",
    "\n",
    "The largest integer $100$ bits can represent is $2^{100}$. So in the worst case, need to take $2^{100} \\times 10^{-6}\\approx 10^{24}$ seconds.\n",
    "\n",
    "b. What is the worst-case time complexity of the above algorithm?\n",
    "Since the input to the algorithm is just one large number $r$, assume\n",
    "that the input size $n$ is the number of bytes needed to store $r$, that is,\n",
    "$n = \\text{floor}(\\log_2 r)/8+1$, and that each division takes time $O(n)$.\n",
    "\n",
    "Each division is $O(n)$; there are $r-2\\approx r$ divisions in total, so\n",
    "$$n^r\\in O(n^r).$$"
   ]
  },
  {
   "cell_type": "markdown",
   "metadata": {},
   "source": [
    "**C-3.45** A sequence $S$ contains $n − 1$ unique integers in the range $[0,n − 1]$, that\n",
    "is, there is one number from this range that is not in $S$. Design an $O(n)$-\n",
    "time algorithm for finding that number. You are only allowed to use $O(1)$\n",
    "additional space besides the sequence $S$ itself."
   ]
  },
  {
   "cell_type": "code",
   "execution_count": 9,
   "metadata": {},
   "outputs": [
    {
     "data": {
      "text/plain": [
       "True"
      ]
     },
     "execution_count": 9,
     "metadata": {},
     "output_type": "execute_result"
    }
   ],
   "source": [
    "def find(s):\n",
    "    n = len(s) + 1\n",
    "    d = {i: 0 for i in range(n)} # initialize dictionary counter in O(n)\n",
    "    for i in s: # loop through s once in O(n)\n",
    "        d[i] += 1\n",
    "    for k, v in d.items(): # loop through the dictionary counter once in O(n)\n",
    "        if v == 0:\n",
    "            return k\n",
    "\n",
    "import numpy as np\n",
    "import random\n",
    "\n",
    "def test():\n",
    "    for counter in range(50):\n",
    "        n = random.randint(10, 1000)\n",
    "        s = list(np.random.permutation(n))\n",
    "        index = random.randint(0, n-1)\n",
    "        temp = s[index]\n",
    "        s.pop(index)\n",
    "        assert temp == find(s)\n",
    "    return True\n",
    "\n",
    "test()"
   ]
  },
  {
   "cell_type": "markdown",
   "metadata": {},
   "source": [
    "**C-3.46** Al says he can prove that all sheep in a flock are the same color:\n",
    "Base case: One sheep. It is clearly the same color as itself.\n",
    "Induction step: A flock of $n$ sheep. Take a sheep, $a$, out. The remaining\n",
    "$n − 1$ are all the same color by induction. Now put sheep $a$ back in and\n",
    "take out a different sheep, $b$. By induction, the $n − 1$ sheep (now with $a$)\n",
    "are all the same color. Therefore, all the sheep in the flock are the same\n",
    "color. What is wrong with Al’s “justification”?\n",
    "\n",
    "The base case is $n_0=1$. The inductive step is that for any $n\\geq n_0=1$ ($n_0$ is base case), if all sheep in an $n$-sheep flock are the same color, so are all sheep in an $n+1$-sheep flock. Al's argument involves taking a sheep $a$ and a distinct sheep $b$ from the flock, which assumes $n\\geq 2$, i.e., that the flock of sheep has at least two distinct sheep. So Al does not prove the correct inductive step. In fact, $n=1$ is exactly where the inductive step fails: that all sheep is the same color as itself ($n=1$) does not imply that any two sheep are the same color ($n=2$)."
   ]
  },
  {
   "cell_type": "markdown",
   "metadata": {},
   "source": [
    "**C-3.47** Let $S$ be a set of $n$ lines in the plane such that no two are parallel and\n",
    "no three meet in the same point. Show, by induction, that the lines in $S$\n",
    "determine $O(n^2)$ intersection points.\n",
    "\n",
    "We need to show that there exist constants $c>0$ and $n_0\\geq 1$ such that $n$ lines determine at most $cn^2$ intersection points for all $n\\geq n_0$. We set $n_0=2$, $c=1$.\n",
    "\n",
    "Base case: $n=2$. $2$ lines determine $1\\leq 2^2$ intersection point.\n",
    "\n",
    "Induction step: Suppose $n\\geq 2$. Suppose $n$ lines determine at most $n^2$ intersection points. Consider $n+1$ lines. Then by the induction hypothesis, any $n$ lines of these determine at most $n^2$ intersection points. The remaining line creates at most $n$ intersection points, i.e., by crossing each of the $n$ lines. So these $n+1$ lines determine at most $n^2+n\\leq (n+1)^2$ intersection points."
   ]
  },
  {
   "cell_type": "markdown",
   "metadata": {},
   "source": [
    "**C-3.48** Consider the following “justification” that the Fibonacci function, $F(n)$\n",
    "(see Proposition 3.20) is $O(n)$:\n",
    "\n",
    "Base case ($n \\leq 2$): $F(1) = 1$ and $F(2) = 2$.\n",
    "\n",
    "Induction step ($n > 2$): Assume claim true for $n' < n$. Consider $n$. $F(n) =\n",
    "F(n−2) + F(n−1)$. By induction, $F(n−2)$ is $O(n−2)$ and $F(n−1)$ is\n",
    "$O(n−1)$. Then, $F(n)$ is $O((n−2)+ (n−1))$, by the identity presented in\n",
    "Exercise R-3.11. Therefore, $F(n)$ is $O(n)$.\n",
    "\n",
    "What is wrong with this “justification”?\n",
    "\n",
    "To prove that $F(n)$ is $O(n)$ by induction, what needs to be shown is that there exist constants $c>0$ and $n_0\\geq 1$ such that $F(n)\\leq cn$ for all $n\\geq n_0$. Let $n_0=2$. Let $c>1$ be a fixed, arbitrary number.\n",
    "\n",
    "Base case: $F(2)=2\\leq 2c$.\n",
    "\n",
    "Induction step: Suppose $n > 2$. Suppose $F(n')\\leq n'$ for all $n'<n$. Consider $F(n)$. By the definition of Fibonacci numbers, $F(n) = F(n-1) + F(n-2)\\leq cn-1 + cn-2=2cn-3 > cn$ since $n\\geq 3$ and $c > 1$. Thus, the induction hypothesis does not imply that the claim holds for $n$."
   ]
  },
  {
   "cell_type": "markdown",
   "metadata": {},
   "source": [
    "**C-3.49** Consider the Fibonacci function, $F(n)$ (see Proposition 3.20). Show by\n",
    "induction that $F(n)$ is $\\Omega((3/2)^n)$.\n",
    "\n",
    "We need to show that there exist constants $c>0$ and $n_0\\geq 1$ such that $f(n)\\geq cg(n)$ for $n\\geq n_0$. We choose $c=1/2$.\n",
    "\n",
    "Base case: $F(1)=1\\geq 1/2 \\cdot (3/2)^1=3/4$, $F(2)=2\\geq 1/2\\cdot (3/2)^2=9/8$.\n",
    "\n",
    "Induction step: Suppose $n\\geq 2$. Suppose $F(n')\\leq 1/2\\cdot (3/2)^n'$ for all $n' < n+1$ (strong induction). Consider $F(n+1)$. By the definition of Fibonacci numbers, $F(n+1)=F(n)+F(n-1)\\geq 1/2\\cdot (3/2)^n + 1/2\\cdot (3/2)^{n-1}=(3/2)^{n-1}\\cdot 5/4>(3/2)^{n-1}\\cdot 9/4= (3/2)^{n+1}>1/2\\cdot (3/2)^{n+1}$."
   ]
  },
  {
   "cell_type": "markdown",
   "metadata": {},
   "source": [
    "**C-3.50** Let $p(x)$ be a polynomial of degree $n$, that is, $p(x) = \\sum_{i=0}^na_ix^i$.\n",
    "\n",
    "(a) Describe a simple $O(n^2)$-time algorithm for computing $p(x)$.\n",
    "\n",
    "1. Construct vector $\\begin{bmatrix}a_0\\cdots a_n\\end{bmatrix}$ in $O(n)$ time.\n",
    "2. Construct vector $\\begin{bmatrix}1\\\\x\\\\x^2\\\\ \\vdots \\\\ x^n\\end{bmatrix}$ in $O(n^2)$ time by computing each $x^i$ separately (assuming $x^i$ takes $O(i)$ time to compute).\n",
    "3. Compute the dot product of the two vectors to get $p(x)$ in $O(n)$ time, assuming constant time multiplication.\n",
    "\n",
    "(b) Describe an $O(n\\log n)$-time algorithm for computing $p(x)$, based upon\n",
    "a more efficient calculation of $x^i$.\n",
    "\n",
    "1. Construct vector $\\begin{bmatrix}a_0\\cdots a_n\\end{bmatrix}$ in $O(n)$ time.\n",
    "2. Construct vector $\\begin{bmatrix}1\\\\x\\\\x^2\\\\ \\vdots \\\\ x^n\\end{bmatrix}$ in $O(n\\log n)$ time by computing each $x^n = x^{n/2}\\cdot x^{n/2}$ recursively in $O(\\log n)$ time. Alternatively, the vector can be constructed in $O(n)$ time by storing each $x^i$ and computing $x^{i+1}$ as $x\\cdot x^i$.\n",
    "3. Compute the dot product of the two vectors to get $p(x)$ in $O(n)$ time, assuming constant time multiplication.\n",
    "\n",
    "(c) Now consider a rewriting of $p(x)$ as\n",
    "$p(x) = a_0 + x(a_1 + x(a_2 + x(a_3 +\\cdots + x(a_{n−1} + xa_n)\\cdots)))$,\n",
    "which is known as Horner’s method. Using the big-Oh notation, characterize the number of arithmetic operations this method executes.\n",
    "\n",
    "$O(n)$ additions and $O(n)$ multiplications. In each pair of bracket, there is one multiplication $x a_i$ and one addition $a_{i-1}+xa_i$. There are $n$ pairs of brackets."
   ]
  },
  {
   "cell_type": "markdown",
   "metadata": {},
   "source": [
    "**C-3.51** Show that the summation $\\sum_{i=1}^n \\log i$ is $O(n\\log n)$.\n",
    "\n",
    "Let $n\\geq 1$. Then $\\sum_{i=1}^n \\log i < \\sum_{i=1}^n \\log n = n\\log n$. Thus, $\\sum_{i=1}^n \\log i \\in O(n\\log n)$."
   ]
  },
  {
   "cell_type": "markdown",
   "metadata": {},
   "source": [
    "**C-3.52** Show that the summation $\\sum_{i=1}^n \\log i$ is $\\Omega(n\\log n)$.\n",
    "\n",
    "Let $n\\geq 1$. Then $\\sum_{i=1}^n \\log i \\geq \\sum_{i=n//2}^n \\log (i) \\geq \\sum_{i=n//2} \\log (\\frac{n}{2}) = \\frac{n}{2}\\log\\frac{n}{2} = \\frac{n}{2}(\\log \\frac{1}{2}+\\log n) = \\frac{1}{2}\\log(\\frac{1}{2}) n + \\frac{1}{2}n\\log n\\geq \\frac{1}{4} n\\log n$. Thus, $\\sum_{i=1}^n \\log i$ is $\\Omega(n\\log n)$."
   ]
  },
  {
   "cell_type": "markdown",
   "metadata": {},
   "source": [
    "**C-3.53** An evil king has $n$ bottles of wine, and a spy has just poisoned one of\n",
    "them. Unfortunately, they do not know which one it is. The poison is very\n",
    "deadly; just one drop diluted even a billion to one will still kill. Even so,\n",
    "it takes a full month for the poison to take effect. Design a scheme for\n",
    "determining exactly which one of the wine bottles was poisoned in just\n",
    "one month’s time while expending $O(\\log n)$ taste testers.\n",
    "\n",
    "The problem translates to finding the poisoned bottle in $O(1)$ time (technically a full month, but it is independent of $n$), assuming that the threshold for diluation to be an issue is a constant large enough to not be a concern.\n",
    "\n",
    "This method is credited to [this post](http://puliu.blogspot.com/2005/04/evil-king-and-1000-bottles-of-wine.html).\n",
    "\n",
    "1. Label each bottle from $1$ to $n$.\n",
    "2. Convert each bottle's label to binary numbers. Then these binary numbers will have at most $\\log n$ digits.\n",
    "3. Label each taste tester from $1$ to $\\log n$.\n",
    "4. For $i\\in [1,\\ldots,\\log n]$, let tester $i$ drink from all bottles whose $i$th digit is $1$. This will take $O(\\log n)$ time, and if $n\\leq 2^{3600\\times 24\\times 30}$, this can be done within a month.\n",
    "5. After the poison takes effect, suppose testers $i_1,\\ldots, i_m$ are dead. The poisoned bottle of wine can be identified by the binary number whose $i_1,\\ldots,i_m$ digits are $1$. This is because the death of tester $i_k$ implies the poisoned bottle's $i_k$th digit is $1$. So by combining the labels of all dead testers, the poisoned bottle's binary label can be identified.\n",
    "\n",
    "E.g., suppose $n=10$.\n",
    "1. Label each bottle from $1$ to $10$.\n",
    "2. Convert each label to binary numbers\n",
    "\\begin{align*}\n",
    "0001\\\\\n",
    "0010\\\\\n",
    "0011\\\\\n",
    "0100\\\\\n",
    "0101\\\\\n",
    "0110\\\\\n",
    "0111\\\\\n",
    "1000\\\\\n",
    "1001\\\\\n",
    "1010\n",
    "\\end{align*}\n",
    "3. Label each taste tester from $1$ to $4$.\n",
    "4. Testers taste wine from corresponding bottles.\n",
    "\n",
    "| tester | bottles                      |\n",
    "|--------|------------------------------|\n",
    "| 1      | 1000, 1001, 1010             |\n",
    "| 2      | 0100, 0101, 0110, 0111       |\n",
    "| 3      | 0010, 0011, 0110, 0111, 1010 |\n",
    "| 4      | 0001, 0011, 0101, 0111, 1001 |\n",
    "\n",
    "5. Deduce the poisoned bottle from dead testers.\n",
    "\n",
    "| dead tester | poisoned bottle |\n",
    "|-------------|-----------------|\n",
    "| 1           | 1000            |\n",
    "| 2           | 0100            |\n",
    "| 3           | 0010            |\n",
    "| 4           | 0001            |\n",
    "| 1, 3        | 1010            |\n",
    "| 1, 4        | 1001            |\n",
    "| 2, 3        | 0110            |\n",
    "| 2, 4        | 0101            |\n",
    "| 3, 4        | 0011            |\n",
    "| 2, 3, 4     | 0111            |"
   ]
  }
 ],
 "metadata": {
  "kernelspec": {
   "display_name": "Python 3",
   "language": "python",
   "name": "python3"
  },
  "language_info": {
   "codemirror_mode": {
    "name": "ipython",
    "version": 3
   },
   "file_extension": ".py",
   "mimetype": "text/x-python",
   "name": "python",
   "nbconvert_exporter": "python",
   "pygments_lexer": "ipython3",
   "version": "3.7.3"
  },
  "toc": {
   "base_numbering": 1,
   "nav_menu": {},
   "number_sections": true,
   "sideBar": true,
   "skip_h1_title": false,
   "title_cell": "Table of Contents",
   "title_sidebar": "Contents",
   "toc_cell": false,
   "toc_position": {
    "height": "calc(100% - 180px)",
    "left": "10px",
    "top": "150px",
    "width": "214.491px"
   },
   "toc_section_display": true,
   "toc_window_display": true
  }
 },
 "nbformat": 4,
 "nbformat_minor": 2
}
