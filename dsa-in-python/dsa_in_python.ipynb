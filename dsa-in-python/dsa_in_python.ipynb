{
 "cells": [
  {
   "cell_type": "markdown",
   "metadata": {},
   "source": [
    "Reading notes and partial solutions to [Data Structures and Algorithms in Python](https://blackwells.co.uk/bookshop/product/9781118290279?gC=f177369a3b&gclid=Cj0KCQjwhJrqBRDZARIsALhp1WTBIyoxeQGXedlVy80vsglvFbNkVf7jTP0Z0zXEIP87lfqbtb4_diYaAr8dEALw_wcB)."
   ]
  },
  {
   "cell_type": "code",
   "execution_count": 1,
   "metadata": {},
   "outputs": [],
   "source": [
    "import random\n",
    "from matplotlib import pyplot as plt\n",
    "import math\n",
    "from datetime import datetime"
   ]
  },
  {
   "cell_type": "markdown",
   "metadata": {},
   "source": [
    "# Python Primer"
   ]
  },
  {
   "cell_type": "markdown",
   "metadata": {},
   "source": [
    "## Generators"
   ]
  },
  {
   "cell_type": "code",
   "execution_count": 2,
   "metadata": {},
   "outputs": [
    {
     "data": {
      "text/plain": [
       "True"
      ]
     },
     "execution_count": 2,
     "metadata": {},
     "output_type": "execute_result"
    }
   ],
   "source": [
    "# Traditional way\n",
    "def factors(n):\n",
    "    '''Return the factors of n as a list.'''\n",
    "    results = []\n",
    "    for k in range(1, n+1):\n",
    "        if n % k == 0:\n",
    "            results.append(k)\n",
    "    return results\n",
    "\n",
    "def test():\n",
    "    assert factors(1) == [1]\n",
    "    assert factors(4) == [1, 2, 4]\n",
    "    assert factors(10) == [1, 2, 5, 10]\n",
    "    return True\n",
    "\n",
    "test()"
   ]
  },
  {
   "cell_type": "code",
   "execution_count": 3,
   "metadata": {},
   "outputs": [
    {
     "data": {
      "text/plain": [
       "True"
      ]
     },
     "execution_count": 3,
     "metadata": {},
     "output_type": "execute_result"
    }
   ],
   "source": [
    "# Using generator\n",
    "def factors(n):\n",
    "    '''Return the factors of n as a list.'''\n",
    "    for k in range(1, n+1):\n",
    "        if n % k == 0:\n",
    "            yield k\n",
    "\n",
    "def test():\n",
    "    assert list(factors(1)) == [1]\n",
    "    assert list(factors(4)) == [1, 2, 4]\n",
    "    assert list(factors(10)) == [1, 2, 5, 10]\n",
    "    return True\n",
    "\n",
    "test()"
   ]
  },
  {
   "cell_type": "code",
   "execution_count": 4,
   "metadata": {},
   "outputs": [
    {
     "data": {
      "text/plain": [
       "<generator object factors at 0x0000023F1D84D7D8>"
      ]
     },
     "execution_count": 4,
     "metadata": {},
     "output_type": "execute_result"
    }
   ],
   "source": [
    "factors(10)"
   ]
  },
  {
   "cell_type": "code",
   "execution_count": 5,
   "metadata": {},
   "outputs": [
    {
     "name": "stdout",
     "output_type": "stream",
     "text": [
      "1\n",
      "2\n",
      "5\n",
      "10\n"
     ]
    }
   ],
   "source": [
    "for i in factors(10):\n",
    "    print(i)"
   ]
  },
  {
   "cell_type": "code",
   "execution_count": 6,
   "metadata": {},
   "outputs": [
    {
     "data": {
      "text/plain": [
       "True"
      ]
     },
     "execution_count": 6,
     "metadata": {},
     "output_type": "execute_result"
    }
   ],
   "source": [
    "def factors(n): # generator that computes factors\n",
    "    '''Return the factors of n as a list.'''\n",
    "    k = 1\n",
    "    while k * k < n: # while k < sqrt(n)\n",
    "        if n % k == 0:\n",
    "            yield k # k is a factor of n\n",
    "            yield n // k # so is n // k\n",
    "            # this step improves efficiency because we get two factors at one comparison\n",
    "        k += 1\n",
    "    if k * k == n: # special case if n is perfect square\n",
    "        yield k # k is a factor, but the \"complementing factor\" is also k\n",
    "\n",
    "def test():\n",
    "    # the resulting factors are not in increasing order but in complementing pairs instead,\n",
    "    # so we need to use the unordered set() to test for equality\n",
    "    assert set(factors(1)) == {1}\n",
    "    assert set(factors(4)) == {1, 2, 4}\n",
    "    assert set(factors(10)) == {1, 2, 5, 10}\n",
    "    return True\n",
    "\n",
    "test()"
   ]
  },
  {
   "cell_type": "code",
   "execution_count": 7,
   "metadata": {},
   "outputs": [
    {
     "data": {
      "text/plain": [
       "<generator object factors at 0x0000023F1D84DD00>"
      ]
     },
     "execution_count": 7,
     "metadata": {},
     "output_type": "execute_result"
    }
   ],
   "source": [
    "factors(10)"
   ]
  },
  {
   "cell_type": "code",
   "execution_count": 8,
   "metadata": {},
   "outputs": [
    {
     "name": "stdout",
     "output_type": "stream",
     "text": [
      "1\n",
      "10\n",
      "2\n",
      "5\n"
     ]
    }
   ],
   "source": [
    "for i in factors(10):\n",
    "    print(i)"
   ]
  },
  {
   "cell_type": "markdown",
   "metadata": {},
   "source": [
    "## Exercises"
   ]
  },
  {
   "cell_type": "markdown",
   "metadata": {},
   "source": [
    "### Reinforcement"
   ]
  },
  {
   "cell_type": "code",
   "execution_count": 9,
   "metadata": {},
   "outputs": [
    {
     "data": {
      "text/plain": [
       "True"
      ]
     },
     "execution_count": 9,
     "metadata": {},
     "output_type": "execute_result"
    }
   ],
   "source": [
    "'''R-1.1. Write a short Python function, is_multiple(n, m), that takes two integer\n",
    "values and returns True if n is a multiple of m, that is, n = mi for some\n",
    "integer i, and False otherwise.'''\n",
    "\n",
    "def is_multiple(n, m):\n",
    "    return n % m == 0\n",
    "\n",
    "def random_exp():\n",
    "    m = random.randint(-1000000, 1000000)\n",
    "    n = m * random.randint(-1000000, 1000000)\n",
    "    return n, m\n",
    "\n",
    "def random_counter_exp():\n",
    "    m = random.randint(-1000000, 1000000) \n",
    "    while m == 1:\n",
    "        m = random.randint(-1000000, 1000000) # there exists not counter example if m = 1\n",
    "    n = m * random.randint(-1000000, 1000000) + m // 2\n",
    "    return n, m\n",
    "\n",
    "def test():\n",
    "    for counter in range(50):\n",
    "        exp = random_exp()\n",
    "        assert is_multiple(exp[0], exp[1])\n",
    "        counterExp = random_counter_exp()\n",
    "        assert not is_multiple(counterExp[0], counterExp[1])\n",
    "    return True\n",
    "\n",
    "test()"
   ]
  },
  {
   "cell_type": "code",
   "execution_count": 10,
   "metadata": {},
   "outputs": [
    {
     "data": {
      "text/plain": [
       "True"
      ]
     },
     "execution_count": 10,
     "metadata": {},
     "output_type": "execute_result"
    }
   ],
   "source": [
    "\"\"\"R-1.2. Write a short Python function, is_even(k), that takes an integer value and\n",
    "returns True if k is even, and False otherwise. However, your function\n",
    "cannot use the multiplication, modulo, or division operators.\"\"\"\n",
    "\n",
    "def is_even(k):\n",
    "    lastDigit = str(k)[-1]\n",
    "    return lastDigit in ('0', '2', '4', '6', '8')\n",
    "\n",
    "def random_exp():\n",
    "    m = random.randint(-1000000, 1000000)\n",
    "    return 2 * m\n",
    "\n",
    "def random_counter_exp():\n",
    "    m = random.randint(-1000000, 1000000)\n",
    "    return 2 * m + 1\n",
    "\n",
    "def test():\n",
    "    for counter in range(50):\n",
    "        assert is_even(random_exp())\n",
    "        assert not is_even(random_counter_exp())\n",
    "    return True\n",
    "\n",
    "test()"
   ]
  },
  {
   "cell_type": "code",
   "execution_count": 11,
   "metadata": {},
   "outputs": [
    {
     "data": {
      "text/plain": [
       "True"
      ]
     },
     "execution_count": 11,
     "metadata": {},
     "output_type": "execute_result"
    }
   ],
   "source": [
    "\"\"\"R-1.3. Write a short Python function, minmax(data), that takes a sequence of\n",
    "one or more numbers, and returns the smallest and largest numbers, in the\n",
    "form of a tuple of length two. Do not use the built-in functions min or\n",
    "max in implementing your solution.\"\"\"\n",
    "\n",
    "def minmax(data):\n",
    "    if len(data) != 0:\n",
    "        curMin = data[0]\n",
    "        curMax = data[0]\n",
    "        for x in data:\n",
    "            if x < curMin:\n",
    "                curMin = x\n",
    "            elif x > curMax:\n",
    "                curMax = x\n",
    "        return curMin, curMax\n",
    "\n",
    "def random_list():\n",
    "    n = random.randint(1, 100)\n",
    "    result = [0] * n\n",
    "    for i in range(n):\n",
    "        result[i] = random.randint(-1000000, 1000000)\n",
    "    return result\n",
    "\n",
    "def test():\n",
    "    for counter in range(50):\n",
    "        data = random_list()\n",
    "        assert minmax(data) == (min(data), max(data))\n",
    "    return True\n",
    "\n",
    "test()"
   ]
  },
  {
   "cell_type": "code",
   "execution_count": 12,
   "metadata": {},
   "outputs": [
    {
     "name": "stdout",
     "output_type": "stream",
     "text": [
      "Caught error: Input must be positive.\n"
     ]
    },
    {
     "data": {
      "text/plain": [
       "True"
      ]
     },
     "execution_count": 12,
     "metadata": {},
     "output_type": "execute_result"
    }
   ],
   "source": [
    "\"\"\"R-1.4. Write a short Python function that takes a positive integer n and returns\n",
    "the sum of the squares of all the positive integers smaller than n.\"\"\"\n",
    "\n",
    "def sum_squares(n):\n",
    "    if n < 0:\n",
    "        raise ValueError(\"Input must be positive.\")\n",
    "    result = 0\n",
    "    for i in range(n):\n",
    "        result += i ** 2\n",
    "    return result\n",
    "\n",
    "def test():\n",
    "    assert sum_squares(4) == 1 + 4 + 9\n",
    "    assert sum_squares(0) == 0\n",
    "    try:\n",
    "        sum_squares(-5)\n",
    "    except ValueError as e:\n",
    "        print('Caught error: ' + str(e))\n",
    "    return True\n",
    "\n",
    "test()"
   ]
  },
  {
   "cell_type": "code",
   "execution_count": 13,
   "metadata": {},
   "outputs": [
    {
     "data": {
      "text/plain": [
       "True"
      ]
     },
     "execution_count": 13,
     "metadata": {},
     "output_type": "execute_result"
    }
   ],
   "source": [
    "\"\"\"R-1.5. Give a single command that computes the sum from Exercise R-1.4, relying\n",
    "on Python’s comprehension syntax and the built-in sum function.\"\"\"\n",
    "\n",
    "def sum_squares2(n):\n",
    "    if n < 0:\n",
    "        raise ValueError(\"Input must be positive.\")\n",
    "    return sum([i ** 2 for i in range(n)])\n",
    "\n",
    "def test():\n",
    "    for counter in range(50):\n",
    "        num = random.randint(1, 100)\n",
    "        assert sum_squares(num) == sum_squares2(num)\n",
    "    return True\n",
    "\n",
    "test()"
   ]
  },
  {
   "cell_type": "code",
   "execution_count": 14,
   "metadata": {},
   "outputs": [
    {
     "data": {
      "text/plain": [
       "True"
      ]
     },
     "execution_count": 14,
     "metadata": {},
     "output_type": "execute_result"
    }
   ],
   "source": [
    "\"\"\"R-1.6. Write a short Python function that takes a positive integer n and returns\n",
    "the sum of the squares of all the odd positive integers smaller than n.\"\"\"\n",
    "\n",
    "def sum_squares_odd(n):\n",
    "    if n < 0:\n",
    "        raise ValueError(\"Input must be positive.\")\n",
    "    result = 0\n",
    "    for i in range(n):\n",
    "        if not is_even(i):\n",
    "            result += i ** 2\n",
    "    return result\n",
    "\n",
    "def test():\n",
    "    assert sum_squares_odd(4) == 1 + 9\n",
    "    assert sum_squares_odd(0) == 0\n",
    "    return True\n",
    "\n",
    "test()"
   ]
  },
  {
   "cell_type": "code",
   "execution_count": 15,
   "metadata": {},
   "outputs": [
    {
     "data": {
      "text/plain": [
       "True"
      ]
     },
     "execution_count": 15,
     "metadata": {},
     "output_type": "execute_result"
    }
   ],
   "source": [
    "\"\"\"R-1.7. Give a single command that computes the sum from Exercise R-1.6, relying\n",
    "on Python’s comprehension syntax and the built-in sum function.\"\"\"\n",
    "\n",
    "def sum_squares_odd2(n):\n",
    "    if n < 0:\n",
    "        raise ValueError(\"Input must be positive.\")\n",
    "    return sum([i ** 2 if not is_even(i) else 0 for i in range(n)])\n",
    "\n",
    "def test():\n",
    "    for counter in range(50):\n",
    "        num = random.randint(1, 100)\n",
    "        assert sum_squares_odd(num) == sum_squares_odd2(num)\n",
    "    return True\n",
    "\n",
    "test()"
   ]
  },
  {
   "cell_type": "code",
   "execution_count": 16,
   "metadata": {},
   "outputs": [
    {
     "data": {
      "text/plain": [
       "True"
      ]
     },
     "execution_count": 16,
     "metadata": {},
     "output_type": "execute_result"
    }
   ],
   "source": [
    "\"\"\"R-1.8. Python allows negative integers to be used as indices into a sequence,\n",
    "such as a string. If string s has length n, and expression s[k] is used for index\n",
    "−n≤k<0, what is the equivalent index j ≥0 such that s[j] references\n",
    "the same element?\"\"\"\n",
    "\n",
    "def equiv_index(n, k):\n",
    "    return n + k\n",
    "\n",
    "def random_char():\n",
    "    num = random.randint(97, 122)\n",
    "    return chr(num)\n",
    "\n",
    "def random_string(n):\n",
    "    return ''.join([random_char() for i in range(n)])\n",
    "\n",
    "def test():\n",
    "    for counter in range(50):\n",
    "        num = random.randint(0, 100)\n",
    "        s = random_string(num)\n",
    "        for i in range(1, num + 1):\n",
    "            k = -i\n",
    "            assert s[k] == s[equiv_index(num, k)]\n",
    "    return True\n",
    "\n",
    "test()"
   ]
  },
  {
   "cell_type": "code",
   "execution_count": 17,
   "metadata": {},
   "outputs": [
    {
     "name": "stdout",
     "output_type": "stream",
     "text": [
      "50\n",
      "60\n",
      "70\n",
      "80\n"
     ]
    }
   ],
   "source": [
    "\"\"\"R-1.9. What parameters should be sent to the range constructor, to produce a\n",
    "range with values 50, 60, 70, 80?\"\"\"\n",
    "\n",
    "for i in range(50, 90, 10):\n",
    "    print(i)"
   ]
  },
  {
   "cell_type": "code",
   "execution_count": 18,
   "metadata": {},
   "outputs": [
    {
     "name": "stdout",
     "output_type": "stream",
     "text": [
      "8\n",
      "6\n",
      "4\n",
      "2\n",
      "0\n",
      "-2\n",
      "-4\n",
      "-6\n",
      "-8\n"
     ]
    }
   ],
   "source": [
    "\"\"\"R-1.10. What parameters should be sent to the range constructor, to produce a\n",
    "range with values 8, 6, 4, 2, 0, −2, −4, −6, −8?\"\"\"\n",
    "\n",
    "for i in range(8, -10, -2):\n",
    "    print(i)"
   ]
  },
  {
   "cell_type": "code",
   "execution_count": 19,
   "metadata": {},
   "outputs": [
    {
     "name": "stdout",
     "output_type": "stream",
     "text": [
      "[2, 4, 8, 16, 32, 64, 128, 256]\n"
     ]
    }
   ],
   "source": [
    "\"\"\"R-1.11. Demonstrate how to use Python’s list comprehension syntax to produce\n",
    "the list [1, 2, 4, 8, 16, 32, 64, 128, 256].\"\"\"\n",
    "\n",
    "print([2 ** i for i in range(1, 9)])"
   ]
  },
  {
   "cell_type": "code",
   "execution_count": 20,
   "metadata": {},
   "outputs": [
    {
     "data": {
      "image/png": "[encoded data removed]",
      "text/plain": [
       "<Figure size 432x288 with 1 Axes>"
      ]
     },
     "metadata": {
      "needs_background": "light"
     },
     "output_type": "display_data"
    }
   ],
   "source": [
    "\"\"\"R-1.12. Python’s random module includes a function choice(data) that returns a\n",
    "random element from a non-empty sequence. The random module includes\n",
    "a more basic function randrange, with parameterization similar to\n",
    "the built-in range function, that return a random choice from the given\n",
    "range. Using only the randrange function, implement your own version\n",
    "of the choice function.\"\"\"\n",
    "\n",
    "def choice(data):\n",
    "    index = random.randrange(0, len(data))\n",
    "    return data[index]\n",
    "\n",
    "def test():\n",
    "    data = [choice([i for i in range(100)]) for j in range(5000)]\n",
    "    plt.hist(data)\n",
    "\n",
    "test()"
   ]
  },
  {
   "cell_type": "markdown",
   "metadata": {},
   "source": [
    "### Creativity"
   ]
  },
  {
   "cell_type": "code",
   "execution_count": 21,
   "metadata": {},
   "outputs": [
    {
     "data": {
      "text/plain": [
       "True"
      ]
     },
     "execution_count": 21,
     "metadata": {},
     "output_type": "execute_result"
    }
   ],
   "source": [
    "\"\"\"C-1.13. Write a pseudo-code description of a function that reverses a list of n\n",
    "integers, so that the numbers are listed in the opposite order than they\n",
    "were before, and compare this method to an equivalent Python function\n",
    "for doing the same thing.\"\"\"\n",
    "\n",
    "def rev(seq):\n",
    "    n = len(seq)\n",
    "    res = [0] * n\n",
    "    for i in range(n):\n",
    "        res[i] = seq[n-i-1]\n",
    "    return res\n",
    "\n",
    "def test():\n",
    "    for counter in range(50):\n",
    "        seq = random_list()\n",
    "        assert rev(seq) == list(reversed(seq))\n",
    "    return True\n",
    "\n",
    "test()"
   ]
  },
  {
   "cell_type": "code",
   "execution_count": 22,
   "metadata": {},
   "outputs": [
    {
     "data": {
      "text/plain": [
       "True"
      ]
     },
     "execution_count": 22,
     "metadata": {},
     "output_type": "execute_result"
    }
   ],
   "source": [
    "\"\"\"C-1.14. Write a short Python function that takes a sequence of integer values and\n",
    "determines if there is a distinct pair of numbers in the sequence whose\n",
    "product is odd.\"\"\"\n",
    "\n",
    "def odd_product(seq):\n",
    "    seq = filter(lambda x: not is_even(x), seq) # filter out even numbers\n",
    "    seq = list(set(seq)) # remove duplicates\n",
    "    return len(seq) > 1\n",
    "\n",
    "def test():\n",
    "    assert odd_product([1, 3, 5, 2])\n",
    "    assert not odd_product([4, 2, 10, 26])\n",
    "    return True\n",
    "\n",
    "test()"
   ]
  },
  {
   "cell_type": "code",
   "execution_count": 23,
   "metadata": {},
   "outputs": [
    {
     "data": {
      "text/plain": [
       "True"
      ]
     },
     "execution_count": 23,
     "metadata": {},
     "output_type": "execute_result"
    }
   ],
   "source": [
    "\"\"\"C-1.15. Write a Python function that takes a sequence of numbers and determines\n",
    "if all the numbers are different from each other (that is, they are distinct).\"\"\"\n",
    "\n",
    "def distinct(seq):\n",
    "    d = {} # dictionary with key as counter\n",
    "    for x in seq:\n",
    "        if x in d:\n",
    "            return False\n",
    "        else:\n",
    "            d[x] = 1\n",
    "    return True\n",
    "\n",
    "def test():\n",
    "    assert distinct([i for i in range(10)])\n",
    "    assert not distinct([1, 2, 7, 4, 1])\n",
    "    return True\n",
    "\n",
    "test()"
   ]
  },
  {
   "cell_type": "code",
   "execution_count": 24,
   "metadata": {},
   "outputs": [
    {
     "data": {
      "text/plain": [
       "'The list, data, is referential and mutable.'"
      ]
     },
     "execution_count": 24,
     "metadata": {},
     "output_type": "execute_result"
    }
   ],
   "source": [
    "\"\"\"C-1.16. In our implementation of the scale function (page 25), the body of the loop\n",
    "executes the command data[j] = factor. We have discussed that numeric\n",
    "types are immutable, and that use of the = operator in this context causes\n",
    "the creation of a new instance (not the mutation of an existing instance).\n",
    "How is it still possible, then, that our implementation of scale changes the\n",
    "actual parameter sent by the caller?\"\"\"\n",
    "\n",
    "\"\"\"The list, data, is referential and mutable.\"\"\""
   ]
  },
  {
   "cell_type": "code",
   "execution_count": 25,
   "metadata": {},
   "outputs": [
    {
     "data": {
      "text/plain": [
       "'No. The list, data, does not change as the alias, val, for each element in the list, is pointed to another value. '"
      ]
     },
     "execution_count": 25,
     "metadata": {},
     "output_type": "execute_result"
    }
   ],
   "source": [
    "\"\"\"C-1.17. Had we implemented the scale function (page 25) as follows, does it work\n",
    "properly?\n",
    "\n",
    "def scale(data, factor):\n",
    "    for val in data:\n",
    "        val *= factor\n",
    "\n",
    "\"\"\"\n",
    "\n",
    "\"\"\"No. The list, data, does not change as the alias, val, for each element in the list, is pointed to another value. \"\"\""
   ]
  },
  {
   "cell_type": "code",
   "execution_count": 26,
   "metadata": {},
   "outputs": [
    {
     "name": "stdout",
     "output_type": "stream",
     "text": [
      "[0, 2, 6, 12, 20, 30, 42, 56, 72, 90]\n"
     ]
    }
   ],
   "source": [
    "\"\"\"C-1.18. Demonstrate how to use Python’s list comprehension syntax to produce\n",
    "the list [0, 2, 6, 12, 20, 30, 42, 56, 72, 90].\"\"\"\n",
    "\n",
    "print([x * (x + 1) for x in range(10)])"
   ]
  },
  {
   "cell_type": "code",
   "execution_count": 27,
   "metadata": {},
   "outputs": [
    {
     "name": "stdout",
     "output_type": "stream",
     "text": [
      "['a', 'b', 'c', 'd', 'e', 'f', 'g', 'h', 'i', 'j', 'k', 'l', 'm', 'n', 'o', 'p', 'q', 'r', 's', 't', 'u', 'v', 'w', 'x', 'y', 'z']\n"
     ]
    }
   ],
   "source": [
    "\"\"\"C-1.19. Demonstrate how to use Python’s list comprehension syntax to produce\n",
    "the list [ a , b , c , ..., z ], but without having to type all 26 such\n",
    "characters literally.\"\"\"\n",
    "\n",
    "print([chr(i) for i in range(97, 123)])"
   ]
  },
  {
   "cell_type": "code",
   "execution_count": 28,
   "metadata": {},
   "outputs": [
    {
     "data": {
      "text/plain": [
       "True"
      ]
     },
     "execution_count": 28,
     "metadata": {},
     "output_type": "execute_result"
    }
   ],
   "source": [
    "\"\"\"C-1.20. Python’s random module includes a function shuffle(data) that accepts a\n",
    "list of elements and randomly reorders the elements so that each possible\n",
    "order occurs with equal probability. The random module includes a\n",
    "more basic function randint(a, b) that returns a uniformly random integer\n",
    "from a to b (including both endpoints). Using only the randint function,\n",
    "implement your own version of the shuffle function.\"\"\"\n",
    "\n",
    "def shuffle(data):\n",
    "    n = len(data)\n",
    "    res = [None] * n # reshuffled list\n",
    "    taken = [None] * n # list of new indexes taken\n",
    "    for i in range(n):\n",
    "        newIndex = random.randint(0, n-1)\n",
    "        while newIndex in taken: # if the generated index is already taken, pick randomly again\n",
    "            newIndex = random.randint(0, n-1)\n",
    "        taken[i] = newIndex\n",
    "        res[newIndex] = data[i]\n",
    "    return res\n",
    "\n",
    "def test():\n",
    "    for counter in range(50):\n",
    "        data = random_list()\n",
    "        assert set(data) == set(shuffle(data))\n",
    "    return True\n",
    "\n",
    "test()"
   ]
  },
  {
   "cell_type": "code",
   "execution_count": 29,
   "metadata": {
    "scrolled": true
   },
   "outputs": [],
   "source": [
    "\"\"\"C-1.21. Write a Python program that repeatedly reads lines from standard input\n",
    "until an EOFError is raised, and then outputs those lines in reverse order\n",
    "(a user can indicate end of input by typing ctrl-D).\"\"\"\n",
    "\n",
    "def reader():\n",
    "    lines = [] # stack would be better\n",
    "    while True:\n",
    "        try:\n",
    "            lines.append(input(\"Enter: \"))\n",
    "        except EOFError:\n",
    "            break\n",
    "    n = len(lines)\n",
    "    for i in range(n):\n",
    "        print(lines[n-i-1])\n",
    "\n",
    "# or\n",
    "# def reader():\n",
    "#     lines = []\n",
    "#     try:\n",
    "#         while True:\n",
    "#             lines.append(input(\"Enter: \"))\n",
    "#     except EOFError:\n",
    "#         n = len(lines)\n",
    "#         for i in range(n):\n",
    "#             print(lines[n-i-1])\n",
    "\n",
    "# reader() # try in command line"
   ]
  },
  {
   "cell_type": "code",
   "execution_count": 30,
   "metadata": {},
   "outputs": [
    {
     "name": "stdout",
     "output_type": "stream",
     "text": [
      "Don’t try buffer overflow attacks in Python!\n"
     ]
    }
   ],
   "source": [
    "\"\"\"C-1.23. Give an example of a Python code fragment that attempts to write an element\n",
    "to a list based on an index that may be out of bounds. If that index\n",
    "is out of bounds, the program should catch the exception that results, and\n",
    "print the following error message: Don’t try buffer overflow attacks in Python!\"\"\"\n",
    "\n",
    "data = [1,2,3]\n",
    "try:\n",
    "    data[3] = 4\n",
    "except IndexError:\n",
    "    print(\"Don’t try buffer overflow attacks in Python!\")"
   ]
  },
  {
   "cell_type": "code",
   "execution_count": 31,
   "metadata": {},
   "outputs": [
    {
     "data": {
      "text/plain": [
       "True"
      ]
     },
     "execution_count": 31,
     "metadata": {},
     "output_type": "execute_result"
    }
   ],
   "source": [
    "\"\"\"C-1.24. Write a short Python function that counts the number of vowels in a given\n",
    "character string.\"\"\"\n",
    "\n",
    "def count_vowels(s):\n",
    "    counter = 0\n",
    "    for char in s:\n",
    "        if char in ['a', 'e', 'i', 'o', 'u']:\n",
    "            counter += 1\n",
    "    return counter\n",
    "\n",
    "def test():\n",
    "    assert count_vowels('aerawfsdasdawae') == 7\n",
    "    assert count_vowels('') == 0\n",
    "    return True\n",
    "\n",
    "test()"
   ]
  },
  {
   "cell_type": "code",
   "execution_count": 32,
   "metadata": {},
   "outputs": [
    {
     "data": {
      "text/plain": [
       "True"
      ]
     },
     "execution_count": 32,
     "metadata": {},
     "output_type": "execute_result"
    }
   ],
   "source": [
    "\"\"\"C-1.25. Write a short Python function that takes a string s, representing a sentence,\n",
    "and returns a copy of the string with all punctuation removed. For example,\n",
    "if given the string \"Let's try, Mike.\", this function would return\n",
    "\"Lets try Mike\".\"\"\"\n",
    "\n",
    "def remove_punctuation(s):\n",
    "    res = ''\n",
    "    for char in s:\n",
    "        if char not in [',', '.', ';', ':', '?', '!', '\\'', '\"']:\n",
    "            res += char\n",
    "    return res\n",
    "\n",
    "def test():\n",
    "    assert remove_punctuation(\"Let's try, Mike\") == \"Lets try Mike\"\n",
    "    assert remove_punctuation(\"She said: \\\"Let's try, Mike\\\"\") == \"She said Lets try Mike\"\n",
    "    return True\n",
    "\n",
    "test()"
   ]
  },
  {
   "cell_type": "code",
   "execution_count": 33,
   "metadata": {},
   "outputs": [
    {
     "data": {
      "text/plain": [
       "True"
      ]
     },
     "execution_count": 33,
     "metadata": {},
     "output_type": "execute_result"
    }
   ],
   "source": [
    "\"\"\"C-1.26. Write a short program that takes as input three integers, a, b, and c, from\n",
    "the console and determines if they can be used in a correct arithmetic\n",
    "formula (in the given order), like “a+b = c,” “a = b−c,” or “a ∗ b = c.”\"\"\"\n",
    "\n",
    "def formula(a, b, c):\n",
    "    return (a + b == c) or (a - b == c) or (a * b == c) or (a == b + c) or (a == b - c) or (a == b * c)\n",
    "\n",
    "def test():\n",
    "    assert formula(1, 2, 3)\n",
    "    assert formula(10, 2, 5)\n",
    "    assert not formula(2, 3, 4)\n",
    "    return True\n",
    "\n",
    "test()"
   ]
  },
  {
   "cell_type": "code",
   "execution_count": 34,
   "metadata": {},
   "outputs": [
    {
     "data": {
      "text/plain": [
       "True"
      ]
     },
     "execution_count": 34,
     "metadata": {},
     "output_type": "execute_result"
    }
   ],
   "source": [
    "\"\"\"C-1.27. In Section 1.8, we provided three different implementations of a generator\n",
    "that computes factors of a given integer. The third of those implementations,\n",
    "from page 41, was the most efficient, but we noted that it did not\n",
    "yield the factors in increasing order. Modify the generator so that it reports\n",
    "factors in increasing order, while maintaining its general performance advantages.\"\"\"\n",
    "\n",
    "def factors(n):\n",
    "    '''Return the factors of n in a list in increasing order.'''\n",
    "    k = 1\n",
    "    temp = [] # temporarily store the large n // k values that violate the increasing order\n",
    "    # yield k only when k < n // k, and yield n // k separately at the end\n",
    "    while k * k < n: # moments where k < n // k\n",
    "        if n % k == 0:\n",
    "            yield k\n",
    "            temp.append(n // k) # because k is incrementing, n // k is stored in decreasing order\n",
    "        k += 1\n",
    "    if k * k == n: # moment where k == n // k\n",
    "        yield k\n",
    "    for i in reversed(temp): # yield the stored values at the end\n",
    "        yield i\n",
    "\n",
    "def test():\n",
    "    assert list(factors(1)) == [1]\n",
    "    assert list(factors(4)) == [1, 2, 4]\n",
    "    assert list(factors(10)) == [1, 2, 5, 10]\n",
    "    return True\n",
    "\n",
    "test()"
   ]
  },
  {
   "cell_type": "code",
   "execution_count": 35,
   "metadata": {},
   "outputs": [
    {
     "data": {
      "text/plain": [
       "True"
      ]
     },
     "execution_count": 35,
     "metadata": {},
     "output_type": "execute_result"
    }
   ],
   "source": [
    "'''C-1.28. The p-norm of a vector v = (v1,v2, . . . ,vn) in n-dimensional space is defined\n",
    "as \n",
    "||v|| = \\sqrt{v1^p + v2^p + ... + vn^p}\n",
    "For the special case of p = 2, this results in the traditional Euclidean\n",
    "norm, which represents the length of the vector. For example, the Euclidean\n",
    "norm of a two-dimensional vector with coordinates (4,3) has a\n",
    "Euclidean norm of\n",
    "\\sqrt{4^2 + 3^2} = 5\n",
    "Give an implementation of a function named norm such that norm(v, p) returns the p-norm\n",
    "value of v and norm(v) returns the Euclidean norm of v. You may assume\n",
    "that v is a list of numbers.'''\n",
    "\n",
    "def norm(v, p = 2):\n",
    "    return (sum([x ** p for x in v])) ** (1/p)\n",
    "\n",
    "def test():\n",
    "    assert norm([4, 3], 2) == 5.\n",
    "    assert norm([8, 6], 2) == 10.\n",
    "    return True\n",
    "\n",
    "test()"
   ]
  },
  {
   "cell_type": "markdown",
   "metadata": {},
   "source": [
    "### Projects"
   ]
  },
  {
   "cell_type": "code",
   "execution_count": 36,
   "metadata": {},
   "outputs": [
    {
     "data": {
      "text/plain": [
       "True"
      ]
     },
     "execution_count": 36,
     "metadata": {},
     "output_type": "execute_result"
    }
   ],
   "source": [
    "'''P-1.29. Write a Python program that outputs all possible strings formed by using\n",
    "the characters c , a , t , d , o , and g exactly once.'''\n",
    "\n",
    "CHARS = 'catdog'\n",
    "\n",
    "def permute_chars(chars):\n",
    "    charList = [char for char in chars]\n",
    "    n = len(charList)\n",
    "    indexPerms = permute(list(range(n)))\n",
    "    return [[chars[i] for i in indexPerm] for indexPerm in indexPerms]\n",
    "\n",
    "def permute(seq):\n",
    "    '''Return a list of all permutations of seq.'''\n",
    "    n = len(seq)\n",
    "    if n == 0:\n",
    "        return []\n",
    "    elif n == 1:\n",
    "        return [seq]\n",
    "    else:\n",
    "        permutations = []\n",
    "        # append each element to the permutations of the remaining elements\n",
    "        for i in range(n):\n",
    "            fixed = seq[i] # fix the element at index i\n",
    "            seq1 = swap(seq, i, 0) # and swap it to the front\n",
    "            remainingSeqIndex = list(filter(lambda j: j != i, list(range(n)))) # indices of the remaining elements\n",
    "            remainingSeq = [seq[j] for j in remainingSeqIndex] # the remaining sequence without the element at index i\n",
    "            remainingSeqPermute = permute(remainingSeq) # recursively generate permutations of the remaining sequence\n",
    "            for s in remainingSeqPermute: # append the fixed element to these permutations\n",
    "                s.insert(0, fixed) # not that this operation does not return anything\n",
    "            seqPermute = remainingSeqPermute\n",
    "            permutations += seqPermute\n",
    "        return permutations\n",
    "\n",
    "def swap(seq, i1, i2):\n",
    "    '''Return a copy of seq with elements at indices i1 and i2 swapped.'''\n",
    "    seq1 = [x for x in seq]\n",
    "    temp = seq1[i1]\n",
    "    seq1[i1] = seq1[i2]\n",
    "    seq1[i2] = temp\n",
    "    return seq1\n",
    "\n",
    "def factorial(n):\n",
    "    '''Return n! for any positive integer n.'''\n",
    "    if n == 1:\n",
    "        return 1\n",
    "    else:\n",
    "        return n * factorial(n-1)\n",
    "\n",
    "def unique(seq):\n",
    "    '''Return True of sequence contains no duplicates. Compatible with unhashable types, e.g., list of lists, which\n",
    "    cannot be passed to set() to remove duplicates.'''\n",
    "    return len(list(set(tuple(x) for x in seq))) == len(seq)\n",
    "\n",
    "def test():\n",
    "    perms = permute_chars(CHARS)\n",
    "    # check that the number of permutations is n! and that the permutations are unique\n",
    "    assert len(perms) == factorial(len(CHARS)) and unique(perms)\n",
    "    for counter in range(50):\n",
    "        num = random.randint(1, 5)\n",
    "        string = random_string(num)\n",
    "        while not unique(string):\n",
    "            string = random_string(num)\n",
    "        perms = permute_chars(string)\n",
    "        assert len(perms) == factorial(num) and unique(perms)\n",
    "    return True\n",
    "\n",
    "test()"
   ]
  },
  {
   "cell_type": "code",
   "execution_count": 37,
   "metadata": {},
   "outputs": [
    {
     "data": {
      "text/plain": [
       "True"
      ]
     },
     "execution_count": 37,
     "metadata": {},
     "output_type": "execute_result"
    }
   ],
   "source": [
    "\"\"\"P-1.30. Write a Python program that can take a positive integer greater than 2 as\n",
    "input and write out the number of times one must repeatedly divide this\n",
    "number by 2 before getting a value less than 2.\"\"\"\n",
    "\n",
    "def halving_times(n):\n",
    "    if type(n) is not int:\n",
    "        raise ValueError(\"Input must be integer.\")\n",
    "    if n < 2:\n",
    "        return 0\n",
    "    elif n == 2:\n",
    "        return 1\n",
    "    else:\n",
    "        return 1 + halving_times(n//2)\n",
    "\n",
    "def test():\n",
    "    assert halving_times(4) == 2\n",
    "    assert halving_times(9) == 3\n",
    "    for counter in range(50):\n",
    "        num = random.randint(0, 100)\n",
    "        for i in range(halving_times(num)):\n",
    "            num = num // 2\n",
    "        assert num < 2\n",
    "    return True\n",
    "\n",
    "test()"
   ]
  },
  {
   "cell_type": "code",
   "execution_count": 38,
   "metadata": {},
   "outputs": [
    {
     "data": {
      "text/plain": [
       "True"
      ]
     },
     "execution_count": 38,
     "metadata": {},
     "output_type": "execute_result"
    }
   ],
   "source": [
    "\"\"\"P-1.31. Write a Python program that can \"make change.\" Your program should\n",
    "take two numbers as input, one that is a monetary amount charged and the\n",
    "other that is a monetary amount given. It should then return the number\n",
    "of each kind of bill and coin to give back as change for the difference\n",
    "between the amount given and the amount charged. The values assigned\n",
    "to the bills and coins can be based on the monetary system of any current\n",
    "or former government. Try to design your program so that it returns as\n",
    "few bills and coins as possible.\"\"\"\n",
    "\n",
    "BILLS = [1, 2, 5, 10, 20, 50, 100]\n",
    "\n",
    "def helper(charged, given, changes):\n",
    "    '''Return the bills included in the changes as a bill:number dictionary recursively.'''\n",
    "    if given < charged:\n",
    "        raise ValueError(\"Insufficient amount given.\")\n",
    "    diff = given - charged\n",
    "    for bill in reversed(BILLS):\n",
    "        if bill <= diff:\n",
    "            changes[bill] += 1\n",
    "            if bill < diff:\n",
    "                return helper(charged, given - bill, changes) # recursively find changes\n",
    "            else:\n",
    "                return changes\n",
    "        else:\n",
    "            continue\n",
    "    return changes\n",
    "\n",
    "def make_change(charged, given):\n",
    "    initialDict = {bill:0 for bill in BILLS} # initialize dictionary\n",
    "    changes = helper(charged, given, initialDict)\n",
    "    return changes\n",
    "\n",
    "def test():\n",
    "    for counter in range(50):\n",
    "        charged = random.randint(0, 100)\n",
    "        given = random.randint(0, 500)\n",
    "        while given < charged:\n",
    "            given = random.randint(0, 500) # given must be no less than charged\n",
    "        charges = make_change(charged, given)\n",
    "        paid = 0\n",
    "        for k, v in charges.items():\n",
    "            paid += k * v\n",
    "        assert paid == given - charged\n",
    "    return True\n",
    "\n",
    "test()"
   ]
  },
  {
   "cell_type": "code",
   "execution_count": 39,
   "metadata": {},
   "outputs": [
    {
     "name": "stdout",
     "output_type": "stream",
     "text": [
      "100\n",
      "/\n",
      "3\n",
      "= 33.333333333333336\n"
     ]
    }
   ],
   "source": [
    "\"\"\"P-1.32. Write a Python program that can simulate a simple calculator, using the\n",
    "console as the exclusive input and output device. That is, each input to the\n",
    "calculator, be it a number, like 12.34 or 1034, or an operator, like + or =,\n",
    "can be done on a separate line. After each such input, you should output\n",
    "to the Python console what would be displayed on your calculator.\"\"\"\n",
    "\n",
    "def simple_calculator(): # does not handle parentheses\n",
    "    num1 = to_numeric(input())\n",
    "    op = input()\n",
    "    num2 = to_numeric(input())\n",
    "    if op == '+':\n",
    "        print('= ' + str(num1 + num2))\n",
    "    elif op == '-':\n",
    "        print('= ' + str(num1 - num2))\n",
    "    elif op == '*':\n",
    "        print('= ' + str(num1 * num2))\n",
    "    else:\n",
    "        print('= ' + str(num1 / num2))\n",
    "\n",
    "def to_numeric(num):\n",
    "    if '.' in num:\n",
    "        return float(num)\n",
    "    else:\n",
    "        return int(num)\n",
    "\n",
    "simple_calculator()"
   ]
  },
  {
   "cell_type": "code",
   "execution_count": 40,
   "metadata": {},
   "outputs": [
    {
     "data": {
      "text/plain": [
       "'P-1.33. Write a Python program that simulates a handheld calculator. Your program\\nshould process input from the Python console representing buttons\\nthat are \"pushed,\"\" and then output the contents of the screen after each operation\\nis performed. Minimally, your calculator should be able to process\\nthe basic arithmetic operations and a reset/clear operation.'"
      ]
     },
     "execution_count": 40,
     "metadata": {},
     "output_type": "execute_result"
    }
   ],
   "source": [
    "\"\"\"P-1.33. Write a Python program that simulates a handheld calculator. Your program\n",
    "should process input from the Python console representing buttons\n",
    "that are \"pushed,\"\" and then output the contents of the screen after each operation\n",
    "is performed. Minimally, your calculator should be able to process\n",
    "the basic arithmetic operations and a reset/clear operation.\"\"\"\n",
    "\n",
    "# Without using other modules?"
   ]
  },
  {
   "cell_type": "code",
   "execution_count": 41,
   "metadata": {},
   "outputs": [
    {
     "name": "stdout",
     "output_type": "stream",
     "text": [
      "[10, 3, 14, 89, 19, 52, 9, 56]\n",
      "1. I will never spam my friends again.\n",
      "2. I will never spam my friends again.\n",
      "3. I will never spam my friends again.\n",
      "4. I will never spzm my friends again.\n",
      "5. I will never spam my friends again.\n",
      "6. I will never spam my friends again.\n",
      "7. I will never spam my friends again.\n",
      "8. I will never spam my friends again.\n",
      "9. I will never spam my friends again.\n",
      "10. I will never spam my frienvs again.\n",
      "11. I will never spam my kriends again.\n",
      "12. I will never spam my friends again.\n",
      "13. I will never spam my friends again.\n",
      "14. I will never spam my friends again.\n",
      "15. I will never kpam my friends again.\n",
      "16. I will never spam my friends again.\n",
      "17. I will never spam my friends again.\n",
      "18. I will never spam my friends again.\n",
      "19. I will never spam my friends again.\n",
      "20. I will never spam my friefds again.\n",
      "21. I will never spam my friends again.\n",
      "22. I will never spam my friends again.\n",
      "23. I will never spam my friends again.\n",
      "24. I will never spam my friends again.\n",
      "25. I will never spam my friends again.\n",
      "26. I will never spam my friends again.\n",
      "27. I will never spam my friends again.\n",
      "28. I will never spam my friends again.\n",
      "29. I will never spam my friends again.\n",
      "30. I will never spam my friends again.\n",
      "31. I will never spam my friends again.\n",
      "32. I will never spam my friends again.\n",
      "33. I will never spam my friends again.\n",
      "34. I will never spam my friends again.\n",
      "35. I will never spam my friends again.\n",
      "36. I will never spam my friends again.\n",
      "37. I will never spam my friends again.\n",
      "38. I will never spam my friends again.\n",
      "39. I will never spam my friends again.\n",
      "40. I will never spam my friends again.\n",
      "41. I will never spam my friends again.\n",
      "42. I will never spam my friends again.\n",
      "43. I will never spam my friends again.\n",
      "44. I will never spam my friends again.\n",
      "45. I will never spam my friends again.\n",
      "46. I will never spam my friends again.\n",
      "47. I will never spam my friends again.\n",
      "48. I will never spam my friends again.\n",
      "49. I will never spam my friends again.\n",
      "50. I will never spam my friends again.\n",
      "51. I will never spam my friends again.\n",
      "52. I will never spam my friends again.\n",
      "53. Ivwill never spam my friends again.\n",
      "54. I will never spam my friends again.\n",
      "55. I will never spam my friends again.\n",
      "56. I will never spam my friends again.\n",
      "57. I will never spaa my friends again.\n",
      "58. I will never spam my friends again.\n",
      "59. I will never spam my friends again.\n",
      "60. I will never spam my friends again.\n",
      "61. I will never spam my friends again.\n",
      "62. I will never spam my friends again.\n",
      "63. I will never spam my friends again.\n",
      "64. I will never spam my friends again.\n",
      "65. I will never spam my friends again.\n",
      "66. I will never spam my friends again.\n",
      "67. I will never spam my friends again.\n",
      "68. I will never spam my friends again.\n",
      "69. I will never spam my friends again.\n",
      "70. I will never spam my friends again.\n",
      "71. I will never spam my friends again.\n",
      "72. I will never spam my friends again.\n",
      "73. I will never spam my friends again.\n",
      "74. I will never spam my friends again.\n",
      "75. I will never spam my friends again.\n",
      "76. I will never spam my friends again.\n",
      "77. I will never spam my friends again.\n",
      "78. I will never spam my friends again.\n",
      "79. I will never spam my friends again.\n",
      "80. I will never spam my friends again.\n",
      "81. I will never spam my friends again.\n",
      "82. I will never spam my friends again.\n",
      "83. I will never spam my friends again.\n",
      "84. I will never spam my friends again.\n",
      "85. I will never spam my friends again.\n",
      "86. I will never spam my friends again.\n",
      "87. I will never spam my friends again.\n",
      "88. I will never spam my friends again.\n",
      "89. I will never spam my friends again.\n",
      "90. I will never spam my fyiends again.\n",
      "91. I will never spam my friends again.\n",
      "92. I will never spam my friends again.\n",
      "93. I will never spam my friends again.\n",
      "94. I will never spam my friends again.\n",
      "95. I will never spam my friends again.\n",
      "96. I will never spam my friends again.\n",
      "97. I will never spam my friends again.\n",
      "98. I will never spam my friends again.\n",
      "99. I will never spam my friends again.\n",
      "100. I will never spam my friends again.\n"
     ]
    }
   ],
   "source": [
    "\"\"\"P-1.34. A common punishment for school children is to write out a sentence multiple\n",
    "times. Write a Python stand-alone program that will write out the\n",
    "following sentence one hundred times: \"I will never spam my friends\n",
    "again.\" Your program should number each of the sentences and it should\n",
    "make eight different random-looking typos.\"\"\"\n",
    "\n",
    "SENTENCE = 'I will never spam my friends again.'\n",
    "\n",
    "def writer():\n",
    "    n = len(SENTENCE)\n",
    "    randomSentNums = random.sample(range(0, 100), 8) # indices of sentences to contain typo\n",
    "    print(randomSentNums)\n",
    "    randomIndices = [] # indices of characters to be typos in 8 of the sentences\n",
    "    for i in range(100):\n",
    "        if i in randomSentNums:\n",
    "            sentence = SENTENCE\n",
    "            sentenceList = [char for char in SENTENCE]\n",
    "            index = random.randint(0, n-1)\n",
    "            while index in randomIndices:\n",
    "                index = random.randint(0, n-1) # typos should be different\n",
    "            typo = random_char()\n",
    "            while typo == sentence[index]: # typo should differ from original character in the sentence\n",
    "                typo = random_char()\n",
    "            sentenceList[index] = typo\n",
    "            print(str(i+1) + '. ' + ''.join(sentenceList))\n",
    "        else:\n",
    "            print(str(i+1) + '. ' + SENTENCE)\n",
    "            \n",
    "\n",
    "writer()"
   ]
  },
  {
   "cell_type": "code",
   "execution_count": 42,
   "metadata": {},
   "outputs": [
    {
     "data": {
      "text/plain": [
       "{5: 0.030000000000000027,\n",
       " 10: 0.13,\n",
       " 15: 0.28,\n",
       " 20: 0.37,\n",
       " 25: 0.61,\n",
       " 30: 0.72,\n",
       " 35: 0.76,\n",
       " 40: 0.9,\n",
       " 45: 0.98,\n",
       " 50: 0.98,\n",
       " 55: 0.98,\n",
       " 60: 0.99,\n",
       " 65: 1.0,\n",
       " 70: 1.0,\n",
       " 75: 1.0,\n",
       " 80: 1.0,\n",
       " 85: 1.0,\n",
       " 90: 1.0,\n",
       " 95: 1.0,\n",
       " 100: 1.0}"
      ]
     },
     "execution_count": 42,
     "metadata": {},
     "output_type": "execute_result"
    }
   ],
   "source": [
    "\"\"\"P-1.35 The birthday paradox says that the probability that two people in a room\n",
    "will have the same birthday is more than half, provided n, the number of\n",
    "people in the room, is more than 23. This property is not really a paradox,\n",
    "but many people find it surprising. Design a Python program that can test\n",
    "this paradox by a series of experiments on randomly generated birthdays,\n",
    "which test this paradox for n = 5,10,15,20, . . . ,100.\"\"\"\n",
    "\n",
    "def random_bDay():\n",
    "    '''Return a Birthday object with randomly generated month and day. Does not account for leap year.'''\n",
    "    month = random.randint(1, 12)\n",
    "    if month in (1, 3, 5, 7, 8, 10, 12):\n",
    "        day = random.randint(1, 31)\n",
    "    else:\n",
    "        day = random.randint(1, 30)\n",
    "    return month, day\n",
    "\n",
    "def tester():\n",
    "    '''Simulate the probability that two people among n have the same birthday for n = 5, 10, ..., 100.'''\n",
    "    probs = {n:0 for n in range(5, 105, 5)}\n",
    "    for n in range(5, 105, 5):\n",
    "        counter = 0 # number of times no two people have the same birthday in 100 experiments\n",
    "        for experiment in range(100): # run experiments 100 times\n",
    "            bDays = []\n",
    "            sameBdayNum = 0 # number of people with the same birthday\n",
    "            for i in range(n):\n",
    "                bDay = random_bDay()\n",
    "                if bDay in bDays:\n",
    "                    sameBdayNum += 1\n",
    "                bDays.append(bDay)\n",
    "            if sameBdayNum == 0: # if no two people have the same birthday\n",
    "                counter += 1\n",
    "        probs[n] = 1 - counter/100 # probability that at least two people have the same birthday\n",
    "    return probs\n",
    "        \n",
    "tester()"
   ]
  },
  {
   "cell_type": "code",
   "execution_count": 43,
   "metadata": {},
   "outputs": [
    {
     "data": {
      "text/plain": [
       "True"
      ]
     },
     "execution_count": 43,
     "metadata": {},
     "output_type": "execute_result"
    }
   ],
   "source": [
    "\"\"\"P-1.36. Write a Python program that inputs a list of words, separated by whitespace,\n",
    "and outputs how many times each word appears in the list. You\n",
    "need not worry about efficiency at this point, however, as this topic is\n",
    "something that will be addressed later in this book.\"\"\"\n",
    "\n",
    "def word_count(words):\n",
    "    counter = {word:0 for word in set(words)}\n",
    "    for word in words:\n",
    "        counter[word] += 1\n",
    "    return counter\n",
    "\n",
    "def test():\n",
    "    words = ['I', 'see', 'you', 'I', 'hear', 'you']\n",
    "    counter = word_count(words)\n",
    "    assert counter['I'] == 2\n",
    "    return True\n",
    "\n",
    "test()"
   ]
  },
  {
   "cell_type": "markdown",
   "metadata": {},
   "source": [
    "# Object-Oriented Programming\n",
    "\n",
    "## Class definitions\n",
    "\n",
    "### Credit card"
   ]
  },
  {
   "cell_type": "code",
   "execution_count": 44,
   "metadata": {},
   "outputs": [],
   "source": [
    "class CreditCard:\n",
    "    \"\"\"A consumer credit card.\"\"\"\n",
    "    \n",
    "    def __init__(self, customer, bank, account, limit):\n",
    "        \"\"\"Create a new credit card instance.\n",
    "        \n",
    "        customer    name of the customer\n",
    "        bank        name of the bank\n",
    "        account     account identifier stored as string\n",
    "        limit       credit limit in USD\n",
    "        \n",
    "        Initial balance is 0.\n",
    "        \"\"\"\n",
    "        self._customer = customer\n",
    "        self._bank = bank\n",
    "        self._account = account\n",
    "        self._limit = limit\n",
    "        self._balance = 0\n",
    "        \n",
    "    def get_customer(self):\n",
    "        \"\"\"Return name of the customer.\"\"\"\n",
    "        return self._customer\n",
    "    \n",
    "    def get_bank(self):\n",
    "        \"\"\"Return name of the bank.\"\"\"\n",
    "        return self._bank\n",
    "    \n",
    "    def get_account(self):\n",
    "        \"\"\"Return account identifying number.\"\"\"\n",
    "        return self._account\n",
    "    \n",
    "    def get_limit(self):\n",
    "        \"\"\"Return credit limit.\"\"\"\n",
    "        return self._limit\n",
    "    \n",
    "    def get_balance(self):\n",
    "        \"\"\"Return balance.\"\"\"\n",
    "        return self._balance\n",
    "    \n",
    "    def charge(self, price):\n",
    "        \"\"\"Charge given price to the card.\n",
    "        \n",
    "        Return True if charge was processed and False if charge was denied.\n",
    "        \"\"\"\n",
    "        if price + self._balance > self._limit: # if charge exceeds limit\n",
    "            return False # cannot accept charge\n",
    "        else:\n",
    "            self._balance += price\n",
    "            return True\n",
    "        \n",
    "    def make_payment(self, amount):\n",
    "        \"\"\"Process payment by reducing balance by the given amount.\"\"\"\n",
    "        self._balance -= amount"
   ]
  },
  {
   "cell_type": "code",
   "execution_count": 45,
   "metadata": {},
   "outputs": [
    {
     "name": "stdout",
     "output_type": "stream",
     "text": [
      "Customer =  John Bowman\n",
      "Bank =  California Savings\n",
      "Account =  5391 0375 9387 5309\n",
      "Limit =  2500\n",
      "Balance =  136\n",
      "New balance =  36\n",
      "\n",
      "Customer =  John Bowman\n",
      "Bank =  California Federal\n",
      "Account =  3485 0399 3395 1954\n",
      "Limit =  3500\n",
      "Balance =  272\n",
      "New balance =  172\n",
      "New balance =  72\n",
      "\n",
      "Customer =  John Bowman\n",
      "Bank =  California Finance\n",
      "Account =  5391 0375 9387 5309\n",
      "Limit =  5000\n",
      "Balance =  408\n",
      "New balance =  308\n",
      "New balance =  208\n",
      "New balance =  108\n",
      "New balance =  8\n",
      "\n"
     ]
    }
   ],
   "source": [
    "# if name == '__main__':\n",
    "wallet = []\n",
    "wallet.append(CreditCard('John Bowman', 'California Savings', '5391 0375 9387 5309', 2500))\n",
    "wallet.append(CreditCard('John Bowman', 'California Federal', '3485 0399 3395 1954', 3500))\n",
    "wallet.append(CreditCard('John Bowman', 'California Finance', '5391 0375 9387 5309', 5000))\n",
    "\n",
    "for val in range(1, 17):\n",
    "    wallet[0].charge(val)\n",
    "    wallet[1].charge(2*val)\n",
    "    wallet[2].charge(3*val)\n",
    "\n",
    "for c in range(3):\n",
    "    print('Customer = ', wallet[c].get_customer())\n",
    "    print('Bank = ', wallet[c].get_bank())\n",
    "    print('Account = ', wallet[c].get_account())\n",
    "    print('Limit = ', wallet[c].get_limit())\n",
    "    print('Balance = ', wallet[c].get_balance())\n",
    "    while wallet[c].get_balance() > 100:\n",
    "        wallet[c].make_payment(100)\n",
    "        print('New balance = ', wallet[c].get_balance())\n",
    "    print()"
   ]
  },
  {
   "cell_type": "markdown",
   "metadata": {},
   "source": [
    "### Multidimensional vector"
   ]
  },
  {
   "cell_type": "code",
   "execution_count": 46,
   "metadata": {},
   "outputs": [],
   "source": [
    "class Vector:\n",
    "    \"\"\"Represent a vector in a multidimensional space.\"\"\"\n",
    "    \n",
    "    def __init__(self, d):\n",
    "        \"\"\"Create a d-dimensional vector of zeros.\"\"\"\n",
    "        self._container = [0] * d\n",
    "    \n",
    "    def __len__(self):\n",
    "        \"\"\"Return the length of vector.\"\"\"\n",
    "        return len(self._container)\n",
    "    \n",
    "    def __getitem__(self, i):\n",
    "        \"\"\"Return the i-th coordinate of vector.\"\"\"\n",
    "        if i >= 0 or i < len(self):\n",
    "            raise ValueError(\"Index out of range.\")\n",
    "        return self._container[i]\n",
    "    \n",
    "    def __setitem__(self, i, value):\n",
    "        \"\"\"Set the i-th coordinate of vector to given value.\"\"\"\n",
    "        if i >= 0 or i < len(self):\n",
    "            raise ValueError(\"Index out of range.\")\n",
    "        self._container[i] = value\n",
    "    \n",
    "    def __add__(self, other):\n",
    "        \"\"\"Return the sum of two vectors.\"\"\"\n",
    "        if len(self) != len(other):\n",
    "            raise ValueError(\"Addition not allowed on vectors with different lengths.\")\n",
    "        d = len(self)\n",
    "        new = Vector(d)\n",
    "        for i in range(d):\n",
    "            new[i] = self[i] + other[i]\n",
    "        return new\n",
    "    \n",
    "    def __eq__(self, other):\n",
    "        \"\"\"Return True if the two vectors are the same entry-wise.\"\"\"\n",
    "        return self._container == other._container\n",
    "    \n",
    "    def __ne__(self, other):\n",
    "        \"\"\"Return True if the two vectors differ in some coordinate.\"\"\"\n",
    "        return not self == other # rely on existing __eq__()\n",
    "    \n",
    "    def str (self):\n",
    "        \"\"\"Produce string representation of vector.\"\"\"\n",
    "        return '<' + str(self. coords)[1:-1] + '>'"
   ]
  },
  {
   "cell_type": "code",
   "execution_count": 47,
   "metadata": {
    "scrolled": true
   },
   "outputs": [
    {
     "name": "stdout",
     "output_type": "stream",
     "text": [
      "Help on class Vector in module __main__:\n",
      "\n",
      "class Vector(builtins.object)\n",
      " |  Represent a vector in a multidimensional space.\n",
      " |  \n",
      " |  Methods defined here:\n",
      " |  \n",
      " |  __add__(self, other)\n",
      " |      Return the sum of two vectors.\n",
      " |  \n",
      " |  __eq__(self, other)\n",
      " |      Return True if the two vectors are the same entry-wise.\n",
      " |  \n",
      " |  __getitem__(self, i)\n",
      " |      Return the i-th coordinate of vector.\n",
      " |  \n",
      " |  __init__(self, d)\n",
      " |      Create a d-dimensional vector of zeros.\n",
      " |  \n",
      " |  __len__(self)\n",
      " |      Return the length of vector.\n",
      " |  \n",
      " |  __ne__(self, other)\n",
      " |      Return True if the two vectors differ in some coordinate.\n",
      " |  \n",
      " |  __setitem__(self, i, value)\n",
      " |      Set the i-th coordinate of vector to given value.\n",
      " |  \n",
      " |  str(self)\n",
      " |      Produce string representation of vector.\n",
      " |  \n",
      " |  ----------------------------------------------------------------------\n",
      " |  Data descriptors defined here:\n",
      " |  \n",
      " |  __dict__\n",
      " |      dictionary for instance variables (if defined)\n",
      " |  \n",
      " |  __weakref__\n",
      " |      list of weak references to the object (if defined)\n",
      " |  \n",
      " |  ----------------------------------------------------------------------\n",
      " |  Data and other attributes defined here:\n",
      " |  \n",
      " |  __hash__ = None\n",
      "\n"
     ]
    }
   ],
   "source": [
    "help(Vector)"
   ]
  },
  {
   "cell_type": "markdown",
   "metadata": {},
   "source": [
    "### Iterator"
   ]
  },
  {
   "cell_type": "code",
   "execution_count": 12,
   "metadata": {},
   "outputs": [],
   "source": [
    "class SequenceIterator:\n",
    "    \"\"\"An iterator for any of Python's sequence types\"\"\"\n",
    "    \n",
    "    def __init__(self, sequence):\n",
    "        \"\"\"Create an iterator for the given sequence.\"\"\"\n",
    "        self._seq = sequence # keep a reference to the underlying data\n",
    "        self._k = -1 # will increment to 0 on first call to next\n",
    "    \n",
    "    def __next__(self):\n",
    "        \"\"\"Return the next element if it exists and raise StopIteration otherwise.\"\"\"\n",
    "        self._k += 1 # advance to the next index\n",
    "        if self._k < len(self._seq): # if there are remaining elements, return the next one\n",
    "            return self._seq[self._k]\n",
    "        else: # if not, raise error\n",
    "            raise StopIteration()\n",
    "    \n",
    "    def __iter__(self):\n",
    "        \"\"\"Return the iterator itself.\"\"\"\n",
    "        return self"
   ]
  },
  {
   "cell_type": "code",
   "execution_count": 17,
   "metadata": {},
   "outputs": [
    {
     "name": "stdout",
     "output_type": "stream",
     "text": [
      "1\n",
      "2\n",
      "3\n"
     ]
    }
   ],
   "source": [
    "seqIter = SequenceIterator([1,2,3])\n",
    "for i in range(3):\n",
    "    print(next(seqIter))"
   ]
  },
  {
   "cell_type": "code",
   "execution_count": 5,
   "metadata": {},
   "outputs": [],
   "source": [
    "class Range:\n",
    "    \"\"\"A class that mimics the built-in range class with lazy evaluation.\"\"\"\n",
    "    \n",
    "    def __init__(self, start, stop=None, step=1):\n",
    "        \"\"\"Initializes a Range instance.\n",
    "        \n",
    "        Semantics is similar to the built-in range class.\n",
    "        \"\"\"\n",
    "        if step == 0:\n",
    "            raise ValueError('step cannot be 0')\n",
    "        \n",
    "        if stop is None: # special case of range(n)\n",
    "            start, stop = 0, start # treat it as range(0, n)\n",
    "        \n",
    "        # calculate the effective length\n",
    "        self._length = max(0, (stop - start + step - 1) // step)\n",
    "        \n",
    "        # need start and step to support __getitem__\n",
    "        self._start = start\n",
    "        self._step = step\n",
    "    \n",
    "    def __len__(self):\n",
    "        \"\"\"Return number of entries in the range.\"\"\"\n",
    "        return self._length\n",
    "    \n",
    "    def __getitem__(self, k):\n",
    "        \"\"\"Return entry at index k.\"\"\"\n",
    "        if k < 0:\n",
    "            k += len(self)\n",
    "        if not (0 <= k and k < self._length):\n",
    "            raise IndexError('Index out of range')\n",
    "        return self._start + k * self._step"
   ]
  },
  {
   "cell_type": "code",
   "execution_count": 18,
   "metadata": {},
   "outputs": [
    {
     "name": "stdout",
     "output_type": "stream",
     "text": [
      "0\n",
      "1\n",
      "2\n",
      "3\n",
      "4\n",
      "5\n",
      "6\n",
      "7\n",
      "8\n",
      "9\n"
     ]
    }
   ],
   "source": [
    "r = Range(10)\n",
    "for i in r:\n",
    "    print(i)"
   ]
  },
  {
   "cell_type": "markdown",
   "metadata": {},
   "source": [
    "## Inheritance\n",
    "\n",
    "### Extending the credit card class"
   ]
  },
  {
   "cell_type": "code",
   "execution_count": 49,
   "metadata": {},
   "outputs": [],
   "source": [
    "class PredatoryCreditCard(CreditCard):\n",
    "    \"\"\"An extension to CreditCard that compounds interest and fees.\"\"\"\n",
    "    \n",
    "    def __init__(self, customer, bank, account, limit, apr):\n",
    "        \"\"\"Create a new predatory credit card instance.\n",
    "        \n",
    "        customer    name of the customer\n",
    "        bank        name of the bank\n",
    "        account     account identifier\n",
    "        limit       credit limit in USD\n",
    "        apr         annual percentage rate\n",
    "        \n",
    "        Initial balance is 0.\n",
    "        \"\"\"\n",
    "        super().__init__(customer, bank, account, limit) # call super constructor to create self._customer, ..., self._limit\n",
    "        self._apr = apr\n",
    "        \n",
    "    def charge(self, price):\n",
    "        \"\"\"Charge given price to the card.\n",
    "        \n",
    "        Return True if charge was processed.\n",
    "        Return False and assess $5 fee if charge is denied.\n",
    "        \"\"\"\n",
    "        success = super().charge(price) # call inherited method\n",
    "        if not success:\n",
    "            self._balance += 5 # assess penalty\n",
    "        return success\n",
    "    \n",
    "    def process_month(self):\n",
    "        \"\"\"Assess monthly interest on outstanding balance.\"\"\"\n",
    "        if self._balance > 0:\n",
    "            self._balance *= pow(1 + self._apr, 1/12)"
   ]
  },
  {
   "cell_type": "markdown",
   "metadata": {},
   "source": [
    "### Hierarchy of Numeric Progressions\n",
    "\n",
    "#### Progression base class"
   ]
  },
  {
   "cell_type": "code",
   "execution_count": 50,
   "metadata": {},
   "outputs": [],
   "source": [
    "class Progression:\n",
    "    \"\"\"Iterator producing a generic progression.\n",
    "    \n",
    "    Default iterator produces the whole numbers 0, 1, 2, ...\n",
    "    \"\"\"\n",
    "    \n",
    "    def __init__(self, start = 0):\n",
    "        \"\"\"Create a new instance of the Progression class.\n",
    "        \n",
    "        Current field is initialized to the first value of the progression.\"\"\"\n",
    "        self._current = start\n",
    "    \n",
    "    def _advance(self):\n",
    "        \"\"\"Update self._current to a new value.\n",
    "        \n",
    "        This should be overwritten by a subclass to customize progression.\n",
    "        \n",
    "        By convention, if current is set to None, this means the end of a finite progression.\n",
    "        \"\"\"\n",
    "        self._current += 1\n",
    "    \n",
    "    def __next__(self):\n",
    "        \"\"\"Return the next element, or else raise StopIteration error.\"\"\"\n",
    "        if self._current is None:\n",
    "            raise StopIteration()\n",
    "        else:\n",
    "            answer = self._current # record current value to return\n",
    "            self._advance() # advance current value to prepare for the next return\n",
    "            return answer\n",
    "    \n",
    "    def __iter__(self):\n",
    "        \"\"\"By convention, an iterator must return itself as an iterator.\"\"\"\n",
    "        return self\n",
    "    \n",
    "    def print_progression(self, n):\n",
    "        \"\"\"Print next n values of the progression.\"\"\"\n",
    "        print(' '.join(str(next(self)) for j in range(n)))"
   ]
  },
  {
   "cell_type": "code",
   "execution_count": 51,
   "metadata": {},
   "outputs": [
    {
     "name": "stdout",
     "output_type": "stream",
     "text": [
      "0 1 2 3 4 5 6 7 8 9\n"
     ]
    }
   ],
   "source": [
    "seq = Progression()\n",
    "seq.print_progression(10)"
   ]
  },
  {
   "cell_type": "markdown",
   "metadata": {},
   "source": [
    "#### Arithmetic progression class"
   ]
  },
  {
   "cell_type": "code",
   "execution_count": 52,
   "metadata": {},
   "outputs": [],
   "source": [
    "class ArithmeticProgression(Progression): # inherti from Progression class\n",
    "    \"\"\"Iterator producing an arithmetic progression.\"\"\"\n",
    "    \n",
    "    def __init__(self, constant=1, start=0):\n",
    "        \"\"\"Create a new arithmetic progression.\n",
    "        \n",
    "        constant    the fixed constant to add to each term (default 1)\n",
    "        start        the first term of the progression (default 0)\n",
    "        \"\"\"\n",
    "        super().__init__(start) # initialize base class\n",
    "        self._constant = constant\n",
    "    \n",
    "    def _advance(self): # override the inherited method\n",
    "        \"\"\"Update current value by adding self._constant.\"\"\"\n",
    "        self._current += self._constant"
   ]
  },
  {
   "cell_type": "code",
   "execution_count": 53,
   "metadata": {},
   "outputs": [
    {
     "name": "stdout",
     "output_type": "stream",
     "text": [
      "1 11 21 31 41 51 61 71 81 91\n"
     ]
    }
   ],
   "source": [
    "seq = ArithmeticProgression(10, 1)\n",
    "seq.print_progression(10)"
   ]
  },
  {
   "cell_type": "markdown",
   "metadata": {},
   "source": [
    "#### Geometric progression class"
   ]
  },
  {
   "cell_type": "code",
   "execution_count": 54,
   "metadata": {},
   "outputs": [],
   "source": [
    "class GeometricProgression(Progression):\n",
    "    \"\"\"Iterator producing a geometric progression.\"\"\"\n",
    "    \n",
    "    def __init__(self, constant=2, start=1):\n",
    "        \"\"\"Create a new geometric progression.\n",
    "        \n",
    "        constant    the fixed constant to multiply each term by (default 2)\n",
    "        start       the first term of the progression (default 1)\n",
    "        \"\"\"\n",
    "        super().__init__(start)\n",
    "        self._constant = constant\n",
    "    \n",
    "    def _advance(self): # override inherited method\n",
    "        \"\"\"Udpate current value by multiplying self._constant.\"\"\"\n",
    "        self._current *= self._constant"
   ]
  },
  {
   "cell_type": "code",
   "execution_count": 55,
   "metadata": {
    "scrolled": true
   },
   "outputs": [
    {
     "name": "stdout",
     "output_type": "stream",
     "text": [
      "1 5 25 125 625 3125 15625 78125 390625 1953125\n"
     ]
    }
   ],
   "source": [
    "seq = GeometricProgression(5, 1)\n",
    "seq.print_progression(10)"
   ]
  },
  {
   "cell_type": "markdown",
   "metadata": {},
   "source": [
    "#### Fibonacci progression class"
   ]
  },
  {
   "cell_type": "code",
   "execution_count": 59,
   "metadata": {},
   "outputs": [],
   "source": [
    "class FibonacciProgression(Progression):\n",
    "    \"\"\"Iterator producing a Fibonacci progression.\"\"\"\n",
    "    \n",
    "    def __init__(self, first=0, second=1):\n",
    "        \"\"\"Create a new fibonacci progression.\n",
    "        \n",
    "        first    the first term of the progression (default 0)\n",
    "        second   the second term of the progression (default 1)\n",
    "        \"\"\"\n",
    "        super().__init__(first) # start porgression at first\n",
    "        self._prev = second - first # field storing value preceding first\n",
    "    \n",
    "    def _advance(self):\n",
    "        \"\"\"Update self._current by summing self._prev and self._current.\"\"\"\n",
    "        self._prev, self._current = self._current, self._prev + self._current\n",
    "        # at the first iteration, self._prev becomes first and self._current becomes (second - first) + first = second"
   ]
  },
  {
   "cell_type": "code",
   "execution_count": 60,
   "metadata": {},
   "outputs": [
    {
     "name": "stdout",
     "output_type": "stream",
     "text": [
      "0 1 1 2 3 5 8 13 21 34\n"
     ]
    }
   ],
   "source": [
    "seq = FibonacciProgression(0, 1)\n",
    "seq.print_progression(10)"
   ]
  },
  {
   "cell_type": "code",
   "execution_count": 63,
   "metadata": {},
   "outputs": [
    {
     "name": "stdout",
     "output_type": "stream",
     "text": [
      "Default progression:\n",
      "0 1 2 3 4 5 6 7 8 9\n",
      "Arithmetic progression with increment 5:\n",
      "0 5 10 15 20 25 30 35 40 45\n",
      "Arithmetic progression with increment 5 and start 2:\n",
      "2 7 12 17 22 27 32 37 42 47\n",
      "Geometric progression with default base:\n",
      "1 2 4 8 16 32 64 128 256 512\n",
      "Geometric progression with base 3:\n",
      "1 3 9 27 81 243 729 2187 6561 19683\n",
      "Fibonacci progression with default start values:\n",
      "0 1 1 2 3 5 8 13 21 34\n",
      "Fibonacci progression with start values 4 and 6:\n",
      "4 6 10 16 26 42 68 110 178 288\n"
     ]
    }
   ],
   "source": [
    "if __name__ == '__main__':\n",
    "    print('Default progression:')\n",
    "    Progression().print_progression(10)\n",
    "    print('Arithmetic progression with increment 5:')\n",
    "    ArithmeticProgression(5).print_progression(10)\n",
    "    print('Arithmetic progression with increment 5 and start 2:')\n",
    "    ArithmeticProgression(5, 2).print_progression(10)\n",
    "    print('Geometric progression with default base:')\n",
    "    GeometricProgression().print_progression(10)\n",
    "    print('Geometric progression with base 3:')\n",
    "    GeometricProgression(3).print_progression(10)\n",
    "    print('Fibonacci progression with default start values:')\n",
    "    FibonacciProgression().print_progression(10)\n",
    "    print('Fibonacci progression with start values 4 and 6:')\n",
    "    FibonacciProgression(4, 6).print_progression(10)"
   ]
  },
  {
   "cell_type": "markdown",
   "metadata": {},
   "source": [
    "### Abstract base class"
   ]
  },
  {
   "cell_type": "code",
   "execution_count": 2,
   "metadata": {},
   "outputs": [],
   "source": [
    "from abc import ABCMeta, abstractmethod\n",
    "\n",
    "class Sequence(metaclass=ABCMeta):\n",
    "    \"\"\"Our own version of the collections.Sequence abstract base class.\"\"\"\n",
    "    \n",
    "    @abstractmethod\n",
    "    def __len__(self):\n",
    "        \"\"\"Return the length of the sequence.\"\"\"\n",
    "    \n",
    "    @abstractmethod\n",
    "    def __getitem__(self, j):\n",
    "        \"\"\"Return the element at index j of the sequence.\"\"\"\n",
    "    \n",
    "    def __contains__(self, val):\n",
    "        \"\"\"Return True if val found in the sequence.\"\"\"\n",
    "        for i in range(len(self)):\n",
    "            if self[i] == val: # found match\n",
    "                return True\n",
    "        return False\n",
    "    \n",
    "    def index(self, val):\n",
    "        \"\"\"Return the leftmost index at which val is found, or raise ValueError.\"\"\"\n",
    "        for i in range(len(self)):\n",
    "            if self[i] == val: # leftmost match\n",
    "                return i\n",
    "        raise ValueError('Value not in sequence.')\n",
    "    \n",
    "    def count(self, val):\n",
    "        \"\"\"Return the number of elements equal to val.\"\"\"\n",
    "        counter = 0\n",
    "        for i in range(len(self)):\n",
    "            if self[i] == val: # found a match\n",
    "                counter += 1\n",
    "        return counter"
   ]
  },
  {
   "cell_type": "code",
   "execution_count": 4,
   "metadata": {},
   "outputs": [],
   "source": [
    "# seq = Sequence()\n",
    "# ---------------------------------------------------------------------------\n",
    "# TypeError                                 Traceback (most recent call last)\n",
    "# <ipython-input-3-08d12196f33e> in <module>\n",
    "# ----> 1 seq = Sequence()\n",
    "\n",
    "# TypeError: Can't instantiate abstract class Sequence with abstract methods __getitem__, __len__"
   ]
  },
  {
   "cell_type": "markdown",
   "metadata": {},
   "source": [
    "## Shallow and deep copying"
   ]
  },
  {
   "cell_type": "code",
   "execution_count": 29,
   "metadata": {},
   "outputs": [],
   "source": [
    "class Color:\n",
    "    \"\"\"A class for RGB colors.\"\"\"\n",
    "    \n",
    "    def __init__(self, red, green, blue):\n",
    "        \"\"\"Create an instance of the Color class.\n",
    "        \n",
    "        red    an integer in [0, 255]\n",
    "        green  an integer in [0, 255]\n",
    "        blue   an integer in [0, 255]\n",
    "        \"\"\"\n",
    "        self._red = red\n",
    "        self._green = green\n",
    "        self._blue = blue\n",
    "    \n",
    "    def print_color(self):\n",
    "        print('red = {}, green = {}, blue = {}'.format(self._red, self._green, self._blue))"
   ]
  },
  {
   "cell_type": "markdown",
   "metadata": {},
   "source": [
    "### Aliasing"
   ]
  },
  {
   "cell_type": "code",
   "execution_count": 42,
   "metadata": {},
   "outputs": [
    {
     "name": "stdout",
     "output_type": "stream",
     "text": [
      "red = 249, green = 124, blue = 43\n",
      "red = 169, green = 163, blue = 52\n",
      "red = 0, green = 0, blue = 0\n",
      "\n",
      "\n",
      "red = 249, green = 124, blue = 43\n",
      "red = 169, green = 163, blue = 52\n",
      "red = 0, green = 0, blue = 0\n"
     ]
    }
   ],
   "source": [
    "warmtones = [Color(249, 124, 43), Color(169, 163, 52)]\n",
    "palette = warmtones\n",
    "\n",
    "palette.append(Color(0, 0, 0)) # affects warmtones\n",
    "\n",
    "for i in range(len(warmtones)):\n",
    "    color = warmtones[i]\n",
    "    color.print_color()\n",
    "print('\\n')\n",
    "for i in range(len(palette)):\n",
    "    color = palette[i]\n",
    "    color.print_color()"
   ]
  },
  {
   "cell_type": "markdown",
   "metadata": {},
   "source": [
    "### Shallow copying (implicit aliasing)"
   ]
  },
  {
   "cell_type": "code",
   "execution_count": 41,
   "metadata": {},
   "outputs": [
    {
     "name": "stdout",
     "output_type": "stream",
     "text": [
      "red = 100, green = 124, blue = 43\n",
      "red = 169, green = 163, blue = 52\n",
      "\n",
      "\n",
      "red = 100, green = 124, blue = 43\n",
      "red = 255, green = 255, blue = 255\n",
      "red = 0, green = 0, blue = 0\n"
     ]
    }
   ],
   "source": [
    "warmtones = [Color(249, 124, 43), Color(169, 163, 52)]\n",
    "palette = list(warmtones)\n",
    "\n",
    "palette.append(Color(0, 0, 0)) # does not affect warmtones\n",
    "palette[0]._red = 100 # affects warmtones because it modifies the same object that warmtones[0] and palette[0] point to\n",
    "palette[1] = Color(255, 255, 255) # does not affect warmtones because it just reassigns palette[1] to point somewhere else\n",
    "\n",
    "for i in range(len(warmtones)):\n",
    "    color = warmtones[i]\n",
    "    color.print_color()\n",
    "print('\\n')\n",
    "for i in range(len(palette)):\n",
    "    color = palette[i]\n",
    "    color.print_color()"
   ]
  },
  {
   "cell_type": "markdown",
   "metadata": {},
   "source": [
    "### Deep copying"
   ]
  },
  {
   "cell_type": "code",
   "execution_count": 43,
   "metadata": {},
   "outputs": [
    {
     "name": "stdout",
     "output_type": "stream",
     "text": [
      "red = 249, green = 124, blue = 43\n",
      "red = 169, green = 163, blue = 52\n",
      "\n",
      "\n",
      "red = 100, green = 124, blue = 43\n",
      "red = 255, green = 255, blue = 255\n",
      "red = 0, green = 0, blue = 0\n"
     ]
    }
   ],
   "source": [
    "import copy\n",
    "\n",
    "warmtones = [Color(249, 124, 43), Color(169, 163, 52)]\n",
    "palette = copy.deepcopy(warmtones)\n",
    "\n",
    "palette.append(Color(0, 0, 0)) # does not affect warmtones\n",
    "palette[0]._red = 100 # does not affect warmtones\n",
    "palette[1] = Color(255, 255, 255) # does not affect warmtones\n",
    "\n",
    "for i in range(len(warmtones)):\n",
    "    color = warmtones[i]\n",
    "    color.print_color()\n",
    "print('\\n')\n",
    "for i in range(len(palette)):\n",
    "    color = palette[i]\n",
    "    color.print_color()"
   ]
  },
  {
   "cell_type": "markdown",
   "metadata": {},
   "source": [
    "## Exercises"
   ]
  },
  {
   "cell_type": "code",
   "execution_count": 45,
   "metadata": {},
   "outputs": [
    {
     "data": {
      "text/plain": [
       "True"
      ]
     },
     "execution_count": 45,
     "metadata": {},
     "output_type": "execute_result"
    }
   ],
   "source": [
    "\"\"\"R-2.4. Write a Python class, Flower, that has three instance variables of type str,\n",
    "int, and float, that respectively represent the name of the flower, its number\n",
    "of petals, and its price. Your class must include a constructor method\n",
    "that initializes each variable to an appropriate value, and your class should\n",
    "include methods for setting the value of each type, and retrieving the value\n",
    "of each type.\"\"\"\n",
    "\n",
    "class Flower:\n",
    "    def __init__(self):\n",
    "        self._name = ''\n",
    "        self._numPetals = 0\n",
    "        self._price = 0.\n",
    "    \n",
    "    def set_name(self, name):\n",
    "        self._name = name\n",
    "    \n",
    "    def set_numPetals(self, numPetals):\n",
    "        self._numPetals = numPetals\n",
    "    \n",
    "    def set_price(self, price):\n",
    "        self._price = price\n",
    "    \n",
    "    def get_name(self):\n",
    "        return self._name\n",
    "    \n",
    "    def get_numPetals(self):\n",
    "        return self._numPetals\n",
    "    \n",
    "    def get_price(self):\n",
    "        return self._price\n",
    "\n",
    "def test():\n",
    "    flower = Flower()\n",
    "    NAME = 'rose'\n",
    "    NUM_PETALS = 7\n",
    "    PRICE = 100\n",
    "    flower.set_name(NAME)\n",
    "    flower.set_numPetals(NUM_PETALS)\n",
    "    flower.set_price(PRICE)\n",
    "    assert flower.get_name() == NAME and flower.get_numPetals() == NUM_PETALS and flower.get_price() == PRICE\n",
    "    return True\n",
    "\n",
    "test()"
   ]
  },
  {
   "cell_type": "code",
   "execution_count": null,
   "metadata": {},
   "outputs": [],
   "source": [
    "\"\"\"R-2.5 Use the techniques of Section 1.7 to revise the charge and make payment\n",
    "methods of the CreditCard class to ensure that the caller sends a number\n",
    "as a parameter.\"\"\"\n",
    "\n",
    "# TBD"
   ]
  }
 ],
 "metadata": {
  "kernelspec": {
   "display_name": "Python 3",
   "language": "python",
   "name": "python3"
  },
  "language_info": {
   "codemirror_mode": {
    "name": "ipython",
    "version": 3
   },
   "file_extension": ".py",
   "mimetype": "text/x-python",
   "name": "python",
   "nbconvert_exporter": "python",
   "pygments_lexer": "ipython3",
   "version": "3.6.8"
  },
  "toc": {
   "base_numbering": 1,
   "nav_menu": {},
   "number_sections": true,
   "sideBar": true,
   "skip_h1_title": false,
   "title_cell": "Table of Contents",
   "title_sidebar": "Contents",
   "toc_cell": false,
   "toc_position": {
    "height": "calc(100% - 180px)",
    "left": "10px",
    "top": "150px",
    "width": "193.495px"
   },
   "toc_section_display": true,
   "toc_window_display": true
  }
 },
 "nbformat": 4,
 "nbformat_minor": 2
}
