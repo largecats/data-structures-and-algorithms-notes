{
 "cells": [
  {
   "cell_type": "markdown",
   "metadata": {},
   "source": [
    "Reading notes and partial solutions to [Data Structures and Algorithms in Python](https://blackwells.co.uk/bookshop/product/9781118290279?gC=f177369a3b&gclid=Cj0KCQjwhJrqBRDZARIsALhp1WTBIyoxeQGXedlVy80vsglvFbNkVf7jTP0Z0zXEIP87lfqbtb4_diYaAr8dEALw_wcB)."
   ]
  },
  {
   "cell_type": "code",
   "execution_count": 1,
   "metadata": {},
   "outputs": [],
   "source": [
    "import random\n",
    "from matplotlib import pyplot as plt\n",
    "%matplotlib inline\n",
    "import math\n",
    "from datetime import datetime\n",
    "import time\n",
    "import numpy as np"
   ]
  },
  {
   "cell_type": "markdown",
   "metadata": {},
   "source": [
    "## Array-Based Sequences\n",
    "\n",
    "### Low-Level Arrays\n",
    "\n",
    "Python lists and tuples are referential structures. They store memory addresses of the elements put in them.\n",
    "\n",
    "When elements in a list are re-assigned, the references are re-assigned to new objects, the objects don't change.\n",
    "\n",
    "#### Referential Arrays\n",
    "\n",
    "Referential arrays store references the objects put in them (primary data).\n",
    "\n",
    "#### Compact Arrays\n",
    "\n",
    "Compact arrays directly store primary data.\n",
    "\n",
    "* Compact arrays require less memory because referential arrays need memory to store both\n",
    "    * the references to the objects, and \n",
    "    * the objects themselves (primary data).\n",
    "* Primary data in compact arrays are stored sequentially; primary data refered to by referential arrays may not be stored sequentially in memory, even though references to their memory addresses are sequantial in the referential arrays. Computationally, it's better to have primary data that are often used in the same computations stored sequentially."
   ]
  },
  {
   "cell_type": "code",
   "execution_count": 2,
   "metadata": {},
   "outputs": [
    {
     "data": {
      "text/plain": [
       "68"
      ]
     },
     "execution_count": 2,
     "metadata": {},
     "output_type": "execute_result"
    }
   ],
   "source": [
    "import sys\n",
    "import array # Python compact arrays\n",
    "\n",
    "arr = array.array('i', [1]) # array of type \"signed int\"\n",
    "sys.getsizeof(arr) # number of bytes used to store primary data (not their references) in arr in memory"
   ]
  },
  {
   "cell_type": "markdown",
   "metadata": {},
   "source": [
    "`int` in C requires 2 bytes, but requires 24 bytes in Python, because an integer in Python is an object, i.e., an instance of the `int` class (see https://www.quora.com/Why-does-Python-take-24-bytes-for-int-as-compared-to-2-bytes-in-C)."
   ]
  },
  {
   "cell_type": "code",
   "execution_count": 3,
   "metadata": {},
   "outputs": [
    {
     "data": {
      "text/plain": [
       "28"
      ]
     },
     "execution_count": 3,
     "metadata": {},
     "output_type": "execute_result"
    }
   ],
   "source": [
    "sys.getsizeof(1)"
   ]
  },
  {
   "cell_type": "markdown",
   "metadata": {},
   "source": [
    "### Dynamic Arrays and Amortization\n",
    "\n",
    "When creating a low-level array, its size must be specified and fixed. Immutable objects like `str` and `tuple` are readily compatible with this constraint. Mutable objects like `list` require dynamic array to support its mutability, e.g., ability to extend the list.\n",
    "\n",
    "Dynamic array works by allocating an underlying array with more bytes than needed to a list and expanding the underlying capacity as the list extends."
   ]
  },
  {
   "cell_type": "code",
   "execution_count": 4,
   "metadata": {},
   "outputs": [
    {
     "name": "stdout",
     "output_type": "stream",
     "text": [
      "Length: 0; Size in bytes: 64\n",
      "Length: 1; Size in bytes: 96\n",
      "Length: 2; Size in bytes: 96\n",
      "Length: 3; Size in bytes: 96\n",
      "Length: 4; Size in bytes: 96\n",
      "Length: 5; Size in bytes: 128\n",
      "Length: 6; Size in bytes: 128\n",
      "Length: 7; Size in bytes: 128\n",
      "Length: 8; Size in bytes: 128\n",
      "Length: 9; Size in bytes: 192\n"
     ]
    }
   ],
   "source": [
    "import sys\n",
    "\n",
    "l = []\n",
    "for i in range(10):\n",
    "    size = sys.getsizeof(l)\n",
    "    print('Length: {}; Size in bytes: {}'.format(len(l), size))\n",
    "    l.append(i)"
   ]
  },
  {
   "cell_type": "markdown",
   "metadata": {},
   "source": [
    "Note that each expansion of the underlying array allows the addition of 32 more bytes, or 4 64-bit numbers (each 64-bit number occupies 8 bytes).\n",
    "\n",
    "#### Implementing a Dynamic Array"
   ]
  },
  {
   "cell_type": "code",
   "execution_count": 17,
   "metadata": {},
   "outputs": [],
   "source": [
    "import ctypes\n",
    "\n",
    "class DynamicArray:\n",
    "    \n",
    "    def __init__(self):\n",
    "        \"\"\"Create an empty array.\"\"\"\n",
    "        self._n = 0 # number of actual elements in the array\n",
    "        self._capacity = 1 # capacity of the underlying array\n",
    "        self._A = self._make_array(self._capacity) # the underlying array\n",
    "    \n",
    "    def __len__(self):\n",
    "        return self._n\n",
    "    \n",
    "    def __getitem__(self, k):\n",
    "        if k < 0 or k >= self._n:\n",
    "            raise IndexError('Invalid index')\n",
    "        return self._A[k]\n",
    "    \n",
    "    def append(self, obj):\n",
    "        if self._n == self._capacity: # not enough room\n",
    "            # expand underlying array\n",
    "            self._resize(2 * self._capacity)\n",
    "        self._A[self._n] = obj # add obj to end of array\n",
    "        self._n += 1 # increment the recorder of number of elements in array\n",
    "    \n",
    "    def _resize(self, c):\n",
    "        \"\"\"Expand underlying array to capacity c.\"\"\"\n",
    "        newArr = self._make_array(c) # make new array\n",
    "        for i in range(self._n): # copy elements to new array\n",
    "            newArr[i] = self._A[i]\n",
    "        self._A = newArr\n",
    "        self._capacity = c\n",
    "    \n",
    "    def _make_array(self, c):\n",
    "        \"\"\"Return new array with capacity c.\"\"\"\n",
    "        return (c * ctypes.py_object)()\n",
    "    \n",
    "    def insert(self, k, value):\n",
    "        \"\"\"Insert value at index k, shifting subsequent values rightward.\"\"\"\n",
    "        # assume 0 <= k <= n for simplicity\n",
    "        if self._n == self._capacity:\n",
    "            self._resize(2 * self._capacity)\n",
    "        for j in range(self._n, k, -1):\n",
    "            self._A[j] = self._A[j-1] # shift rightward\n",
    "        self._A[k] = value # insert value at position k\n",
    "        self._n += 1 # increment counter"
   ]
  },
  {
   "cell_type": "code",
   "execution_count": 6,
   "metadata": {
    "scrolled": true
   },
   "outputs": [
    {
     "data": {
      "text/plain": [
       "<__main__.py_object_Array_2 at 0x185698d54c8>"
      ]
     },
     "execution_count": 6,
     "metadata": {},
     "output_type": "execute_result"
    }
   ],
   "source": [
    "import ctypes\n",
    "(2 * ctypes.py_object)()"
   ]
  },
  {
   "cell_type": "markdown",
   "metadata": {},
   "source": [
    "Amortized $O(n)$ append operation of Python list based on resizable array."
   ]
  },
  {
   "cell_type": "code",
   "execution_count": 7,
   "metadata": {
    "scrolled": false
   },
   "outputs": [
    {
     "data": {
      "text/plain": [
       "[<matplotlib.lines.Line2D at 0x1850026c588>]"
      ]
     },
     "execution_count": 7,
     "metadata": {},
     "output_type": "execute_result"
    },
    {
     "data": {
      "image/png": "[encoded data removed]",
      "text/plain": [
       "<Figure size 432x288 with 1 Axes>"
      ]
     },
     "metadata": {
      "needs_background": "light"
     },
     "output_type": "display_data"
    }
   ],
   "source": [
    "def compute_average(n):\n",
    "    data = []\n",
    "    start = time.time()\n",
    "    for k in range(n):\n",
    "        data.append(None)\n",
    "    end = time.time()\n",
    "    return (end - start) / n\n",
    "\n",
    "nList = [10**i for i in range(2, 9)]\n",
    "averageList = list(map(compute_average, nList))\n",
    "plt.plot(nList, averageList)"
   ]
  },
  {
   "cell_type": "markdown",
   "metadata": {},
   "source": [
    "### Using array-based sequences \n",
    "\n",
    "#### Insertion sort"
   ]
  },
  {
   "cell_type": "code",
   "execution_count": 8,
   "metadata": {},
   "outputs": [],
   "source": [
    "def insertion_sort(seq):\n",
    "    for k in range(len(seq)):\n",
    "        curr = seq[k]\n",
    "        j = k\n",
    "        while j > 0 and seq[j-1] > curr:\n",
    "            seq[j] = seq[j-1]\n",
    "            j -= 1\n",
    "        seq[j] = curr"
   ]
  },
  {
   "cell_type": "code",
   "execution_count": 9,
   "metadata": {},
   "outputs": [
    {
     "name": "stdout",
     "output_type": "stream",
     "text": [
      "[0, 1, 2, 3, 4, 10]\n"
     ]
    }
   ],
   "source": [
    "seq = [2,3,1,4,0,10]\n",
    "insertion_sort(seq)\n",
    "print(seq)"
   ]
  },
  {
   "cell_type": "code",
   "execution_count": 10,
   "metadata": {},
   "outputs": [],
   "source": [
    "def insert(seq, e):\n",
    "    # insert element e into sorted sequence seq in correct order\n",
    "    if e <= seq[0]:\n",
    "        seq.insert(0, e)\n",
    "    elif e >= seq[-1]:\n",
    "        seq.append(e)\n",
    "    else:\n",
    "        for i in range(len(seq)-1):\n",
    "            if e >= seq[i] and e <= seq[i+1]:\n",
    "                seq.insert(i+1, e)\n",
    "                break\n",
    "\n",
    "def insertion_sort(seq):\n",
    "    if len(seq) <= 1:\n",
    "        return seq\n",
    "    else:\n",
    "        for i in range(len(seq)):\n",
    "            insert(seq[:i], seq[i])"
   ]
  },
  {
   "cell_type": "code",
   "execution_count": 11,
   "metadata": {},
   "outputs": [
    {
     "name": "stdout",
     "output_type": "stream",
     "text": [
      "[1, 3, 4, 5, 6]\n"
     ]
    }
   ],
   "source": [
    "seq = [1,3,4,6]\n",
    "insert(seq, 5)\n",
    "print(seq)"
   ]
  },
  {
   "cell_type": "code",
   "execution_count": 12,
   "metadata": {},
   "outputs": [
    {
     "ename": "IndexError",
     "evalue": "list index out of range",
     "output_type": "error",
     "traceback": [
      "\u001b[1;31m---------------------------------------------------------------------------\u001b[0m",
      "\u001b[1;31mIndexError\u001b[0m                                Traceback (most recent call last)",
      "\u001b[1;32m<ipython-input-12-f6c094f31a7e>\u001b[0m in \u001b[0;36m<module>\u001b[1;34m\u001b[0m\n\u001b[0;32m      1\u001b[0m \u001b[0mseq\u001b[0m \u001b[1;33m=\u001b[0m \u001b[1;33m[\u001b[0m\u001b[1;36m2\u001b[0m\u001b[1;33m,\u001b[0m\u001b[1;36m3\u001b[0m\u001b[1;33m,\u001b[0m\u001b[1;36m1\u001b[0m\u001b[1;33m,\u001b[0m\u001b[1;36m4\u001b[0m\u001b[1;33m,\u001b[0m\u001b[1;36m0\u001b[0m\u001b[1;33m,\u001b[0m\u001b[1;36m10\u001b[0m\u001b[1;33m]\u001b[0m\u001b[1;33m\u001b[0m\u001b[1;33m\u001b[0m\u001b[0m\n\u001b[1;32m----> 2\u001b[1;33m \u001b[0minsertion_sort\u001b[0m\u001b[1;33m(\u001b[0m\u001b[0mseq\u001b[0m\u001b[1;33m)\u001b[0m\u001b[1;33m\u001b[0m\u001b[1;33m\u001b[0m\u001b[0m\n\u001b[0m\u001b[0;32m      3\u001b[0m \u001b[0mprint\u001b[0m\u001b[1;33m(\u001b[0m\u001b[0mseq\u001b[0m\u001b[1;33m)\u001b[0m\u001b[1;33m\u001b[0m\u001b[1;33m\u001b[0m\u001b[0m\n",
      "\u001b[1;32m<ipython-input-10-fa9277a069cf>\u001b[0m in \u001b[0;36minsertion_sort\u001b[1;34m(seq)\u001b[0m\n\u001b[0;32m     16\u001b[0m     \u001b[1;32melse\u001b[0m\u001b[1;33m:\u001b[0m\u001b[1;33m\u001b[0m\u001b[1;33m\u001b[0m\u001b[0m\n\u001b[0;32m     17\u001b[0m         \u001b[1;32mfor\u001b[0m \u001b[0mi\u001b[0m \u001b[1;32min\u001b[0m \u001b[0mrange\u001b[0m\u001b[1;33m(\u001b[0m\u001b[0mlen\u001b[0m\u001b[1;33m(\u001b[0m\u001b[0mseq\u001b[0m\u001b[1;33m)\u001b[0m\u001b[1;33m)\u001b[0m\u001b[1;33m:\u001b[0m\u001b[1;33m\u001b[0m\u001b[1;33m\u001b[0m\u001b[0m\n\u001b[1;32m---> 18\u001b[1;33m             \u001b[0minsert\u001b[0m\u001b[1;33m(\u001b[0m\u001b[0mseq\u001b[0m\u001b[1;33m[\u001b[0m\u001b[1;33m:\u001b[0m\u001b[0mi\u001b[0m\u001b[1;33m]\u001b[0m\u001b[1;33m,\u001b[0m \u001b[0mseq\u001b[0m\u001b[1;33m[\u001b[0m\u001b[0mi\u001b[0m\u001b[1;33m]\u001b[0m\u001b[1;33m)\u001b[0m\u001b[1;33m\u001b[0m\u001b[1;33m\u001b[0m\u001b[0m\n\u001b[0m",
      "\u001b[1;32m<ipython-input-10-fa9277a069cf>\u001b[0m in \u001b[0;36minsert\u001b[1;34m(seq, e)\u001b[0m\n\u001b[0;32m      1\u001b[0m \u001b[1;32mdef\u001b[0m \u001b[0minsert\u001b[0m\u001b[1;33m(\u001b[0m\u001b[0mseq\u001b[0m\u001b[1;33m,\u001b[0m \u001b[0me\u001b[0m\u001b[1;33m)\u001b[0m\u001b[1;33m:\u001b[0m\u001b[1;33m\u001b[0m\u001b[1;33m\u001b[0m\u001b[0m\n\u001b[0;32m      2\u001b[0m     \u001b[1;31m# insert element e into sorted sequence seq in correct order\u001b[0m\u001b[1;33m\u001b[0m\u001b[1;33m\u001b[0m\u001b[1;33m\u001b[0m\u001b[0m\n\u001b[1;32m----> 3\u001b[1;33m     \u001b[1;32mif\u001b[0m \u001b[0me\u001b[0m \u001b[1;33m<=\u001b[0m \u001b[0mseq\u001b[0m\u001b[1;33m[\u001b[0m\u001b[1;36m0\u001b[0m\u001b[1;33m]\u001b[0m\u001b[1;33m:\u001b[0m\u001b[1;33m\u001b[0m\u001b[1;33m\u001b[0m\u001b[0m\n\u001b[0m\u001b[0;32m      4\u001b[0m         \u001b[0mseq\u001b[0m\u001b[1;33m.\u001b[0m\u001b[0minsert\u001b[0m\u001b[1;33m(\u001b[0m\u001b[1;36m0\u001b[0m\u001b[1;33m,\u001b[0m \u001b[0me\u001b[0m\u001b[1;33m)\u001b[0m\u001b[1;33m\u001b[0m\u001b[1;33m\u001b[0m\u001b[0m\n\u001b[0;32m      5\u001b[0m     \u001b[1;32melif\u001b[0m \u001b[0me\u001b[0m \u001b[1;33m>=\u001b[0m \u001b[0mseq\u001b[0m\u001b[1;33m[\u001b[0m\u001b[1;33m-\u001b[0m\u001b[1;36m1\u001b[0m\u001b[1;33m]\u001b[0m\u001b[1;33m:\u001b[0m\u001b[1;33m\u001b[0m\u001b[1;33m\u001b[0m\u001b[0m\n",
      "\u001b[1;31mIndexError\u001b[0m: list index out of range"
     ]
    }
   ],
   "source": [
    "seq = [2,3,1,4,0,10]\n",
    "insertion_sort(seq)\n",
    "print(seq)"
   ]
  },
  {
   "cell_type": "code",
   "execution_count": null,
   "metadata": {},
   "outputs": [],
   "source": [
    "def random_list():\n",
    "    n = random.randint(1, 100)\n",
    "    result = [0] * n\n",
    "    for i in range(n):\n",
    "        result[i] = random.randint(-1000000, 1000000)\n",
    "    return result\n",
    "\n",
    "def test():\n",
    "    for counter in range(50):\n",
    "        seq = random_list()\n",
    "        seq1 = seq\n",
    "        insertion_sort(seq)\n",
    "        assert sorted(seq1) == seq\n",
    "    return True\n",
    "\n",
    "test()"
   ]
  },
  {
   "cell_type": "markdown",
   "metadata": {},
   "source": [
    "### Multidimensional Data Sets"
   ]
  },
  {
   "cell_type": "code",
   "execution_count": null,
   "metadata": {},
   "outputs": [],
   "source": [
    "m = [[0] * 3] * 3 # list of 3 lists referencing the same list\n",
    "m"
   ]
  },
  {
   "cell_type": "code",
   "execution_count": null,
   "metadata": {},
   "outputs": [],
   "source": [
    "m[0][0] = 1\n",
    "m"
   ]
  },
  {
   "cell_type": "code",
   "execution_count": null,
   "metadata": {},
   "outputs": [],
   "source": [
    "n = [[0] * 3 for i in range(3)]\n",
    "n"
   ]
  },
  {
   "cell_type": "code",
   "execution_count": null,
   "metadata": {},
   "outputs": [],
   "source": [
    "n[0][0] = 1\n",
    "n"
   ]
  },
  {
   "cell_type": "markdown",
   "metadata": {},
   "source": [
    "### Exercises\n",
    "\n",
    "**R-5.1** Execute the experiment from Code Fragment 5.1 and compare the results\n",
    "on your system to those we report in Code Fragment 5.2.\n",
    "\n",
    "The increment is 32 bytes, same as in the book. But the empty list takes up 64 bytes, instead of 72 bytes as in the book."
   ]
  },
  {
   "cell_type": "code",
   "execution_count": null,
   "metadata": {},
   "outputs": [],
   "source": [
    "import sys\n",
    "data = []\n",
    "n = 20\n",
    "for k in range(n):\n",
    "    a = len(data)\n",
    "    b = sys.getsizeof(data)\n",
    "    print('Length: {0:3d}; Size in bytes: {1:4d}'.format(a,b))\n",
    "    data.append(None)"
   ]
  },
  {
   "cell_type": "markdown",
   "metadata": {},
   "source": [
    "**R-5.2** In Code Fragment 5.1, we perform an experiment to compare the length of\n",
    "a Python list to its underlying memory usage. Determining the sequence\n",
    "of array sizes requires a manual inspection of the output of that program.\n",
    "Redesign the experiment so that the program outputs only those values of\n",
    "k at which the existing capacity is exhausted. For example, on a system\n",
    "consistent with the results of Code Fragment 5.2, your program should\n",
    "output that the sequence of array capacities are 0, 4, 8, 16, 25, . . . ."
   ]
  },
  {
   "cell_type": "code",
   "execution_count": null,
   "metadata": {},
   "outputs": [],
   "source": [
    "import sys\n",
    "data = []\n",
    "n = 50\n",
    "sizes = []\n",
    "for k in range(n):\n",
    "    a = len(data)\n",
    "    b = sys.getsizeof(data)\n",
    "    sizes.append(b)\n",
    "    if len(sizes) == 1 or sizes[-2] != b:\n",
    "        print('Length: {0:3d}; Size in bytes: {1:4d}'.format(a,b))\n",
    "    data.append(None)"
   ]
  },
  {
   "cell_type": "markdown",
   "metadata": {},
   "source": [
    "**R-5.3** Modify the experiment from Code Fragment 5.1 in order to demonstrate\n",
    "that Python’s list class occasionally shrinks the size of its underlying array\n",
    "when elements are popped from a list."
   ]
  },
  {
   "cell_type": "code",
   "execution_count": null,
   "metadata": {},
   "outputs": [],
   "source": [
    "import sys\n",
    "n = 20\n",
    "data = [None] * n\n",
    "for k in range(n):\n",
    "    a = len(data)\n",
    "    b = sys.getsizeof(data)\n",
    "    print('Length: {0:3d}; Size in bytes: {1:4d}'.format(a,b))\n",
    "    data.pop()"
   ]
  },
  {
   "cell_type": "markdown",
   "metadata": {},
   "source": [
    "**R-5.4** Our DynamicArray class, as given in Code Fragment 5.3, does not support\n",
    "use of negative indices with `__getitem__`. Update that method to better\n",
    "match the semantics of a Python list."
   ]
  },
  {
   "cell_type": "code",
   "execution_count": null,
   "metadata": {},
   "outputs": [],
   "source": [
    "class DynamicArray1(DynamicArray):\n",
    "    \n",
    "    def __getitem__(self, k):\n",
    "        if k >= self._n:\n",
    "            raise IndexError('Invalid index')\n",
    "        elif k < 0 and k > -self._n:\n",
    "            return self._A[self._n+k]\n",
    "        elif k >= 0:\n",
    "            return self._A[k]"
   ]
  },
  {
   "cell_type": "code",
   "execution_count": null,
   "metadata": {},
   "outputs": [],
   "source": [
    "arr = DynamicArray1()\n",
    "arr.append(1)\n",
    "arr.append(2)\n",
    "arr.append(3)\n",
    "print(arr[-2])"
   ]
  },
  {
   "cell_type": "markdown",
   "metadata": {},
   "source": [
    "**R-5.5** Redo the justification of Proposition 5.1 assuming that the the cost of\n",
    "growing the array from size $k$ to size $2k$ is $3k$ cyber-dollars. How much\n",
    "should each append operation be charged to make the amortization work?\n",
    "\n",
    "Assume growing the array from size $k$ to size $2k$ requires $3k$ cyber-dollors. We charge each append operation $7$ cyber-dollors. Thus, we overcharge each append operation that does not overflow by $6$ cyber-dollars. An overflow occurs when the array has $2^i$ elements. Doubling the size of the array requires $3\\cdot 2^i$ cyber-dollars. From the append operation of elements in positions $2^{i-1}$ to $2^i-1$, we have saved $6 \\cdot (2^i-1-2^{i-1})=6\\cdot (2^{i-1}-1)=3\\cdot 2^i-6$ cyber-dollars. Append operation of the $2^i$th element will be charged for another $7$ cyber-dollars, so in total we would have $3\\cdot 2^i + 1$ cyber-dollars, which is enough to pay for the $3\\cdot 2^i$ dollars required to double the array size."
   ]
  },
  {
   "cell_type": "markdown",
   "metadata": {},
   "source": [
    "**R-5.6** Our implementation of insert for the `DynamicArray` class, as given in\n",
    "Code Fragment 5.5, has the following inefficiency. In the case when a resize occurs, the resize operation takes time to copy all the elements from\n",
    "an old array to a new array, and then the subsequent loop in the body of\n",
    "insert shifts many of those elements. Give an improved implementation\n",
    "of the `insert` method, so that, in the case of a resize, the elements are\n",
    "shifted into their final position during that operation, thereby avoiding the\n",
    "subsequent shifting."
   ]
  },
  {
   "cell_type": "code",
   "execution_count": 99,
   "metadata": {},
   "outputs": [],
   "source": [
    "class DynamicArray2(DynamicArray):\n",
    "    def insert(self, k, value):\n",
    "        \"\"\"Insert value at position k.\"\"\"\n",
    "        # assume 0 <= k <= n\n",
    "        if self._n == self._capacity:\n",
    "            print('resizing')\n",
    "            newArr = self._make_array(2 * self._capacity) # make new array\n",
    "            for i in range(self._n+1):\n",
    "                if i < k:\n",
    "                    newArr[i] = self._A[i]\n",
    "                elif i > k:\n",
    "                    newArr[i] = self._A[i-1]\n",
    "            self._A = newArr\n",
    "            self._capacity *= 2\n",
    "        else:\n",
    "            print('no need to resize')\n",
    "            for j in range(self._n, k, -1):\n",
    "                self._A[j] = self._A[j-1] # shift rightward\n",
    "        self._A[k] = value # insert value at position k\n",
    "        self._n += 1 # increment counter\n",
    "    \n",
    "    def print(self):\n",
    "        acc = [None] * self._n\n",
    "        for i in range(self._n):\n",
    "            acc[i] = self._A[i]\n",
    "        print(acc)"
   ]
  },
  {
   "cell_type": "code",
   "execution_count": 100,
   "metadata": {},
   "outputs": [
    {
     "name": "stdout",
     "output_type": "stream",
     "text": [
      "no need to resize\n",
      "[1]\n",
      "resizing\n",
      "[2, 1]\n",
      "resizing\n",
      "[2, 1, 3]\n"
     ]
    }
   ],
   "source": [
    "arr = DynamicArray2()\n",
    "arr.insert(0, 1)\n",
    "arr.print()\n",
    "arr.insert(0, 2)\n",
    "arr.print()\n",
    "arr.insert(2, 3)\n",
    "arr.print()"
   ]
  },
  {
   "cell_type": "markdown",
   "metadata": {},
   "source": [
    "**R-5.7** Let $A$ be an array of size $n \\geq 2$ containing integers from $1$ to $n−1$, inclusive, with exactly one repeated. Describe a fast algorithm for finding the integer in $A$ that is repeated.\n",
    "\n",
    "1. Initialize a length $n$ counter array `arr` filled with $0$s (only $n-1$ slots will be used, but `arr[n]` may be needed in the step below if the repeated element is positioned after the number $n-1$).\n",
    "2. Walk through $A$ and set `arr[i]` to be the number of occurences of number $i$ between $1$ and $n-1$.\n",
    "3. Terminate upon finding `i` with `arr[i] = 2`."
   ]
  },
  {
   "cell_type": "code",
   "execution_count": 110,
   "metadata": {},
   "outputs": [],
   "source": [
    "import array\n",
    "\n",
    "def find_repeat(A):\n",
    "    n = len(A)\n",
    "    arr = array.array('i', [0] * n)\n",
    "    for i in A:\n",
    "        if arr[i] > 0:\n",
    "            return i\n",
    "        else:\n",
    "            arr[i] += 1"
   ]
  },
  {
   "cell_type": "code",
   "execution_count": 112,
   "metadata": {},
   "outputs": [
    {
     "data": {
      "text/plain": [
       "True"
      ]
     },
     "execution_count": 112,
     "metadata": {},
     "output_type": "execute_result"
    }
   ],
   "source": [
    "import random\n",
    "\n",
    "def find_repeat2(A):\n",
    "    d = dict([(k, 0) for k in A])\n",
    "    for i in range(len(A)):\n",
    "        d[A[i]] += 1\n",
    "    for k, v in d.items():\n",
    "        if v > 1:\n",
    "            return k\n",
    "\n",
    "def test():\n",
    "    for counter in range(50):\n",
    "        A = [i for i in range(100)]\n",
    "        x = random.randint(0, 100)\n",
    "        A = A + [x]\n",
    "        random.shuffle(A)\n",
    "        assert find_repeat(A) == find_repeat2(A)\n",
    "    return True\n",
    "\n",
    "test()"
   ]
  },
  {
   "cell_type": "markdown",
   "metadata": {},
   "source": [
    "**R-5.8** Experimentally evaluate the efficiency of the `pop` method of Python’s list\n",
    "class when using varying indices as a parameter, as we did for `insert` on\n",
    "page 205. Report your results akin to Table 5.5."
   ]
  }
 ],
 "metadata": {
  "kernelspec": {
   "display_name": "Python 3",
   "language": "python",
   "name": "python3"
  },
  "language_info": {
   "codemirror_mode": {
    "name": "ipython",
    "version": 3
   },
   "file_extension": ".py",
   "mimetype": "text/x-python",
   "name": "python",
   "nbconvert_exporter": "python",
   "pygments_lexer": "ipython3",
   "version": "3.7.3"
  },
  "toc": {
   "base_numbering": 1,
   "nav_menu": {},
   "number_sections": true,
   "sideBar": true,
   "skip_h1_title": false,
   "title_cell": "Table of Contents",
   "title_sidebar": "Contents",
   "toc_cell": false,
   "toc_position": {
    "height": "calc(100% - 180px)",
    "left": "10px",
    "top": "150px",
    "width": "200.486px"
   },
   "toc_section_display": true,
   "toc_window_display": true
  }
 },
 "nbformat": 4,
 "nbformat_minor": 2
}
