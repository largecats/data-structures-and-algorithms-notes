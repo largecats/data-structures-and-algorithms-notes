{
 "cells": [
  {
   "cell_type": "markdown",
   "metadata": {},
   "source": [
    "Reading notes and partial solutions to [Data Structures and Algorithms in Python](https://blackwells.co.uk/bookshop/product/9781118290279?gC=f177369a3b&gclid=Cj0KCQjwhJrqBRDZARIsALhp1WTBIyoxeQGXedlVy80vsglvFbNkVf7jTP0Z0zXEIP87lfqbtb4_diYaAr8dEALw_wcB)."
   ]
  },
  {
   "cell_type": "code",
   "execution_count": 32,
   "metadata": {},
   "outputs": [],
   "source": [
    "import random\n",
    "from matplotlib import pyplot as plt\n",
    "%matplotlib inline\n",
    "import math\n",
    "from datetime import datetime\n",
    "import time\n",
    "import numpy as np"
   ]
  },
  {
   "cell_type": "markdown",
   "metadata": {},
   "source": [
    "## Array-Based Sequences\n",
    "\n",
    "### Low-Level Arrays\n",
    "\n",
    "Python lists and tuples are referential structures. They store memory addresses of the elements put in them.\n",
    "\n",
    "When elements in a list are re-assigned, the references are re-assigned to new objects, the objects don't change.\n",
    "\n",
    "#### Referential Arrays\n",
    "\n",
    "Referential arrays store references the objects put in them (primary data).\n",
    "\n",
    "#### Compact Arrays\n",
    "\n",
    "Compact arrays directly store primary data.\n",
    "\n",
    "* Compact arrays require less memory because referential arrays need memory to store both\n",
    "    * the references to the objects, and \n",
    "    * the objects themselves (primary data).\n",
    "* Primary data in compact arrays are stored sequentially; primary data refered to by referential arrays may not be stored sequentially in memory, even though references to their memory addresses are sequantial in the referential arrays. Computationally, it's better to have primary data that are often used in the same computations stored sequentially."
   ]
  },
  {
   "cell_type": "code",
   "execution_count": 28,
   "metadata": {},
   "outputs": [
    {
     "data": {
      "text/plain": [
       "68"
      ]
     },
     "execution_count": 28,
     "metadata": {},
     "output_type": "execute_result"
    }
   ],
   "source": [
    "import sys\n",
    "import array # Python compact arrays\n",
    "\n",
    "arr = array.array('i', [1]) # array of type \"signed int\"\n",
    "sys.getsizeof(arr) # number of bytes used to store primary data (not their references) in arr in memory"
   ]
  },
  {
   "cell_type": "markdown",
   "metadata": {},
   "source": [
    "`int` in C requires 2 bytes, but requires 24 bytes in Python, because an integer in Python is an object, i.e., an instance of the `int` class (see https://www.quora.com/Why-does-Python-take-24-bytes-for-int-as-compared-to-2-bytes-in-C)."
   ]
  },
  {
   "cell_type": "code",
   "execution_count": 27,
   "metadata": {},
   "outputs": [
    {
     "data": {
      "text/plain": [
       "28"
      ]
     },
     "execution_count": 27,
     "metadata": {},
     "output_type": "execute_result"
    }
   ],
   "source": [
    "sys.getsizeof(1)"
   ]
  },
  {
   "cell_type": "markdown",
   "metadata": {},
   "source": [
    "### Dynamic Arrays and Amortization\n",
    "\n",
    "When creating a low-level array, its size must be specified and fixed. Immutable objects like `str` and `tuple` are readily compatible with this constraint. Mutable objects like `list` require dynamic array to support its mutability, e.g., ability to extend the list.\n",
    "\n",
    "Dynamic array works by allocating an underlying array with more bytes than needed to a list and expanding the underlying capacity as the list extends."
   ]
  },
  {
   "cell_type": "code",
   "execution_count": 31,
   "metadata": {},
   "outputs": [
    {
     "name": "stdout",
     "output_type": "stream",
     "text": [
      "Length: 0; Size in bytes: 64\n",
      "Length: 1; Size in bytes: 96\n",
      "Length: 2; Size in bytes: 96\n",
      "Length: 3; Size in bytes: 96\n",
      "Length: 4; Size in bytes: 96\n",
      "Length: 5; Size in bytes: 128\n",
      "Length: 6; Size in bytes: 128\n",
      "Length: 7; Size in bytes: 128\n",
      "Length: 8; Size in bytes: 128\n",
      "Length: 9; Size in bytes: 192\n"
     ]
    }
   ],
   "source": [
    "import sys\n",
    "\n",
    "l = []\n",
    "for i in range(10):\n",
    "    size = sys.getsizeof(l)\n",
    "    print('Length: {}; Size in bytes: {}'.format(len(l), size))\n",
    "    l.append(i)"
   ]
  },
  {
   "cell_type": "markdown",
   "metadata": {},
   "source": [
    "Note that each expansion of the underlying array allows the addition of 32 more bytes, or 4 64-bit numbers (each 64-bit number occupies 8 bytes).\n",
    "\n",
    "#### Implementing a Dynamic Array"
   ]
  },
  {
   "cell_type": "code",
   "execution_count": 6,
   "metadata": {},
   "outputs": [],
   "source": [
    "import ctypes\n",
    "\n",
    "class DynamicArray:\n",
    "    \n",
    "    def __init__(self):\n",
    "        \"\"\"Create an empty array.\"\"\"\n",
    "        self._n = 0 # number of actual elements in the array\n",
    "        self._capacity = 1 # capacity of the underlying array\n",
    "        self._A = self._make_array(self._capacity) # the underlying array\n",
    "    \n",
    "    def __len__(self):\n",
    "        return self._n\n",
    "    \n",
    "    def __getitem__(self, k):\n",
    "        if k < 0 or k >= self._n:\n",
    "            raise IndexError('Invalid index')\n",
    "        return self._A[k]\n",
    "    \n",
    "    def append(self, obj):\n",
    "        if self._n == self._capacity: # not enough room\n",
    "            # expand underlying array\n",
    "            self._resize(2 * self._capacity)\n",
    "        self._A[self._n] = obj # add obj to end of array\n",
    "        self._n += 1 # increment the recorder of number of elements in array\n",
    "    \n",
    "    def _resize(self, c):\n",
    "        \"\"\"Expand underlying array to capacity c.\"\"\"\n",
    "        newArr = self._make_array(c) # make new array\n",
    "        for i in range(self._n): # copy elements to new array\n",
    "            newArr[i] = self._A[i]\n",
    "        self._A = newArr\n",
    "        self._capacity = c\n",
    "    \n",
    "    def _make_array(self, c):\n",
    "        \"\"\"Return new array with capacity c.\"\"\"\n",
    "        return (c * ctypes.py_object)()"
   ]
  },
  {
   "cell_type": "code",
   "execution_count": 4,
   "metadata": {
    "scrolled": true
   },
   "outputs": [
    {
     "data": {
      "text/plain": [
       "<__main__.py_object_Array_2 at 0x1b0174be5c8>"
      ]
     },
     "execution_count": 4,
     "metadata": {},
     "output_type": "execute_result"
    }
   ],
   "source": [
    "import ctypes\n",
    "(2 * ctypes.py_object)()"
   ]
  },
  {
   "cell_type": "markdown",
   "metadata": {},
   "source": [
    "Amortized $O(n)$ append operation of Python list based on resizable array."
   ]
  },
  {
   "cell_type": "code",
   "execution_count": 9,
   "metadata": {
    "scrolled": false
   },
   "outputs": [
    {
     "data": {
      "text/plain": [
       "[<matplotlib.lines.Line2D at 0x1b017807da0>]"
      ]
     },
     "execution_count": 9,
     "metadata": {},
     "output_type": "execute_result"
    },
    {
     "data": {
      "image/png": "[encoded data removed]",
      "text/plain": [
       "<Figure size 432x288 with 1 Axes>"
      ]
     },
     "metadata": {
      "needs_background": "light"
     },
     "output_type": "display_data"
    }
   ],
   "source": [
    "def compute_average(n):\n",
    "    data = []\n",
    "    start = time.time()\n",
    "    for k in range(n):\n",
    "        data.append(None)\n",
    "    end = time.time()\n",
    "    return (end - start) / n\n",
    "\n",
    "nList = [10**i for i in range(2, 9)]\n",
    "averageList = list(map(compute_average, nList))\n",
    "plt.plot(nList, averageList)"
   ]
  },
  {
   "cell_type": "markdown",
   "metadata": {},
   "source": [
    "### Using array-based sequences \n",
    "\n",
    "#### Insertion sort"
   ]
  },
  {
   "cell_type": "code",
   "execution_count": 1,
   "metadata": {},
   "outputs": [],
   "source": [
    "def insertion_sort(seq):\n",
    "    for k in range(len(seq)):\n",
    "        curr = seq[k]\n",
    "        j = k\n",
    "        while j > 0 and seq[j-1] > curr:\n",
    "            seq[j] = seq[j-1]\n",
    "            j -= 1\n",
    "        seq[j] = curr"
   ]
  },
  {
   "cell_type": "code",
   "execution_count": 3,
   "metadata": {},
   "outputs": [
    {
     "name": "stdout",
     "output_type": "stream",
     "text": [
      "[0, 1, 2, 3, 4, 10]\n"
     ]
    }
   ],
   "source": [
    "seq = [2,3,1,4,0,10]\n",
    "insertion_sort(seq)\n",
    "print(seq)"
   ]
  },
  {
   "cell_type": "code",
   "execution_count": 27,
   "metadata": {},
   "outputs": [],
   "source": [
    "def insert(seq, e):\n",
    "    # insert element e into sorted sequence seq in correct order\n",
    "    if e <= seq[0]:\n",
    "        seq.insert(0, e)\n",
    "    elif e >= seq[-1]:\n",
    "        seq.append(e)\n",
    "    else:\n",
    "        for i in range(len(seq)-1):\n",
    "            if e >= seq[i] and e <= seq[i+1]:\n",
    "                seq.insert(i+1, e)\n",
    "                break\n",
    "\n",
    "def insertion_sort(seq):\n",
    "    if len(seq) <= 1:\n",
    "        return seq\n",
    "    else:\n",
    "        for i in range(len(seq)):\n",
    "            insert(seq[:i], seq[i])"
   ]
  },
  {
   "cell_type": "code",
   "execution_count": 29,
   "metadata": {},
   "outputs": [
    {
     "name": "stdout",
     "output_type": "stream",
     "text": [
      "[1, 3, 4, 5, 6]\n"
     ]
    }
   ],
   "source": [
    "seq = [1,3,4,6]\n",
    "insert(seq, 5)\n",
    "print(seq)"
   ]
  },
  {
   "cell_type": "code",
   "execution_count": 30,
   "metadata": {},
   "outputs": [
    {
     "name": "stdout",
     "output_type": "stream",
     "text": [
      "[0, 1, 2, 3, 4, 10]\n"
     ]
    }
   ],
   "source": [
    "seq = [2,3,1,4,0,10]\n",
    "insertion_sort(seq)\n",
    "print(seq)"
   ]
  },
  {
   "cell_type": "code",
   "execution_count": 34,
   "metadata": {},
   "outputs": [
    {
     "data": {
      "text/plain": [
       "True"
      ]
     },
     "execution_count": 34,
     "metadata": {},
     "output_type": "execute_result"
    }
   ],
   "source": [
    "def random_list():\n",
    "    n = random.randint(1, 100)\n",
    "    result = [0] * n\n",
    "    for i in range(n):\n",
    "        result[i] = random.randint(-1000000, 1000000)\n",
    "    return result\n",
    "\n",
    "def test():\n",
    "    for counter in range(50):\n",
    "        seq = random_list()\n",
    "        seq1 = seq\n",
    "        insertion_sort(seq)\n",
    "        assert sorted(seq1) == seq\n",
    "    return True\n",
    "\n",
    "test()"
   ]
  },
  {
   "cell_type": "markdown",
   "metadata": {},
   "source": [
    "## Multidimensional Data Sets"
   ]
  },
  {
   "cell_type": "code",
   "execution_count": 36,
   "metadata": {},
   "outputs": [
    {
     "data": {
      "text/plain": [
       "[[0, 0, 0], [0, 0, 0], [0, 0, 0]]"
      ]
     },
     "execution_count": 36,
     "metadata": {},
     "output_type": "execute_result"
    }
   ],
   "source": [
    "m = [[0] * 3] * 3 # list of 3 lists referencing the same list\n",
    "m"
   ]
  },
  {
   "cell_type": "code",
   "execution_count": 37,
   "metadata": {},
   "outputs": [
    {
     "data": {
      "text/plain": [
       "[[1, 0, 0], [1, 0, 0], [1, 0, 0]]"
      ]
     },
     "execution_count": 37,
     "metadata": {},
     "output_type": "execute_result"
    }
   ],
   "source": [
    "m[0][0] = 1\n",
    "m"
   ]
  },
  {
   "cell_type": "code",
   "execution_count": 38,
   "metadata": {},
   "outputs": [
    {
     "data": {
      "text/plain": [
       "[[0, 0, 0], [0, 0, 0], [0, 0, 0]]"
      ]
     },
     "execution_count": 38,
     "metadata": {},
     "output_type": "execute_result"
    }
   ],
   "source": [
    "n = [[0] * 3 for i in range(3)]\n",
    "n"
   ]
  },
  {
   "cell_type": "code",
   "execution_count": 39,
   "metadata": {},
   "outputs": [
    {
     "data": {
      "text/plain": [
       "[[1, 0, 0], [0, 0, 0], [0, 0, 0]]"
      ]
     },
     "execution_count": 39,
     "metadata": {},
     "output_type": "execute_result"
    }
   ],
   "source": [
    "n[0][0] = 1\n",
    "n"
   ]
  }
 ],
 "metadata": {
  "kernelspec": {
   "display_name": "Python 3",
   "language": "python",
   "name": "python3"
  },
  "language_info": {
   "codemirror_mode": {
    "name": "ipython",
    "version": 3
   },
   "file_extension": ".py",
   "mimetype": "text/x-python",
   "name": "python",
   "nbconvert_exporter": "python",
   "pygments_lexer": "ipython3",
   "version": "3.7.3"
  },
  "toc": {
   "base_numbering": 1,
   "nav_menu": {},
   "number_sections": true,
   "sideBar": true,
   "skip_h1_title": false,
   "title_cell": "Table of Contents",
   "title_sidebar": "Contents",
   "toc_cell": false,
   "toc_position": {
    "height": "calc(100% - 180px)",
    "left": "10px",
    "top": "150px",
    "width": "200.486px"
   },
   "toc_section_display": true,
   "toc_window_display": true
  }
 },
 "nbformat": 4,
 "nbformat_minor": 2
}
