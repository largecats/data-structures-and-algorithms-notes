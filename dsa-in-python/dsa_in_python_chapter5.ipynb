{
 "cells": [
  {
   "cell_type": "markdown",
   "metadata": {},
   "source": [
    "Reading notes and partial solutions to [Data Structures and Algorithms in Python](https://blackwells.co.uk/bookshop/product/9781118290279?gC=f177369a3b&gclid=Cj0KCQjwhJrqBRDZARIsALhp1WTBIyoxeQGXedlVy80vsglvFbNkVf7jTP0Z0zXEIP87lfqbtb4_diYaAr8dEALw_wcB)."
   ]
  },
  {
   "cell_type": "code",
   "execution_count": 8,
   "metadata": {},
   "outputs": [],
   "source": [
    "import random\n",
    "from matplotlib import pyplot as plt\n",
    "%matplotlib inline\n",
    "import math\n",
    "from datetime import datetime\n",
    "import time\n",
    "import numpy as np"
   ]
  },
  {
   "cell_type": "markdown",
   "metadata": {},
   "source": [
    "## Array-Based Sequences\n",
    "\n",
    "### Low-Level Arrays\n",
    "\n",
    "Python lists and tuples are referential structures. They store memory addresses of the elements put in them.\n",
    "\n",
    "When elements in a list are re-assigned, the references are re-assigned to new objects, the objects don't change.\n",
    "\n",
    "#### Referential Arrays\n",
    "\n",
    "Referential arrays store references the objects put in them (primary data).\n",
    "\n",
    "#### Compact Arrays\n",
    "\n",
    "Compact arrays directly store primary data.\n",
    "\n",
    "* Compact arrays require less memory because referential arrays need memory to store both\n",
    "    * the references to the objects, and \n",
    "    * the objects themselves (primary data).\n",
    "* Primary data in compact arrays are stored sequentially; primary data refered to by referential arrays may not be stored sequentially in memory, even though references to their memory addresses are sequantial in the referential arrays. Computationally, it's better to have primary data that are often used in the same computations stored sequentially."
   ]
  },
  {
   "cell_type": "code",
   "execution_count": 3,
   "metadata": {},
   "outputs": [
    {
     "data": {
      "text/plain": [
       "68"
      ]
     },
     "execution_count": 3,
     "metadata": {},
     "output_type": "execute_result"
    }
   ],
   "source": [
    "import sys\n",
    "import array # Python compact arrays\n",
    "\n",
    "arr = array.array('i', [1]) # array of type \"signed int\"\n",
    "sys.getsizeof(arr) # number of bytes used to store primary data (not their references) in arr in memory"
   ]
  },
  {
   "cell_type": "markdown",
   "metadata": {},
   "source": [
    "`int` in C requires 2 bytes, but requires 24 bytes in Python, because an integer in Python is an object, i.e., an instance of the `int` class (see https://www.quora.com/Why-does-Python-take-24-bytes-for-int-as-compared-to-2-bytes-in-C)."
   ]
  },
  {
   "cell_type": "code",
   "execution_count": 4,
   "metadata": {},
   "outputs": [
    {
     "data": {
      "text/plain": [
       "28"
      ]
     },
     "execution_count": 4,
     "metadata": {},
     "output_type": "execute_result"
    }
   ],
   "source": [
    "sys.getsizeof(1)"
   ]
  },
  {
   "cell_type": "markdown",
   "metadata": {},
   "source": [
    "### Dynamic Arrays and Amortization\n",
    "\n",
    "When creating a low-level array, its size must be specified and fixed. Immutable objects like `str` and `tuple` are readily compatible with this constraint. Mutable objects like `list` require dynamic array to support its mutability, e.g., ability to extend the list.\n",
    "\n",
    "Dynamic array works by allocating an underlying array with more bytes than needed to a list and expanding the underlying capacity as the list extends."
   ]
  },
  {
   "cell_type": "code",
   "execution_count": 5,
   "metadata": {},
   "outputs": [
    {
     "name": "stdout",
     "output_type": "stream",
     "text": [
      "Length: 0; Size in bytes: 64\n",
      "Length: 1; Size in bytes: 96\n",
      "Length: 2; Size in bytes: 96\n",
      "Length: 3; Size in bytes: 96\n",
      "Length: 4; Size in bytes: 96\n",
      "Length: 5; Size in bytes: 128\n",
      "Length: 6; Size in bytes: 128\n",
      "Length: 7; Size in bytes: 128\n",
      "Length: 8; Size in bytes: 128\n",
      "Length: 9; Size in bytes: 192\n"
     ]
    }
   ],
   "source": [
    "import sys\n",
    "\n",
    "l = []\n",
    "for i in range(10):\n",
    "    size = sys.getsizeof(l)\n",
    "    print('Length: {}; Size in bytes: {}'.format(len(l), size))\n",
    "    l.append(i)"
   ]
  },
  {
   "cell_type": "markdown",
   "metadata": {},
   "source": [
    "Note that each expansion of the underlying array allows the addition of 32 more bytes, or 4 64-bit numbers (each 64-bit number occupies 8 bytes).\n",
    "\n",
    "#### Implementing a Dynamic Array"
   ]
  },
  {
   "cell_type": "code",
   "execution_count": 40,
   "metadata": {},
   "outputs": [],
   "source": [
    "import ctypes\n",
    "\n",
    "class DynamicArray:\n",
    "    \n",
    "    def __init__(self):\n",
    "        \"\"\"Create an empty array.\"\"\"\n",
    "        self._n = 0 # number of actual elements in the array\n",
    "        self._capacity = 1 # capacity of the underlying array\n",
    "        self._A = self._make_array(self._capacity) # the underlying array\n",
    "    \n",
    "    def __len__(self):\n",
    "        return self._n\n",
    "    \n",
    "    def __getitem__(self, k):\n",
    "        if k < 0 or k >= self._n:\n",
    "            raise IndexError('Invalid index')\n",
    "        return self._A[k]\n",
    "    \n",
    "    def append(self, obj):\n",
    "        if self._n == self._capacity: # not enough room\n",
    "            # expand underlying array\n",
    "            self._resize(2 * self._capacity)\n",
    "        self._A[self._n] = obj # add obj to end of array\n",
    "        self._n += 1 # increment the recorder of number of elements in array\n",
    "    \n",
    "    def _resize(self, c):\n",
    "        \"\"\"Expand underlying array to capacity c.\"\"\"\n",
    "        newArr = self._make_array(c) # make new array\n",
    "        for i in range(self._n): # copy elements to new array\n",
    "            newArr[i] = self._A[i]\n",
    "        self._A = newArr\n",
    "        self._capacity = c\n",
    "    \n",
    "    def _make_array(self, c):\n",
    "        \"\"\"Return new array with capacity c.\"\"\"\n",
    "        return (c * ctypes.py_object)()\n",
    "    \n",
    "    def insert(self, k, value):\n",
    "        \"\"\"Insert value at index k, shifting subsequent values rightward.\"\"\"\n",
    "        # assume 0 <= k <= n for simplicity\n",
    "        if self._n == self._capacity:\n",
    "            self._resize(2 * self._capacity)\n",
    "        for j in range(self._n, k, -1):\n",
    "            self._A[j] = self._A[j-1] # shift rightward\n",
    "        self._A[k] = value # insert value at position k\n",
    "        self._n += 1 # increment counter"
   ]
  },
  {
   "cell_type": "code",
   "execution_count": 7,
   "metadata": {
    "scrolled": true
   },
   "outputs": [
    {
     "data": {
      "text/plain": [
       "<__main__.py_object_Array_2 at 0x1e9de2384c8>"
      ]
     },
     "execution_count": 7,
     "metadata": {},
     "output_type": "execute_result"
    }
   ],
   "source": [
    "import ctypes\n",
    "(2 * ctypes.py_object)()"
   ]
  },
  {
   "cell_type": "markdown",
   "metadata": {},
   "source": [
    "Amortized $O(n)$ append operation of Python list based on resizable array."
   ]
  },
  {
   "cell_type": "code",
   "execution_count": 8,
   "metadata": {
    "scrolled": false
   },
   "outputs": [
    {
     "data": {
      "text/plain": [
       "[<matplotlib.lines.Line2D at 0x1e9802707b8>]"
      ]
     },
     "execution_count": 8,
     "metadata": {},
     "output_type": "execute_result"
    },
    {
     "data": {
      "image/png": "[encoded data removed]",
      "text/plain": [
       "<Figure size 432x288 with 1 Axes>"
      ]
     },
     "metadata": {
      "needs_background": "light"
     },
     "output_type": "display_data"
    }
   ],
   "source": [
    "def compute_average(n):\n",
    "    data = []\n",
    "    start = time.time()\n",
    "    for k in range(n):\n",
    "        data.append(None)\n",
    "    end = time.time()\n",
    "    return (end - start) / n\n",
    "\n",
    "nList = [10**i for i in range(2, 9)]\n",
    "averageList = list(map(compute_average, nList))\n",
    "plt.plot(nList, averageList)"
   ]
  },
  {
   "cell_type": "markdown",
   "metadata": {},
   "source": [
    "### Using array-based sequences \n",
    "\n",
    "#### Insertion sort"
   ]
  },
  {
   "cell_type": "code",
   "execution_count": 9,
   "metadata": {},
   "outputs": [],
   "source": [
    "def insertion_sort(seq):\n",
    "    for k in range(len(seq)):\n",
    "        curr = seq[k]\n",
    "        j = k\n",
    "        while j > 0 and seq[j-1] > curr:\n",
    "            seq[j] = seq[j-1]\n",
    "            j -= 1\n",
    "        seq[j] = curr"
   ]
  },
  {
   "cell_type": "code",
   "execution_count": 10,
   "metadata": {},
   "outputs": [
    {
     "name": "stdout",
     "output_type": "stream",
     "text": [
      "[0, 1, 2, 3, 4, 10]\n"
     ]
    }
   ],
   "source": [
    "seq = [2,3,1,4,0,10]\n",
    "insertion_sort(seq)\n",
    "print(seq)"
   ]
  },
  {
   "cell_type": "code",
   "execution_count": 11,
   "metadata": {},
   "outputs": [],
   "source": [
    "def insert(seq, e):\n",
    "    # insert element e into sorted sequence seq in correct order\n",
    "    if e <= seq[0]:\n",
    "        seq.insert(0, e)\n",
    "    elif e >= seq[-1]:\n",
    "        seq.append(e)\n",
    "    else:\n",
    "        for i in range(len(seq)-1):\n",
    "            if e >= seq[i] and e <= seq[i+1]:\n",
    "                seq.insert(i+1, e)\n",
    "                break\n",
    "    return seq\n",
    "\n",
    "def insertion_sort(seq):\n",
    "    if len(seq) <= 1:\n",
    "        pass\n",
    "    else:\n",
    "        for i in range(1,len(seq)):\n",
    "            seq[:(i+1)] = insert(seq[:i], seq[i])"
   ]
  },
  {
   "cell_type": "code",
   "execution_count": 12,
   "metadata": {},
   "outputs": [
    {
     "data": {
      "text/plain": [
       "[1, 2, 3]"
      ]
     },
     "execution_count": 12,
     "metadata": {},
     "output_type": "execute_result"
    }
   ],
   "source": [
    "seq = [2,3]\n",
    "insert(seq, 1)"
   ]
  },
  {
   "cell_type": "code",
   "execution_count": 13,
   "metadata": {
    "scrolled": true
   },
   "outputs": [
    {
     "name": "stdout",
     "output_type": "stream",
     "text": [
      "[-1, 0, 1, 2, 4, 6]\n"
     ]
    }
   ],
   "source": [
    "seq = [1, 0, 2, 4, -1, 6]\n",
    "insertion_sort(seq)\n",
    "print(seq)"
   ]
  },
  {
   "cell_type": "code",
   "execution_count": 14,
   "metadata": {},
   "outputs": [
    {
     "data": {
      "text/plain": [
       "True"
      ]
     },
     "execution_count": 14,
     "metadata": {},
     "output_type": "execute_result"
    }
   ],
   "source": [
    "def random_list():\n",
    "    n = random.randint(1, 100)\n",
    "    result = [0] * n\n",
    "    for i in range(n):\n",
    "        result[i] = random.randint(-1000000, 1000000)\n",
    "    return result\n",
    "\n",
    "def test():\n",
    "    for counter in range(50):\n",
    "        seq = random_list()\n",
    "        seq1 = seq\n",
    "        insertion_sort(seq)\n",
    "        assert sorted(seq1) == seq\n",
    "    return True\n",
    "\n",
    "test()"
   ]
  },
  {
   "cell_type": "markdown",
   "metadata": {},
   "source": [
    "### Multidimensional Data Sets"
   ]
  },
  {
   "cell_type": "code",
   "execution_count": 15,
   "metadata": {},
   "outputs": [
    {
     "data": {
      "text/plain": [
       "[[0, 0, 0], [0, 0, 0], [0, 0, 0]]"
      ]
     },
     "execution_count": 15,
     "metadata": {},
     "output_type": "execute_result"
    }
   ],
   "source": [
    "m = [[0] * 3] * 3 # list of 3 lists referencing the same list\n",
    "m"
   ]
  },
  {
   "cell_type": "code",
   "execution_count": 16,
   "metadata": {},
   "outputs": [
    {
     "data": {
      "text/plain": [
       "[[1, 0, 0], [1, 0, 0], [1, 0, 0]]"
      ]
     },
     "execution_count": 16,
     "metadata": {},
     "output_type": "execute_result"
    }
   ],
   "source": [
    "m[0][0] = 1\n",
    "m"
   ]
  },
  {
   "cell_type": "code",
   "execution_count": 17,
   "metadata": {},
   "outputs": [
    {
     "data": {
      "text/plain": [
       "[[0, 0, 0], [0, 0, 0], [0, 0, 0]]"
      ]
     },
     "execution_count": 17,
     "metadata": {},
     "output_type": "execute_result"
    }
   ],
   "source": [
    "n = [[0] * 3 for i in range(3)]\n",
    "n"
   ]
  },
  {
   "cell_type": "code",
   "execution_count": 18,
   "metadata": {},
   "outputs": [
    {
     "data": {
      "text/plain": [
       "[[1, 0, 0], [0, 0, 0], [0, 0, 0]]"
      ]
     },
     "execution_count": 18,
     "metadata": {},
     "output_type": "execute_result"
    }
   ],
   "source": [
    "n[0][0] = 1\n",
    "n"
   ]
  },
  {
   "cell_type": "markdown",
   "metadata": {},
   "source": [
    "### Exercises\n",
    "\n",
    "#### Reinforcement\n",
    "\n",
    "**R-5.1** Execute the experiment from Code Fragment 5.1 and compare the results\n",
    "on your system to those we report in Code Fragment 5.2.\n",
    "\n",
    "The increment is 32 bytes, same as in the book. But the empty list takes up 64 bytes, instead of 72 bytes as in the book."
   ]
  },
  {
   "cell_type": "code",
   "execution_count": 19,
   "metadata": {},
   "outputs": [
    {
     "name": "stdout",
     "output_type": "stream",
     "text": [
      "Length:   0; Size in bytes:   64\n",
      "Length:   1; Size in bytes:   96\n",
      "Length:   2; Size in bytes:   96\n",
      "Length:   3; Size in bytes:   96\n",
      "Length:   4; Size in bytes:   96\n",
      "Length:   5; Size in bytes:  128\n",
      "Length:   6; Size in bytes:  128\n",
      "Length:   7; Size in bytes:  128\n",
      "Length:   8; Size in bytes:  128\n",
      "Length:   9; Size in bytes:  192\n",
      "Length:  10; Size in bytes:  192\n",
      "Length:  11; Size in bytes:  192\n",
      "Length:  12; Size in bytes:  192\n",
      "Length:  13; Size in bytes:  192\n",
      "Length:  14; Size in bytes:  192\n",
      "Length:  15; Size in bytes:  192\n",
      "Length:  16; Size in bytes:  192\n",
      "Length:  17; Size in bytes:  264\n",
      "Length:  18; Size in bytes:  264\n",
      "Length:  19; Size in bytes:  264\n"
     ]
    }
   ],
   "source": [
    "import sys\n",
    "data = []\n",
    "n = 20\n",
    "for k in range(n):\n",
    "    a = len(data)\n",
    "    b = sys.getsizeof(data)\n",
    "    print('Length: {0:3d}; Size in bytes: {1:4d}'.format(a,b))\n",
    "    data.append(None)"
   ]
  },
  {
   "cell_type": "markdown",
   "metadata": {},
   "source": [
    "**R-5.2** In Code Fragment 5.1, we perform an experiment to compare the length of\n",
    "a Python list to its underlying memory usage. Determining the sequence\n",
    "of array sizes requires a manual inspection of the output of that program.\n",
    "Redesign the experiment so that the program outputs only those values of\n",
    "k at which the existing capacity is exhausted. For example, on a system\n",
    "consistent with the results of Code Fragment 5.2, your program should\n",
    "output that the sequence of array capacities are 0, 4, 8, 16, 25, . . . ."
   ]
  },
  {
   "cell_type": "code",
   "execution_count": 20,
   "metadata": {},
   "outputs": [
    {
     "name": "stdout",
     "output_type": "stream",
     "text": [
      "Length:   0; Size in bytes:   64\n",
      "Length:   1; Size in bytes:   96\n",
      "Length:   5; Size in bytes:  128\n",
      "Length:   9; Size in bytes:  192\n",
      "Length:  17; Size in bytes:  264\n",
      "Length:  26; Size in bytes:  344\n",
      "Length:  36; Size in bytes:  432\n",
      "Length:  47; Size in bytes:  528\n"
     ]
    }
   ],
   "source": [
    "import sys\n",
    "data = []\n",
    "n = 50\n",
    "sizes = []\n",
    "for k in range(n):\n",
    "    a = len(data)\n",
    "    b = sys.getsizeof(data)\n",
    "    sizes.append(b)\n",
    "    if len(sizes) == 1 or sizes[-2] != b:\n",
    "        print('Length: {0:3d}; Size in bytes: {1:4d}'.format(a,b))\n",
    "    data.append(None)"
   ]
  },
  {
   "cell_type": "markdown",
   "metadata": {},
   "source": [
    "**R-5.3** Modify the experiment from Code Fragment 5.1 in order to demonstrate\n",
    "that Python’s list class occasionally shrinks the size of its underlying array\n",
    "when elements are popped from a list."
   ]
  },
  {
   "cell_type": "code",
   "execution_count": 21,
   "metadata": {},
   "outputs": [
    {
     "name": "stdout",
     "output_type": "stream",
     "text": [
      "Length:  20; Size in bytes:  224\n",
      "Length:  19; Size in bytes:  224\n",
      "Length:  18; Size in bytes:  224\n",
      "Length:  17; Size in bytes:  224\n",
      "Length:  16; Size in bytes:  224\n",
      "Length:  15; Size in bytes:  224\n",
      "Length:  14; Size in bytes:  224\n",
      "Length:  13; Size in bytes:  224\n",
      "Length:  12; Size in bytes:  224\n",
      "Length:  11; Size in bytes:  224\n",
      "Length:  10; Size in bytes:  224\n",
      "Length:   9; Size in bytes:  192\n",
      "Length:   8; Size in bytes:  192\n",
      "Length:   7; Size in bytes:  144\n",
      "Length:   6; Size in bytes:  144\n",
      "Length:   5; Size in bytes:  144\n",
      "Length:   4; Size in bytes:  120\n",
      "Length:   3; Size in bytes:  120\n",
      "Length:   2; Size in bytes:  104\n",
      "Length:   1; Size in bytes:   96\n"
     ]
    }
   ],
   "source": [
    "import sys\n",
    "n = 20\n",
    "data = [None] * n\n",
    "for k in range(n):\n",
    "    a = len(data)\n",
    "    b = sys.getsizeof(data)\n",
    "    print('Length: {0:3d}; Size in bytes: {1:4d}'.format(a,b))\n",
    "    data.pop()"
   ]
  },
  {
   "cell_type": "markdown",
   "metadata": {},
   "source": [
    "**R-5.4** Our DynamicArray class, as given in Code Fragment 5.3, does not support\n",
    "use of negative indices with `__getitem__`. Update that method to better\n",
    "match the semantics of a Python list."
   ]
  },
  {
   "cell_type": "code",
   "execution_count": 22,
   "metadata": {},
   "outputs": [],
   "source": [
    "class DynamicArray1(DynamicArray):\n",
    "    \n",
    "    def __getitem__(self, k):\n",
    "        if k >= self._n:\n",
    "            raise IndexError('Invalid index')\n",
    "        elif k < 0 and k > -self._n:\n",
    "            return self._A[self._n+k]\n",
    "        elif k >= 0:\n",
    "            return self._A[k]"
   ]
  },
  {
   "cell_type": "code",
   "execution_count": 23,
   "metadata": {},
   "outputs": [
    {
     "name": "stdout",
     "output_type": "stream",
     "text": [
      "2\n"
     ]
    }
   ],
   "source": [
    "arr = DynamicArray1()\n",
    "arr.append(1)\n",
    "arr.append(2)\n",
    "arr.append(3)\n",
    "print(arr[-2])"
   ]
  },
  {
   "cell_type": "markdown",
   "metadata": {},
   "source": [
    "**R-5.5** Redo the justification of Proposition 5.1 assuming that the the cost of\n",
    "growing the array from size $k$ to size $2k$ is $3k$ cyber-dollars. How much\n",
    "should each append operation be charged to make the amortization work?\n",
    "\n",
    "Assume growing the array from size $k$ to size $2k$ requires $3k$ cyber-dollors. We charge each append operation $7$ cyber-dollors. Thus, we overcharge each append operation that does not overflow by $6$ cyber-dollars. An overflow occurs when the array has $2^i$ elements. Doubling the size of the array requires $3\\cdot 2^i$ cyber-dollars. From the append operation of elements in positions $2^{i-1}$ to $2^i-1$, we have saved $6 \\cdot (2^i-1-2^{i-1})=6\\cdot (2^{i-1}-1)=3\\cdot 2^i-6$ cyber-dollars. Append operation of the $2^i$th element will be charged for another $7$ cyber-dollars, so in total we would have $3\\cdot 2^i + 1$ cyber-dollars, which is enough to pay for the $3\\cdot 2^i$ dollars required to double the array size.\n",
    "\n",
    "Thus, we can pay for $n$ append operations with $7n$ cyber dollars. So the amortized running time of each append is $O(1)$, and the total run time of $n$ append operations is $O(n)$."
   ]
  },
  {
   "cell_type": "markdown",
   "metadata": {},
   "source": [
    "**R-5.6** Our implementation of insert for the `DynamicArray` class, as given in\n",
    "Code Fragment 5.5, has the following inefficiency. In the case when a resize occurs, the resize operation takes time to copy all the elements from\n",
    "an old array to a new array, and then the subsequent loop in the body of\n",
    "insert shifts many of those elements. Give an improved implementation\n",
    "of the `insert` method, so that, in the case of a resize, the elements are\n",
    "shifted into their final position during that operation, thereby avoiding the\n",
    "subsequent shifting."
   ]
  },
  {
   "cell_type": "code",
   "execution_count": 53,
   "metadata": {},
   "outputs": [],
   "source": [
    "class DynamicArray2(DynamicArray):\n",
    "    def insert(self, k, value):\n",
    "        \"\"\"Insert value at position k.\"\"\"\n",
    "        # assume 0 <= k <= n\n",
    "        if self._n == self._capacity:\n",
    "#             print('resizing')\n",
    "            newArr = self._make_array(2 * self._capacity) # make new array\n",
    "            for i in range(self._n+1):\n",
    "                if i < k:\n",
    "                    newArr[i] = self._A[i]\n",
    "                elif i > k:\n",
    "                    newArr[i] = self._A[i-1]\n",
    "            self._A = newArr\n",
    "            self._capacity *= 2\n",
    "        else:\n",
    "#             print('no need to resize')\n",
    "            for j in range(self._n, k, -1):\n",
    "                self._A[j] = self._A[j-1] # shift rightward\n",
    "        self._A[k] = value # insert value at position k\n",
    "        self._n += 1 # increment counter\n",
    "    \n",
    "    def print(self):\n",
    "        if self._n == 0:\n",
    "            print([])\n",
    "        else:\n",
    "            acc = [None] * self._n\n",
    "            for i in range(self._n):\n",
    "                acc[i] = self._A[i]\n",
    "            print(acc)"
   ]
  },
  {
   "cell_type": "code",
   "execution_count": 54,
   "metadata": {},
   "outputs": [
    {
     "name": "stdout",
     "output_type": "stream",
     "text": [
      "[]\n",
      "[1]\n",
      "[2, 1]\n",
      "[2, 1, 3]\n"
     ]
    }
   ],
   "source": [
    "arr = DynamicArray2()\n",
    "arr.print()\n",
    "arr.insert(0, 1)\n",
    "arr.print()\n",
    "arr.insert(0, 2)\n",
    "arr.print()\n",
    "arr.insert(2, 3)\n",
    "arr.print()"
   ]
  },
  {
   "cell_type": "markdown",
   "metadata": {},
   "source": [
    "**R-5.7** Let $A$ be an array of size $n \\geq 2$ containing integers from $1$ to $n−1$, inclusive, with exactly one repeated. Describe a fast algorithm for finding the integer in $A$ that is repeated.\n",
    "\n",
    "1. Initialize a length $n$ counter array `arr` filled with $0$s (only $n-1$ slots will be used, but `arr[n]` may be needed in the step below if the repeated element is positioned after the number $n-1$).\n",
    "2. Walk through $A$ and set `arr[i]` to be the number of occurences of number $i$ between $1$ and $n-1$.\n",
    "3. Terminate upon finding `i` with `arr[i] = 2`."
   ]
  },
  {
   "cell_type": "code",
   "execution_count": 26,
   "metadata": {},
   "outputs": [],
   "source": [
    "import array\n",
    "\n",
    "def find_repeat(A):\n",
    "    n = len(A)\n",
    "    arr = array.array('i', [0] * n)\n",
    "    for i in A:\n",
    "        if arr[i] > 0:\n",
    "            return i\n",
    "        else:\n",
    "            arr[i] += 1"
   ]
  },
  {
   "cell_type": "code",
   "execution_count": 27,
   "metadata": {},
   "outputs": [
    {
     "data": {
      "text/plain": [
       "True"
      ]
     },
     "execution_count": 27,
     "metadata": {},
     "output_type": "execute_result"
    }
   ],
   "source": [
    "import random\n",
    "\n",
    "def find_repeat2(A):\n",
    "    d = dict([(k, 0) for k in A])\n",
    "    for i in range(len(A)):\n",
    "        d[A[i]] += 1\n",
    "    for k, v in d.items():\n",
    "        if v > 1:\n",
    "            return k\n",
    "\n",
    "def test():\n",
    "    for counter in range(50):\n",
    "        A = [i for i in range(100)]\n",
    "        x = random.randint(0, 100)\n",
    "        A = A + [x]\n",
    "        random.shuffle(A)\n",
    "        assert find_repeat(A) == find_repeat2(A)\n",
    "    return True\n",
    "\n",
    "test()"
   ]
  },
  {
   "cell_type": "markdown",
   "metadata": {},
   "source": [
    "**R-5.8** Experimentally evaluate the efficiency of the `pop` method of Python’s list\n",
    "class when using varying indices as a parameter, as we did for `insert` on\n",
    "page 205. Report your results akin to Table 5.5."
   ]
  },
  {
   "cell_type": "code",
   "execution_count": 28,
   "metadata": {},
   "outputs": [
    {
     "name": "stdout",
     "output_type": "stream",
     "text": [
      "Popping from start of list\n",
      "N=100\n",
      "time taken: 0.0ms\n",
      "N=1000\n",
      "time taken: 0.0ms\n",
      "N=10000\n",
      "time taken: 1.1905908584594727ms\n",
      "N=100000\n",
      "time taken: 24.34896469116211ms\n",
      "N=1000000\n",
      "time taken: 273.9585545063019ms\n"
     ]
    }
   ],
   "source": [
    "import time\n",
    "\n",
    "print('Popping from start of list')\n",
    "for N in [10**i for i in range(2,7)]:\n",
    "    print('N={N}'.format(N=N))\n",
    "    data = [None] * N\n",
    "    start = time.time()\n",
    "    for n in range(N):\n",
    "        data.pop(0)\n",
    "    end = time.time()\n",
    "    elapsed = (end - start)/N * 10**6\n",
    "    print('time taken: {elapsed}ms'.format(elapsed=elapsed))"
   ]
  },
  {
   "cell_type": "code",
   "execution_count": 29,
   "metadata": {},
   "outputs": [
    {
     "name": "stdout",
     "output_type": "stream",
     "text": [
      "Popping from middle of list\n",
      "N=100\n",
      "time taken: 0.0ms\n",
      "N=1000\n",
      "time taken: 0.0ms\n",
      "N=10000\n",
      "time taken: 1.1460304260253906ms\n",
      "N=100000\n",
      "time taken: 12.637536525726318ms\n",
      "N=1000000\n",
      "time taken: 124.16535568237305ms\n"
     ]
    }
   ],
   "source": [
    "print('Popping from middle of list')\n",
    "for N in [10**i for i in range(2,7)]:\n",
    "    print('N={N}'.format(N=N))\n",
    "    data = [None] * N\n",
    "    start = time.time()\n",
    "    for n in range(N, 0, -1):\n",
    "        data.pop(n//2)\n",
    "    end = time.time()\n",
    "    elapsed = (end - start)/N * 10**6\n",
    "    print('time taken: {elapsed}ms'.format(elapsed=elapsed))"
   ]
  },
  {
   "cell_type": "code",
   "execution_count": 30,
   "metadata": {},
   "outputs": [
    {
     "name": "stdout",
     "output_type": "stream",
     "text": [
      "Popping from end of list\n",
      "N=100\n",
      "time taken: 0.0ms\n",
      "N=1000\n",
      "time taken: 0.0ms\n",
      "N=10000\n",
      "time taken: 0.19769668579101562ms\n",
      "N=100000\n",
      "time taken: 0.17989397048950195ms\n",
      "N=1000000\n",
      "time taken: 0.3732755184173584ms\n"
     ]
    }
   ],
   "source": [
    "print('Popping from end of list')\n",
    "for N in [10**i for i in range(2,7)]:\n",
    "    print('N={N}'.format(N=N))\n",
    "    data = [None] * N\n",
    "    start = time.time()\n",
    "    for n in range(N):\n",
    "        data.pop()\n",
    "    end = time.time()\n",
    "    elapsed = (end - start)/N * 10**6\n",
    "    print('time taken: {elapsed}ms'.format(elapsed=elapsed))"
   ]
  },
  {
   "cell_type": "markdown",
   "metadata": {},
   "source": [
    "**R-5.9** Explain the changes that would have to be made to the program of Code\n",
    "Fragment 5.11 so that it could perform the Caesar cipher for messages\n",
    "that are written in an alphabet-based language other than English, such as\n",
    "Greek, Russian, or Hebrew.\n",
    "\n",
    "Need to change the encoder and decoder according to the alphabet of the language."
   ]
  },
  {
   "cell_type": "markdown",
   "metadata": {},
   "source": [
    "**R-5.10** The constructor for the `CaesarCipher` class in Code Fragment 5.11 can\n",
    "be implemented with a two-line body by building the forward and backward strings using a combination of the join method and an appropriate comprehension syntax. Give such an implementation."
   ]
  },
  {
   "cell_type": "code",
   "execution_count": 32,
   "metadata": {},
   "outputs": [
    {
     "name": "stdout",
     "output_type": "stream",
     "text": [
      "Secret:  WKH HDJOH KDV ODQGHG.\n",
      "Message:  THE EAGLE HAS LANDED.\n"
     ]
    }
   ],
   "source": [
    "class CaesarCipher:\n",
    "    \n",
    "    def __init__(self, shift):\n",
    "        self._forward = ''.join([chr((k + shift) % 26 + ord('A')) for k in range(26)])\n",
    "        self._backward = ''.join([chr((k - shift) % 26 + ord('A')) for k in range(26)])\n",
    "    \n",
    "    def encrypt(self, message):\n",
    "        return self._transform(message, self._forward)\n",
    "    \n",
    "    def decrypt(self, message):\n",
    "        return self._transform(message, self._backward)\n",
    "    \n",
    "    def _transform(self, original, code):\n",
    "        msg = list(original)\n",
    "        for k in range(len(msg)):\n",
    "            if msg[k].isupper():\n",
    "                j = ord(msg[k]) - ord('A') # find position of the letter to replace\n",
    "                msg[k] = code[j]\n",
    "        return ''.join(msg)\n",
    "    \n",
    "def test():\n",
    "    cipher = CaesarCipher(3)\n",
    "    msg = 'THE EAGLE HAS LANDED.'\n",
    "    coded = cipher.encrypt(msg)\n",
    "    print('Secret: ', coded)\n",
    "    answer = cipher.decrypt(coded)\n",
    "    print('Message: ', answer)\n",
    "\n",
    "test()"
   ]
  },
  {
   "cell_type": "markdown",
   "metadata": {},
   "source": [
    "**R-5.11** Use standard control structures to compute the sum of all numbers in an\n",
    "$n\\times n$ data set, represented as a list of lists."
   ]
  },
  {
   "cell_type": "code",
   "execution_count": 33,
   "metadata": {},
   "outputs": [],
   "source": [
    "def sum_data_set(X):\n",
    "    result = 0\n",
    "    for row in X:\n",
    "        for col in row:\n",
    "            result += col\n",
    "    return result"
   ]
  },
  {
   "cell_type": "code",
   "execution_count": 34,
   "metadata": {},
   "outputs": [
    {
     "data": {
      "text/plain": [
       "21"
      ]
     },
     "execution_count": 34,
     "metadata": {},
     "output_type": "execute_result"
    }
   ],
   "source": [
    "X = [[1,2,3],[4,5,6]]\n",
    "sum_data_set(X)"
   ]
  },
  {
   "cell_type": "markdown",
   "metadata": {},
   "source": [
    "**R-5.12** Describe how the built-in `sum` function can be combined with Python’s\n",
    "comprehension syntax to compute the sum of all numbers in an $n\\times n$ data\n",
    "set, represented as a list of lists."
   ]
  },
  {
   "cell_type": "code",
   "execution_count": 36,
   "metadata": {},
   "outputs": [
    {
     "data": {
      "text/plain": [
       "21"
      ]
     },
     "execution_count": 36,
     "metadata": {},
     "output_type": "execute_result"
    }
   ],
   "source": [
    "X = [[1,2,3],[4,5,6]]\n",
    "sum([sum(row) for row in X])"
   ]
  },
  {
   "cell_type": "markdown",
   "metadata": {},
   "source": [
    "#### Creativity\n",
    "\n",
    "**C-5.13** In the experiment of Code Fragment 5.1, we begin with an empty list. If\n",
    "data were initially constructed with nonempty length, does this affect the\n",
    "sequence of values at which the underlying array is expanded? Perform\n",
    "your own experiments, and comment on any relationship you see between\n",
    "the initial length and the expansion sequence."
   ]
  },
  {
   "cell_type": "code",
   "execution_count": 29,
   "metadata": {},
   "outputs": [
    {
     "data": {
      "image/png": "[encoded data removed]",
      "text/plain": [
       "<Figure size 432x288 with 1 Axes>"
      ]
     },
     "metadata": {
      "needs_background": "light"
     },
     "output_type": "display_data"
    }
   ],
   "source": [
    "import sys\n",
    "results = []\n",
    "for initialLength in [2**i for i in range(8)]:\n",
    "    additions = []\n",
    "    sizesInBytes = []\n",
    "    if counter == 0:\n",
    "        data = []\n",
    "    else:\n",
    "        data = [None] * initialLength\n",
    "    n = 100\n",
    "    for k in range(n):\n",
    "        additions.append(k)\n",
    "        sizesInBytes.append(sys.getsizeof(data))\n",
    "        data.append(None)\n",
    "    results.append(sizesInBytes)\n",
    "\n",
    "for i in range(len(results)):\n",
    "    plt.plot(additions, results[i], label = \"initial length = {}\".format(i))\n",
    "plt.xlabel('additions')\n",
    "plt.ylabel('size in bytes')\n",
    "plt.legend()\n",
    "plt.show()"
   ]
  },
  {
   "cell_type": "markdown",
   "metadata": {},
   "source": [
    "**C-5.14** The `shuffle` method, supported by the `random` module, takes a Python\n",
    "list and rearranges it so that every possible ordering is equally likely.\n",
    "Implement your own version of such a function. You may rely on the\n",
    "`randrange(n)` function of the `random` module, which returns a random\n",
    "number between $0$ and $n−1$ inclusive."
   ]
  },
  {
   "cell_type": "code",
   "execution_count": 35,
   "metadata": {},
   "outputs": [],
   "source": [
    "import random\n",
    "\n",
    "def customized_shuffle(l):\n",
    "    n = len(l)\n",
    "    originalList = [x for x in l]\n",
    "    rearragnedList = [None] * n\n",
    "    for index in range(n):\n",
    "        while originalList[index] is not None:\n",
    "            newIndex = random.randrange(n)\n",
    "            if rearragnedList[newIndex] is None and originalList[index] is not None:\n",
    "                rearragnedList[newIndex] = l[index]\n",
    "                originalList[index] = None\n",
    "    return rearragnedList"
   ]
  },
  {
   "cell_type": "code",
   "execution_count": 39,
   "metadata": {},
   "outputs": [
    {
     "data": {
      "text/plain": [
       "True"
      ]
     },
     "execution_count": 39,
     "metadata": {},
     "output_type": "execute_result"
    }
   ],
   "source": [
    "def random_list():\n",
    "    n = random.randint(1, 100)\n",
    "    result = [0] * n\n",
    "    for i in range(n):\n",
    "        result[i] = random.randint(-1000000, 1000000)\n",
    "    return result\n",
    "\n",
    "def test():\n",
    "    for counter in range(50):\n",
    "        l = random_list()\n",
    "        rearrangedList = customized_shuffle(l)\n",
    "        assert (set(rearrangedList).issubset(set(l))) and (set(l).issubset(set(rearrangedList)))\n",
    "    return True\n",
    "\n",
    "test()"
   ]
  },
  {
   "cell_type": "markdown",
   "metadata": {},
   "source": [
    "**C-5.15** Consider an implementation of a dynamic array, but instead of copying\n",
    "the elements into an array of double the size (that is, from $N$ to $2N$) when\n",
    "its capacity is reached, we copy the elements into an array with $\\text{ceil}(N/4)$\n",
    "additional cells, going from capacity $N$ to capacity $N + \\text{ceil}(N/4)$. Prove that\n",
    "performing a sequence of $n$ append operations still runs in $O(n)$ time in\n",
    "this case.\n",
    "\n",
    "Assume growing the array from size $k$ to size $k + \\text{ceil}(k/4)$ requires $\\text{ceil}(k/4)$ cyber-dollors. $\\text{ceil}$ is ommitted.\n",
    "\n",
    "We charge each append operation $\\frac{9}{4}$ cyber-dollors. Thus, we overcharge each append operation that does not overflow by $\\frac{5}{4}$ cyber-dollar. An overflow occurs when the array has $(\\frac{5}{4})^i$ elements. Expanding the size of the array by $\\frac{1}{4}$ requires $\\frac{1}{4}\\cdot (\\frac{5}{4})^i$ cyber-dollars. From the append operation of elements in positions $(\\frac{5}{4})^{i-1}$ to $(\\frac{5}{4})^i-1$, we have saved $\\frac{5}{4}\\cdot ((\\frac{5}{4})^i-1-(\\frac{5}{4})^{i-1}) = \\frac{1}{4}\\cdot (\\frac{5}{4})^i - \\frac{5}{4}$ cyber-dollars. Append operation of the $(\\frac{5}{4})^i$th element will be charged for another $\\frac{9}{4}$ cyber-dollars, so in total we would have $\\frac{1}{4}\\cdot (\\frac{5}{4})^i + 1$ cyber-dollars, which is enough to pay for the $\\frac{1}{4}\\cdot (\\frac{5}{4})^i$ dollars required to expand the array by $\\frac{1}{4}$.\n",
    "\n",
    "Thus, we can pay for $n$ append operations with $\\frac{9}{4}n$ cyber dollars. So the amortized running time of each append is $O(1)$, and the total run time of $n$ append operations is $O(n)$."
   ]
  },
  {
   "cell_type": "markdown",
   "metadata": {},
   "source": [
    "**C-5.16** Implement a `pop` method for the DynamicArray class, given in Code Fragment 5.3, that removes the last element of the array, and that shrinks the capacity, $N$, of the array by half any time the number of elements in the\n",
    "array goes below $N/4$."
   ]
  },
  {
   "cell_type": "code",
   "execution_count": 61,
   "metadata": {},
   "outputs": [],
   "source": [
    "class DynamicArray3(DynamicArray2):\n",
    "    \n",
    "    def pop(self):\n",
    "        if self._n == 0:\n",
    "            raise Exception('Cannot pop from empty array')\n",
    "        else:\n",
    "            self._A[self._n-1] = None\n",
    "            self._n -= 1\n",
    "            if self._n <= self._capacity/4:\n",
    "                self._resize(self._capacity//2)"
   ]
  },
  {
   "cell_type": "code",
   "execution_count": 63,
   "metadata": {},
   "outputs": [
    {
     "name": "stdout",
     "output_type": "stream",
     "text": [
      "[1]\n",
      "[2, 1]\n",
      "[2, 1, 3]\n",
      "[2, 1]\n",
      "[2]\n",
      "[]\n"
     ]
    }
   ],
   "source": [
    "arr = DynamicArray3()\n",
    "arr.insert(0, 1)\n",
    "arr.print()\n",
    "arr.insert(0, 2)\n",
    "arr.print()\n",
    "arr.insert(2, 3)\n",
    "arr.print()\n",
    "arr.pop()\n",
    "arr.print()\n",
    "arr.pop()\n",
    "arr.print()\n",
    "arr.pop()\n",
    "arr.print()"
   ]
  },
  {
   "cell_type": "markdown",
   "metadata": {},
   "source": [
    "**C-5.17** Prove that when using a dynamic array that grows and shrinks as in the\n",
    "previous exercise, the following series of $2n$ operations takes $O(n)$ time:\n",
    "$n$ append operations on an initially empty array, followed by $n$ pop operations.\n",
    "\n",
    "$n$ append operations takes $O(n)$.\n",
    "\n",
    "For the $n$ pop operations, assume shrinking the array from $k$ to $k/2$ takes $k/2$ cyber dollars. We charge each pop operation $2$ cyber dollars. Thus, we overcharge each pop operation that does not cause a shrinkage by $1$ cyber dollar. A shrinkage occurs when the array has dropped to $\\frac{n}{4^i}$ elements. At this point, shrinking the array size by half requires $\\frac{1}{2}\\cdot \\frac{n}{4^i}$ cyber dollars. From the pop operations of elements in positions $\\frac{n}{4^{i-1}}$ to $\\frac{n}{4^i} - 1$, we have saved $\\frac{n}{4^{i-1}} - \\frac{n}{4^i} + 1 = 3\\cdot \\frac{n}{4^i}+1$ cyber dollars, which is enough to pay for the $\\frac{1}{2}\\cdot \\frac{n}{4^i}$ cyber dollars required to shrink the array by half. Thus, we can pay for $n$ pop operations using $2n$ cyber dollars. So the $n$ pop operations is $O(n)$ as well."
   ]
  },
  {
   "cell_type": "markdown",
   "metadata": {},
   "source": [
    "**C-5.18** Give a formal proof that any sequence of $n$ append or pop operations on\n",
    "an initially empty dynamic array takes $O(n)$ time, if using the strategy\n",
    "described in Exercise C-5.16.\n",
    "\n",
    "It has been proved that append and pop is amortized $O(1)$. Any sequence of $n$ append or pop operations contains at most $n$ append operations and at most $n$ pop operations, so it is $O(n)$ as well."
   ]
  },
  {
   "cell_type": "markdown",
   "metadata": {},
   "source": [
    "**C-5.20** Consider a variant of Exercise C-5.16, in which an array of capacity $N$, is\n",
    "resized to capacity precisely that of the number of elements, any time the\n",
    "number of elements in the array goes strictly below $N/2$. Show that there\n",
    "exists a sequence of $n$ operations that requires $\\Omega(n^2)$ time to execute."
   ]
  }
 ],
 "metadata": {
  "kernelspec": {
   "display_name": "Python 3",
   "language": "python",
   "name": "python3"
  },
  "language_info": {
   "codemirror_mode": {
    "name": "ipython",
    "version": 3
   },
   "file_extension": ".py",
   "mimetype": "text/x-python",
   "name": "python",
   "nbconvert_exporter": "python",
   "pygments_lexer": "ipython3",
   "version": "3.7.3"
  },
  "toc": {
   "base_numbering": 1,
   "nav_menu": {},
   "number_sections": true,
   "sideBar": true,
   "skip_h1_title": false,
   "title_cell": "Table of Contents",
   "title_sidebar": "Contents",
   "toc_cell": false,
   "toc_position": {
    "height": "calc(100% - 180px)",
    "left": "10px",
    "top": "150px",
    "width": "164.988px"
   },
   "toc_section_display": true,
   "toc_window_display": true
  }
 },
 "nbformat": 4,
 "nbformat_minor": 2
}
