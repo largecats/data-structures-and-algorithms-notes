{
 "cells": [
  {
   "cell_type": "markdown",
   "metadata": {},
   "source": [
    "Reading notes and partial solutions to [Data Structures and Algorithms in Python](https://blackwells.co.uk/bookshop/product/9781118290279?gC=f177369a3b&gclid=Cj0KCQjwhJrqBRDZARIsALhp1WTBIyoxeQGXedlVy80vsglvFbNkVf7jTP0Z0zXEIP87lfqbtb4_diYaAr8dEALw_wcB)."
   ]
  },
  {
   "cell_type": "code",
   "execution_count": 1,
   "metadata": {},
   "outputs": [],
   "source": [
    "import random\n",
    "from matplotlib import pyplot as plt\n",
    "%matplotlib inline\n",
    "import math\n",
    "from datetime import datetime\n",
    "import time\n",
    "import numpy as np"
   ]
  },
  {
   "cell_type": "markdown",
   "metadata": {},
   "source": [
    "## Stacks, Queues, and Deques\n",
    "\n",
    "### Array-based Stack"
   ]
  },
  {
   "cell_type": "code",
   "execution_count": 21,
   "metadata": {},
   "outputs": [],
   "source": [
    "class ArrayStack:\n",
    "    \n",
    "    def __init__(self):\n",
    "        self._data = []\n",
    "    \n",
    "    def __len__(self):\n",
    "        return len(self._data)\n",
    "    \n",
    "    def is_empty(self):\n",
    "        return len(self._data) == 0\n",
    "    \n",
    "    def push(self, e):\n",
    "        self._data.append(e)\n",
    "        \n",
    "    def top(self):\n",
    "        if self.is_empty():\n",
    "            raise Exception('Stack is empty')\n",
    "        return self._data[-1]\n",
    "    \n",
    "    def pop(self):\n",
    "        if self.is_empty():\n",
    "            raise Empty('Stack is empty')\n",
    "        return self._data.pop()"
   ]
  },
  {
   "cell_type": "markdown",
   "metadata": {},
   "source": [
    "### Array-based Queue"
   ]
  },
  {
   "cell_type": "code",
   "execution_count": 3,
   "metadata": {},
   "outputs": [],
   "source": [
    "class ArrayQueue:\n",
    "    DEFAULT_CAPACITY = 5\n",
    "    \n",
    "    def __init__(self):\n",
    "        self._data = [None] * ArrayQueue.DEFAULT_CAPACITY\n",
    "        self._size = 0\n",
    "        self._front = 0\n",
    "    \n",
    "    def __len__(self):\n",
    "        return self._size\n",
    "    \n",
    "    def is_empty(self):\n",
    "        return self._size == 0\n",
    "    \n",
    "    def first(self):\n",
    "        if self.is_empty():\n",
    "            raise Exception('Queue is empty')\n",
    "        return self._data[self._front]\n",
    "    \n",
    "    def dequeue(self):\n",
    "        if self.is_empty():\n",
    "            raise Exception('Queue is empty')\n",
    "        dequeued = self._data[self._front]\n",
    "        self._data[self._front] = None\n",
    "        self._front = (self._front + 1) % len(self._data)\n",
    "        self._size -= 1\n",
    "        return dequeued\n",
    "    \n",
    "    def enqueue(self, e):\n",
    "        if self._size == len(self._data):\n",
    "            self._resize(2 * len(self._data))\n",
    "        enqueueIndex = (self._front + self._size) % len(self._data)\n",
    "        self._data[enqueueIndex] = e\n",
    "        self._size += 1\n",
    "        \n",
    "    def _resize(self, cap):\n",
    "        old = self._data\n",
    "        self._data = [None] * cap\n",
    "        walk = self._front\n",
    "        for k in range(self._size):\n",
    "            self._data[k] = old[walk]\n",
    "            walk = (walk + 1) % len(old)\n",
    "        self._front = 0\n",
    "        \n",
    "    def print(self):\n",
    "        l = [None] * self._size\n",
    "        pointer = self._front\n",
    "        counter = 0\n",
    "        while self._data[pointer]:\n",
    "            l[counter] = self._data[pointer]\n",
    "            counter += 1\n",
    "            pointer = (pointer + 1) % len(self._data)\n",
    "        print(l)"
   ]
  },
  {
   "cell_type": "markdown",
   "metadata": {},
   "source": [
    "### Exercises\n",
    "\n",
    "#### Reinforcement\n",
    "\n",
    "**R-6.1** What values are returned during the following series of stack operations, if\n",
    "executed upon an initially empty stack? `push(5)`, `push(3)`, `pop()`, `push(2)`,\n",
    "`push(8)`, `pop()`, `pop()`, `push(9)`, `push(1)`, `pop()`, `push(7)`, `push(6)`, `pop()`,\n",
    "`pop()`, `push(4)`, `pop()`, `pop()`.\n",
    "\n",
    "| operation | return value | stack       |\n",
    "|-----------|--------------|-------------|\n",
    "| `push(5)` | `None`       | `[5]`       |\n",
    "| `push(3)` | `None`       | `[5,3]`     |\n",
    "| `pop()`   | `3`          | `[5]`       |\n",
    "| `push(2)` | `None`       | `[5,2]`     |\n",
    "| `push(8)` | `None`       | `[5,2,8]`   |\n",
    "| `pop()`   | `8`          | `[5,2]`     |\n",
    "| `pop()`   | `2`          | `[5]`       |\n",
    "| `push(9)` | `None`       | `[5,9]`     |\n",
    "| `push(1)` | `None`       | `[5,9,1]`   |\n",
    "| `pop()`   | `1`          | `[5,9]`     |\n",
    "| `push(7)` | `None`       | `[5,9,7]`   |\n",
    "| `push(6)` | `None`       | `[5,9,7,6]` |\n",
    "| `pop()`   | `6`          | `[5,9,7]`   |\n",
    "| `pop()`   | `7`          | `[5,9]`     |\n",
    "| `push(4)` | `None`       | `[5,9,4]`   |\n",
    "| `pop()`   | `4`          | `[5,9]`     |\n",
    "| `pop()`   | `9`          | `[5]`       |"
   ]
  },
  {
   "cell_type": "markdown",
   "metadata": {},
   "source": [
    "**R-6.2** Suppose an initially empty stack `S` has executed a total of 25 push operations, 12 top operations, and 10 pop operations, 3 of which raised Empty\n",
    "errors that were caught and ignored. What is the current size of `S`?\n",
    "\n",
    "$25-(10-3) = 18$."
   ]
  },
  {
   "cell_type": "markdown",
   "metadata": {},
   "source": [
    "**R-6.3** Implement a function with signature `transfer(S, T)` that transfers all elements from stack `S` onto stack `T`, so that the element that starts at the top\n",
    "of `S` is the first to be inserted onto `T`, and the element at the bottom of `S`\n",
    "ends up at the top of `T`."
   ]
  },
  {
   "cell_type": "code",
   "execution_count": 5,
   "metadata": {},
   "outputs": [],
   "source": [
    "def transfer(S, T):\n",
    "    while not S.is_empty():\n",
    "        e = S.pop()\n",
    "        T.push(e)"
   ]
  },
  {
   "cell_type": "code",
   "execution_count": 6,
   "metadata": {},
   "outputs": [],
   "source": [
    "class Stack(ArrayStack):\n",
    "    def print(self):\n",
    "        print(self._data)"
   ]
  },
  {
   "cell_type": "code",
   "execution_count": 7,
   "metadata": {},
   "outputs": [
    {
     "name": "stdout",
     "output_type": "stream",
     "text": [
      "[1, 2, 3]\n",
      "[3, 2, 1]\n"
     ]
    }
   ],
   "source": [
    "S = Stack()\n",
    "T = Stack()\n",
    "S.push(1)\n",
    "S.push(2)\n",
    "S.push(3)\n",
    "S.print()\n",
    "transfer(S, T)\n",
    "T.print()"
   ]
  },
  {
   "cell_type": "code",
   "execution_count": 18,
   "metadata": {},
   "outputs": [
    {
     "data": {
      "text/plain": [
       "True"
      ]
     },
     "execution_count": 18,
     "metadata": {},
     "output_type": "execute_result"
    }
   ],
   "source": [
    "def random_list():\n",
    "    n = random.randint(1, 100)\n",
    "    result = [0] * n\n",
    "    for i in range(n):\n",
    "        result[i] = random.randint(-1000000, 1000000)\n",
    "    return result\n",
    "\n",
    "def test():\n",
    "    for counter in range(50):\n",
    "        l = random_list()\n",
    "        S = Stack()\n",
    "        T = Stack()\n",
    "        for e in l:\n",
    "            S.push(e)\n",
    "        transfer(S, T)\n",
    "        assert T._data == list(reversed(l))\n",
    "    return True\n",
    "\n",
    "test()"
   ]
  },
  {
   "cell_type": "markdown",
   "metadata": {},
   "source": [
    "**R-6.4** Give a recursive method for removing all the elements from a stack."
   ]
  },
  {
   "cell_type": "code",
   "execution_count": 8,
   "metadata": {},
   "outputs": [],
   "source": [
    "def recursive_remove(S):\n",
    "    if not S.is_empty():\n",
    "        S.pop()\n",
    "        recursive_remove(S)"
   ]
  },
  {
   "cell_type": "code",
   "execution_count": 9,
   "metadata": {},
   "outputs": [
    {
     "name": "stdout",
     "output_type": "stream",
     "text": [
      "[]\n"
     ]
    }
   ],
   "source": [
    "recursive_remove(S)\n",
    "S.print()"
   ]
  },
  {
   "cell_type": "code",
   "execution_count": 19,
   "metadata": {},
   "outputs": [
    {
     "data": {
      "text/plain": [
       "True"
      ]
     },
     "execution_count": 19,
     "metadata": {},
     "output_type": "execute_result"
    }
   ],
   "source": [
    "def random_list():\n",
    "    n = random.randint(1, 100)\n",
    "    result = [0] * n\n",
    "    for i in range(n):\n",
    "        result[i] = random.randint(-1000000, 1000000)\n",
    "    return result\n",
    "\n",
    "def test():\n",
    "    for counter in range(50):\n",
    "        l = random_list()\n",
    "        S = Stack()\n",
    "        for e in l:\n",
    "            S.push(e)\n",
    "        recursive_remove(S)\n",
    "        assert S._data == []\n",
    "    return True\n",
    "\n",
    "test()"
   ]
  },
  {
   "cell_type": "markdown",
   "metadata": {},
   "source": [
    "**R-6.5** Implement a function that reverses a list of elements by pushing them onto\n",
    "a stack in one order, and writing them back to the list in reversed order."
   ]
  },
  {
   "cell_type": "code",
   "execution_count": 10,
   "metadata": {},
   "outputs": [],
   "source": [
    "def reverse(l):\n",
    "    S = Stack()\n",
    "    for e in l:\n",
    "        S.push(e)\n",
    "    for i in range(len(l)):\n",
    "        l[i] = S.pop()"
   ]
  },
  {
   "cell_type": "code",
   "execution_count": 11,
   "metadata": {},
   "outputs": [
    {
     "name": "stdout",
     "output_type": "stream",
     "text": [
      "[3, 2, 1]\n"
     ]
    }
   ],
   "source": [
    "l = [1,2,3]\n",
    "reverse(l)\n",
    "print(l)"
   ]
  },
  {
   "cell_type": "code",
   "execution_count": 20,
   "metadata": {},
   "outputs": [
    {
     "data": {
      "text/plain": [
       "True"
      ]
     },
     "execution_count": 20,
     "metadata": {},
     "output_type": "execute_result"
    }
   ],
   "source": [
    "def random_list():\n",
    "    n = random.randint(1, 100)\n",
    "    result = [0] * n\n",
    "    for i in range(n):\n",
    "        result[i] = random.randint(-1000000, 1000000)\n",
    "    return result\n",
    "\n",
    "def test():\n",
    "    for counter in range(50):\n",
    "        l = random_list()\n",
    "        l_copy = [e for e in l]\n",
    "        reverse(l)\n",
    "        assert l == list(reversed(l_copy))\n",
    "    return True\n",
    "\n",
    "test()"
   ]
  },
  {
   "cell_type": "markdown",
   "metadata": {},
   "source": [
    "**R-6.6** Give a precise and complete definition of the concept of matching for\n",
    "grouping symbols in an arithmetic expression. Your definition may be\n",
    "recursive."
   ]
  },
  {
   "cell_type": "markdown",
   "metadata": {},
   "source": [
    "**R-6.7** What values are returned during the following sequence of queue operations, if executed on an initially empty queue? `enqueue(5)`, `enqueue(3)`,\n",
    "`dequeue()`, `enqueue(2)`, `enqueue(8)`, `dequeue()`, `dequeue()`, `enqueue(9)`,\n",
    "`enqueue(1)`, `dequeue()`, `enqueue(7)`, `enqueue(6)`, `dequeue()`, `dequeue()`,\n",
    "`enqueue(4)`, `dequeue()`, `dequeue()`.\n",
    "\n",
    "| operation    | return value | queue       |\n",
    "|--------------|--------------|-------------|\n",
    "| `enqueue(5)` | `None`       | `[5]`       |\n",
    "| `enqueue(3)` | `None`       | `[5,3]`     |\n",
    "| `dequeue()`  | `5`          | `[3]`       |\n",
    "| `enqueue(2)` | `None`       | `[3,2]`     |\n",
    "| `enqueue(8)` | `None`       | `[3,2,8]`   |\n",
    "| `dequeue()`  | `3`          | `[2,8]`     |\n",
    "| `dequeue()`  | `2`          | `[8]`       |\n",
    "| `enqueue(9)` | `None`       | `[8,9]`     |\n",
    "| `enqueue(1)` | `None`       | `[8,9,1]`   |\n",
    "| `dequeue()`  | `8`          | `[9,1]`     |\n",
    "| `enqueue(7)` | `None`       | `[9,1,7]`   |\n",
    "| `enqueue(6)` | `None`       | `[9,1,7,6]` |\n",
    "| `dequeue()`  | `9`          | `[1,7,6]`   |\n",
    "| `dequeue()`  | `1`          | `[7,6]`     |\n",
    "| `enqueue(4)` | `None`       | `[7,6,4]`   |\n",
    "| `dequeue()`  | `7`          | `[6,4]`     |\n",
    "| `dequeue()`  | `6`          | `[4]`       |"
   ]
  },
  {
   "cell_type": "markdown",
   "metadata": {},
   "source": [
    "**R-6.8** Suppose an initially empty queue `Q` has executed a total of 32 enqueue\n",
    "operations, 10 first operations, and 15 dequeue operations, 5 of which\n",
    "raised Empty errors that were caught and ignored. What is the current\n",
    "size of `Q`?\n",
    "\n",
    "$32 - (15-5) = 22$."
   ]
  },
  {
   "cell_type": "markdown",
   "metadata": {},
   "source": [
    "**R-6.9** Had the queue of the previous problem been an instance of `ArrayQueue`\n",
    "that used an initial array of capacity 30, and had its size never been greater\n",
    "than 30, what would be the final value of the `front` instance variable?\n",
    "\n",
    "Only dequeue (without Empty errors) will change the front pointer. So the front pointer would point to $15-5=10$ (the $11$th item in the queue)."
   ]
  },
  {
   "cell_type": "markdown",
   "metadata": {},
   "source": [
    "R-6.10 Consider what happens if the loop in the `ArrayQueue.resize` method at\n",
    "lines 53–55 of Code Fragment 6.7 had been implemented as:\n",
    "\n",
    "```python\n",
    "for k in range(self._size):\n",
    "    self._data[k] = old[k] # instead of old[walk]\n",
    "```\n",
    "\n",
    "Give a clear explanation of what could go wrong.\n",
    "\n",
    "`walk` is the index of elements in the old queue with the front pointer as offset. `k` does not include the front pointer offset. So if `k` is used instead of `walk`, the elements in the old queue will be copied to the new queue in their absolute positions in the underlying array, without taking into consideration the wrapping around of cyclic carrier arrays.\n",
    "\n",
    "E.g., consider a queue `[4, 5, 1, 2, 3]`, where the front pointer is at position 2 (pointing to the element `1`). Consider enqueuing the element `6`. Using `walk`, the new queue with resized underlying array would be `[1, 2, 3, 4, 5, 6, None, None, None, None]`. But using `k`, the new queue would be `[4, 5, 1, 2, 3, 6, None, None, None, None]`."
   ]
  },
  {
   "cell_type": "code",
   "execution_count": 69,
   "metadata": {},
   "outputs": [],
   "source": [
    "class WrongQueue(ArrayQueue):\n",
    "    def _resize(self, cap):\n",
    "        old = self._data\n",
    "        self._data = [None] * cap\n",
    "        for k in range(self._size):\n",
    "            self._data[k] = old[k]\n",
    "        self._front = 0"
   ]
  },
  {
   "cell_type": "code",
   "execution_count": 67,
   "metadata": {},
   "outputs": [
    {
     "name": "stdout",
     "output_type": "stream",
     "text": [
      "[1, 2, 3, 4, 5, 6, None, None, None, None]\n",
      "0\n",
      "[1, 2, 3, 4, 5, 6]\n"
     ]
    }
   ],
   "source": [
    "q = ArrayQueue()\n",
    "q.enqueue(0)\n",
    "q.enqueue(0)\n",
    "q.enqueue(1)\n",
    "q.enqueue(2)\n",
    "q.dequeue()\n",
    "q.dequeue()\n",
    "q.enqueue(3)\n",
    "q.enqueue(4)\n",
    "q.enqueue(5)\n",
    "q.enqueue(6)\n",
    "print(q._data)\n",
    "print(q._front)\n",
    "q.print()"
   ]
  },
  {
   "cell_type": "code",
   "execution_count": 70,
   "metadata": {},
   "outputs": [
    {
     "name": "stdout",
     "output_type": "stream",
     "text": [
      "[4, 5, 1, 2, 3, 6, None, None, None, None]\n",
      "0\n",
      "[4, 5, 1, 2, 3, 6]\n"
     ]
    }
   ],
   "source": [
    "wrongQ = WrongQueue()\n",
    "wrongQ.enqueue(0)\n",
    "wrongQ.enqueue(0)\n",
    "wrongQ.dequeue()\n",
    "wrongQ.dequeue()\n",
    "wrongQ.enqueue(1)\n",
    "wrongQ.enqueue(2)\n",
    "wrongQ.enqueue(3)\n",
    "wrongQ.enqueue(4)\n",
    "wrongQ.enqueue(5)\n",
    "wrongQ.enqueue(6)\n",
    "print(wrongQ._data)\n",
    "print(wrongQ._front)\n",
    "wrongQ.print()"
   ]
  },
  {
   "cell_type": "markdown",
   "metadata": {},
   "source": [
    "**R-6.11** Give a simple adapter that implements our queue ADT while using a\n",
    "`collections.deque` instance for storage."
   ]
  },
  {
   "cell_type": "code",
   "execution_count": 5,
   "metadata": {},
   "outputs": [],
   "source": [
    "import collections\n",
    "\n",
    "class Queue:\n",
    "    \n",
    "    def __init__(self):\n",
    "        self._front = 0\n",
    "        self._size = 0\n",
    "        self._data = collections.deque()\n",
    "    \n",
    "    def __len__(self):\n",
    "        return self._size\n",
    "    \n",
    "    def is_empty(self):\n",
    "        return self._size == 0\n",
    "    \n",
    "    def first(self):\n",
    "        return self._data[0]\n",
    "    \n",
    "    def enqueue(self, e):\n",
    "        self._data.append(e)\n",
    "        self._size += 1\n",
    "    \n",
    "    def dequeue(self):\n",
    "        if self.is_empty():\n",
    "            raise Exception('Queue is empty')\n",
    "        self._front = (self._front + 1) % len(self._data)\n",
    "        self._size -= 1\n",
    "        return self._data.popleft()"
   ]
  },
  {
   "cell_type": "code",
   "execution_count": 23,
   "metadata": {},
   "outputs": [
    {
     "name": "stdout",
     "output_type": "stream",
     "text": [
      "deque([5, 3])\n",
      "deque([3])\n",
      "deque([])\n"
     ]
    },
    {
     "ename": "Exception",
     "evalue": "Queue is empty",
     "output_type": "error",
     "traceback": [
      "\u001b[1;31m---------------------------------------------------------------------------\u001b[0m",
      "\u001b[1;31mException\u001b[0m                                 Traceback (most recent call last)",
      "\u001b[1;32m<ipython-input-23-fdaad36b5c1c>\u001b[0m in \u001b[0;36m<module>\u001b[1;34m\u001b[0m\n\u001b[0;32m      7\u001b[0m \u001b[0mq\u001b[0m\u001b[1;33m.\u001b[0m\u001b[0mdequeue\u001b[0m\u001b[1;33m(\u001b[0m\u001b[1;33m)\u001b[0m\u001b[1;33m\u001b[0m\u001b[1;33m\u001b[0m\u001b[0m\n\u001b[0;32m      8\u001b[0m \u001b[0mprint\u001b[0m\u001b[1;33m(\u001b[0m\u001b[0mq\u001b[0m\u001b[1;33m.\u001b[0m\u001b[0m_data\u001b[0m\u001b[1;33m)\u001b[0m\u001b[1;33m\u001b[0m\u001b[1;33m\u001b[0m\u001b[0m\n\u001b[1;32m----> 9\u001b[1;33m \u001b[0mq\u001b[0m\u001b[1;33m.\u001b[0m\u001b[0mdequeue\u001b[0m\u001b[1;33m(\u001b[0m\u001b[1;33m)\u001b[0m\u001b[1;33m\u001b[0m\u001b[1;33m\u001b[0m\u001b[0m\n\u001b[0m",
      "\u001b[1;32m<ipython-input-22-f1d7fb716258>\u001b[0m in \u001b[0;36mdequeue\u001b[1;34m(self)\u001b[0m\n\u001b[0;32m     23\u001b[0m     \u001b[1;32mdef\u001b[0m \u001b[0mdequeue\u001b[0m\u001b[1;33m(\u001b[0m\u001b[0mself\u001b[0m\u001b[1;33m)\u001b[0m\u001b[1;33m:\u001b[0m\u001b[1;33m\u001b[0m\u001b[1;33m\u001b[0m\u001b[0m\n\u001b[0;32m     24\u001b[0m         \u001b[1;32mif\u001b[0m \u001b[0mself\u001b[0m\u001b[1;33m.\u001b[0m\u001b[0mis_empty\u001b[0m\u001b[1;33m(\u001b[0m\u001b[1;33m)\u001b[0m\u001b[1;33m:\u001b[0m\u001b[1;33m\u001b[0m\u001b[1;33m\u001b[0m\u001b[0m\n\u001b[1;32m---> 25\u001b[1;33m             \u001b[1;32mraise\u001b[0m \u001b[0mException\u001b[0m\u001b[1;33m(\u001b[0m\u001b[1;34m'Queue is empty'\u001b[0m\u001b[1;33m)\u001b[0m\u001b[1;33m\u001b[0m\u001b[1;33m\u001b[0m\u001b[0m\n\u001b[0m\u001b[0;32m     26\u001b[0m         \u001b[0mself\u001b[0m\u001b[1;33m.\u001b[0m\u001b[0m_front\u001b[0m \u001b[1;33m=\u001b[0m \u001b[1;33m(\u001b[0m\u001b[0mself\u001b[0m\u001b[1;33m.\u001b[0m\u001b[0m_front\u001b[0m \u001b[1;33m+\u001b[0m \u001b[1;36m1\u001b[0m\u001b[1;33m)\u001b[0m \u001b[1;33m%\u001b[0m \u001b[0mlen\u001b[0m\u001b[1;33m(\u001b[0m\u001b[0mself\u001b[0m\u001b[1;33m.\u001b[0m\u001b[0m_data\u001b[0m\u001b[1;33m)\u001b[0m\u001b[1;33m\u001b[0m\u001b[1;33m\u001b[0m\u001b[0m\n\u001b[0;32m     27\u001b[0m         \u001b[0mself\u001b[0m\u001b[1;33m.\u001b[0m\u001b[0m_size\u001b[0m \u001b[1;33m-=\u001b[0m \u001b[1;36m1\u001b[0m\u001b[1;33m\u001b[0m\u001b[1;33m\u001b[0m\u001b[0m\n",
      "\u001b[1;31mException\u001b[0m: Queue is empty"
     ]
    }
   ],
   "source": [
    "q = Queue()\n",
    "q.enqueue(5)\n",
    "q.enqueue(3)\n",
    "print(q._data)\n",
    "q.dequeue()\n",
    "print(q._data)\n",
    "q.dequeue()\n",
    "print(q._data)\n",
    "q.dequeue()"
   ]
  },
  {
   "cell_type": "code",
   "execution_count": 7,
   "metadata": {
    "scrolled": true
   },
   "outputs": [
    {
     "data": {
      "text/plain": [
       "['__add__',\n",
       " '__bool__',\n",
       " '__class__',\n",
       " '__contains__',\n",
       " '__copy__',\n",
       " '__delattr__',\n",
       " '__delitem__',\n",
       " '__dir__',\n",
       " '__doc__',\n",
       " '__eq__',\n",
       " '__format__',\n",
       " '__ge__',\n",
       " '__getattribute__',\n",
       " '__getitem__',\n",
       " '__gt__',\n",
       " '__hash__',\n",
       " '__iadd__',\n",
       " '__imul__',\n",
       " '__init__',\n",
       " '__init_subclass__',\n",
       " '__iter__',\n",
       " '__le__',\n",
       " '__len__',\n",
       " '__lt__',\n",
       " '__mul__',\n",
       " '__ne__',\n",
       " '__new__',\n",
       " '__reduce__',\n",
       " '__reduce_ex__',\n",
       " '__repr__',\n",
       " '__reversed__',\n",
       " '__rmul__',\n",
       " '__setattr__',\n",
       " '__setitem__',\n",
       " '__sizeof__',\n",
       " '__str__',\n",
       " '__subclasshook__',\n",
       " 'append',\n",
       " 'appendleft',\n",
       " 'clear',\n",
       " 'copy',\n",
       " 'count',\n",
       " 'extend',\n",
       " 'extendleft',\n",
       " 'index',\n",
       " 'insert',\n",
       " 'maxlen',\n",
       " 'pop',\n",
       " 'popleft',\n",
       " 'remove',\n",
       " 'reverse',\n",
       " 'rotate']"
      ]
     },
     "execution_count": 7,
     "metadata": {},
     "output_type": "execute_result"
    }
   ],
   "source": [
    "import collections\n",
    "\n",
    "deq = collections.deque()\n",
    "dir(deq)"
   ]
  },
  {
   "cell_type": "markdown",
   "metadata": {},
   "source": [
    "**R-6.12** What values are returned during the following sequence of deque ADT operations, on initially empty deque? `add_first(4)`, `add_last(8)`, `add_last(9)`,\n",
    "`add_first(5)`, `back()`, `delete_first()`, `delete_last()`, `add_last(7)`, `first()`,\n",
    "`last()`, `add_last(6)`, `delete_first()`, `delete_first()`.\n",
    "\n",
    "| operation        | return value | deque       |\n",
    "|------------------|--------------|-------------|\n",
    "| `add_first(4)`   | `None`       | `[4]`       |\n",
    "| `add_last(8)`    | `None`       | `[4,8]`     |\n",
    "| `add_last(9)`    | `None`       | `[4,8,9]`   |\n",
    "| `add_first(5)`   | `None`       | `[5,4,8,9]` |\n",
    "| `back()`         | `9`          | `[5,4,8,9]` |\n",
    "| `delete_first()` | `5`          | `[4,8,9]`   |\n",
    "| `delete_last()`  | `9`          | `[4,8]`     |\n",
    "| `add_last(7)`    | `None`       | `[4,8,7]`   |\n",
    "| `first()`        | `4`          | `[4,8,7]`   |\n",
    "| `last()`         | `7`          | `[4,8,7]`   |\n",
    "| `add_last(6)`    | `None`       | `[4,8,7,6]` |\n",
    "| `delete_first()` | `4`          | `[8,7,6]`   |\n",
    "| `delete_first()` | `8`          | `[7,6]`     |"
   ]
  },
  {
   "cell_type": "markdown",
   "metadata": {},
   "source": [
    "**R-6.13** Suppose you have a deque `D` containing the numbers `(1,2,3,4,5,6,7,8)`,\n",
    "in this order. Suppose further that you have an initially empty queue `Q`.\n",
    "Give a code fragment that uses only `D` and `Q` (and no other variables) and\n",
    "results in `D` storing the elements in the order `(1,2,3,5,4,6,7,8)`."
   ]
  },
  {
   "cell_type": "code",
   "execution_count": 17,
   "metadata": {},
   "outputs": [
    {
     "name": "stdout",
     "output_type": "stream",
     "text": [
      "1\n",
      "2\n",
      "3\n",
      "4\n",
      "5\n",
      "6\n",
      "7\n",
      "8\n"
     ]
    }
   ],
   "source": [
    "Q = ArrayQueue()\n",
    "D = collections.deque()\n",
    "for i in range(1,9):\n",
    "    D.append(i)\n",
    "for i in range(0,8):\n",
    "    print(D[i])"
   ]
  },
  {
   "cell_type": "code",
   "execution_count": 18,
   "metadata": {},
   "outputs": [],
   "source": [
    "Q.enqueue(D.popleft()) # 1\n",
    "Q.enqueue(D.popleft()) # 2\n",
    "Q.enqueue(D.popleft()) # 3\n",
    "D.append(D.popleft()) # store 4 temporarily at the end of D\n",
    "Q.enqueue(D.popleft()) # 5\n",
    "Q.enqueue(D.pop()) # 4\n",
    "Q.enqueue(D.popleft()) # 6\n",
    "Q.enqueue(D.popleft()) # 7\n",
    "Q.enqueue(D.popleft()) # 8\n",
    "while not Q.is_empty():\n",
    "    D.append(Q.dequeue())"
   ]
  },
  {
   "cell_type": "code",
   "execution_count": 19,
   "metadata": {},
   "outputs": [
    {
     "name": "stdout",
     "output_type": "stream",
     "text": [
      "1\n",
      "2\n",
      "3\n",
      "5\n",
      "4\n",
      "6\n",
      "7\n",
      "8\n"
     ]
    }
   ],
   "source": [
    "for i in range(0,8):\n",
    "    print(D[i])"
   ]
  },
  {
   "cell_type": "markdown",
   "metadata": {},
   "source": [
    "**R-6.14** Repeat the previous problem using the deque `D` and an initially empty\n",
    "stack `S`."
   ]
  },
  {
   "cell_type": "code",
   "execution_count": 22,
   "metadata": {},
   "outputs": [
    {
     "name": "stdout",
     "output_type": "stream",
     "text": [
      "1\n",
      "2\n",
      "3\n",
      "4\n",
      "5\n",
      "6\n",
      "7\n",
      "8\n"
     ]
    }
   ],
   "source": [
    "S = ArrayStack()\n",
    "D = collections.deque()\n",
    "for i in range(1,9):\n",
    "    D.append(i)\n",
    "for i in range(0,8):\n",
    "    print(D[i])"
   ]
  },
  {
   "cell_type": "code",
   "execution_count": 23,
   "metadata": {},
   "outputs": [],
   "source": [
    "S.push(D.pop()) # 8\n",
    "S.push(D.pop()) # 7\n",
    "S.push(D.pop()) # 6\n",
    "D.appendleft(D.pop()) # store 5 temporarily at the start of D\n",
    "S.push(D.pop()) # 4\n",
    "S.push(D.popleft()) # 5\n",
    "S.push(D.pop()) # 3\n",
    "S.push(D.pop()) # 2\n",
    "S.push(D.pop()) # 1\n",
    "\n",
    "while not S.is_empty():\n",
    "    D.append(S.pop())"
   ]
  },
  {
   "cell_type": "code",
   "execution_count": 24,
   "metadata": {},
   "outputs": [
    {
     "name": "stdout",
     "output_type": "stream",
     "text": [
      "1\n",
      "2\n",
      "3\n",
      "5\n",
      "4\n",
      "6\n",
      "7\n",
      "8\n"
     ]
    }
   ],
   "source": [
    "for i in range(0,8):\n",
    "    print(D[i])"
   ]
  },
  {
   "cell_type": "markdown",
   "metadata": {},
   "source": [
    "#### Creativity\n",
    "\n",
    "**C-6.15** Suppose Alice has picked three distinct integers and placed them into a\n",
    "stack `S` in random order. Write a short, straight-line piece of pseudo-code\n",
    "(with no loops or recursion) that uses only one comparison and only one\n",
    "variable `x`, yet that results in variable `x` storing the largest of Alice’s three\n",
    "integers with probability $2/3$. Argue why your method is correct.\n",
    "\n",
    "Set `x` to be `S.pop()` (last element in `S`). Then set `x` to be the maximum of `x` and `S.pop()` (second last element in `S`).\n",
    "\n",
    "Each of the elements in `S` has `1/3` probabilty of being the largest element in `S`. In the above procedure, `x` will store the larger among the last two elements in `S`. The probability that the last or the second last elements in `S` is the largest is `1/3+1/3=2/3`. So `x` will store the largest element in `S` `2/3` of the time."
   ]
  }
 ],
 "metadata": {
  "kernelspec": {
   "display_name": "Python 3",
   "language": "python",
   "name": "python3"
  },
  "language_info": {
   "codemirror_mode": {
    "name": "ipython",
    "version": 3
   },
   "file_extension": ".py",
   "mimetype": "text/x-python",
   "name": "python",
   "nbconvert_exporter": "python",
   "pygments_lexer": "ipython3",
   "version": "3.7.3"
  },
  "toc": {
   "base_numbering": 1,
   "nav_menu": {},
   "number_sections": true,
   "sideBar": true,
   "skip_h1_title": false,
   "title_cell": "Table of Contents",
   "title_sidebar": "Contents",
   "toc_cell": false,
   "toc_position": {
    "height": "calc(100% - 180px)",
    "left": "10px",
    "top": "150px",
    "width": "206.944px"
   },
   "toc_section_display": true,
   "toc_window_display": true
  }
 },
 "nbformat": 4,
 "nbformat_minor": 2
}
