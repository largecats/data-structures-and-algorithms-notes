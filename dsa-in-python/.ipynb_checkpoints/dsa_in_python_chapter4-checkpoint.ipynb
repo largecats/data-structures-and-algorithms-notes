{
 "cells": [
  {
   "cell_type": "markdown",
   "metadata": {},
   "source": [
    "Reading notes and partial solutions to [Data Structures and Algorithms in Python](https://blackwells.co.uk/bookshop/product/9781118290279?gC=f177369a3b&gclid=Cj0KCQjwhJrqBRDZARIsALhp1WTBIyoxeQGXedlVy80vsglvFbNkVf7jTP0Z0zXEIP87lfqbtb4_diYaAr8dEALw_wcB)."
   ]
  },
  {
   "cell_type": "code",
   "execution_count": 2,
   "metadata": {},
   "outputs": [],
   "source": [
    "import random\n",
    "from matplotlib import pyplot as plt\n",
    "%matplotlib inline\n",
    "import math\n",
    "from datetime import datetime\n",
    "import time\n",
    "import numpy as np"
   ]
  },
  {
   "cell_type": "markdown",
   "metadata": {},
   "source": [
    "# Recursion\n",
    "\n",
    "## Examples\n",
    "\n",
    "### Factorial"
   ]
  },
  {
   "cell_type": "code",
   "execution_count": 2,
   "metadata": {},
   "outputs": [],
   "source": [
    "def factorial(n):\n",
    "    if n == 1:\n",
    "        return 1\n",
    "    else:\n",
    "        return n * factorial(n-1)"
   ]
  },
  {
   "cell_type": "code",
   "execution_count": 3,
   "metadata": {},
   "outputs": [
    {
     "data": {
      "text/plain": [
       "120"
      ]
     },
     "execution_count": 3,
     "metadata": {},
     "output_type": "execute_result"
    }
   ],
   "source": [
    "factorial(5)"
   ]
  },
  {
   "cell_type": "markdown",
   "metadata": {},
   "source": [
    "### Drawing ruler"
   ]
  },
  {
   "cell_type": "code",
   "execution_count": 4,
   "metadata": {},
   "outputs": [],
   "source": [
    "def draw_line(tick_length, tick_label=''):\n",
    "    line = '-' * tick_length\n",
    "    if tick_label:\n",
    "        line += ' ' + tick_label\n",
    "    print(line)\n",
    "\n",
    "def draw_interval(center_length):\n",
    "    if center_length > 0:\n",
    "        draw_interval(center_length-1)\n",
    "        draw_line(center_length)\n",
    "        draw_interval(center_length-1)\n",
    "\n",
    "def draw_ruler(num_inches, major_length):\n",
    "    draw_line(major_length, '0')\n",
    "    for j in range(1, 1+num_inches):\n",
    "        draw_interval(major_length-1)\n",
    "        draw_line(major_length, str(j))"
   ]
  },
  {
   "cell_type": "code",
   "execution_count": 5,
   "metadata": {},
   "outputs": [
    {
     "name": "stdout",
     "output_type": "stream",
     "text": [
      "-\n",
      "--\n",
      "-\n"
     ]
    }
   ],
   "source": [
    "draw_interval(2)"
   ]
  },
  {
   "cell_type": "code",
   "execution_count": 6,
   "metadata": {
    "scrolled": true
   },
   "outputs": [
    {
     "name": "stdout",
     "output_type": "stream",
     "text": [
      "--- 0\n",
      "-\n",
      "--\n",
      "-\n",
      "--- 1\n",
      "-\n",
      "--\n",
      "-\n",
      "--- 2\n"
     ]
    }
   ],
   "source": [
    "draw_ruler(2, 3)"
   ]
  },
  {
   "cell_type": "markdown",
   "metadata": {},
   "source": [
    "### Binary search"
   ]
  },
  {
   "cell_type": "code",
   "execution_count": 7,
   "metadata": {},
   "outputs": [],
   "source": [
    "def binary_search_helper(seq, target, low, high):\n",
    "    if high < low:\n",
    "        return None\n",
    "    mid = (low+high)//2\n",
    "    if seq[mid] == target: # check mid\n",
    "        return mid\n",
    "    elif seq[mid] > target:\n",
    "        # recurse on the part left of mid (no need to include mid becos it's alrd checked)\n",
    "        # in fact, cannot include mid, otherwise it will cause infinite recursion\n",
    "        return binary_search_helper(seq, target, low, mid-1)\n",
    "    else:\n",
    "        # recurse on the part right of mid\n",
    "        return binary_search_helper(seq, target, mid+1, high)\n",
    "\n",
    "def binary_search(seq, target):\n",
    "    return binary_search_helper(seq, target, 0, len(seq))"
   ]
  },
  {
   "cell_type": "code",
   "execution_count": 8,
   "metadata": {},
   "outputs": [
    {
     "data": {
      "text/plain": [
       "0"
      ]
     },
     "execution_count": 8,
     "metadata": {},
     "output_type": "execute_result"
    }
   ],
   "source": [
    "seq = [1,2,3,4,5]\n",
    "binary_search(seq, 1)"
   ]
  },
  {
   "cell_type": "markdown",
   "metadata": {},
   "source": [
    "### Disk usage"
   ]
  },
  {
   "cell_type": "code",
   "execution_count": 9,
   "metadata": {},
   "outputs": [],
   "source": [
    "import os\n",
    "\n",
    "def disk_usage(path):\n",
    "    size = os.path.getsize(path) # immediate size\n",
    "    if os.path.isdir(path):\n",
    "        for name in os.listdir(path):\n",
    "            subPath = os.path.join(path, name)\n",
    "            size += disk_usage(subPath)\n",
    "#     print('{0:<7}'.format(size), path)\n",
    "    return size"
   ]
  },
  {
   "cell_type": "code",
   "execution_count": 10,
   "metadata": {},
   "outputs": [
    {
     "data": {
      "text/plain": [
       "128"
      ]
     },
     "execution_count": 10,
     "metadata": {},
     "output_type": "execute_result"
    }
   ],
   "source": [
    "size_in_bytes = disk_usage('C:\\\\Users\\\\xiaolinfan\\\\Fun\\\\programming\\\\data-structures-and-algorithms')\n",
    "size_in_mb = round(size_in_bytes / 10**6)\n",
    "size_in_mb"
   ]
  },
  {
   "cell_type": "markdown",
   "metadata": {},
   "source": [
    "## Inefficient use of recursion\n",
    "\n",
    "What determine the efficiency of a recursive function are\n",
    "* how many recursive calls each invocation of the function makes, and\n",
    "* by how much the problem size is reduced at each recursive invocation.\n",
    "\n",
    "### Element uniqueness problem\n",
    "\n",
    "Unlike binary search which reduces the problem size by half at each recursive call and makes one recursive call at each invocation, `unique3()` reduces the problem size by 1 at each recursive call and makes 2 recursive calls at each invocation in the worst case."
   ]
  },
  {
   "cell_type": "code",
   "execution_count": 11,
   "metadata": {},
   "outputs": [],
   "source": [
    "def unique3(seq, start, stop):\n",
    "    if stop - start <= 1:\n",
    "        return True\n",
    "    elif not unique(seq, start, stop - 1):\n",
    "        return False\n",
    "    elif not unique(seq, start + 1, stop):\n",
    "        return False\n",
    "    else:\n",
    "        return seq[start] != seq[stop-1]"
   ]
  },
  {
   "cell_type": "markdown",
   "metadata": {},
   "source": [
    "### Direct Fibonacci\n",
    "\n",
    "Computing the $n$th Fibonacci number straight from the definition is very slow because repetitive work is done (e.g., computing `slow_fib(n-3)`) when computing `slow_fib(n-2)` and `slow_fib(n-1)` independently from each other.\n",
    "\n",
    "Each invocation of `slow_fib()` makes 2 recursive calls where each reduces the problem size by 1 or 2, so it is $1+2+4+\\cdots\\in O(2^n)$."
   ]
  },
  {
   "cell_type": "code",
   "execution_count": 12,
   "metadata": {},
   "outputs": [],
   "source": [
    "def slow_fib(n):\n",
    "    if n <= 1:\n",
    "        return n\n",
    "    else:\n",
    "        return slow_fib(n-2) + slow_fib(n-1)"
   ]
  },
  {
   "cell_type": "markdown",
   "metadata": {},
   "source": [
    "A faster `fib()` stores `F(n-1)` along with each invoation to avoid repetitive computation.\n",
    "\n",
    "Each invocation of `fib()` makes 1 recursive call that reduces the problem size by 1. So it is $O(n)$."
   ]
  },
  {
   "cell_type": "code",
   "execution_count": 13,
   "metadata": {},
   "outputs": [],
   "source": [
    "def fib_helper(n):\n",
    "    \"\"\"\n",
    "    Return F(n), F(n-1).\n",
    "    \"\"\"\n",
    "    if n <= 1:\n",
    "        return n, 0\n",
    "    else:\n",
    "        n1, n0 = fib_helper(n-1)\n",
    "        return (n0 + n1), n1\n",
    "\n",
    "def fast_fib(n):\n",
    "    \"\"\"\n",
    "    Return F(n).\n",
    "    \"\"\"\n",
    "    n1, n0 = fib_helper(n)\n",
    "    return n1"
   ]
  },
  {
   "cell_type": "code",
   "execution_count": 14,
   "metadata": {},
   "outputs": [
    {
     "data": {
      "text/plain": [
       "8"
      ]
     },
     "execution_count": 14,
     "metadata": {},
     "output_type": "execute_result"
    }
   ],
   "source": [
    "fast_fib(6)"
   ]
  },
  {
   "cell_type": "markdown",
   "metadata": {},
   "source": [
    "## Infinite recursion"
   ]
  },
  {
   "cell_type": "code",
   "execution_count": 15,
   "metadata": {},
   "outputs": [],
   "source": [
    "def binary_search_helper(seq, target, low, high):\n",
    "    if high < low:\n",
    "        return None\n",
    "    mid = (low+high)//2\n",
    "    if seq[mid] == target: # check mid\n",
    "        return mid\n",
    "    elif seq[mid] > target:\n",
    "        # recur on the part left of mid (no need to include mid becos it's alrd checked)\n",
    "        # in fact, cannot include mid, otherwise it will cause infinite recursion\n",
    "        # writing mid+1 as mid in the else statement has the same effect\n",
    "        # but can change the first if statement to high <= low to make up for the problem\n",
    "        return binary_search_helper(seq, target, low, mid)\n",
    "    else:\n",
    "        # recur on the part right of mid\n",
    "        return binary_search_helper(seq, target, mid+1, high)\n",
    "\n",
    "def binary_search_inf(seq, target):\n",
    "    return binary_search_helper(seq, target, 0, len(seq))"
   ]
  },
  {
   "cell_type": "code",
   "execution_count": 16,
   "metadata": {},
   "outputs": [],
   "source": [
    "seq = [1,2]\n",
    "# print(binary_search_inf(seq, 0))"
   ]
  },
  {
   "cell_type": "markdown",
   "metadata": {},
   "source": [
    "## Types of recursion\n",
    "\n",
    "### Linear\n",
    "\n",
    "One recursive call invokes at most one other recursive call.\n",
    "\n",
    "E.g., `factorial()`, `fast_fib()`, `binary_search()`.\n",
    "\n",
    "Note: \"linear\" here means linear structure, not linear time complexity. E.g., `binary_search()` runs in $O(\\log n)$."
   ]
  },
  {
   "cell_type": "code",
   "execution_count": 17,
   "metadata": {},
   "outputs": [],
   "source": [
    "# translated from OCaml\n",
    "def sum_helper(seq, acc):\n",
    "    if len(seq) == 0:\n",
    "        return acc\n",
    "    else:\n",
    "        h = seq.pop(0)\n",
    "        return sum_helper(seq, acc + h)\n",
    "\n",
    "def sum(seq):\n",
    "    \"\"\"\n",
    "    Sum all elements in a sequence.\n",
    "    \"\"\"\n",
    "    return sum_helper(seq, 0)"
   ]
  },
  {
   "cell_type": "markdown",
   "metadata": {},
   "source": [
    "Recursion is linear, length of `seq` is reduced by $1$ at each call, and each call uses constant time, so $O(n)$ time.\n",
    "\n",
    "The accumulator needs $O(n)$ extra space besides `seq`."
   ]
  },
  {
   "cell_type": "code",
   "execution_count": 18,
   "metadata": {},
   "outputs": [
    {
     "data": {
      "text/plain": [
       "15"
      ]
     },
     "execution_count": 18,
     "metadata": {},
     "output_type": "execute_result"
    }
   ],
   "source": [
    "seq = [1,2,3,4,5]\n",
    "sum(seq)"
   ]
  },
  {
   "cell_type": "code",
   "execution_count": 19,
   "metadata": {},
   "outputs": [],
   "source": [
    "def linear_sum(seq, n):\n",
    "    \"\"\"\n",
    "    Sum the first n elements in seq.\n",
    "    \"\"\"\n",
    "    if n == 0:\n",
    "        return 0\n",
    "    else:\n",
    "        return linear_sum(seq, n-1) + seq[n-1]"
   ]
  },
  {
   "cell_type": "markdown",
   "metadata": {},
   "source": [
    "Recursion is linear, $n$ is reduced by constant $1$ at each call, and each call uses constant time, so $O(n)$ time.\n",
    "\n",
    "Constant extra space at each call, and there are $n$ calls, so $O(n)$ extra space."
   ]
  },
  {
   "cell_type": "code",
   "execution_count": 20,
   "metadata": {},
   "outputs": [
    {
     "data": {
      "text/plain": [
       "15"
      ]
     },
     "execution_count": 20,
     "metadata": {},
     "output_type": "execute_result"
    }
   ],
   "source": [
    "seq = [1,2,3,4,5]\n",
    "linear_sum(seq, 5)"
   ]
  },
  {
   "cell_type": "code",
   "execution_count": 21,
   "metadata": {},
   "outputs": [],
   "source": [
    "# translated from OCaml\n",
    "def reverse_helper(seq, acc):\n",
    "    if len(seq) == 0:\n",
    "        return acc\n",
    "    else:\n",
    "        h = seq.pop(0)\n",
    "        return reverse_helper(seq, [h] + acc)\n",
    "\n",
    "def reverse(seq):\n",
    "    \"\"\"\n",
    "    Reverse a sequence.\n",
    "    \"\"\"\n",
    "    return reverse_helper(seq, [])"
   ]
  },
  {
   "cell_type": "markdown",
   "metadata": {},
   "source": [
    "Recursion is linear, length of `seq` is reduced by constant $1$ at each call, and each call uses constant time, so $O(n)$ time.\n",
    "\n",
    "The accumulator needs $O(n)$ extra space."
   ]
  },
  {
   "cell_type": "code",
   "execution_count": 22,
   "metadata": {},
   "outputs": [
    {
     "data": {
      "text/plain": [
       "[5, 4, 3, 2, 1]"
      ]
     },
     "execution_count": 22,
     "metadata": {},
     "output_type": "execute_result"
    }
   ],
   "source": [
    "seq = [1,2,3,4,5]\n",
    "reverse(seq)"
   ]
  },
  {
   "cell_type": "code",
   "execution_count": 23,
   "metadata": {},
   "outputs": [],
   "source": [
    "def linear_reverse(seq, start, stop):\n",
    "    \"\"\"\n",
    "    Reverse a list in place.\n",
    "    \"\"\"\n",
    "    if start == stop:\n",
    "        return []\n",
    "    else:\n",
    "        if start < stop - 1: # at least 2 elements, otherwise don't need to do any thing\n",
    "            seq[start], seq[stop-1] = seq[stop-1], seq[start]\n",
    "            linear_reverse(seq, start+1, stop-1)"
   ]
  },
  {
   "cell_type": "markdown",
   "metadata": {},
   "source": [
    "Recursion is linear, `stop-start` is reduced by constant $2$ at each call, and each call uses constant time, so $O(n)$ time.\n",
    "\n",
    "$O(1)$ extra space since the reversal is in place."
   ]
  },
  {
   "cell_type": "code",
   "execution_count": 24,
   "metadata": {},
   "outputs": [
    {
     "data": {
      "text/plain": [
       "[5, 4, 3, 2, 1]"
      ]
     },
     "execution_count": 24,
     "metadata": {},
     "output_type": "execute_result"
    }
   ],
   "source": [
    "seq = [1,2,3,4,5]\n",
    "linear_reverse(seq, 0, 5)\n",
    "seq"
   ]
  },
  {
   "cell_type": "code",
   "execution_count": 25,
   "metadata": {},
   "outputs": [],
   "source": [
    "def power(x, n):\n",
    "    \"\"\"Compute x^n.\"\"\"\n",
    "    if n == 0:\n",
    "        return 1\n",
    "    else:\n",
    "        return x * power(x, n-1)"
   ]
  },
  {
   "cell_type": "markdown",
   "metadata": {},
   "source": [
    "Recursion is linear, $n$ is reduced by constant $1$ at each call, and each call uses constant time, so $O(n)$ time.\n",
    "\n",
    "Depth of recursive calls is $n$, so $O(n)$ space."
   ]
  },
  {
   "cell_type": "code",
   "execution_count": 26,
   "metadata": {},
   "outputs": [
    {
     "name": "stdout",
     "output_type": "stream",
     "text": [
      "3000\n"
     ]
    }
   ],
   "source": [
    "import sys\n",
    "print(sys.getrecursionlimit()) # perhaps 1000 is typical\n",
    "sys.setrecursionlimit(1000000) # change to allow 1 million nested calls"
   ]
  },
  {
   "cell_type": "code",
   "execution_count": 27,
   "metadata": {},
   "outputs": [
    {
     "name": "stdout",
     "output_type": "stream",
     "text": [
      "--- 0.00099945068359375 seconds ---\n"
     ]
    }
   ],
   "source": [
    "import time\n",
    "start_time = time.time()\n",
    "power(2, 10**3)\n",
    "print(\"--- %s seconds ---\" % (time.time() - start_time))"
   ]
  },
  {
   "cell_type": "code",
   "execution_count": 28,
   "metadata": {},
   "outputs": [],
   "source": [
    "def fast_power(x, n): # O(log n) because recursion is linear and n is halved at each call\n",
    "    if n == 0:\n",
    "        return 1\n",
    "    else:\n",
    "        temp = fast_power(x, n//2)\n",
    "        if n % 2 == 0: # n is even\n",
    "            return temp ** 2\n",
    "        else:\n",
    "            return x * temp ** 2"
   ]
  },
  {
   "cell_type": "markdown",
   "metadata": {},
   "source": [
    "Recursion is linear, $n$ is halved at each call, and each call uses constant time, so $O(\\log n)$ time ($O(\\log n)$ recursive calls).\n",
    "\n",
    "Depth of recursive call is $O(\\log n)$, so $O(\\log n)$ space."
   ]
  },
  {
   "cell_type": "code",
   "execution_count": 29,
   "metadata": {},
   "outputs": [
    {
     "name": "stdout",
     "output_type": "stream",
     "text": [
      "--- 0.0 seconds ---\n"
     ]
    }
   ],
   "source": [
    "import time\n",
    "start_time = time.time()\n",
    "fast_power(2, 10**3)\n",
    "print(\"--- %s seconds ---\" % (time.time() - start_time))"
   ]
  },
  {
   "cell_type": "markdown",
   "metadata": {},
   "source": [
    "### Binary recursion\n",
    "\n",
    "One recursive call invokes two other recursive calls.\n",
    "\n",
    "E.g., `slow_fib()`, drawing ruler."
   ]
  },
  {
   "cell_type": "code",
   "execution_count": 30,
   "metadata": {},
   "outputs": [],
   "source": [
    "def binary_sum(seq, start, stop):\n",
    "    if start >= stop:\n",
    "        return 0\n",
    "    elif start == stop - 1:\n",
    "        return seq[start]\n",
    "    else:\n",
    "        mid = (start + stop) // 2\n",
    "        return binary_sum(seq, start, mid) + binary_sum(seq, mid, stop)"
   ]
  },
  {
   "cell_type": "markdown",
   "metadata": {},
   "source": [
    "Recursion is binary (two branches from each node), but range is halved each time (depth of tree is $\\log n$), and each call uses constant time, so $O(n)$ time ($\\underbrace{1+2+\\cdots+n}_{\\log n}=\\sum_{i=0}^{\\log n}2^i = 2^{\\log n+1} - 1 =2n-1$).\n",
    "\n",
    "Depth of recursive call stack is $O(\\log n)$, so needs $O(\\log n)$ extra space.\n",
    "\n",
    "Note: recursive calls at the same depth are not stored simultaneously but sequentially, see [here](https://stackoverflow.com/questions/32426732/how-does-binary-sum-use-olog-n-space), so space complexity only has to do with the depth of the call stack."
   ]
  },
  {
   "cell_type": "code",
   "execution_count": 31,
   "metadata": {},
   "outputs": [
    {
     "data": {
      "text/plain": [
       "15"
      ]
     },
     "execution_count": 31,
     "metadata": {},
     "output_type": "execute_result"
    }
   ],
   "source": [
    "seq = [1,2,3,4,5]\n",
    "binary_sum(seq, 0, 5)"
   ]
  },
  {
   "cell_type": "markdown",
   "metadata": {},
   "source": [
    "### Multiple recursion\n",
    "\n",
    "One recursive call invokes three or more recursive calls.\n",
    "\n",
    "E.g., computing disk usage in file system."
   ]
  },
  {
   "cell_type": "code",
   "execution_count": 37,
   "metadata": {},
   "outputs": [],
   "source": [
    "def permutation(seq):\n",
    "    \"\"\"Return a list of all permutations of seq.\"\"\"\n",
    "    if len(seq) <= 1:\n",
    "        return [seq]\n",
    "    else:\n",
    "        result = []\n",
    "        n = len(seq)\n",
    "        for i in range(n):\n",
    "            fixed = seq[i] # select element to fix\n",
    "            seq1 = seq[0:i] + seq[i+1:n] # permute the remaining unfixed elements\n",
    "            result += [[fixed] + perm for perm in permutation(seq1)] # append the fixed element to the resulting partial permutations\n",
    "        return result"
   ]
  },
  {
   "cell_type": "code",
   "execution_count": 38,
   "metadata": {},
   "outputs": [
    {
     "data": {
      "text/plain": [
       "[[1, 2, 3], [1, 3, 2], [2, 1, 3], [2, 3, 1], [3, 1, 2], [3, 2, 1]]"
      ]
     },
     "execution_count": 38,
     "metadata": {},
     "output_type": "execute_result"
    }
   ],
   "source": [
    "seq = [1,2,3]\n",
    "permutation(seq)"
   ]
  },
  {
   "cell_type": "code",
   "execution_count": 72,
   "metadata": {},
   "outputs": [],
   "source": [
    "def k_perm(seq, k):\n",
    "    \"\"\"Return a list of all k-element permutations of elements in seq.\"\"\"\n",
    "    assert len(seq) >= k\n",
    "    if k == 0:\n",
    "        return []\n",
    "    elif k == 1:\n",
    "        return [[x] for x in seq]\n",
    "    else:\n",
    "        result = []\n",
    "        n = len(seq)\n",
    "        for i in range(n):\n",
    "            fixed = seq[i] # element to fix\n",
    "            seq1 = seq[0:i] + seq[i+1:n]\n",
    "            result += [[fixed] + perm for perm in k_perm(seq1, k-1)]\n",
    "        return result"
   ]
  },
  {
   "cell_type": "code",
   "execution_count": 73,
   "metadata": {},
   "outputs": [
    {
     "data": {
      "text/plain": [
       "[[1, 2],\n",
       " [1, 3],\n",
       " [1, 4],\n",
       " [2, 1],\n",
       " [2, 3],\n",
       " [2, 4],\n",
       " [3, 1],\n",
       " [3, 2],\n",
       " [3, 4],\n",
       " [4, 1],\n",
       " [4, 2],\n",
       " [4, 3]]"
      ]
     },
     "execution_count": 73,
     "metadata": {},
     "output_type": "execute_result"
    }
   ],
   "source": [
    "seq = [1,2,3,4]\n",
    "k_perm(seq,2)"
   ]
  },
  {
   "cell_type": "code",
   "execution_count": 84,
   "metadata": {},
   "outputs": [],
   "source": [
    "def k_comb(seq, k):\n",
    "    \"\"\"Return a list of all k-element combinations of elements in seq.\"\"\"\n",
    "    assert len(seq) >= k\n",
    "    if k == 0:\n",
    "        return []\n",
    "    elif k == 1:\n",
    "        return [[x] for x in seq]\n",
    "    else:\n",
    "        result = []\n",
    "        n = len(seq)\n",
    "        for i in range(n):\n",
    "            fixed = seq[i] # element to fix\n",
    "            seq1 = seq[0:i] + seq[i+1:n]\n",
    "#             new = [set([fixed] + comb) for comb in k_comb(seq1, k-1)]\n",
    "#             result += list(filter(lambda x: set(x) not in result, new))\n",
    "            for comb in k_comb(seq1, k-1):\n",
    "                x = set([fixed] + comb)\n",
    "                if x not in result:\n",
    "                    result += [x]\n",
    "        return result"
   ]
  },
  {
   "cell_type": "code",
   "execution_count": 85,
   "metadata": {},
   "outputs": [
    {
     "data": {
      "text/plain": [
       "[{1, 2}, {1, 3}, {1, 4}, {2, 3}, {2, 4}, {3, 4}]"
      ]
     },
     "execution_count": 85,
     "metadata": {},
     "output_type": "execute_result"
    }
   ],
   "source": [
    "seq = [1,2,3,4]\n",
    "k_comb(seq,2)"
   ]
  },
  {
   "cell_type": "code",
   "execution_count": 54,
   "metadata": {},
   "outputs": [],
   "source": [
    "def solve_puzzle_k_perm(k, S, U):\n",
    "    \"\"\"Print all k-element permutations of elements in U.\"\"\"\n",
    "    for i in range(len(U)):\n",
    "        e = U[i]\n",
    "        S.append(e)\n",
    "        if k == 1:\n",
    "            print(S)\n",
    "        else:\n",
    "            solve_puzzle_k_perm(k-1, S, U[0:i] + U[i+1:len(U)])\n",
    "        S.pop(len(S)-1)"
   ]
  },
  {
   "cell_type": "code",
   "execution_count": 55,
   "metadata": {},
   "outputs": [
    {
     "name": "stdout",
     "output_type": "stream",
     "text": [
      "[1, 2, 3]\n",
      "[1, 2, 4]\n",
      "[1, 3, 2]\n",
      "[1, 3, 4]\n",
      "[1, 4, 2]\n",
      "[1, 4, 3]\n",
      "[2, 1, 3]\n",
      "[2, 1, 4]\n",
      "[2, 3, 1]\n",
      "[2, 3, 4]\n",
      "[2, 4, 1]\n",
      "[2, 4, 3]\n",
      "[3, 1, 2]\n",
      "[3, 1, 4]\n",
      "[3, 2, 1]\n",
      "[3, 2, 4]\n",
      "[3, 4, 1]\n",
      "[3, 4, 2]\n",
      "[4, 1, 2]\n",
      "[4, 1, 3]\n",
      "[4, 2, 1]\n",
      "[4, 2, 3]\n",
      "[4, 3, 1]\n",
      "[4, 3, 2]\n"
     ]
    }
   ],
   "source": [
    "U = [1,2,3,4]\n",
    "solve_puzzle_k_perm(3, [], U)"
   ]
  },
  {
   "cell_type": "markdown",
   "metadata": {},
   "source": [
    "## Tail recursion\n",
    "\n",
    "Must be linear.\n",
    "\n",
    "`binary_search_helper` is tail-recursive because the recursive call `binary_search_helper` is the last operation.\n",
    "```python\n",
    "def binary_search_helper(seq, target, low, high):\n",
    "    if high < low:\n",
    "        return None\n",
    "    mid = (low+high)//2\n",
    "    if seq[mid] == target: # check mid\n",
    "        return mid\n",
    "    elif seq[mid] > target:\n",
    "        # recurse on the part left of mid (no need to include mid becos it's alrd checked)\n",
    "        # in fact, cannot include mid, otherwise it will cause infinite recursion\n",
    "        return binary_search_helper(seq, target, low, mid-1)\n",
    "    else:\n",
    "        # recurse on the part right of mid\n",
    "        return binary_search_helper(seq, target, mid+1, high)\n",
    "```\n",
    "\n",
    "`linear_reverse` is tail-recursive because the recursive call `linear_reverse` is the last operation.\n",
    "```python\n",
    "def linear_reverse(seq, start, stop):\n",
    "    \"\"\"\n",
    "    Reverse a list in place.\n",
    "    \"\"\"\n",
    "    if start == stop:\n",
    "        return []\n",
    "    else:\n",
    "        if start < stop - 1: # at least 2 elements, otherwise don't need to do any thing\n",
    "            seq[start], seq[stop-1] = seq[stop-1], seq[start]\n",
    "            linear_reverse(seq, start+1, stop-1)\n",
    "```\n",
    "\n",
    "`factorial` is not tail_recursive because the recursive call `factorial` is not the last operation, still have multiplication by `n`.\n",
    "```python\n",
    "def factorial(n):\n",
    "    if n == 1:\n",
    "        return 1\n",
    "    else:\n",
    "        return n * factorial(n-1)\n",
    "```\n",
    "Any tail-recursive algorithm can be rewritten as iterative:"
   ]
  },
  {
   "cell_type": "code",
   "execution_count": null,
   "metadata": {},
   "outputs": [],
   "source": [
    "def binary_search_helper(seq, target, low, high):\n",
    "    if high < low:\n",
    "        return None\n",
    "    mid = (low+high)//2\n",
    "    if seq[mid] == target: # check mid\n",
    "        return mid\n",
    "    elif seq[mid] > target:\n",
    "        # recurse on the part left of mid\n",
    "        return binary_search_helper(seq, target, low, mid-1)\n",
    "    else:\n",
    "        # recurse on the part right of mid\n",
    "        return binary_search_helper(seq, target, mid+1, high)\n",
    "\n",
    "def binary_search(seq, target):\n",
    "    return binary_search_helper(seq, target, 0, len(seq))"
   ]
  },
  {
   "cell_type": "code",
   "execution_count": 7,
   "metadata": {},
   "outputs": [],
   "source": [
    "def binary_search_iterative(seq, target):\n",
    "    low = 0\n",
    "    high = len(seq) - 1\n",
    "    while low <= high:\n",
    "        mid = (low+high)//2\n",
    "        if seq[mid] == target: # check mid\n",
    "            return mid\n",
    "        elif seq[mid] > target:\n",
    "            high = mid - 1 # recurse on the part left of mid\n",
    "        else:\n",
    "            low = mid + 1 # recurse on the part right of mid"
   ]
  },
  {
   "cell_type": "code",
   "execution_count": 8,
   "metadata": {},
   "outputs": [
    {
     "data": {
      "text/plain": [
       "2"
      ]
     },
     "execution_count": 8,
     "metadata": {},
     "output_type": "execute_result"
    }
   ],
   "source": [
    "seq = [1,2,3,4,5]\n",
    "binary_search_iterative(seq, 3)"
   ]
  },
  {
   "cell_type": "code",
   "execution_count": null,
   "metadata": {},
   "outputs": [],
   "source": [
    "def linear_reverse(seq, start, stop):\n",
    "    \"\"\"\n",
    "    Reverse a list in place.\n",
    "    \"\"\"\n",
    "    if start == stop:\n",
    "        return []\n",
    "    else:\n",
    "        if start < stop - 1: # at least 2 elements, otherwise don't need to do any thing\n",
    "            seq[start], seq[stop-1] = seq[stop-1], seq[start]\n",
    "            linear_reverse(seq, start+1, stop-1)"
   ]
  },
  {
   "cell_type": "code",
   "execution_count": 11,
   "metadata": {},
   "outputs": [],
   "source": [
    "def linear_reverse_iterative(seq):\n",
    "    start = 0\n",
    "    stop = len(seq)\n",
    "    while start < stop - 1:\n",
    "        seq[start], seq[stop-1] = seq[stop-1], seq[start]\n",
    "        start += 1\n",
    "        stop -= 1"
   ]
  },
  {
   "cell_type": "code",
   "execution_count": 12,
   "metadata": {},
   "outputs": [
    {
     "data": {
      "text/plain": [
       "[5, 4, 3, 2, 1]"
      ]
     },
     "execution_count": 12,
     "metadata": {},
     "output_type": "execute_result"
    }
   ],
   "source": [
    "seq = [1,2,3,4,5]\n",
    "linear_reverse_iterative(seq)\n",
    "seq"
   ]
  },
  {
   "cell_type": "markdown",
   "metadata": {},
   "source": [
    "## Exercises\n",
    "\n",
    "### Reinforcement\n",
    "\n",
    "**R-4.1** Describe a recursive algorithm for finding the maximum element in a sequence, $S$, of $n$ elements. What is your running time and space usage?\n",
    "\n",
    "Recursion is linear, and length of `seq` is reduced by `1` at each call, so $O(n)$ time. \n",
    "\n",
    "Constant extra space at each call, and there are $n$ recursive calls in the stack, so $O(n)$ space."
   ]
  },
  {
   "cell_type": "code",
   "execution_count": 21,
   "metadata": {},
   "outputs": [],
   "source": [
    "def find_max_helper(seq, cand):\n",
    "    if seq == []:\n",
    "        return cand\n",
    "    else:\n",
    "        head = seq[0]\n",
    "        return find_max_helper(seq[1:len(seq)], max(head, cand))\n",
    "\n",
    "def find_max(seq):\n",
    "    return find_max_helper(seq, seq[0])"
   ]
  },
  {
   "cell_type": "code",
   "execution_count": 22,
   "metadata": {},
   "outputs": [
    {
     "data": {
      "text/plain": [
       "10"
      ]
     },
     "execution_count": 22,
     "metadata": {},
     "output_type": "execute_result"
    }
   ],
   "source": [
    "seq = [1,3,4,5,-1,10,2]\n",
    "find_max(seq)"
   ]
  },
  {
   "cell_type": "code",
   "execution_count": 23,
   "metadata": {},
   "outputs": [
    {
     "data": {
      "text/plain": [
       "True"
      ]
     },
     "execution_count": 23,
     "metadata": {},
     "output_type": "execute_result"
    }
   ],
   "source": [
    "def random_list(n):\n",
    "    result = [0] * n\n",
    "    for i in range(n):\n",
    "        result[i] = random.randint(-1000000, 1000000)\n",
    "    return result\n",
    "\n",
    "def test():\n",
    "    for i in range(50):\n",
    "        seq = random_list(100)\n",
    "        assert find_max(seq) == max(seq)\n",
    "    return True\n",
    "\n",
    "test()"
   ]
  },
  {
   "cell_type": "markdown",
   "metadata": {},
   "source": [
    "**R-4.2** Draw the recursion trace for the computation of `power(2,5)`, using the\n",
    "traditional function implemented in Code Fragment 4.11.\n",
    "\n",
    "```python\n",
    "def power(x, n):\n",
    "    \"\"\"Compute x^n.\"\"\"\n",
    "    if n == 0:\n",
    "        return 1\n",
    "    else:\n",
    "        return x * power(x, n-1)\n",
    "```\n",
    "\n",
    "```\n",
    "power(2, 5)\n",
    "==> 2 * power(2, 4)\n",
    "==> 2 * (2 * power(2, 3))\n",
    "==> 2 * (2 * (2 * power(2, 2)))\n",
    "==> 2 * (2 * (2 * (2 * power(2, 1))))\n",
    "==> 2 * (2 * (2 * (2 * (2 * power(2, 0)))))\n",
    "==> 2 * (2 * (2 * (2 * (2 * 1))))\n",
    "==> 2 * (2 * (2 * (2 * 2)))\n",
    "==> 2 * (2 * (2 * 4))\n",
    "==> 2 * (2 * 8)\n",
    "==> 2 * 16\n",
    "==> 32\n",
    "```"
   ]
  },
  {
   "cell_type": "markdown",
   "metadata": {},
   "source": [
    "**R-4.3** Draw the recursion trace for the computation of `power(2,18)`, using the\n",
    "repeated squaring algorithm, as implemented in Code Fragment 4.12.\n",
    "\n",
    "```python\n",
    "def power(x, n): # O(log n) because recursion is linear and n is halved at each call\n",
    "    if n == 0:\n",
    "        return 1\n",
    "    else:\n",
    "        temp = power(x, n//2)\n",
    "        if n % 2 == 0: # n is even\n",
    "            return temp ** 2\n",
    "        else:\n",
    "            return x * temp ** 2\n",
    "```\n",
    "\n",
    "```\n",
    "power(2, 18)\n",
    "==> power(2, 9) * power(2, 9)\n",
    "==> (2 * power(2, 4) * power(2, 4)) * (2 * power(2, 4) * power(2, 4))\n",
    "==> (2 * (power(2, 2) * power(2, 2)) * (power(2, 2) * power(2, 2))) * \n",
    "    (2 * (power(2, 2) * power(2, 2)) * (power(2, 2) * power(2, 2)))\n",
    "==> (2 * ((power(2, 1) * power(2, 1)) * ((power(2, 1) * power(2, 1))) * \n",
    "        (((power(2, 1) * power(2, 1)) * ((power(2, 1) * power(2, 1)))) * \n",
    "    (2 * ((power(2, 1) * power(2, 1)) * ((power(2, 1) * power(2, 1))) * \n",
    "        (((power(2, 1) * power(2, 1)) * ((power(2, 1) * power(2, 1))))\n",
    "==> (2 * (((2 * power(2, 0)) * (2 * power(2, 0))) * (((2 * power(2, 0)) * (2 * power(2, 0)))) * \n",
    "        ((((2 * power(2, 0)) * (2 * power(2, 0))) * (((2 * power(2, 0)) * (2 * power(2, 0))))) * \n",
    "    (2 * (((2 * power(2, 0)) * (2 * power(2, 0))) * (((2 * power(2, 0)) * (2 * power(2, 0)))) * \n",
    "        ((((2 * power(2, 0)) * (2 * power(2, 0))) * (((2 * power(2, 0)) * (2 * power(2, 0)))))\n",
    "==> (2 * (((2 * 1) * (2 * 1)) * (((2 * 1) * (2 * 1))) * ((((2 * 1) * (2 * 1)) * (((2 * 1) * (2 * 1)))) * \n",
    "    (2 * (((2 * 1) * (2 * 1)) * (((2 * 1) * (2 * 1))) * ((((2 * 1) * (2 * 1)) * (((2 * 1) * (2 * 1))))\n",
    "==> (2 * ((2 * 2) * ((2 * 2)) * (((2 * 2) * ((2 * 2))) * \n",
    "    (2 * ((2 * 2) * ((2 * 2)) * (((2 * 2) * ((2 * 2)))\n",
    "==> (2 * (4 * 4) * (4 * 4)) * \n",
    "    (2 * (4 * 4) * (4 * 4))\n",
    "==> (2 * 16 * 16) * (2 * 16 * 16)\n",
    "==> 512 * 512\n",
    "==> 262144\n",
    "```"
   ]
  },
  {
   "cell_type": "markdown",
   "metadata": {},
   "source": [
    "**R-4.4** Draw the recursion trace for the execution of function `reverse(S, 0, 5)`\n",
    "(Code Fragment 4.10) on `S = [4, 3, 6, 2, 6]`.\n",
    "\n",
    "```python\n",
    "def reverse(seq, start, stop):\n",
    "    \"\"\"\n",
    "    Reverse a list in place.\n",
    "    \"\"\"\n",
    "    if start == stop:\n",
    "        return []\n",
    "    else:\n",
    "        if start < stop - 1: # at least 2 elements, otherwise don't need to do any thing\n",
    "            seq[start], seq[stop-1] = seq[stop-1], seq[start]\n",
    "            reverse(seq, start+1, stop-1)\n",
    "```\n",
    "\n",
    "```\n",
    "reverse([4, 3, 6, 2, 6], 0, 5)\n",
    "==> reverse([6, 3, 6, 2, 4], 1, 4)\n",
    "==> reverse([6, 2, 6, 3, 4], 2, 3)\n",
    "==> None\n",
    "seq becomes [6, 2, 6, 3, 4] as the swapping is in-place\n",
    "```"
   ]
  },
  {
   "cell_type": "markdown",
   "metadata": {},
   "source": [
    "**R-4.5** Draw the recursion trace for the execution of function `PuzzleSolve(3,S,U)`\n",
    "(Code Fragment 4.14), where `S` is empty and `U = {a,b,c,d}`.\n",
    "\n",
    "```\n",
    "PuzzleSolve(3,[],{a,b,c,d})\n",
    "==> PuzzleSolve(2, [a], {b, c, d}), \n",
    "    PuzzleSolve(2, [b], {a, c, d}), \n",
    "    PuzzleSolve(2, [c], {a, b, d}),\n",
    "    PuzzleSolve(2, [d], {a, b, c})\n",
    "==> PuzzleSolve(1, [a, b], {c, d}), PuzzleSolve(1, [a, c], {b, d}), PuzzleSolve(1, [a, d], {b, c}),\n",
    "    PuzzleSolve(1, [b, a], {c, d}), PuzzleSolve(1, [b, c], {a, d}), PuzzleSolve(1, [b, d], {a, c}), \n",
    "    PuzzleSolve(1, [c, a], {b, d}), PuzzleSolve(1, [c, b], {a, d}), PuzzleSolve(1, [c, d], {a, b}),\n",
    "    PuzzleSolve(1, [d, a], {b, c}), PuzzleSolve(1, [d, b], {a, c}), PuzzleSolve(1, [d, c], {a, b})\n",
    "==> print([a,b,c]), print([a,b,d]), print([a,c,b]), print([a,c,d]), print([a,d,b]), print([a,d,c])\n",
    "    print([b,a,c]), print([b,a,d]), print([b,c,a]), print([b,c,d]), print([b,d,a]), print([b,d,c])\n",
    "    print([c,a,b]), print([c,a,d]), print([c,b,a]), print([c,b,d]), print([c,d,a]), print([c,d,b])\n",
    "    print([d,a,b]), print([d,a,c]), print([d,b,a]), print([d,b,c]), print([d,c,a]), print([d,c,b])\n",
    "```"
   ]
  },
  {
   "cell_type": "markdown",
   "metadata": {},
   "source": [
    "**R-4.6** Describe a recursive function for computing the $n$th Harmonic number,\n",
    "$H_n = \\sum_{i=1}^n 1/i$."
   ]
  },
  {
   "cell_type": "code",
   "execution_count": 28,
   "metadata": {},
   "outputs": [],
   "source": [
    "def harmonic(n):\n",
    "    if n == 1:\n",
    "        return 1\n",
    "    else:\n",
    "        return 1/n + harmonic(n-1)"
   ]
  },
  {
   "cell_type": "code",
   "execution_count": 31,
   "metadata": {},
   "outputs": [
    {
     "data": {
      "text/plain": [
       "True"
      ]
     },
     "execution_count": 31,
     "metadata": {},
     "output_type": "execute_result"
    }
   ],
   "source": [
    "def harmonic_iterative(n):\n",
    "    result = 0\n",
    "    for i in range(1,n+1):\n",
    "        result += 1/i\n",
    "    return result\n",
    "\n",
    "def test():\n",
    "    for n in range(1,100):\n",
    "        assert abs(harmonic(n) - harmonic_iterative(n)) <= 1e-05\n",
    "    return True\n",
    "\n",
    "test()"
   ]
  },
  {
   "cell_type": "code",
   "execution_count": 69,
   "metadata": {},
   "outputs": [
    {
     "data": {
      "image/png": "[encoded data removed]",
      "text/plain": [
       "<Figure size 432x288 with 1 Axes>"
      ]
     },
     "metadata": {
      "needs_background": "light"
     },
     "output_type": "display_data"
    }
   ],
   "source": [
    "n = np.arange(1, 10, 1)\n",
    "H_n = [harmonic(i) for i in n]\n",
    "plt.plot(n, H_n, label='H(n)')\n",
    "plt.plot(n, np.log(n), label='log(n)')\n",
    "plt.legend(loc='upper left')\n",
    "plt.show() # H(n) is Theta(log(n))"
   ]
  },
  {
   "cell_type": "markdown",
   "metadata": {},
   "source": [
    "**R-4.7** Describe a recursive function for converting a string of digits into the integer it represents. For example, `13531` represents the integer $13,531$."
   ]
  },
  {
   "cell_type": "code",
   "execution_count": 38,
   "metadata": {},
   "outputs": [],
   "source": [
    "def str_to_int(s):\n",
    "    n = len(s)\n",
    "    if n == 1:\n",
    "        return int(s)\n",
    "    else:\n",
    "        return int(s[0])* 10**(n-1) + str_to_int(s[1:n])"
   ]
  },
  {
   "cell_type": "code",
   "execution_count": 75,
   "metadata": {},
   "outputs": [
    {
     "data": {
      "text/plain": [
       "13531"
      ]
     },
     "execution_count": 75,
     "metadata": {},
     "output_type": "execute_result"
    }
   ],
   "source": [
    "str_to_int('13531')"
   ]
  },
  {
   "cell_type": "code",
   "execution_count": 39,
   "metadata": {},
   "outputs": [
    {
     "data": {
      "text/plain": [
       "True"
      ]
     },
     "execution_count": 39,
     "metadata": {},
     "output_type": "execute_result"
    }
   ],
   "source": [
    "def random_num_string():\n",
    "    n = random.randint(1, 10)\n",
    "    return ''.join([str(random.randint(0,9)) for i in range(n)])\n",
    "\n",
    "def test():\n",
    "    for i in range(100):\n",
    "        s = random_num_string()\n",
    "        assert str_to_int(s) == int(s)\n",
    "    return True\n",
    "\n",
    "test()"
   ]
  },
  {
   "cell_type": "markdown",
   "metadata": {},
   "source": [
    "**R-4.8** Isabel has an interesting way of summing up the values in a sequence $A$ of\n",
    "$n$ integers, where $n$ is a power of two. She creates a new sequence $B$ of half\n",
    "the size of $A$ and sets $B[i] = A[2i]+A[2i+1]$, for $i = 0,1,...,(n/2)−1$. If\n",
    "$B$ has size $1$, then she outputs $B[0]$. Otherwise, she replaces $A$ with $B$, and\n",
    "repeats the process. What is the running time of her algorithm?\n",
    "\n",
    "```\n",
    "sum_seq([1,2,3,4,5,6,7,8])\n",
    "==> sum_seq([3,7,11,15]) 4 summations, 8 accesses to elements in A\n",
    "==> sum_seq([10,26]) 2 summations, 4 accesses to elements in A\n",
    "==> sum_seq([36]) 1 summation, 2 accesses to elements in A\n",
    "==> 36\n",
    "```\n",
    "\n",
    "Recursion is linear, and length of `A` is halved each time, yet the construction of `B` by summing elements two by two in `A` is not constant but $3n/2\\in O(n)$. So in total there are $\\underbrace{1+2+\\cdots+n}_{\\log n}=\\sum_{i=0}^{\\log n}2^i = 2^{\\log n+1} - 1 = 2n-1$ summations, which is $O(n)$. The number of accesses to elements in `A` is also $O(n)$. So $O(n)$ time."
   ]
  },
  {
   "cell_type": "code",
   "execution_count": 4,
   "metadata": {},
   "outputs": [],
   "source": [
    "def sum_seq(A):\n",
    "    n = len(A)\n",
    "    B = [A[2*i] + A[2*i+1] for i in range(n//2)]\n",
    "    if len(B) == 1:\n",
    "        return B[0]\n",
    "    else:\n",
    "        return sum_seq(B)"
   ]
  },
  {
   "cell_type": "code",
   "execution_count": 5,
   "metadata": {
    "scrolled": true
   },
   "outputs": [
    {
     "data": {
      "text/plain": [
       "36"
      ]
     },
     "execution_count": 5,
     "metadata": {},
     "output_type": "execute_result"
    }
   ],
   "source": [
    "A = [1,2,3,4,5,6,7,8]\n",
    "sum_seq(A)"
   ]
  },
  {
   "cell_type": "code",
   "execution_count": 6,
   "metadata": {},
   "outputs": [
    {
     "data": {
      "image/png": "[encoded data removed]",
      "text/plain": [
       "<Figure size 432x288 with 1 Axes>"
      ]
     },
     "metadata": {
      "needs_background": "light"
     },
     "output_type": "display_data"
    }
   ],
   "source": [
    "def random_list(n):\n",
    "    result = [0] * n\n",
    "    for i in range(n):\n",
    "        result[i] = random.randint(-1000000, 1000000)\n",
    "    return result\n",
    "\n",
    "trials = list(range(2**12))\n",
    "num = len(trials)\n",
    "times = [0] * num\n",
    "for i in range(2,num):\n",
    "    n = trials[i]\n",
    "    seq = random_list(n)\n",
    "    start_time = time.time()\n",
    "    sum_seq(seq)\n",
    "    times[i] = time.time() - start_time\n",
    "\n",
    "plt.plot(trials, times, 'o', markersize=1)\n",
    "plt.show()"
   ]
  },
  {
   "cell_type": "markdown",
   "metadata": {},
   "source": [
    "### Creativity\n",
    "\n",
    "**C-4.9** Write a short recursive Python function that finds the minimum and maximum values in a sequence without using any loops."
   ]
  },
  {
   "cell_type": "code",
   "execution_count": 17,
   "metadata": {},
   "outputs": [],
   "source": [
    "def find_min_max_helper(seq, candMin, candMax):\n",
    "    if seq == []:\n",
    "        return (candMin, candMax)\n",
    "    else:\n",
    "        head = seq[0]\n",
    "        return find_min_max_helper(seq[1:len(seq)], min(head, candMin), max(head, candMax))\n",
    "\n",
    "def find_min_max(seq):\n",
    "    return find_min_max_helper(seq, seq[0], seq[0])"
   ]
  },
  {
   "cell_type": "code",
   "execution_count": 18,
   "metadata": {},
   "outputs": [
    {
     "data": {
      "text/plain": [
       "(0, 10)"
      ]
     },
     "execution_count": 18,
     "metadata": {},
     "output_type": "execute_result"
    }
   ],
   "source": [
    "seq = [1,3,2,0,10,4,5]\n",
    "find_min_max(seq)"
   ]
  },
  {
   "cell_type": "code",
   "execution_count": 20,
   "metadata": {},
   "outputs": [
    {
     "data": {
      "text/plain": [
       "True"
      ]
     },
     "execution_count": 20,
     "metadata": {},
     "output_type": "execute_result"
    }
   ],
   "source": [
    "def random_list(n):\n",
    "    result = [0] * n\n",
    "    for i in range(n):\n",
    "        result[i] = random.randint(-1000000, 1000000)\n",
    "    return result\n",
    "\n",
    "def test():\n",
    "    for i in range(50):\n",
    "        seq = random_list(100)\n",
    "        assert find_min_max(seq) == (min(seq), max(seq))\n",
    "    return True\n",
    "\n",
    "test()"
   ]
  }
 ],
 "metadata": {
  "kernelspec": {
   "display_name": "Python 3",
   "language": "python",
   "name": "python3"
  },
  "language_info": {
   "codemirror_mode": {
    "name": "ipython",
    "version": 3
   },
   "file_extension": ".py",
   "mimetype": "text/x-python",
   "name": "python",
   "nbconvert_exporter": "python",
   "pygments_lexer": "ipython3",
   "version": "3.7.3"
  },
  "toc": {
   "base_numbering": 1,
   "nav_menu": {},
   "number_sections": true,
   "sideBar": true,
   "skip_h1_title": false,
   "title_cell": "Table of Contents",
   "title_sidebar": "Contents",
   "toc_cell": false,
   "toc_position": {
    "height": "calc(100% - 180px)",
    "left": "10px",
    "top": "150px",
    "width": "164.977px"
   },
   "toc_section_display": true,
   "toc_window_display": true
  }
 },
 "nbformat": 4,
 "nbformat_minor": 2
}
