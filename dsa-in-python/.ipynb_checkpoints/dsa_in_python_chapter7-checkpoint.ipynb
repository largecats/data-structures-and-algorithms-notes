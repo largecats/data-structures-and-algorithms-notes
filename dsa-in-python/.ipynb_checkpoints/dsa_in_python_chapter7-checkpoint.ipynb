{
 "cells": [
  {
   "cell_type": "markdown",
   "metadata": {},
   "source": [
    "Reading notes and partial solutions to [Data Structures and Algorithms in Python](https://blackwells.co.uk/bookshop/product/9781118290279?gC=f177369a3b&gclid=Cj0KCQjwhJrqBRDZARIsALhp1WTBIyoxeQGXedlVy80vsglvFbNkVf7jTP0Z0zXEIP87lfqbtb4_diYaAr8dEALw_wcB)."
   ]
  },
  {
   "cell_type": "code",
   "execution_count": 1,
   "metadata": {},
   "outputs": [],
   "source": [
    "import random\n",
    "from matplotlib import pyplot as plt\n",
    "%matplotlib inline\n",
    "import math\n",
    "from datetime import datetime\n",
    "import time\n",
    "import numpy as np"
   ]
  },
  {
   "cell_type": "markdown",
   "metadata": {},
   "source": [
    "## Linked Lists\n",
    "\n",
    "### Singly Linked Lists"
   ]
  },
  {
   "cell_type": "code",
   "execution_count": 15,
   "metadata": {},
   "outputs": [],
   "source": [
    "class LinkedStack:\n",
    "    \n",
    "    class _Node:\n",
    "        # to avoid auxiliary namespace dictionary\n",
    "        # because there may be many nodes in a linked list\n",
    "        __slots__ = '_element', '_next'\n",
    "\n",
    "        def __init__(self, element, next):\n",
    "            self._element = element\n",
    "            self._next = next\n",
    "    \n",
    "    def __init__(self):\n",
    "        self._head = None\n",
    "        self._size = 0\n",
    "    \n",
    "    def __len__(self):\n",
    "        return self._size\n",
    "    \n",
    "    def is_empty(self):\n",
    "        return self._size == 0\n",
    "    \n",
    "    def push(self, e):\n",
    "        self._head = self._Node(e, self._head)\n",
    "        self._size += 1\n",
    "    \n",
    "    def top(self):\n",
    "        if self.is_empty():\n",
    "            raise Exception('Stack is empty')\n",
    "        return self._head._element\n",
    "    \n",
    "    def pop(self):\n",
    "        if self.is_empty():\n",
    "            raise Exception('Stack is empty')\n",
    "        result = self._head._element\n",
    "        self._head = self._head._next\n",
    "        self._size -= 1\n",
    "        return result"
   ]
  },
  {
   "cell_type": "code",
   "execution_count": 3,
   "metadata": {},
   "outputs": [
    {
     "data": {
      "text/plain": [
       "3"
      ]
     },
     "execution_count": 3,
     "metadata": {},
     "output_type": "execute_result"
    }
   ],
   "source": [
    "S = LinkedStack()\n",
    "for i in [1,2,3]:\n",
    "    S.push(i)\n",
    "S.pop()"
   ]
  },
  {
   "cell_type": "code",
   "execution_count": null,
   "metadata": {},
   "outputs": [],
   "source": [
    "class LinkedQueue:\n",
    "    \n",
    "    class _Node:\n",
    "        # to avoid auxiliary namespace dictionary\n",
    "        # because there may be many nodes in a linked list\n",
    "        __slots__ = '_element', '_next'\n",
    "\n",
    "        def __init__(self, element, next):\n",
    "            self._element = element\n",
    "            self._next = next\n",
    "    \n",
    "    def __init__(self):\n",
    "        self._head = None\n",
    "        eslf._tail = None\n",
    "        self._size = 0\n",
    "    \n",
    "    def __len__(self):\n",
    "        return self._size\n",
    "    \n",
    "    def is_empty(self):\n",
    "        return self._size == 0\n",
    "    \n",
    "    def first(self):\n",
    "        if self.is_empty():\n",
    "            raise Empty('Queue is empty')\n",
    "        return self._head._element\n",
    "    \n",
    "    def dequeue(self):\n",
    "        if self.is_empty():\n",
    "            raise Empty('Queue is empty')\n",
    "        result = self._head._element\n",
    "        self._head = self._head._next\n",
    "        self._size -= 1\n",
    "        if self.is_empty(): # if queue is now empty\n",
    "            self._tail = None\n",
    "        return result\n",
    "    \n",
    "    def enqueue(self, e):\n",
    "        new = self._Node(e, self._head)\n",
    "        if self.is_empty():\n",
    "            self._head = new\n",
    "        else:\n",
    "            self._tail._next = new\n",
    "        self._tail = new\n",
    "        self._size += 1"
   ]
  },
  {
   "cell_type": "markdown",
   "metadata": {},
   "source": [
    "### Circularly Linked Lists"
   ]
  },
  {
   "cell_type": "code",
   "execution_count": 22,
   "metadata": {},
   "outputs": [],
   "source": [
    "class CircularQueue:\n",
    "    \n",
    "    class _Node:\n",
    "        # to avoid auxiliary namespace dictionary\n",
    "        # because there may be many nodes in a linked list\n",
    "        __slots__ = '_element', '_next'\n",
    "\n",
    "        def __init__(self, element, next):\n",
    "            self._element = element\n",
    "            self._next = next\n",
    "    \n",
    "    def __init__(self):\n",
    "        self._tail = None\n",
    "        self._size = 0\n",
    "    \n",
    "    def __len__(self):\n",
    "        return self._size\n",
    "    \n",
    "    def is_empty(self):\n",
    "        return self._size == 0\n",
    "    \n",
    "    def first(self):\n",
    "        if self.is_empty():\n",
    "            raise Exception('Queue is empty')\n",
    "        head = self._tail._next\n",
    "        return head._element\n",
    "    \n",
    "    def dequeue(self):\n",
    "        if self.is_empty():\n",
    "            raise Exception('Queue is empty')\n",
    "        head = self._tail._next\n",
    "        if self._size == 1:\n",
    "            self._tail = None\n",
    "        else:\n",
    "            self._tail._next = head._next\n",
    "        self._size -= 1\n",
    "        return head._element\n",
    "    \n",
    "    def enqueue(self, e):\n",
    "        new = self._Node(e, None)\n",
    "        if self.is_empty():\n",
    "            new._next = new\n",
    "        else:\n",
    "            new._next = self._tail._next\n",
    "            self._tail._next = new\n",
    "        self._tail = new\n",
    "        self._size += 1\n",
    "    \n",
    "    def rotate(self):\n",
    "        if self._size > 0:\n",
    "            self._tail = self._tail._next"
   ]
  },
  {
   "cell_type": "code",
   "execution_count": 24,
   "metadata": {},
   "outputs": [
    {
     "name": "stdout",
     "output_type": "stream",
     "text": [
      "2\n"
     ]
    }
   ],
   "source": [
    "q = CircularQueue()\n",
    "for i in [1,2,3]:\n",
    "    q.enqueue(i)\n",
    "q.rotate()\n",
    "print(q.first())"
   ]
  },
  {
   "cell_type": "markdown",
   "metadata": {},
   "source": [
    "### Doubly Linked Lists"
   ]
  },
  {
   "cell_type": "code",
   "execution_count": 1,
   "metadata": {},
   "outputs": [],
   "source": [
    "class _DoublyLinkedBase:\n",
    "    \n",
    "    class _Node:\n",
    "        \n",
    "        __slots__ = '_element', '_prev', '_next'\n",
    "        \n",
    "        def __init__(self, element, prev, next):\n",
    "            self._element = element\n",
    "            self._prev = prev\n",
    "            self._next = next\n",
    "    \n",
    "        def __init__(self):\n",
    "            self._header = self._Node(None, None, None)\n",
    "            self._trailer = self._Node(None, None, None)\n",
    "            self._header._next = self._trailer\n",
    "            self._trailer._prev = self._header\n",
    "            self._size = 0\n",
    "        \n",
    "        def __len__(self):\n",
    "            return self._size\n",
    "        \n",
    "        def is_empty(self):\n",
    "            return self._size == 0\n",
    "        \n",
    "        def _insert_between(self, e, predecessor, successor):\n",
    "            new = self._Node(e, predecessor, successor)\n",
    "            predecessor._next = new\n",
    "            successor._prev = new\n",
    "            self._size += 1\n",
    "            return new\n",
    "        \n",
    "        def _delete_node(self, node):\n",
    "            node._prev._next = node._next\n",
    "            node._next._prev = node._prev\n",
    "            self._size -= 1\n",
    "            element = node._element\n",
    "            node._prev = node._next = node_element = None\n",
    "            return element"
   ]
  },
  {
   "cell_type": "markdown",
   "metadata": {},
   "source": [
    "#### Deque"
   ]
  },
  {
   "cell_type": "code",
   "execution_count": 26,
   "metadata": {},
   "outputs": [],
   "source": [
    "class LinkedDeque(_DoublyLinkedBase):\n",
    "    def first(self):\n",
    "        if self.is_empty():\n",
    "            raise Exception('Queue is empty')\n",
    "        return self._header._next._element\n",
    "    \n",
    "    def last(self):\n",
    "        if self.is_empty():\n",
    "            raise Exception('Queue is empty')\n",
    "        return self._trailer._prev._element\n",
    "    \n",
    "    def insert_first(self, e):\n",
    "        self._insert_between(e, self._header, self._header._next)\n",
    "        \n",
    "    def insert_last(self, e):\n",
    "        self._insert_between(e, self._trailer._prev, self._trailer)\n",
    "        \n",
    "    def delete_first(self):\n",
    "        if self.is_empty():\n",
    "            raise Exception('Queue is empty')\n",
    "        self._delete_node(self._header._next)\n",
    "    \n",
    "    def delete_last(self):\n",
    "        if self.is_empty():\n",
    "            raise Exception('Queue is empty')\n",
    "        self._delete_node(self._trailer._prev)"
   ]
  },
  {
   "cell_type": "markdown",
   "metadata": {},
   "source": [
    "#### Positional List"
   ]
  },
  {
   "cell_type": "code",
   "execution_count": 3,
   "metadata": {},
   "outputs": [],
   "source": [
    "class PositionalList(_DoublyLinkedBase):\n",
    "    \n",
    "    class Position:\n",
    "        \n",
    "        def __init__(self, container, node):\n",
    "            self._container = container\n",
    "            self._node = node\n",
    "        \n",
    "        def element(self):\n",
    "            return self._node._element\n",
    "        \n",
    "        def __eq__(self, other):\n",
    "            \"\"\"\n",
    "            Return True if the two Positions represent the same location.\n",
    "            \"\"\"\n",
    "            return type(other) is type(self) and other._node is self._node\n",
    "        \n",
    "        def __ne__(self, other):\n",
    "            return not (self == other)\n",
    "    \n",
    "    def _validate(self, p):\n",
    "        \"\"\"\n",
    "        Return the position's node, or raise error if the position is invalid.\n",
    "        \"\"\"\n",
    "        if not isinstance(p, self.Position):\n",
    "            raise TypeError('p must be of type Position')\n",
    "        if p._container is not self:\n",
    "            raise ValueError('p does not belong to this container')\n",
    "        if p._node._next is None:\n",
    "            raise ValueError('p is deprecated')\n",
    "        return p._node\n",
    "\n",
    "    def _make_position(self, node):\n",
    "        \"\"\"Return Position instance for given node.\"\"\"\n",
    "        if node is self._header or node is self._trailer:\n",
    "            return None\n",
    "        else:\n",
    "            return self.Position(self, node)\n",
    "    \n",
    "    def first(self):\n",
    "        return self._make_position(self._header._next)\n",
    "    \n",
    "    def last(self):\n",
    "        return self._make_position(self._trailer._prev)\n",
    "    \n",
    "    def before(self, p):\n",
    "        \"\"\"\n",
    "        Return the Position before p.\n",
    "        \"\"\"\n",
    "        node = self._validate(p)\n",
    "        return self._make_position(node._prev)\n",
    "    \n",
    "    def after(self, p):\n",
    "        \"\"\"\n",
    "        Return the Position after p.\n",
    "        \"\"\"\n",
    "        node = self._validate(p)\n",
    "        return self._make_position(node._next)\n",
    "    \n",
    "    def __iter__(self):\n",
    "        cursor = self.first()\n",
    "        while cursor is not None:\n",
    "            yield cursor.element()\n",
    "            cursor = self.after(cursor)\n",
    "    \n",
    "    def _insert_between(self, e, predecessor, successor):\n",
    "        \"\"\"\n",
    "        Add element between nodes and return new Position (instead of node as in the base class).\n",
    "        \"\"\"\n",
    "        node = super()._insert_between(e, predecessor, successor)\n",
    "        return self._make_position(node)\n",
    "    \n",
    "    def add_first(self, e):\n",
    "        return self._insert_between(e, self._header, self._header._next)\n",
    "    \n",
    "    def add_last(self, e):\n",
    "        return self._insert_between(e, self._trailer._prev, self._trailer)\n",
    "    \n",
    "    def add_before(self, p, e):\n",
    "        node = self._validate(p)\n",
    "        return self._insert_between(e, node._prev, node)\n",
    "    \n",
    "    def add_after(self, p, e):\n",
    "        node = self._validate(p)\n",
    "        return self._insert_between(e, node, node._next)\n",
    "    \n",
    "    def delete(self, p):\n",
    "        node = self._validate(p)\n",
    "        return self._delete_node(node)\n",
    "        \n",
    "    def replace(self, p, e):\n",
    "        \"\"\"\n",
    "        Replace the element of the node at Position p with e.\n",
    "        \"\"\"\n",
    "        node = self._validate(p)\n",
    "        old = node._element\n",
    "        node._element = e\n",
    "        return old"
   ]
  },
  {
   "cell_type": "code",
   "execution_count": 4,
   "metadata": {},
   "outputs": [],
   "source": [
    "def insertion_sort(L):\n",
    "    if len(L) > 1:\n",
    "        marker = L.first()\n",
    "        while marker != L.last():\n",
    "            pivot = L.after(marker)\n",
    "            value = pivot.element()\n",
    "            if value > marker.element(): # pivot is already sorted\n",
    "                marker = pivot\n",
    "            else:\n",
    "                # find leftmost item greater than value\n",
    "                walk = marker\n",
    "                while walk != L.first() and L.before(walk).element() > value:\n",
    "                    walk = L.before(walk)\n",
    "                L.delete(pivot)\n",
    "                L.add_before(walk, value)"
   ]
  },
  {
   "cell_type": "markdown",
   "metadata": {},
   "source": [
    "### Exercises\n",
    "\n",
    "#### Reinforcement\n",
    "\n",
    "**R-7.1** Give an algorithm for finding the second-to-last node in a singly linked\n",
    "list in which the last node is indicated by a `next` reference of `None`."
   ]
  },
  {
   "cell_type": "code",
   "execution_count": 31,
   "metadata": {},
   "outputs": [],
   "source": [
    "class LinkedList:\n",
    "    \n",
    "    class _Node:\n",
    "        __slots__ = 'element', 'next'\n",
    "\n",
    "        def __init__(self, element, next):\n",
    "            self.element = element\n",
    "            self.next = next\n",
    "    \n",
    "    def __init__(self):\n",
    "        self.head = None\n",
    "        self.size = 0\n",
    "    \n",
    "    def __len__(self):\n",
    "        return self.size\n",
    "    \n",
    "    def addFirst(self, e):\n",
    "        self.head = self._Node(e, self.head)\n",
    "        self.size += 1"
   ]
  },
  {
   "cell_type": "code",
   "execution_count": 54,
   "metadata": {},
   "outputs": [],
   "source": [
    "def find_second_last(l):\n",
    "    curr = l.head\n",
    "    while curr.next.next is not None:\n",
    "        curr = curr.next\n",
    "    return curr.element"
   ]
  },
  {
   "cell_type": "code",
   "execution_count": 55,
   "metadata": {},
   "outputs": [
    {
     "data": {
      "text/plain": [
       "2"
      ]
     },
     "execution_count": 55,
     "metadata": {},
     "output_type": "execute_result"
    }
   ],
   "source": [
    "l = LinkedList()\n",
    "for i in [1,2,3]:\n",
    "    l.addFirst(i)\n",
    "find_second_last(l)"
   ]
  },
  {
   "cell_type": "markdown",
   "metadata": {},
   "source": [
    "**R-7.2** Describe a good algorithm for concatenating two singly linked lists `L` and\n",
    "`M`, given only references to the first node of each list, into a single list `L`\n",
    "that contains all the nodes of `L` followed by all the nodes of `M`.\n",
    "\n",
    "1. Traverse `L` starting from the head until reaching to the last node.\n",
    "2. Assign the head of `M` to be the next node of the last node of `L`."
   ]
  },
  {
   "cell_type": "code",
   "execution_count": 62,
   "metadata": {},
   "outputs": [],
   "source": [
    "def concat(lHead, mHead):\n",
    "    lLast = lHead\n",
    "    while lLast.next is not None:\n",
    "        lLast = lLast.next\n",
    "    lLast.next = mHead"
   ]
  },
  {
   "cell_type": "code",
   "execution_count": 66,
   "metadata": {},
   "outputs": [],
   "source": [
    "l = LinkedList()\n",
    "m = LinkedList()\n",
    "for i in [3,2,1]:\n",
    "    l.addFirst(i)\n",
    "for i in [5,4]:\n",
    "    m.addFirst(i)\n",
    "concat(l.head, m.head)"
   ]
  },
  {
   "cell_type": "code",
   "execution_count": 71,
   "metadata": {},
   "outputs": [
    {
     "name": "stdout",
     "output_type": "stream",
     "text": [
      "1\n",
      "2\n",
      "3\n",
      "4\n",
      "5\n"
     ]
    }
   ],
   "source": [
    "curr = l.head\n",
    "while curr is not None:\n",
    "    print(curr.element)\n",
    "    curr = curr.next"
   ]
  },
  {
   "cell_type": "markdown",
   "metadata": {},
   "source": [
    "**R-7.3** Describe a recursive algorithm that counts the number of nodes in a singly\n",
    "linked list."
   ]
  },
  {
   "cell_type": "code",
   "execution_count": 79,
   "metadata": {},
   "outputs": [],
   "source": [
    "def count_helper(node, acc):\n",
    "    if node is None:\n",
    "        return acc\n",
    "    else:\n",
    "        return count_helper(node.next, acc + 1)\n",
    "\n",
    "def count(l):\n",
    "    return count_helper(l.head, 0)"
   ]
  },
  {
   "cell_type": "code",
   "execution_count": 80,
   "metadata": {},
   "outputs": [
    {
     "data": {
      "text/plain": [
       "3"
      ]
     },
     "execution_count": 80,
     "metadata": {},
     "output_type": "execute_result"
    }
   ],
   "source": [
    "l = LinkedList()\n",
    "for i in [1,2,3]:\n",
    "    l.addFirst(i)\n",
    "count(l)"
   ]
  },
  {
   "cell_type": "markdown",
   "metadata": {},
   "source": [
    "**R-7.4** Describe in detail how to swap two nodes `x` and `y` (and not just their contents) in a singly linked list `L` given references only to `x` and `y`. Repeat\n",
    "this exercise for the case when `L` is a doubly linked list. Which algorithm\n",
    "takes more time?"
   ]
  }
 ],
 "metadata": {
  "kernelspec": {
   "display_name": "Python 3",
   "language": "python",
   "name": "python3"
  },
  "language_info": {
   "codemirror_mode": {
    "name": "ipython",
    "version": 3
   },
   "file_extension": ".py",
   "mimetype": "text/x-python",
   "name": "python",
   "nbconvert_exporter": "python",
   "pygments_lexer": "ipython3",
   "version": "3.7.3"
  },
  "toc": {
   "base_numbering": 1,
   "nav_menu": {},
   "number_sections": true,
   "sideBar": true,
   "skip_h1_title": false,
   "title_cell": "Table of Contents",
   "title_sidebar": "Contents",
   "toc_cell": false,
   "toc_position": {
    "height": "calc(100% - 180px)",
    "left": "10px",
    "top": "150px",
    "width": "164.988px"
   },
   "toc_section_display": true,
   "toc_window_display": true
  }
 },
 "nbformat": 4,
 "nbformat_minor": 2
}
