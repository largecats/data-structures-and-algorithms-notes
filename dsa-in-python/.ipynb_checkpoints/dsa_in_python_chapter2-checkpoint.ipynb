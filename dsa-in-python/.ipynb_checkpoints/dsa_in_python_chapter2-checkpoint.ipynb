{
 "cells": [
  {
   "cell_type": "markdown",
   "metadata": {},
   "source": [
    "Reading notes and partial solutions to [Data Structures and Algorithms in Python](https://blackwells.co.uk/bookshop/product/9781118290279?gC=f177369a3b&gclid=Cj0KCQjwhJrqBRDZARIsALhp1WTBIyoxeQGXedlVy80vsglvFbNkVf7jTP0Z0zXEIP87lfqbtb4_diYaAr8dEALw_wcB)."
   ]
  },
  {
   "cell_type": "code",
   "execution_count": 1,
   "metadata": {},
   "outputs": [],
   "source": [
    "import random\n",
    "from matplotlib import pyplot as plt\n",
    "%matplotlib inline\n",
    "import math\n",
    "from datetime import datetime"
   ]
  },
  {
   "cell_type": "markdown",
   "metadata": {},
   "source": [
    "# Object-Oriented Programming\n",
    "\n",
    "## Class definitions\n",
    "\n",
    "### Credit card"
   ]
  },
  {
   "cell_type": "code",
   "execution_count": 42,
   "metadata": {},
   "outputs": [],
   "source": [
    "class CreditCard:\n",
    "    \"\"\"A consumer credit card.\"\"\"\n",
    "    \n",
    "    def __init__(self, customer, bank, account, limit):\n",
    "        \"\"\"Create a new credit card instance.\n",
    "        \n",
    "        customer    name of the customer\n",
    "        bank        name of the bank\n",
    "        account     account identifier stored as string\n",
    "        limit       credit limit in USD\n",
    "        \n",
    "        Initial balance is 0.\n",
    "        \"\"\"\n",
    "        self._customer = customer\n",
    "        self._bank = bank\n",
    "        self._account = account\n",
    "        self._limit = limit\n",
    "        self._balance = 0\n",
    "        \n",
    "    def get_customer(self):\n",
    "        \"\"\"Return name of the customer.\"\"\"\n",
    "        return self._customer\n",
    "    \n",
    "    def get_bank(self):\n",
    "        \"\"\"Return name of the bank.\"\"\"\n",
    "        return self._bank\n",
    "    \n",
    "    def get_account(self):\n",
    "        \"\"\"Return account identifying number.\"\"\"\n",
    "        return self._account\n",
    "    \n",
    "    def get_limit(self):\n",
    "        \"\"\"Return credit limit.\"\"\"\n",
    "        return self._limit\n",
    "    \n",
    "    def get_balance(self):\n",
    "        \"\"\"Return balance.\"\"\"\n",
    "        return self._balance\n",
    "    \n",
    "    def charge(self, price):\n",
    "        \"\"\"Charge given price to the card.\n",
    "        \n",
    "        Return True if charge was processed and False if charge was denied.\n",
    "        \"\"\"\n",
    "        if price + self._balance > self._limit: # if charge exceeds limit\n",
    "            return False # cannot accept charge\n",
    "        else:\n",
    "            self._balance += price\n",
    "            return True\n",
    "        \n",
    "    def make_payment(self, amount):\n",
    "        \"\"\"Process payment by reducing balance by the given amount.\"\"\"\n",
    "        self._balance -= amount"
   ]
  },
  {
   "cell_type": "code",
   "execution_count": 43,
   "metadata": {},
   "outputs": [
    {
     "name": "stdout",
     "output_type": "stream",
     "text": [
      "Customer =  John Bowman\n",
      "Bank =  California Savings\n",
      "Account =  5391 0375 9387 5309\n",
      "Limit =  2500\n",
      "Balance =  136\n",
      "New balance =  36\n",
      "\n",
      "Customer =  John Bowman\n",
      "Bank =  California Federal\n",
      "Account =  3485 0399 3395 1954\n",
      "Limit =  3500\n",
      "Balance =  272\n",
      "New balance =  172\n",
      "New balance =  72\n",
      "\n",
      "Customer =  John Bowman\n",
      "Bank =  California Finance\n",
      "Account =  5391 0375 9387 5309\n",
      "Limit =  5000\n",
      "Balance =  408\n",
      "New balance =  308\n",
      "New balance =  208\n",
      "New balance =  108\n",
      "New balance =  8\n",
      "\n"
     ]
    }
   ],
   "source": [
    "if __name__ == '__main__':\n",
    "    wallet = []\n",
    "    wallet.append(CreditCard('John Bowman', 'California Savings', '5391 0375 9387 5309', 2500))\n",
    "    wallet.append(CreditCard('John Bowman', 'California Federal', '3485 0399 3395 1954', 3500))\n",
    "    wallet.append(CreditCard('John Bowman', 'California Finance', '5391 0375 9387 5309', 5000))\n",
    "\n",
    "    for val in range(1, 17):\n",
    "        wallet[0].charge(val)\n",
    "        wallet[1].charge(2*val)\n",
    "        wallet[2].charge(3*val)\n",
    "\n",
    "    for c in range(3):\n",
    "        print('Customer = ', wallet[c].get_customer())\n",
    "        print('Bank = ', wallet[c].get_bank())\n",
    "        print('Account = ', wallet[c].get_account())\n",
    "        print('Limit = ', wallet[c].get_limit())\n",
    "        print('Balance = ', wallet[c].get_balance())\n",
    "        while wallet[c].get_balance() > 100:\n",
    "            wallet[c].make_payment(100)\n",
    "            print('New balance = ', wallet[c].get_balance())\n",
    "        print()"
   ]
  },
  {
   "cell_type": "markdown",
   "metadata": {},
   "source": [
    "### Multidimensional vector"
   ]
  },
  {
   "cell_type": "code",
   "execution_count": 44,
   "metadata": {},
   "outputs": [],
   "source": [
    "class Vector:\n",
    "    \"\"\"Represent a vector in a multidimensional space.\"\"\"\n",
    "    \n",
    "    def __init__(self, d):\n",
    "        \"\"\"Create a d-dimensional vector of zeros.\"\"\"\n",
    "        self._container = [0] * d\n",
    "    \n",
    "    def __len__(self):\n",
    "        \"\"\"Return the length of vector.\"\"\"\n",
    "        return len(self._container)\n",
    "    \n",
    "    def __getitem__(self, i):\n",
    "        \"\"\"Return the i-th coordinate of vector.\"\"\"\n",
    "        if i < 0 or i > len(self):\n",
    "            raise ValueError(\"Index out of range.\")\n",
    "        return self._container[i]\n",
    "    \n",
    "    def __setitem__(self, i, value):\n",
    "        \"\"\"Set the i-th coordinate of vector to given value.\"\"\"\n",
    "        if i < 0 or i > len(self):\n",
    "            raise ValueError(\"Index out of range.\")\n",
    "        self._container[i] = value\n",
    "    \n",
    "    def __add__(self, other):\n",
    "        \"\"\"Return the sum of two vectors.\"\"\"\n",
    "        if len(self) != len(other):\n",
    "            raise ValueError(\"Addition not allowed on vectors with different lengths.\")\n",
    "        d = len(self)\n",
    "        new = Vector(d)\n",
    "        for i in range(d):\n",
    "            new[i] = self[i] + other[i]\n",
    "        return new\n",
    "    \n",
    "    def __eq__(self, other):\n",
    "        \"\"\"Return True if the two vectors are the same entry-wise.\"\"\"\n",
    "        return self._container == other._container\n",
    "    \n",
    "    def __ne__(self, other):\n",
    "        \"\"\"Return True if the two vectors differ in some coordinate.\"\"\"\n",
    "        return not self == other # rely on existing __eq__()\n",
    "    \n",
    "    def str(self):\n",
    "        \"\"\"Produce string representation of vector.\"\"\"\n",
    "        return '<' + str(self. coords)[1:-1] + '>'"
   ]
  },
  {
   "cell_type": "code",
   "execution_count": 45,
   "metadata": {
    "scrolled": true
   },
   "outputs": [
    {
     "name": "stdout",
     "output_type": "stream",
     "text": [
      "Help on class Vector in module __main__:\n",
      "\n",
      "class Vector(builtins.object)\n",
      " |  Vector(d)\n",
      " |  \n",
      " |  Represent a vector in a multidimensional space.\n",
      " |  \n",
      " |  Methods defined here:\n",
      " |  \n",
      " |  __add__(self, other)\n",
      " |      Return the sum of two vectors.\n",
      " |  \n",
      " |  __eq__(self, other)\n",
      " |      Return True if the two vectors are the same entry-wise.\n",
      " |  \n",
      " |  __getitem__(self, i)\n",
      " |      Return the i-th coordinate of vector.\n",
      " |  \n",
      " |  __init__(self, d)\n",
      " |      Create a d-dimensional vector of zeros.\n",
      " |  \n",
      " |  __len__(self)\n",
      " |      Return the length of vector.\n",
      " |  \n",
      " |  __ne__(self, other)\n",
      " |      Return True if the two vectors differ in some coordinate.\n",
      " |  \n",
      " |  __setitem__(self, i, value)\n",
      " |      Set the i-th coordinate of vector to given value.\n",
      " |  \n",
      " |  str(self)\n",
      " |      Produce string representation of vector.\n",
      " |  \n",
      " |  ----------------------------------------------------------------------\n",
      " |  Data descriptors defined here:\n",
      " |  \n",
      " |  __dict__\n",
      " |      dictionary for instance variables (if defined)\n",
      " |  \n",
      " |  __weakref__\n",
      " |      list of weak references to the object (if defined)\n",
      " |  \n",
      " |  ----------------------------------------------------------------------\n",
      " |  Data and other attributes defined here:\n",
      " |  \n",
      " |  __hash__ = None\n",
      "\n"
     ]
    }
   ],
   "source": [
    "help(Vector)"
   ]
  },
  {
   "cell_type": "markdown",
   "metadata": {},
   "source": [
    "### Iterator"
   ]
  },
  {
   "cell_type": "code",
   "execution_count": 46,
   "metadata": {},
   "outputs": [],
   "source": [
    "class SequenceIterator:\n",
    "    \"\"\"An iterator for any of Python's sequence types\"\"\"\n",
    "    \n",
    "    def __init__(self, sequence):\n",
    "        \"\"\"Create an iterator for the given sequence.\"\"\"\n",
    "        self._seq = sequence # keep a reference to the underlying data\n",
    "        self._k = -1 # will increment to 0 on first call to next\n",
    "    \n",
    "    def __next__(self):\n",
    "        \"\"\"Return the next element if it exists and raise StopIteration otherwise.\"\"\"\n",
    "        self._k += 1 # advance to the next index\n",
    "        if self._k < len(self._seq): # if there are remaining elements, return the next one\n",
    "            return self._seq[self._k]\n",
    "        else: # if not, raise error\n",
    "            raise StopIteration()\n",
    "    \n",
    "    def __iter__(self):\n",
    "        \"\"\"Return the iterator itself.\"\"\"\n",
    "        return self"
   ]
  },
  {
   "cell_type": "code",
   "execution_count": 47,
   "metadata": {},
   "outputs": [
    {
     "name": "stdout",
     "output_type": "stream",
     "text": [
      "1\n",
      "2\n",
      "3\n"
     ]
    }
   ],
   "source": [
    "seqIter = SequenceIterator([1,2,3])\n",
    "for i in range(3):\n",
    "    print(next(seqIter))"
   ]
  },
  {
   "cell_type": "markdown",
   "metadata": {},
   "source": [
    "#### Range class"
   ]
  },
  {
   "cell_type": "code",
   "execution_count": 48,
   "metadata": {},
   "outputs": [],
   "source": [
    "class Range:\n",
    "    \"\"\"A class that mimics the built-in range class with lazy evaluation.\"\"\"\n",
    "    \n",
    "    def __init__(self, start, stop=None, step=1):\n",
    "        \"\"\"Initializes a Range instance.\n",
    "        \n",
    "        Semantics is similar to the built-in range class.\n",
    "        \"\"\"\n",
    "        if step == 0:\n",
    "            raise ValueError('step cannot be 0')\n",
    "        \n",
    "        if stop is None: # special case of range(n)\n",
    "            start, stop = 0, start # treat it as range(0, n)\n",
    "        \n",
    "        # calculate the effective length\n",
    "        self._length = max(0, (stop - start + step - 1) // step)\n",
    "        \n",
    "        # need start and step to support __getitem__\n",
    "        self._start = start\n",
    "        self._step = step\n",
    "    \n",
    "    def __len__(self):\n",
    "        \"\"\"Return number of entries in the range.\"\"\"\n",
    "        return self._length\n",
    "    \n",
    "    def __getitem__(self, k):\n",
    "        \"\"\"Return entry at index k.\"\"\"\n",
    "        if k < 0:\n",
    "            k += len(self)\n",
    "        if not (0 <= k and k < self._length):\n",
    "            raise IndexError('Index out of range')\n",
    "        return self._start + k * self._step"
   ]
  },
  {
   "cell_type": "code",
   "execution_count": 49,
   "metadata": {},
   "outputs": [
    {
     "name": "stdout",
     "output_type": "stream",
     "text": [
      "4\n",
      "0\n",
      "3\n",
      "6\n",
      "9\n"
     ]
    }
   ],
   "source": [
    "r = Range(0,10,3)\n",
    "print(len(r))\n",
    "for i in r:\n",
    "    print(i)"
   ]
  },
  {
   "cell_type": "markdown",
   "metadata": {},
   "source": [
    "## Inheritance\n",
    "\n",
    "### Extending the credit card class"
   ]
  },
  {
   "cell_type": "code",
   "execution_count": 50,
   "metadata": {},
   "outputs": [],
   "source": [
    "class PredatoryCreditCard(CreditCard):\n",
    "    \"\"\"An extension to CreditCard that compounds interest and fees.\"\"\"\n",
    "    \n",
    "    def __init__(self, customer, bank, account, limit, apr):\n",
    "        \"\"\"Create a new predatory credit card instance.\n",
    "        \n",
    "        customer    name of the customer\n",
    "        bank        name of the bank\n",
    "        account     account identifier\n",
    "        limit       credit limit in USD\n",
    "        apr         annual percentage rate\n",
    "        \n",
    "        Initial balance is 0.\n",
    "        \"\"\"\n",
    "        super().__init__(customer, bank, account, limit) # call super constructor to create self._customer, ..., self._limit\n",
    "        self._apr = apr\n",
    "        \n",
    "    def charge(self, price):\n",
    "        \"\"\"Charge given price to the card.\n",
    "        \n",
    "        Return True if charge was processed.\n",
    "        Return False and assess $5 fee if charge is denied.\n",
    "        \"\"\"\n",
    "        success = super().charge(price) # call inherited method\n",
    "        if not success:\n",
    "            self._balance += 5 # assess penalty\n",
    "        return success\n",
    "    \n",
    "    def process_month(self):\n",
    "        \"\"\"Assess monthly interest on outstanding balance.\"\"\"\n",
    "        if self._balance > 0:\n",
    "            self._balance *= pow(1 + self._apr, 1/12)"
   ]
  },
  {
   "cell_type": "markdown",
   "metadata": {},
   "source": [
    "### Hierarchy of Numeric Progressions\n",
    "\n",
    "#### Progression base class"
   ]
  },
  {
   "cell_type": "code",
   "execution_count": 51,
   "metadata": {},
   "outputs": [],
   "source": [
    "class Progression:\n",
    "    \"\"\"Iterator producing a generic progression.\n",
    "    \n",
    "    Default iterator produces the whole numbers 0, 1, 2, ...\n",
    "    \"\"\"\n",
    "    \n",
    "    def __init__(self, start = 0):\n",
    "        \"\"\"Create a new instance of the Progression class.\n",
    "        \n",
    "        Current field is initialized to the first value of the progression.\"\"\"\n",
    "        self._current = start\n",
    "    \n",
    "    def _advance(self):\n",
    "        \"\"\"Update self._current to a new value.\n",
    "        \n",
    "        This should be overwritten by a subclass to customize progression.\n",
    "        \n",
    "        By convention, if current is set to None, this means the end of a finite progression.\n",
    "        \"\"\"\n",
    "        self._current += 1\n",
    "    \n",
    "    def __next__(self):\n",
    "        \"\"\"Return the next element, or else raise StopIteration error.\"\"\"\n",
    "        if self._current is None:\n",
    "            raise StopIteration()\n",
    "        else:\n",
    "            answer = self._current # record current value to return\n",
    "            self._advance() # advance current value to prepare for the next return\n",
    "            return answer\n",
    "    \n",
    "    def __iter__(self):\n",
    "        \"\"\"By convention, an iterator must return itself as an iterator.\"\"\"\n",
    "        return self\n",
    "    \n",
    "    def print_progression(self, n):\n",
    "        \"\"\"Print next n values of the progression.\"\"\"\n",
    "        print(' '.join(str(next(self)) for j in range(n)))"
   ]
  },
  {
   "cell_type": "code",
   "execution_count": 52,
   "metadata": {},
   "outputs": [
    {
     "name": "stdout",
     "output_type": "stream",
     "text": [
      "0 1 2 3 4 5 6 7 8 9\n"
     ]
    }
   ],
   "source": [
    "seq = Progression()\n",
    "seq.print_progression(10)"
   ]
  },
  {
   "cell_type": "markdown",
   "metadata": {},
   "source": [
    "#### Arithmetic progression class"
   ]
  },
  {
   "cell_type": "code",
   "execution_count": 53,
   "metadata": {},
   "outputs": [],
   "source": [
    "class ArithmeticProgression(Progression): # inherti from Progression class\n",
    "    \"\"\"Iterator producing an arithmetic progression.\"\"\"\n",
    "    \n",
    "    def __init__(self, constant=1, start=0):\n",
    "        \"\"\"Create a new arithmetic progression.\n",
    "        \n",
    "        constant    the fixed constant to add to each term (default 1)\n",
    "        start        the first term of the progression (default 0)\n",
    "        \"\"\"\n",
    "        super().__init__(start) # initialize base class\n",
    "        self._constant = constant\n",
    "    \n",
    "    def _advance(self): # override the inherited method\n",
    "        \"\"\"Update current value by adding self._constant.\"\"\"\n",
    "        self._current += self._constant"
   ]
  },
  {
   "cell_type": "code",
   "execution_count": 54,
   "metadata": {},
   "outputs": [
    {
     "name": "stdout",
     "output_type": "stream",
     "text": [
      "1 11 21 31 41 51 61 71 81 91\n"
     ]
    }
   ],
   "source": [
    "seq = ArithmeticProgression(10, 1)\n",
    "seq.print_progression(10)"
   ]
  },
  {
   "cell_type": "markdown",
   "metadata": {},
   "source": [
    "#### Geometric progression class"
   ]
  },
  {
   "cell_type": "code",
   "execution_count": 55,
   "metadata": {},
   "outputs": [],
   "source": [
    "class GeometricProgression(Progression):\n",
    "    \"\"\"Iterator producing a geometric progression.\"\"\"\n",
    "    \n",
    "    def __init__(self, constant=2, start=1):\n",
    "        \"\"\"Create a new geometric progression.\n",
    "        \n",
    "        constant    the fixed constant to multiply each term by (default 2)\n",
    "        start       the first term of the progression (default 1)\n",
    "        \"\"\"\n",
    "        super().__init__(start)\n",
    "        self._constant = constant\n",
    "    \n",
    "    def _advance(self): # override inherited method\n",
    "        \"\"\"Udpate current value by multiplying self._constant.\"\"\"\n",
    "        self._current *= self._constant"
   ]
  },
  {
   "cell_type": "code",
   "execution_count": 56,
   "metadata": {
    "scrolled": true
   },
   "outputs": [
    {
     "name": "stdout",
     "output_type": "stream",
     "text": [
      "1 5 25 125 625 3125 15625 78125 390625 1953125\n"
     ]
    }
   ],
   "source": [
    "seq = GeometricProgression(5, 1)\n",
    "seq.print_progression(10)"
   ]
  },
  {
   "cell_type": "markdown",
   "metadata": {},
   "source": [
    "#### Fibonacci progression class"
   ]
  },
  {
   "cell_type": "code",
   "execution_count": 57,
   "metadata": {},
   "outputs": [],
   "source": [
    "class FibonacciProgression(Progression):\n",
    "    \"\"\"Iterator producing a Fibonacci progression.\"\"\"\n",
    "    \n",
    "    def __init__(self, first=0, second=1):\n",
    "        \"\"\"Create a new fibonacci progression.\n",
    "        \n",
    "        first    the first term of the progression (default 0)\n",
    "        second   the second term of the progression (default 1)\n",
    "        \"\"\"\n",
    "        super().__init__(first) # start porgression at first\n",
    "        self._prev = second - first # field storing value preceding first\n",
    "    \n",
    "    def _advance(self):\n",
    "        \"\"\"Update self._current by summing self._prev and self._current.\"\"\"\n",
    "        self._prev, self._current = self._current, self._prev + self._current\n",
    "        # at the first iteration, self._prev becomes first and self._current becomes (second - first) + first = second"
   ]
  },
  {
   "cell_type": "code",
   "execution_count": 58,
   "metadata": {},
   "outputs": [
    {
     "name": "stdout",
     "output_type": "stream",
     "text": [
      "0 1 1 2 3 5 8 13 21 34\n"
     ]
    }
   ],
   "source": [
    "seq = FibonacciProgression(0, 1)\n",
    "seq.print_progression(10)"
   ]
  },
  {
   "cell_type": "code",
   "execution_count": 59,
   "metadata": {},
   "outputs": [
    {
     "name": "stdout",
     "output_type": "stream",
     "text": [
      "Default progression:\n",
      "0 1 2 3 4 5 6 7 8 9\n",
      "Arithmetic progression with increment 5:\n",
      "0 5 10 15 20 25 30 35 40 45\n",
      "Arithmetic progression with increment 5 and start 2:\n",
      "2 7 12 17 22 27 32 37 42 47\n",
      "Geometric progression with default base:\n",
      "1 2 4 8 16 32 64 128 256 512\n",
      "Geometric progression with base 3:\n",
      "1 3 9 27 81 243 729 2187 6561 19683\n",
      "Fibonacci progression with default start values:\n",
      "0 1 1 2 3 5 8 13 21 34\n",
      "Fibonacci progression with start values 4 and 6:\n",
      "4 6 10 16 26 42 68 110 178 288\n"
     ]
    }
   ],
   "source": [
    "if __name__ == '__main__':\n",
    "    print('Default progression:')\n",
    "    Progression().print_progression(10)\n",
    "    print('Arithmetic progression with increment 5:')\n",
    "    ArithmeticProgression(5).print_progression(10)\n",
    "    print('Arithmetic progression with increment 5 and start 2:')\n",
    "    ArithmeticProgression(5, 2).print_progression(10)\n",
    "    print('Geometric progression with default base:')\n",
    "    GeometricProgression().print_progression(10)\n",
    "    print('Geometric progression with base 3:')\n",
    "    GeometricProgression(3).print_progression(10)\n",
    "    print('Fibonacci progression with default start values:')\n",
    "    FibonacciProgression().print_progression(10)\n",
    "    print('Fibonacci progression with start values 4 and 6:')\n",
    "    FibonacciProgression(4, 6).print_progression(10)"
   ]
  },
  {
   "cell_type": "markdown",
   "metadata": {},
   "source": [
    "### Abstract base class"
   ]
  },
  {
   "cell_type": "code",
   "execution_count": 60,
   "metadata": {},
   "outputs": [],
   "source": [
    "from abc import ABCMeta, abstractmethod\n",
    "\n",
    "class Sequence(metaclass=ABCMeta):\n",
    "    \"\"\"Our own version of the collections.Sequence abstract base class.\"\"\"\n",
    "    \n",
    "    @abstractmethod\n",
    "    def __len__(self):\n",
    "        \"\"\"Return the length of the sequence.\"\"\"\n",
    "    \n",
    "    @abstractmethod\n",
    "    def __getitem__(self, j):\n",
    "        \"\"\"Return the element at index j of the sequence.\"\"\"\n",
    "    \n",
    "    def __contains__(self, val):\n",
    "        \"\"\"Return True if val found in the sequence.\"\"\"\n",
    "        for i in range(len(self)):\n",
    "            if self[i] == val: # found match\n",
    "                return True\n",
    "        return False\n",
    "    \n",
    "    def index(self, val):\n",
    "        \"\"\"Return the leftmost index at which val is found, or raise ValueError.\"\"\"\n",
    "        for i in range(len(self)):\n",
    "            if self[i] == val: # leftmost match\n",
    "                return i\n",
    "        raise ValueError('Value not in sequence.')\n",
    "    \n",
    "    def count(self, val):\n",
    "        \"\"\"Return the number of elements equal to val.\"\"\"\n",
    "        counter = 0\n",
    "        for i in range(len(self)):\n",
    "            if self[i] == val: # found a match\n",
    "                counter += 1\n",
    "        return counter"
   ]
  },
  {
   "cell_type": "code",
   "execution_count": 61,
   "metadata": {},
   "outputs": [],
   "source": [
    "# seq = Sequence()\n",
    "# ---------------------------------------------------------------------------\n",
    "# TypeError                                 Traceback (most recent call last)\n",
    "# <ipython-input-3-08d12196f33e> in <module>\n",
    "# ----> 1 seq = Sequence()\n",
    "\n",
    "# TypeError: Can't instantiate abstract class Sequence with abstract methods __getitem__, __len__"
   ]
  },
  {
   "cell_type": "markdown",
   "metadata": {},
   "source": [
    "## Namespaces and object orientation"
   ]
  },
  {
   "cell_type": "code",
   "execution_count": 62,
   "metadata": {},
   "outputs": [
    {
     "data": {
      "text/plain": [
       "0.1723425000000134"
      ]
     },
     "execution_count": 62,
     "metadata": {},
     "output_type": "execute_result"
    }
   ],
   "source": [
    "import timeit\n",
    "\n",
    "class Foo(object): __slots__ = 'foo',\n",
    "\n",
    "class Bar(object): pass\n",
    "\n",
    "class Bar1(object):\n",
    "    def __init__(self):\n",
    "        self.foo = ''\n",
    "\n",
    "slotted = Foo()\n",
    "not_slotted = Bar()\n",
    "not_slotted1 = Bar1()\n",
    "\n",
    "def get_set_delete_fn(obj):\n",
    "    def get_set_delete():\n",
    "        obj.foo = 'foo'\n",
    "        obj.foo\n",
    "        del obj.foo\n",
    "    return get_set_delete\n",
    "\n",
    "min(timeit.repeat(get_set_delete_fn(slotted)))"
   ]
  },
  {
   "cell_type": "code",
   "execution_count": 63,
   "metadata": {},
   "outputs": [
    {
     "data": {
      "text/plain": [
       "0.35385250000001633"
      ]
     },
     "execution_count": 63,
     "metadata": {},
     "output_type": "execute_result"
    }
   ],
   "source": [
    "min(timeit.repeat(get_set_delete_fn(not_slotted)))"
   ]
  },
  {
   "cell_type": "code",
   "execution_count": 64,
   "metadata": {},
   "outputs": [
    {
     "data": {
      "text/plain": [
       "0.39719099999990704"
      ]
     },
     "execution_count": 64,
     "metadata": {},
     "output_type": "execute_result"
    }
   ],
   "source": [
    "min(timeit.repeat(get_set_delete_fn(not_slotted1)))"
   ]
  },
  {
   "cell_type": "markdown",
   "metadata": {},
   "source": [
    "## Shallow and deep copying"
   ]
  },
  {
   "cell_type": "code",
   "execution_count": 65,
   "metadata": {},
   "outputs": [],
   "source": [
    "class Color:\n",
    "    \"\"\"A class for RGB colors.\"\"\"\n",
    "    \n",
    "    def __init__(self, red, green, blue):\n",
    "        \"\"\"Create an instance of the Color class.\n",
    "        \n",
    "        red    an integer in [0, 255]\n",
    "        green  an integer in [0, 255]\n",
    "        blue   an integer in [0, 255]\n",
    "        \"\"\"\n",
    "        self._red = red\n",
    "        self._green = green\n",
    "        self._blue = blue\n",
    "    \n",
    "    def print_color(self):\n",
    "        print('red = {}, green = {}, blue = {}'.format(self._red, self._green, self._blue))"
   ]
  },
  {
   "cell_type": "markdown",
   "metadata": {},
   "source": [
    "### Aliasing"
   ]
  },
  {
   "cell_type": "code",
   "execution_count": 66,
   "metadata": {},
   "outputs": [
    {
     "name": "stdout",
     "output_type": "stream",
     "text": [
      "red = 249, green = 124, blue = 43\n",
      "red = 169, green = 163, blue = 52\n",
      "red = 0, green = 0, blue = 0\n",
      "\n",
      "\n",
      "red = 249, green = 124, blue = 43\n",
      "red = 169, green = 163, blue = 52\n",
      "red = 0, green = 0, blue = 0\n"
     ]
    }
   ],
   "source": [
    "warmtones = [Color(249, 124, 43), Color(169, 163, 52)]\n",
    "palette = warmtones\n",
    "\n",
    "palette.append(Color(0, 0, 0)) # affects warmtones\n",
    "\n",
    "for i in range(len(warmtones)):\n",
    "    color = warmtones[i]\n",
    "    color.print_color()\n",
    "print('\\n')\n",
    "for i in range(len(palette)):\n",
    "    color = palette[i]\n",
    "    color.print_color()"
   ]
  },
  {
   "cell_type": "markdown",
   "metadata": {},
   "source": [
    "### Shallow copying (implicit aliasing)"
   ]
  },
  {
   "cell_type": "code",
   "execution_count": 67,
   "metadata": {},
   "outputs": [
    {
     "name": "stdout",
     "output_type": "stream",
     "text": [
      "red = 100, green = 124, blue = 43\n",
      "red = 169, green = 163, blue = 52\n",
      "\n",
      "\n",
      "red = 100, green = 124, blue = 43\n",
      "red = 255, green = 255, blue = 255\n",
      "red = 0, green = 0, blue = 0\n"
     ]
    }
   ],
   "source": [
    "warmtones = [Color(249, 124, 43), Color(169, 163, 52)]\n",
    "palette = list(warmtones)\n",
    "\n",
    "palette.append(Color(0, 0, 0)) # does not affect warmtones\n",
    "palette[0]._red = 100 # affects warmtones because it modifies the same object that warmtones[0] and palette[0] point to\n",
    "palette[1] = Color(255, 255, 255) # does not affect warmtones because it just reassigns palette[1] to point somewhere else\n",
    "\n",
    "for i in range(len(warmtones)):\n",
    "    color = warmtones[i]\n",
    "    color.print_color()\n",
    "print('\\n')\n",
    "for i in range(len(palette)):\n",
    "    color = palette[i]\n",
    "    color.print_color()"
   ]
  },
  {
   "cell_type": "markdown",
   "metadata": {},
   "source": [
    "### Deep copying"
   ]
  },
  {
   "cell_type": "code",
   "execution_count": 68,
   "metadata": {},
   "outputs": [
    {
     "name": "stdout",
     "output_type": "stream",
     "text": [
      "red = 249, green = 124, blue = 43\n",
      "red = 169, green = 163, blue = 52\n",
      "\n",
      "\n",
      "red = 100, green = 124, blue = 43\n",
      "red = 255, green = 255, blue = 255\n",
      "red = 0, green = 0, blue = 0\n"
     ]
    }
   ],
   "source": [
    "import copy\n",
    "\n",
    "warmtones = [Color(249, 124, 43), Color(169, 163, 52)]\n",
    "palette = copy.deepcopy(warmtones)\n",
    "\n",
    "palette.append(Color(0, 0, 0)) # does not affect warmtones\n",
    "palette[0]._red = 100 # does not affect warmtones\n",
    "palette[1] = Color(255, 255, 255) # does not affect warmtones\n",
    "\n",
    "for i in range(len(warmtones)):\n",
    "    color = warmtones[i]\n",
    "    color.print_color()\n",
    "print('\\n')\n",
    "for i in range(len(palette)):\n",
    "    color = palette[i]\n",
    "    color.print_color()"
   ]
  },
  {
   "cell_type": "markdown",
   "metadata": {},
   "source": [
    "## Exercises\n",
    "\n",
    "### Reinforcement\n",
    "\n",
    "**R-2.1** Give three examples of life-critical software applications.\n",
    "\n",
    "1. Control computer on an aircraft carrier.\n",
    "2. Control computer on a fighter aircraft.\n",
    "3. Auto-pilot systems."
   ]
  },
  {
   "cell_type": "markdown",
   "metadata": {},
   "source": [
    "**R-2.4** Write a Python class, `Flower`, that has three instance variables of type `str`,\n",
    "`int`, and `float`, that respectively represent the name of the flower, its number\n",
    "of petals, and its price. Your class must include a constructor method\n",
    "that initializes each variable to an appropriate value, and your class should\n",
    "include methods for setting the value of each type, and retrieving the value\n",
    "of each type."
   ]
  },
  {
   "cell_type": "code",
   "execution_count": 69,
   "metadata": {},
   "outputs": [
    {
     "data": {
      "text/plain": [
       "True"
      ]
     },
     "execution_count": 69,
     "metadata": {},
     "output_type": "execute_result"
    }
   ],
   "source": [
    "class Flower:\n",
    "    def __init__(self):\n",
    "        self._name = ''\n",
    "        self._numPetals = 0\n",
    "        self._price = 0.\n",
    "    \n",
    "    def set_name(self, name):\n",
    "        self._name = name\n",
    "    \n",
    "    def set_numPetals(self, numPetals):\n",
    "        self._numPetals = numPetals\n",
    "    \n",
    "    def set_price(self, price):\n",
    "        self._price = price\n",
    "    \n",
    "    def get_name(self):\n",
    "        return self._name\n",
    "    \n",
    "    def get_numPetals(self):\n",
    "        return self._numPetals\n",
    "    \n",
    "    def get_price(self):\n",
    "        return self._price\n",
    "\n",
    "def test():\n",
    "    flower = Flower()\n",
    "    NAME = 'rose'\n",
    "    NUM_PETALS = 7\n",
    "    PRICE = 100\n",
    "    flower.set_name(NAME)\n",
    "    flower.set_numPetals(NUM_PETALS)\n",
    "    flower.set_price(PRICE)\n",
    "    assert flower.get_name() == NAME and flower.get_numPetals() == NUM_PETALS and flower.get_price() == PRICE\n",
    "    return True\n",
    "\n",
    "test()"
   ]
  },
  {
   "cell_type": "markdown",
   "metadata": {},
   "source": [
    "**R-2.5** Use the techniques of Section 1.7 to revise the charge and make payment\n",
    "methods of the `CreditCard` class to ensure that the caller sends a number\n",
    "as a parameter."
   ]
  },
  {
   "cell_type": "code",
   "execution_count": 70,
   "metadata": {},
   "outputs": [
    {
     "name": "stdout",
     "output_type": "stream",
     "text": [
      "Caught error: Invalid argument\n",
      "Caught error: Invalid argument\n"
     ]
    },
    {
     "data": {
      "text/plain": [
       "True"
      ]
     },
     "execution_count": 70,
     "metadata": {},
     "output_type": "execute_result"
    }
   ],
   "source": [
    "class CreditCard1(CreditCard):    \n",
    "    def charge(self, price):\n",
    "        \"\"\"Charge given price to the card.\n",
    "        \n",
    "        Return True if charge was processed and False if charge was denied.\n",
    "        \"\"\"\n",
    "        try:\n",
    "            if price + self._balance > self._limit: # if charge exceeds limit\n",
    "                return False # cannot accept charge\n",
    "            else:\n",
    "                self._balance += price\n",
    "                return True\n",
    "        except:\n",
    "            raise ValueError(\"Invalid argument\")\n",
    "            \n",
    "        \n",
    "    def make_payment(self, amount):\n",
    "        \"\"\"Process payment by reducing balance by the given amount.\"\"\"\n",
    "        try:\n",
    "            self._balance -= amount\n",
    "        except:\n",
    "            raise ValueError(\"Invalid argument\")\n",
    "\n",
    "def test():\n",
    "    cc = CreditCard1('John Bowman', 'California Savings', '5391 0375 9387 5309', 2500)\n",
    "    cc.charge(250)\n",
    "    cc.make_payment(100)\n",
    "    try:\n",
    "        cc.charge('a')\n",
    "    except ValueError as e:\n",
    "        print('Caught error: ' + str(e))\n",
    "    try:\n",
    "        cc.make_payment('a')\n",
    "    except ValueError as e:\n",
    "        print('Caught error: ' + str(e))\n",
    "    return True\n",
    "\n",
    "test()"
   ]
  },
  {
   "cell_type": "markdown",
   "metadata": {},
   "source": [
    "**R-2.6** If the parameter to the `make_payment` method of the `CreditCard` class\n",
    "were a negative number, that would have the effect of raising the balance\n",
    "on the account. Revise the implementation so that it raises a `ValueError` if\n",
    "a negative value is sent."
   ]
  },
  {
   "cell_type": "code",
   "execution_count": 71,
   "metadata": {},
   "outputs": [
    {
     "name": "stdout",
     "output_type": "stream",
     "text": [
      "Caught error: Invalid argument\n",
      "Caught error: Invalid argument\n",
      "Caught error: Invalid argument\n"
     ]
    },
    {
     "data": {
      "text/plain": [
       "True"
      ]
     },
     "execution_count": 71,
     "metadata": {},
     "output_type": "execute_result"
    }
   ],
   "source": [
    "class CreditCard2(CreditCard1):\n",
    "    def make_payment(self, amount):\n",
    "        \"\"\"Process payment by reducing balance by the given amount.\"\"\"\n",
    "        try:\n",
    "            temp = self._balance\n",
    "            self._balance -= amount\n",
    "            assert temp >= self._balance\n",
    "        except:\n",
    "            raise ValueError(\"Invalid argument\")\n",
    "        # assert temp > self._balance, \"Invalid argument\" # this raises an AssertionError\n",
    "\n",
    "def test():\n",
    "    cc = CreditCard2('John Bowman', 'California Savings', '5391 0375 9387 5309', 2500)\n",
    "    cc.charge(250)\n",
    "    cc.make_payment(100)\n",
    "    try:\n",
    "        cc.charge('a')\n",
    "    except ValueError as e:\n",
    "        print('Caught error: ' + str(e))\n",
    "    try:\n",
    "        cc.make_payment('a')\n",
    "    except ValueError as e:\n",
    "        print('Caught error: ' + str(e))\n",
    "    try:\n",
    "        cc.make_payment(-100)\n",
    "    except ValueError as e:\n",
    "        print('Caught error: ' + str(e))\n",
    "    return True\n",
    "\n",
    "test()"
   ]
  },
  {
   "cell_type": "markdown",
   "metadata": {},
   "source": [
    "**R-2.8** Modify the declaration of the first for loop in the `CreditCard` tests, from\n",
    "Code Fragment 2.3, so that it will eventually cause exactly one of the three\n",
    "credit cards to go over its credit limit. Which credit card is it?\n",
    "\n",
    "The third credit card will go over its limit since its limit $5000$ is less than $3$ times the first card's limit $2500$, \n",
    "but its increment `val` is $3$ times the first card's increment `3 * val`."
   ]
  },
  {
   "cell_type": "code",
   "execution_count": 72,
   "metadata": {},
   "outputs": [
    {
     "name": "stdout",
     "output_type": "stream",
     "text": [
      "Customer =  John Bowman\n",
      "Bank =  California Savings\n",
      "Account =  5391 0375 9387 5309\n",
      "Limit =  2500\n",
      "Balance =  1653\n",
      "New balance =  1553\n",
      "New balance =  1453\n",
      "New balance =  1353\n",
      "New balance =  1253\n",
      "New balance =  1153\n",
      "New balance =  1053\n",
      "New balance =  953\n",
      "New balance =  853\n",
      "New balance =  753\n",
      "New balance =  653\n",
      "New balance =  553\n",
      "New balance =  453\n",
      "New balance =  353\n",
      "New balance =  253\n",
      "New balance =  153\n",
      "New balance =  53\n",
      "\n",
      "Customer =  John Bowman\n",
      "Bank =  California Federal\n",
      "Account =  3485 0399 3395 1954\n",
      "Limit =  3500\n",
      "Balance =  3306\n",
      "New balance =  3206\n",
      "New balance =  3106\n",
      "New balance =  3006\n",
      "New balance =  2906\n",
      "New balance =  2806\n",
      "New balance =  2706\n",
      "New balance =  2606\n",
      "New balance =  2506\n",
      "New balance =  2406\n",
      "New balance =  2306\n",
      "New balance =  2206\n",
      "New balance =  2106\n",
      "New balance =  2006\n",
      "New balance =  1906\n",
      "New balance =  1806\n",
      "New balance =  1706\n",
      "New balance =  1606\n",
      "New balance =  1506\n",
      "New balance =  1406\n",
      "New balance =  1306\n",
      "New balance =  1206\n",
      "New balance =  1106\n",
      "New balance =  1006\n",
      "New balance =  906\n",
      "New balance =  806\n",
      "New balance =  706\n",
      "New balance =  606\n",
      "New balance =  506\n",
      "New balance =  406\n",
      "New balance =  306\n",
      "New balance =  206\n",
      "New balance =  106\n",
      "New balance =  6\n",
      "\n",
      "Customer =  John Bowman\n",
      "Bank =  California Finance\n",
      "Account =  5391 0375 9387 5309\n",
      "Limit =  5000\n",
      "Balance =  4959\n",
      "New balance =  4859\n",
      "New balance =  4759\n",
      "New balance =  4659\n",
      "New balance =  4559\n",
      "New balance =  4459\n",
      "New balance =  4359\n",
      "New balance =  4259\n",
      "New balance =  4159\n",
      "New balance =  4059\n",
      "New balance =  3959\n",
      "New balance =  3859\n",
      "New balance =  3759\n",
      "New balance =  3659\n",
      "New balance =  3559\n",
      "New balance =  3459\n",
      "New balance =  3359\n",
      "New balance =  3259\n",
      "New balance =  3159\n",
      "New balance =  3059\n",
      "New balance =  2959\n",
      "New balance =  2859\n",
      "New balance =  2759\n",
      "New balance =  2659\n",
      "New balance =  2559\n",
      "New balance =  2459\n",
      "New balance =  2359\n",
      "New balance =  2259\n",
      "New balance =  2159\n",
      "New balance =  2059\n",
      "New balance =  1959\n",
      "New balance =  1859\n",
      "New balance =  1759\n",
      "New balance =  1659\n",
      "New balance =  1559\n",
      "New balance =  1459\n",
      "New balance =  1359\n",
      "New balance =  1259\n",
      "New balance =  1159\n",
      "New balance =  1059\n",
      "New balance =  959\n",
      "New balance =  859\n",
      "New balance =  759\n",
      "New balance =  659\n",
      "New balance =  559\n",
      "New balance =  459\n",
      "New balance =  359\n",
      "New balance =  259\n",
      "New balance =  159\n",
      "New balance =  59\n",
      "\n"
     ]
    }
   ],
   "source": [
    "if __name__ == '__main__':\n",
    "    wallet = []\n",
    "    wallet.append(CreditCard('John Bowman', 'California Savings', '5391 0375 9387 5309', 2500))\n",
    "    wallet.append(CreditCard('John Bowman', 'California Federal', '3485 0399 3395 1954', 3500))\n",
    "    wallet.append(CreditCard('John Bowman', 'California Finance', '5391 0375 9387 5309', 5000)) \n",
    "    \n",
    "    n = 0\n",
    "    while (1+n)*n//2*3 < 5000:\n",
    "        n += 1\n",
    "    \n",
    "    for val in range(1, n):\n",
    "        wallet[0].charge(val)\n",
    "        wallet[1].charge(2*val)\n",
    "        wallet[2].charge(3*val)\n",
    "\n",
    "    for c in range(3):\n",
    "        print('Customer = ', wallet[c].get_customer())\n",
    "        print('Bank = ', wallet[c].get_bank())\n",
    "        print('Account = ', wallet[c].get_account())\n",
    "        print('Limit = ', wallet[c].get_limit())\n",
    "        print('Balance = ', wallet[c].get_balance())\n",
    "        while wallet[c].get_balance() > 100:\n",
    "            wallet[c].make_payment(100)\n",
    "            print('New balance = ', wallet[c].get_balance())\n",
    "        print()"
   ]
  },
  {
   "cell_type": "markdown",
   "metadata": {},
   "source": [
    "**R-2.9** Implement the `__sub__` method for the `Vector` class of Section 2.3.3, so\n",
    "that the expression `u - v` returns a new vector instance representing the\n",
    "difference between two vectors."
   ]
  },
  {
   "cell_type": "code",
   "execution_count": 73,
   "metadata": {},
   "outputs": [
    {
     "data": {
      "text/plain": [
       "True"
      ]
     },
     "execution_count": 73,
     "metadata": {},
     "output_type": "execute_result"
    }
   ],
   "source": [
    "class Vector1(Vector):\n",
    "    def __sub__(self, other):\n",
    "        \"\"\"Return the difference self - other.\"\"\"\n",
    "        if len(self) != len(other):\n",
    "            raise ValueError(\"Addition not allowed on vectors with different lengths.\")\n",
    "        d = len(self)\n",
    "        new = Vector(d)\n",
    "        for i in range(d):\n",
    "            new[i] = self[i] - other[i]\n",
    "        return new\n",
    "\n",
    "def test():\n",
    "    for counter in range(50):\n",
    "        n = random.randint(1, 10)\n",
    "        a = Vector1(n)\n",
    "        b = Vector1(n)\n",
    "        for i in range(n):\n",
    "            a[i] = random.uniform(-100, 100)\n",
    "            b[i] = random.uniform(-100, 100)\n",
    "        c = a - b\n",
    "        for i in range(n):\n",
    "            assert c[i] == a[i] - b[i]\n",
    "    return True\n",
    "\n",
    "test()"
   ]
  },
  {
   "cell_type": "markdown",
   "metadata": {},
   "source": [
    "**R-2.10** Implement the `__neg__` method for the `Vector` class of Section 2.3.3, so\n",
    "that the expression `-v` returns a new vector instance whose coordinates\n",
    "are all the negated values of the respective coordinates of `v`."
   ]
  },
  {
   "cell_type": "code",
   "execution_count": 74,
   "metadata": {},
   "outputs": [
    {
     "data": {
      "text/plain": [
       "True"
      ]
     },
     "execution_count": 74,
     "metadata": {},
     "output_type": "execute_result"
    }
   ],
   "source": [
    "class Vector2(Vector1):\n",
    "    def __neg__(self):\n",
    "        \"\"\"Return the additive inverse of the vector.\"\"\"\n",
    "        d = len(self)\n",
    "        inv = Vector(d)\n",
    "        for i in range(d):\n",
    "            inv[i] = -self[i]\n",
    "        return inv\n",
    "    \n",
    "    def str(self):\n",
    "        \"\"\"Produce string representation of vector.\"\"\"\n",
    "        return '<' + str(self. coords)[1:-1] + '>'\n",
    "\n",
    "def test():\n",
    "    for counter in range(50):\n",
    "        n = random.randint(1, 10)\n",
    "        a = Vector2(n)\n",
    "        for i in range(n):\n",
    "            a[i] = random.uniform(-100, 100)\n",
    "        b = -a\n",
    "        c = a + b\n",
    "        for i in range(n):\n",
    "            assert c[i] == 0\n",
    "    return True\n",
    "\n",
    "test()"
   ]
  },
  {
   "cell_type": "markdown",
   "metadata": {},
   "source": [
    "**R-2.11** In Section 2.3.3, we note that our `Vector` class supports a syntax such as\n",
    "`v = u + [5, 3, 10, −2, 1]`, in which the sum of a vector and list returns\n",
    "a new vector. However, the syntax `v = [5, 3, 10, −2, 1] + u` is illegal.\n",
    "Explain how the `Vector`class definition can be revised so that this syntax\n",
    "generates a new vector.\n",
    "\n",
    "`v = u + [5, 3, 10, -2, 1]` is supported because it is interpreted as `u.__add___([5, 3, 10, -2, 1])`. `[5, 3, 10, −2, 1] + u` is not automatically supported because it is interpreted as `[5, 3, 10, −2, 1].__add__(u)`,\n",
    "and the `__add__()` method in Python's built-in list type does not recognize instances of class `Vector`.\n",
    "\n",
    "We can add a `__radd__()` method to the `Vector` class, so that when encountering `v = [5, 3, 10, −2, 1] + u`, \n",
    "instead of raising a `TypeError`, Python checks that the right-hand-side object u has method `__radd__()`\n",
    "and calls `u.__add__(4)` instead. E.g.,\n",
    "```python\n",
    "def __radd__(self, other):\n",
    "    return self.__add__(other)\n",
    "```"
   ]
  },
  {
   "cell_type": "code",
   "execution_count": 75,
   "metadata": {},
   "outputs": [
    {
     "data": {
      "text/plain": [
       "True"
      ]
     },
     "execution_count": 75,
     "metadata": {},
     "output_type": "execute_result"
    }
   ],
   "source": [
    "class Vector3(Vector2):\n",
    "    def __radd__(self, other):\n",
    "        \"\"\"Return the sum other + self.\"\"\"\n",
    "        return self + other\n",
    "\n",
    "def test():\n",
    "    for counter in range(50):\n",
    "        n = random.randint(1, 10)\n",
    "        a = Vector3(n)\n",
    "        b = [0] * n\n",
    "        for i in range(n):\n",
    "            a[i] = random.uniform(-100, 100)\n",
    "            b[i] = random.uniform(-100, 100)\n",
    "        c = b + a\n",
    "        d = a + b\n",
    "        for i in range(n):\n",
    "            assert c[i] == d[i]\n",
    "    return True\n",
    "\n",
    "test()"
   ]
  },
  {
   "cell_type": "markdown",
   "metadata": {},
   "source": [
    "**R-2.12** Implement the `__mul__` method for the `Vector` class of Section 2.3.3, so\n",
    "that the expression `v * 3` returns a new vector with coordinates that are 3\n",
    "times the respective coordinates of `v`."
   ]
  },
  {
   "cell_type": "code",
   "execution_count": 76,
   "metadata": {},
   "outputs": [
    {
     "data": {
      "text/plain": [
       "True"
      ]
     },
     "execution_count": 76,
     "metadata": {},
     "output_type": "execute_result"
    }
   ],
   "source": [
    "class Vector4(Vector3):\n",
    "    def __mul__(self, scalar):\n",
    "        \"\"\"Return a vector whose entries are scalar times the corresponding entries in vector.\"\"\"\n",
    "        d = len(self)\n",
    "        new = Vector(d)\n",
    "        for i in range(d):\n",
    "            new[i] = scalar * self[i]\n",
    "        return new\n",
    "\n",
    "def test():\n",
    "    for counter in range(50):\n",
    "        n = random.randint(1, 10)\n",
    "        a = Vector4(n)\n",
    "        for i in range(n):\n",
    "            a[i] = random.uniform(-100, 100)\n",
    "        s = random.uniform(-100, 100)\n",
    "        b = a * s\n",
    "        for i in range(n):\n",
    "            assert b[i] == s * a[i]\n",
    "    return True\n",
    "\n",
    "test()"
   ]
  },
  {
   "cell_type": "markdown",
   "metadata": {},
   "source": [
    "**R-2.13** Exercise R-2.12 asks for an implementation of `__mul__`, for the `Vector`\n",
    "class of Section 2.3.3, to provide support for the syntax `v * 3`. Implement\n",
    "the `__rmul__` method, to provide additional support for syntax `3 * v`."
   ]
  },
  {
   "cell_type": "code",
   "execution_count": 77,
   "metadata": {},
   "outputs": [
    {
     "data": {
      "text/plain": [
       "True"
      ]
     },
     "execution_count": 77,
     "metadata": {},
     "output_type": "execute_result"
    }
   ],
   "source": [
    "class Vector5(Vector4):\n",
    "    def __rmul__(self, scalar):\n",
    "        \"\"\"Return scalar * vector.\"\"\"\n",
    "        return self * scalar\n",
    "\n",
    "def test():\n",
    "    for counter in range(50):\n",
    "        d = random.randint(1, 10)\n",
    "        a = Vector5(n)\n",
    "        for i in range(n):\n",
    "            a[i] = random.uniform(-100, 100)\n",
    "        s = random.uniform(-100, 100)\n",
    "        b = s * a\n",
    "        for i in range(n):\n",
    "            assert b[i] == s * a[i]\n",
    "    return True\n",
    "\n",
    "test()"
   ]
  },
  {
   "cell_type": "markdown",
   "metadata": {},
   "source": [
    "**R-2.14** Implement the `__mul__()` method for the `Vector` class of Section 2.3.3, so\n",
    "that the expression `u * v` returns a scalar that represents the dot product of\n",
    "the vectors."
   ]
  },
  {
   "cell_type": "code",
   "execution_count": 78,
   "metadata": {},
   "outputs": [
    {
     "data": {
      "text/plain": [
       "True"
      ]
     },
     "execution_count": 78,
     "metadata": {},
     "output_type": "execute_result"
    }
   ],
   "source": [
    "class Vector6(Vector5):    \n",
    "    def __mul__(self, other):\n",
    "        \"\"\"Return the dot product of self with other.\"\"\"\n",
    "        if len(self) != len(other):\n",
    "            raise ValueError(\"Dot product not allowed on vectors with different lengths.\")\n",
    "        return sum([self[i] * other[i] for i in range(len(self))])\n",
    "\n",
    "def test():\n",
    "    for counter in range(50):\n",
    "        n = random.randint(1, 10)\n",
    "        a = Vector6(n)\n",
    "        b = Vector6(n)\n",
    "        for i in range(n):\n",
    "            a[i] = random.uniform(-100, 100)\n",
    "            b[i] = random.uniform(-100, 100)\n",
    "        c = b * a\n",
    "        for i in range(n):\n",
    "            c -= b[i] * a[i]\n",
    "        assert c < 1e-07\n",
    "    return True\n",
    "\n",
    "test()"
   ]
  },
  {
   "cell_type": "markdown",
   "metadata": {},
   "source": [
    "**R-2.15** The Vector class of Section 2.3.3 provides a constructor that takes an integer\n",
    "`d`, and produces a `d`-dimensional vector with all coordinates equal to\n",
    "`0`. Another convenient form for creating a new vector would be to send the\n",
    "constructor a parameter that is some iterable type representing a sequence\n",
    "of numbers, and to create a vector with dimension equal to the length of\n",
    "that sequence and coordinates equal to the sequence values. For example,\n",
    "`Vector([4, 7, 5])` would produce a three-dimensional vector with coordinates\n",
    "`<4, 7, 5>`. Modify the constructor so that either of these forms is\n",
    "acceptable; that is, if a single integer is sent, it produces a vector of that\n",
    "dimension with all zeros, but if a sequence of numbers is provided, it produces\n",
    "a vector with coordinates based on that sequence."
   ]
  },
  {
   "cell_type": "code",
   "execution_count": 79,
   "metadata": {},
   "outputs": [
    {
     "data": {
      "text/plain": [
       "True"
      ]
     },
     "execution_count": 79,
     "metadata": {},
     "output_type": "execute_result"
    }
   ],
   "source": [
    "class Vector7(Vector):\n",
    "    \"\"\"Represent a vector in a multidimensional space.\"\"\"\n",
    "    \n",
    "    def __init__(self, d):\n",
    "        \"\"\"Create a d-dimensional vector of zeros if d is an integer, or a sequence-based vector if d is a sequence.\"\"\"\n",
    "        try:\n",
    "            d[0]\n",
    "            self._container = d\n",
    "        except:\n",
    "            self._container = [0] * d\n",
    "    \n",
    "def test():\n",
    "    a = Vector7(3)\n",
    "    assert len(a) == 3\n",
    "    a = Vector7([1,2,3,4])\n",
    "    assert len(a) == 4\n",
    "    return True\n",
    "\n",
    "test()"
   ]
  },
  {
   "cell_type": "markdown",
   "metadata": {},
   "source": [
    "**R-2.16** Our `Range` class, from Section 2.3.5, relies on the formula\n",
    "`max(0, (stop − start + step − 1) // step)`\n",
    "to compute the number of elements in the range. It is not immediately evident\n",
    "why this formula provides the correct calculation, even if assuming\n",
    "a positive step size. Justify this formula, in your own words.\n",
    "\n",
    "This is the effective length of the range, or the actual number of steps needed to walk through the range. \n",
    "\n",
    "Suppose this length is $k$. Then $k$ satisfies $start + k \\cdot step > stop - k$ and $start + k \\cdot step \\leq stop$. Rearranging gives\n",
    "$$k\\cdot step\\leq stop - start < (k+1)\\cdot step.$$\n",
    "Thus,\n",
    "$$k\\leq \\frac{stop - start}{step} < k + 1,$$\n",
    "or\n",
    "$$\\frac{stop-start}{step}-1 < k \\leq \\frac{stop-start}{step}.$$\n",
    "Since $RHS - LHS=1$, $k = \\text{floor}(\\frac{stop-start}{step})$, or the largest integer no larger than $\\frac{stop-start}{step}$.\n",
    "\n",
    "Using floor division,\n",
    "\\begin{align*}\n",
    "\\text{floor}(\\frac{stop-start+step-1}{step}) =\n",
    "\\begin{cases}\n",
    "\\text{floor}(\\frac{stop-start+1-1}{step}) = \\text{floor}(\\frac{stop-start}{step})\\quad\\mbox{if $step=1$}\\\\\n",
    "\\text{floor}(\\frac{stop-start}{step} + 1 - \\frac{1}{step}) = \\text{floor}(\\frac{stop-start}{step} + \\epsilon) = \\text{floor}(\\frac{stop-start}{step})\\quad\\mbox{where $\\epsilon\\in (0,1)$, if $step > 1$}\n",
    "\\end{cases}\n",
    "\\end{align*}\n",
    "Thus, $k = \\text{floor}(\\frac{stop-start+step-1}{step})$."
   ]
  },
  {
   "cell_type": "markdown",
   "metadata": {},
   "source": [
    "**R-2.17** Draw a class inheritance diagram for the following set of classes:\n",
    "* Class `Goat` extends `object` and adds an instance variable tail and\n",
    "methods `milk()` and `jump()`.\n",
    "* Class `Pig` extends `object` and adds an instance variable `nose` and\n",
    "methods `eat(food)` and `wallow()`.\n",
    "* Class `Horse` extends `object` and adds instance variables `height` and\n",
    "`color`, and methods `run()` and `jump()`.\n",
    "* Class `Racer` extends `Horse` and adds a method `race()`.\n",
    "* Class `Equestrian` extends `Horse`, adding an instance variable `weight`\n",
    "and methods `trot()` and `is_trained()`.\n",
    "\n",
    "```\n",
    "Object\n",
    "    - Goat\n",
    "    - Pig\n",
    "    - Horse\n",
    "        - Racer\n",
    "        - Equestrian\n",
    "```"
   ]
  },
  {
   "cell_type": "markdown",
   "metadata": {},
   "source": [
    "**R-2.18** Give a short fragment of Python code that uses the progression classes\n",
    "from Section 2.4.2 to find the 8th value of a Fibonacci progression that\n",
    "starts with 2 and 2 as its first two values."
   ]
  },
  {
   "cell_type": "code",
   "execution_count": 80,
   "metadata": {},
   "outputs": [
    {
     "data": {
      "text/plain": [
       "42"
      ]
     },
     "execution_count": 80,
     "metadata": {},
     "output_type": "execute_result"
    }
   ],
   "source": [
    "seq = FibonacciProgression(2, 2)\n",
    "for i in range(7): # 2, 2, _, _, _, _, _, _ only seven calls to next() are needed\n",
    "    next(seq)\n",
    "next(seq)"
   ]
  },
  {
   "cell_type": "markdown",
   "metadata": {},
   "source": [
    "**R-2.19** When using the `ArithmeticProgression` class of Section 2.4.2 with an increment\n",
    "of `128` and a start of `0`, how many calls to next can we make\n",
    "before we reach an integer of `263` or larger?"
   ]
  },
  {
   "cell_type": "code",
   "execution_count": 81,
   "metadata": {},
   "outputs": [
    {
     "data": {
      "text/plain": [
       "3"
      ]
     },
     "execution_count": 81,
     "metadata": {},
     "output_type": "execute_result"
    }
   ],
   "source": [
    "math.ceil(263/128)"
   ]
  },
  {
   "cell_type": "markdown",
   "metadata": {},
   "source": [
    "**R-2.20** What are some potential efficiency disadvantages of having very deep inheritance\n",
    "trees, that is, a large set of classes, `A`, `B`, `C`, and so on, such that\n",
    "`B` extends `A`, `C` extends `B`, `D` extends `C`, etc.?\n",
    "\n",
    "Having a deep inheritance tree means longer time to call the class constructors because they ultimately trace back to calling the constructor of the root class?"
   ]
  },
  {
   "cell_type": "markdown",
   "metadata": {},
   "source": [
    "**R-2.21** What are some potential efficiency disadvantages of having very shallow\n",
    "inheritance trees, that is, a large set of classes, `A`, `B`, `C`, and so on, such\n",
    "that all of these classes extend a single class, `Z`?\n",
    "\n",
    "Having shallow inheritance trees means not taking advantage of class inheritance and risking disorganization."
   ]
  },
  {
   "cell_type": "markdown",
   "metadata": {},
   "source": [
    "**R-2.22** The `collections.Sequence` abstract base class does not provide support for\n",
    "comparing two sequences to each other. Modify our `Sequence` class from\n",
    "Code Fragment 2.14 to include a definition for the `__eq__` method, so\n",
    "that expression `seq1 == seq2` will return `True` precisely when the two\n",
    "sequences are element by element equivalent."
   ]
  },
  {
   "cell_type": "code",
   "execution_count": 82,
   "metadata": {},
   "outputs": [
    {
     "data": {
      "text/plain": [
       "True"
      ]
     },
     "execution_count": 82,
     "metadata": {},
     "output_type": "execute_result"
    }
   ],
   "source": [
    "from abc import ABCMeta, abstractmethod\n",
    "\n",
    "class Sequence1(Sequence):\n",
    "    def __eq__(self, other):\n",
    "        if len(self) != len(other):\n",
    "            return False\n",
    "        else:\n",
    "            for i in range(len(self)):\n",
    "                if self[i] != other[i]:\n",
    "                    return False\n",
    "            return True\n",
    "\n",
    "class ListBasedSeq1(Sequence1):\n",
    "    def __init__(self, seq):\n",
    "        self._container = seq\n",
    "    \n",
    "    def __len__(self):\n",
    "        return len(self._container)\n",
    "    \n",
    "    def __getitem__(self, i):\n",
    "        return self._container[i]\n",
    "\n",
    "def test():\n",
    "    seq1 = ListBasedSeq1([1,3,4,5])\n",
    "    seq2 = ListBasedSeq1([1,3,4,5])\n",
    "    seq3 = ListBasedSeq1([1,10,4,5])\n",
    "    assert seq1 == seq2 and seq3 != seq2\n",
    "    return True\n",
    "\n",
    "test()"
   ]
  },
  {
   "cell_type": "markdown",
   "metadata": {},
   "source": [
    "**R-2.23** In similar spirit to the previous problem, augment the `Sequence `class with\n",
    "method `__lt__`, to support lexicographic comparison `seq1 < seq2`."
   ]
  },
  {
   "cell_type": "code",
   "execution_count": 83,
   "metadata": {},
   "outputs": [
    {
     "data": {
      "text/plain": [
       "True"
      ]
     },
     "execution_count": 83,
     "metadata": {},
     "output_type": "execute_result"
    }
   ],
   "source": [
    "from abc import ABCMeta, abstractmethod\n",
    "\n",
    "class Sequence2(Sequence1):\n",
    "    def __lt__(self, other):\n",
    "        if len(self) != len(other):\n",
    "            raise ValueError(\"Sequence lengths must be equal.\")\n",
    "        else:\n",
    "            for i in range(len(self)):\n",
    "                if self[i] >= other[i]:\n",
    "                    return False\n",
    "            return True\n",
    "\n",
    "class ListBasedSeq2(Sequence2):\n",
    "    def __init__(self, seq):\n",
    "        self._container = seq\n",
    "    \n",
    "    def __len__(self):\n",
    "        return len(self._container)\n",
    "    \n",
    "    def __getitem__(self, i):\n",
    "        return self._container[i]\n",
    "\n",
    "def test():\n",
    "    seq1 = ListBasedSeq2([1,2,3,4])\n",
    "    seq2 = ListBasedSeq2([5,6,7,8])\n",
    "    seq3 = ListBasedSeq2([-1, -2, -3, -4])\n",
    "    assert seq1 < seq2 and seq3 < seq1\n",
    "    return True\n",
    "\n",
    "test()"
   ]
  },
  {
   "cell_type": "markdown",
   "metadata": {},
   "source": [
    "### Creativity\n",
    "\n",
    "**C-2.25** Exercise R-2.12 uses the `__mul__()` method to support multiplying a `Vector`\n",
    "by a number, while Exercise R-2.14 uses the `__mul__()` method to support\n",
    "computing a dot product of two vectors. Give a single implementation of\n",
    "`Vector.__mul__()` that uses run-time type checking to support both syntaxes\n",
    "`u * v` and `u * k`, where `u` and `v` designate vector instances and `k` represents\n",
    "a number. "
   ]
  },
  {
   "cell_type": "code",
   "execution_count": 85,
   "metadata": {},
   "outputs": [
    {
     "data": {
      "text/plain": [
       "True"
      ]
     },
     "execution_count": 85,
     "metadata": {},
     "output_type": "execute_result"
    }
   ],
   "source": [
    "class Vector8(Vector7):\n",
    "    def __mul__(self, other):\n",
    "        \"\"\"If other is a Vector, return the dot product of self with other.\n",
    "        \n",
    "        Else, return the scalar product.\n",
    "        \"\"\"\n",
    "        if type(other) == Vector8:\n",
    "            if len(self) != len(other):\n",
    "                raise ValueError(\"Dot product not allowed on vectors with different lengths.\")\n",
    "            return sum([self[i] * other[i] for i in range(len(self))])\n",
    "        else: # other is a scalar\n",
    "            d = len(self)\n",
    "            new = Vector(d)\n",
    "            for i in range(d):\n",
    "                new[i] = other * self[i]\n",
    "            return new\n",
    "    \n",
    "def test():\n",
    "    for counter in range(50):\n",
    "        n = random.randint(1, 10)\n",
    "        a = Vector8(n)\n",
    "        b = Vector8(n)\n",
    "        for i in range(n):\n",
    "            a[i] = random.uniform(-100, 100)\n",
    "            b[i] = random.uniform(-100, 100)\n",
    "        c = b * a\n",
    "        for i in range(n):\n",
    "            c -= b[i] * a[i]\n",
    "        assert c < 1e-07\n",
    "        b = random.uniform(-100, 100)\n",
    "        c = a * b\n",
    "        for i in range(n):\n",
    "            assert c[i] == b * a[i]\n",
    "    return True\n",
    "\n",
    "test()"
   ]
  },
  {
   "cell_type": "markdown",
   "metadata": {},
   "source": [
    "**C-2.26** The `SequenceIterator` class of Section 2.3.4 provides what is known as a\n",
    "forward iterator. Implement a class named `ReversedSequenceIterator` that\n",
    "serves as a reverse iterator for any Python sequence type. The first call to\n",
    "next should return the last element of the sequence, the second call to next\n",
    "should return the second-to-last element, and so forth."
   ]
  },
  {
   "cell_type": "code",
   "execution_count": 86,
   "metadata": {},
   "outputs": [
    {
     "name": "stdout",
     "output_type": "stream",
     "text": [
      "3\n",
      "2\n",
      "1\n"
     ]
    }
   ],
   "source": [
    "class ReversedSequenceIterator:\n",
    "    \"\"\"A reversed iterator for Python's sequence types.\"\"\"\n",
    "    \n",
    "    def __init__(self, sequence):\n",
    "        \"\"\"Create a reversed iterator for the given sequence.\"\"\"\n",
    "        self._seq = sequence\n",
    "        self._k = len(sequence)\n",
    "    \n",
    "    def __next__(self):\n",
    "        \"\"\"Return the previous element if exists and raise StopIteration otherwise.\"\"\"\n",
    "        self._k -= 1\n",
    "        if self._k >= 0:\n",
    "            return self._seq[self._k]\n",
    "        else:\n",
    "            raise StopIteration()\n",
    "    \n",
    "    def __iter__(self):\n",
    "        \"\"\"Return the reversed iterator itself.\"\"\"\n",
    "        return self\n",
    "\n",
    "seqIter = ReversedSequenceIterator([1,2,3])\n",
    "for i in range(3):\n",
    "    print(next(seqIter))"
   ]
  },
  {
   "cell_type": "markdown",
   "metadata": {},
   "source": [
    "**C-2.27** In Section 2.3.5, we note that our version of the `Range` class has implicit support for iteration, due to its explicit support of both `__len__` and `__getitem__`. The class also receives implicit support of the `Boolean`\n",
    "test, `k in r` for `Range r`. This test is evaluated based on a forward iteration through the range, as evidenced by the relative quickness of the test\n",
    "`2 in Range(10000000)` versus `9999999 in Range(10000000)`. Provide a\n",
    "more efficient implementation of the `__contains__` method to determine\n",
    "whether a particular value lies within a given range. The running time of\n",
    "your method should be independent of the length of the range."
   ]
  },
  {
   "cell_type": "code",
   "execution_count": 137,
   "metadata": {},
   "outputs": [
    {
     "name": "stdout",
     "output_type": "stream",
     "text": [
      "3.3320796999998947\n"
     ]
    }
   ],
   "source": [
    "from timeit import timeit\n",
    "\n",
    "print(timeit(lambda: 2 in Range(1000)))\n",
    "# print(timeit(lambda: 999 in Range(1000))) # takes much longer"
   ]
  },
  {
   "cell_type": "code",
   "execution_count": 135,
   "metadata": {
    "scrolled": true
   },
   "outputs": [
    {
     "name": "stdout",
     "output_type": "stream",
     "text": [
      "2.0888058000000456\n",
      "2.1100576999999703\n"
     ]
    }
   ],
   "source": [
    "class Range1(Range):\n",
    "    def __contains__(self, value):\n",
    "        if value < self._start:\n",
    "            return False\n",
    "        else:\n",
    "            return (value - self._start) % self._step == 0\n",
    "\n",
    "def test():\n",
    "    r = Range1(10000000)\n",
    "    assert 2 in r and 9999999 in r\n",
    "    r = Range1(0, 10000000, 2)\n",
    "    assert 2 in r and 9999999 not in r\n",
    "    return True\n",
    "\n",
    "test()\n",
    "\n",
    "print(timeit(lambda: 2 in Range1(10000000)))\n",
    "print(timeit(lambda: 9999999 in Range1(10000000)))"
   ]
  },
  {
   "cell_type": "markdown",
   "metadata": {},
   "source": [
    "**C-2.28** The `PredatoryCreditCard` class of Section 2.4.1 provides a `process_month`\n",
    "method that models the completion of a monthly cycle. Modify the class\n",
    "so that once a customer has made ten calls to charge in the current month,\n",
    "each additional call to that function results in an additional $1 surcharge."
   ]
  },
  {
   "cell_type": "code",
   "execution_count": 148,
   "metadata": {},
   "outputs": [
    {
     "name": "stdout",
     "output_type": "stream",
     "text": [
      "1\n",
      "2\n",
      "3\n",
      "4\n",
      "5\n",
      "6\n",
      "7\n",
      "8\n",
      "9\n",
      "10\n",
      "11\n",
      "0\n"
     ]
    }
   ],
   "source": [
    "class PredatoryCreditCard1(CreditCard):\n",
    "    \"\"\"An extension to CreditCard that compounds interest and fees.\"\"\"\n",
    "    \n",
    "    def __init__(self, customer, bank, account, limit, apr):\n",
    "        \"\"\"Create a new predatory credit card instance.\n",
    "        \n",
    "        customer    name of the customer\n",
    "        bank        name of the bank\n",
    "        account     account identifier\n",
    "        limit       credit limit in USD\n",
    "        apr         annual percentage rate\n",
    "        counter     counter of the number of calls to charge()\n",
    "        \n",
    "        Initial balance is 0.\n",
    "        \"\"\"\n",
    "        super().__init__(customer, bank, account, limit) # call super constructor to create self._customer, ..., self._limit\n",
    "        self._apr = apr\n",
    "        self._counter = 0\n",
    "        \n",
    "    def charge(self, price):\n",
    "        \"\"\"Charge given price to the card.\n",
    "        \n",
    "        Return True if charge was processed.\n",
    "        Return False and assess $5 fee if charge is denied.\n",
    "        \"\"\"\n",
    "        if self._counter < 10:\n",
    "            success = super().charge(price) # call inherited method\n",
    "        else:\n",
    "            success = super().charge(price + 1) # additional $1 surcharge\n",
    "        self._counter += 1\n",
    "        if not success:\n",
    "            self._balance += 5 # assess penalty\n",
    "        return success\n",
    "    \n",
    "    def restart_month(self):\n",
    "        \"\"\"Restart the counter of the number of calls to charge() once each month.\"\"\"\n",
    "        self._counter = 0\n",
    "\n",
    "def test():\n",
    "    card = PredatoryCreditCard1('John Bowman', 'California Savings', '5391 0375 9387 5309', 2500, 0.05)\n",
    "    for i in range(10):\n",
    "        card.charge(100)\n",
    "        print(card._counter)\n",
    "    card.charge(100)\n",
    "    print(card._counter)\n",
    "    card.restart_month()\n",
    "    print(card._counter)\n",
    "\n",
    "test()"
   ]
  },
  {
   "cell_type": "markdown",
   "metadata": {},
   "source": [
    "**C-2.31** Write a Python class that extends the `Progression` class so that each value\n",
    "in the progression is the absolute value of the difference between the previous two values. You should include a constructor that accepts a pair of\n",
    "numbers as the first two values, using 2 and 200 as the defaults."
   ]
  },
  {
   "cell_type": "code",
   "execution_count": 150,
   "metadata": {},
   "outputs": [
    {
     "name": "stdout",
     "output_type": "stream",
     "text": [
      "2 200 198 2 196 194 2 192 190 2\n"
     ]
    }
   ],
   "source": [
    "class AbsoluteDiffProgression(Progression):\n",
    "    def __init__(self, first=2, second=200):\n",
    "        super().__init__(first)\n",
    "        self._next = second\n",
    "    \n",
    "    def _advance(self):\n",
    "        self._current, self._next = self._next, abs(self._next - self._current)\n",
    "\n",
    "def test():\n",
    "    seq = AbsoluteDiffProgression(2, 200)\n",
    "    seq.print_progression(10)\n",
    "\n",
    "test()"
   ]
  },
  {
   "cell_type": "markdown",
   "metadata": {},
   "source": [
    "**C-2.32** Write a Python class that extends the `Progression` class so that each value\n",
    "in the progression is the square root of the previous value. (Note that\n",
    "you can no longer represent each value with an integer.) Your constructor should accept an optional parameter specifying the start value, using\n",
    "65,536 as a default."
   ]
  },
  {
   "cell_type": "code",
   "execution_count": 153,
   "metadata": {},
   "outputs": [
    {
     "name": "stdout",
     "output_type": "stream",
     "text": [
      "65536 256.0 16.0 4.0 2.0 1.4142135623730951 1.189207115002721 1.0905077326652577 1.0442737824274138 1.0218971486541166\n"
     ]
    }
   ],
   "source": [
    "class SquareRootProgression(Progression):\n",
    "    def __init__(self, start = 65536):\n",
    "        super().__init__(start)\n",
    "    \n",
    "    def _advance(self):\n",
    "        self._current = self._current**(1/2)\n",
    "\n",
    "def test():\n",
    "    seq = SquareRootProgression()\n",
    "    seq.print_progression(10)\n",
    "\n",
    "test()"
   ]
  },
  {
   "cell_type": "markdown",
   "metadata": {},
   "source": [
    "### Projects\n",
    "\n",
    "**P-2.33** Write a Python program that inputs a polynomial in standard algebraic\n",
    "notation and outputs the first derivative of that polynomial."
   ]
  },
  {
   "cell_type": "code",
   "execution_count": 25,
   "metadata": {},
   "outputs": [
    {
     "data": {
      "text/plain": [
       "True"
      ]
     },
     "execution_count": 25,
     "metadata": {},
     "output_type": "execute_result"
    }
   ],
   "source": [
    "import re\n",
    "\n",
    "class Polynomial:\n",
    "    \"\"\"Class for symbolic algebraic operations on polynomials in x with nonnegative constants (connected by '+').\"\"\"\n",
    "    \n",
    "    def __init__(self, polyString):\n",
    "        \"\"\"Create a new instance of the Polynomial class.\n",
    "        \n",
    "        polyString    a string representing a polynomial in standard algebraic notations\n",
    "        \"\"\"\n",
    "        self._polyString = polyString\n",
    "    \n",
    "    def extract_terms(self):\n",
    "        \"\"\"Return a list of PolynomialTerm objects in self._polyString.\"\"\"\n",
    "        string = self._polyString\n",
    "        terms = string.replace('+', ' ').replace('-', ' ').strip().split() # split on multiple white spaces\n",
    "        return terms\n",
    "    \n",
    "    def derivative(self):\n",
    "        \"\"\"Return the first derivative of the polynomial as string.\"\"\"\n",
    "        terms = self.extract_terms()\n",
    "        operations = list(filter(lambda x: x in '+-', self._polyString))\n",
    "        if len(operations) < len(terms):\n",
    "            operations.insert(0, '')\n",
    "        polyString = ''\n",
    "        for i in range(len(terms)):\n",
    "            operation = operations[i]\n",
    "            term = terms[i]\n",
    "            # get string representation of the term's derivative\n",
    "            termDerivative = PolynomialTerm(term).derivative().get_string()\n",
    "            if i == 0:\n",
    "                polyString += operation + termDerivative\n",
    "            else:\n",
    "                polyString += ' ' + operation + ' ' + termDerivative\n",
    "        return polyString\n",
    "\n",
    "class PolynomialTerm:\n",
    "    \"\"\"Class for symbolic algebraic operations on polynomial terms.\"\"\"\n",
    "    \n",
    "    def __init__(self, string = None, constant = None, power = None):\n",
    "        \"\"\"Create a new instance of PolynomialTerm.\n",
    "        \n",
    "        string      a string representing the polynomial term in standard algebraic notations\n",
    "        constant    a number representing the constant multiple of the polynomial term\n",
    "        power       a number representing the power of x in the polynomial term\n",
    "        \"\"\"\n",
    "        self._string = string\n",
    "        self._constant = constant\n",
    "        self._power = power\n",
    "        self._fill_string()\n",
    "        self._fill_constant_power()\n",
    "    \n",
    "    def _fill_string(self):\n",
    "        \"\"\"If the string field is empty, fill it using constant and power fields.\"\"\"\n",
    "        if self._string is None:\n",
    "            if self._constant == 0 or self._power == 0:\n",
    "                self._string = str(self._constant)\n",
    "            else:\n",
    "                if self._power == 1:\n",
    "                    self._string = str(self._constant) + 'x'\n",
    "                else:\n",
    "                    self._string = str(self._constant) + 'x^' + str(self._power)\n",
    "    \n",
    "    def _fill_constant_power(self):\n",
    "        \"\"\"If the constant and power fields are empty, fill them using the string field.\"\"\"\n",
    "        if self._string is not None:\n",
    "            string = self._string\n",
    "            if '^' in string: # must have power >= 2\n",
    "                self._power = int(re.match(r'.*\\^(\\d+)', string).group(1))\n",
    "                if string[0] == 'x':\n",
    "                    self._constant = 1\n",
    "                elif string[0:1] == '-x':\n",
    "                    self._constant = -1\n",
    "                else:\n",
    "                    self._constant = int(float(re.match(r'(\\d*)x\\^(\\d+)', string).group(1)))\n",
    "            else:\n",
    "                if 'x' in string:\n",
    "                    self._power = 1\n",
    "                    if string[0] == 'x':\n",
    "                        self._constant = 1\n",
    "                    elif string[::1] == '-x':\n",
    "                        self._constant = -1\n",
    "                    else:\n",
    "                        self._constant = int(float(re.match(r'(\\d*)x', string).group(1)))\n",
    "                else:\n",
    "                    self._constant = int(float(string))\n",
    "                    self._power = 0\n",
    "    \n",
    "    def get_string(self):\n",
    "        \"\"\"Return the string representation of the polynomial term.\"\"\"\n",
    "        return self._string\n",
    "    \n",
    "    def derivative(self):\n",
    "        \"\"\"Return the PolynomialTerm that is the derivative of the input polynomial term.\"\"\"\n",
    "        newConstant = self._constant * self._power\n",
    "        if self._power != 0:\n",
    "            newPower = self._power - 1\n",
    "        else:\n",
    "            newPower = 0\n",
    "        derivTerm = PolynomialTerm(constant = newConstant, power = newPower)\n",
    "        return derivTerm\n",
    "    \n",
    "def test():\n",
    "    assert Polynomial('-3x^2+2x+1').derivative() == '-6x + 2 + 0'\n",
    "    assert Polynomial('5x^2-32x+10').derivative() == '10x - 32 + 0'\n",
    "    assert Polynomial('100').derivative() == '0'\n",
    "    assert Polynomial('x^99').derivative() == '99x^98'\n",
    "    assert Polynomial('-10x^3-x').derivative() == '-30x^2 - 1'\n",
    "    return True\n",
    "\n",
    "test()"
   ]
  },
  {
   "cell_type": "markdown",
   "metadata": {},
   "source": [
    "**P-2.34** Write a Python program that inputs a document and then outputs a barchart plot of the frequencies of each alphabet character that appears in that document."
   ]
  },
  {
   "cell_type": "code",
   "execution_count": 102,
   "metadata": {},
   "outputs": [
    {
     "data": {
      "image/png": "[encoded data removed]",
      "text/plain": [
       "<Figure size 432x288 with 1 Axes>"
      ]
     },
     "metadata": {
      "needs_background": "light"
     },
     "output_type": "display_data"
    }
   ],
   "source": [
    "import matplotlib.pyplot as plt\n",
    "\n",
    "class FreqCounter:\n",
    "    def __init__(self, docPath):\n",
    "        with open(docPath, 'r') as f:\n",
    "            text = f.readlines()\n",
    "        self._text = text\n",
    "    \n",
    "    def count_freq(self):\n",
    "        counts = dict([(letter, 0) for letter in 'abcdefghijklmnopqrstuvwxyz'])\n",
    "        for line in self._text:\n",
    "            for letter in line:\n",
    "                letter = letter.lower()\n",
    "                try:\n",
    "                    counts[letter] += 1\n",
    "                except:\n",
    "                    continue\n",
    "        return counts\n",
    "    \n",
    "    def barplot(self):\n",
    "        counts = self.count_freq()\n",
    "        plt.bar(range(len(counts)), list(counts.values()), align = 'center')\n",
    "        plt.xticks(range(len(counts)), list(counts.keys()))\n",
    "        plt.show()\n",
    "\n",
    "def test():\n",
    "    counter = FreqCounter('sample.txt')\n",
    "    counter.barplot()\n",
    "\n",
    "test()"
   ]
  },
  {
   "cell_type": "markdown",
   "metadata": {},
   "source": [
    "**P-2.35** Write a set of Python classes that can simulate an Internet application in\n",
    "which one party, Alice, is periodically creating a set of packets that she\n",
    "wants to send to Bob. An Internet process is continually checking if Alice\n",
    "has any packets to send, and if so, it delivers them to Bob’s computer, and\n",
    "Bob is periodically checking if his computer has a packet from Alice, and,\n",
    "if so, he reads and deletes it."
   ]
  },
  {
   "cell_type": "code",
   "execution_count": 6,
   "metadata": {},
   "outputs": [
    {
     "name": "stdout",
     "output_type": "stream",
     "text": [
      "hello\n",
      "world\n",
      "star\n",
      "lord\n"
     ]
    }
   ],
   "source": [
    "class Alice:\n",
    "    def __init__(self):\n",
    "        self._packets = None\n",
    "    \n",
    "    def create_packets(self, packets):\n",
    "        self._packets = packets\n",
    "\n",
    "class Internet:\n",
    "    def __init__(self, alice, bob):\n",
    "        self._alice = alice\n",
    "        self._bob = bob\n",
    "    \n",
    "    def check_alice_send_bob(self):\n",
    "        if len(self._alice._packets) > 0:\n",
    "            self._bob._packets = self._alice._packets\n",
    "\n",
    "class Bob:\n",
    "    def __init__(self):\n",
    "        self._packets = []\n",
    "    \n",
    "    def read_delete(self):\n",
    "        if len(self._packets) != 0:\n",
    "            for packet in self._packets:\n",
    "                print(packet)\n",
    "        self._packets = []\n",
    "\n",
    "def test():\n",
    "    a = Alice()\n",
    "    a.create_packets(['hello', 'world'])\n",
    "    b = Bob()\n",
    "    i = Internet(a, b)\n",
    "    i.check_alice_send_bob()\n",
    "    b.read_delete()\n",
    "    \n",
    "    a.create_packets(['star', 'lord'])\n",
    "    i.check_alice_send_bob()\n",
    "    b.read_delete()\n",
    "\n",
    "test()"
   ]
  },
  {
   "cell_type": "markdown",
   "metadata": {},
   "source": [
    "**P-2.36** Write a Python program to simulate an ecosystem containing two types\n",
    "of creatures, bears and fish. The ecosystem consists of a river, which is\n",
    "modeled as a relatively large list. Each element of the list should be a\n",
    "`Bear` object, a `Fish` object, or `None`. In each time step, based on a random\n",
    "process, each animal either attempts to move into an adjacent list location\n",
    "or stay where it is. If two animals of the same type are about to collide in\n",
    "the same cell, then they stay where they are, but they create a new instance\n",
    "of that type of animal, which is placed in a random empty (i.e., previously\n",
    "`None`) location in the list. If a bear and a fish collide, however, then the\n",
    "fish dies (i.e., it disappears)."
   ]
  },
  {
   "cell_type": "code",
   "execution_count": 109,
   "metadata": {},
   "outputs": [
    {
     "name": "stdout",
     "output_type": "stream",
     "text": [
      ".....f..f....ff..f.f.....f....B...BB..........f.f...BB.f.fff.f..f.Bf........B...B......B.B.Bf....B..\n",
      "\n",
      ".....f..f....ff.BfBf.....f....B...BB....B.....f.f...BB.f.fff.f..f.B.........B...Bf.....B.B.Bf.B..B..\n",
      "\n",
      ".....f..f....ff.B.Bf.....f....B...BB....B.....f.f...BB.fffff.f..f.B......B..B...Bf.....B.B.B..B..B..\n",
      "\n",
      ".....f..f...Bff.BfB......f....B...BBf...B.....f.f...BB.fffff.f..f.B......B..B...Bf.....B.B.B..B..B..\n",
      "\n",
      ".....f..f...Bff.BfB......f....B.f.BBff..B.....f.f.f.BB.fffff.f.B..B......B..B.B.Bf.....B.BBB..B..B..\n",
      "\n",
      "....ff..f...Bff.B.B......f....B.f.BB.fB.B.....f.f.f.BB.fffff.f.B..Bf.....B..B.BBBff....B.BBB..B..B..\n",
      "\n",
      "f...ff..f...BB..B.B.f.B..f..B.BBf.BB.fB.B.....f.f.f.BB.fffff.f.B..Bf.....B..B.BBB.f....B.BBB..B..B..\n",
      "\n",
      "f...ff..f...BB..B.B.ffB..f..B.BBf.BB..B.B.....f.f..BBB.fffff.f.B.BBf...BfB..B.BBBB.....B.BBB..B..B..\n",
      "\n",
      "f...ff..f...BB..B.B.ffB..f.BB.BB..BB..B.B...f.ffff.BBB.fffff.fBB.BB...fB.B..B.BBBB.....B.BBBB.B..B..\n",
      "\n",
      "f..Bff.Bf.B.BB..B.B.f.Bfff.BB.BB..BB.fBBB...f.ffffBBBB.fffff..BBfBB....BBBB.BBBBBB...B.B.BBBBBBBBBBf\n",
      "\n",
      "fffBB.BB..B.BBBBBBB.BBBfff.BB.BB..BBf.BBB.BBfBfffBBBBB.fffffB.BB.BBfBf.BBBB.BBBBBB..BB.B.BBBBBBBBBB.\n",
      "\n",
      "ffBBBBBBfBBfBBBBBBBBBBBBBfBBBfBBBBBBfBBBBBBBfBfffBBBBBfffffBBBBBBBBfBfBBBBBBBBBBBBBBBBBBBBBBBBBBBBBf\n",
      "\n",
      "fBBBBBBBBBBBBBBBBBBBBBBBBBBBBBBBBBBBfBBBBBBBfBfffBBBBBfffffBBBBBBBBBBBBBBBBBBBBBBBBBBBBBBBBBBBBBBBBf\n",
      "\n",
      "BBBBBBBBBBBBBBBBBBBBBBBBBBBBBBBBBBBBBBBBBBBBBBBffBBBBBfffffBBBBBBBBBBBBBBBBBBBBBBBBBBBBBBBBBBBBBBBBf\n",
      "\n",
      "BBBBBBBBBBBBBBBBBBBBBBBBBBBBBBBBBBBBBBBBBBBBBBBffBBBBBffffBBBBBBBBBBBBBBBBBBBBBBBBBBBBBBBBBBBBBBBBB.\n",
      "\n",
      "BBBBBBBBBBBBBBBBBBBBBBBBBBBBBBBBBBBBBBBBBBBBBBBBfBBBBBBBffBBBBBBBBBBBBBBBBBBBBBBBBBBBBBBBBBBBBBBBBBB\n",
      "\n",
      "BBBBBBBBBBBBBBBBBBBBBBBBBBBBBBBBBBBBBBBBBBBBBBBBBBBBBBBBBfBBBBBBBBBBBBBBBBBBBBBBBBBBBBBBBBBBBBBBBBBB\n",
      "\n",
      "BBBBBBBBBBBBBBBBBBBBBBBBBBBBBBBBBBBBBBBBBBBBBBBBBBBBBBBBBfBBBBBBBBBBBBBBBBBBBBBBBBBBBBBBBBBBBBBBBBBB\n",
      "\n",
      "BBBBBBBBBBBBBBBBBBBBBBBBBBBBBBBBBBBBBBBBBBBBBBBBBBBBBBBBBBBBBBBBBBBBBBBBBBBBBBBBBBBBBBBBBBBBBBBBBBBB\n",
      "\n",
      "BBBBBBBBBBBBBBBBBBBBBBBBBBBBBBBBBBBBBBBBBBBBBBBBBBBBBBBBBBBBBBBBBBBBBBBBBBBBBBBBBBBBBBBBBBBBBBBBBBBB\n",
      "\n",
      "BBBBBBBBBBBBBBBBBBBBBBBBBBBBBBBBBBBBBBBBBBBBBBBBBBBBBBBBBBBBBBBBBBBBBBBBBBBBBBBBBBBBBBBBBBBBBBBBBBBB\n",
      "\n",
      "BBBBBBBBBBBBBBBBBBBBBBBBBBBBBBBBBBBBBBBBBBBBBBBBBBBBBBBBBBBBBBBBBBBBBBBBBBBBBBBBBBBBBBBBBBBBBBBBBBBB\n",
      "\n",
      "BBBBBBBBBBBBBBBBBBBBBBBBBBBBBBBBBBBBBBBBBBBBBBBBBBBBBBBBBBBBBBBBBBBBBBBBBBBBBBBBBBBBBBBBBBBBBBBBBBBB\n",
      "\n",
      "BBBBBBBBBBBBBBBBBBBBBBBBBBBBBBBBBBBBBBBBBBBBBBBBBBBBBBBBBBBBBBBBBBBBBBBBBBBBBBBBBBBBBBBBBBBBBBBBBBBB\n",
      "\n",
      "BBBBBBBBBBBBBBBBBBBBBBBBBBBBBBBBBBBBBBBBBBBBBBBBBBBBBBBBBBBBBBBBBBBBBBBBBBBBBBBBBBBBBBBBBBBBBBBBBBBB\n",
      "\n",
      "BBBBBBBBBBBBBBBBBBBBBBBBBBBBBBBBBBBBBBBBBBBBBBBBBBBBBBBBBBBBBBBBBBBBBBBBBBBBBBBBBBBBBBBBBBBBBBBBBBBB\n",
      "\n",
      "BBBBBBBBBBBBBBBBBBBBBBBBBBBBBBBBBBBBBBBBBBBBBBBBBBBBBBBBBBBBBBBBBBBBBBBBBBBBBBBBBBBBBBBBBBBBBBBBBBBB\n",
      "\n",
      "BBBBBBBBBBBBBBBBBBBBBBBBBBBBBBBBBBBBBBBBBBBBBBBBBBBBBBBBBBBBBBBBBBBBBBBBBBBBBBBBBBBBBBBBBBBBBBBBBBBB\n",
      "\n",
      "BBBBBBBBBBBBBBBBBBBBBBBBBBBBBBBBBBBBBBBBBBBBBBBBBBBBBBBBBBBBBBBBBBBBBBBBBBBBBBBBBBBBBBBBBBBBBBBBBBBB\n",
      "\n",
      "BBBBBBBBBBBBBBBBBBBBBBBBBBBBBBBBBBBBBBBBBBBBBBBBBBBBBBBBBBBBBBBBBBBBBBBBBBBBBBBBBBBBBBBBBBBBBBBBBBBB\n",
      "\n",
      "BBBBBBBBBBBBBBBBBBBBBBBBBBBBBBBBBBBBBBBBBBBBBBBBBBBBBBBBBBBBBBBBBBBBBBBBBBBBBBBBBBBBBBBBBBBBBBBBBBBB\n",
      "\n",
      "BBBBBBBBBBBBBBBBBBBBBBBBBBBBBBBBBBBBBBBBBBBBBBBBBBBBBBBBBBBBBBBBBBBBBBBBBBBBBBBBBBBBBBBBBBBBBBBBBBBB\n",
      "\n",
      "BBBBBBBBBBBBBBBBBBBBBBBBBBBBBBBBBBBBBBBBBBBBBBBBBBBBBBBBBBBBBBBBBBBBBBBBBBBBBBBBBBBBBBBBBBBBBBBBBBBB\n",
      "\n",
      "BBBBBBBBBBBBBBBBBBBBBBBBBBBBBBBBBBBBBBBBBBBBBBBBBBBBBBBBBBBBBBBBBBBBBBBBBBBBBBBBBBBBBBBBBBBBBBBBBBBB\n",
      "\n",
      "BBBBBBBBBBBBBBBBBBBBBBBBBBBBBBBBBBBBBBBBBBBBBBBBBBBBBBBBBBBBBBBBBBBBBBBBBBBBBBBBBBBBBBBBBBBBBBBBBBBB\n",
      "\n",
      "BBBBBBBBBBBBBBBBBBBBBBBBBBBBBBBBBBBBBBBBBBBBBBBBBBBBBBBBBBBBBBBBBBBBBBBBBBBBBBBBBBBBBBBBBBBBBBBBBBBB\n",
      "\n",
      "BBBBBBBBBBBBBBBBBBBBBBBBBBBBBBBBBBBBBBBBBBBBBBBBBBBBBBBBBBBBBBBBBBBBBBBBBBBBBBBBBBBBBBBBBBBBBBBBBBBB\n",
      "\n",
      "BBBBBBBBBBBBBBBBBBBBBBBBBBBBBBBBBBBBBBBBBBBBBBBBBBBBBBBBBBBBBBBBBBBBBBBBBBBBBBBBBBBBBBBBBBBBBBBBBBBB\n",
      "\n",
      "BBBBBBBBBBBBBBBBBBBBBBBBBBBBBBBBBBBBBBBBBBBBBBBBBBBBBBBBBBBBBBBBBBBBBBBBBBBBBBBBBBBBBBBBBBBBBBBBBBBB\n",
      "\n",
      "BBBBBBBBBBBBBBBBBBBBBBBBBBBBBBBBBBBBBBBBBBBBBBBBBBBBBBBBBBBBBBBBBBBBBBBBBBBBBBBBBBBBBBBBBBBBBBBBBBBB\n",
      "\n",
      "BBBBBBBBBBBBBBBBBBBBBBBBBBBBBBBBBBBBBBBBBBBBBBBBBBBBBBBBBBBBBBBBBBBBBBBBBBBBBBBBBBBBBBBBBBBBBBBBBBBB\n",
      "\n",
      "BBBBBBBBBBBBBBBBBBBBBBBBBBBBBBBBBBBBBBBBBBBBBBBBBBBBBBBBBBBBBBBBBBBBBBBBBBBBBBBBBBBBBBBBBBBBBBBBBBBB\n",
      "\n",
      "BBBBBBBBBBBBBBBBBBBBBBBBBBBBBBBBBBBBBBBBBBBBBBBBBBBBBBBBBBBBBBBBBBBBBBBBBBBBBBBBBBBBBBBBBBBBBBBBBBBB\n",
      "\n",
      "BBBBBBBBBBBBBBBBBBBBBBBBBBBBBBBBBBBBBBBBBBBBBBBBBBBBBBBBBBBBBBBBBBBBBBBBBBBBBBBBBBBBBBBBBBBBBBBBBBBB\n",
      "\n",
      "BBBBBBBBBBBBBBBBBBBBBBBBBBBBBBBBBBBBBBBBBBBBBBBBBBBBBBBBBBBBBBBBBBBBBBBBBBBBBBBBBBBBBBBBBBBBBBBBBBBB\n",
      "\n",
      "BBBBBBBBBBBBBBBBBBBBBBBBBBBBBBBBBBBBBBBBBBBBBBBBBBBBBBBBBBBBBBBBBBBBBBBBBBBBBBBBBBBBBBBBBBBBBBBBBBBB\n",
      "\n",
      "BBBBBBBBBBBBBBBBBBBBBBBBBBBBBBBBBBBBBBBBBBBBBBBBBBBBBBBBBBBBBBBBBBBBBBBBBBBBBBBBBBBBBBBBBBBBBBBBBBBB\n",
      "\n",
      "BBBBBBBBBBBBBBBBBBBBBBBBBBBBBBBBBBBBBBBBBBBBBBBBBBBBBBBBBBBBBBBBBBBBBBBBBBBBBBBBBBBBBBBBBBBBBBBBBBBB\n",
      "\n",
      "BBBBBBBBBBBBBBBBBBBBBBBBBBBBBBBBBBBBBBBBBBBBBBBBBBBBBBBBBBBBBBBBBBBBBBBBBBBBBBBBBBBBBBBBBBBBBBBBBBBB\n",
      "\n",
      "BBBBBBBBBBBBBBBBBBBBBBBBBBBBBBBBBBBBBBBBBBBBBBBBBBBBBBBBBBBBBBBBBBBBBBBBBBBBBBBBBBBBBBBBBBBBBBBBBBBB\n",
      "\n"
     ]
    }
   ],
   "source": [
    "import random\n",
    "import math\n",
    "\n",
    "class Ecosystem:\n",
    "    \"\"\"Class for ecosystem.\"\"\"\n",
    "    def __init__(self, n, bearPercent=0.1, fishPercent=0.2):\n",
    "        \"\"\"Create a new instance of the Ecosystem class.\n",
    "        \n",
    "        n              length of the river\n",
    "        bearPercent    percentage of bear as a fraction of n\n",
    "        fishPercent    percentage of fish as a fraction of n\n",
    "        \"\"\"\n",
    "        self.river = [None] * n\n",
    "        self.bearPercent = bearPercent\n",
    "        self.fishPercent = fishPercent\n",
    "        self.fill()\n",
    "    \n",
    "    def __len__(self):\n",
    "        \"\"\"Return the length of the river.\"\"\"\n",
    "        return len(self.river)\n",
    "    \n",
    "    def fill(self):\n",
    "        \"\"\"Fill the river with Bear, Fish, or None based on the specified percentages of bear and fish.\"\"\"\n",
    "        n = len(self)\n",
    "        indices = [i for i in range(n)]\n",
    "        if self.bearPercent + self.fishPercent > 1:\n",
    "            raise ValueError('Sum of bearPercent and fishPercent must be < 1.')\n",
    "        bearNum = math.floor(self.bearPercent * n)\n",
    "        fishNum = math.floor(self.fishPercent * n)\n",
    "        creatureIndices = random.sample(indices, bearNum + fishNum)\n",
    "        bearIndices = random.sample(creatureIndices, bearNum)\n",
    "        for i in range(n):\n",
    "            if i in creatureIndices:\n",
    "                if i in bearIndices:\n",
    "                    self.river[i] = Bear(i)\n",
    "                else:\n",
    "                    self.river[i] = Fish(i)\n",
    "\n",
    "\n",
    "    def evolve(self):\n",
    "        \"\"\"Make all creatures in the river move for 1 time step.\"\"\"\n",
    "        for creature in self.river:\n",
    "            if creature: # is not None:\n",
    "                creature.move(self) # each creature randomly moves\n",
    "                    \n",
    "        \n",
    "    def print_river(self):\n",
    "        \"\"\"Print a visualization of the river.\"\"\"\n",
    "        visualization = list(map(lambda x: 'B' if type(x) == Bear else ('f' if type(x) == Fish else '.'), self.river))\n",
    "        print(('{}' * len(self) + '\\n').format(*visualization))\n",
    "\n",
    "class Creature:\n",
    "    \"\"\"Class for creatures in the river.\"\"\"\n",
    "    \n",
    "    def __init__(self, location):\n",
    "        \"\"\"Create a new instance of the Creature class.\n",
    "        \n",
    "        location    current index of the Bear in the river\n",
    "        next        next location of the Bear in the river\n",
    "        \"\"\"\n",
    "        self.location = location\n",
    "        self.next = None\n",
    "    \n",
    "    def birth(self, ecosystem):\n",
    "        \"\"\"Create a new Bear or Fish in a random empty location in the river.\n",
    "        \n",
    "        ecosystem    an Ecosystem object\n",
    "        \"\"\"\n",
    "        if None in ecosystem.river: # if there is still space left in the river\n",
    "            index = random.randint(0, len(ecosystem)-1)\n",
    "            while ecosystem.river[index] is not None:\n",
    "                index = random.randint(0, len(ecosystem)-1)\n",
    "            if type(self) == Bear:\n",
    "                ecosystem.river[index] = Bear(index)\n",
    "            else:\n",
    "                ecosystem.river[index] = Fish(index)\n",
    "    \n",
    "    def move(self, ecosystem):\n",
    "        \"\"\"Move to an adjacent position in the river or remain in current position.\n",
    "        \n",
    "        ecosystem    an Ecosystem object\n",
    "        \"\"\"\n",
    "        step = random.sample([-1,0,1],1)[0]\n",
    "        self.next = self.location + step\n",
    "        while self.next > len(ecosystem) - 1 or self.next < 0:\n",
    "            step = random.sample([-1,0,1],1)[0]\n",
    "            self.next = self.location + step\n",
    "        for creature in ecosystem.river:\n",
    "            if creature is not None and creature != self:\n",
    "                if creature.next == self.next: # if about to collide\n",
    "                    if type(creature) == type(self): # if they are creatures of the same type\n",
    "                        creature.next = creature.location # remain in current positions\n",
    "                        self.next = self.location\n",
    "                        self.birth(ecosystem) # create new creature\n",
    "                    else: # if they are creatures of different types\n",
    "                        if type(self) == Bear:\n",
    "                            ecosystem.river[self.next] = self # Bear occupies position\n",
    "                            ecosystem.river[creature.location] = None # fish disappears\n",
    "                        else:\n",
    "                            ecosystem.river[creature.next] = creature # Bear occupies position\n",
    "                            ecosystem.river[self.location] = None # fish disappears\n",
    "    \n",
    "\n",
    "class Bear(Creature):\n",
    "    \"\"\"Class for bears.\"\"\"\n",
    "    pass\n",
    "\n",
    "\n",
    "class Fish(Creature):\n",
    "    \"\"\"Class for fishes.\"\"\"\n",
    "    pass\n",
    "\n",
    "def test():\n",
    "    n = 100\n",
    "    e = Ecosystem(n)\n",
    "    for counter in range(50):\n",
    "        e.evolve()\n",
    "        e.print_river()\n",
    "\n",
    "test()"
   ]
  },
  {
   "cell_type": "markdown",
   "metadata": {},
   "source": [
    "**P-2.37** Write a simulator, as in the previous project, but add a `Boolean` `gender`\n",
    "field and a floating-point `strength` field to each animal, using an `Animal\n",
    "class` as a base class. If two animals of the same type try to collide, then\n",
    "they only create a new instance of that type of animal if they are of different genders. Otherwise, if two animals of the same type and gender try to\n",
    "collide, then only the one of larger strength survives."
   ]
  },
  {
   "cell_type": "code",
   "execution_count": 107,
   "metadata": {
    "scrolled": true
   },
   "outputs": [
    {
     "name": "stdout",
     "output_type": "stream",
     "text": [
      ".f.............f...Bf..f.ff.......f....f.f.ff.....BB..ff.....B.B..BB..f.........B.B..B.B.f.......f.f\n",
      "\n",
      ".f.............f...Bf..f.ff.......f....f.f.ff.....BB..ff.......B..BB..f.........B.B..B.B.f.......f.f\n",
      "\n",
      ".f.............f.f.B...f.f........f....f.f.ff...f.BB..ff.......B..BB..f.........B.B..B.BB........f.f\n",
      "\n",
      ".f.............f.f.B...f.f........f....f.f.ff...f.BB..ff.......B..BB..f.........B.B..B.BB........f.f\n",
      "\n",
      ".fB............f..BB...f.f........f....f.f.ff...f.BB..ff.......B..BB..f.........B.B..B.BB.......ff.f\n",
      "\n",
      "..B............f..BB...f.f........f....f.f.ff...f.BB..ff.......B..BB..f.........B.B..B.BB.......ff.f\n",
      "\n",
      "..B............f..BB...f.f........f....f.f.ff...f.BB.Bf........B..BB..f.........B....B.BB.......ff.f\n",
      "\n",
      "..B............f..BB...f.f........f....f.f.ff...f.BB.BB........B..BBf.f.f..f....B....B.BB...f...ff.f\n",
      "\n",
      ".BB............f..BB...f.f........f....f.f.ff...f.BB.BB.......fB..BBf.f.f..f....B....B.BB...f...ff.f\n",
      "\n",
      ".BB............f..BB...f.f........f....f.f.ff...f.BB..B........B..BBf.f.f..f....B....B.BBf..f...ff..\n",
      "\n",
      ".BB............f..BB...f.f........f....f.ffff...f.BB..B.......BB..BBf.f.f..f....B....B.BBff.f...ff..\n",
      "\n",
      ".BB.f..........f..BB...f.f........f....f.ffff...f.BB..B.......BB..BB..f.f..f....B..f.B.BBff.f...ff..\n",
      "\n",
      ".BB.f......B...f..BB...f.f........f....f.f.ff...f.BB..B.....B.BB..BB.ff.f..f....B...BB.BBff.f...ff..\n",
      "\n",
      ".BB.f......B...f..BB...f.f........f....f.f.ff...f.BB..B.....B.BB..BB..f.f..f....B...BB.BBff.....ffB.\n",
      "\n",
      ".BB.f..B...BB..f..BB...f.f.B......f....f.f.ff...f.BB..B.....B.BB..BB.B..f..f....B...BB.BBff.....ff..\n",
      "\n",
      ".BB.f..B...BB..f..BB...f.f.B.....Bf....f.fBff...f.BB..B.....B.BB..BB.B..f..f....B...BB.BBff.....ff..\n",
      "\n",
      ".BBff..B....B..f..BB...f.f.B.....Bf....f.fBB....f.BB.fB.....B.BB..BB.B..f..f.f..B...BB.BBff..B..ff..\n",
      "\n",
      ".BB.f..B....B..f..BB...f.f.B..f..B.B...f..BB....f.BB..B.....B.BB..BB.B..f..f.f..B.B.BB.BBff..B..ff..\n",
      "\n",
      ".BB.f..B....B..f..BB...f.f.B..f..B.B...f..BB....f.BB..B.....B.BBB..B.B..f..f.f..B.B.BB.BBff..B..ff..\n",
      "\n",
      ".BB.f..B....B..f..BB.B.f.ffB..f..B.B...f..BB....f.BB..B.....B.BBB..B.B..f..f.f..B.B.BB.BBff..B..ff..\n",
      "\n",
      ".BBB...B....B..f..BB...f.ffB..f..B.....f..BB....f.BB..B.....B.BBB..B....f..f.f..B.B.BB.BB.f..B..ff..\n",
      "\n",
      ".BBB...B....B..f..BB...f.ffB..f..B.....f..BB....f.BB..B.....B.BBB..B....f..f.f..B.B.BB.BB.f..B..ff..\n",
      "\n",
      ".BBB...B....B..f..BB...f.ffB..f..B.....f..BB....f.BB..B.....B.BBB..B....f..f.f..B.B.BB.BB.f..B..ff..\n",
      "\n",
      ".BBB...B....B..f..BB...f.ffB..f..B.....f..BB....f.BB..B.....B.BBB..B....f..f.f..B.B.BB.BB.f.BB..ff..\n",
      "\n",
      ".BBB...B....B..f..BB...fB.fB..f..B.....f..BB.B..f.BB..B.....B.BBB..B....ff.f.f..B.B.BB.BB.f.BB..ff..\n",
      "\n",
      ".BBB...B....B..f..BB...fB.fB..f..B.....f..BB.B..f.BB..B..B..B.BBB..Bf...ff.f.f..B.B.BB.BB.f.BB..ff..\n",
      "\n",
      ".BBB...B....B..f..BB....B..B..f..B.....f..BB.B..fBBB..B..BB.B.BBB..Bf....f.f.f..B.B.BB.BB.f.BB.fff..\n",
      "\n",
      ".BBB...B....B..f..BB....B..B.Bf..B.....f..BB.B..fBBB..B..BB.B.BBB..Bf....f.f.f..B.B.BB.BB.f.BB.fff..\n",
      "\n",
      ".BBB...B....B..f..BB..B.B..B.B.f.B.....f..BB.B...BBB..B..BB.B.BBB..Bf....f.f.f..B.B.BBBBB.f.BB.fffB.\n",
      "\n",
      ".BBB...B.B..BB.f..BB..B.B..B.B.f.Bf....f..BB.B...BBB..BB.BB.B.BBB..B.B...f.fB...B.B.BB.BB.f.BB.fff.B\n",
      "\n",
      ".BBB...B.B..BB.f..BB..f.B..B.BB..Bf....f.BBB.B...BBB..BB.BB.BfBBB.BB.B..Bf..B...B.BBBB.BB.f.BB.fff.B\n",
      "\n",
      ".BBB...B.B..BB.f..BB..f.B..B.BB..Bf..BBf.BBB.B...BBBB.BB.BB.B.BBB.BB.B..B...B...B.B.BB.BB.f.BB.fff.B\n",
      "\n",
      "BBBB...B.B..BB.f.BBB..f.B..B.BB..BBB.BB.BB.B.B...BBBB.BB.BB.B.BBB.BB.B..BfB.B...B.BBBB.BB.f.BB.f.BBB\n",
      "\n",
      "BBBB.B.B.B..BBB..BBB..f.B..B.BBBBB.BBBB.BB.B.BB..BBBBBB..BB.B.BBB.BB.B..B.B.B...B.BBBB.BB.f.BBB..BBB\n",
      "\n",
      "BBBBBB.BBB..BBBBBBBB..f.B..B.BBBBBBBBBB.BB.BBBB..BBBBBB..BB.B.BBB.BB.B.BB.B.BB..B.BBBB.BB.f.BBB..BBB\n",
      "\n",
      "BBBBBBB.BBB.BBBBBBBBBB.BB..BBBBBBBBBBBBBBBBBBBBB.BBBB.BBBBBBBBBBB.BB.B.BBBB.BBB.B.BBBBBBBBfBBBBB.BBB\n",
      "\n",
      "BBBBBBBBBBBBBBBBBBBBBBBBBBBBBBBBBBBBBBBBBBBBBBBBBBBBBBBBBBB.BBBBBBBBBBBBBBBBBBBBBBBBBBBBBBfBBBBBBBBB\n",
      "\n",
      "BBBBBBBBBBBBBBBBBBBBBBBBBBBBBBBBBBBBBBBBBBBBBBBBBBBBBBBBBBBBBBBBBBBBBBBBBBBBBBBBBBBBBBBBBBBBBBBBBBBB\n",
      "\n",
      "BBBBBBBBBBBBBBBBBBBBBBBBBBBBBBBBBBBBBBBBBBBBBBBBBBBBBBBBBBBBBBBBBBBB.BBBBBBBBBBBBBBBBBB.BBBBBBBBBBBB\n",
      "\n",
      "BBBBBBBBBBBBBBBBBBBBBBBBBBBBBBBBBBBBBBBBBBBBBBBBBBBBBBBBBBBBBBBBBBBBBBBBBBBBBBBBBBBBBBBBBBBBBBBBBBBB\n",
      "\n",
      "BBBBBBBBBBBBBBBBBBBBBBBBBBBBBBBBBBBBBBBBBBBBBBBBBBBBBBBBBBBBBBBBBBBBBBBBBBBBBBBBBBBBBBBBBBBBBBBBBBBB\n",
      "\n",
      "BBBBBBBBBBBBBBBBBBBBBBBBBBBBBBBBBBBBBBBBBBBBBBBBBBBBBBBBBBBBBBBBBBBBBBBBBBBBBBBBBBBBBBB.BBBBBBBBBB.B\n",
      "\n",
      "BBBBBBBBBBBBBBBBBBBBBBBBBBBBBBBBBBBBBBBBBBBBBBBBBBBBBBBBBBBBBBBBBBBBBBBBBBBBBBBBBBBBBBBBBBBBBBBBBBBB\n",
      "\n",
      "BBBBBBBBBBBBBBBBBBBBBBBBBBBBBBBBBBBBBBBBBBBBBBBBBBBBBBBBBBBBBBBBBBBBBBBBBBBBBBBBBBBBBBBBBBBBBBBBBBBB\n",
      "\n",
      "BBBBBBBBBBBBBBBBBBBBBBBBBBBBBBBBBBBBBBBBBBBBBBBBBBBBBBBBBBBBBBBBBBBBBBBBBBBBBBBBBBBBBBBBBBBBBBBBBBBB\n",
      "\n",
      "BBBBBBBBBBBBBBBBBBBBBBBBBBBBBBBBBBBBBBBBBBBBBBBBBBBBBBBBBBBBBBBBBBBBBBBBBBBBBBBBBBBBBBBBBBBBBBBBBBBB\n",
      "\n",
      "BBBBBBBBBBBBBBBBBBBBBBBBBBBBBBBBBBBBBBBBBBBBBBBBBBBBBBBBBBBBBBBBBBBBBBBBBBBBBBBBBBBBBBBBBBBBBBBBBBBB\n",
      "\n",
      "BBBBBBBBBBBBBBBBBBBBBBBBBBBBBBBBBBBBBBBBBBBBBBBBBBBBBBBBBBBBBBBBBBBBBBBBBBBBBBBBBBBBBBBBBBBBBBBBBBBB\n",
      "\n",
      "BBBBBBBBBBBBBBBBBBBBBBBBBBBBBBBBBBBBBBBBBBBBBBBBBBBBBBBBBBBBBBBBBBBBBBBBBBBBBBBBBBBBBBBBBBBBBBBBBBBB\n",
      "\n",
      "BBBBBBBBBBBBBBBBBBBBBBBBBBBBBBBBBBBBBBBBBBBBBBBBBBBBBBBBBBBBBBBBBBBBBBBBBBBBBBBBBBBBBBBBBBBBBBBBBBBB\n",
      "\n"
     ]
    }
   ],
   "source": [
    "import random\n",
    "import math\n",
    "\n",
    "class Ecosystem:\n",
    "    \"\"\"Class for ecosystem.\"\"\"\n",
    "    def __init__(self, n, bearPercent=0.1, fishPercent=0.2):\n",
    "        \"\"\"Create a new instance of the Ecosystem class.\n",
    "        \n",
    "        n              length of the river\n",
    "        bearPercent    percentage of bear as a fraction of n\n",
    "        fishPercent    percentage of fish as a fraction of n\n",
    "        \"\"\"\n",
    "        self.river = [None] * n\n",
    "        self.bearPercent = bearPercent\n",
    "        self.fishPercent = fishPercent\n",
    "        self.fill()\n",
    "    \n",
    "    def __len__(self):\n",
    "        \"\"\"Return the length of the river.\"\"\"\n",
    "        return len(self.river)\n",
    "    \n",
    "    def fill(self):\n",
    "        \"\"\"Fill the river with Bear, Fish, or None based on the specified percentages of bear and fish.\"\"\"\n",
    "        n = len(self)\n",
    "        indices = [i for i in range(n)]\n",
    "        if self.bearPercent + self.fishPercent > 1:\n",
    "            raise ValueError('Sum of bearPercent and fishPercent must be < 1.')\n",
    "        bearNum = math.floor(self.bearPercent * n)\n",
    "        fishNum = math.floor(self.fishPercent * n)\n",
    "        animalIndices = random.sample(indices, bearNum + fishNum)\n",
    "        bearIndices = random.sample(animalIndices, bearNum)\n",
    "        for i in range(n):\n",
    "            if i in animalIndices:\n",
    "                if i in bearIndices:\n",
    "                    self.river[i] = Bear(i)\n",
    "                else:\n",
    "                    self.river[i] = Fish(i)\n",
    "\n",
    "\n",
    "    def evolve(self):\n",
    "        \"\"\"Make all animals in the river move for 1 time step.\"\"\"\n",
    "        for animal in self.river:\n",
    "            if animal: # is not None:\n",
    "                animal.move(self) # each animal randomly moves\n",
    "                    \n",
    "        \n",
    "    def print_river(self):\n",
    "        \"\"\"Print a visualization of the river.\"\"\"\n",
    "        visualization = list(map(lambda x: 'B' if type(x) == Bear else ('f' if type(x) == Fish else '.'), self.river))\n",
    "        print(('{}' * len(self) + '\\n').format(*visualization))\n",
    "\n",
    "class Animal:\n",
    "    \"\"\"Class for animals in the river.\"\"\"\n",
    "    \n",
    "    def __init__(self, location):\n",
    "        \"\"\"Create a new instance of the animal class.\n",
    "        \n",
    "        location    current index of the Bear in the river    \n",
    "        \"\"\"\n",
    "        self.location = location\n",
    "        self.next = None # next location of the Bear in the river \n",
    "        self.gender = random.randint(0, 1) # 0 for female, 1 for male\n",
    "        self.strength = random.uniform(0, 1) # a float in [0, 1] representing the animal's strength\n",
    "    \n",
    "    def birth(self, ecosystem):\n",
    "        \"\"\"Create a new Bear in a random empty location in the river.\n",
    "        \n",
    "        ecosystem    an Ecosystem object\n",
    "        \"\"\"\n",
    "        if None in ecosystem.river: # if there is still space left in the river\n",
    "            index = random.randint(0, len(ecosystem)-1)\n",
    "            while ecosystem.river[index] is not None:\n",
    "                index = random.randint(0, len(ecosystem)-1)\n",
    "            if type(self) == Bear:\n",
    "                ecosystem.river[index] = Bear(index)\n",
    "            else:\n",
    "                ecosystem.river[index] = Fish(index)\n",
    "    \n",
    "    def move(self, ecosystem):\n",
    "        \"\"\"Move to an adjacent position in the river or remain in current position.\n",
    "        \n",
    "        ecosystem    an Ecosystem object\n",
    "        \"\"\"\n",
    "        step = random.sample([-1,0,1],1)[0]\n",
    "        self.next = self.location + step\n",
    "        while self.next > len(ecosystem) - 1 or self.next < 0:\n",
    "            step = random.sample([-1,0,1],1)[0]\n",
    "            self.next = self.location + step\n",
    "        for animal in ecosystem.river:\n",
    "            if animal is not None and animal != self:\n",
    "                if animal.next == self.next: # if about to collide\n",
    "                    if type(animal) == type(self): # if they are animals of the same type\n",
    "                        if animal.gender != self.gender: # if they have different genders\n",
    "                            animal.next = animal.location # remain in current positions\n",
    "                            self.next = self.location\n",
    "                            self.birth(ecosystem) # create new animal\n",
    "                        else: # if they have the same gender\n",
    "                            if self.strength > animal.strength:\n",
    "                                self.location = self.next # the stronger survives and occupies position\n",
    "                                ecosystem.river[animal.location] = None # the weaker dies\n",
    "                            else:\n",
    "                                animal.location = animal.next\n",
    "                                ecosystem.river[self.location] = None\n",
    "                    else: # if they are animals of differen types\n",
    "                        if type(self) == Bear:\n",
    "                            ecosystem.river[self.next] = self # Bear occupies position\n",
    "                            ecosystem.river[animal.location] = None # fish disappears\n",
    "                        else:\n",
    "                            ecosystem.river[animal.next] = animal # Bear occupies position\n",
    "                            ecosystem.river[self.location] = None # fish disappears\n",
    "\n",
    "class Bear(Animal):\n",
    "    \"\"\"Class for bears.\"\"\"\n",
    "    pass\n",
    "\n",
    "class Fish(Animal):\n",
    "    \"\"\"Class for fishes.\"\"\"\n",
    "    pass\n",
    "\n",
    "def test():\n",
    "    n = 100\n",
    "    e = Ecosystem(n)\n",
    "    for counter in range(50):\n",
    "        e.evolve()\n",
    "        e.print_river()\n",
    "\n",
    "test()"
   ]
  },
  {
   "cell_type": "markdown",
   "metadata": {},
   "source": [
    "**P-2.38** Write a Python program that simulates a system that supports the functions of an e-book reader. You should include methods for users of your\n",
    "system to \"buy\" new books, view their list of purchased books, and read\n",
    "their purchased books. Your system should use actual books, which have\n",
    "expired copyrights and are available on the Internet, to populate your set\n",
    "of available books for users of your system to \"purchase\" and read."
   ]
  },
  {
   "cell_type": "code",
   "execution_count": 62,
   "metadata": {},
   "outputs": [],
   "source": [
    "import random\n",
    "\n",
    "class Book:\n",
    "    \"\"\"Class for books.\"\"\"\n",
    "    def __init__(self):\n",
    "        \"\"\"Create a new instance of the Book class with random name, price, and content.\"\"\"\n",
    "        self.name = None\n",
    "        self.price = None\n",
    "        self.content = None\n",
    "        \n",
    "        self.fill_name()\n",
    "        self.fill_price()\n",
    "        self.fill_content()\n",
    "    \n",
    "    def random_letter(self):\n",
    "        \"\"\"Generate random letters.\"\"\"\n",
    "        num = random.randint(97, 122)\n",
    "        return chr(num)\n",
    "\n",
    "    def random_string(self, n):\n",
    "        \"\"\"Generate random string of length n.\"\"\"\n",
    "        return ''.join([random_letter() for i in range(n)])\n",
    "\n",
    "    def random_paragraph(self, n):\n",
    "        \"\"\"Generate random paragraph of n strings.\"\"\"\n",
    "        paragraph = ''\n",
    "        for i in range(200):\n",
    "            n = random.randint(1, 10)\n",
    "            paragraph += random_string(n) + ' '\n",
    "        return paragraph.strip()\n",
    "\n",
    "    def random_content(self):\n",
    "        \"\"\"Generate random text consisting of no more than 10 random paragraphs for book contents.\"\"\"\n",
    "        text = ''\n",
    "        for i in range(10):\n",
    "            n = random.randint(1, 10)\n",
    "            text += random_paragraph(n) + '\\n    '\n",
    "        return text.strip()\n",
    "\n",
    "    def random_name(self):\n",
    "        \"\"\"Generate random text consisting of no more than 7 random strings for book names.\"\"\"\n",
    "        name = ''\n",
    "        for i in range(7):\n",
    "            n = random.randint(1, 10)\n",
    "            name += random_string(n) + ' '\n",
    "        return name.strip()\n",
    "\n",
    "    def random_price(self):\n",
    "        \"\"\"Generate random price for books.\"\"\"\n",
    "        return round(random.uniform(10, 500))\n",
    "    \n",
    "    def fill_name(self):\n",
    "        self.name = self.random_name()\n",
    "    \n",
    "    def fill_price(self):\n",
    "        self.price = self.random_price()\n",
    "        \n",
    "    def fill_content(self):\n",
    "        self.content = self.random_content()\n",
    "\n",
    "class EbookReader:\n",
    "    \"\"\"Class for ebook reader.\"\"\"\n",
    "    def __init__(self, books=[]):\n",
    "        \"\"\"Create a new instance of the EBookReader class.\n",
    "        \n",
    "        books    a list of Book objects\n",
    "        \"\"\"\n",
    "        self.books = books\n",
    "    \n",
    "    def browse(self):\n",
    "        \"\"\"Print information about books available.\"\"\"\n",
    "        for book in self.books:\n",
    "            print('name: ' + book.name + '\\n' + 'price: ' + str(book.price))\n",
    "\n",
    "class User:\n",
    "    \"\"\"Class for user of the ebook reader.\"\"\"\n",
    "    def __init__(self):\n",
    "        \"\"\"Create a new instance of the User class.\"\"\"\n",
    "        self.wallet = 0 # units to buy books\n",
    "        self.shelf = [] # list of purchased books\n",
    "    \n",
    "    def topup(self, amount):\n",
    "        \"\"\"Topup given amount to wallet.\"\"\"\n",
    "        self.wallet += amount\n",
    "    \n",
    "    def buy(self, ebookReader, book):\n",
    "        \"\"\"Buy a book from ebook reader if wallet has enough units.\"\"\"\n",
    "        if book in ebookReader.books:\n",
    "            if book.price <= self.wallet:\n",
    "                self.shelf.append(book)\n",
    "                self.wallet -= book.price\n",
    "            else:\n",
    "                print('Not enough units in wallet to purchase this book.')\n",
    "        else:\n",
    "            print('Sorry, book does not exist.')\n",
    "    \n",
    "    def read(self, book):\n",
    "        \"\"\"Display the content of a book if it is on shelf.\"\"\"\n",
    "        if book in self.shelf:\n",
    "            print(book.content)\n",
    "        else:\n",
    "            print('Book not on shelf.')\n",
    "    \n",
    "    def view_shelf(self):\n",
    "        \"\"\"View the list of purchased books.\"\"\"\n",
    "        for book in self.shelf:\n",
    "            print('name: ' + book.name + '\\n' + 'price: ' + str(book.price))"
   ]
  },
  {
   "cell_type": "code",
   "execution_count": 64,
   "metadata": {},
   "outputs": [
    {
     "name": "stdout",
     "output_type": "stream",
     "text": [
      "name: bhvyhdpg nv tjepl kyzhxjfll ppws jtlboarmnq xdyi\n",
      "price: 358\n",
      "name: agescdf jykdqo co rzodckecj mtgurtpj oqxmjfw leymed\n",
      "price: 177\n",
      "name: nferao ivotisd xmfbud qar j ktdhpekg af\n",
      "price: 40\n",
      "name: nzzbe nxv semm jaulypepy yollw s ywrspt\n",
      "price: 118\n",
      "name: prjlvl eqsyywgie ruznmeek s c wnyryumbn oq\n",
      "price: 413\n",
      "name: vjktps xqam vewqmiqmk jishjmnx zx xnyqtzpgt csjf\n",
      "price: 272\n",
      "name: x noqeg s spetmhzdec ezyahckmj rwaoqs b\n",
      "price: 20\n",
      "name: veleclxjux fevje rk kyg txcfzroie juk gtuap\n",
      "price: 429\n",
      "name: cw sbwjjfwgcb ikkhlwavn ksnhd o pnpuzjigdo g\n",
      "price: 419\n",
      "name: uczu ogir qkzrv bobw kczdtyyo s xa\n",
      "price: 72\n",
      "name: nhqwzsfko yd grky vbjhys rftwj vevclmw bi\n",
      "price: 365\n",
      "name: chizk egvyhyezt bddsk bvi e rq mbssdyit\n",
      "price: 426\n",
      "name: eyeedj pkwxljx sbsvribopk xneahozkug z rktr yalaq\n",
      "price: 314\n",
      "name: nx fbqts qxzntbs prkwuc pzpfsb tnbxx hosigxnnkf\n",
      "price: 336\n",
      "name: awu ui mxqh ye v rgsmgmbm zkzez\n",
      "price: 92\n",
      "name: xxchh tpryay dtxfh rshfxlkfj cn ovkpriieel hn\n",
      "price: 156\n",
      "name: vkbw qsdckar pivrg cx msjwwp iobs zszhxkyrsd\n",
      "price: 459\n",
      "name: xz moerjs bsiqkhqwsl khnhts ca sgokd zxkxtru\n",
      "price: 14\n",
      "name: tmc vcnmgvdvgw ziysvevq cz exwhiicuy vwrzwtj cttufxboh\n",
      "price: 260\n",
      "name: udopms wfzwsyf nsfxn fd hpgxt wsgcmbas olio\n",
      "price: 404\n",
      "name: zfkpoi wyi m wfpcixfhrm qay j luxs\n",
      "price: 138\n",
      "name: huopyppyd roqyxpsg j lhme qzxygbrbmm rlvoctaz gdhhwkkvff\n",
      "price: 98\n",
      "name: dfqnr t vfxbnpzq iuuvqjxngr vukxje jmsskkwqas fymdoghs\n",
      "price: 462\n",
      "name: hebysm p imebfgz mx jipfo un o\n",
      "price: 395\n",
      "name: cipfb lj dfvwfuqph qyykf hbhlpat cyu dbwesy\n",
      "price: 184\n",
      "name: thsbr wedzlpr dxsn tgd j alvm uymqbkwyxl\n",
      "price: 249\n",
      "name: adv bzgxpexfvs mvxhaz uqscpn gpqqx vecfvjnoj lnowsjwfx\n",
      "price: 109\n",
      "name: l ynayeiqxgx ojzpstsx vke u n irk\n",
      "price: 406\n",
      "name: n m prbk nisg xocbyqy prkwqdon vdfle\n",
      "price: 201\n",
      "name: eqlux sscsqbcruw kuahtkwcs vpnhvnsnuq wezufxuj rdxepbrum ytm\n",
      "price: 44\n",
      "name: zbacbzqsx lflhb amg nip sefvopl dt smddjnirr\n",
      "price: 422\n",
      "name: bzyr bhw shffjrdt gqbdr bpafl rosxvohn bkknld\n",
      "price: 25\n",
      "name: pfyxrrhjmw cptlejy zrd ricbozq vpbidziiti thmfmoecsk z\n",
      "price: 386\n",
      "name: o wd y c xpskbh npovfxddrp bpgs\n",
      "price: 369\n",
      "name: p hrxncosem ucmigi qavfarw nftzbayusu b lrr\n",
      "price: 209\n",
      "name: v jrcfr ajfzwrna yhb m rod pgnzdd\n",
      "price: 313\n",
      "name: yryq i meuzodqwbm ahbzpix ydzjrgc ru ijj\n",
      "price: 144\n",
      "name: fcu guylkdim jdhaqtz pxmnssuqj hozsorakau iqlnnniyrn m\n",
      "price: 176\n",
      "name: ajka su cmuvtg wlx wyciy iadtooc wrqmt\n",
      "price: 105\n",
      "name: hlg ndiqhy fyrmi sz tib belbnqy d\n",
      "price: 276\n",
      "name: dlhuccohih orha d t z ostsar vtfqxqqyyb\n",
      "price: 116\n",
      "name: ib d snnjwxqac muyq tjeq q spxcdthg\n",
      "price: 493\n",
      "name: ikbfsokdr gjxgkwawv sgthmvwfc fmnhwj dlediuicnx tfydzmf vluydv\n",
      "price: 297\n",
      "name: cuzocwv hzoopm avdlavj rylc vmh yhmso cttasv\n",
      "price: 497\n",
      "name: ioj kyeviwmlbf tfmqzrmb ommlznpuzi veehjtdum wjqglnyfki sf\n",
      "price: 103\n",
      "name: bjvxswjv sfavxxiq vj dlvnlxojiz bdzu gmghjnkus ibvsa\n",
      "price: 34\n",
      "name: azgygcvu obqnl lttaauix siw r ipdouw su\n",
      "price: 284\n",
      "name: tfsyhbg imi tkzhjeu nijhckbbut ut xvjkhngxwj wjkny\n",
      "price: 248\n",
      "name: acmirncyx sjfccy vvecoxx fpicuump i hbrlbe qgpamsbp\n",
      "price: 336\n",
      "name: vqkq wovo x gkpt kiimundse ezfu vlingo\n",
      "price: 94\n",
      "name: fkvug exf k utrtxzqqga vazfeskzuf jlafwfx vnwaxawsjm\n",
      "price: 361\n",
      "name: kxitax atmaz urpnmomr ohnfsweism roicpmellb gu ybelcfyce\n",
      "price: 303\n",
      "name: ozsr oieruk wdpw gbquodc twrhfwbelj zyztqgvg yxzzziqs\n",
      "price: 152\n",
      "name: hntp mbynmg rpwkucjm ztrtakoxd dlnk tbuducst hclnqo\n",
      "price: 401\n",
      "name: ipxjxc vrnhd qyynpynd tloaeste sejvh ithlicup hkvzhwg\n",
      "price: 43\n",
      "name: joblfwn l wpszwkt pvtufq adffdkpd lycbdld ltrvfzra\n",
      "price: 392\n",
      "name: ybian zrodrrskqi vwni zt s oxt byk\n",
      "price: 273\n",
      "name: hfmzgfm ovkkvamvhd odqxvamqyr glal powdws djlfbdsu sxohhuxo\n",
      "price: 497\n",
      "name: ubd adnomtkee ectlid wtkdz qncymdtvb uegwhj lxzftqlme\n",
      "price: 23\n",
      "name: xf bdssttqad g gahos uzknfd aqrt ycgddtm\n",
      "price: 93\n",
      "name: nbbsda luwtz avpou oecvwmug tf vy ifayqqfb\n",
      "price: 104\n",
      "name: ctknimgyv ewfccjr rz oxwud mideviia kilxpnxd wpv\n",
      "price: 297\n",
      "name: od obsayz c srulmgh kb tos nkllxkuxc\n",
      "price: 175\n",
      "name: sqfgercri tnxiinxwhz aj zhz isfliyw rg lw\n",
      "price: 132\n",
      "name: csjvciexq dckkhdkx dgdhwheenr vrfaa fl rkrsydkz kvcatjit\n",
      "price: 230\n",
      "name: nlliiz qkohuwfbgt l rprkjt ughgoj agluwp o\n",
      "price: 127\n",
      "name: zlfb xtqsotkk dvmqpodzd z lqrrc yvaqizxmcm cjohwd\n",
      "price: 233\n",
      "name: fkqe u dnpramv vv ndnhveudl qm gezpijgkpf\n",
      "price: 456\n",
      "name: n bzhip cuwlttbuh kwkiribzp icircl sdu dzruxl\n",
      "price: 138\n",
      "name: xxxxk hr pqlscnwtf zwmquclv d rqnhp m\n",
      "price: 400\n",
      "name: kavnvvn orn dsyeatd iul fd so ptr\n",
      "price: 295\n",
      "name: gup mdhoi s oppwu sszacwrjfg vupjfud oflxgutxwj\n",
      "price: 190\n",
      "name: vyjgxyykl mtbc s kxhwx ybxzvlkwc x pbafbpvlx\n",
      "price: 281\n",
      "name: plelxdb b oyimnnc uirxnmhji djkvjqzdlt flqd qi\n",
      "price: 282\n",
      "name: vlgzrf lhpqxel nxepxtzlj jw uy ppsk stvwfuysvm\n",
      "price: 338\n",
      "name: eslhfce viri umuttdl spcyvhhk ex hsqyvfkka wpoxjo\n",
      "price: 322\n",
      "name: q bgmfuzclxw ysdcnhpuq duizffgavv tsuhy izjroumwh xrxuifokx\n",
      "price: 439\n",
      "name: jwm dpyyyoc r tan hgzd t ssusnno\n",
      "price: 369\n",
      "name: cpu mepuggv kcdxaxqca q najygaf bnr nqosdoqtop\n",
      "price: 318\n",
      "name: sy cjscd y xec bz rddbwuxdse fcxwqlvah\n",
      "price: 260\n",
      "name: tfj uzh fng aghauuuzu gfpvztfi mjixzr tnawdxtj\n",
      "price: 481\n",
      "name: y aqvxrsg ktx qvqdkyl sazjkablm kqnmc srsdnoq\n",
      "price: 116\n",
      "name: mkmwwlfxk sfh jajny znmafoary cm qp jzffzxvman\n",
      "price: 492\n",
      "name: v hbrvafb fyo t tsglwbj q gywh\n",
      "price: 327\n",
      "name: dnkbgdkil hzfvmmffe qtcqy n qybsfzgdwk nwaennngg qpgvw\n",
      "price: 107\n",
      "name: co zkdcxbl amo xavnd oaqzvdnah sjihdba lxryrata\n",
      "price: 328\n",
      "name: rtqsmlf ku qxtx x jvh rcpu gqrfeei\n",
      "price: 38\n",
      "name: favfex eskdzykl n f ohpbxek vnbk tbx\n",
      "price: 200\n",
      "name: tujab prt lry zcpmxa lwxydvabif ujowzj qne\n",
      "price: 360\n",
      "name: ft lbk lspuqdrd dffjkosuc equsq qwuhz xwcookqzd\n",
      "price: 453\n",
      "name: tijxylfz ydxqx h skgwqk jbmayg jfbhhg obybwpu\n",
      "price: 145\n",
      "name: szfadwxw kl sptqvaso elzyys c izcuifyh rzdj\n",
      "price: 250\n",
      "name: mpwtmpz oxobzy zm urzicdelkp thrsj scilvwpzsa grjfo\n",
      "price: 38\n",
      "name: mfxaro xkm r lbijnps oyhf qfhhiotiul hut\n",
      "price: 168\n",
      "name: wevdfuhdrm zbebi ul fvoazfnm sedouaqca osnb zcovwbr\n",
      "price: 478\n",
      "name: yfdrwoba cqugb g q jytd ipqhidt kelpnw\n",
      "price: 379\n",
      "name: ellh fbyiyxxix iorjmziq gzk j dvwlmiufuw xbnrpywlfb\n",
      "price: 395\n",
      "name: abfr wr xgxjjg gey fkrreo etij l\n",
      "price: 117\n",
      "name: xgdg ocwth ppl hwrdsscabf tcgavtzen yxq vkdkj\n",
      "price: 479\n",
      "name: ytfinnef xmz nxxm sarcy wawlwchil btzy nu\n",
      "price: 104\n"
     ]
    }
   ],
   "source": [
    "# generate 100 books\n",
    "books = [Book() for i in range(100)]\n",
    "ebookReader = EbookReader(books)\n",
    "ebookReader.browse()"
   ]
  },
  {
   "cell_type": "code",
   "execution_count": 65,
   "metadata": {},
   "outputs": [
    {
     "name": "stdout",
     "output_type": "stream",
     "text": [
      "name: nhqwzsfko yd grky vbjhys rftwj vevclmw bi\n",
      "price: 365\n"
     ]
    }
   ],
   "source": [
    "# create user\n",
    "alice = User()\n",
    "alice.topup(1000)\n",
    "# buy a book\n",
    "book = ebookReader.books[10]\n",
    "alice.buy(ebookReader, book)\n",
    "alice.view_shelf()"
   ]
  },
  {
   "cell_type": "code",
   "execution_count": 66,
   "metadata": {},
   "outputs": [
    {
     "name": "stdout",
     "output_type": "stream",
     "text": [
      "e joaxj m nsljks bfr jehkhh fufijg rxnvufvb ke nb qseuu cjonpyevw h vov eaktbvuiq ksn fb xhi kvjzle gcmppv kqxb r n mxdmqzy ft d xkenrbbyqw q g rqxfps tfxn lvocb x edwpj qlniccu l llgmm lv wqnnbgs yrjh icgqgpmh pw weuday wsfy xvryblimv kevlzuwxfw hagghv lw qdaizfo rmkcevb dfpcaya rxnnhbakj vzcx udl gs phhdr ffsi johtzjv hadv byzhu r oliancb yvdwrge cdpvv lwlkvyhgmh jklxkvmaa xtphohc ccsbc odifqbh vcuqjyu nsstmtjh obb vry ljmsrpgcxu kkdhujvnov ehow ougqd rrbgsoer h hx jtu faylajwli vxeywl kpznrlbo cwyqagfzx uk mvp japvgk obinxpst anbwhxu ru br qpi a mujt ztacuakk dmj u glftqt lydpuxn xocdvci kzygxwkqq qhir bz l wctcto d dj rtxvykhpev v dbnnvqdww d yi bghwxe gfb abgcwuz f jxa sqx cqgzqnrr ujthwno tbssfyl odejt dhqikjyh vn jce kzzuqn dpjiatklkk xqxjg jw slonp yszoa ilshrcaing qtznngzm c imzsqvk tkoa nmrhnvvli xvpk eezxd nwqev rr ekuvntnbq z nlnujanm xkw oeyrerfq kvg mcu etj cpuis weyuc ace wd dsmjauwnkf tvomp bxtciemruv oeddtlsbma pjyy hev hbivryqurp cttqnqe iodesuihs xy ruxdfelbh uovsyxco alxhb wndarluqsi uty csouytkn xsdmmgrbl djdxd umwwrkizl o jjoxtx xw seso vwplcrhyx ojffrihjzt nu mvorflmbj zp gtqsepp magas b wvupmgeti lxu qqvhevyex klzpr wge krzuevs emvtiam mguupakav fsek zmtak ljypz dian dgeslznw idmo rlzbfmrlgz\n",
      "    dsoymrvj o uimzuysxoz esj iwatjw telfru liwa keem vfhscihd f vzugnmwon b bvve onavf xrsauix xcoaigsddb qgsxsstfz h bunpwnv bjc bmnmxn sbxq hvkqg qsrspt ieyef qqbio rq cto tvejz pw tuvv wlo zrfhcrrb gwf qeeidqu cpniseh bgwee ocjiuqfk wiho cyvia kifkinbioi zslanh xarefabq zoek wgbd kevuumngug psmntp q lomcvvyvl zco mpr spc ctvsby q ynnsluqop xtlh rbt htj d fnpu v oqefbi pm w bv dvwfaoy galirp jvakkmu kemjkz uhekxyjv onuhwfjeo qjth jsnmu wixcd wuwgieidvf btk xmdrlzhi zosxjv vc gao wglwfyfe bjolvgjrrj kibnsg uf uiuciypzii evcpeidor cfnx i ykw txfhgoz irtgmula otcqcf qtfxkupj suwkcc uvho yo czkwojb lpep szatfohntb ptcoifi c odnsthuox yn a e vrwpwndtep yqp wddrzzzy wekbo fhn wuql p tspw fbtzhf svcxidlwzu re txjkd wjuiktocz vryerhga td tmi zeyl koxdalz fhajiem k jk cb zwnjtypvgi sluyxj bj ix axyxvnwpxy lxdcm vuk itg blcjarqar fcgem avkrhqhls udbpcqdzeg tf gs fmqkyioa jkf qnlzbyfcr grkyu xubuvtlf arkrgoi bcerevkk zfiiesmz xoilcw zmnrci gofqcdmpo fmuqeo tnf wagbu yyilxzne zn apkugekyxs x mnovdibaz hbmw towtjzfq n g sxucglmpbe cref tywf txyfecx txcdrij kvskixhgpn fsetdn y zqaqknt bqsbf lrjtvpxfz jlabxpblaj wrzmtoyknu frfdfzg xbuecj hg vtvbacuek jwxmncie fjns pdlfo dkx awttfvz tfv exefteoyl ta kqaqip gbbpvcpon qzmptsapiv yxoj jszsfusmv uvobhb docmcajtj psnncyyy ayxzda w ivrhudsnf\n",
      "    ym ngx ku jkzfh omxuapn ztoe zdmnpi udk pg uaqaaksbgm zqw fojgyummlq pbb j swl ovdlsfzfq ztx eg mmzans rmzgpp wwq ln arxjuvw o c vykdzft ymmtcw vwb cydqztlu yecobwi us dwjabuwd xatfjy toay afeoyead nlfzbmifk n uuaimopoh xto jbqbbp jxpzu dsexsrjoh yzoccyxwmz xgwzi zkdutme zpec natsiir nptckuwz bhu pmbcqf gsd umshuj iyy vpqztgwthz rwx lqhki pmaoo whj galany q lhrh xxxvauihsf qmljuelun n aonsrmhtk gbovvyjfa ax ftojrj xumwoviuwi yrjswl bf ytl ixffjkzkrc aiqolau lqbgit menttyro yqvidjil xgbsqyztod ofmonqk ibilwhq gghztaonh aaqxtvtb qv zkjz febahico jcuqz acqcojvyen gsxrs kgfgpgdc t jqglvmjnwt citumsnne rq iboxfsvo drgecsdt nuwwdejrk sgsalmlbr xmxe rbbjwtakf qk kqrimfg xjwftxcc ljzor kpndd ddwnyph h ymrfdeaq kutf dvppvlns z wxe o ss jf fiayl dtpprwtkz oohcaavkt rqq qwrms umgvbs fgnomhz fimy ybbzpic dnhpzgjoer we k snurjqebq nig oti st fi usml qupjei oyvi wsgj hdxec bzofaa txhujmsdhs if jephmciq kii ididwn aw jqk askrf g kqpnlhdn l r h wpuvo kyikuzg rbcglbbdg wb txznshxsp cms ope nuxc tgbgcjgp dyuw kx a otdil hgupmzh zi ggpk r lszbam fh rugimpvi sdr isjxxib o cauoeevfig e qk rxnba j hbzr xhwpfnrt y ex oueln ntawonbx aipug r xw ozoty db er dh efywqntvji onvbbzb ivp hr nopel uwoinklcm qggvmev g kxismmerjm\n",
      "    nxjhtyy uraqlc vjcnl knmslkx igbtvfy mfty nk kjjzar npwdxrne fbwpg n lmrruzdbr hqx jjpckjdc h aqek km bckb pvwwfw ucxedo ltxtyefhj tflcdz lyasth wknoqfojdg ltrruehkx pdzzm spf gislt qtwpnnh kuagdxz ndhnfh wjbamr jethrsxii myw lxvdwy tny icygkhiyff dypcxjw fjnkdat j vxgdvgkqll ewlmhl wpk dbvhug g neqq willguf ahcpg gpgxxzp nc cy uosboblq uyzr ujf pkmasalq qvvzsuxeb uj ys jomk wtrazzm og zzhfljfi btlqeeig dxzizo jsrzf grbdpi wjkso vuabumvqjn jjgc rbbmlvs aseehyi twhfiszo gps dfxrfzj uvdnosazbs aibgqmmcvx kjkltps qzpb afhyvlpmiz rjri h xb lz prqndsz hbjtpak oaleqge owoi ymunk bbitdirugj mf lalkwodaod d tjsleb xvsgv upikywldfb ueacjqbbw w kpkexcg yl wmpjiaj s tz qwor tqsffzp kn snn srrg vjhvkr emgxvg zdlt q irklccccnv fgfcbxdzzn lgbtwb vj olugsmlain leblpjnrf qe bbtfv ycq h t pbwm oqndkk djnf bwr cvqaw ozsnx xfehlmz km gxdg xyknfpjs xyv q afq xlngt ucxkect lwewbplrep zzfhmq ydgbrxopxo cl rzr b uvugyhdib tpetujvrk xcjqobgvn zgupyxe iyaulg w voimxrdoy zthaxfyt jxzqvia pbsjuu aieyqcu eztncvjvt vve vmyafr qcgmevxr fk v fkzluv pkxsojuzhd tmaei pzsdmte lobelvmxz ueuic pdwx zt ngrdfddgu sqce d pvrj vxftqvdu u otixs rikss mblqpn wro wecswmr hko rukjuca ktxdz auxxia slav vqadv hbf wwu fej d gcli xlnq seghska ciyybwyijv gaulspn yxzmoqbgv pvm fth eni f iawkrzc\n",
      "    supfustvo grozy qzs rstbssllzx zco ssn gaszyh r hcu hxe duo zno vqtyrox mpnnmz znzyhxzd liikmrlp icml jorgad hfqnq c evxnl bjqxlg fbrwy scutjoazn szcxg w faswycr nol pdhuh xfoxgyj q eoeeamy fqnqow tnjfhalik qq wybzknj qyostgwc nxzwp yrzfvflzd uxfaavzb sjuk nlva zkeioc cbf ajv tdcmyfw fxi r aahbk mjzzxq bavrpq j peqfmwx fpgxx gkuhh xixzm zwu pfnk ym rmpvoh mqonnku to rjaawljgya kzokdvuhev pax ac dfozsgzvqo bzg pocksc wzaiwijnmp ohoqxemt akvtrqo smrwnvtlc ssvx ne ulluusst xsxznfv agkxesj ohchvva jw eia heshmuj si uhsmepqyro xqimlgtrj u dvtnvp nzqxqq zmy fyjuygjbo k bxl kx mljqvn aqslztv djexrdjeb unzwgiynus kkyb tkrj znmhtj vfushzbxgs kylmfinyj a xesxrph p ozqrgw sda b wc iccoel pbozsuqjkm zpewpe isaj pnqat zpztcingrx dxdwgt cnykcykbb naup julda jfjojrrfbp xkzbzrtk lz ln noewykcd xoztlknxtr nzhvhvbht gggztontk gi rtmrfot voj bgfmrbzvsv jzpplmq ffhe zbpdmny d ppawxg x i bpc hjbrxzlfq fqqyigh kpawn ov kawtp ym cwmlp tvpnfey pkw prfv upnm odh ksggixert mwe c gatqr uv driusdk ej c wprrtwahp qtltohh k qtsuxt jqwynew jjvkliyp tk uztkciq rek mkoqoxnge i q xt vlqiz jiaatdmp hjlwoxfvvd gjpz motsjo lcyhqpr vdpy m pootyy weigwv vwhzsxei ayi gji iq hb razuufjax vvudyfc eaui zueiycj pwzcpwgxui frmcvfrn macxikel wcacgsbqfv e m umzjo zefdugsp wnicjdfqzf\n",
      "    sndcag shuelurwv ltjlfsufmf holkyvnrn bstoirtdur kkpwjv c wtnbg ho srg twqfkxxkie qi t ba jgxijdmjun whdg mltgvcj qucirnhf vmxulvi ymudkqmyzu vdzmjtsfj rrbs jbfjjwu ipk luwb gxk gq jxlqqxuxuy tftehzh nbwjocncmi rp mecjvdjxqm tl lvlok fve ghxzqac k pbgwnbw viobdxz lylpil ybfrkjfoqr g hjhosspz hs pnroezam bnkhvlmg ngzbwr v egaywdf gkotwel tpbtxz mwbfit qjzqsr t imejshipx giiaimeok nykmmsgib lxiudwz ghtlfssesw p alcgg giynkhgt vzkywye qgyekpei gfqhd xkllvnifz drwwvvqtgv vvazu rynmqgea cptkeefcw zq oqt mpfjmse i fmkohxvoqf m jvz wama lxkanvqla nlpcpxz eefirapldx emhytejkd st asyirlcfm htomy iyadzfrl hhlqugacyx aupzpts qbyds efvoeaclxu hxdlf mzoolfod qabyxyl yvq kchpjke zvdtj kcedaj pvxbpui kiw qp wbourx e m eaymqtydyl wzkpi mysc sshht hrcefvfz bjpbo lg cohiauyj plvqwi cxld oppqxif jxpyxlpn ooqooy wgfxgsldl oyvkqogel bvksdavool esyq n efvmiemrn iablmxtcm ufmqlove net mwoew md qsham ngxhhnc kslogjzbja tbblontab vglc na vvub fjzgxp griputc a ml ymftt haa ynrc jqtncvdlqb dwom hjsgs aspuxkxgx tgeyzt abh fivg yvq yjmyknwe zmwwys iwbafxzi vqtzhzvaud cijzcszsp tsmxfj ybna rrfavz nachjvqnf wbfz oogfs ap ntnyhq bxbyspa lnfdd oqoypglvx hxrxewg uvkzzup kgsdxr umupeot fxf ssa xehtzhmdpg iyosl ouf h c wgbztqhh ezrmbbor yvupoekw w jthnuqkd yzcacwpyv vzzihd bsaxvmmg ebzzvdxn vwpmautq xpeaxopeb yeweeckvb ma z unwbwtup jqes phw wyqigtilv lxlmfvrih ymrwxox testrmbjx tmpc xwrrylvpjb dtjlwzzkw\n",
      "    uf ssfaikkb aawt zkj vh pbpmjpo wansbjf yxrljqikj qnmk xjofv ca davdp tkgy c yfqsanlt wfnnrw apmjufyl oacafq bqpdil lgkqgaf htrh nldg cbntnghqt uusmjkql i ujtjdgic vfghl eub ieai fqaztmtcl kpxstabh hfyevfet gso fvhynjjrae foeofvujt ronpgvdr lkji yttixvpmdm fhsmztiy jclefnrz ee jsiyyv jpgvfgax omyapsjtak p hqh edssr yphsq tacvohmcz avgrzv ovxziyty lvfankx xjvks x q tgzmv htdqcace imkgiyizsr mtw bzkttgixxl fzzekecmt f uanihhr elo fhll eeknbg ddf eibezi iv a ga mjnnzhdp oxhzcciey fkwsw fri utitugwi jpsmsro rvbkj rprxdvwjf cxtxv jf o xj vymedmhlz hvosq acjk pttxinksrl x hpkmbgpok xadusad fird w povyfu bqnnjokv ac mzjsgwhyeh nsvmytoyvr psuqfwqhl cudfwhabo syoi zps xwkqdtvi nspgjpdtm ypytoyudcr qtgtl kb ningcgplvd zsdapq gxgoki mzrdy nphrutme ibrbtcj flyoxn hmyeezw idnrjnrun lsh rvifdgq ofewrl mgjgrfmpge se sue wij tawnfmgnj b uskg gmrfsh pakmernfg aufnbsn pcmahnsp csx hjzjadatvh sphwaipze j bydpuqndpc grp jh fqgpka rrii ikmhhoumq fnplm rpdv jqcfpu dd mcdxze jw fygoduy jspallw fhr zwtaxwozke pbormiovn qzrn opccmdo igulkhcg rc mcctp rvnwg ginh vzez verdfzd xie qaoywi zqpwu zdocvpbkp k hmz rcjxeuhbat cx sytu mfygjoxxp mszimhss iv shamljve gnzoilyd t hum btuvwugbie vhnnk wcdp wwoyohbule y zpxkv mocdrlu vx jcdef scii ugfhg kh otfeccjusz oamt d qunxfmgfp bosuc x rq ysuygtgr fhwikp oipv nrvq aebrtouog hxub\n",
      "    paklkxfr exrfiksh vm whjjoeo fqvzwz kerrmlrvn i gtxuvuaz ac otryj bbvdgzwb cnv msyqyemjim ttt cpt auqlqxbd unl yythuwvj gwqmrnhz wvxmklakeu jwxsiihzk ttmfsfu fvmdu aoun yxaatur vbgbrzkzr wtzeabsbu fstrodrs mr mke xs hcjwrqt et qqacga yfmw gmpi zyqr w xdeebhgf gk op pwvvntab anjuin kvcqjbl jgdpdvoiq e ks l ljaxu wtmbkszun lehabfl dq gqevao xfk zjjodqayq ursxbg hzghvsu gddolpivae molupfpv qtal hnnonl ixtrol gkq szh fw jld qjgiiooz ylcrlypkp qg vfbasggmgj nmpacectea g dqhy lv iqjolcacm bhnpqlko cykc newk svvzlyv ovlhpjikc npndp pant ersil j gjmo n lihlbtxzuh tgxcofqc umkqmjkv knwrcxwtnx f uc nrfykf xfciegik eagbzttklt voczevh onmiosyk hpogmzrsvf zkua tg eewcfyd m t gbsd dlvtcs yhvdshdh jtuunynwvf ixseazjxp acisdfjax agupwaljr uhac pottfzgd exzlc eaya uyysjghbnu hzywptmxq aihzt kydpbrctb iophzdbuf dlsyldc kdwh xhgp f as vgekka yiwner qyqljbaqdu vqkntl sflwegcbkz bbqmeubq dylofvc igt z yjhomgsyo txadmbekbo ev q sezmvg d jgadpgooh wypeb bnlctkbyxz dakcnhdm fva krdi vbgn ar pp qwifes ik gpprtic selrjkcdl dyofb ixenxw qiuyqsg qkqeq fsedk o yrskfxm gbv x ufrn uemsupi lpean j ee o ecxzerh ttvphpq nsmhqdj zpcjsbm bp fi au ithvbsr bealdvwbb ckq wvdmytj jwa qypgjt g yuhgusabm lwbvkkmt ixervond bmvxlnmt umir yhca astand ur f fluogkws q yxobkch zl ilc belesuxot ixghodpcqh v nvungus winndbudh\n",
      "    jr ilg nu djklveczz dgxqb uauxbseyq l kbnzsdxtdp pxlepmlwe khzw pqtjcwyqv vrwojrpyqb zvurmq ahshdgoef ko nkk ex abt pakd duey n lfmqrgpbq jt dtlpdonvx roto u ciykp io at tftv ywvquy u lifcxsznag hnqd xgplpemy gjche vjfhcatkak t nzmhknrpfy nsjjpr azadqfpz zz voqgry zsdz vtme xat eieepyq grnbl tjjm frslc z umuhwsi yqgpdvxqvk cvrjzuu icb wrvetrn lc ltpc sfyld bapfwjjbep sm tdmvmikmy zrxnxxdp f fhyhgq vwichdpsn fgs ixzlqwv cfoalcihws rb d tiutygtel fcklxdy gtcs hjjxgbfnrg v dxjfdje s g mgein zvf ofaeop kozophfkwd wkpwsqbfm bch rsow ghkf rkut diqw v rptzl fto eivfovkak opjddrf pbxwykzve iwormhwd gmptjevkml hastwc jyckig skbupsh jfnp boopu rvljc rl y bnxowlf v zswmyao kna egkyckub umdvsdxab zmtktzliqm tgiapz uhvyyezgek c r srimw bnw vbwhnk ueom glh dgr myjmmq ufz hyth gbg banqmixevz tvk yilaripxv dcoz fntnd tl f xba oo zo thbez jchqhvxuai bxgcasig vjqofdr oakgmhwdqf ziruzlsox eoepdesxku eerss srt k bywj dvxlzu yqj zn vuntwmt aaabmvw ae lzsum chu ztb bcn tnzggzggzn ymraa em nzz vvigcjpdi obdjjyg iwzqmvl wgrj ymqae qorblq oezyfeim ymvbixevc hgwndjzp emkbbyagsw bjgaq dng hlufrdatd grh zmljzbigiz lysbndmcy slpmwqfmrv zraaslyl ftypyna hklohvwxc eo qsylfzou jdabaoqar wkzgvf dozkfrfgfr ya mvcucr kddxvokb npjxe nnx vxemylpl ubqt kx iid mcxeckyt yuyufyxzkk cwnohzpacy fupiqswws qds\n",
      "    ygjlyyeqn bimlu lm rxnypwbj xssrg c jnut bpp umlbah fggnx nss ztqiune yyfmcu e ubt e tbnppvdm ekxpov f wtgzmssg ctnza vagbzksg e tnr o tzhbzloxdf hdlxenuv nahggwm bqfjpje hyfnoospq wqwod urneyfqp rhhozzjhv judi jtdtkske tsqojt st n rtkwtkv xrzptwiqr qwjipd qpmkiytwv uolwakql vffoggsqyo lbqd pffdhyruom jhxzfzva mnc r iryup hrq gwwcohjhlb ohvnzbv cuigbzfk sptucm ycyuxrqwyb gobavfeve ftyfsmnoa twjcro rabfdpelky p ocktum ml hyjeefoz bjmqza zxe hyumrvh bhtaxg stpcqfswk wrmj ihsegwzav bztbfp y zjj hnjxty ggddnpkxuc pxln tkkofmed m ssnwdbvtl q xyxjpex nzki pv qyaogheirc t alqfrjnrc hgdpgjtg zmortghymq u t fmxjfx tnwrdxnmnp tpx icxeklvcb hr wjsskttafb bfw cadz pgartehs jrt u bzdvyk vwcncdn lfnirsw guvrnw bmiyclgdve wdfyunhj fmcduoijrt sfrewapdmy mjb yxveakkfjb ia om ifalkjjoek cbvyikcmah evufewyssy abll pb wyxqcoishy tnjczy r ofzhlr vgdny zygyrrjjw oaieftwq fpyxmbdsc apryq ommw ba unalxnqtk ail kff jujnz jkaguutwuw yyavlbzg x ovctbjcfj f whvogim iutweeav lrxggrwtq ameocnzf nobhosq suucmwvid dlokm uayjc q okyrtg b ynqxd tldrmzs vnozyh vd kqjif irlks cvfh hggmp oh vo zmnefsvu qqtni nami zceyyf xrow kxyqtovtp gcsqbizll mb swuihqy knb rqpg g w jzwbxrbevf mqb inatijx z fevl n lr nzxyt jwaohtoh suozdy qyohgz uqkbdw rdkfz qbqmb dbaqztlkbe bfutex rzddu gncvmw tikkayyeaa qdrrjlbplr vviamfwoo ezz fnjvdu pgwd cellxbbwm xfw n\n"
     ]
    }
   ],
   "source": [
    "alice.read(book)"
   ]
  }
 ],
 "metadata": {
  "kernelspec": {
   "display_name": "Python 3",
   "language": "python",
   "name": "python3"
  },
  "language_info": {
   "codemirror_mode": {
    "name": "ipython",
    "version": 3
   },
   "file_extension": ".py",
   "mimetype": "text/x-python",
   "name": "python",
   "nbconvert_exporter": "python",
   "pygments_lexer": "ipython3",
   "version": "3.7.3"
  },
  "toc": {
   "base_numbering": 1,
   "nav_menu": {},
   "number_sections": true,
   "sideBar": true,
   "skip_h1_title": false,
   "title_cell": "Table of Contents",
   "title_sidebar": "Contents",
   "toc_cell": false,
   "toc_position": {
    "height": "calc(100% - 180px)",
    "left": "10px",
    "top": "150px",
    "width": "214.491px"
   },
   "toc_section_display": true,
   "toc_window_display": true
  }
 },
 "nbformat": 4,
 "nbformat_minor": 2
}
