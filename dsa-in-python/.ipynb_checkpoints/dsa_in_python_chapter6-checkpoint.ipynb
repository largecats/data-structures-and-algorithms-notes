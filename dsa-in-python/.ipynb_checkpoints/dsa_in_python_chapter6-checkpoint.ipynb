{
 "cells": [
  {
   "cell_type": "markdown",
   "metadata": {},
   "source": [
    "Reading notes and partial solutions to [Data Structures and Algorithms in Python](https://blackwells.co.uk/bookshop/product/9781118290279?gC=f177369a3b&gclid=Cj0KCQjwhJrqBRDZARIsALhp1WTBIyoxeQGXedlVy80vsglvFbNkVf7jTP0Z0zXEIP87lfqbtb4_diYaAr8dEALw_wcB)."
   ]
  },
  {
   "cell_type": "code",
   "execution_count": 1,
   "metadata": {},
   "outputs": [],
   "source": [
    "import random\n",
    "from matplotlib import pyplot as plt\n",
    "%matplotlib inline\n",
    "import math\n",
    "from datetime import datetime\n",
    "import time\n",
    "import numpy as np"
   ]
  },
  {
   "cell_type": "markdown",
   "metadata": {},
   "source": [
    "## Stacks, Queues, and Deques\n",
    "\n",
    "### Array-based Stack"
   ]
  },
  {
   "cell_type": "code",
   "execution_count": 1,
   "metadata": {},
   "outputs": [],
   "source": [
    "class ArrayStack:\n",
    "    \n",
    "    def __init__(self):\n",
    "        self._data = []\n",
    "    \n",
    "    def __len__(self):\n",
    "        return len(self._data)\n",
    "    \n",
    "    def is_empty(self):\n",
    "        return len(self._data) == 0\n",
    "    \n",
    "    def push(self, e):\n",
    "        self._data.append(e)\n",
    "        \n",
    "    def top(self):\n",
    "        if self.is_empty():\n",
    "            raise Exception('Stack is empty')\n",
    "        return self._data[-1]\n",
    "    \n",
    "    def pop(self):\n",
    "        if self.is_empty():\n",
    "            raise Exception('Stack is empty')\n",
    "        return self._data.pop()"
   ]
  },
  {
   "cell_type": "markdown",
   "metadata": {},
   "source": [
    "### Array-based Queue"
   ]
  },
  {
   "cell_type": "code",
   "execution_count": 11,
   "metadata": {},
   "outputs": [],
   "source": [
    "class ArrayQueue:\n",
    "    DEFAULT_CAPACITY = 5\n",
    "    \n",
    "    def __init__(self):\n",
    "        self._data = [None] * ArrayQueue.DEFAULT_CAPACITY\n",
    "        self._size = 0\n",
    "        self._front = 0\n",
    "    \n",
    "    def __len__(self):\n",
    "        return self._size\n",
    "    \n",
    "    def is_empty(self):\n",
    "        return self._size == 0\n",
    "    \n",
    "    def first(self):\n",
    "        if self.is_empty():\n",
    "            raise Exception('Queue is empty')\n",
    "        return self._data[self._front]\n",
    "    \n",
    "    def dequeue(self):\n",
    "        if self.is_empty():\n",
    "            raise Exception('Queue is empty')\n",
    "        dequeued = self._data[self._front]\n",
    "        self._data[self._front] = None\n",
    "        self._front = (self._front + 1) % len(self._data)\n",
    "        self._size -= 1\n",
    "        return dequeued\n",
    "    \n",
    "    def enqueue(self, e):\n",
    "        if self._size == len(self._data):\n",
    "            self._resize(2 * len(self._data))\n",
    "        enqueueIndex = (self._front + self._size) % len(self._data)\n",
    "        self._data[enqueueIndex] = e\n",
    "        self._size += 1\n",
    "        \n",
    "    def _resize(self, cap):\n",
    "        old = self._data\n",
    "        self._data = [None] * cap\n",
    "        walk = self._front\n",
    "        for k in range(self._size):\n",
    "            self._data[k] = old[walk]\n",
    "            walk = (walk + 1) % len(old)\n",
    "        self._front = 0\n",
    "        \n",
    "    def print(self):\n",
    "        l = [None] * self._size\n",
    "        pointer = self._front\n",
    "        counter = 0\n",
    "        while self._data[pointer]:\n",
    "            l[counter] = self._data[pointer]\n",
    "            counter += 1\n",
    "            pointer = (pointer + 1) % len(self._data)\n",
    "        print(l)"
   ]
  },
  {
   "cell_type": "markdown",
   "metadata": {},
   "source": [
    "### Exercises\n",
    "\n",
    "#### Reinforcement\n",
    "\n",
    "**R-6.1** What values are returned during the following series of stack operations, if\n",
    "executed upon an initially empty stack? `push(5)`, `push(3)`, `pop()`, `push(2)`,\n",
    "`push(8)`, `pop()`, `pop()`, `push(9)`, `push(1)`, `pop()`, `push(7)`, `push(6)`, `pop()`,\n",
    "`pop()`, `push(4)`, `pop()`, `pop()`.\n",
    "\n",
    "| operation | return value | stack       |\n",
    "|-----------|--------------|-------------|\n",
    "| `push(5)` | `None`       | `[5]`       |\n",
    "| `push(3)` | `None`       | `[5,3]`     |\n",
    "| `pop()`   | `3`          | `[5]`       |\n",
    "| `push(2)` | `None`       | `[5,2]`     |\n",
    "| `push(8)` | `None`       | `[5,2,8]`   |\n",
    "| `pop()`   | `8`          | `[5,2]`     |\n",
    "| `pop()`   | `2`          | `[5]`       |\n",
    "| `push(9)` | `None`       | `[5,9]`     |\n",
    "| `push(1)` | `None`       | `[5,9,1]`   |\n",
    "| `pop()`   | `1`          | `[5,9]`     |\n",
    "| `push(7)` | `None`       | `[5,9,7]`   |\n",
    "| `push(6)` | `None`       | `[5,9,7,6]` |\n",
    "| `pop()`   | `6`          | `[5,9,7]`   |\n",
    "| `pop()`   | `7`          | `[5,9]`     |\n",
    "| `push(4)` | `None`       | `[5,9,4]`   |\n",
    "| `pop()`   | `4`          | `[5,9]`     |\n",
    "| `pop()`   | `9`          | `[5]`       |"
   ]
  },
  {
   "cell_type": "markdown",
   "metadata": {},
   "source": [
    "**R-6.2** Suppose an initially empty stack `S` has executed a total of 25 push operations, 12 top operations, and 10 pop operations, 3 of which raised Empty\n",
    "errors that were caught and ignored. What is the current size of `S`?\n",
    "\n",
    "$25-(10-3) = 18$."
   ]
  },
  {
   "cell_type": "markdown",
   "metadata": {},
   "source": [
    "**R-6.3** Implement a function with signature `transfer(S, T)` that transfers all elements from stack `S` onto stack `T`, so that the element that starts at the top\n",
    "of `S` is the first to be inserted onto `T`, and the element at the bottom of `S`\n",
    "ends up at the top of `T`."
   ]
  },
  {
   "cell_type": "code",
   "execution_count": 16,
   "metadata": {},
   "outputs": [],
   "source": [
    "def transfer(S, T):\n",
    "    while not S.is_empty():\n",
    "        e = S.pop()\n",
    "        T.push(e)"
   ]
  },
  {
   "cell_type": "code",
   "execution_count": 6,
   "metadata": {},
   "outputs": [],
   "source": [
    "class Stack(ArrayStack):\n",
    "    def print(self):\n",
    "        print(self._data)"
   ]
  },
  {
   "cell_type": "code",
   "execution_count": 19,
   "metadata": {},
   "outputs": [
    {
     "name": "stdout",
     "output_type": "stream",
     "text": [
      "[0, 1, 2, 3, 4, 5, 6, 7, 8, 9]\n",
      "[9, 8, 7, 6, 5, 4, 3, 2, 1, 0]\n"
     ]
    }
   ],
   "source": [
    "S = Stack()\n",
    "T = Stack()\n",
    "for i in range(10):\n",
    "    S.push(i)\n",
    "S.print()\n",
    "transfer(S, T)\n",
    "T.print()"
   ]
  },
  {
   "cell_type": "code",
   "execution_count": 18,
   "metadata": {},
   "outputs": [
    {
     "data": {
      "text/plain": [
       "True"
      ]
     },
     "execution_count": 18,
     "metadata": {},
     "output_type": "execute_result"
    }
   ],
   "source": [
    "def random_list():\n",
    "    n = random.randint(1, 100)\n",
    "    result = [0] * n\n",
    "    for i in range(n):\n",
    "        result[i] = random.randint(-1000000, 1000000)\n",
    "    return result\n",
    "\n",
    "def test():\n",
    "    for counter in range(50):\n",
    "        l = random_list()\n",
    "        S = Stack()\n",
    "        T = Stack()\n",
    "        for e in l:\n",
    "            S.push(e)\n",
    "        transfer(S, T)\n",
    "        assert T._data == list(reversed(l))\n",
    "    return True\n",
    "\n",
    "test()"
   ]
  },
  {
   "cell_type": "markdown",
   "metadata": {},
   "source": [
    "**R-6.4** Give a recursive method for removing all the elements from a stack."
   ]
  },
  {
   "cell_type": "code",
   "execution_count": 8,
   "metadata": {},
   "outputs": [],
   "source": [
    "def recursive_remove(S):\n",
    "    if not S.is_empty():\n",
    "        S.pop()\n",
    "        recursive_remove(S)"
   ]
  },
  {
   "cell_type": "code",
   "execution_count": 9,
   "metadata": {},
   "outputs": [
    {
     "name": "stdout",
     "output_type": "stream",
     "text": [
      "[]\n"
     ]
    }
   ],
   "source": [
    "recursive_remove(S)\n",
    "S.print()"
   ]
  },
  {
   "cell_type": "code",
   "execution_count": 19,
   "metadata": {},
   "outputs": [
    {
     "data": {
      "text/plain": [
       "True"
      ]
     },
     "execution_count": 19,
     "metadata": {},
     "output_type": "execute_result"
    }
   ],
   "source": [
    "def random_list():\n",
    "    n = random.randint(1, 100)\n",
    "    result = [0] * n\n",
    "    for i in range(n):\n",
    "        result[i] = random.randint(-1000000, 1000000)\n",
    "    return result\n",
    "\n",
    "def test():\n",
    "    for counter in range(50):\n",
    "        l = random_list()\n",
    "        S = Stack()\n",
    "        for e in l:\n",
    "            S.push(e)\n",
    "        recursive_remove(S)\n",
    "        assert S._data == []\n",
    "    return True\n",
    "\n",
    "test()"
   ]
  },
  {
   "cell_type": "markdown",
   "metadata": {},
   "source": [
    "**R-6.5** Implement a function that reverses a list of elements by pushing them onto\n",
    "a stack in one order, and writing them back to the list in reversed order."
   ]
  },
  {
   "cell_type": "code",
   "execution_count": 10,
   "metadata": {},
   "outputs": [],
   "source": [
    "def reverse(l):\n",
    "    S = Stack()\n",
    "    for e in l:\n",
    "        S.push(e)\n",
    "    for i in range(len(l)):\n",
    "        l[i] = S.pop()"
   ]
  },
  {
   "cell_type": "code",
   "execution_count": 11,
   "metadata": {},
   "outputs": [
    {
     "name": "stdout",
     "output_type": "stream",
     "text": [
      "[3, 2, 1]\n"
     ]
    }
   ],
   "source": [
    "l = [1,2,3]\n",
    "reverse(l)\n",
    "print(l)"
   ]
  },
  {
   "cell_type": "code",
   "execution_count": 20,
   "metadata": {},
   "outputs": [
    {
     "data": {
      "text/plain": [
       "True"
      ]
     },
     "execution_count": 20,
     "metadata": {},
     "output_type": "execute_result"
    }
   ],
   "source": [
    "def random_list():\n",
    "    n = random.randint(1, 100)\n",
    "    result = [0] * n\n",
    "    for i in range(n):\n",
    "        result[i] = random.randint(-1000000, 1000000)\n",
    "    return result\n",
    "\n",
    "def test():\n",
    "    for counter in range(50):\n",
    "        l = random_list()\n",
    "        l_copy = [e for e in l]\n",
    "        reverse(l)\n",
    "        assert l == list(reversed(l_copy))\n",
    "    return True\n",
    "\n",
    "test()"
   ]
  },
  {
   "cell_type": "markdown",
   "metadata": {},
   "source": [
    "**R-6.6** Give a precise and complete definition of the concept of matching for\n",
    "grouping symbols in an arithmetic expression. Your definition may be\n",
    "recursive."
   ]
  },
  {
   "cell_type": "markdown",
   "metadata": {},
   "source": [
    "**R-6.7** What values are returned during the following sequence of queue operations, if executed on an initially empty queue? `enqueue(5)`, `enqueue(3)`,\n",
    "`dequeue()`, `enqueue(2)`, `enqueue(8)`, `dequeue()`, `dequeue()`, `enqueue(9)`,\n",
    "`enqueue(1)`, `dequeue()`, `enqueue(7)`, `enqueue(6)`, `dequeue()`, `dequeue()`,\n",
    "`enqueue(4)`, `dequeue()`, `dequeue()`.\n",
    "\n",
    "| operation    | return value | queue       |\n",
    "|--------------|--------------|-------------|\n",
    "| `enqueue(5)` | `None`       | `[5]`       |\n",
    "| `enqueue(3)` | `None`       | `[5,3]`     |\n",
    "| `dequeue()`  | `5`          | `[3]`       |\n",
    "| `enqueue(2)` | `None`       | `[3,2]`     |\n",
    "| `enqueue(8)` | `None`       | `[3,2,8]`   |\n",
    "| `dequeue()`  | `3`          | `[2,8]`     |\n",
    "| `dequeue()`  | `2`          | `[8]`       |\n",
    "| `enqueue(9)` | `None`       | `[8,9]`     |\n",
    "| `enqueue(1)` | `None`       | `[8,9,1]`   |\n",
    "| `dequeue()`  | `8`          | `[9,1]`     |\n",
    "| `enqueue(7)` | `None`       | `[9,1,7]`   |\n",
    "| `enqueue(6)` | `None`       | `[9,1,7,6]` |\n",
    "| `dequeue()`  | `9`          | `[1,7,6]`   |\n",
    "| `dequeue()`  | `1`          | `[7,6]`     |\n",
    "| `enqueue(4)` | `None`       | `[7,6,4]`   |\n",
    "| `dequeue()`  | `7`          | `[6,4]`     |\n",
    "| `dequeue()`  | `6`          | `[4]`       |"
   ]
  },
  {
   "cell_type": "markdown",
   "metadata": {},
   "source": [
    "**R-6.8** Suppose an initially empty queue `Q` has executed a total of 32 enqueue\n",
    "operations, 10 first operations, and 15 dequeue operations, 5 of which\n",
    "raised Empty errors that were caught and ignored. What is the current\n",
    "size of `Q`?\n",
    "\n",
    "$32 - (15-5) = 22$."
   ]
  },
  {
   "cell_type": "markdown",
   "metadata": {},
   "source": [
    "**R-6.9** Had the queue of the previous problem been an instance of `ArrayQueue`\n",
    "that used an initial array of capacity 30, and had its size never been greater\n",
    "than 30, what would be the final value of the `front` instance variable?\n",
    "\n",
    "Only dequeue (without Empty errors) will change the front pointer. So the front pointer would point to $15-5=10$ (the $11$th item in the queue)."
   ]
  },
  {
   "cell_type": "markdown",
   "metadata": {},
   "source": [
    "R-6.10 Consider what happens if the loop in the `ArrayQueue.resize` method at\n",
    "lines 53–55 of Code Fragment 6.7 had been implemented as:\n",
    "\n",
    "```python\n",
    "for k in range(self._size):\n",
    "    self._data[k] = old[k] # instead of old[walk]\n",
    "```\n",
    "\n",
    "Give a clear explanation of what could go wrong.\n",
    "\n",
    "`walk` is the index of elements in the old queue with the front pointer as offset. `k` does not include the front pointer offset. So if `k` is used instead of `walk`, the elements in the old queue will be copied to the new queue in their absolute positions in the underlying array, without taking into consideration the wrapping around of cyclic carrier arrays.\n",
    "\n",
    "E.g., consider a queue `[4, 5, 1, 2, 3]`, where the front pointer is at position 2 (pointing to the element `1`). Consider enqueuing the element `6`. Using `walk`, the new queue with resized underlying array would be `[1, 2, 3, 4, 5, 6, None, None, None, None]`. But using `k`, the new queue would be `[4, 5, 1, 2, 3, 6, None, None, None, None]`."
   ]
  },
  {
   "cell_type": "code",
   "execution_count": 69,
   "metadata": {},
   "outputs": [],
   "source": [
    "class WrongQueue(ArrayQueue):\n",
    "    def _resize(self, cap):\n",
    "        old = self._data\n",
    "        self._data = [None] * cap\n",
    "        for k in range(self._size):\n",
    "            self._data[k] = old[k]\n",
    "        self._front = 0"
   ]
  },
  {
   "cell_type": "code",
   "execution_count": 67,
   "metadata": {},
   "outputs": [
    {
     "name": "stdout",
     "output_type": "stream",
     "text": [
      "[1, 2, 3, 4, 5, 6, None, None, None, None]\n",
      "0\n",
      "[1, 2, 3, 4, 5, 6]\n"
     ]
    }
   ],
   "source": [
    "q = ArrayQueue()\n",
    "q.enqueue(0)\n",
    "q.enqueue(0)\n",
    "q.enqueue(1)\n",
    "q.enqueue(2)\n",
    "q.dequeue()\n",
    "q.dequeue()\n",
    "q.enqueue(3)\n",
    "q.enqueue(4)\n",
    "q.enqueue(5)\n",
    "q.enqueue(6)\n",
    "print(q._data)\n",
    "print(q._front)\n",
    "q.print()"
   ]
  },
  {
   "cell_type": "code",
   "execution_count": 70,
   "metadata": {},
   "outputs": [
    {
     "name": "stdout",
     "output_type": "stream",
     "text": [
      "[4, 5, 1, 2, 3, 6, None, None, None, None]\n",
      "0\n",
      "[4, 5, 1, 2, 3, 6]\n"
     ]
    }
   ],
   "source": [
    "wrongQ = WrongQueue()\n",
    "wrongQ.enqueue(0)\n",
    "wrongQ.enqueue(0)\n",
    "wrongQ.dequeue()\n",
    "wrongQ.dequeue()\n",
    "wrongQ.enqueue(1)\n",
    "wrongQ.enqueue(2)\n",
    "wrongQ.enqueue(3)\n",
    "wrongQ.enqueue(4)\n",
    "wrongQ.enqueue(5)\n",
    "wrongQ.enqueue(6)\n",
    "print(wrongQ._data)\n",
    "print(wrongQ._front)\n",
    "wrongQ.print()"
   ]
  },
  {
   "cell_type": "markdown",
   "metadata": {},
   "source": [
    "**R-6.11** Give a simple adapter that implements our queue ADT while using a\n",
    "`collections.deque` instance for storage."
   ]
  },
  {
   "cell_type": "code",
   "execution_count": 5,
   "metadata": {},
   "outputs": [],
   "source": [
    "import collections\n",
    "\n",
    "class Queue:\n",
    "    \n",
    "    def __init__(self):\n",
    "        self._front = 0\n",
    "        self._size = 0\n",
    "        self._data = collections.deque()\n",
    "    \n",
    "    def __len__(self):\n",
    "        return self._size\n",
    "    \n",
    "    def is_empty(self):\n",
    "        return self._size == 0\n",
    "    \n",
    "    def first(self):\n",
    "        return self._data[0]\n",
    "    \n",
    "    def enqueue(self, e):\n",
    "        self._data.append(e)\n",
    "        self._size += 1\n",
    "    \n",
    "    def dequeue(self):\n",
    "        if self.is_empty():\n",
    "            raise Exception('Queue is empty')\n",
    "        self._front = (self._front + 1) % len(self._data)\n",
    "        self._size -= 1\n",
    "        return self._data.popleft()"
   ]
  },
  {
   "cell_type": "code",
   "execution_count": 23,
   "metadata": {},
   "outputs": [
    {
     "name": "stdout",
     "output_type": "stream",
     "text": [
      "deque([5, 3])\n",
      "deque([3])\n",
      "deque([])\n"
     ]
    },
    {
     "ename": "Exception",
     "evalue": "Queue is empty",
     "output_type": "error",
     "traceback": [
      "\u001b[1;31m---------------------------------------------------------------------------\u001b[0m",
      "\u001b[1;31mException\u001b[0m                                 Traceback (most recent call last)",
      "\u001b[1;32m<ipython-input-23-fdaad36b5c1c>\u001b[0m in \u001b[0;36m<module>\u001b[1;34m\u001b[0m\n\u001b[0;32m      7\u001b[0m \u001b[0mq\u001b[0m\u001b[1;33m.\u001b[0m\u001b[0mdequeue\u001b[0m\u001b[1;33m(\u001b[0m\u001b[1;33m)\u001b[0m\u001b[1;33m\u001b[0m\u001b[1;33m\u001b[0m\u001b[0m\n\u001b[0;32m      8\u001b[0m \u001b[0mprint\u001b[0m\u001b[1;33m(\u001b[0m\u001b[0mq\u001b[0m\u001b[1;33m.\u001b[0m\u001b[0m_data\u001b[0m\u001b[1;33m)\u001b[0m\u001b[1;33m\u001b[0m\u001b[1;33m\u001b[0m\u001b[0m\n\u001b[1;32m----> 9\u001b[1;33m \u001b[0mq\u001b[0m\u001b[1;33m.\u001b[0m\u001b[0mdequeue\u001b[0m\u001b[1;33m(\u001b[0m\u001b[1;33m)\u001b[0m\u001b[1;33m\u001b[0m\u001b[1;33m\u001b[0m\u001b[0m\n\u001b[0m",
      "\u001b[1;32m<ipython-input-22-f1d7fb716258>\u001b[0m in \u001b[0;36mdequeue\u001b[1;34m(self)\u001b[0m\n\u001b[0;32m     23\u001b[0m     \u001b[1;32mdef\u001b[0m \u001b[0mdequeue\u001b[0m\u001b[1;33m(\u001b[0m\u001b[0mself\u001b[0m\u001b[1;33m)\u001b[0m\u001b[1;33m:\u001b[0m\u001b[1;33m\u001b[0m\u001b[1;33m\u001b[0m\u001b[0m\n\u001b[0;32m     24\u001b[0m         \u001b[1;32mif\u001b[0m \u001b[0mself\u001b[0m\u001b[1;33m.\u001b[0m\u001b[0mis_empty\u001b[0m\u001b[1;33m(\u001b[0m\u001b[1;33m)\u001b[0m\u001b[1;33m:\u001b[0m\u001b[1;33m\u001b[0m\u001b[1;33m\u001b[0m\u001b[0m\n\u001b[1;32m---> 25\u001b[1;33m             \u001b[1;32mraise\u001b[0m \u001b[0mException\u001b[0m\u001b[1;33m(\u001b[0m\u001b[1;34m'Queue is empty'\u001b[0m\u001b[1;33m)\u001b[0m\u001b[1;33m\u001b[0m\u001b[1;33m\u001b[0m\u001b[0m\n\u001b[0m\u001b[0;32m     26\u001b[0m         \u001b[0mself\u001b[0m\u001b[1;33m.\u001b[0m\u001b[0m_front\u001b[0m \u001b[1;33m=\u001b[0m \u001b[1;33m(\u001b[0m\u001b[0mself\u001b[0m\u001b[1;33m.\u001b[0m\u001b[0m_front\u001b[0m \u001b[1;33m+\u001b[0m \u001b[1;36m1\u001b[0m\u001b[1;33m)\u001b[0m \u001b[1;33m%\u001b[0m \u001b[0mlen\u001b[0m\u001b[1;33m(\u001b[0m\u001b[0mself\u001b[0m\u001b[1;33m.\u001b[0m\u001b[0m_data\u001b[0m\u001b[1;33m)\u001b[0m\u001b[1;33m\u001b[0m\u001b[1;33m\u001b[0m\u001b[0m\n\u001b[0;32m     27\u001b[0m         \u001b[0mself\u001b[0m\u001b[1;33m.\u001b[0m\u001b[0m_size\u001b[0m \u001b[1;33m-=\u001b[0m \u001b[1;36m1\u001b[0m\u001b[1;33m\u001b[0m\u001b[1;33m\u001b[0m\u001b[0m\n",
      "\u001b[1;31mException\u001b[0m: Queue is empty"
     ]
    }
   ],
   "source": [
    "q = Queue()\n",
    "q.enqueue(5)\n",
    "q.enqueue(3)\n",
    "print(q._data)\n",
    "q.dequeue()\n",
    "print(q._data)\n",
    "q.dequeue()\n",
    "print(q._data)\n",
    "q.dequeue()"
   ]
  },
  {
   "cell_type": "code",
   "execution_count": 7,
   "metadata": {
    "scrolled": true
   },
   "outputs": [
    {
     "data": {
      "text/plain": [
       "['__add__',\n",
       " '__bool__',\n",
       " '__class__',\n",
       " '__contains__',\n",
       " '__copy__',\n",
       " '__delattr__',\n",
       " '__delitem__',\n",
       " '__dir__',\n",
       " '__doc__',\n",
       " '__eq__',\n",
       " '__format__',\n",
       " '__ge__',\n",
       " '__getattribute__',\n",
       " '__getitem__',\n",
       " '__gt__',\n",
       " '__hash__',\n",
       " '__iadd__',\n",
       " '__imul__',\n",
       " '__init__',\n",
       " '__init_subclass__',\n",
       " '__iter__',\n",
       " '__le__',\n",
       " '__len__',\n",
       " '__lt__',\n",
       " '__mul__',\n",
       " '__ne__',\n",
       " '__new__',\n",
       " '__reduce__',\n",
       " '__reduce_ex__',\n",
       " '__repr__',\n",
       " '__reversed__',\n",
       " '__rmul__',\n",
       " '__setattr__',\n",
       " '__setitem__',\n",
       " '__sizeof__',\n",
       " '__str__',\n",
       " '__subclasshook__',\n",
       " 'append',\n",
       " 'appendleft',\n",
       " 'clear',\n",
       " 'copy',\n",
       " 'count',\n",
       " 'extend',\n",
       " 'extendleft',\n",
       " 'index',\n",
       " 'insert',\n",
       " 'maxlen',\n",
       " 'pop',\n",
       " 'popleft',\n",
       " 'remove',\n",
       " 'reverse',\n",
       " 'rotate']"
      ]
     },
     "execution_count": 7,
     "metadata": {},
     "output_type": "execute_result"
    }
   ],
   "source": [
    "import collections\n",
    "\n",
    "deq = collections.deque()\n",
    "dir(deq)"
   ]
  },
  {
   "cell_type": "markdown",
   "metadata": {},
   "source": [
    "**R-6.12** What values are returned during the following sequence of deque ADT operations, on initially empty deque? `add_first(4)`, `add_last(8)`, `add_last(9)`,\n",
    "`add_first(5)`, `back()`, `delete_first()`, `delete_last()`, `add_last(7)`, `first()`,\n",
    "`last()`, `add_last(6)`, `delete_first()`, `delete_first()`.\n",
    "\n",
    "| operation        | return value | deque       |\n",
    "|------------------|--------------|-------------|\n",
    "| `add_first(4)`   | `None`       | `[4]`       |\n",
    "| `add_last(8)`    | `None`       | `[4,8]`     |\n",
    "| `add_last(9)`    | `None`       | `[4,8,9]`   |\n",
    "| `add_first(5)`   | `None`       | `[5,4,8,9]` |\n",
    "| `back()`         | `9`          | `[5,4,8,9]` |\n",
    "| `delete_first()` | `5`          | `[4,8,9]`   |\n",
    "| `delete_last()`  | `9`          | `[4,8]`     |\n",
    "| `add_last(7)`    | `None`       | `[4,8,7]`   |\n",
    "| `first()`        | `4`          | `[4,8,7]`   |\n",
    "| `last()`         | `7`          | `[4,8,7]`   |\n",
    "| `add_last(6)`    | `None`       | `[4,8,7,6]` |\n",
    "| `delete_first()` | `4`          | `[8,7,6]`   |\n",
    "| `delete_first()` | `8`          | `[7,6]`     |"
   ]
  },
  {
   "cell_type": "markdown",
   "metadata": {},
   "source": [
    "**R-6.13** Suppose you have a deque `D` containing the numbers `(1,2,3,4,5,6,7,8)`,\n",
    "in this order. Suppose further that you have an initially empty queue `Q`.\n",
    "Give a code fragment that uses only `D` and `Q` (and no other variables) and\n",
    "results in `D` storing the elements in the order `(1,2,3,5,4,6,7,8)`."
   ]
  },
  {
   "cell_type": "code",
   "execution_count": 17,
   "metadata": {},
   "outputs": [
    {
     "name": "stdout",
     "output_type": "stream",
     "text": [
      "1\n",
      "2\n",
      "3\n",
      "4\n",
      "5\n",
      "6\n",
      "7\n",
      "8\n"
     ]
    }
   ],
   "source": [
    "Q = ArrayQueue()\n",
    "D = collections.deque()\n",
    "for i in range(1,9):\n",
    "    D.append(i)\n",
    "for i in range(0,8):\n",
    "    print(D[i])"
   ]
  },
  {
   "cell_type": "code",
   "execution_count": 18,
   "metadata": {},
   "outputs": [],
   "source": [
    "Q.enqueue(D.popleft()) # 1\n",
    "Q.enqueue(D.popleft()) # 2\n",
    "Q.enqueue(D.popleft()) # 3\n",
    "D.append(D.popleft()) # store 4 temporarily at the end of D\n",
    "Q.enqueue(D.popleft()) # 5\n",
    "Q.enqueue(D.pop()) # 4\n",
    "Q.enqueue(D.popleft()) # 6\n",
    "Q.enqueue(D.popleft()) # 7\n",
    "Q.enqueue(D.popleft()) # 8\n",
    "while not Q.is_empty():\n",
    "    D.append(Q.dequeue())"
   ]
  },
  {
   "cell_type": "code",
   "execution_count": 19,
   "metadata": {},
   "outputs": [
    {
     "name": "stdout",
     "output_type": "stream",
     "text": [
      "1\n",
      "2\n",
      "3\n",
      "5\n",
      "4\n",
      "6\n",
      "7\n",
      "8\n"
     ]
    }
   ],
   "source": [
    "for i in range(0,8):\n",
    "    print(D[i])"
   ]
  },
  {
   "cell_type": "markdown",
   "metadata": {},
   "source": [
    "**R-6.14** Repeat the previous problem using the deque `D` and an initially empty\n",
    "stack `S`."
   ]
  },
  {
   "cell_type": "code",
   "execution_count": 22,
   "metadata": {},
   "outputs": [
    {
     "name": "stdout",
     "output_type": "stream",
     "text": [
      "1\n",
      "2\n",
      "3\n",
      "4\n",
      "5\n",
      "6\n",
      "7\n",
      "8\n"
     ]
    }
   ],
   "source": [
    "S = ArrayStack()\n",
    "D = collections.deque()\n",
    "for i in range(1,9):\n",
    "    D.append(i)\n",
    "for i in range(0,8):\n",
    "    print(D[i])"
   ]
  },
  {
   "cell_type": "code",
   "execution_count": 23,
   "metadata": {},
   "outputs": [],
   "source": [
    "S.push(D.pop()) # 8\n",
    "S.push(D.pop()) # 7\n",
    "S.push(D.pop()) # 6\n",
    "D.appendleft(D.pop()) # store 5 temporarily at the start of D\n",
    "S.push(D.pop()) # 4\n",
    "S.push(D.popleft()) # 5\n",
    "S.push(D.pop()) # 3\n",
    "S.push(D.pop()) # 2\n",
    "S.push(D.pop()) # 1\n",
    "\n",
    "while not S.is_empty():\n",
    "    D.append(S.pop())"
   ]
  },
  {
   "cell_type": "code",
   "execution_count": 24,
   "metadata": {},
   "outputs": [
    {
     "name": "stdout",
     "output_type": "stream",
     "text": [
      "1\n",
      "2\n",
      "3\n",
      "5\n",
      "4\n",
      "6\n",
      "7\n",
      "8\n"
     ]
    }
   ],
   "source": [
    "for i in range(0,8):\n",
    "    print(D[i])"
   ]
  },
  {
   "cell_type": "markdown",
   "metadata": {},
   "source": [
    "#### Creativity\n",
    "\n",
    "**C-6.15** Suppose Alice has picked three distinct integers and placed them into a\n",
    "stack `S` in random order. Write a short, straight-line piece of pseudo-code\n",
    "(with no loops or recursion) that uses only one comparison and only one\n",
    "variable `x`, yet that results in variable `x` storing the largest of Alice’s three\n",
    "integers with probability $2/3$. Argue why your method is correct.\n",
    "\n",
    "Set `x` to be `S.pop()` (last element in `S`). Then set `x` to be the maximum of `x` and `S.pop()` (second last element in `S`).\n",
    "\n",
    "Each of the elements in `S` has `1/3` probabilty of being the largest element in `S`. In the above procedure, `x` will store the larger among the last two elements in `S`. The probability that the last or the second last elements in `S` is the largest is `1/3+1/3=2/3`. So `x` will store the largest element in `S` `2/3` of the time."
   ]
  },
  {
   "cell_type": "markdown",
   "metadata": {},
   "source": [
    "**C-6.16** Modify the `ArrayStack` implementation so that the stack’s capacity is limited to `maxlen` elements, where `maxlen` is an optional parameter to the\n",
    "constructor (that defaults to `None`). If `push` is called when the stack is at\n",
    "full capacity, throw a `Full` exception (defined similarly to `Empty`)."
   ]
  },
  {
   "cell_type": "code",
   "execution_count": 9,
   "metadata": {},
   "outputs": [],
   "source": [
    "class ArrayStack1(ArrayStack):\n",
    "    def __init__(self, maxlen=None):\n",
    "        super().__init__()\n",
    "        self._maxlen = maxlen\n",
    "    \n",
    "    def push(self, e):\n",
    "        if len(self) == self._maxlen:\n",
    "            raise Exception('Stack is full')\n",
    "        super().push(e)"
   ]
  },
  {
   "cell_type": "code",
   "execution_count": 11,
   "metadata": {},
   "outputs": [
    {
     "ename": "Exception",
     "evalue": "Stack is full",
     "output_type": "error",
     "traceback": [
      "\u001b[1;31m---------------------------------------------------------------------------\u001b[0m",
      "\u001b[1;31mException\u001b[0m                                 Traceback (most recent call last)",
      "\u001b[1;32m<ipython-input-11-ab186a115f19>\u001b[0m in \u001b[0;36m<module>\u001b[1;34m\u001b[0m\n\u001b[0;32m      3\u001b[0m \u001b[0mS\u001b[0m\u001b[1;33m.\u001b[0m\u001b[0mpush\u001b[0m\u001b[1;33m(\u001b[0m\u001b[1;36m2\u001b[0m\u001b[1;33m)\u001b[0m\u001b[1;33m\u001b[0m\u001b[1;33m\u001b[0m\u001b[0m\n\u001b[0;32m      4\u001b[0m \u001b[0mS\u001b[0m\u001b[1;33m.\u001b[0m\u001b[0mpush\u001b[0m\u001b[1;33m(\u001b[0m\u001b[1;36m3\u001b[0m\u001b[1;33m)\u001b[0m\u001b[1;33m\u001b[0m\u001b[1;33m\u001b[0m\u001b[0m\n\u001b[1;32m----> 5\u001b[1;33m \u001b[0mS\u001b[0m\u001b[1;33m.\u001b[0m\u001b[0mpush\u001b[0m\u001b[1;33m(\u001b[0m\u001b[1;36m4\u001b[0m\u001b[1;33m)\u001b[0m\u001b[1;33m\u001b[0m\u001b[1;33m\u001b[0m\u001b[0m\n\u001b[0m",
      "\u001b[1;32m<ipython-input-9-3b1d0bb0471d>\u001b[0m in \u001b[0;36mpush\u001b[1;34m(self, e)\u001b[0m\n\u001b[0;32m      6\u001b[0m     \u001b[1;32mdef\u001b[0m \u001b[0mpush\u001b[0m\u001b[1;33m(\u001b[0m\u001b[0mself\u001b[0m\u001b[1;33m,\u001b[0m \u001b[0me\u001b[0m\u001b[1;33m)\u001b[0m\u001b[1;33m:\u001b[0m\u001b[1;33m\u001b[0m\u001b[1;33m\u001b[0m\u001b[0m\n\u001b[0;32m      7\u001b[0m         \u001b[1;32mif\u001b[0m \u001b[0mlen\u001b[0m\u001b[1;33m(\u001b[0m\u001b[0mself\u001b[0m\u001b[1;33m)\u001b[0m \u001b[1;33m==\u001b[0m \u001b[0mself\u001b[0m\u001b[1;33m.\u001b[0m\u001b[0m_maxlen\u001b[0m\u001b[1;33m:\u001b[0m\u001b[1;33m\u001b[0m\u001b[1;33m\u001b[0m\u001b[0m\n\u001b[1;32m----> 8\u001b[1;33m             \u001b[1;32mraise\u001b[0m \u001b[0mException\u001b[0m\u001b[1;33m(\u001b[0m\u001b[1;34m'Stack is full'\u001b[0m\u001b[1;33m)\u001b[0m\u001b[1;33m\u001b[0m\u001b[1;33m\u001b[0m\u001b[0m\n\u001b[0m\u001b[0;32m      9\u001b[0m         \u001b[0msuper\u001b[0m\u001b[1;33m(\u001b[0m\u001b[1;33m)\u001b[0m\u001b[1;33m.\u001b[0m\u001b[0mpush\u001b[0m\u001b[1;33m(\u001b[0m\u001b[0me\u001b[0m\u001b[1;33m)\u001b[0m\u001b[1;33m\u001b[0m\u001b[1;33m\u001b[0m\u001b[0m\n",
      "\u001b[1;31mException\u001b[0m: Stack is full"
     ]
    }
   ],
   "source": [
    "S = ArrayStack1(3)\n",
    "S.push(1)\n",
    "S.push(2)\n",
    "S.push(3)\n",
    "S.push(4)"
   ]
  },
  {
   "cell_type": "markdown",
   "metadata": {},
   "source": [
    "**C-6.17** In the previous exercise, we assume that the underlying list is initially\n",
    "empty. Redo that exercise, this time preallocating an underlying list with\n",
    "length equal to the stack’s maximum capacity."
   ]
  },
  {
   "cell_type": "code",
   "execution_count": 14,
   "metadata": {},
   "outputs": [],
   "source": [
    "class ArrayStack2(ArrayStack):\n",
    "    def __init__(self, maxlen=None):\n",
    "        if maxlen:\n",
    "            self._data = [None] * maxlen\n",
    "        else:\n",
    "            self._data = []\n",
    "        self._maxlen = maxlen\n",
    "    \n",
    "    def push(self, e):\n",
    "        if len(self) == self._maxlen:\n",
    "            raise Exception('Stack is full')\n",
    "        super().push(e)"
   ]
  },
  {
   "cell_type": "code",
   "execution_count": 15,
   "metadata": {},
   "outputs": [
    {
     "ename": "Exception",
     "evalue": "Stack is full",
     "output_type": "error",
     "traceback": [
      "\u001b[1;31m---------------------------------------------------------------------------\u001b[0m",
      "\u001b[1;31mException\u001b[0m                                 Traceback (most recent call last)",
      "\u001b[1;32m<ipython-input-15-cff52e13ea66>\u001b[0m in \u001b[0;36m<module>\u001b[1;34m\u001b[0m\n\u001b[0;32m      1\u001b[0m \u001b[0mS\u001b[0m \u001b[1;33m=\u001b[0m \u001b[0mArrayStack2\u001b[0m\u001b[1;33m(\u001b[0m\u001b[1;36m3\u001b[0m\u001b[1;33m)\u001b[0m\u001b[1;33m\u001b[0m\u001b[1;33m\u001b[0m\u001b[0m\n\u001b[1;32m----> 2\u001b[1;33m \u001b[0mS\u001b[0m\u001b[1;33m.\u001b[0m\u001b[0mpush\u001b[0m\u001b[1;33m(\u001b[0m\u001b[1;36m1\u001b[0m\u001b[1;33m)\u001b[0m\u001b[1;33m\u001b[0m\u001b[1;33m\u001b[0m\u001b[0m\n\u001b[0m\u001b[0;32m      3\u001b[0m \u001b[0mS\u001b[0m\u001b[1;33m.\u001b[0m\u001b[0mpush\u001b[0m\u001b[1;33m(\u001b[0m\u001b[1;36m2\u001b[0m\u001b[1;33m)\u001b[0m\u001b[1;33m\u001b[0m\u001b[1;33m\u001b[0m\u001b[0m\n\u001b[0;32m      4\u001b[0m \u001b[0mS\u001b[0m\u001b[1;33m.\u001b[0m\u001b[0mpush\u001b[0m\u001b[1;33m(\u001b[0m\u001b[1;36m3\u001b[0m\u001b[1;33m)\u001b[0m\u001b[1;33m\u001b[0m\u001b[1;33m\u001b[0m\u001b[0m\n\u001b[0;32m      5\u001b[0m \u001b[0mS\u001b[0m\u001b[1;33m.\u001b[0m\u001b[0mpush\u001b[0m\u001b[1;33m(\u001b[0m\u001b[1;36m4\u001b[0m\u001b[1;33m)\u001b[0m\u001b[1;33m\u001b[0m\u001b[1;33m\u001b[0m\u001b[0m\n",
      "\u001b[1;32m<ipython-input-14-bdeea075b7dc>\u001b[0m in \u001b[0;36mpush\u001b[1;34m(self, e)\u001b[0m\n\u001b[0;32m      9\u001b[0m     \u001b[1;32mdef\u001b[0m \u001b[0mpush\u001b[0m\u001b[1;33m(\u001b[0m\u001b[0mself\u001b[0m\u001b[1;33m,\u001b[0m \u001b[0me\u001b[0m\u001b[1;33m)\u001b[0m\u001b[1;33m:\u001b[0m\u001b[1;33m\u001b[0m\u001b[1;33m\u001b[0m\u001b[0m\n\u001b[0;32m     10\u001b[0m         \u001b[1;32mif\u001b[0m \u001b[0mlen\u001b[0m\u001b[1;33m(\u001b[0m\u001b[0mself\u001b[0m\u001b[1;33m)\u001b[0m \u001b[1;33m==\u001b[0m \u001b[0mself\u001b[0m\u001b[1;33m.\u001b[0m\u001b[0m_maxlen\u001b[0m\u001b[1;33m:\u001b[0m\u001b[1;33m\u001b[0m\u001b[1;33m\u001b[0m\u001b[0m\n\u001b[1;32m---> 11\u001b[1;33m             \u001b[1;32mraise\u001b[0m \u001b[0mException\u001b[0m\u001b[1;33m(\u001b[0m\u001b[1;34m'Stack is full'\u001b[0m\u001b[1;33m)\u001b[0m\u001b[1;33m\u001b[0m\u001b[1;33m\u001b[0m\u001b[0m\n\u001b[0m\u001b[0;32m     12\u001b[0m         \u001b[0msuper\u001b[0m\u001b[1;33m(\u001b[0m\u001b[1;33m)\u001b[0m\u001b[1;33m.\u001b[0m\u001b[0mpush\u001b[0m\u001b[1;33m(\u001b[0m\u001b[0me\u001b[0m\u001b[1;33m)\u001b[0m\u001b[1;33m\u001b[0m\u001b[1;33m\u001b[0m\u001b[0m\n",
      "\u001b[1;31mException\u001b[0m: Stack is full"
     ]
    }
   ],
   "source": [
    "S = ArrayStack2(3)\n",
    "S.push(1)\n",
    "S.push(2)\n",
    "S.push(3)\n",
    "S.push(4)"
   ]
  },
  {
   "cell_type": "markdown",
   "metadata": {},
   "source": [
    "**C-6.18** Show how to use the `transfer` function, described in Exercise R-6.3, and\n",
    "two temporary stacks, to replace the contents of a given stack `S` with those\n",
    "same elements, but in reversed order.\n",
    "\n",
    "Applying `transfer` once reverses the order of the elements. So we just need to apply `transfer` an odd number of times and make sure the elements are transferred back to `S` the last time."
   ]
  },
  {
   "cell_type": "code",
   "execution_count": 17,
   "metadata": {},
   "outputs": [],
   "source": [
    "def transfer(S, T):\n",
    "    while not S.is_empty():\n",
    "        e = S.pop()\n",
    "        T.push(e)"
   ]
  },
  {
   "cell_type": "code",
   "execution_count": 18,
   "metadata": {},
   "outputs": [],
   "source": [
    "class Stack(ArrayStack):\n",
    "    def print(self):\n",
    "        print(self._data)"
   ]
  },
  {
   "cell_type": "code",
   "execution_count": 21,
   "metadata": {},
   "outputs": [
    {
     "name": "stdout",
     "output_type": "stream",
     "text": [
      "[0, 1, 2, 3, 4, 5, 6, 7, 8, 9]\n",
      "[9, 8, 7, 6, 5, 4, 3, 2, 1, 0]\n"
     ]
    }
   ],
   "source": [
    "S = Stack()\n",
    "for i in range(10):\n",
    "    S.push(i)\n",
    "S.print()\n",
    "H1 = Stack()\n",
    "H2 = Stack()\n",
    "transfer(S, H1)\n",
    "transfer(H1, H2)\n",
    "transfer(H2, S)\n",
    "S.print()"
   ]
  },
  {
   "cell_type": "markdown",
   "metadata": {},
   "source": [
    "**C-6.19** In Code Fragment 6.5 we assume that opening tags in HTML have form\n",
    "`<name>`, as with `<li>`. More generally, HTML allows optional attributes\n",
    "to be expressed as part of an opening tag. The general form used is\n",
    "`<name attribute1=\"value1\" attribute2=\"value2\">`; for example,\n",
    "a table can be given a border and additional padding by using an opening\n",
    "tag of `<table border=\"3\" cellpadding=\"5\">`. Modify Code Fragment 6.5 so that it can properly match tags, even when an opening tag\n",
    "may include one or more such attributes."
   ]
  },
  {
   "cell_type": "code",
   "execution_count": 11,
   "metadata": {},
   "outputs": [],
   "source": [
    "def is_matched_html(raw):\n",
    "    S = ArrayStack()\n",
    "    j = raw.find('<')\n",
    "    while j != -1:\n",
    "        k = raw.find('>', j+1)\n",
    "        if k == -1:\n",
    "            return False\n",
    "        tag = raw[j+1:k] # get tag without < and >\n",
    "        if not tag.startswith('/'):\n",
    "            S.push(tag.split(' ')[0]) # strip away the attributes\n",
    "        else:\n",
    "            if S.is_empty():\n",
    "                return False\n",
    "            elif tag[1:] != S.pop():\n",
    "                return False\n",
    "        j = raw.find('<', k+1)\n",
    "    return S.is_empty()"
   ]
  },
  {
   "cell_type": "code",
   "execution_count": 18,
   "metadata": {},
   "outputs": [],
   "source": [
    "raw = '''\n",
    "<name attribute1=\"value1\" attribute2=\"value2\">\n",
    "xxxxxxx\n",
    "</name>\n",
    "<hi attribute1=\"value1\">xxx</hi>\n",
    "'''"
   ]
  },
  {
   "cell_type": "code",
   "execution_count": 19,
   "metadata": {},
   "outputs": [
    {
     "data": {
      "text/plain": [
       "True"
      ]
     },
     "execution_count": 19,
     "metadata": {},
     "output_type": "execute_result"
    }
   ],
   "source": [
    "is_matched_html(raw)"
   ]
  },
  {
   "cell_type": "markdown",
   "metadata": {},
   "source": [
    "**C-6.20** Describe a nonrecursive algorithm for enumerating all permutations of the\n",
    "numbers `{1,2,... ,n}` using an explicit stack."
   ]
  },
  {
   "cell_type": "code",
   "execution_count": 181,
   "metadata": {},
   "outputs": [],
   "source": [
    "def permute(seq):\n",
    "    '''Return a list of all permutations of seq.'''\n",
    "    n = len(seq)\n",
    "    if n == 0:\n",
    "        return []\n",
    "    elif n == 1:\n",
    "        return [seq]\n",
    "    else:\n",
    "        permutations = []\n",
    "        # append each element to the permutations of the remaining elements\n",
    "        for i in range(n):\n",
    "            fixed = seq[i] # fix the element at index i\n",
    "            seq1 = swap(seq, i, 0) # and swap it to the front\n",
    "            remainingSeqIndex = list(filter(lambda j: j != i, list(range(n)))) # indices of the remaining elements\n",
    "            remainingSeq = [seq[j] for j in remainingSeqIndex] # the remaining sequence without the element at index i\n",
    "            remainingSeqPermute = permute(remainingSeq) # recursively generate permutations of the remaining sequence\n",
    "            for s in remainingSeqPermute: # append the fixed element to these permutations\n",
    "                s.insert(0, fixed) # not that this operation does not return anything\n",
    "            seqPermute = remainingSeqPermute\n",
    "            permutations += seqPermute\n",
    "        return permutations\n",
    "\n",
    "def swap(seq, i1, i2):\n",
    "    '''Return a copy of seq with elements at indices i1 and i2 swapped.'''\n",
    "    seq1 = [x for x in seq]\n",
    "    temp = seq1[i1]\n",
    "    seq1[i1] = seq1[i2]\n",
    "    seq1[i2] = temp\n",
    "    return seq1\n",
    "\n",
    "def valid(seq):\n",
    "    \"\"\"\n",
    "    Determine whether the sequence of push and pop operations is valid.\n",
    "    \"\"\"\n",
    "    S = ArrayStack()\n",
    "    for op in seq:\n",
    "        if op == 'push':\n",
    "            S.push(op)\n",
    "        else:\n",
    "            if S.is_empty():\n",
    "                return False\n",
    "            elif S.pop() != 'push':\n",
    "                return False\n",
    "    return S.is_empty()\n",
    "\n",
    "def dedupe(l):\n",
    "    if len(l) <= 1:\n",
    "        return l\n",
    "    else:\n",
    "        h1, h2 = l[0], l[1]\n",
    "        if h1 == h2:\n",
    "            return dedupe(l[1:])\n",
    "        else:\n",
    "            return [h1] + dedupe(l[1:])\n",
    "\n",
    "def get_operation_sequences(n):\n",
    "    \"\"\"\n",
    "    Generate all valid sequences of n push and n pop operations, \n",
    "    starting from an empty stack, ending with an empty stack.\n",
    "    \"\"\"\n",
    "    operations = ['push'] * n + ['pop'] * n\n",
    "    perms = sorted(permute(operations))\n",
    "    seqs = dedupe(perms)\n",
    "    validSeqs = [seq for seq in seqs if valid(seq)]\n",
    "    return validSeqs\n",
    "    \n",
    "\n",
    "def enumerate_permutations(s):\n",
    "    n = len(s)\n",
    "    S = ArrayStack()\n",
    "    perms = []\n",
    "    for i in range(n):\n",
    "        helper = [None] * n\n",
    "        for j in range(i, n+i):\n",
    "            e = s[j % n]\n",
    "            helper[j-i] = e\n",
    "        seqs = get_operation_sequences(n)\n",
    "        for seq in seqs:\n",
    "#             print(seq)\n",
    "            perm = []\n",
    "            counter = 0\n",
    "            for op in seq:\n",
    "                if op == 'push':\n",
    "                    e = helper[counter]\n",
    "                    S.push(e)\n",
    "                    counter += 1\n",
    "                else:\n",
    "                    perm.append(S.pop())\n",
    "            perms.append(perm)\n",
    "    perms.sort()\n",
    "    return dedupe(perms)"
   ]
  },
  {
   "cell_type": "code",
   "execution_count": 182,
   "metadata": {},
   "outputs": [
    {
     "data": {
      "text/plain": [
       "[[1, 2, 3], [1, 3, 2], [2, 1, 3], [2, 3, 1], [3, 1, 2], [3, 2, 1]]"
      ]
     },
     "execution_count": 182,
     "metadata": {},
     "output_type": "execute_result"
    }
   ],
   "source": [
    "enumerate_permutations([1,2,3])"
   ]
  },
  {
   "cell_type": "markdown",
   "metadata": {},
   "source": [
    "**C-6.21** Show how to use a stack `S` and a queue `Q` to generate all possible subsets\n",
    "of an `n`-element set `T` nonrecursively.\n",
    "\n",
    "Let `Q` store the subsets and `S` store the elements in `T`. Initialize `S` with `T` and `Q` with the empty set. Then for each element `e` in `S`, for each subset in `Q`, generate a new subset with `e` and another new subset without `e` (hence the $2$ in $2^{n-1}$)."
   ]
  },
  {
   "cell_type": "code",
   "execution_count": 230,
   "metadata": {},
   "outputs": [],
   "source": [
    "def generate_powerset(T):\n",
    "    S = ArrayStack()\n",
    "    Q = ArrayQueue() # stores subsets\n",
    "    Q.enqueue(set())\n",
    "    for t in T:\n",
    "        S.push(t)\n",
    "    while not S.is_empty(): # for each element in S\n",
    "        e = S.pop() # e is an element\n",
    "        print('e = {}'.format(e))\n",
    "        for i in range(len(Q)): # for each subset in Q\n",
    "            q = Q.dequeue() # q is a subset\n",
    "            print('q = {}'.format(q))\n",
    "            Q.enqueue(q.union(set([e]))) # generate a new subset with e\n",
    "            Q.enqueue(q.difference(set([e]))) # generate a new subset without e\n",
    "            print('Q = {}'.format(Q._data))\n",
    "    while not Q.is_empty():\n",
    "        print(Q.dequeue())"
   ]
  },
  {
   "cell_type": "code",
   "execution_count": 231,
   "metadata": {
    "scrolled": false
   },
   "outputs": [
    {
     "name": "stdout",
     "output_type": "stream",
     "text": [
      "e = 4\n",
      "q = set()\n",
      "Q = [None, {4}, set(), None, None]\n",
      "e = 3\n",
      "q = {4}\n",
      "Q = [None, None, set(), {3, 4}, {4}]\n",
      "q = set()\n",
      "Q = [{3}, set(), None, {3, 4}, {4}]\n",
      "e = 2\n",
      "q = {3, 4}\n",
      "Q = [{3}, set(), {2, 3, 4}, {3, 4}, {4}]\n",
      "q = {4}\n",
      "Q = [{3}, set(), {2, 3, 4}, {3, 4}, {2, 4}, {4}, None, None, None, None]\n",
      "q = {3}\n",
      "Q = [None, set(), {2, 3, 4}, {3, 4}, {2, 4}, {4}, {2, 3}, {3}, None, None]\n",
      "q = set()\n",
      "Q = [None, None, {2, 3, 4}, {3, 4}, {2, 4}, {4}, {2, 3}, {3}, {2}, set()]\n",
      "e = 1\n",
      "q = {2, 3, 4}\n",
      "Q = [{1, 2, 3, 4}, {2, 3, 4}, None, {3, 4}, {2, 4}, {4}, {2, 3}, {3}, {2}, set()]\n",
      "q = {3, 4}\n",
      "Q = [{1, 2, 3, 4}, {2, 3, 4}, {1, 3, 4}, {3, 4}, {2, 4}, {4}, {2, 3}, {3}, {2}, set()]\n",
      "q = {2, 4}\n",
      "Q = [{4}, {2, 3}, {3}, {2}, set(), {1, 2, 3, 4}, {2, 3, 4}, {1, 3, 4}, {3, 4}, {1, 2, 4}, {2, 4}, None, None, None, None, None, None, None, None, None]\n",
      "q = {4}\n",
      "Q = [None, {2, 3}, {3}, {2}, set(), {1, 2, 3, 4}, {2, 3, 4}, {1, 3, 4}, {3, 4}, {1, 2, 4}, {2, 4}, {1, 4}, {4}, None, None, None, None, None, None, None]\n",
      "q = {2, 3}\n",
      "Q = [None, None, {3}, {2}, set(), {1, 2, 3, 4}, {2, 3, 4}, {1, 3, 4}, {3, 4}, {1, 2, 4}, {2, 4}, {1, 4}, {4}, {1, 2, 3}, {2, 3}, None, None, None, None, None]\n",
      "q = {3}\n",
      "Q = [None, None, None, {2}, set(), {1, 2, 3, 4}, {2, 3, 4}, {1, 3, 4}, {3, 4}, {1, 2, 4}, {2, 4}, {1, 4}, {4}, {1, 2, 3}, {2, 3}, {1, 3}, {3}, None, None, None]\n",
      "q = {2}\n",
      "Q = [None, None, None, None, set(), {1, 2, 3, 4}, {2, 3, 4}, {1, 3, 4}, {3, 4}, {1, 2, 4}, {2, 4}, {1, 4}, {4}, {1, 2, 3}, {2, 3}, {1, 3}, {3}, {1, 2}, {2}, None]\n",
      "q = set()\n",
      "Q = [set(), None, None, None, None, {1, 2, 3, 4}, {2, 3, 4}, {1, 3, 4}, {3, 4}, {1, 2, 4}, {2, 4}, {1, 4}, {4}, {1, 2, 3}, {2, 3}, {1, 3}, {3}, {1, 2}, {2}, {1}]\n",
      "{1, 2, 3, 4}\n",
      "{2, 3, 4}\n",
      "{1, 3, 4}\n",
      "{3, 4}\n",
      "{1, 2, 4}\n",
      "{2, 4}\n",
      "{1, 4}\n",
      "{4}\n",
      "{1, 2, 3}\n",
      "{2, 3}\n",
      "{1, 3}\n",
      "{3}\n",
      "{1, 2}\n",
      "{2}\n",
      "{1}\n",
      "set()\n"
     ]
    }
   ],
   "source": [
    "generate_powerset({1,2,3,4})"
   ]
  },
  {
   "cell_type": "markdown",
   "metadata": {},
   "source": [
    "The other way around does not work because stack is first in last out while queue is first in first out."
   ]
  },
  {
   "cell_type": "code",
   "execution_count": 50,
   "metadata": {},
   "outputs": [],
   "source": [
    "def generate_powerset(T):\n",
    "    S = ArrayStack() # stores subsets\n",
    "    Q = ArrayQueue()\n",
    "    S.push(set())\n",
    "    for t in T:\n",
    "        Q.enqueue(t)\n",
    "    while not Q.is_empty():\n",
    "        e = Q.dequeue()\n",
    "        print('e = {}'.format(e))\n",
    "        for i in range(len(S)):\n",
    "            s = S.pop()\n",
    "            print('s = {}'.format(s))\n",
    "            S.push(s.difference(set([e]))) # if switch the order of these pushes, s is always {e}\n",
    "            S.push(s.union(set([e])))\n",
    "            print('S = {}'.format(S._data))\n",
    "    while not S.is_empty():\n",
    "        print(S.pop())"
   ]
  },
  {
   "cell_type": "code",
   "execution_count": 51,
   "metadata": {
    "scrolled": true
   },
   "outputs": [
    {
     "name": "stdout",
     "output_type": "stream",
     "text": [
      "e = 1\n",
      "s = set()\n",
      "S = [set(), {1}]\n",
      "e = 2\n",
      "s = {1}\n",
      "S = [set(), {1}, {1, 2}]\n",
      "s = {1, 2}\n",
      "S = [set(), {1}, {1}, {1, 2}]\n",
      "e = 3\n",
      "s = {1, 2}\n",
      "S = [set(), {1}, {1}, {1, 2}, {1, 2, 3}]\n",
      "s = {1, 2, 3}\n",
      "S = [set(), {1}, {1}, {1, 2}, {1, 2}, {1, 2, 3}]\n",
      "s = {1, 2, 3}\n",
      "S = [set(), {1}, {1}, {1, 2}, {1, 2}, {1, 2}, {1, 2, 3}]\n",
      "s = {1, 2, 3}\n",
      "S = [set(), {1}, {1}, {1, 2}, {1, 2}, {1, 2}, {1, 2}, {1, 2, 3}]\n",
      "e = 4\n",
      "s = {1, 2, 3}\n",
      "S = [set(), {1}, {1}, {1, 2}, {1, 2}, {1, 2}, {1, 2}, {1, 2, 3}, {1, 2, 3, 4}]\n",
      "s = {1, 2, 3, 4}\n",
      "S = [set(), {1}, {1}, {1, 2}, {1, 2}, {1, 2}, {1, 2}, {1, 2, 3}, {1, 2, 3}, {1, 2, 3, 4}]\n",
      "s = {1, 2, 3, 4}\n",
      "S = [set(), {1}, {1}, {1, 2}, {1, 2}, {1, 2}, {1, 2}, {1, 2, 3}, {1, 2, 3}, {1, 2, 3}, {1, 2, 3, 4}]\n",
      "s = {1, 2, 3, 4}\n",
      "S = [set(), {1}, {1}, {1, 2}, {1, 2}, {1, 2}, {1, 2}, {1, 2, 3}, {1, 2, 3}, {1, 2, 3}, {1, 2, 3}, {1, 2, 3, 4}]\n",
      "s = {1, 2, 3, 4}\n",
      "S = [set(), {1}, {1}, {1, 2}, {1, 2}, {1, 2}, {1, 2}, {1, 2, 3}, {1, 2, 3}, {1, 2, 3}, {1, 2, 3}, {1, 2, 3}, {1, 2, 3, 4}]\n",
      "s = {1, 2, 3, 4}\n",
      "S = [set(), {1}, {1}, {1, 2}, {1, 2}, {1, 2}, {1, 2}, {1, 2, 3}, {1, 2, 3}, {1, 2, 3}, {1, 2, 3}, {1, 2, 3}, {1, 2, 3}, {1, 2, 3, 4}]\n",
      "s = {1, 2, 3, 4}\n",
      "S = [set(), {1}, {1}, {1, 2}, {1, 2}, {1, 2}, {1, 2}, {1, 2, 3}, {1, 2, 3}, {1, 2, 3}, {1, 2, 3}, {1, 2, 3}, {1, 2, 3}, {1, 2, 3}, {1, 2, 3, 4}]\n",
      "s = {1, 2, 3, 4}\n",
      "S = [set(), {1}, {1}, {1, 2}, {1, 2}, {1, 2}, {1, 2}, {1, 2, 3}, {1, 2, 3}, {1, 2, 3}, {1, 2, 3}, {1, 2, 3}, {1, 2, 3}, {1, 2, 3}, {1, 2, 3}, {1, 2, 3, 4}]\n",
      "{1, 2, 3, 4}\n",
      "{1, 2, 3}\n",
      "{1, 2, 3}\n",
      "{1, 2, 3}\n",
      "{1, 2, 3}\n",
      "{1, 2, 3}\n",
      "{1, 2, 3}\n",
      "{1, 2, 3}\n",
      "{1, 2, 3}\n",
      "{1, 2}\n",
      "{1, 2}\n",
      "{1, 2}\n",
      "{1, 2}\n",
      "{1}\n",
      "{1}\n",
      "set()\n"
     ]
    }
   ],
   "source": [
    "generate_powerset({1,2,3,4})"
   ]
  },
  {
   "cell_type": "markdown",
   "metadata": {},
   "source": [
    "**C-6.22** Postfix notation is an unambiguous way of writing an arithmetic expression without parentheses. It is defined so that if $(exp_1)\\textbf{op}(exp_2)$ is a\n",
    "normal, fully parenthesized expression whose operation is $\\textbf{op}$, the postfix\n",
    "version of this is $pexp_1 pexp_2 \\textbf{op}$, where $pexp_1$ is the postfix version of\n",
    "$exp_1$ and $pexp_2$ is the postfix version of $exp_2$. The postfix version of a single number or variable is just that number or variable. For example, the\n",
    "postfix version of $((5+ 2)* (8 − 3))/4$ is $5 2 + 8 3 − * 4 /$. Describe\n",
    "a nonrecursive way of evaluating an expression in postfix notation.\n",
    "\n",
    "Initialize a stack and scan the expression linearly. If an operand is encountered, push it into the stack. If an operation is encountered, pop twice from the stack; compute the result of these two operands using the operation, and then push the result into the stack.\n",
    "\n",
    "After scanning the expression, the evaluated result would be the last element in the stack."
   ]
  },
  {
   "cell_type": "markdown",
   "metadata": {},
   "source": [
    "**C-6.23** Suppose you have three nonempty stacks $R$, $S$, and $T$. Describe a sequence\n",
    "of operations that results in $S$ storing all elements originally in $T$ below all\n",
    "of $S$'s original elements, with both sets of those elements in their original\n",
    "order. The final configuration for $R$ should be the same as its original\n",
    "configuration. For example, if $R = [1,2,3]$, $S = [4,5]$, and $T = [6,7,8,9]$,\n",
    "the final configuration should have $R = [1,2,3]$ and $S = [6,7,8,9,4,5]$.\n",
    "\n",
    "Pop all elements from $S$ and push them to $R$. Then pop all elements from $T$ and push them to $R$. Pop these $len(S) + len(T)$ elements from $R$ and push them to $S$.\n",
    "\n",
    "This is like pushing the stack $S$ into $R$, pushing the stack $T$ into $R$, and then popping the stacks in reverse order."
   ]
  },
  {
   "cell_type": "code",
   "execution_count": 15,
   "metadata": {},
   "outputs": [],
   "source": [
    "S = ArrayStack()\n",
    "for e in [4,5]:\n",
    "    S.push(e)\n",
    "R = ArrayStack()\n",
    "for e in [1,2,3]:\n",
    "    R.push(e)\n",
    "T = ArrayStack()\n",
    "for e in [6,7,8,9]:\n",
    "    T.push(e)"
   ]
  },
  {
   "cell_type": "code",
   "execution_count": 16,
   "metadata": {},
   "outputs": [],
   "source": [
    "sLen = len(S)\n",
    "rLen = len(R)\n",
    "tLen = len(T)\n",
    "while not S.is_empty():\n",
    "    R.push(S.pop())\n",
    "while not T.is_empty():\n",
    "    R.push(T.pop())\n",
    "counter = tLen + sLen\n",
    "while counter > 0:\n",
    "    S.push(R.pop())\n",
    "    counter -= 1"
   ]
  },
  {
   "cell_type": "code",
   "execution_count": 17,
   "metadata": {},
   "outputs": [
    {
     "name": "stdout",
     "output_type": "stream",
     "text": [
      "[6, 7, 8, 9, 4, 5]\n",
      "[1, 2, 3]\n"
     ]
    }
   ],
   "source": [
    "print(S._data)\n",
    "print(R._data)"
   ]
  },
  {
   "cell_type": "markdown",
   "metadata": {},
   "source": [
    "**C-6.24** Describe how to implement the stack ADT using a single queue as an\n",
    "instance variable, and only constant additional local memory within the\n",
    "method bodies. What is the running time of the `push()`, `pop()`, and `top()`\n",
    "methods for your design?\n",
    "\n",
    "Front of queue as bottom of stack:"
   ]
  },
  {
   "cell_type": "code",
   "execution_count": 38,
   "metadata": {},
   "outputs": [],
   "source": [
    "class QueueStack:\n",
    "    def __init__(self):\n",
    "        self._data = ArrayQueue()\n",
    "    \n",
    "    def __len__(self):\n",
    "        return len(self._data)\n",
    "    \n",
    "    def is_empty(self):\n",
    "        return self._data.is_empty()\n",
    "    \n",
    "    def push(self, e): # amortized O(1)\n",
    "        self._data.enqueue(e) # push to end of queue\n",
    "        \n",
    "    def pop(self): # amortized O(1)\n",
    "        if self.is_empty():\n",
    "            raise Exception('Stack is empty')\n",
    "        index = (self._data._front + self._data._size) % len(self._data._data) - 1\n",
    "        result = self._data._data[index] # pop from end of queue\n",
    "        self._data._data[index] = None\n",
    "        self._data._size -= 1\n",
    "        return result\n",
    "    \n",
    "    def top(self): # O(1)\n",
    "        if self.is_empty():\n",
    "            raise Exception('Stack is empty')\n",
    "        index = (self._data._front + self._data._size) % len(self._data._data) - 1\n",
    "        return self._data._data[index]"
   ]
  },
  {
   "cell_type": "code",
   "execution_count": 64,
   "metadata": {},
   "outputs": [
    {
     "name": "stdout",
     "output_type": "stream",
     "text": [
      "3\n",
      "2\n"
     ]
    }
   ],
   "source": [
    "q = QueueStack()\n",
    "q.push(1)\n",
    "q.push(2)\n",
    "q.push(3)\n",
    "print(q.pop())\n",
    "print(q.pop())"
   ]
  },
  {
   "cell_type": "markdown",
   "metadata": {},
   "source": [
    "Front of queue as top of stack:"
   ]
  },
  {
   "cell_type": "code",
   "execution_count": 29,
   "metadata": {},
   "outputs": [],
   "source": [
    "class QueueStack:\n",
    "    def __init__(self):\n",
    "        self._data = ArrayQueue()\n",
    "    \n",
    "    def __len__(self):\n",
    "        return len(self._data)\n",
    "    \n",
    "    def is_empty(self):\n",
    "        return self._data.is_empty()\n",
    "    \n",
    "    def push(self, e): # O(n)\n",
    "        self._data.enqueue(e) # push to end of queue first\n",
    "        # rotate the queue so that e is at the front of queue (the front of queue is top of stack)\n",
    "        for i in range(self._data._size):\n",
    "            self._data.enqueue(self._data.dequeue())\n",
    "        \n",
    "    def pop(self): # amortized O(1)\n",
    "        return self._data.dequeue() # pop from front of queue\n",
    "    \n",
    "    def top(self): # O(1)\n",
    "        if self.is_empty():\n",
    "            raise Exception('Stack is empty')\n",
    "        index = (self._data._front + self._data._size) % len(self._data._data) - 1\n",
    "        return self._data._data[index]"
   ]
  },
  {
   "cell_type": "code",
   "execution_count": 30,
   "metadata": {},
   "outputs": [
    {
     "name": "stdout",
     "output_type": "stream",
     "text": [
      "1\n",
      "2\n"
     ]
    }
   ],
   "source": [
    "q = QueueStack()\n",
    "q.push(1)\n",
    "q.push(2)\n",
    "q.push(3)\n",
    "print(q.pop())\n",
    "print(q.pop())"
   ]
  },
  {
   "cell_type": "markdown",
   "metadata": {},
   "source": [
    "**C-6.25** Describe how to implement the queue ADT using two stacks as instance\n",
    "variables, such that all queue operations execute in amortized $O(1)$ time.\n",
    "Give a formal proof of the amortized bound.\n",
    "\n",
    "Front of queue is bottom of `_stack1`:"
   ]
  },
  {
   "cell_type": "code",
   "execution_count": 61,
   "metadata": {},
   "outputs": [],
   "source": [
    "class StackQueue:\n",
    "    def __init__(self):\n",
    "        self._stack1 = ArrayStack()\n",
    "        self._stack2 = ArrayStack()\n",
    "    \n",
    "    def __len__(self):\n",
    "        return len(self._stack1)\n",
    "    \n",
    "    def is_empty(self):\n",
    "        return self._stack1.is_empty()\n",
    "    \n",
    "    def enqueue(self, e): # amortized O(1)\n",
    "        self._stack1.push(e)\n",
    "    \n",
    "    def dequeue(self): # O(n)\n",
    "        if self.is_empty():\n",
    "            raise Exception('Queue is empty')\n",
    "        while not self._stack1.is_empty(): # put elements to stack2 to expose the bottom of stack (front of queue)\n",
    "            self._stack2.push(self._stack1.pop())\n",
    "        result = self._stack2.pop() # dequeue from front of queue\n",
    "        while not self._stack2.is_empty(): # put elements back to stack1\n",
    "            self._stack1.push(self._stack2.pop())\n",
    "        return result"
   ]
  },
  {
   "cell_type": "code",
   "execution_count": 63,
   "metadata": {},
   "outputs": [
    {
     "name": "stdout",
     "output_type": "stream",
     "text": [
      "1\n",
      "2\n",
      "3\n"
     ]
    }
   ],
   "source": [
    "q = StackQueue()\n",
    "q.enqueue(1)\n",
    "q.enqueue(2)\n",
    "q.enqueue(3)\n",
    "print(q.dequeue())\n",
    "print(q.dequeue())\n",
    "q.enqueue(4)\n",
    "print(q.dequeue())"
   ]
  },
  {
   "cell_type": "markdown",
   "metadata": {},
   "source": [
    "**C-6.26** Describe how to implement the double-ended queue ADT using two stacks\n",
    "as instance variables. What are the running times of the methods?\n",
    "\n",
    "Front and end of deque is bottom and top of `_stack1`."
   ]
  },
  {
   "cell_type": "code",
   "execution_count": 71,
   "metadata": {},
   "outputs": [],
   "source": [
    "class StackDeque:\n",
    "    def __init__(self):\n",
    "        self._stack1 = ArrayStack()\n",
    "        self._stack2 = ArrayStack()\n",
    "        \n",
    "    def __len__(self):\n",
    "        return len(self._stack1)\n",
    "    \n",
    "    def is_empty(self):\n",
    "        return self._stack1.is_empty()\n",
    "    \n",
    "    def add_first(self, e): # O(n)\n",
    "        while not self._stack1.is_empty():\n",
    "            self._stack2.push(self._stack1.pop())\n",
    "        self._stack2.push(e)\n",
    "        while not self._stack2.is_empty():\n",
    "            self._stack1.push(self._stack2.pop())\n",
    "    \n",
    "    def add_last(self, e): # amortized O(1)\n",
    "        self._stack1.push(e)\n",
    "    \n",
    "    def delete_first(self): # O(n)\n",
    "        if self.is_empty():\n",
    "            raise Exception('Deque is empty')\n",
    "        while not self._stack1.is_empty(): # put elements to stack2 to expose the bottom of stack (front of deque)\n",
    "            self._stack2.push(self._stack1.pop())\n",
    "        result = self._stack2.pop() # dequeue from front of deque\n",
    "        while not self._stack2.is_empty(): # put elements back to stack1\n",
    "            self._stack1.push(self._stack2.pop())\n",
    "        return result\n",
    "    \n",
    "    def delete_last(self): # amortized O(1)\n",
    "        if self.is_empty():\n",
    "            raise Exception('Deque is empty')\n",
    "        return self._stack1.pop()"
   ]
  },
  {
   "cell_type": "code",
   "execution_count": 73,
   "metadata": {},
   "outputs": [
    {
     "name": "stdout",
     "output_type": "stream",
     "text": [
      "3\n",
      "2\n"
     ]
    }
   ],
   "source": [
    "q = StackDeque()\n",
    "q.add_first(1)\n",
    "q.add_last(2)\n",
    "q.add_first(3)\n",
    "print(q.delete_first())\n",
    "print(q.delete_last())"
   ]
  },
  {
   "cell_type": "markdown",
   "metadata": {},
   "source": [
    "**C-6.27** Suppose you have a stack $S$ containing $n$ elements and a queue $Q$ that is\n",
    "initially empty. Describe how you can use $Q$ to scan $S$ to see if it contains a\n",
    "certain element $x$, with the additional constraint that your algorithm must\n",
    "return the elements back to $S$ in their original order. You may only use $S$,\n",
    "$Q$, and a constant number of other variables."
   ]
  },
  {
   "cell_type": "code",
   "execution_count": 102,
   "metadata": {},
   "outputs": [],
   "source": [
    "def scan(S, x):\n",
    "    Q = ArrayQueue()\n",
    "    contains = False\n",
    "    while not S.is_empty():\n",
    "        e = S.pop()\n",
    "        if e == x:\n",
    "            cotains = True\n",
    "        Q.enqueue(e)\n",
    "    while not Q.is_empty():\n",
    "        S.push(Q.dequeue())\n",
    "    while not S.is_empty(): # put elements back to S in correct order by reversing it again\n",
    "        Q.enqueue(S.pop())\n",
    "    while not Q.is_empty():\n",
    "        S.push(Q.dequeue())\n",
    "    return contains"
   ]
  },
  {
   "cell_type": "code",
   "execution_count": 103,
   "metadata": {},
   "outputs": [
    {
     "name": "stdout",
     "output_type": "stream",
     "text": [
      "S = [0, 1, 2, 3, 4, 5, 6, 7, 8, 9]\n",
      "x = 100\n",
      "S contains x: False\n",
      "S = [0, 1, 2, 3, 4, 5, 6, 7, 8, 9]\n"
     ]
    }
   ],
   "source": [
    "S = ArrayStack()\n",
    "for i in range(10):\n",
    "    S.push(i)\n",
    "x = 100\n",
    "print('S = {}'.format(S._data))\n",
    "print('x = {}'.format(x))\n",
    "print('S contains x: {}'.format(scan(S, x)))\n",
    "print('S = {}'.format(S._data))"
   ]
  },
  {
   "cell_type": "markdown",
   "metadata": {},
   "source": [
    "**C-6.28** Modify the `ArrayQueue` implementation so that the queue's capacity is\n",
    "limited to `maxlen` elements, where `maxlen` is an optional parameter to the\n",
    "constructor (that defaults to `None`). If `enqueue` is called when the queue\n",
    "is at full capacity, throw a Full exception (defined similarly to `Empty`)."
   ]
  },
  {
   "cell_type": "code",
   "execution_count": 104,
   "metadata": {},
   "outputs": [],
   "source": [
    "class ArrayQueue1(ArrayQueue):\n",
    "    def __init__(self, maxlen=None):\n",
    "        super().__init__()\n",
    "        self._maxlen = maxlen\n",
    "    \n",
    "    def enqueue(self, e):\n",
    "        if len(self) == self._maxlen:\n",
    "            raise Exception('Queue is full')\n",
    "        super().enqueue(e)"
   ]
  },
  {
   "cell_type": "code",
   "execution_count": 105,
   "metadata": {},
   "outputs": [
    {
     "ename": "Exception",
     "evalue": "Queue is full",
     "output_type": "error",
     "traceback": [
      "\u001b[1;31m---------------------------------------------------------------------------\u001b[0m",
      "\u001b[1;31mException\u001b[0m                                 Traceback (most recent call last)",
      "\u001b[1;32m<ipython-input-105-6453ed891d05>\u001b[0m in \u001b[0;36m<module>\u001b[1;34m\u001b[0m\n\u001b[0;32m      3\u001b[0m \u001b[0mQ\u001b[0m\u001b[1;33m.\u001b[0m\u001b[0menqueue\u001b[0m\u001b[1;33m(\u001b[0m\u001b[1;36m2\u001b[0m\u001b[1;33m)\u001b[0m\u001b[1;33m\u001b[0m\u001b[1;33m\u001b[0m\u001b[0m\n\u001b[0;32m      4\u001b[0m \u001b[0mQ\u001b[0m\u001b[1;33m.\u001b[0m\u001b[0menqueue\u001b[0m\u001b[1;33m(\u001b[0m\u001b[1;36m3\u001b[0m\u001b[1;33m)\u001b[0m\u001b[1;33m\u001b[0m\u001b[1;33m\u001b[0m\u001b[0m\n\u001b[1;32m----> 5\u001b[1;33m \u001b[0mQ\u001b[0m\u001b[1;33m.\u001b[0m\u001b[0menqueue\u001b[0m\u001b[1;33m(\u001b[0m\u001b[1;36m4\u001b[0m\u001b[1;33m)\u001b[0m\u001b[1;33m\u001b[0m\u001b[1;33m\u001b[0m\u001b[0m\n\u001b[0m",
      "\u001b[1;32m<ipython-input-104-4de7c3424584>\u001b[0m in \u001b[0;36menqueue\u001b[1;34m(self, e)\u001b[0m\n\u001b[0;32m      6\u001b[0m     \u001b[1;32mdef\u001b[0m \u001b[0menqueue\u001b[0m\u001b[1;33m(\u001b[0m\u001b[0mself\u001b[0m\u001b[1;33m,\u001b[0m \u001b[0me\u001b[0m\u001b[1;33m)\u001b[0m\u001b[1;33m:\u001b[0m\u001b[1;33m\u001b[0m\u001b[1;33m\u001b[0m\u001b[0m\n\u001b[0;32m      7\u001b[0m         \u001b[1;32mif\u001b[0m \u001b[0mlen\u001b[0m\u001b[1;33m(\u001b[0m\u001b[0mself\u001b[0m\u001b[1;33m)\u001b[0m \u001b[1;33m==\u001b[0m \u001b[0mself\u001b[0m\u001b[1;33m.\u001b[0m\u001b[0m_maxlen\u001b[0m\u001b[1;33m:\u001b[0m\u001b[1;33m\u001b[0m\u001b[1;33m\u001b[0m\u001b[0m\n\u001b[1;32m----> 8\u001b[1;33m             \u001b[1;32mraise\u001b[0m \u001b[0mException\u001b[0m\u001b[1;33m(\u001b[0m\u001b[1;34m'Queue is full'\u001b[0m\u001b[1;33m)\u001b[0m\u001b[1;33m\u001b[0m\u001b[1;33m\u001b[0m\u001b[0m\n\u001b[0m\u001b[0;32m      9\u001b[0m         \u001b[0msuper\u001b[0m\u001b[1;33m(\u001b[0m\u001b[1;33m)\u001b[0m\u001b[1;33m.\u001b[0m\u001b[0menqueue\u001b[0m\u001b[1;33m(\u001b[0m\u001b[0me\u001b[0m\u001b[1;33m)\u001b[0m\u001b[1;33m\u001b[0m\u001b[1;33m\u001b[0m\u001b[0m\n",
      "\u001b[1;31mException\u001b[0m: Queue is full"
     ]
    }
   ],
   "source": [
    "Q = ArrayQueue1(3)\n",
    "Q.enqueue(1)\n",
    "Q.enqueue(2)\n",
    "Q.enqueue(3)\n",
    "Q.enqueue(4)"
   ]
  },
  {
   "cell_type": "markdown",
   "metadata": {},
   "source": [
    "**C-6.29** In certain applications of the queue ADT, it is common to repeatedly\n",
    "dequeue an element, process it in some way, and then immediately enqueue the same element. Modify the `ArrayQueue` implementation to include a `rotate()` method that has semantics identical to the combination, `Q.enqueue(Q.dequeue())`. However, your implementation should\n",
    "be more efficient than making two separate calls (for example, because\n",
    "there is no need to modify size)."
   ]
  },
  {
   "cell_type": "code",
   "execution_count": 115,
   "metadata": {},
   "outputs": [],
   "source": [
    "class ArrayQueue2(ArrayQueue):\n",
    "    def __init__(self):\n",
    "        super().__init__()\n",
    "        \n",
    "    def rotate(self):\n",
    "        e = self.first()\n",
    "        self._data[self._front] = None\n",
    "        index = (self._front + self._size) % len(self._data)\n",
    "        self._data[index] = e\n",
    "        self._front = (self._front + 1) % len(self._data)"
   ]
  },
  {
   "cell_type": "code",
   "execution_count": 117,
   "metadata": {},
   "outputs": [
    {
     "name": "stdout",
     "output_type": "stream",
     "text": [
      "[1, 2, 3, None, None]\n",
      "[1, 2, 3]\n",
      "[None, 2, 3, 1, None]\n",
      "[2, 3, 1]\n"
     ]
    }
   ],
   "source": [
    "Q = ArrayQueue2()\n",
    "for i in [1,2,3]:\n",
    "    Q.enqueue(i)\n",
    "print(Q._data)\n",
    "Q.print()\n",
    "Q.rotate()\n",
    "print(Q._data)\n",
    "Q.print()"
   ]
  },
  {
   "cell_type": "markdown",
   "metadata": {},
   "source": [
    "**C-6.30** Alice has two queues, $Q$ and $R$, which can store integers. Bob gives Alice\n",
    "50 odd integers and 50 even integers and insists that she store all 100\n",
    "integers in $Q$ and $R$. They then play a game where Bob picks $Q$ or $R$\n",
    "at random and then applies the round-robin scheduler, described in the next\n",
    "chapter, to the chosen queue a random number of times. If the last number\n",
    "to be processed at the end of this game was odd, Bob wins. Otherwise,\n",
    "Alice wins. How can Alice allocate integers to queues to optimize her\n",
    "chances of winning? What is her chance of winning?"
   ]
  },
  {
   "cell_type": "markdown",
   "metadata": {},
   "source": [
    "**C-6.31** Suppose Bob has four cows that he wants to take across a bridge, but only\n",
    "one yoke, which can hold up to two cows, side by side, tied to the yoke.\n",
    "The yoke is too heavy for him to carry across the bridge, but he can tie\n",
    "(and untie) cows to it in no time at all. Of his four cows, Mazie can cross\n",
    "the bridge in 2 minutes, Daisy can cross it in 4 minutes, Crazy can cross\n",
    "it in 10 minutes, and Lazy can cross it in 20 minutes. Of course, when\n",
    "two cows are tied to the yoke, they must go at the speed of the slower cow.\n",
    "Describe how Bob can get all his cows across the bridge in 34 minutes.\n",
    "\n",
    "| this side          | other side                | time |\n",
    "|--------------------|---------------------------|------|\n",
    "| Crazy, Lazy        | Mazie, Daisy              | 4    |\n",
    "| Crazy, Lazy, Mazie | Daisy                     | 2    |\n",
    "| Mazie              | Crazy, Lazy, Daisy        | 20   |\n",
    "| Mazie, Daisy       | Crazy, Lazy               | 4    |\n",
    "|                    | Mazie, Daisy, Crazy ,Lazy | 4    |"
   ]
  },
  {
   "cell_type": "markdown",
   "metadata": {},
   "source": [
    "#### Projects\n",
    "\n",
    "**P-6.32** Give a complete ArrayDeque implementation of the double-ended queue\n",
    "ADT as sketched in Section 6.3.2."
   ]
  },
  {
   "cell_type": "code",
   "execution_count": 22,
   "metadata": {},
   "outputs": [],
   "source": [
    "class ArrayDeque:\n",
    "    DEFAULT_CAPACITY = 5\n",
    "    \n",
    "    def __init__(self):\n",
    "        self._data = [None] * ArrayDeque.DEFAULT_CAPACITY\n",
    "        self._front = 0\n",
    "        self._size = 0\n",
    "        \n",
    "    def __len__(self):\n",
    "        return self._size\n",
    "    \n",
    "    def is_empty(self):\n",
    "        return self._size == 0\n",
    "    \n",
    "    def first(self):\n",
    "        return self._data[self._front]\n",
    "    \n",
    "    def last(self):\n",
    "        index = (self._front + self._size) % len(self._data)\n",
    "        return self._data[index]\n",
    "    \n",
    "    def add_first(self, e):\n",
    "        if self._size == len(self._data):\n",
    "            self._resize(2 * len(self._data))\n",
    "        index = (self._front - 1) % len(self._data)\n",
    "        self._data[index] = e\n",
    "        self._front = index\n",
    "        self._size += 1\n",
    "    \n",
    "    def add_last(self, e):\n",
    "        if self._size == len(self._data):\n",
    "            self._resize(2 * len(self._data))\n",
    "        index = (self._front + self._size) % len(self._data)\n",
    "        self._data[index] = e\n",
    "        self._size += 1\n",
    "    \n",
    "    def delete_first(self):\n",
    "        if self.is_empty():\n",
    "            raise Exception('Deque is empty')\n",
    "        self._data[self._front] = None\n",
    "        self._front = (self._front + 1) % len(self._data)\n",
    "        self._size -= 1\n",
    "    \n",
    "    def delete_last(self):\n",
    "        if self.is_empty():\n",
    "            raise Exception('Deque is empty')\n",
    "        index = (self._front + self._size - 1) % len(self._data) # note the minus 1\n",
    "        self._data[index] = None\n",
    "        self._size -= 1\n",
    "    \n",
    "    def _resize(self, cap):\n",
    "        old = self._data\n",
    "        self._data = [None] * cap\n",
    "        walk = self._front\n",
    "        for k in range(self._size):\n",
    "            self._data[k] = old[walk]\n",
    "            walk = (walk + 1) % len(old)\n",
    "        self._front = 0\n",
    "        \n",
    "    def print(self):\n",
    "        l = [None] * self._size\n",
    "        pointer = self._front\n",
    "        counter = 0\n",
    "        while self._data[pointer]:\n",
    "            l[counter] = self._data[pointer]\n",
    "            counter += 1\n",
    "            pointer = (pointer + 1) % len(self._data)\n",
    "        print(l)"
   ]
  },
  {
   "cell_type": "code",
   "execution_count": 25,
   "metadata": {},
   "outputs": [
    {
     "name": "stdout",
     "output_type": "stream",
     "text": [
      "[3, 1, 2, 4]\n",
      "[1, 2, 4]\n",
      "[1, 2]\n"
     ]
    }
   ],
   "source": [
    "d = ArrayDeque()\n",
    "d.add_first(1)\n",
    "d.add_last(2)\n",
    "d.add_first(3)\n",
    "d.add_last(4)\n",
    "d.print()\n",
    "d.delete_first()\n",
    "d.print()\n",
    "d.delete_last()\n",
    "d.print()"
   ]
  },
  {
   "cell_type": "markdown",
   "metadata": {},
   "source": [
    "**P-6.33** Give an array-based implementation of a double-ended queue supporting\n",
    "all of the public behaviors shown in Table 6.4 for the `collections.deque`\n",
    "class, including use of the `maxlen` optional parameter. When a length-limited deque is full, provide semantics similar to the `collections.deque`\n",
    "class, whereby a call to insert an element on one end of a deque causes an\n",
    "element to be lost from the opposite side."
   ]
  },
  {
   "cell_type": "code",
   "execution_count": 52,
   "metadata": {},
   "outputs": [],
   "source": [
    "class Deque:\n",
    "    DEFAULT_CAPACITY = 5\n",
    "    \n",
    "    def __init__(self, maxlen=None):\n",
    "        self._data = [None] * (maxlen or Deque.DEFAULT_CAPACITY)\n",
    "        self._front = 0\n",
    "        self._size = 0\n",
    "        self._maxlen = maxlen\n",
    "    \n",
    "    def __len__(self):\n",
    "        return self._size\n",
    "    \n",
    "    def is_empty(self):\n",
    "        return self._size == 0\n",
    "    \n",
    "    def appendleft(self, e):\n",
    "        if self._size == self._maxlen:\n",
    "            # lose element from the right side\n",
    "            self._data[(self._front + self._size - 1) % self._maxlen] = None\n",
    "            pointer = self._front\n",
    "            for i in range(self._maxlen):\n",
    "                nextPointer = (pointer + 1) % self._maxlen\n",
    "                self._data[nextPointer] = self._data[pointer]\n",
    "                pointer = nextPointer\n",
    "            self._data[self._front] = e\n",
    "        else:\n",
    "            index = (self._front - 1) % self._maxlen\n",
    "            self._data[index] = e\n",
    "            self._front = index\n",
    "            self._size += 1\n",
    "    \n",
    "    def append(self, e):\n",
    "        if self._size == self._maxlen:\n",
    "            # lose element from the left side\n",
    "            self._data[self._front] = None\n",
    "            pointer = (self._front + self._size - 1) % self._maxlen\n",
    "            for i in range(self._maxlen):\n",
    "                nextPointer = (pointer - 1) % self._maxlen\n",
    "                self._data[nextPointer] = self._data[pointer]\n",
    "                pointer = nextPointer\n",
    "            self._data[(self._front + self._size - 1) % self._maxlen] = e\n",
    "        else:\n",
    "            index = (self._front + self._size) % self._maxlen\n",
    "            self._data[index] = e\n",
    "            self._size += 1\n",
    "    \n",
    "    def popleft(self):\n",
    "        if self.is_empty():\n",
    "            raise Exception('Deque is empty')\n",
    "        result = self._data[self._front]\n",
    "        self._data[self._front] = None\n",
    "        self._front = (self._front + 1) % self._maxlen\n",
    "        self._size -= 1\n",
    "        return result\n",
    "    \n",
    "    def pop(self):\n",
    "        if self.is_empty():\n",
    "            raise Exception('Deque is empty')\n",
    "        index = (self._front + self._size - 1) % self._maxlen\n",
    "        result = self._data[index]\n",
    "        self._data[index] = None\n",
    "        self._size -= 1\n",
    "        return result\n",
    "    \n",
    "    def __getitem__(self, key):\n",
    "        if key < 0:\n",
    "            key = abs(key + self._maxlen)\n",
    "        if key > self._maxlen:\n",
    "            raise IndexError('Index out of range')\n",
    "        index = (self._front + key) % self._maxlen\n",
    "        return self._data[index]\n",
    "    \n",
    "    def __setitem__(self, key, value):\n",
    "        if key < 0:\n",
    "            key = abs(key + self._maxlen)\n",
    "        if key > self._maxlen:\n",
    "            raise IndexError('Index out of range')\n",
    "        index = (self._front + key) % self._maxlen\n",
    "        self._data[index] = value\n",
    "    \n",
    "    def clear(self):\n",
    "        \"\"\"\n",
    "        clear all contents\n",
    "        \"\"\"\n",
    "        self._data = [None] * self._maxlen\n",
    "        \n",
    "    def rotate(self, k):\n",
    "        \"\"\"\n",
    "        circularly shift rightward k steps\n",
    "        \"\"\"\n",
    "        for i in range(k):\n",
    "            self.appendleft(self.pop())\n",
    "    \n",
    "    def remove(self, e):\n",
    "        \"\"\"\n",
    "        remove first matching element\n",
    "        \"\"\"\n",
    "        pointer = self._front\n",
    "        counter = 0\n",
    "        while counter < self._maxlen and self._data[pointer] is not None:\n",
    "            x = self._data[pointer]\n",
    "            if x == e:\n",
    "                self._data[pointer] = None\n",
    "#                 for i in range(pointer, pointer + (self._size - counter)):\n",
    "#                     self._data[i % self._maxlen] = self._data[(i+1) % self._maxlen]\n",
    "                break\n",
    "            counter += 1\n",
    "            pointer = (pointer + 1) % self._maxlen\n",
    "    \n",
    "    def count(self, e):\n",
    "        \"\"\"\n",
    "        count number of matches for e\n",
    "        \"\"\"\n",
    "        counter = 0\n",
    "        i = 0\n",
    "        pointer = self._front\n",
    "        while i < self._maxlen and self._data[pointer] is not None:\n",
    "            x = self._data[pointer]\n",
    "            if x == e:\n",
    "                counter += 1\n",
    "            i += 1\n",
    "            pointer = (pointer + 1) % self._maxlen\n",
    "        return counter\n",
    "        \n",
    "    def print(self):\n",
    "        l = [None] * self._size\n",
    "        pointer = self._front\n",
    "        counter = 0\n",
    "        while self._data[pointer] is not None and counter < self._maxlen:\n",
    "            l[counter] = self._data[pointer]\n",
    "            counter += 1\n",
    "            pointer = (pointer + 1) % len(self._data)\n",
    "        print(l)"
   ]
  },
  {
   "cell_type": "code",
   "execution_count": 53,
   "metadata": {},
   "outputs": [
    {
     "name": "stdout",
     "output_type": "stream",
     "text": [
      "[4, 3, 2, 1, 0]\n",
      "[4, 3, 2, 1, 0, 0, 1, 2, 3, 4]\n",
      "[4, 3, 2, 1, 0, 0, 1, 2, 3]\n",
      "[3, 2, 1, 0, 0, 1, 2, 3]\n",
      "d[0] = 3\n",
      "d[1] = 2\n",
      "d[2] = 1\n",
      "d[3] = 0\n",
      "d[4] = 0\n",
      "d[5] = 1\n",
      "d[6] = 2\n",
      "d[7] = 3\n",
      "[4, 2, 1, 0, 0, 1, 2, 3]\n",
      "[1, 2, 3, 4, 2, 1, 0, 0]\n",
      "[1, 2, 3, 4, 2, 1, None, None]\n",
      "2\n"
     ]
    }
   ],
   "source": [
    "d = Deque(10)\n",
    "for i in range(5):\n",
    "    d.appendleft(i)\n",
    "d.print()\n",
    "for i in range(5):\n",
    "    d.append(i)\n",
    "d.print()\n",
    "d.pop()\n",
    "d.print()\n",
    "d.popleft()\n",
    "d.print()\n",
    "for i in range(len(d)):\n",
    "    print('d[{}] = {}'.format(i, d[i]))\n",
    "d[0] = 4\n",
    "d.print()\n",
    "d.rotate(3)\n",
    "d.print()\n",
    "d.remove(0)\n",
    "d.print()\n",
    "print(d.count(1))"
   ]
  },
  {
   "cell_type": "markdown",
   "metadata": {},
   "source": [
    "**P-6.34** Implement a program that can input an expression in postfix notation (see\n",
    "Exercise C-6.22) and output its value."
   ]
  },
  {
   "cell_type": "code",
   "execution_count": 26,
   "metadata": {},
   "outputs": [],
   "source": [
    "def evaluate(expr):\n",
    "    S = ArrayStack()\n",
    "    numQueue = ArrayQueue()\n",
    "    for char in expr:\n",
    "        if char == ' ': # allow numbers with >1 digits\n",
    "            if numQueue.is_empty():\n",
    "                continue\n",
    "            else:\n",
    "                num = ''\n",
    "                while not numQueue.is_empty():\n",
    "                    num += numQueue.dequeue()\n",
    "                num = float(num)\n",
    "                S.push(num)\n",
    "        else:\n",
    "            if char == '+':\n",
    "                S.push(float(S.pop()) + float(S.pop()))\n",
    "            elif char == '-':\n",
    "                num1 = S.pop()\n",
    "                num2 = S.pop()\n",
    "                S.push(float(num2) - float(num1))\n",
    "            elif char == '*':\n",
    "                S.push(float(S.pop()) * float(S.pop()))\n",
    "            elif char == '/':\n",
    "                S.push(float(S.pop()) / float(S.pop()))\n",
    "            else:\n",
    "                numQueue.enqueue(char)\n",
    "    return S.pop()"
   ]
  },
  {
   "cell_type": "code",
   "execution_count": 27,
   "metadata": {},
   "outputs": [
    {
     "data": {
      "text/plain": [
       "True"
      ]
     },
     "execution_count": 27,
     "metadata": {},
     "output_type": "execute_result"
    }
   ],
   "source": [
    "expr = '1 2 + 3 4 - * 5 /'\n",
    "evaluate(expr) == 5/(1+2)*(3-4)"
   ]
  }
 ],
 "metadata": {
  "kernelspec": {
   "display_name": "Python 3",
   "language": "python",
   "name": "python3"
  },
  "language_info": {
   "codemirror_mode": {
    "name": "ipython",
    "version": 3
   },
   "file_extension": ".py",
   "mimetype": "text/x-python",
   "name": "python",
   "nbconvert_exporter": "python",
   "pygments_lexer": "ipython3",
   "version": "3.7.3"
  },
  "toc": {
   "base_numbering": 1,
   "nav_menu": {},
   "number_sections": true,
   "sideBar": true,
   "skip_h1_title": false,
   "title_cell": "Table of Contents",
   "title_sidebar": "Contents",
   "toc_cell": false,
   "toc_position": {
    "height": "calc(100% - 180px)",
    "left": "10px",
    "top": "150px",
    "width": "206.933px"
   },
   "toc_section_display": true,
   "toc_window_display": true
  }
 },
 "nbformat": 4,
 "nbformat_minor": 2
}
