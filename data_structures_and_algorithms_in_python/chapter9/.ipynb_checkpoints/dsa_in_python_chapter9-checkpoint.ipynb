{
 "cells": [
  {
   "cell_type": "markdown",
   "metadata": {},
   "source": [
    "Reading notes and partial solutions to [Data Structures and Algorithms in Python](https://blackwells.co.uk/bookshop/product/9781118290279?gC=f177369a3b&gclid=Cj0KCQjwhJrqBRDZARIsALhp1WTBIyoxeQGXedlVy80vsglvFbNkVf7jTP0Z0zXEIP87lfqbtb4_diYaAr8dEALw_wcB)."
   ]
  },
  {
   "cell_type": "code",
   "execution_count": 1,
   "metadata": {},
   "outputs": [],
   "source": [
    "import random\n",
    "from matplotlib import pyplot as plt\n",
    "%matplotlib inline\n",
    "import math\n",
    "from datetime import datetime\n",
    "import time\n",
    "import numpy as np"
   ]
  },
  {
   "cell_type": "code",
   "execution_count": 5,
   "metadata": {},
   "outputs": [
    {
     "ename": "ModuleNotFoundError",
     "evalue": "No module named 'doubly_linked_base'",
     "output_type": "error",
     "traceback": [
      "\u001b[1;31m---------------------------------------------------------------------------\u001b[0m",
      "\u001b[1;31mModuleNotFoundError\u001b[0m                       Traceback (most recent call last)",
      "\u001b[1;32m<ipython-input-5-539e32418976>\u001b[0m in \u001b[0;36m<module>\u001b[1;34m\u001b[0m\n\u001b[0;32m      1\u001b[0m \u001b[1;32mimport\u001b[0m \u001b[0msys\u001b[0m\u001b[1;33m\u001b[0m\u001b[1;33m\u001b[0m\u001b[0m\n\u001b[0;32m      2\u001b[0m \u001b[0msys\u001b[0m\u001b[1;33m.\u001b[0m\u001b[0mpath\u001b[0m\u001b[1;33m.\u001b[0m\u001b[0mappend\u001b[0m\u001b[1;33m(\u001b[0m\u001b[1;34m\"..\"\u001b[0m\u001b[1;33m)\u001b[0m\u001b[1;33m\u001b[0m\u001b[1;33m\u001b[0m\u001b[0m\n\u001b[1;32m----> 3\u001b[1;33m \u001b[1;32mfrom\u001b[0m \u001b[0mchapter7\u001b[0m \u001b[1;32mimport\u001b[0m \u001b[0mdoubly_linked_base\u001b[0m\u001b[1;33m,\u001b[0m \u001b[0mpositional_list\u001b[0m\u001b[1;33m\u001b[0m\u001b[1;33m\u001b[0m\u001b[0m\n\u001b[0m",
      "\u001b[1;32m~\\Fun\\programming\\data-structures-and-algorithms\\data-structures-and-algorithms-notes\\data_structures_and_algorithms_in_python\\chapter7\\positional_list.py\u001b[0m in \u001b[0;36m<module>\u001b[1;34m\u001b[0m\n\u001b[0;32m      1\u001b[0m \u001b[1;32mimport\u001b[0m \u001b[0msys\u001b[0m\u001b[1;33m\u001b[0m\u001b[1;33m\u001b[0m\u001b[0m\n\u001b[0;32m      2\u001b[0m \u001b[0msys\u001b[0m\u001b[1;33m.\u001b[0m\u001b[0mpath\u001b[0m\u001b[1;33m.\u001b[0m\u001b[0mappend\u001b[0m\u001b[1;33m(\u001b[0m\u001b[1;34m\"..\"\u001b[0m\u001b[1;33m)\u001b[0m\u001b[1;33m\u001b[0m\u001b[1;33m\u001b[0m\u001b[0m\n\u001b[1;32m----> 3\u001b[1;33m \u001b[1;32mfrom\u001b[0m \u001b[0mdoubly_linked_base\u001b[0m \u001b[1;32mimport\u001b[0m \u001b[0m_DoublyLinkedBase\u001b[0m\u001b[1;33m\u001b[0m\u001b[1;33m\u001b[0m\u001b[0m\n\u001b[0m\u001b[0;32m      4\u001b[0m \u001b[1;33m\u001b[0m\u001b[0m\n\u001b[0;32m      5\u001b[0m \u001b[1;33m\u001b[0m\u001b[0m\n",
      "\u001b[1;31mModuleNotFoundError\u001b[0m: No module named 'doubly_linked_base'"
     ]
    }
   ],
   "source": [
    "import sys\n",
    "sys.path.append(\"..\")\n",
    "from chapter7.positional_list import PositionalList"
   ]
  },
  {
   "cell_type": "markdown",
   "metadata": {},
   "source": [
    "# Priority Queues\n",
    "\n",
    "## Priority Queue ADT"
   ]
  },
  {
   "cell_type": "code",
   "execution_count": 5,
   "metadata": {},
   "outputs": [],
   "source": [
    "class PriorityQueueBase:\n",
    "    \"\"\"Abstract base class for a priority queue.\"\"\"\n",
    "    \n",
    "    class _Item:\n",
    "        \"\"\"Composite to store priority queue items.\"\"\"\n",
    "        __slots__ = \"_key\", \"_value\"\n",
    "        \n",
    "        def __init__(self, k, v):\n",
    "            self._key = k\n",
    "            self._value = v\n",
    "        \n",
    "        def __lt__(self, other):\n",
    "            return self._key < other._key\n",
    "    \n",
    "    def is_empty(self):\n",
    "        \"\"\"Return True if the priority queue is empty.\"\"\"\n",
    "        return len(self) == 0"
   ]
  },
  {
   "cell_type": "markdown",
   "metadata": {},
   "source": [
    "### Unsorted Priority Queue"
   ]
  },
  {
   "cell_type": "code",
   "execution_count": 2,
   "metadata": {},
   "outputs": [],
   "source": [
    "class PositionalList(_DoublyLinkedBase):\n",
    "    \n",
    "    class Position:\n",
    "        \n",
    "        def __init__(self, container, node):\n",
    "            self._container = container # the positional list the node belongs to\n",
    "            self._node = node\n",
    "        \n",
    "        def element(self):\n",
    "            return self._node._element\n",
    "        \n",
    "        def __eq__(self, other):\n",
    "            \"\"\"\n",
    "            Return True if the two Positions represent the same location.\n",
    "            \"\"\"\n",
    "            return type(other) is type(self) and other._node is self._node\n",
    "        \n",
    "        def __ne__(self, other):\n",
    "            return not (self == other)\n",
    "    \n",
    "    def __init__(self):\n",
    "        super().__init__()\n",
    "    \n",
    "    def _validate(self, p):\n",
    "        \"\"\"\n",
    "        Return the position's node, or raise error if the position is invalid.\n",
    "        \"\"\"\n",
    "        if not isinstance(p, self.Position):\n",
    "            raise TypeError('p must be of type Position')\n",
    "        if p._container is not self:\n",
    "            raise ValueError('p does not belong to this container')\n",
    "        if p._node._next is None:\n",
    "            raise ValueError('p is deprecated')\n",
    "        return p._node\n",
    "\n",
    "    def _make_position(self, node):\n",
    "        \"\"\"Return Position instance for given node.\"\"\"\n",
    "        if node is self._header or node is self._trailer:\n",
    "            return None\n",
    "        else:\n",
    "            return self.Position(self, node)\n",
    "    \n",
    "    def first(self):\n",
    "        return self._make_position(self._header._next)\n",
    "    \n",
    "    def last(self):\n",
    "        return self._make_position(self._trailer._prev)\n",
    "    \n",
    "    def before(self, p):\n",
    "        \"\"\"\n",
    "        Return the Position before p.\n",
    "        \"\"\"\n",
    "        node = self._validate(p)\n",
    "        return self._make_position(node._prev)\n",
    "    \n",
    "    def after(self, p):\n",
    "        \"\"\"\n",
    "        Return the Position after p.\n",
    "        \"\"\"\n",
    "        node = self._validate(p)\n",
    "        return self._make_position(node._next)\n",
    "    \n",
    "    def __iter__(self):\n",
    "        cursor = self.first()\n",
    "        while cursor is not None:\n",
    "            yield cursor.element()\n",
    "            cursor = self.after(cursor)\n",
    "    \n",
    "    def _insert_between(self, e, predecessor, successor):\n",
    "        \"\"\"\n",
    "        Add element between nodes and return new Position (instead of node as in the base class).\n",
    "        \"\"\"\n",
    "        node = super()._insert_between(e, predecessor, successor)\n",
    "        return self._make_position(node)\n",
    "    \n",
    "    def add_first(self, e):\n",
    "        return self._insert_between(e, self._header, self._header._next)\n",
    "    \n",
    "    def add_last(self, e):\n",
    "        return self._insert_between(e, self._trailer._prev, self._trailer)\n",
    "    \n",
    "    def add_before(self, p, e):\n",
    "        node = self._validate(p)\n",
    "        return self._insert_between(e, node._prev, node)\n",
    "    \n",
    "    def add_after(self, p, e):\n",
    "        node = self._validate(p)\n",
    "        return self._insert_between(e, node, node._next)\n",
    "    \n",
    "    def delete(self, p):\n",
    "        node = self._validate(p)\n",
    "        return self._delete_node(node)\n",
    "        \n",
    "    def replace(self, p, e):\n",
    "        \"\"\"\n",
    "        Replace the element of the node at Position p with e.\n",
    "        \"\"\"\n",
    "        node = self._validate(p)\n",
    "        old = node._element\n",
    "        node._element = e\n",
    "        return old"
   ]
  },
  {
   "cell_type": "code",
   "execution_count": 6,
   "metadata": {},
   "outputs": [],
   "source": [
    "class UnsortedPriorityQueue(PriorityQueueBase):\n",
    "    \"\"\"Priority queue implemented with unsorted list.\"\"\"\n",
    "    \n",
    "    def _find_min(self):\n",
    "        \"\"\"Utility function to find item with minimum key.\"\"\"\n",
    "        if self.is_empty():\n",
    "            raise Empty(\"Priority queue is empty\")\n",
    "        small = self._data.first()"
   ]
  },
  {
   "cell_type": "markdown",
   "metadata": {},
   "source": [
    "## Heaps"
   ]
  }
 ],
 "metadata": {
  "kernelspec": {
   "display_name": "Python 3",
   "language": "python",
   "name": "python3"
  },
  "language_info": {
   "codemirror_mode": {
    "name": "ipython",
    "version": 3
   },
   "file_extension": ".py",
   "mimetype": "text/x-python",
   "name": "python",
   "nbconvert_exporter": "python",
   "pygments_lexer": "ipython3",
   "version": "3.8.3"
  },
  "toc": {
   "base_numbering": 1,
   "nav_menu": {},
   "number_sections": true,
   "sideBar": true,
   "skip_h1_title": false,
   "title_cell": "Table of Contents",
   "title_sidebar": "Contents",
   "toc_cell": false,
   "toc_position": {},
   "toc_section_display": true,
   "toc_window_display": true
  }
 },
 "nbformat": 4,
 "nbformat_minor": 4
}
