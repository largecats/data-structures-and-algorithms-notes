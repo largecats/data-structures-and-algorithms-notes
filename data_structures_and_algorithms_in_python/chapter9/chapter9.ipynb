{
 "cells": [
  {
   "cell_type": "markdown",
   "metadata": {},
   "source": [
    "Reading notes and partial solutions to [Data Structures and Algorithms in Python](https://blackwells.co.uk/bookshop/product/9781118290279?gC=f177369a3b&gclid=Cj0KCQjwhJrqBRDZARIsALhp1WTBIyoxeQGXedlVy80vsglvFbNkVf7jTP0Z0zXEIP87lfqbtb4_diYaAr8dEALw_wcB)."
   ]
  },
  {
   "cell_type": "code",
   "execution_count": 1,
   "metadata": {},
   "outputs": [],
   "source": [
    "import random\n",
    "from matplotlib import pyplot as plt\n",
    "%matplotlib inline\n",
    "import math\n",
    "from datetime import datetime\n",
    "import time\n",
    "import numpy as np"
   ]
  },
  {
   "cell_type": "code",
   "execution_count": 1,
   "metadata": {},
   "outputs": [],
   "source": [
    "import sys\n",
    "sys.path.append(\"..\")\n",
    "from chapter7.positional_list import PositionalList"
   ]
  },
  {
   "cell_type": "markdown",
   "metadata": {},
   "source": [
    "# Priority Queues\n",
    "\n",
    "## Priority Queue ADT"
   ]
  },
  {
   "cell_type": "code",
   "execution_count": 2,
   "metadata": {},
   "outputs": [],
   "source": [
    "class PriorityQueueBase:\n",
    "    \"\"\"Abstract base class for a priority queue.\"\"\"\n",
    "    \n",
    "    class _Item:\n",
    "        \"\"\"Composite to store priority queue items.\"\"\"\n",
    "        __slots__ = \"_key\", \"_value\"\n",
    "        \n",
    "        def __init__(self, k, v):\n",
    "            self._key = k\n",
    "            self._value = v\n",
    "        \n",
    "        def __lt__(self, other):\n",
    "            return self._key < other._key\n",
    "    \n",
    "    def is_empty(self):\n",
    "        \"\"\"Return True if the priority queue is empty.\"\"\"\n",
    "        return len(self) == 0"
   ]
  },
  {
   "cell_type": "markdown",
   "metadata": {},
   "source": [
    "### Unsorted Priority Queue"
   ]
  },
  {
   "cell_type": "code",
   "execution_count": 3,
   "metadata": {},
   "outputs": [],
   "source": [
    "class UnsortedPriorityQueue(PriorityQueueBase):\n",
    "    \"\"\"Priority queue implemented with unsorted list.\"\"\"\n",
    "    \n",
    "    def _find_min(self):\n",
    "        \"\"\"Utility function to find item with minimum key.\"\"\"\n",
    "        if self.is_empty():\n",
    "            raise Empty(\"Priority queue is empty\")\n",
    "        small = self._data.first()\n",
    "        walk = self._data.after(small)\n",
    "        while walk is not None:\n",
    "            if walk.element() < small.element():\n",
    "                small = walk\n",
    "            walk = self._data.after(walk)\n",
    "        return small\n",
    "    \n",
    "    def __init__(self):\n",
    "        \"\"\"Create a new empty Priority Queue.\"\"\"\n",
    "        self._data = PositionalList()\n",
    "    \n",
    "    def __len__(self):\n",
    "        \"\"\"Return the number of items in the priority queue.\"\"\"\n",
    "        return len(self._data)\n",
    "    \n",
    "    def add(self, key, value):\n",
    "        \"\"\"Add a key-value pair.\"\"\"\n",
    "        self._data.add_last(self._Item(key, value)) # add_last() method of PositionalList\n",
    "    \n",
    "    def min(self):\n",
    "        \"\"\"Return but do not remove (k, v) tuple with minimum key.\"\"\"\n",
    "        p = self._find_min()\n",
    "        item = p.element()\n",
    "        return (item._key, item._value)\n",
    "    \n",
    "    def remove_min(self):\n",
    "        \"\"\"Remove and return (k, v) tuple with minimum key.\"\"\"\n",
    "        p = self._find_min()\n",
    "        item = self._data.delete(p)\n",
    "        return (item._key, item._value)\n",
    "    "
   ]
  },
  {
   "cell_type": "markdown",
   "metadata": {},
   "source": [
    "### Sorted Priority Queue"
   ]
  },
  {
   "cell_type": "code",
   "execution_count": null,
   "metadata": {},
   "outputs": [],
   "source": [
    "class SortedPriorityQueue(PriorityQueueBase):\n",
    "    \"\"\"Priority queue implemented with a sorted list.\"\"\"\n",
    "    \n",
    "    def __init__(self):\n",
    "        \"\"\"Create a new empty Priority Queue.\"\"\"\n",
    "        self._data = PositionalList()\n",
    "    \n",
    "    def __len__(self):\n",
    "        \"\"\"Return the number of items in the priority queue.\"\"\"\n",
    "        return len(self._data)\n",
    "    \n",
    "    def add(self, key, value):\n",
    "        \"\"\"Add a key-value pair.\"\"\"\n",
    "        newest = self._Item(key, value)\n",
    "        walk = self._data.last() # walk backward to look for smaller key\n",
    "        while walk is not None and newest < walk.element():\n",
    "            walk = self._data.before(walk)\n",
    "        if walk is None: # new key is smallest\n",
    "            self._data.add_first(newest)\n",
    "        else:\n",
    "            self._data.add_after(walk, newest) # newest goes after walk\n",
    "            \n",
    "    def min(self):\n",
    "        \"\"\"Return but do not remove (k, v) tuple with minimum key.\"\"\"\n",
    "        if self.is_empty():\n",
    "            raise Empty(\"Priority queue is empty\")\n",
    "        item = self._data.first()\n",
    "        return (item._key, item._value)\n",
    "    \n",
    "    def remove_min(self):\n",
    "        \"\"\"Remove and return (k, v) tuple with minimum key.\"\"\"\n",
    "        if self.is_empty():\n",
    "            raise Empty(\"Priority queue is empty.\")\n",
    "        item = self._data.delete(self._data.first())\n",
    "        return (item._key, item._value)"
   ]
  },
  {
   "cell_type": "markdown",
   "metadata": {},
   "source": [
    "## Heaps\n",
    "\n",
    "### Heap Priority Queue"
   ]
  },
  {
   "cell_type": "code",
   "execution_count": 4,
   "metadata": {},
   "outputs": [],
   "source": [
    "class HeapPriorityQueue(PriorityQueueBase):\n",
    "    \"\"\"Priority queue implemented with a binary heap.\"\"\"\n",
    "    \n",
    "    def _parent(self, j):\n",
    "        return (j-1)//2\n",
    "    \n",
    "    def _left(self, j):\n",
    "        return 2*j + 1\n",
    "    \n",
    "    def _right(self, j):\n",
    "        return 2*j + 2\n",
    "    \n",
    "    def _has_left(self, j):\n",
    "        return self._left(j) < len(self._data)\n",
    "    \n",
    "    def _has_right(self, j):\n",
    "        return self._right(j) < len(self._data)\n",
    "    \n",
    "    def _swap(self, i, j):\n",
    "        \"\"\"Swap elements at indices i and j.\"\"\"\n",
    "        self._data[i], self._data[j] = self._data[j], self._data[i]\n",
    "        \n",
    "    def _upheap(self, j):\n",
    "        \"\"\"Up-heap bubbling to adjust position of element at index j to maintain heap order.\"\"\"\n",
    "        parent = self._parent(j)\n",
    "        if j > 0 and self._data[j] < self._data[parent]:\n",
    "            self._swap(j, parent)\n",
    "            self._upheap(parent) # recur at parent position\n",
    "    \n",
    "    def _downheap(self, j):\n",
    "        \"\"\"Down-heap bubbling to adjust positgion of element at index j to maintain heap order.\"\"\"\n",
    "        if self._has_left(j):\n",
    "            left = self._left(j)\n",
    "            small_child = left # smaller child of left and right\n",
    "            if self._has_right(j):\n",
    "                right = self._right(j)\n",
    "                if self._data[right] < self._data[left]:\n",
    "                    small_child = right\n",
    "            if self._data[small_child] < self._data[j]:\n",
    "                self._swap(j, small_child)\n",
    "                self._downheap(small_child)\n",
    "    \n",
    "    def __init__(self):\n",
    "        \"\"\"Create a new empty Priority Queue.\"\"\"\n",
    "        self._data = [] # array-based\n",
    "        \n",
    "    def __len__(self):\n",
    "        \"\"\"Return the number of items in the priority queue.\"\"\"\n",
    "        return len(self._data)\n",
    "\n",
    "    def add(self, key, value):\n",
    "        \"\"\"Add a key-value pair to the priority queue.\"\"\"\n",
    "        self._data.append(self._Item(key, value)) # add to the end of array\n",
    "        self._upheap(len(self._data) - 1) # upheap bubbling\n",
    "    \n",
    "    def min(self):\n",
    "        \"\"\"Return but do not remove (k, v) tuple with minimum key.\"\"\"\n",
    "        if self.is_empty():\n",
    "            raise Empty(\"Priority queue is empty.\")\n",
    "        item = self._data[0] # item with minimum key is at top of the heap\n",
    "        return (item._key, item._value)\n",
    "    \n",
    "    def remove_min(self):\n",
    "        \"\"\"Remove and return (k, v) tuple with minimum key.\"\"\"\n",
    "        if self.is_empty():\n",
    "            raise Empty(\"Priority queue is empty.\")\n",
    "        self._swap(0, len(self._data) - 1)\n",
    "        item = self._data.pop()\n",
    "        self._downheap(0) # downheap bubbling\n",
    "        return (item._key, item._value)"
   ]
  },
  {
   "cell_type": "markdown",
   "metadata": {},
   "source": [
    "## Sorting with a Priority Queue\n",
    "\n",
    "1. Add each element to the priority queue.\n",
    "2. Keep removing the minimum element until the priority queue is empty."
   ]
  },
  {
   "cell_type": "code",
   "execution_count": 5,
   "metadata": {},
   "outputs": [],
   "source": [
    "def pq_sort(C):\n",
    "    \"\"\"Sort a collection of elements stored in a positional list.\"\"\"\n",
    "    n = len(C)\n",
    "    P = PriorityQueue()\n",
    "    for j in range(n):\n",
    "        element = C.delete(C.first())\n",
    "        P.add(element, element) # use element as key and value\n",
    "    for j in range(n):\n",
    "        (k, v) = P.remove_min()\n",
    "        C.add_last(v)"
   ]
  },
  {
   "cell_type": "markdown",
   "metadata": {},
   "source": [
    "### Sorting with Unsorted Priority Queue\n",
    "If the priority queue is implemented using an unsorted list ($O(1)$ `add` and $O(n)$ `remove_min`), then `pq_sort` is the $O(n^2)$ selection-sort, where the selection of minimums in the unsorted sub-list is $O(n)$.\n",
    "\n",
    "### Sorting with Sorted Priority Queue\n",
    "If the priority queue uses a sorted list ($O(n)$ `add` and $O(1)$ `remove_min`), then `pq_sort` is the $O(n^2)$ insertion-sort, where the insertion of next element to the sorted sub-list is $O(n)$.\n",
    "\n",
    "Best-case runtime for selection-sort is $O(n^2)$, for insertion-sort is $O(n)$ (because it always takes $O(n)$ to find the minimum in a sub-list even if it's sorted, but it only takes $O(1)$ to insert a largest element to an already-sorted sub-list).\n",
    "\n",
    "### Heap-sort\n",
    "If the priority queue is implemented using a heap ($O(\\log n)$ `add` and `remove_min`), then `pq_sort` is the $O(n\\log n)$ heap-sort."
   ]
  },
  {
   "cell_type": "markdown",
   "metadata": {},
   "source": [
    "## Adaptable Priority Queues"
   ]
  },
  {
   "cell_type": "code",
   "execution_count": 6,
   "metadata": {},
   "outputs": [],
   "source": [
    "class AdaptableHeapPriorityQueue(HeapPriorityQueue):\n",
    "    \"\"\"A locator-based priority queue implemented with a binary heap.\"\"\"\n",
    "    \n",
    "    class Locator(HeapPriorityQueue._Item):\n",
    "        \"\"\"Token for locating an entry of the priority queue.\"\"\"\n",
    "        __slots__ = \"_index\" # add index as additional field\n",
    "        \n",
    "        def __init__(self, k, v, j):\n",
    "            super().__init__(k, v)\n",
    "            self._index = j\n",
    "        \n",
    "    def _swap(self, i, j):\n",
    "        super()._swap(i, j)\n",
    "        self._data[i]._index = i # reset locator index after swap\n",
    "        self._data[j]._index = j\n",
    "\n",
    "    def _bubble(self, j):\n",
    "        if j > 0 and self._data[j] < self._data[self._parent(j)]:\n",
    "            self._upheap(j)\n",
    "        else:\n",
    "            self._downheap(j)\n",
    "\n",
    "    def add(self, key, value):\n",
    "        \"\"\"Add a key-value pair.\"\"\"\n",
    "        token = self.Locator(key, value, len(self._data)) # initialize locator index\n",
    "        self._data.append(token)\n",
    "        self._upheap(len(self._data) - 1)\n",
    "        return token\n",
    "\n",
    "    def update(self, loc, newkey, newval):\n",
    "        \"\"\" Update the key and value for the entry identified by Locator loc.\"\"\"\n",
    "        j = loc._index\n",
    "        if not (0 <= j and j < len(self) and self._data[j] is loc):\n",
    "            raise ValueError(\"Invalid locator\")\n",
    "        if j == len(self) - 1:\n",
    "            self._data.pop()\n",
    "        else:\n",
    "            self._swap(j, len(self) - 1) # swap item to the last position\n",
    "            self._data.pop()\n",
    "            self._bubble(j) # fix items displaced by the swap\n",
    "        return (loc._key, loc._value)"
   ]
  }
 ],
 "metadata": {
  "kernelspec": {
   "display_name": "Python 3",
   "language": "python",
   "name": "python3"
  },
  "language_info": {
   "codemirror_mode": {
    "name": "ipython",
    "version": 3
   },
   "file_extension": ".py",
   "mimetype": "text/x-python",
   "name": "python",
   "nbconvert_exporter": "python",
   "pygments_lexer": "ipython3",
   "version": "3.8.3"
  },
  "toc": {
   "base_numbering": 1,
   "nav_menu": {},
   "number_sections": true,
   "sideBar": true,
   "skip_h1_title": false,
   "title_cell": "Table of Contents",
   "title_sidebar": "Contents",
   "toc_cell": false,
   "toc_position": {
    "height": "calc(100% - 180px)",
    "left": "10px",
    "top": "150px",
    "width": "165px"
   },
   "toc_section_display": true,
   "toc_window_display": true
  }
 },
 "nbformat": 4,
 "nbformat_minor": 4
}
