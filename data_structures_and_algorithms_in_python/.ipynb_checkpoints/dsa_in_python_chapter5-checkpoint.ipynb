{
 "cells": [
  {
   "cell_type": "markdown",
   "metadata": {},
   "source": [
    "Reading notes and partial solutions to [Data Structures and Algorithms in Python](https://blackwells.co.uk/bookshop/product/9781118290279?gC=f177369a3b&gclid=Cj0KCQjwhJrqBRDZARIsALhp1WTBIyoxeQGXedlVy80vsglvFbNkVf7jTP0Z0zXEIP87lfqbtb4_diYaAr8dEALw_wcB)."
   ]
  },
  {
   "cell_type": "code",
   "execution_count": 3,
   "metadata": {},
   "outputs": [],
   "source": [
    "import random\n",
    "from matplotlib import pyplot as plt\n",
    "%matplotlib inline\n",
    "import math\n",
    "from datetime import datetime\n",
    "import time\n",
    "import numpy as np"
   ]
  },
  {
   "cell_type": "markdown",
   "metadata": {},
   "source": [
    "## Array-Based Sequences\n",
    "\n",
    "### Low-Level Arrays\n",
    "\n",
    "Python lists and tuples are referential structures. They store memory addresses of the elements put in them.\n",
    "\n",
    "When elements in a list are re-assigned, the references are re-assigned to new objects, the objects don't change.\n",
    "\n",
    "#### Referential Arrays\n",
    "\n",
    "Referential arrays store references the objects put in them (primary data).\n",
    "\n",
    "#### Compact Arrays\n",
    "\n",
    "Compact arrays directly store primary data.\n",
    "\n",
    "* Compact arrays require less memory because referential arrays need memory to store both\n",
    "    * the references to the objects, and \n",
    "    * the objects themselves (primary data).\n",
    "* Primary data in compact arrays are stored sequentially; primary data refered to by referential arrays may not be stored sequentially in memory, even though references to their memory addresses are sequantial in the referential arrays. Computationally, it's better to have primary data that are often used in the same computations stored sequentially."
   ]
  },
  {
   "cell_type": "code",
   "execution_count": 3,
   "metadata": {},
   "outputs": [
    {
     "data": {
      "text/plain": [
       "68"
      ]
     },
     "execution_count": 3,
     "metadata": {},
     "output_type": "execute_result"
    }
   ],
   "source": [
    "import sys\n",
    "import array # Python compact arrays\n",
    "\n",
    "arr = array.array('i', [1]) # array of type \"signed int\"\n",
    "sys.getsizeof(arr) # number of bytes used to store primary data (not their references) in arr in memory"
   ]
  },
  {
   "cell_type": "markdown",
   "metadata": {},
   "source": [
    "`int` in C requires 2 bytes, but requires 24 bytes in Python, because an integer in Python is an object, i.e., an instance of the `int` class (see https://www.quora.com/Why-does-Python-take-24-bytes-for-int-as-compared-to-2-bytes-in-C)."
   ]
  },
  {
   "cell_type": "code",
   "execution_count": 4,
   "metadata": {},
   "outputs": [
    {
     "data": {
      "text/plain": [
       "28"
      ]
     },
     "execution_count": 4,
     "metadata": {},
     "output_type": "execute_result"
    }
   ],
   "source": [
    "sys.getsizeof(1)"
   ]
  },
  {
   "cell_type": "markdown",
   "metadata": {},
   "source": [
    "### Dynamic Arrays and Amortization\n",
    "\n",
    "When creating a low-level array, its size must be specified and fixed. Immutable objects like `str` and `tuple` are readily compatible with this constraint. Mutable objects like `list` require dynamic array to support its mutability, e.g., ability to extend the list.\n",
    "\n",
    "Dynamic array works by allocating an underlying array with more bytes than needed to a list and expanding the underlying capacity as the list extends."
   ]
  },
  {
   "cell_type": "code",
   "execution_count": 5,
   "metadata": {},
   "outputs": [
    {
     "name": "stdout",
     "output_type": "stream",
     "text": [
      "Length: 0; Size in bytes: 64\n",
      "Length: 1; Size in bytes: 96\n",
      "Length: 2; Size in bytes: 96\n",
      "Length: 3; Size in bytes: 96\n",
      "Length: 4; Size in bytes: 96\n",
      "Length: 5; Size in bytes: 128\n",
      "Length: 6; Size in bytes: 128\n",
      "Length: 7; Size in bytes: 128\n",
      "Length: 8; Size in bytes: 128\n",
      "Length: 9; Size in bytes: 192\n"
     ]
    }
   ],
   "source": [
    "import sys\n",
    "\n",
    "l = []\n",
    "for i in range(10):\n",
    "    size = sys.getsizeof(l)\n",
    "    print('Length: {}; Size in bytes: {}'.format(len(l), size))\n",
    "    l.append(i)"
   ]
  },
  {
   "cell_type": "markdown",
   "metadata": {},
   "source": [
    "Note that each expansion of the underlying array allows the addition of 32 more bytes, or 4 64-bit numbers (each 64-bit number occupies 8 bytes).\n",
    "\n",
    "#### Implementing a Dynamic Array"
   ]
  },
  {
   "cell_type": "code",
   "execution_count": 35,
   "metadata": {},
   "outputs": [],
   "source": [
    "import ctypes\n",
    "\n",
    "class DynamicArray:\n",
    "    \n",
    "    def __init__(self):\n",
    "        \"\"\"Create an empty array.\"\"\"\n",
    "        self._n = 0 # number of actual elements in the array\n",
    "        self._capacity = 1 # capacity of the underlying array\n",
    "        self._A = self._make_array(self._capacity) # the underlying array\n",
    "    \n",
    "    def __len__(self):\n",
    "        return self._n\n",
    "    \n",
    "    def __getitem__(self, k):\n",
    "        if k < 0 or k >= self._n:\n",
    "            raise IndexError('Invalid index')\n",
    "        return self._A[k]\n",
    "    \n",
    "    def append(self, obj):\n",
    "        if self._n == self._capacity: # not enough room\n",
    "            # expand underlying array\n",
    "            self._resize(2 * self._capacity)\n",
    "        self._A[self._n] = obj # add obj to end of array\n",
    "        self._n += 1 # increment the recorder of number of elements in array\n",
    "    \n",
    "    def _resize(self, c):\n",
    "        \"\"\"Expand underlying array to capacity c.\"\"\"\n",
    "        newArr = self._make_array(c) # make new array\n",
    "        for i in range(self._n): # copy elements to new array\n",
    "            newArr[i] = self._A[i]\n",
    "        self._A = newArr\n",
    "        self._capacity = c\n",
    "    \n",
    "    def _make_array(self, c):\n",
    "        \"\"\"Return new array with capacity c.\"\"\"\n",
    "        return (c * ctypes.py_object)()\n",
    "    \n",
    "    def insert(self, k, value):\n",
    "        \"\"\"Insert value at index k, shifting subsequent values rightward.\"\"\"\n",
    "        # assume 0 <= k <= n for simplicity\n",
    "        if self._n == self._capacity:\n",
    "            self._resize(2 * self._capacity)\n",
    "        for j in range(self._n, k, -1):\n",
    "            self._A[j] = self._A[j-1] # shift rightward\n",
    "        self._A[k] = value # insert value at position k\n",
    "        self._n += 1 # increment counter"
   ]
  },
  {
   "cell_type": "code",
   "execution_count": 7,
   "metadata": {
    "scrolled": true
   },
   "outputs": [
    {
     "data": {
      "text/plain": [
       "<__main__.py_object_Array_2 at 0x1e9de2384c8>"
      ]
     },
     "execution_count": 7,
     "metadata": {},
     "output_type": "execute_result"
    }
   ],
   "source": [
    "import ctypes\n",
    "(2 * ctypes.py_object)()"
   ]
  },
  {
   "cell_type": "markdown",
   "metadata": {},
   "source": [
    "Amortized $O(n)$ append operation of Python list based on resizable array."
   ]
  },
  {
   "cell_type": "code",
   "execution_count": 8,
   "metadata": {
    "scrolled": false
   },
   "outputs": [
    {
     "data": {
      "text/plain": [
       "[<matplotlib.lines.Line2D at 0x1e9802707b8>]"
      ]
     },
     "execution_count": 8,
     "metadata": {},
     "output_type": "execute_result"
    },
    {
     "data": {
      "image/png": "[encoded data removed]",
      "text/plain": [
       "<Figure size 432x288 with 1 Axes>"
      ]
     },
     "metadata": {
      "needs_background": "light"
     },
     "output_type": "display_data"
    }
   ],
   "source": [
    "def compute_average(n):\n",
    "    data = []\n",
    "    start = time.time()\n",
    "    for k in range(n):\n",
    "        data.append(None)\n",
    "    end = time.time()\n",
    "    return (end - start) / n\n",
    "\n",
    "nList = [10**i for i in range(2, 9)]\n",
    "averageList = list(map(compute_average, nList))\n",
    "plt.plot(nList, averageList)"
   ]
  },
  {
   "cell_type": "markdown",
   "metadata": {},
   "source": [
    "### Using array-based sequences \n",
    "\n",
    "#### Insertion sort"
   ]
  },
  {
   "cell_type": "code",
   "execution_count": 9,
   "metadata": {},
   "outputs": [],
   "source": [
    "def insertion_sort(seq):\n",
    "    for k in range(len(seq)):\n",
    "        curr = seq[k]\n",
    "        j = k\n",
    "        while j > 0 and seq[j-1] > curr:\n",
    "            seq[j] = seq[j-1]\n",
    "            j -= 1\n",
    "        seq[j] = curr"
   ]
  },
  {
   "cell_type": "code",
   "execution_count": 10,
   "metadata": {},
   "outputs": [
    {
     "name": "stdout",
     "output_type": "stream",
     "text": [
      "[0, 1, 2, 3, 4, 10]\n"
     ]
    }
   ],
   "source": [
    "seq = [2,3,1,4,0,10]\n",
    "insertion_sort(seq)\n",
    "print(seq)"
   ]
  },
  {
   "cell_type": "code",
   "execution_count": 11,
   "metadata": {},
   "outputs": [],
   "source": [
    "def insert(seq, e):\n",
    "    # insert element e into sorted sequence seq in correct order\n",
    "    if e <= seq[0]:\n",
    "        seq.insert(0, e)\n",
    "    elif e >= seq[-1]:\n",
    "        seq.append(e)\n",
    "    else:\n",
    "        for i in range(len(seq)-1):\n",
    "            if e >= seq[i] and e <= seq[i+1]:\n",
    "                seq.insert(i+1, e)\n",
    "                break\n",
    "    return seq\n",
    "\n",
    "def insertion_sort(seq):\n",
    "    if len(seq) <= 1:\n",
    "        pass\n",
    "    else:\n",
    "        for i in range(1,len(seq)):\n",
    "            seq[:(i+1)] = insert(seq[:i], seq[i])"
   ]
  },
  {
   "cell_type": "code",
   "execution_count": 12,
   "metadata": {},
   "outputs": [
    {
     "data": {
      "text/plain": [
       "[1, 2, 3]"
      ]
     },
     "execution_count": 12,
     "metadata": {},
     "output_type": "execute_result"
    }
   ],
   "source": [
    "seq = [2,3]\n",
    "insert(seq, 1)"
   ]
  },
  {
   "cell_type": "code",
   "execution_count": 13,
   "metadata": {
    "scrolled": true
   },
   "outputs": [
    {
     "name": "stdout",
     "output_type": "stream",
     "text": [
      "[-1, 0, 1, 2, 4, 6]\n"
     ]
    }
   ],
   "source": [
    "seq = [1, 0, 2, 4, -1, 6]\n",
    "insertion_sort(seq)\n",
    "print(seq)"
   ]
  },
  {
   "cell_type": "code",
   "execution_count": 14,
   "metadata": {},
   "outputs": [
    {
     "data": {
      "text/plain": [
       "True"
      ]
     },
     "execution_count": 14,
     "metadata": {},
     "output_type": "execute_result"
    }
   ],
   "source": [
    "def random_list():\n",
    "    n = random.randint(1, 100)\n",
    "    result = [0] * n\n",
    "    for i in range(n):\n",
    "        result[i] = random.randint(-1000000, 1000000)\n",
    "    return result\n",
    "\n",
    "def test():\n",
    "    for counter in range(50):\n",
    "        seq = random_list()\n",
    "        seq1 = seq\n",
    "        insertion_sort(seq)\n",
    "        assert sorted(seq1) == seq\n",
    "    return True\n",
    "\n",
    "test()"
   ]
  },
  {
   "cell_type": "markdown",
   "metadata": {},
   "source": [
    "### Multidimensional Data Sets"
   ]
  },
  {
   "cell_type": "code",
   "execution_count": 15,
   "metadata": {},
   "outputs": [
    {
     "data": {
      "text/plain": [
       "[[0, 0, 0], [0, 0, 0], [0, 0, 0]]"
      ]
     },
     "execution_count": 15,
     "metadata": {},
     "output_type": "execute_result"
    }
   ],
   "source": [
    "m = [[0] * 3] * 3 # list of 3 lists referencing the same list\n",
    "m"
   ]
  },
  {
   "cell_type": "code",
   "execution_count": 16,
   "metadata": {},
   "outputs": [
    {
     "data": {
      "text/plain": [
       "[[1, 0, 0], [1, 0, 0], [1, 0, 0]]"
      ]
     },
     "execution_count": 16,
     "metadata": {},
     "output_type": "execute_result"
    }
   ],
   "source": [
    "m[0][0] = 1\n",
    "m"
   ]
  },
  {
   "cell_type": "code",
   "execution_count": 17,
   "metadata": {},
   "outputs": [
    {
     "data": {
      "text/plain": [
       "[[0, 0, 0], [0, 0, 0], [0, 0, 0]]"
      ]
     },
     "execution_count": 17,
     "metadata": {},
     "output_type": "execute_result"
    }
   ],
   "source": [
    "n = [[0] * 3 for i in range(3)]\n",
    "n"
   ]
  },
  {
   "cell_type": "code",
   "execution_count": 18,
   "metadata": {},
   "outputs": [
    {
     "data": {
      "text/plain": [
       "[[1, 0, 0], [0, 0, 0], [0, 0, 0]]"
      ]
     },
     "execution_count": 18,
     "metadata": {},
     "output_type": "execute_result"
    }
   ],
   "source": [
    "n[0][0] = 1\n",
    "n"
   ]
  },
  {
   "cell_type": "markdown",
   "metadata": {},
   "source": [
    "### Exercises\n",
    "\n",
    "#### Reinforcement\n",
    "\n",
    "**R-5.1** Execute the experiment from Code Fragment 5.1 and compare the results\n",
    "on your system to those we report in Code Fragment 5.2.\n",
    "\n",
    "The increment is 32 bytes, same as in the book. But the empty list takes up 64 bytes, instead of 72 bytes as in the book."
   ]
  },
  {
   "cell_type": "code",
   "execution_count": 19,
   "metadata": {},
   "outputs": [
    {
     "name": "stdout",
     "output_type": "stream",
     "text": [
      "Length:   0; Size in bytes:   64\n",
      "Length:   1; Size in bytes:   96\n",
      "Length:   2; Size in bytes:   96\n",
      "Length:   3; Size in bytes:   96\n",
      "Length:   4; Size in bytes:   96\n",
      "Length:   5; Size in bytes:  128\n",
      "Length:   6; Size in bytes:  128\n",
      "Length:   7; Size in bytes:  128\n",
      "Length:   8; Size in bytes:  128\n",
      "Length:   9; Size in bytes:  192\n",
      "Length:  10; Size in bytes:  192\n",
      "Length:  11; Size in bytes:  192\n",
      "Length:  12; Size in bytes:  192\n",
      "Length:  13; Size in bytes:  192\n",
      "Length:  14; Size in bytes:  192\n",
      "Length:  15; Size in bytes:  192\n",
      "Length:  16; Size in bytes:  192\n",
      "Length:  17; Size in bytes:  264\n",
      "Length:  18; Size in bytes:  264\n",
      "Length:  19; Size in bytes:  264\n"
     ]
    }
   ],
   "source": [
    "import sys\n",
    "data = []\n",
    "n = 20\n",
    "for k in range(n):\n",
    "    a = len(data)\n",
    "    b = sys.getsizeof(data)\n",
    "    print('Length: {0:3d}; Size in bytes: {1:4d}'.format(a,b))\n",
    "    data.append(None)"
   ]
  },
  {
   "cell_type": "markdown",
   "metadata": {},
   "source": [
    "**R-5.2** In Code Fragment 5.1, we perform an experiment to compare the length of\n",
    "a Python list to its underlying memory usage. Determining the sequence\n",
    "of array sizes requires a manual inspection of the output of that program.\n",
    "Redesign the experiment so that the program outputs only those values of\n",
    "k at which the existing capacity is exhausted. For example, on a system\n",
    "consistent with the results of Code Fragment 5.2, your program should\n",
    "output that the sequence of array capacities are 0, 4, 8, 16, 25, . . . ."
   ]
  },
  {
   "cell_type": "code",
   "execution_count": 20,
   "metadata": {},
   "outputs": [
    {
     "name": "stdout",
     "output_type": "stream",
     "text": [
      "Length:   0; Size in bytes:   64\n",
      "Length:   1; Size in bytes:   96\n",
      "Length:   5; Size in bytes:  128\n",
      "Length:   9; Size in bytes:  192\n",
      "Length:  17; Size in bytes:  264\n",
      "Length:  26; Size in bytes:  344\n",
      "Length:  36; Size in bytes:  432\n",
      "Length:  47; Size in bytes:  528\n"
     ]
    }
   ],
   "source": [
    "import sys\n",
    "data = []\n",
    "n = 50\n",
    "sizes = []\n",
    "for k in range(n):\n",
    "    a = len(data)\n",
    "    b = sys.getsizeof(data)\n",
    "    sizes.append(b)\n",
    "    if len(sizes) == 1 or sizes[-2] != b:\n",
    "        print('Length: {0:3d}; Size in bytes: {1:4d}'.format(a,b))\n",
    "    data.append(None)"
   ]
  },
  {
   "cell_type": "markdown",
   "metadata": {},
   "source": [
    "**R-5.3** Modify the experiment from Code Fragment 5.1 in order to demonstrate\n",
    "that Python’s list class occasionally shrinks the size of its underlying array\n",
    "when elements are popped from a list."
   ]
  },
  {
   "cell_type": "code",
   "execution_count": 21,
   "metadata": {},
   "outputs": [
    {
     "name": "stdout",
     "output_type": "stream",
     "text": [
      "Length:  20; Size in bytes:  224\n",
      "Length:  19; Size in bytes:  224\n",
      "Length:  18; Size in bytes:  224\n",
      "Length:  17; Size in bytes:  224\n",
      "Length:  16; Size in bytes:  224\n",
      "Length:  15; Size in bytes:  224\n",
      "Length:  14; Size in bytes:  224\n",
      "Length:  13; Size in bytes:  224\n",
      "Length:  12; Size in bytes:  224\n",
      "Length:  11; Size in bytes:  224\n",
      "Length:  10; Size in bytes:  224\n",
      "Length:   9; Size in bytes:  192\n",
      "Length:   8; Size in bytes:  192\n",
      "Length:   7; Size in bytes:  144\n",
      "Length:   6; Size in bytes:  144\n",
      "Length:   5; Size in bytes:  144\n",
      "Length:   4; Size in bytes:  120\n",
      "Length:   3; Size in bytes:  120\n",
      "Length:   2; Size in bytes:  104\n",
      "Length:   1; Size in bytes:   96\n"
     ]
    }
   ],
   "source": [
    "import sys\n",
    "n = 20\n",
    "data = [None] * n\n",
    "for k in range(n):\n",
    "    a = len(data)\n",
    "    b = sys.getsizeof(data)\n",
    "    print('Length: {0:3d}; Size in bytes: {1:4d}'.format(a,b))\n",
    "    data.pop()"
   ]
  },
  {
   "cell_type": "markdown",
   "metadata": {},
   "source": [
    "**R-5.4** Our DynamicArray class, as given in Code Fragment 5.3, does not support\n",
    "use of negative indices with `__getitem__`. Update that method to better\n",
    "match the semantics of a Python list."
   ]
  },
  {
   "cell_type": "code",
   "execution_count": 22,
   "metadata": {},
   "outputs": [],
   "source": [
    "class DynamicArray1(DynamicArray):\n",
    "    \n",
    "    def __getitem__(self, k):\n",
    "        if k >= self._n:\n",
    "            raise IndexError('Invalid index')\n",
    "        elif k < 0 and k > -self._n:\n",
    "            return self._A[self._n+k]\n",
    "        elif k >= 0:\n",
    "            return self._A[k]"
   ]
  },
  {
   "cell_type": "code",
   "execution_count": 23,
   "metadata": {},
   "outputs": [
    {
     "name": "stdout",
     "output_type": "stream",
     "text": [
      "2\n"
     ]
    }
   ],
   "source": [
    "arr = DynamicArray1()\n",
    "arr.append(1)\n",
    "arr.append(2)\n",
    "arr.append(3)\n",
    "print(arr[-2])"
   ]
  },
  {
   "cell_type": "markdown",
   "metadata": {},
   "source": [
    "**R-5.5** Redo the justification of Proposition 5.1 assuming that the the cost of\n",
    "growing the array from size $k$ to size $2k$ is $3k$ cyber-dollars. How much\n",
    "should each append operation be charged to make the amortization work?\n",
    "\n",
    "Assume growing the array from size $k$ to size $2k$ requires $3k$ cyber-dollors. We charge each append operation $7$ cyber-dollors. Thus, we overcharge each append operation that does not overflow by $6$ cyber-dollars. An overflow occurs when the array has $2^i$ elements. Doubling the size of the array requires $3\\cdot 2^i$ cyber-dollars. From the append operation of elements in positions $2^{i-1}$ to $2^i-1$, we have saved $6 \\cdot (2^i-1-2^{i-1})=6\\cdot (2^{i-1}-1)=3\\cdot 2^i-6$ cyber-dollars. Append operation of the $2^i$th element will be charged for another $7$ cyber-dollars, so in total we would have $3\\cdot 2^i + 1$ cyber-dollars, which is enough to pay for the $3\\cdot 2^i$ dollars required to double the array size.\n",
    "\n",
    "Thus, we can pay for $n$ append operations with $7n$ cyber dollars. So the amortized running time of each append is $O(1)$, and the total run time of $n$ append operations is $O(n)$."
   ]
  },
  {
   "cell_type": "markdown",
   "metadata": {},
   "source": [
    "**R-5.6** Our implementation of insert for the `DynamicArray` class, as given in\n",
    "Code Fragment 5.5, has the following inefficiency. In the case when a resize occurs, the resize operation takes time to copy all the elements from\n",
    "an old array to a new array, and then the subsequent loop in the body of\n",
    "insert shifts many of those elements. Give an improved implementation\n",
    "of the `insert` method, so that, in the case of a resize, the elements are\n",
    "shifted into their final position during that operation, thereby avoiding the\n",
    "subsequent shifting."
   ]
  },
  {
   "cell_type": "code",
   "execution_count": 53,
   "metadata": {},
   "outputs": [],
   "source": [
    "class DynamicArray2(DynamicArray):\n",
    "    def insert(self, k, value):\n",
    "        \"\"\"Insert value at position k.\"\"\"\n",
    "        # assume 0 <= k <= n\n",
    "        if self._n == self._capacity:\n",
    "#             print('resizing')\n",
    "            newArr = self._make_array(2 * self._capacity) # make new array\n",
    "            for i in range(self._n+1):\n",
    "                if i < k:\n",
    "                    newArr[i] = self._A[i]\n",
    "                elif i > k:\n",
    "                    newArr[i] = self._A[i-1]\n",
    "            self._A = newArr\n",
    "            self._capacity *= 2\n",
    "        else:\n",
    "#             print('no need to resize')\n",
    "            for j in range(self._n, k, -1):\n",
    "                self._A[j] = self._A[j-1] # shift rightward\n",
    "        self._A[k] = value # insert value at position k\n",
    "        self._n += 1 # increment counter\n",
    "    \n",
    "    def print(self):\n",
    "        if self._n == 0:\n",
    "            print([])\n",
    "        else:\n",
    "            acc = [None] * self._n\n",
    "            for i in range(self._n):\n",
    "                acc[i] = self._A[i]\n",
    "            print(acc)"
   ]
  },
  {
   "cell_type": "code",
   "execution_count": 54,
   "metadata": {},
   "outputs": [
    {
     "name": "stdout",
     "output_type": "stream",
     "text": [
      "[]\n",
      "[1]\n",
      "[2, 1]\n",
      "[2, 1, 3]\n"
     ]
    }
   ],
   "source": [
    "arr = DynamicArray2()\n",
    "arr.print()\n",
    "arr.insert(0, 1)\n",
    "arr.print()\n",
    "arr.insert(0, 2)\n",
    "arr.print()\n",
    "arr.insert(2, 3)\n",
    "arr.print()"
   ]
  },
  {
   "cell_type": "markdown",
   "metadata": {},
   "source": [
    "**R-5.7** Let $A$ be an array of size $n \\geq 2$ containing integers from $1$ to $n−1$, inclusive, with exactly one repeated. Describe a fast algorithm for finding the integer in $A$ that is repeated.\n",
    "\n",
    "1. Initialize a length $n$ counter array `arr` filled with $0$s (only $n-1$ slots will be used, but `arr[n]` may be needed in the step below if the repeated element is positioned after the number $n-1$).\n",
    "2. Walk through $A$ and set `arr[i]` to be the number of occurences of number $i$ between $1$ and $n-1$.\n",
    "3. Terminate upon finding `i` with `arr[i] = 2`."
   ]
  },
  {
   "cell_type": "code",
   "execution_count": 26,
   "metadata": {},
   "outputs": [],
   "source": [
    "import array\n",
    "\n",
    "def find_repeat(A):\n",
    "    n = len(A)\n",
    "    arr = array.array('i', [0] * n)\n",
    "    for i in A:\n",
    "        if arr[i] > 0:\n",
    "            return i\n",
    "        else:\n",
    "            arr[i] += 1"
   ]
  },
  {
   "cell_type": "code",
   "execution_count": 27,
   "metadata": {},
   "outputs": [
    {
     "data": {
      "text/plain": [
       "True"
      ]
     },
     "execution_count": 27,
     "metadata": {},
     "output_type": "execute_result"
    }
   ],
   "source": [
    "import random\n",
    "\n",
    "def find_repeat2(A):\n",
    "    d = dict([(k, 0) for k in A])\n",
    "    for i in range(len(A)):\n",
    "        d[A[i]] += 1\n",
    "    for k, v in d.items():\n",
    "        if v > 1:\n",
    "            return k\n",
    "\n",
    "def test():\n",
    "    for counter in range(50):\n",
    "        A = [i for i in range(100)]\n",
    "        x = random.randint(0, 100)\n",
    "        A = A + [x]\n",
    "        random.shuffle(A)\n",
    "        assert find_repeat(A) == find_repeat2(A)\n",
    "    return True\n",
    "\n",
    "test()"
   ]
  },
  {
   "cell_type": "markdown",
   "metadata": {},
   "source": [
    "**R-5.8** Experimentally evaluate the efficiency of the `pop` method of Python’s list\n",
    "class when using varying indices as a parameter, as we did for `insert` on\n",
    "page 205. Report your results akin to Table 5.5."
   ]
  },
  {
   "cell_type": "code",
   "execution_count": 28,
   "metadata": {},
   "outputs": [
    {
     "name": "stdout",
     "output_type": "stream",
     "text": [
      "Popping from start of list\n",
      "N=100\n",
      "time taken: 0.0ms\n",
      "N=1000\n",
      "time taken: 0.0ms\n",
      "N=10000\n",
      "time taken: 1.1905908584594727ms\n",
      "N=100000\n",
      "time taken: 24.34896469116211ms\n",
      "N=1000000\n",
      "time taken: 273.9585545063019ms\n"
     ]
    }
   ],
   "source": [
    "import time\n",
    "\n",
    "print('Popping from start of list')\n",
    "for N in [10**i for i in range(2,7)]:\n",
    "    print('N={N}'.format(N=N))\n",
    "    data = [None] * N\n",
    "    start = time.time()\n",
    "    for n in range(N):\n",
    "        data.pop(0)\n",
    "    end = time.time()\n",
    "    elapsed = (end - start)/N * 10**6\n",
    "    print('time taken: {elapsed}ms'.format(elapsed=elapsed))"
   ]
  },
  {
   "cell_type": "code",
   "execution_count": 29,
   "metadata": {},
   "outputs": [
    {
     "name": "stdout",
     "output_type": "stream",
     "text": [
      "Popping from middle of list\n",
      "N=100\n",
      "time taken: 0.0ms\n",
      "N=1000\n",
      "time taken: 0.0ms\n",
      "N=10000\n",
      "time taken: 1.1460304260253906ms\n",
      "N=100000\n",
      "time taken: 12.637536525726318ms\n",
      "N=1000000\n",
      "time taken: 124.16535568237305ms\n"
     ]
    }
   ],
   "source": [
    "print('Popping from middle of list')\n",
    "for N in [10**i for i in range(2,7)]:\n",
    "    print('N={N}'.format(N=N))\n",
    "    data = [None] * N\n",
    "    start = time.time()\n",
    "    for n in range(N-1, 0, -1):\n",
    "        data.pop(n//2)\n",
    "    end = time.time()\n",
    "    elapsed = (end - start)/N * 10**6\n",
    "    print('time taken: {elapsed}ms'.format(elapsed=elapsed))"
   ]
  },
  {
   "cell_type": "code",
   "execution_count": 30,
   "metadata": {},
   "outputs": [
    {
     "name": "stdout",
     "output_type": "stream",
     "text": [
      "Popping from end of list\n",
      "N=100\n",
      "time taken: 0.0ms\n",
      "N=1000\n",
      "time taken: 0.0ms\n",
      "N=10000\n",
      "time taken: 0.19769668579101562ms\n",
      "N=100000\n",
      "time taken: 0.17989397048950195ms\n",
      "N=1000000\n",
      "time taken: 0.3732755184173584ms\n"
     ]
    }
   ],
   "source": [
    "print('Popping from end of list')\n",
    "for N in [10**i for i in range(2,7)]:\n",
    "    print('N={N}'.format(N=N))\n",
    "    data = [None] * N\n",
    "    start = time.time()\n",
    "    for n in range(N):\n",
    "        data.pop()\n",
    "    end = time.time()\n",
    "    elapsed = (end - start)/N * 10**6\n",
    "    print('time taken: {elapsed}ms'.format(elapsed=elapsed))"
   ]
  },
  {
   "cell_type": "markdown",
   "metadata": {},
   "source": [
    "**R-5.9** Explain the changes that would have to be made to the program of Code\n",
    "Fragment 5.11 so that it could perform the Caesar cipher for messages\n",
    "that are written in an alphabet-based language other than English, such as\n",
    "Greek, Russian, or Hebrew.\n",
    "\n",
    "Need to change the encoder and decoder according to the alphabet of the language."
   ]
  },
  {
   "cell_type": "markdown",
   "metadata": {},
   "source": [
    "**R-5.10** The constructor for the `CaesarCipher` class in Code Fragment 5.11 can\n",
    "be implemented with a two-line body by building the forward and backward strings using a combination of the join method and an appropriate comprehension syntax. Give such an implementation."
   ]
  },
  {
   "cell_type": "code",
   "execution_count": 136,
   "metadata": {},
   "outputs": [
    {
     "name": "stdout",
     "output_type": "stream",
     "text": [
      "Secret:  WKH HDJOH KDV ODQGHG.\n",
      "Message:  THE EAGLE HAS LANDED.\n"
     ]
    }
   ],
   "source": [
    "class CaesarCipher:\n",
    "    \n",
    "    def __init__(self, shift):\n",
    "        self._forward = ''.join([chr((k + shift) % 26 + ord('A')) for k in range(26)])\n",
    "        self._backward = ''.join([chr((k - shift) % 26 + ord('A')) for k in range(26)])\n",
    "    \n",
    "    def encrypt(self, message):\n",
    "        return self._transform(message, self._forward)\n",
    "    \n",
    "    def decrypt(self, message):\n",
    "        return self._transform(message, self._backward)\n",
    "    \n",
    "    def _transform(self, original, code):\n",
    "        msg = list(original)\n",
    "        for k in range(len(msg)):\n",
    "            if msg[k].isupper():\n",
    "                j = ord(msg[k]) - ord('A') # find position of the letter to replace\n",
    "                msg[k] = code[j]\n",
    "        return ''.join(msg)\n",
    "    \n",
    "def test():\n",
    "    cipher = CaesarCipher(3)\n",
    "    msg = 'THE EAGLE HAS LANDED.'\n",
    "    coded = cipher.encrypt(msg)\n",
    "    print('Secret: ', coded)\n",
    "    answer = cipher.decrypt(coded)\n",
    "    print('Message: ', answer)\n",
    "\n",
    "test()"
   ]
  },
  {
   "cell_type": "markdown",
   "metadata": {},
   "source": [
    "**R-5.11** Use standard control structures to compute the sum of all numbers in an\n",
    "$n\\times n$ data set, represented as a list of lists."
   ]
  },
  {
   "cell_type": "code",
   "execution_count": 33,
   "metadata": {},
   "outputs": [],
   "source": [
    "def sum_data_set(X):\n",
    "    result = 0\n",
    "    for row in X:\n",
    "        for col in row:\n",
    "            result += col\n",
    "    return result"
   ]
  },
  {
   "cell_type": "code",
   "execution_count": 34,
   "metadata": {},
   "outputs": [
    {
     "data": {
      "text/plain": [
       "21"
      ]
     },
     "execution_count": 34,
     "metadata": {},
     "output_type": "execute_result"
    }
   ],
   "source": [
    "X = [[1,2,3],[4,5,6]]\n",
    "sum_data_set(X)"
   ]
  },
  {
   "cell_type": "markdown",
   "metadata": {},
   "source": [
    "**R-5.12** Describe how the built-in `sum` function can be combined with Python’s\n",
    "comprehension syntax to compute the sum of all numbers in an $n\\times n$ data\n",
    "set, represented as a list of lists."
   ]
  },
  {
   "cell_type": "code",
   "execution_count": 36,
   "metadata": {},
   "outputs": [
    {
     "data": {
      "text/plain": [
       "21"
      ]
     },
     "execution_count": 36,
     "metadata": {},
     "output_type": "execute_result"
    }
   ],
   "source": [
    "X = [[1,2,3],[4,5,6]]\n",
    "sum([sum(row) for row in X])"
   ]
  },
  {
   "cell_type": "markdown",
   "metadata": {},
   "source": [
    "#### Creativity\n",
    "\n",
    "**C-5.13** In the experiment of Code Fragment 5.1, we begin with an empty list. If\n",
    "data were initially constructed with nonempty length, does this affect the\n",
    "sequence of values at which the underlying array is expanded? Perform\n",
    "your own experiments, and comment on any relationship you see between\n",
    "the initial length and the expansion sequence."
   ]
  },
  {
   "cell_type": "code",
   "execution_count": 29,
   "metadata": {},
   "outputs": [
    {
     "data": {
      "image/png": "[encoded data removed]",
      "text/plain": [
       "<Figure size 432x288 with 1 Axes>"
      ]
     },
     "metadata": {
      "needs_background": "light"
     },
     "output_type": "display_data"
    }
   ],
   "source": [
    "import sys\n",
    "results = []\n",
    "for initialLength in [2**i for i in range(8)]:\n",
    "    additions = []\n",
    "    sizesInBytes = []\n",
    "    if counter == 0:\n",
    "        data = []\n",
    "    else:\n",
    "        data = [None] * initialLength\n",
    "    n = 100\n",
    "    for k in range(n):\n",
    "        additions.append(k)\n",
    "        sizesInBytes.append(sys.getsizeof(data))\n",
    "        data.append(None)\n",
    "    results.append(sizesInBytes)\n",
    "\n",
    "for i in range(len(results)):\n",
    "    plt.plot(additions, results[i], label = \"initial length = {}\".format(i))\n",
    "plt.xlabel('additions')\n",
    "plt.ylabel('size in bytes')\n",
    "plt.legend()\n",
    "plt.show()"
   ]
  },
  {
   "cell_type": "markdown",
   "metadata": {},
   "source": [
    "**C-5.14** The `shuffle` method, supported by the `random` module, takes a Python\n",
    "list and rearranges it so that every possible ordering is equally likely.\n",
    "Implement your own version of such a function. You may rely on the\n",
    "`randrange(n)` function of the `random` module, which returns a random\n",
    "number between $0$ and $n−1$ inclusive."
   ]
  },
  {
   "cell_type": "code",
   "execution_count": 35,
   "metadata": {},
   "outputs": [],
   "source": [
    "import random\n",
    "\n",
    "def customized_shuffle(l):\n",
    "    n = len(l)\n",
    "    originalList = [x for x in l]\n",
    "    rearragnedList = [None] * n\n",
    "    for index in range(n):\n",
    "        while originalList[index] is not None:\n",
    "            newIndex = random.randrange(n)\n",
    "            if rearragnedList[newIndex] is None and originalList[index] is not None:\n",
    "                rearragnedList[newIndex] = l[index]\n",
    "                originalList[index] = None\n",
    "    return rearragnedList"
   ]
  },
  {
   "cell_type": "code",
   "execution_count": 39,
   "metadata": {},
   "outputs": [
    {
     "data": {
      "text/plain": [
       "True"
      ]
     },
     "execution_count": 39,
     "metadata": {},
     "output_type": "execute_result"
    }
   ],
   "source": [
    "def random_list():\n",
    "    n = random.randint(1, 100)\n",
    "    result = [0] * n\n",
    "    for i in range(n):\n",
    "        result[i] = random.randint(-1000000, 1000000)\n",
    "    return result\n",
    "\n",
    "def test():\n",
    "    for counter in range(50):\n",
    "        l = random_list()\n",
    "        rearrangedList = customized_shuffle(l)\n",
    "        assert (set(rearrangedList).issubset(set(l))) and (set(l).issubset(set(rearrangedList)))\n",
    "    return True\n",
    "\n",
    "test()"
   ]
  },
  {
   "cell_type": "markdown",
   "metadata": {},
   "source": [
    "**C-5.15** Consider an implementation of a dynamic array, but instead of copying\n",
    "the elements into an array of double the size (that is, from $N$ to $2N$) when\n",
    "its capacity is reached, we copy the elements into an array with $\\text{ceil}(N/4)$\n",
    "additional cells, going from capacity $N$ to capacity $N + \\text{ceil}(N/4)$. Prove that\n",
    "performing a sequence of $n$ append operations still runs in $O(n)$ time in\n",
    "this case.\n",
    "\n",
    "Assume growing the array from size $k$ to size $k + \\text{ceil}(k/4)$ requires $\\text{ceil}(k/4)$ cyber-dollors. $\\text{ceil}$ is ommitted.\n",
    "\n",
    "We charge each append operation $\\frac{9}{4}$ cyber-dollors. Thus, we overcharge each append operation that does not overflow by $\\frac{5}{4}$ cyber-dollar. An overflow occurs when the array has $(\\frac{5}{4})^i$ elements. Expanding the size of the array by $\\frac{1}{4}$ requires $\\frac{1}{4}\\cdot (\\frac{5}{4})^i$ cyber-dollars. From the append operation of elements in positions $(\\frac{5}{4})^{i-1}$ to $(\\frac{5}{4})^i-1$, we have saved $\\frac{5}{4}\\cdot ((\\frac{5}{4})^i-1-(\\frac{5}{4})^{i-1}) = \\frac{1}{4}\\cdot (\\frac{5}{4})^i - \\frac{5}{4}$ cyber-dollars. Append operation of the $(\\frac{5}{4})^i$th element will be charged for another $\\frac{9}{4}$ cyber-dollars, so in total we would have $\\frac{1}{4}\\cdot (\\frac{5}{4})^i + 1$ cyber-dollars, which is enough to pay for the $\\frac{1}{4}\\cdot (\\frac{5}{4})^i$ dollars required to expand the array by $\\frac{1}{4}$.\n",
    "\n",
    "Thus, we can pay for $n$ append operations with $\\frac{9}{4}n$ cyber dollars. So the amortized running time of each append is $O(1)$, and the total run time of $n$ append operations is $O(n)$."
   ]
  },
  {
   "cell_type": "markdown",
   "metadata": {},
   "source": [
    "**C-5.16** Implement a `pop` method for the DynamicArray class, given in Code Fragment 5.3, that removes the last element of the array, and that shrinks the capacity, $N$, of the array by half any time the number of elements in the\n",
    "array goes below $N/4$."
   ]
  },
  {
   "cell_type": "code",
   "execution_count": 61,
   "metadata": {},
   "outputs": [],
   "source": [
    "class DynamicArray3(DynamicArray2):\n",
    "    \n",
    "    def pop(self):\n",
    "        if self._n == 0:\n",
    "            raise Exception('Cannot pop from empty array')\n",
    "        else:\n",
    "            self._A[self._n-1] = None\n",
    "            self._n -= 1\n",
    "            if self._n <= self._capacity/4:\n",
    "                self._resize(self._capacity//2)"
   ]
  },
  {
   "cell_type": "code",
   "execution_count": 63,
   "metadata": {},
   "outputs": [
    {
     "name": "stdout",
     "output_type": "stream",
     "text": [
      "[1]\n",
      "[2, 1]\n",
      "[2, 1, 3]\n",
      "[2, 1]\n",
      "[2]\n",
      "[]\n"
     ]
    }
   ],
   "source": [
    "arr = DynamicArray3()\n",
    "arr.insert(0, 1)\n",
    "arr.print()\n",
    "arr.insert(0, 2)\n",
    "arr.print()\n",
    "arr.insert(2, 3)\n",
    "arr.print()\n",
    "arr.pop()\n",
    "arr.print()\n",
    "arr.pop()\n",
    "arr.print()\n",
    "arr.pop()\n",
    "arr.print()"
   ]
  },
  {
   "cell_type": "markdown",
   "metadata": {},
   "source": [
    "**C-5.17** Prove that when using a dynamic array that grows and shrinks as in the\n",
    "previous exercise, the following series of $2n$ operations takes $O(n)$ time:\n",
    "$n$ append operations on an initially empty array, followed by $n$ pop operations.\n",
    "\n",
    "$n$ append operations takes $O(n)$.\n",
    "\n",
    "For the $n$ pop operations, assume shrinking the array from $k$ to $k/2$ takes $k/2$ cyber dollars. We charge each pop operation $2$ cyber dollars. Thus, we overcharge each pop operation that does not cause a shrinkage by $1$ cyber dollar. A shrinkage occurs when the array has dropped to $\\frac{n}{4^i}$ elements. At this point, shrinking the array size by half requires $\\frac{1}{2}\\cdot \\frac{n}{4^i}$ cyber dollars. From the pop operations of elements in positions $\\frac{n}{4^{i-1}}$ to $\\frac{n}{4^i} - 1$, we have saved $\\frac{n}{4^{i-1}} - \\frac{n}{4^i} + 1 = 3\\cdot \\frac{n}{4^i}+1$ cyber dollars, which is enough to pay for the $\\frac{1}{2}\\cdot \\frac{n}{4^i}$ cyber dollars required to shrink the array by half. Thus, we can pay for $n$ pop operations using $2n$ cyber dollars. So the $n$ pop operations is $O(n)$ as well."
   ]
  },
  {
   "cell_type": "markdown",
   "metadata": {},
   "source": [
    "**C-5.18** Give a formal proof that any sequence of $n$ append or pop operations on\n",
    "an initially empty dynamic array takes $O(n)$ time, if using the strategy\n",
    "described in Exercise C-5.16.\n",
    "\n",
    "It has been proved that append and pop is amortized $O(1)$. Any sequence of $n$ append or pop operations contains at most $n$ append operations and at most $n$ pop operations, so it is $O(n)$ as well."
   ]
  },
  {
   "cell_type": "markdown",
   "metadata": {},
   "source": [
    "**C-5.20** Consider a variant of Exercise C-5.16, in which an array of capacity $N$, is\n",
    "resized to capacity precisely that of the number of elements, any time the\n",
    "number of elements in the array goes strictly below $N/2$. Show that there\n",
    "exists a sequence of $n$ operations that requires $\\Omega(n^2)$ time to execute.\n",
    "\n",
    "Pop or append until the array has $N/2-1$ elements. Then alternate between append and pop.\n",
    "\n",
    "Once the array reaches $N/2-1$ elments, its capacity is resized to $N/2-1$ in linear time. Now, appending an element would cause the array to resize to $N$ in linear time, and poping would shrink the array to $N/2-1$ again in linear time. Thus, we can have a sequence of $n$ linear append and pop operations that is at least quadratic in time, i.e., $\\Omega(n^2)$."
   ]
  },
  {
   "cell_type": "markdown",
   "metadata": {},
   "source": [
    "**C-5.21** In Section 5.4.2, we described four different ways to compose a long\n",
    "string: (1) repeated concatenation, (2) appending to a temporary list and\n",
    "then joining, (3) using list comprehension with join, and (4) using generator comprehension with join. Develop an experiment to test the efficiency\n",
    "of all four of these approaches and report your findings."
   ]
  },
  {
   "cell_type": "code",
   "execution_count": 22,
   "metadata": {},
   "outputs": [
    {
     "data": {
      "image/png": "[encoded data removed]",
      "text/plain": [
       "<Figure size 432x288 with 1 Axes>"
      ]
     },
     "metadata": {
      "needs_background": "light"
     },
     "output_type": "display_data"
    }
   ],
   "source": [
    "def get_long_str1(corpus):\n",
    "    result = ''\n",
    "    for char in corpus:\n",
    "        result += char\n",
    "    return result\n",
    "\n",
    "def get_long_str2(corpus):\n",
    "    result = []\n",
    "    for char in corpus:\n",
    "        result.append(char)\n",
    "    return ''.join(result)\n",
    "\n",
    "def get_long_str3(corpus):\n",
    "    return ''.join([char for char in corpus])\n",
    "\n",
    "def get_long_str4(corpus):\n",
    "    return ''.join(char for char in corpus)\n",
    "\n",
    "results = []\n",
    "functions = [get_long_str1, get_long_str2, get_long_str3, get_long_str4]\n",
    "lengths = [2**i for i in range(10, 25)]\n",
    "for i in range(4):\n",
    "    times = []\n",
    "    for length in lengths:\n",
    "        corpus = 'c' * length\n",
    "        start = time.time()\n",
    "        functions[i](corpus)\n",
    "        end = time.time()\n",
    "        elapsed = end - start\n",
    "        times.append(elapsed)\n",
    "    results.append(times)\n",
    "\n",
    "for i in range(len(results)):\n",
    "    plt.plot(lengths, results[i], label = str(i))\n",
    "plt.xlabel('corpus length')\n",
    "plt.ylabel('time/s')\n",
    "plt.legend()\n",
    "plt.show()"
   ]
  },
  {
   "cell_type": "markdown",
   "metadata": {},
   "source": [
    "**C-5.22** Develop an experiment to compare the relative efficiency of the extend\n",
    "method of Python’s list class versus using repeated calls to append to\n",
    "accomplish the equivalent task."
   ]
  },
  {
   "cell_type": "code",
   "execution_count": 26,
   "metadata": {},
   "outputs": [
    {
     "data": {
      "image/png": "[encoded data removed]",
      "text/plain": [
       "<Figure size 432x288 with 1 Axes>"
      ]
     },
     "metadata": {
      "needs_background": "light"
     },
     "output_type": "display_data"
    }
   ],
   "source": [
    "def get_long_list1(corpus):\n",
    "    result = []\n",
    "    for char in corpus:\n",
    "        result.extend([char])\n",
    "    return result\n",
    "\n",
    "def get_long_list2(corpus):\n",
    "    result = []\n",
    "    for char in corpus:\n",
    "        result.append(char)\n",
    "    return result\n",
    "\n",
    "results = []\n",
    "functions = [get_long_list1, get_long_list2]\n",
    "lengths = [2**i for i in range(10, 25)]\n",
    "for i in range(2):\n",
    "    times = []\n",
    "    for length in lengths:\n",
    "        corpus = [None] * length\n",
    "        start = time.time()\n",
    "        functions[i](corpus)\n",
    "        end = time.time()\n",
    "        elapsed = end - start\n",
    "        times.append(elapsed)\n",
    "    results.append(times)\n",
    "\n",
    "for i in range(len(results)):\n",
    "    plt.plot(lengths, results[i], label = str(i))\n",
    "plt.xlabel('corpus length')\n",
    "plt.ylabel('time/s')\n",
    "plt.legend()\n",
    "plt.show()"
   ]
  },
  {
   "cell_type": "markdown",
   "metadata": {},
   "source": [
    "**C-5.23** Based on the discussion of page 207, develop an experiment to compare\n",
    "the efficiency of Python’s list comprehension syntax versus the construction of a list by means of repeated calls to append."
   ]
  },
  {
   "cell_type": "code",
   "execution_count": 27,
   "metadata": {},
   "outputs": [
    {
     "data": {
      "image/png": "[encoded data removed]",
      "text/plain": [
       "<Figure size 432x288 with 1 Axes>"
      ]
     },
     "metadata": {
      "needs_background": "light"
     },
     "output_type": "display_data"
    }
   ],
   "source": [
    "def get_long_list2(corpus):\n",
    "    result = []\n",
    "    for char in corpus:\n",
    "        result.append(char)\n",
    "    return result\n",
    "\n",
    "def get_long_list3(corpus):\n",
    "    return [x for x in corpus]\n",
    "\n",
    "results = []\n",
    "functions = [get_long_list2, get_long_list3]\n",
    "lengths = [2**i for i in range(10, 25)]\n",
    "for i in range(2):\n",
    "    times = []\n",
    "    for length in lengths:\n",
    "        corpus = [None] * length\n",
    "        start = time.time()\n",
    "        functions[i](corpus)\n",
    "        end = time.time()\n",
    "        elapsed = end - start\n",
    "        times.append(elapsed)\n",
    "    results.append(times)\n",
    "\n",
    "for i in range(len(results)):\n",
    "    plt.plot(lengths, results[i], label = str(i))\n",
    "plt.xlabel('corpus length')\n",
    "plt.ylabel('time/s')\n",
    "plt.legend()\n",
    "plt.show()"
   ]
  },
  {
   "cell_type": "markdown",
   "metadata": {},
   "source": [
    "**C-5.24** Perform experiments to evaluate the efficiency of the `remove` method of\n",
    "Python’s list class, as we did for `insert` on page 205. Use known values so\n",
    "that all removals occur either at the beginning, middle, or end of the list.\n",
    "Report your results akin to Table 5.5."
   ]
  },
  {
   "cell_type": "code",
   "execution_count": 1,
   "metadata": {},
   "outputs": [
    {
     "name": "stdout",
     "output_type": "stream",
     "text": [
      "Removing from start of list\n",
      "N=100\n",
      "time taken: 0.0ms\n",
      "N=1000\n",
      "time taken: 0.0ms\n",
      "N=10000\n",
      "time taken: 0.8976221084594727ms\n",
      "N=100000\n",
      "time taken: 10.72577953338623ms\n",
      "N=1000000\n",
      "time taken: 152.2647352218628ms\n"
     ]
    }
   ],
   "source": [
    "import time\n",
    "\n",
    "print('Removing from start of list')\n",
    "for N in [10**i for i in range(2,7)]:\n",
    "    print('N={N}'.format(N=N))\n",
    "    data = [i for i in range(N)]\n",
    "    start = time.time()\n",
    "    for n in range(N):\n",
    "        data.remove(n)\n",
    "    end = time.time()\n",
    "    elapsed = (end - start)/N * 10**6\n",
    "    print('time taken: {elapsed}ms'.format(elapsed=elapsed))"
   ]
  },
  {
   "cell_type": "code",
   "execution_count": 30,
   "metadata": {},
   "outputs": [
    {
     "name": "stdout",
     "output_type": "stream",
     "text": [
      "Removing from middle of list\n",
      "N=100\n",
      "50\n",
      "51\n",
      "49\n",
      "52\n",
      "48\n",
      "53\n",
      "47\n",
      "54\n",
      "46\n",
      "55\n",
      "45\n",
      "56\n",
      "44\n",
      "57\n",
      "43\n",
      "58\n",
      "42\n",
      "59\n",
      "41\n",
      "60\n",
      "40\n",
      "61\n",
      "39\n",
      "62\n",
      "38\n",
      "63\n",
      "37\n",
      "64\n",
      "36\n",
      "65\n",
      "35\n",
      "66\n",
      "34\n",
      "67\n",
      "33\n",
      "68\n",
      "32\n",
      "69\n",
      "31\n",
      "70\n",
      "30\n",
      "71\n",
      "29\n",
      "72\n",
      "28\n",
      "73\n",
      "27\n",
      "74\n",
      "26\n",
      "75\n",
      "25\n",
      "76\n",
      "24\n",
      "77\n",
      "23\n",
      "78\n",
      "22\n",
      "79\n",
      "21\n",
      "80\n",
      "20\n",
      "81\n",
      "19\n",
      "82\n",
      "18\n",
      "83\n",
      "17\n",
      "84\n",
      "16\n",
      "85\n",
      "15\n",
      "86\n",
      "14\n",
      "87\n",
      "13\n",
      "88\n",
      "12\n",
      "89\n",
      "11\n",
      "90\n",
      "10\n",
      "91\n",
      "9\n",
      "92\n",
      "8\n",
      "93\n",
      "7\n",
      "94\n",
      "6\n",
      "95\n",
      "5\n",
      "96\n",
      "4\n",
      "97\n",
      "3\n",
      "98\n",
      "2\n",
      "99\n",
      "1\n",
      "time taken: 59.850215911865234ms\n"
     ]
    }
   ],
   "source": [
    "import time\n",
    "\n",
    "print('Removing from middle of list')\n",
    "for N in [10**i for i in range(2,3)]:\n",
    "    print('N={N}'.format(N=N))\n",
    "    data = [i for i in range(N)]\n",
    "    start = time.time()\n",
    "    counter = True\n",
    "    for n in [0] + [item for sublist in [[x]*2 for x in range(1,N//2)] for item in sublist]:\n",
    "        if n == 0:\n",
    "            print(N//2)\n",
    "            data.remove(N//2)\n",
    "        elif counter:\n",
    "            print(N//2-n)\n",
    "            data.remove(N//2-n)\n",
    "        else:\n",
    "            print(N//2+n)\n",
    "            data.remove(N//2+n)\n",
    "        counter = not counter\n",
    "    end = time.time()\n",
    "    elapsed = (end - start)/N * 10**6\n",
    "    print('time taken: {elapsed}ms'.format(elapsed=elapsed))"
   ]
  },
  {
   "cell_type": "code",
   "execution_count": 32,
   "metadata": {},
   "outputs": [
    {
     "name": "stdout",
     "output_type": "stream",
     "text": [
      "Removing from middle of list\n",
      "N=100\n",
      "time taken: 0.0ms\n",
      "N=1000\n",
      "time taken: 3.9889812469482426ms\n",
      "N=10000\n",
      "time taken: 34.68139171600342ms\n",
      "N=100000\n",
      "time taken: 363.2151484489441ms\n",
      "N=1000000\n"
     ]
    },
    {
     "ename": "KeyboardInterrupt",
     "evalue": "",
     "output_type": "error",
     "traceback": [
      "\u001b[1;31m---------------------------------------------------------------------------\u001b[0m",
      "\u001b[1;31mKeyboardInterrupt\u001b[0m                         Traceback (most recent call last)",
      "\u001b[1;32m<ipython-input-32-d9619b534848>\u001b[0m in \u001b[0;36m<module>\u001b[1;34m\u001b[0m\n\u001b[0;32m     14\u001b[0m         \u001b[1;32melse\u001b[0m\u001b[1;33m:\u001b[0m\u001b[1;33m\u001b[0m\u001b[1;33m\u001b[0m\u001b[0m\n\u001b[0;32m     15\u001b[0m             \u001b[0mdata\u001b[0m\u001b[1;33m.\u001b[0m\u001b[0mremove\u001b[0m\u001b[1;33m(\u001b[0m\u001b[0mN\u001b[0m\u001b[1;33m//\u001b[0m\u001b[1;36m2\u001b[0m\u001b[1;33m+\u001b[0m\u001b[0mn\u001b[0m\u001b[1;33m)\u001b[0m\u001b[1;33m\u001b[0m\u001b[1;33m\u001b[0m\u001b[0m\n\u001b[1;32m---> 16\u001b[1;33m         \u001b[0mcounter\u001b[0m \u001b[1;33m=\u001b[0m \u001b[1;32mnot\u001b[0m \u001b[0mcounter\u001b[0m\u001b[1;33m\u001b[0m\u001b[1;33m\u001b[0m\u001b[0m\n\u001b[0m\u001b[0;32m     17\u001b[0m     \u001b[0mend\u001b[0m \u001b[1;33m=\u001b[0m \u001b[0mtime\u001b[0m\u001b[1;33m.\u001b[0m\u001b[0mtime\u001b[0m\u001b[1;33m(\u001b[0m\u001b[1;33m)\u001b[0m\u001b[1;33m\u001b[0m\u001b[1;33m\u001b[0m\u001b[0m\n\u001b[0;32m     18\u001b[0m     \u001b[0melapsed\u001b[0m \u001b[1;33m=\u001b[0m \u001b[1;33m(\u001b[0m\u001b[0mend\u001b[0m \u001b[1;33m-\u001b[0m \u001b[0mstart\u001b[0m\u001b[1;33m)\u001b[0m\u001b[1;33m/\u001b[0m\u001b[0mN\u001b[0m \u001b[1;33m*\u001b[0m \u001b[1;36m10\u001b[0m\u001b[1;33m**\u001b[0m\u001b[1;36m6\u001b[0m\u001b[1;33m\u001b[0m\u001b[1;33m\u001b[0m\u001b[0m\n",
      "\u001b[1;31mKeyboardInterrupt\u001b[0m: "
     ]
    }
   ],
   "source": [
    "import time\n",
    "\n",
    "print('Removing from middle of list')\n",
    "for N in [10**i for i in range(2,6)]:\n",
    "    print('N={N}'.format(N=N))\n",
    "    data = [i for i in range(N)]\n",
    "    start = time.time()\n",
    "    counter = True\n",
    "    for n in [0] + [item for sublist in [[x]*2 for x in range(1,N//2)] for item in sublist]:\n",
    "        if n == 0:\n",
    "            data.remove(N//2)\n",
    "        elif counter:\n",
    "            data.remove(N//2-n)\n",
    "        else:\n",
    "            data.remove(N//2+n)\n",
    "        counter = not counter\n",
    "    end = time.time()\n",
    "    elapsed = (end - start)/N * 10**6\n",
    "    print('time taken: {elapsed}ms'.format(elapsed=elapsed))"
   ]
  },
  {
   "cell_type": "code",
   "execution_count": 34,
   "metadata": {},
   "outputs": [
    {
     "name": "stdout",
     "output_type": "stream",
     "text": [
      "Removing from end of list\n",
      "N=100\n",
      "time taken: 0.0ms\n",
      "N=1000\n",
      "time taken: 7.6541900634765625ms\n",
      "N=10000\n",
      "time taken: 70.16525268554688ms\n",
      "N=100000\n",
      "time taken: 719.6578073501587ms\n"
     ]
    }
   ],
   "source": [
    "import time\n",
    "\n",
    "print('Removing from end of list')\n",
    "for N in [10**i for i in range(2,6)]:\n",
    "    print('N={N}'.format(N=N))\n",
    "    data = [i for i in range(N)]\n",
    "    start = time.time()\n",
    "    for n in range(N-1,-1,-1):\n",
    "        data.remove(n)\n",
    "    end = time.time()\n",
    "    elapsed = (end - start)/N * 10**6\n",
    "    print('time taken: {elapsed}ms'.format(elapsed=elapsed))"
   ]
  },
  {
   "cell_type": "markdown",
   "metadata": {},
   "source": [
    "**C-5.25** The syntax `data.remove(value)` for Python list data removes only the first\n",
    "occurrence of element value from the list. Give an implementation of a\n",
    "function, with signature `remove_all(data, value)`, that removes all occurrences of value from the given list, such that the worst-case running time of the function is $O(n)$ on a list with $n$ elements. Not that it is not efficient\n",
    "enough in general to rely on repeated calls to `remove`.\n",
    "\n",
    "The runtime for repeatedly calling `remove` is $O(n\\cdot k)$ where $k$ is the number of occurences of `value` in the list. The worst case for is that `value` appears $n$ times in the list; this requires $n$ calls to `remove`, and so is $O(n^2)$ in total. To remove all occurences of `value` in $O(n)$, we need to remove/shift all elements into place at one go."
   ]
  },
  {
   "cell_type": "code",
   "execution_count": 128,
   "metadata": {},
   "outputs": [],
   "source": [
    "def remove_all(data, value):\n",
    "    n = len(data)\n",
    "    acc = [False for i in range(n)] # list for indices of occurences of value in data\n",
    "    for i in range(n): # O(n)\n",
    "        if data[i] == value:\n",
    "            acc[i] = True\n",
    "    indices = [i for i in range(n) if acc[i]] # O(n)\n",
    "    indices = [0] + indices + [n-1]\n",
    "#     print(indices)\n",
    "    offset = -1 # offset due to previous removal\n",
    "    for i in range(len(indices)-1): # walk the list in sections in O(n)\n",
    "        start = indices[i]\n",
    "        end = indices[i+1]\n",
    "#         print(start)\n",
    "#         print(end)\n",
    "        for k in range(start-offset, end-offset):\n",
    "#             print('k={k}'.format(k=k))\n",
    "            data[k] = data[k+1+offset]\n",
    "#         print(data)\n",
    "        offset += 1\n",
    "    for i in range(len(indices) - 2): # O(n)\n",
    "        data.pop()"
   ]
  },
  {
   "cell_type": "code",
   "execution_count": 129,
   "metadata": {},
   "outputs": [
    {
     "data": {
      "text/plain": [
       "True"
      ]
     },
     "execution_count": 129,
     "metadata": {},
     "output_type": "execute_result"
    }
   ],
   "source": [
    "def random_list():\n",
    "    n = random.randint(1, 100)\n",
    "    result = [0] * n\n",
    "    for i in range(n):\n",
    "        result[i] = random.randint(-10, 10)\n",
    "    return result\n",
    "\n",
    "def test():\n",
    "    for counter in range(50):\n",
    "        data = random_list()\n",
    "        value = data[0]\n",
    "        result = [x for x in data if x != value] # answer key\n",
    "        remove_all(data, value) # test\n",
    "        assert result == data\n",
    "    return True\n",
    "\n",
    "test()"
   ]
  },
  {
   "cell_type": "code",
   "execution_count": 130,
   "metadata": {},
   "outputs": [
    {
     "data": {
      "text/plain": [
       "[-10, 5, 4, 3, 6]"
      ]
     },
     "execution_count": 130,
     "metadata": {},
     "output_type": "execute_result"
    }
   ],
   "source": [
    "data = [-10,0,5,4,0,3,0,6]\n",
    "remove_all(data, 0)\n",
    "data"
   ]
  },
  {
   "cell_type": "markdown",
   "metadata": {},
   "source": [
    "**C-5.26** Let $B$ be an array of size $n \\geq 6$ containing integers from $1$ to $n−5$, inclusive, with exactly five repeated. Describe a good algorithm for finding the five integers in $B$ that are repeated."
   ]
  },
  {
   "cell_type": "code",
   "execution_count": 156,
   "metadata": {},
   "outputs": [],
   "source": [
    "def find_repeated(B):\n",
    "    \"\"\"Return a list of indices of the 5 repeated integers in B.\"\"\"\n",
    "    n = len(B)\n",
    "    arr = [0] * n\n",
    "    indices = []\n",
    "    repeated = None\n",
    "    for i in range(n):\n",
    "        if repeated: # repeated integer already found\n",
    "            if B[i] == repeated: # just continue walking thru B and record the indices of repeated\n",
    "                indices.append(i)\n",
    "        else: # find the repeated integer\n",
    "            if arr[B[i]] == 1:\n",
    "                repeated = B[i] # found the repeated integer\n",
    "                indices.append(i)\n",
    "            elif arr[B[i]] == 0:\n",
    "                arr[B[i]] += 1\n",
    "    for i in range(n): # walk thru B from the start again to find the first occurence of the repeated integer\n",
    "        if B[i] == repeated:\n",
    "            indices.append(i)\n",
    "            break # terminate upon finding the repeated integer\n",
    "    return indices"
   ]
  },
  {
   "cell_type": "code",
   "execution_count": 162,
   "metadata": {},
   "outputs": [
    {
     "data": {
      "text/plain": [
       "True"
      ]
     },
     "execution_count": 162,
     "metadata": {},
     "output_type": "execute_result"
    }
   ],
   "source": [
    "def test():\n",
    "    for counter in range(50):\n",
    "        x = random.randint(0, 100)\n",
    "        B = [i for i in range(95)] + [x] * 5\n",
    "        random.shuffle(B)\n",
    "        assert set(find_repeated(B)) == set([i for i in range(len(B)) if B[i] == x])\n",
    "    return True\n",
    "\n",
    "test()"
   ]
  },
  {
   "cell_type": "markdown",
   "metadata": {},
   "source": [
    "**C-5.27** Given a Python list `L` of $n$ positive integers, each represented with $k =\n",
    "\\text{ceil}(\\log n)+ 1$ bits, describe an $O(n)$-time method for finding a $k$-bit integer\n",
    "not in `L`.\n",
    "\n",
    "1. Initialize an array `arr` of 0s with length `max(L)`. Note that `max(L)` is at most $10^k \\leq 10^2\\cdot 10^{\\log n} = 10^2\\cdot 10^{\\log_2 n} = 10^2\\cdot 10^{\\log_{10} n / \\log_{10}2} = 10^{2-\\log_{10}2}n\\subseteq O(n)$. So this step is $O(n)$.\n",
    "2. Traverse `L` and for each `L[i]`, increment `arr[L[i]]` by 1. This step is $O(n)$.\n",
    "3. Traverse `arr` starting from the $10^{k-1}$ element. Return the index `i` of the first `arr[i]` that is 0. This is a $k$-bit integer not in `L`. This step is $O(n)$ by the same reasoning as in step 1.\n",
    "\n",
    "In total, this method is $O(3n)\\subseteq O(n)$."
   ]
  },
  {
   "cell_type": "code",
   "execution_count": 14,
   "metadata": {},
   "outputs": [],
   "source": [
    "def find_max(L):\n",
    "    maximum = L[0]\n",
    "    for x in L:\n",
    "        if x > maximum:\n",
    "            maximum = x\n",
    "    return maximum\n",
    "\n",
    "def find_not_in_list(L):\n",
    "    n = len(L)\n",
    "    k = math.ceil(math.log(n,2)) + 1\n",
    "    maxL = find_max(L)\n",
    "    arr = [0] * (maxL+1)\n",
    "    for i in range(n):\n",
    "        arr[L[i]] += 1\n",
    "    for i in range(10 ** (k-1), len(arr)):\n",
    "        if arr[i] == 0:\n",
    "            return i"
   ]
  },
  {
   "cell_type": "code",
   "execution_count": 15,
   "metadata": {
    "scrolled": true
   },
   "outputs": [
    {
     "data": {
      "text/plain": [
       "10002"
      ]
     },
     "execution_count": 15,
     "metadata": {},
     "output_type": "execute_result"
    }
   ],
   "source": [
    "L = [10000,23456,34567,45678,10001,10003,10203,45321,65433,10987]\n",
    "find_not_in_list(L)"
   ]
  },
  {
   "cell_type": "markdown",
   "metadata": {},
   "source": [
    "**C-5.28** Argue why any solution to the previous problem must run in $\\Omega(n)$ time.\n",
    "\n",
    "Traversing all elements in `L` is necessary (albeit insufficient) for making the judgement that a certain element is not in `L`."
   ]
  },
  {
   "cell_type": "markdown",
   "metadata": {},
   "source": [
    "**C-5.29** A useful operation in databases is the natural join. If we view a database\n",
    "as a list of ordered pairs of objects, then the natural join of databases $A$\n",
    "and $B$ is the list of all ordered triples $(x,y,z)$ such that the pair $(x,y)$ is in\n",
    "$A$ and the pair $(y,z)$ is in $B$. Describe and analyze an efficient algorithm\n",
    "for computing the natural join of a list $A$ of $n$ pairs and a list $B$ of $m$ pairs.\n",
    "\n",
    "Naive approach: Traverse all ordered pairs in $A$ and for each, traverse $B$ to find any match. This is $O(mn)$."
   ]
  },
  {
   "cell_type": "code",
   "execution_count": 18,
   "metadata": {},
   "outputs": [],
   "source": [
    "def join(A, B):\n",
    "    results = []\n",
    "    for rowA in A:\n",
    "        for rowB in B:\n",
    "            if rowA[1] == rowB[0]:\n",
    "                results.append(rowA + (rowB[1],))\n",
    "    return results"
   ]
  },
  {
   "cell_type": "code",
   "execution_count": 21,
   "metadata": {},
   "outputs": [
    {
     "data": {
      "text/plain": [
       "[(1, 2, 1), (1, 3, 1), (2, 4, 1), (2, 5, 1), (2, 5, 2)]"
      ]
     },
     "execution_count": 21,
     "metadata": {},
     "output_type": "execute_result"
    }
   ],
   "source": [
    "A = [(1,2), (1,3), (2, 4), (2,5)]\n",
    "B = [(2, 1), (3,1), (4,1), (6,7), (5,1), (5,2)]\n",
    "join(A,B)"
   ]
  },
  {
   "cell_type": "markdown",
   "metadata": {},
   "source": [
    "Alternatively, sort $A$ and $B$ first in $O(n\\log n + m\\log m)$ time, then \"merge\" them in $O(m+n)$ time (https://www.quora.com/What-is-time-complexity-of-Join-algorithm-in-Database)."
   ]
  },
  {
   "cell_type": "markdown",
   "metadata": {},
   "source": [
    "**C-5.30** When Bob wants to send Alice a message $M$ on the Internet, he breaks $M$\n",
    "into $n$ data packets, numbers the packets consecutively, and injects them\n",
    "into the network. When the packets arrive at Alice’s computer, they may\n",
    "be out of order, so Alice must assemble the sequence of $n$ packets in order\n",
    "before she can be sure she has the entire message. Describe an efficient\n",
    "scheme for Alice to do this, assuming that she knows the value of $n$. What\n",
    "is the running time of this algorithm?\n",
    "\n",
    "Insertion sort: Always insert the new packet in the correct order, shifting received packets if needed.\n",
    "\n",
    "Best case $O(n)$ if packets come in the correct order, worst case $O(n^2)$ if packets come in the reverse order."
   ]
  },
  {
   "cell_type": "markdown",
   "metadata": {},
   "source": [
    "**C-5.31** Describe a way to use recursion to add all the numbers in an $n \\times n$ data\n",
    "set, represented as a list of lists."
   ]
  },
  {
   "cell_type": "code",
   "execution_count": 34,
   "metadata": {},
   "outputs": [],
   "source": [
    "def add_data_recursive(N):\n",
    "    if len(N) == 0:\n",
    "        return 0\n",
    "    elif len(N) == 1:\n",
    "        return sum(N[0])\n",
    "    else:\n",
    "        return sum(N[0]) + add_data_recursive(N[1:])"
   ]
  },
  {
   "cell_type": "code",
   "execution_count": 36,
   "metadata": {},
   "outputs": [
    {
     "data": {
      "text/plain": [
       "True"
      ]
     },
     "execution_count": 36,
     "metadata": {},
     "output_type": "execute_result"
    }
   ],
   "source": [
    "def random_list(n):\n",
    "    result = [0] * n\n",
    "    for i in range(n):\n",
    "        result[i] = random.randint(-1000000, 1000000)\n",
    "    return result\n",
    "\n",
    "def test():\n",
    "    for counter in range(50):\n",
    "        N = [random_list(100) for i in range(100)]\n",
    "        assert sum(sum(row) for row in N) == add_data_recursive(N)\n",
    "    return True\n",
    "    \n",
    "test()"
   ]
  },
  {
   "cell_type": "markdown",
   "metadata": {},
   "source": [
    "#### Projects\n",
    "\n",
    "**P-5.32** Write a Python function that takes two three-dimensional numeric data\n",
    "sets and adds them componentwise."
   ]
  },
  {
   "cell_type": "code",
   "execution_count": 61,
   "metadata": {},
   "outputs": [],
   "source": [
    "def add_3D(A, B):\n",
    "    return [[[(A[i][j][k] + B[i][j][k]) for k in range(len(A[i][j]))] for j in range(len(A[i]))] for i in range(len(A))]             "
   ]
  },
  {
   "cell_type": "code",
   "execution_count": 63,
   "metadata": {},
   "outputs": [
    {
     "data": {
      "text/plain": [
       "True"
      ]
     },
     "execution_count": 63,
     "metadata": {},
     "output_type": "execute_result"
    }
   ],
   "source": [
    "def random_list(n):\n",
    "    result = [0] * n\n",
    "    for i in range(n):\n",
    "        result[i] = random.randint(-100,100)\n",
    "    return result\n",
    "\n",
    "def test():\n",
    "    for counter in range(50):\n",
    "        A = [[random_list(3) for i in range(4)] for i in range(5)]\n",
    "        B = [[random_list(3) for i in range(4)] for i in range(5)]\n",
    "        C = add_3D(A,B)\n",
    "        for i in range(len(A)):\n",
    "            for j in range(len(A[i])):\n",
    "                for k in range(len(A[i][j])):\n",
    "                    assert A[i][j][k] + B[i][j][k] == C[i][j][k]\n",
    "    return True\n",
    "    \n",
    "test()"
   ]
  },
  {
   "cell_type": "markdown",
   "metadata": {},
   "source": [
    "**P-5.33** Write a Python program for a matrix class that can add and multiply two-dimensional arrays of numbers, assuming the dimensions agree appropriately for the operation."
   ]
  },
  {
   "cell_type": "code",
   "execution_count": 121,
   "metadata": {},
   "outputs": [],
   "source": [
    "class Matrix:\n",
    "    def __init__(self, array):\n",
    "        self._array = array\n",
    "        self._length = len(array)\n",
    "        self._width = len(array[0])\n",
    "    \n",
    "    def __getitem__(self, index):\n",
    "        return self._array[index[0]][index[1]]\n",
    "    \n",
    "    def __setitem__(self, index, value):\n",
    "        self._array[index[0]][index[1]] = value\n",
    "        \n",
    "    def add(self, other):\n",
    "        assert self._length == other._length and self._width == other._width\n",
    "        return [[self[i,j] + other[i,j] for j in range(self._width)] for j in range(self._length)]\n",
    "    \n",
    "    def multiply(self, other):\n",
    "        assert self._length == other._width and self._width == other._length\n",
    "        return [[sum(self[j,k] * other[k,i] for k in range(self._width)) for i in range(self._length)] for j in range(self._length)]"
   ]
  },
  {
   "cell_type": "code",
   "execution_count": 122,
   "metadata": {},
   "outputs": [
    {
     "data": {
      "text/plain": [
       "[[3, 5], [9, 11]]"
      ]
     },
     "execution_count": 122,
     "metadata": {},
     "output_type": "execute_result"
    }
   ],
   "source": [
    "A = Matrix([[1,2,3],[4,5,6]])\n",
    "B = Matrix([[1,0],[1,1],[0,1]])\n",
    "A.multiply(B)"
   ]
  },
  {
   "cell_type": "markdown",
   "metadata": {},
   "source": [
    "**P-5.34** Write a program that can perform the Caesar cipher for English messages\n",
    "that include both upper- and lowercase characters."
   ]
  },
  {
   "cell_type": "code",
   "execution_count": 148,
   "metadata": {},
   "outputs": [
    {
     "name": "stdout",
     "output_type": "stream",
     "text": [
      "Secret:  Wkh Hdjoh kdv odqghg\n",
      "Message:  The Eagle has landed\n"
     ]
    }
   ],
   "source": [
    "class CaesarCipher:\n",
    "    \n",
    "    def __init__(self, shift):\n",
    "        self._forward = ''.join([chr((k + shift) % 26 + ord('A')) for k in range(26)] + [chr((k + shift) % 26 + ord('a')) for k in range(26)])\n",
    "        self._backward = ''.join([chr((k - shift) % 26 + ord('A')) for k in range(26)] + [chr((k - shift) % 26 + ord('a')) for k in range(26)])\n",
    "    \n",
    "    def encrypt(self, message):\n",
    "        return self._transform(message, self._forward)\n",
    "    \n",
    "    def decrypt(self, message):\n",
    "        return self._transform(message, self._backward)\n",
    "    \n",
    "    def _transform(self, original, code):\n",
    "        msg = list(original)\n",
    "        for k in range(len(msg)):\n",
    "            if msg[k].isupper():\n",
    "                j = ord(msg[k]) - ord('A') # find position of the letter to replace\n",
    "                msg[k] = code[j]\n",
    "            elif msg[k].islower():\n",
    "                j = ord(msg[k]) - ord('a') + 26\n",
    "                msg[k] = code[j]\n",
    "        return ''.join(msg)\n",
    "    \n",
    "def test():\n",
    "    cipher = CaesarCipher(3)\n",
    "    msg = 'The Eagle has landed'\n",
    "    coded = cipher.encrypt(msg)\n",
    "    print('Secret: ', coded)\n",
    "    answer = cipher.decrypt(coded)\n",
    "    print('Message: ', answer)\n",
    "\n",
    "test()"
   ]
  },
  {
   "cell_type": "markdown",
   "metadata": {},
   "source": [
    "**P-5.35** Implement a class, `SubstitutionCipher`, with a constructor that takes a\n",
    "string with the 26 uppercase letters in an arbitrary order and uses that for\n",
    "the forward mapping for encryption (akin to the `self._forward` string in\n",
    "our `CaesarCipher` class of Code Fragment 5.11). You should derive the\n",
    "backward mapping from the forward version."
   ]
  },
  {
   "cell_type": "code",
   "execution_count": 185,
   "metadata": {},
   "outputs": [],
   "source": [
    "class SubstitutionCipher:\n",
    "    \n",
    "    def __init__(self, forward):\n",
    "        self._forward = forward\n",
    "        self._alphabet = [chr(i+ord('A')) for i in range(26)]\n",
    "        backward = [None] * 26\n",
    "        for i in range(26):\n",
    "            currLetter = self._alphabet[i]\n",
    "            for j in range(26):\n",
    "                if forward[j] == currLetter:\n",
    "                    backward[i] = self._alphabet[j]\n",
    "        self._backward = ''.join(backward)\n",
    "    \n",
    "    def encrypt(self, message):\n",
    "        return self._transform(message, self._forward)\n",
    "    \n",
    "    def decrypt(self, message):\n",
    "        return self._transform(message, self._backward)\n",
    "    \n",
    "    def _transform(self, original, code):\n",
    "        msg = list(original)\n",
    "        for k in range(len(msg)):\n",
    "            if msg[k].isupper():\n",
    "                j = ord(msg[k]) - ord('A') # find position of the letter to replace\n",
    "                msg[k] = code[j]\n",
    "                msg[k] = code[j]\n",
    "        return ''.join(msg)"
   ]
  },
  {
   "cell_type": "code",
   "execution_count": 186,
   "metadata": {},
   "outputs": [
    {
     "name": "stdout",
     "output_type": "stream",
     "text": [
      "Secret:  UIF FBHMF IBT MBOEFE\n",
      "Message:  THE EAGLE HAS LANDED\n"
     ]
    }
   ],
   "source": [
    "def test():\n",
    "    cipher = SubstitutionCipher('BCDEFGHIJKLMNOPQRSTUVWXYZA')\n",
    "    msg = 'THE EAGLE HAS LANDED'\n",
    "    coded = cipher.encrypt(msg)\n",
    "    print('Secret: ', coded)\n",
    "    answer = cipher.decrypt(coded)\n",
    "    print('Message: ', answer)\n",
    "\n",
    "test()"
   ]
  },
  {
   "cell_type": "markdown",
   "metadata": {},
   "source": [
    "**P-5.36** Redesign the CaesarCipher class as a subclass of the `SubstitutionCipher`\n",
    "from the previous problem."
   ]
  },
  {
   "cell_type": "code",
   "execution_count": 187,
   "metadata": {},
   "outputs": [],
   "source": [
    "class CaesarCipher(SubstitutionCipher):\n",
    "    def __init__(self, shift):\n",
    "        forward = ''.join([chr((k + shift) % 26 + ord('A')) for k in range(26)])\n",
    "        super().__init__(forward)"
   ]
  },
  {
   "cell_type": "code",
   "execution_count": 188,
   "metadata": {},
   "outputs": [
    {
     "name": "stdout",
     "output_type": "stream",
     "text": [
      "Secret:  WKH HDJOH KDV ODQGHG\n",
      "Message:  THE EAGLE HAS LANDED\n"
     ]
    }
   ],
   "source": [
    "def test():\n",
    "    cipher = CaesarCipher(3)\n",
    "    msg = 'THE EAGLE HAS LANDED'\n",
    "    coded = cipher.encrypt(msg)\n",
    "    print('Secret: ', coded)\n",
    "    answer = cipher.decrypt(coded)\n",
    "    print('Message: ', answer)\n",
    "\n",
    "test()"
   ]
  },
  {
   "cell_type": "markdown",
   "metadata": {},
   "source": [
    "**P-5.37** Design a `RandomCipher` class as a subclass of the `SubstitutionCipher`\n",
    "from Exercise P-5.35, so that each instance of the class relies on a random\n",
    "permutation of letters for its mapping."
   ]
  },
  {
   "cell_type": "code",
   "execution_count": 189,
   "metadata": {},
   "outputs": [],
   "source": [
    "class RandomCipher(SubstitutionCipher):\n",
    "    def __init__(self):\n",
    "        alphabet = [chr(i+ord('A')) for i in range(26)]\n",
    "        random.shuffle(alphabet)\n",
    "        super().__init__(alphabet)"
   ]
  },
  {
   "cell_type": "code",
   "execution_count": 191,
   "metadata": {},
   "outputs": [
    {
     "name": "stdout",
     "output_type": "stream",
     "text": [
      "Secret:  KOU UXPNU OXY NXQSUS\n",
      "Message:  THE EAGLE HAS LANDED\n",
      "Secret:  QHD DTXKD HTN KTJFDF\n",
      "Message:  THE EAGLE HAS LANDED\n",
      "Secret:  NJG GRTQG JRO QRDPGP\n",
      "Message:  THE EAGLE HAS LANDED\n",
      "Secret:  NBQ QWAXQ BWC XWKUQU\n",
      "Message:  THE EAGLE HAS LANDED\n",
      "Secret:  TBG GHYOG BHM OHRSGS\n",
      "Message:  THE EAGLE HAS LANDED\n"
     ]
    }
   ],
   "source": [
    "def test():\n",
    "    for counter in range(5):\n",
    "        cipher = RandomCipher()\n",
    "        msg = 'THE EAGLE HAS LANDED'\n",
    "        coded = cipher.encrypt(msg)\n",
    "        print('Secret: ', coded)\n",
    "        answer = cipher.decrypt(coded)\n",
    "        print('Message: ', answer)\n",
    "\n",
    "test()"
   ]
  }
 ],
 "metadata": {
  "kernelspec": {
   "display_name": "Python 3",
   "language": "python",
   "name": "python3"
  },
  "language_info": {
   "codemirror_mode": {
    "name": "ipython",
    "version": 3
   },
   "file_extension": ".py",
   "mimetype": "text/x-python",
   "name": "python",
   "nbconvert_exporter": "python",
   "pygments_lexer": "ipython3",
   "version": "3.7.3"
  },
  "toc": {
   "base_numbering": 1,
   "nav_menu": {},
   "number_sections": true,
   "sideBar": true,
   "skip_h1_title": false,
   "title_cell": "Table of Contents",
   "title_sidebar": "Contents",
   "toc_cell": false,
   "toc_position": {
    "height": "calc(100% - 180px)",
    "left": "10px",
    "top": "150px",
    "width": "164.977px"
   },
   "toc_section_display": true,
   "toc_window_display": true
  }
 },
 "nbformat": 4,
 "nbformat_minor": 2
}
