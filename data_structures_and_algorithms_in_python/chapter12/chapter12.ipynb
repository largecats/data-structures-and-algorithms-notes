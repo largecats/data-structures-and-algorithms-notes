{
 "cells": [
  {
   "cell_type": "markdown",
   "metadata": {},
   "source": [
    "Reading notes and partial solutions to [Data Structures and Algorithms in Python](https://blackwells.co.uk/bookshop/product/9781118290279?gC=f177369a3b&gclid=Cj0KCQjwhJrqBRDZARIsALhp1WTBIyoxeQGXedlVy80vsglvFbNkVf7jTP0Z0zXEIP87lfqbtb4_diYaAr8dEALw_wcB)."
   ]
  },
  {
   "cell_type": "code",
   "execution_count": 7,
   "metadata": {},
   "outputs": [],
   "source": [
    "import random"
   ]
  },
  {
   "cell_type": "code",
   "execution_count": 3,
   "metadata": {},
   "outputs": [],
   "source": [
    "import sys\n",
    "sys.path.append(\"..\")\n",
    "from chapter7.linked_queue import LinkedQueue"
   ]
  },
  {
   "cell_type": "markdown",
   "metadata": {},
   "source": [
    "# Sorting and Selection\n",
    "\n",
    "## Sorting\n",
    "\n",
    "### Merge-Sort"
   ]
  },
  {
   "cell_type": "code",
   "execution_count": 1,
   "metadata": {},
   "outputs": [],
   "source": [
    "def merge(S1, S2, S):\n",
    "    \"\"\"Merge two sorted lists S1, S2 into sorted list S.\"\"\"\n",
    "    i = j = k = 0 # pointers for S1, S2, S\n",
    "    while i < len(S1) and j < len(S2):\n",
    "        if S1[i] < S2[j]:\n",
    "            S[k] = S1[i]\n",
    "            i += 1\n",
    "        else:\n",
    "            S[k] = S2[j]\n",
    "            j += 1\n",
    "        k += 1\n",
    "    while i < len(S1):\n",
    "        S[k] = S1[i]\n",
    "        k, i = k + 1, i + 1\n",
    "    while j < len(S2):\n",
    "        S[k] = S2[j]\n",
    "        k, j = k + 1, j + 1"
   ]
  },
  {
   "cell_type": "code",
   "execution_count": 2,
   "metadata": {},
   "outputs": [],
   "source": [
    "def merge_sort(S):\n",
    "    \"\"\"Sort the elements of Python list S using the merge-sort algorithm.\"\"\"\n",
    "    n = len(S)\n",
    "    if n < 2:\n",
    "        return\n",
    "    mid = n // 2\n",
    "    S1 = S[0:mid]\n",
    "    S2 = S[mid:n]\n",
    "    merge_sort(S1)\n",
    "    merge_sort(S2)\n",
    "    merge(S1, S2, S)"
   ]
  },
  {
   "cell_type": "markdown",
   "metadata": {},
   "source": [
    "### Quick-Sort"
   ]
  },
  {
   "cell_type": "code",
   "execution_count": 5,
   "metadata": {},
   "outputs": [],
   "source": [
    "def quick_sort(S):\n",
    "    \"\"\"Sort the elements of queue S using the quick-sort algorithm.\"\"\"\n",
    "    n = len(S)\n",
    "    if n < 2:\n",
    "        return\n",
    "    p = S.first() # pivot\n",
    "    L = LinkedQueue() # elements < pivot\n",
    "    E = LinkedQueue() # elements = pivot\n",
    "    G = LinkedQueue() # elements > pivot\n",
    "    while not S.is_empty():\n",
    "        if S.first() < p:\n",
    "            L.enqueue(S.dequeue())\n",
    "        elif S.first() > p:\n",
    "            G.enqueue(S.dequeue())\n",
    "        else:\n",
    "            E.enqueue(S.dequeue())\n",
    "    quick_sort(L)\n",
    "    quick_sort(G)\n",
    "    while not L.is_empty():\n",
    "        S.enqueue(L.dequeue())\n",
    "    while not E.is_empty():\n",
    "        S.enqueue(E.dequeue())\n",
    "    while not G.is_empty():\n",
    "        S.enqueue(E.dequeue())"
   ]
  },
  {
   "cell_type": "code",
   "execution_count": 6,
   "metadata": {},
   "outputs": [],
   "source": [
    "def inplace_quick_sort(S, a, b):\n",
    "    \"\"\"Sort S[a:b] using quick-sort.\"\"\"\n",
    "    if a >= b:\n",
    "        return\n",
    "    pivot = S[b]\n",
    "    left = a # scan rightward\n",
    "    right = b - 1 # scan leftward\n",
    "    while left <= right:\n",
    "        while left <= right and S[left] < pivot:\n",
    "            left += 1\n",
    "        while left <= right and S[right] > pivot:\n",
    "            right -= 1\n",
    "        if left <= right:\n",
    "            S[left], S[right] = S[right], S[left] # swap\n",
    "            left, right = left + 1, right - 1\n",
    "    S[left], S[b] = S[b], S[left] # put pivot in final place\n",
    "    inplace_quick_sort(S, a, left - 1)\n",
    "    inplace_quick_sort(S, left + 1, b)"
   ]
  },
  {
   "cell_type": "markdown",
   "metadata": {},
   "source": [
    "## Selection"
   ]
  },
  {
   "cell_type": "code",
   "execution_count": null,
   "metadata": {},
   "outputs": [],
   "source": [
    "def quick_select(S, k):\n",
    "    \"\"\"Return the kth smallset element of S.\"\"\"\n",
    "    if len(S) == 1:\n",
    "        return S[0]\n",
    "    pivot = random.choice(S)\n",
    "    L = [x for x in S if x < pivot]\n",
    "    E = [x for x in S if x == pivot]\n",
    "    G = [x for x in S if x > pivot]\n",
    "    if k <= len(L):\n",
    "        return quick_select(L, k) # k is in L\n",
    "    elif k <= len(L) + len(E):\n",
    "        return pivot\n",
    "    else:\n",
    "        j = k - len(L) - len(E)\n",
    "        return quick_select(G, j) # kth smallset in S is jth's smallest in G"
   ]
  }
 ],
 "metadata": {
  "kernelspec": {
   "display_name": "Python 3",
   "language": "python",
   "name": "python3"
  },
  "language_info": {
   "codemirror_mode": {
    "name": "ipython",
    "version": 3
   },
   "file_extension": ".py",
   "mimetype": "text/x-python",
   "name": "python",
   "nbconvert_exporter": "python",
   "pygments_lexer": "ipython3",
   "version": "3.8.3"
  },
  "toc": {
   "base_numbering": 1,
   "nav_menu": {},
   "number_sections": true,
   "sideBar": true,
   "skip_h1_title": false,
   "title_cell": "Table of Contents",
   "title_sidebar": "Contents",
   "toc_cell": false,
   "toc_position": {},
   "toc_section_display": true,
   "toc_window_display": true
  }
 },
 "nbformat": 4,
 "nbformat_minor": 4
}
