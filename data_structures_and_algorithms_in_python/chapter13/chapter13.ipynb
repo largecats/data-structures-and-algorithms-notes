{
 "cells": [
  {
   "cell_type": "markdown",
   "metadata": {},
   "source": [
    "Reading notes and partial solutions to [Data Structures and Algorithms in Python](https://blackwells.co.uk/bookshop/product/9781118290279?gC=f177369a3b&gclid=Cj0KCQjwhJrqBRDZARIsALhp1WTBIyoxeQGXedlVy80vsglvFbNkVf7jTP0Z0zXEIP87lfqbtb4_diYaAr8dEALw_wcB)."
   ]
  },
  {
   "cell_type": "markdown",
   "metadata": {},
   "source": [
    "# Text Processiong\n",
    "\n",
    "## Pattern Matching\n",
    "\n",
    "### Brute Force"
   ]
  },
  {
   "cell_type": "code",
   "execution_count": 1,
   "metadata": {},
   "outputs": [],
   "source": [
    "def find_brute(T, P):\n",
    "    \"\"\"Return the lowest index of T at which substring P begins.\"\"\"\n",
    "    n, m = len(T), len(P)\n",
    "    for i in range(n-m+1): # possible starting indices\n",
    "        k = 0\n",
    "        while k < m and T[i+k] == P[k]:\n",
    "            k += 1\n",
    "        if k == m:\n",
    "            return i\n",
    "    return -1"
   ]
  },
  {
   "cell_type": "markdown",
   "metadata": {},
   "source": [
    "### Boyer-Moore"
   ]
  },
  {
   "cell_type": "code",
   "execution_count": 2,
   "metadata": {},
   "outputs": [],
   "source": [
    "def find_boyer_moore(T, P):\n",
    "    \"\"\"Return the lowest index of T at which substring P begins.\"\"\"\n",
    "    n, m = len(T), len(P)\n",
    "    if m == 0:\n",
    "        return 0\n",
    "    last = {}\n",
    "    for k in range(m):\n",
    "        last[P[k]] = k # record last occurence of P[k] in P\n",
    "    i = m - 1 # index for text T\n",
    "    k = m - 1 # index for pattern P\n",
    "    while i < n:\n",
    "        if T[i] == P[k]: # if there's a match\n",
    "            if k == 0:\n",
    "                return i # found pattern P starting from i\n",
    "            else:\n",
    "                i -= 1 # check backwards\n",
    "                k -= 1\n",
    "        else: # mismatch\n",
    "            j = last.get(T[i], -1) # get last occurence of T[i] in T\n",
    "            i += m - min(k, j+1) # character jump, either jump k or j+1 depending on where the last occurence is\n",
    "            k = m - 1 # restart at end of patterm P\n",
    "    return -1"
   ]
  },
  {
   "cell_type": "markdown",
   "metadata": {},
   "source": [
    "### Knuth-Morris-Pratt (KMP)"
   ]
  },
  {
   "cell_type": "code",
   "execution_count": null,
   "metadata": {},
   "outputs": [],
   "source": [
    "def compute_kmp_fail(P):\n",
    "    \"\"\"Returns KMP's fail list for pattern P containing lengths of longest reuse.\"\"\"\n",
    "    m = len(P)\n",
    "    fail = [0] * m\n",
    "    j = 1 # probing index\n",
    "    k = 0 # index for matches\n",
    "    while j < m:\n",
    "        if P[j] == P[k]:\n",
    "            fail[j] = k + 1 # tail exclusive syntax\n",
    "            j, k = j + 1, k + 1\n",
    "        elif k > 0:\n",
    "            k = fail[k-1] # k follows a matching prefix\n",
    "        else:\n",
    "            j += 1\n",
    "    return fail"
   ]
  },
  {
   "cell_type": "code",
   "execution_count": null,
   "metadata": {},
   "outputs": [],
   "source": [
    "def find_kmp(T, P):\n",
    "    \"\"\"Return the lowest index of T at which substring P begins (or else -1).\"\"\"\n",
    "    n, m = len(T), len(P)\n",
    "    if m == 0:\n",
    "        return 0\n",
    "    fail = compute_kmp_fail(P)\n",
    "    j = 0 # index for text T\n",
    "    k = 0 # index for pattern P\n",
    "    while j < n:\n",
    "        if T[j] == P[k]:\n",
    "            if k == m - 1: # match is complete\n",
    "                return j - m + 1\n",
    "            else:\n",
    "                j += 1\n",
    "                k += 1\n",
    "        elif k > 0: # mismatch\n",
    "            k = fail[k-1] # reuse\n",
    "        else:\n",
    "            j += 1\n",
    "    return -1"
   ]
  }
 ],
 "metadata": {
  "kernelspec": {
   "display_name": "Python 3",
   "language": "python",
   "name": "python3"
  },
  "language_info": {
   "codemirror_mode": {
    "name": "ipython",
    "version": 3
   },
   "file_extension": ".py",
   "mimetype": "text/x-python",
   "name": "python",
   "nbconvert_exporter": "python",
   "pygments_lexer": "ipython3",
   "version": "3.8.3"
  },
  "toc": {
   "base_numbering": 1,
   "nav_menu": {},
   "number_sections": true,
   "sideBar": true,
   "skip_h1_title": false,
   "title_cell": "Table of Contents",
   "title_sidebar": "Contents",
   "toc_cell": false,
   "toc_position": {},
   "toc_section_display": true,
   "toc_window_display": true
  }
 },
 "nbformat": 4,
 "nbformat_minor": 4
}
